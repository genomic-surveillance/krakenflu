{
 "cells": [
  {
   "cell_type": "markdown",
   "id": "508d71e8-b2b7-47a7-8b92-79ff13e76cc3",
   "metadata": {},
   "source": [
    "# Build custom databases with segment flu genomes using kraken_flu utility\n",
    "A new utilty [kraken_flu](https://gitlab.internal.sanger.ac.uk/malariagen1/misc_utils/kraken_flu) was created to generate Kraken2 databases with segmented flu genomes from any set of input files (either from kraken2 or directly from NCBI).\n",
    "\n",
    "The tool peforms two tasks:\n",
    "1. Fiter influenza genomes to keep only those that have 8 full-length segments\n",
    "2. Create a reorganisee taxonomy with new taxa for segments of the influenza A viruses\n",
    "\n",
    "This notebook builds a complete database with NCBI RefSeq plus the NCBI Influenza resource."
   ]
  },
  {
   "cell_type": "markdown",
   "id": "3420f404-e180-4434-8c21-233628b0ca41",
   "metadata": {},
   "source": [
    "## directory paths and names"
   ]
  },
  {
   "cell_type": "code",
   "execution_count": 9,
   "id": "591263f1-d3d5-40a8-bf12-7e0ebaaebde3",
   "metadata": {},
   "outputs": [],
   "source": [
    "export DB_NAME=refseq_ncbiFlu_022124\n",
    "export BASE_DIR=/lustre/scratch126/gsu/team112/personal/fs5/rvi_dev/krakenDBs/kraken_flu/\n",
    "\n",
    "# taxonomy data is universal and ideally reused for every DB we build, so the direcotry is not specific to this DB\n",
    "export TAX_PATH=${BASE_DIR}/downloads/taxonomy_download/\n",
    "\n",
    "export LIB_PATH=${BASE_DIR}/downloads/sequence_download/${DB_NAME}/\n",
    "\n",
    "export DB_PREP_DIR=${BASE_DIR}/db_prep/${DB_NAME}/\n",
    "export DB_PATH=${BASE_DIR}/databases/${DB_NAME}"
   ]
  },
  {
   "cell_type": "code",
   "execution_count": 10,
   "id": "6b2831f5-3453-4bdb-ab0d-d915cce52e44",
   "metadata": {},
   "outputs": [],
   "source": [
    "mkdir -p ${BASE_DIR}\n",
    "mkdir -p ${TAX_PATH}\n",
    "mkdir -p ${LIB_PATH}\n",
    "mkdir -p ${DB_PREP_DIR}\n",
    "mkdir -p ${DB_PATH}"
   ]
  },
  {
   "cell_type": "markdown",
   "id": "91dc006e-b548-4b97-8bb0-5d6fdfea43d0",
   "metadata": {},
   "source": [
    "## install the kraken_flu tool\n",
    "The tool can be installed from local gitlab. Creating a venv for it."
   ]
  },
  {
   "cell_type": "code",
   "execution_count": 1,
   "id": "e1a43982-5fee-4733-897a-6dcf975fab08",
   "metadata": {},
   "outputs": [],
   "source": [
    "python3 -m venv ~/kraken_flu"
   ]
  },
  {
   "cell_type": "markdown",
   "id": "597890d0-af3e-488b-b04f-f6a435be5545",
   "metadata": {},
   "source": [
    "___This version is not yet in main branch, checking out latest commit in dev branch___"
   ]
  },
  {
   "cell_type": "code",
   "execution_count": 1,
   "id": "019a0564-3ef1-443c-a64d-83fbed81d4bc",
   "metadata": {},
   "outputs": [
    {
     "name": "stdout",
     "output_type": "stream",
     "text": [
      "Collecting kraken_flu@ git+ssh://****@gitlab.internal.sanger.ac.uk/malariagen1/misc_utils/kraken_flu.git@0a3cfe98d8f3ab09fb6a799b54e80cbed254f1c8\n",
      "  Cloning ssh://****@gitlab.internal.sanger.ac.uk/malariagen1/misc_utils/kraken_flu.git (to revision 0a3cfe98d8f3ab09fb6a799b54e80cbed254f1c8) to /tmp/pip-install-_pkhzbq8/kraken-flu_b3f7796379d44bc0bcde16eb1ef3d101\n",
      "  Running command git clone --filter=blob:none --quiet 'ssh://****@gitlab.internal.sanger.ac.uk/malariagen1/misc_utils/kraken_flu.git' /tmp/pip-install-_pkhzbq8/kraken-flu_b3f7796379d44bc0bcde16eb1ef3d101\n",
      "  Running command git rev-parse -q --verify 'sha^0a3cfe98d8f3ab09fb6a799b54e80cbed254f1c8'\n",
      "  Running command git fetch -q 'ssh://****@gitlab.internal.sanger.ac.uk/malariagen1/misc_utils/kraken_flu.git' 0a3cfe98d8f3ab09fb6a799b54e80cbed254f1c8\n",
      "  Running command git checkout -q 0a3cfe98d8f3ab09fb6a799b54e80cbed254f1c8\n",
      "  Resolved ssh://****@gitlab.internal.sanger.ac.uk/malariagen1/misc_utils/kraken_flu.git to commit 0a3cfe98d8f3ab09fb6a799b54e80cbed254f1c8\n",
      "  Installing build dependencies ... \u001b[?25ldone\n",
      "\u001b[?25h  Getting requirements to build wheel ... \u001b[?25ldone\n",
      "\u001b[?25h  Preparing metadata (pyproject.toml) ... \u001b[?25ldone\n",
      "\u001b[?25hRequirement already satisfied: pytest>=6.2.2 in /nfs/users/nfs_f/fs5/kraken_flu/lib/python3.11/site-packages (from kraken_flu@ git+ssh://git@gitlab.internal.sanger.ac.uk/malariagen1/misc_utils/kraken_flu.git@0a3cfe98d8f3ab09fb6a799b54e80cbed254f1c8) (7.4.3)\n",
      "Requirement already satisfied: importlib-resources>=5.1.0 in /nfs/users/nfs_f/fs5/kraken_flu/lib/python3.11/site-packages (from kraken_flu@ git+ssh://git@gitlab.internal.sanger.ac.uk/malariagen1/misc_utils/kraken_flu.git@0a3cfe98d8f3ab09fb6a799b54e80cbed254f1c8) (6.1.1)\n",
      "Requirement already satisfied: cached-property>=1.5.2 in /nfs/users/nfs_f/fs5/kraken_flu/lib/python3.11/site-packages (from kraken_flu@ git+ssh://git@gitlab.internal.sanger.ac.uk/malariagen1/misc_utils/kraken_flu.git@0a3cfe98d8f3ab09fb6a799b54e80cbed254f1c8) (1.5.2)\n",
      "Requirement already satisfied: biopython>=1.80 in /nfs/users/nfs_f/fs5/kraken_flu/lib/python3.11/site-packages (from kraken_flu@ git+ssh://git@gitlab.internal.sanger.ac.uk/malariagen1/misc_utils/kraken_flu.git@0a3cfe98d8f3ab09fb6a799b54e80cbed254f1c8) (1.81)\n",
      "Requirement already satisfied: numpy in /nfs/users/nfs_f/fs5/kraken_flu/lib/python3.11/site-packages (from biopython>=1.80->kraken_flu@ git+ssh://git@gitlab.internal.sanger.ac.uk/malariagen1/misc_utils/kraken_flu.git@0a3cfe98d8f3ab09fb6a799b54e80cbed254f1c8) (1.26.2)\n",
      "Requirement already satisfied: iniconfig in /nfs/users/nfs_f/fs5/kraken_flu/lib/python3.11/site-packages (from pytest>=6.2.2->kraken_flu@ git+ssh://git@gitlab.internal.sanger.ac.uk/malariagen1/misc_utils/kraken_flu.git@0a3cfe98d8f3ab09fb6a799b54e80cbed254f1c8) (2.0.0)\n",
      "Requirement already satisfied: packaging in /nfs/users/nfs_f/fs5/kraken_flu/lib/python3.11/site-packages (from pytest>=6.2.2->kraken_flu@ git+ssh://git@gitlab.internal.sanger.ac.uk/malariagen1/misc_utils/kraken_flu.git@0a3cfe98d8f3ab09fb6a799b54e80cbed254f1c8) (23.2)\n",
      "Requirement already satisfied: pluggy<2.0,>=0.12 in /nfs/users/nfs_f/fs5/kraken_flu/lib/python3.11/site-packages (from pytest>=6.2.2->kraken_flu@ git+ssh://git@gitlab.internal.sanger.ac.uk/malariagen1/misc_utils/kraken_flu.git@0a3cfe98d8f3ab09fb6a799b54e80cbed254f1c8) (1.3.0)\n",
      "Building wheels for collected packages: kraken_flu\n",
      "  Building wheel for kraken_flu (pyproject.toml) ... \u001b[?25ldone\n",
      "\u001b[?25h  Created wheel for kraken_flu: filename=kraken_flu-1.2.1.dev53+g0a3cfe9-py2.py3-none-any.whl size=27012 sha256=01c74146ea85d4b5b3ecd314dd016ae9cfa4016900161ab9090ca56f0f3d803f\n",
      "  Stored in directory: /nfs/users/nfs_f/fs5/.cache/pip/wheels/50/83/c5/02bc916792111825ebd4420a7d35b97dcc975d4b6c50891b54\n",
      "Successfully built kraken_flu\n",
      "Installing collected packages: kraken_flu\n",
      "  Attempting uninstall: kraken_flu\n",
      "    Found existing installation: kraken_flu 1.2.1.dev52+g6676224\n",
      "    Uninstalling kraken_flu-1.2.1.dev52+g6676224:\n",
      "      Successfully uninstalled kraken_flu-1.2.1.dev52+g6676224\n",
      "Successfully installed kraken_flu-1.2.1.dev53+g0a3cfe9\n",
      "\n",
      "\u001b[1m[\u001b[0m\u001b[34;49mnotice\u001b[0m\u001b[1;39;49m]\u001b[0m\u001b[39;49m A new release of pip is available: \u001b[0m\u001b[31;49m23.3.1\u001b[0m\u001b[39;49m -> \u001b[0m\u001b[32;49m24.0\u001b[0m\n",
      "\u001b[1m[\u001b[0m\u001b[34;49mnotice\u001b[0m\u001b[1;39;49m]\u001b[0m\u001b[39;49m To update, run: \u001b[0m\u001b[32;49mpython3 -m pip install --upgrade pip\u001b[0m\n"
     ]
    }
   ],
   "source": [
    "~/kraken_flu/bin/pip install kraken_flu@git+ssh://git@gitlab.internal.sanger.ac.uk/malariagen1/misc_utils/kraken_flu.git@0a3cfe98d8f3ab09fb6a799b54e80cbed254f1c8"
   ]
  },
  {
   "cell_type": "code",
   "execution_count": 2,
   "id": "afe155b5-d35d-4269-9825-382f5624dee4",
   "metadata": {},
   "outputs": [
    {
     "name": "stdout",
     "output_type": "stream",
     "text": [
      "kraken_flu 1.2.1.dev53+g0a3cfe9\n"
     ]
    }
   ],
   "source": [
    "~/kraken_flu/bin/kraken_flu -v"
   ]
  },
  {
   "cell_type": "markdown",
   "id": "985571e7-b1a8-49b2-9abd-69217281e83d",
   "metadata": {},
   "source": [
    "## Download data\n",
    "Get viral taxonomy and sequence data from NCBI"
   ]
  },
  {
   "cell_type": "code",
   "execution_count": 8,
   "id": "4d9f7dd6-071b-4f0a-aa39-8005ed327300",
   "metadata": {
    "scrolled": true
   },
   "outputs": [],
   "source": [
    "module load kraken2/2.1.2"
   ]
  },
  {
   "cell_type": "markdown",
   "id": "0f58133b-a273-481d-8ece-42e0bf5c297c",
   "metadata": {},
   "source": [
    "### Taxonomy data\n",
    "Use the kraken2 build tool to download taxonomy files from [NCBI](https://ftp.ncbi.nlm.nih.gov/pub/taxonomy/)."
   ]
  },
  {
   "cell_type": "code",
   "execution_count": 12,
   "id": "1c0be4a9-7b96-45a7-a8c6-8baeb237386b",
   "metadata": {},
   "outputs": [
    {
     "name": "stdout",
     "output_type": "stream",
     "text": [
      "Downloading nucleotide gb accession to taxon map... done.\n",
      "Downloading nucleotide wgs accession to taxon map... done.\n",
      "Downloaded accession to taxon map(s)\n",
      "Downloading taxonomy tree data... done.\n",
      "Uncompressing taxonomy data... done.\n",
      "Untarring taxonomy tree data... done.\n"
     ]
    }
   ],
   "source": [
    "kraken2-build --download-taxonomy --db ${TAX_PATH}"
   ]
  },
  {
   "cell_type": "code",
   "execution_count": 21,
   "id": "03a96115-71d8-435d-a78f-c81c0d9b265f",
   "metadata": {},
   "outputs": [
    {
     "name": "stdout",
     "output_type": "stream",
     "text": [
      "/lustre/scratch126/gsu/team112/personal/fs5/rvi_dev/krakenDBs/kraken_flu//downloads/taxonomy_download/\n",
      "└── taxonomy\n",
      "    ├── accmap.dlflag\n",
      "    ├── citations.dmp\n",
      "    ├── delnodes.dmp\n",
      "    ├── division.dmp\n",
      "    ├── gc.prt\n",
      "    ├── gencode.dmp\n",
      "    ├── images.dmp\n",
      "    ├── merged.dmp\n",
      "    ├── names.dmp\n",
      "    ├── nodes.dmp\n",
      "    ├── nucl_gb.accession2taxid\n",
      "    ├── nucl_wgs.accession2taxid\n",
      "    ├── readme.txt\n",
      "    ├── taxdump.dlflag\n",
      "    ├── taxdump.tar.gz\n",
      "    └── taxdump.untarflag\n",
      "\n",
      "1 directory, 16 files\n"
     ]
    }
   ],
   "source": [
    "tree ${TAX_PATH}"
   ]
  },
  {
   "cell_type": "markdown",
   "id": "d58b11f4-9ffd-453a-82ed-9a0f76f2166e",
   "metadata": {},
   "source": [
    "### Sequence data\n",
    "Directly download from NCBI RefSeq release FTP website (file from 15/01/24"
   ]
  },
  {
   "cell_type": "markdown",
   "id": "c4989ee4-4cba-42e4-8998-d98161548926",
   "metadata": {},
   "source": [
    "NCBI viral RefSeq (directly from NCBI now, not using the kraken2 pre-built)"
   ]
  },
  {
   "cell_type": "code",
   "execution_count": 11,
   "id": "add2e63d-c65f-46f2-b929-91b8b85655b9",
   "metadata": {},
   "outputs": [
    {
     "name": "stdout",
     "output_type": "stream",
     "text": [
      "--2024-02-21 12:09:01--  https://ftp.ncbi.nlm.nih.gov/refseq/release/viral/viral.1.1.genomic.fna.gz\n",
      "Resolving wwwcache.sanger.ac.uk (wwwcache.sanger.ac.uk)... 172.30.152.200\n",
      "Connecting to wwwcache.sanger.ac.uk (wwwcache.sanger.ac.uk)|172.30.152.200|:3128... connected.\n",
      "Proxy request sent, awaiting response... 200 OK\n",
      "Length: 168645964 (161M) [application/x-gzip]\n",
      "Saving to: ‘viral.1.1.genomic.fna.gz’\n",
      "\n",
      "viral.1.1.genomic.f 100%[===================>] 160.83M  16.8MB/s    in 11s     \n",
      "\n",
      "2024-02-21 12:09:13 (14.0 MB/s) - ‘viral.1.1.genomic.fna.gz’ saved [168645964/168645964]\n",
      "\n"
     ]
    }
   ],
   "source": [
    "cd ${LIB_PATH}\n",
    "wget https://ftp.ncbi.nlm.nih.gov/refseq/release/viral/viral.1.1.genomic.fna.gz\n",
    "gunzip viral.1.1.genomic.fna.gz"
   ]
  },
  {
   "cell_type": "markdown",
   "id": "e84c621e-996f-4552-ba36-9bbb096d529a",
   "metadata": {},
   "source": [
    "NCBI Infuenza FTP  \n",
    "___NOTE___ that the resource is no longer kept updated (since Oct 2020) so this is used as a starting point but we still need to add later influenza genomes using the new NCBI API for\n",
    "\n",
    "https://www.ncbi.nlm.nih.gov/labs/virus/vssi/#/\n",
    "\n",
    "Here is a post showing how to programmatically interact with the new NCBI Virus site to obtain sequences:  \n",
    "https://www.biostars.org/p/9562294/   "
   ]
  },
  {
   "cell_type": "code",
   "execution_count": 13,
   "id": "0c1f4db6-2050-4967-a229-6a3415f28a67",
   "metadata": {},
   "outputs": [
    {
     "name": "stdout",
     "output_type": "stream",
     "text": [
      "--2024-02-21 13:07:32--  https://ftp.ncbi.nih.gov/genomes/INFLUENZA/influenza.fna\n",
      "Resolving wwwcache.sanger.ac.uk (wwwcache.sanger.ac.uk)... 172.30.152.200\n",
      "Connecting to wwwcache.sanger.ac.uk (wwwcache.sanger.ac.uk)|172.30.152.200|:3128... connected.\n",
      "Proxy request sent, awaiting response... 200 OK\n",
      "Length: 1429095618 (1.3G)\n",
      "Saving to: ‘influenza.fna’\n",
      "\n",
      "influenza.fna       100%[===================>]   1.33G  14.8MB/s    in 87s     \n",
      "\n",
      "2024-02-21 13:08:59 (15.6 MB/s) - ‘influenza.fna’ saved [1429095618/1429095618]\n",
      "\n"
     ]
    }
   ],
   "source": [
    "cd ${LIB_PATH}\n",
    "wget https://ftp.ncbi.nih.gov/genomes/INFLUENZA/influenza.fna"
   ]
  },
  {
   "cell_type": "markdown",
   "id": "8d010eca-16b7-4dd6-bf8a-2f47dfff5ed2",
   "metadata": {},
   "source": [
    "combine the RefSeq and NCBI virus so we can build the DB in one pass  \n",
    "___NOTE___: it is possible to keep the files separate but in that case, the taxonomy files that are used as input into the second dataset would have to be the output of the first. If this is not done, the two taxonomy outputs would not be compatible because they would create new taxa with clashing IDs."
   ]
  },
  {
   "cell_type": "code",
   "execution_count": 14,
   "id": "5344e67a-f931-4281-a9f9-2e691f4b8b12",
   "metadata": {},
   "outputs": [],
   "source": [
    "cat ${LIB_PATH}/viral.1.1.genomic.fna  ${LIB_PATH}/influenza.fna  >  ${LIB_PATH}/combined_refseq_flu.fna"
   ]
  },
  {
   "cell_type": "code",
   "execution_count": 15,
   "id": "849133fb-df97-4f35-8e8a-445e061766ce",
   "metadata": {},
   "outputs": [
    {
     "name": "stdout",
     "output_type": "stream",
     "text": [
      "/lustre/scratch126/gsu/team112/personal/fs5/rvi_dev/krakenDBs/kraken_flu//downloads/sequence_download/refseq_ncbiFlu_022124/\n",
      "├── combined_refseq_flu.fna\n",
      "├── influenza.fna\n",
      "└── viral.1.1.genomic.fna\n",
      "\n",
      "0 directories, 3 files\n"
     ]
    }
   ],
   "source": [
    "tree ${LIB_PATH}"
   ]
  },
  {
   "cell_type": "markdown",
   "id": "803c1e7d-9a9b-422f-83ce-38124e201d53",
   "metadata": {},
   "source": [
    "## Run the kraken-flu tool\n",
    "The tool creates a new directory of taxonomy and sequence files.  \n",
    "\n",
    "Using an exception to the \"complete flu genomes\" filter for the avian flu reference because we want this one in the DB but it does not have all 8 segments in RefSeq.\n",
    "\n",
    "___NOTE___ The current implementation of the kraken-flu tool reads sequence and taxonomy files into RAM and therefore needs a significant amount of RAM. The process got killed on a 5GB node but work fine on 10GB.\n"
   ]
  },
  {
   "cell_type": "code",
   "execution_count": 18,
   "id": "61859120-34ce-4342-8aec-03fb9c9cbecc",
   "metadata": {},
   "outputs": [],
   "source": [
    "~/kraken_flu/bin/kraken_flu \\\n",
    "    --taxonomy_path  ${TAX_PATH}/taxonomy \\\n",
    "    --fasta_path ${LIB_PATH}/combined_refseq_flu.fna \\\n",
    "    --out_dir ${DB_PREP_DIR} \\\n",
    "    --filter > ${DB_PREP_DIR}/log \\\n",
    "    --filter_except \"A/Goose/Guangdong/1/96(H5N1)\" \\\n",
    "    2>&1"
   ]
  },
  {
   "cell_type": "code",
   "execution_count": 19,
   "id": "36b7f9a0-43d1-4100-a47f-c23c4666f5cf",
   "metadata": {},
   "outputs": [
    {
     "name": "stdout",
     "output_type": "stream",
     "text": [
      "/lustre/scratch126/gsu/team112/personal/fs5/rvi_dev/krakenDBs/kraken_flu//db_prep/refseq_ncbiFlu_022124/\n",
      "├── library\n",
      "│   └── library.fna\n",
      "├── log\n",
      "└── taxonomy\n",
      "    ├── names.dmp\n",
      "    └── nodes.dmp\n",
      "\n",
      "2 directories, 4 files\n"
     ]
    }
   ],
   "source": [
    "tree ${DB_PREP_DIR}"
   ]
  },
  {
   "cell_type": "markdown",
   "id": "d2f2b85c-69a6-40e2-a77c-78ee9303232c",
   "metadata": {},
   "source": [
    "## Prepare new kraken2 DB directory\n",
    "Create the direcotry and copy the kraken-flu results into it, then use the kraken-build tool to add the library to the new DB"
   ]
  },
  {
   "cell_type": "code",
   "execution_count": 20,
   "id": "447c13a1-a05d-4f64-bbb6-b8c03b589038",
   "metadata": {},
   "outputs": [],
   "source": [
    "mkdir -p ${DB_PATH}"
   ]
  },
  {
   "cell_type": "markdown",
   "id": "9a059b5a-8a55-4c0c-bb0a-77b6a21abfda",
   "metadata": {},
   "source": [
    "Copy the taxonomy created by kraken-flu in the new dir"
   ]
  },
  {
   "cell_type": "code",
   "execution_count": 21,
   "id": "59cbbf5d-a480-4306-aa17-95e827fa0d31",
   "metadata": {},
   "outputs": [],
   "source": [
    "cp -r ${DB_PREP_DIR}/taxonomy ${DB_PATH}"
   ]
  },
  {
   "cell_type": "markdown",
   "id": "b0e80718-4799-4330-be87-9694e95e6621",
   "metadata": {},
   "source": [
    "also need the large NCBIU accession to tax ID file here for kraken-build"
   ]
  },
  {
   "cell_type": "code",
   "execution_count": 22,
   "id": "8e22aff8-99a0-4a43-acb9-aa40a4ed3a89",
   "metadata": {},
   "outputs": [],
   "source": [
    "ln -s ${TAX_PATH}/taxonomy/nucl_gb.accession2taxid ${DB_PATH}/taxonomy"
   ]
  },
  {
   "cell_type": "code",
   "execution_count": 23,
   "id": "8352b78b-aa87-4f1b-9748-4b7d9c4f725e",
   "metadata": {},
   "outputs": [
    {
     "name": "stdout",
     "output_type": "stream",
     "text": [
      "/lustre/scratch126/gsu/team112/personal/fs5/rvi_dev/krakenDBs/kraken_flu//databases/refseq_ncbiFlu_022124\n",
      "└── taxonomy\n",
      "    ├── names.dmp\n",
      "    ├── nodes.dmp\n",
      "    └── nucl_gb.accession2taxid -> /lustre/scratch126/gsu/team112/personal/fs5/rvi_dev/krakenDBs/kraken_flu//downloads/taxonomy_download//taxonomy/nucl_gb.accession2taxid\n",
      "\n",
      "1 directory, 3 files\n"
     ]
    }
   ],
   "source": [
    "tree ${DB_PATH}"
   ]
  },
  {
   "cell_type": "markdown",
   "id": "d68d4fee-6438-4241-873b-e8c019968378",
   "metadata": {},
   "source": [
    "use kraken-tool to add the library file to the new DB"
   ]
  },
  {
   "cell_type": "code",
   "execution_count": 24,
   "id": "37567f1b-c307-4408-af02-fcf8eba05be0",
   "metadata": {},
   "outputs": [],
   "source": [
    "mkdir ${DB_PATH}/library"
   ]
  },
  {
   "cell_type": "code",
   "execution_count": 25,
   "id": "ba8776ec-25b1-48dc-b0a7-086761953972",
   "metadata": {},
   "outputs": [
    {
     "name": "stdout",
     "output_type": "stream",
     "text": [
      "Masking low-complexity regions of new file... done.\n",
      "Added \"/lustre/scratch126/gsu/team112/personal/fs5/rvi_dev/krakenDBs/kraken_flu//db_prep/refseq_ncbiFlu_022124//library/library.fna\" to library (/lustre/scratch126/gsu/team112/personal/fs5/rvi_dev/krakenDBs/kraken_flu//databases/refseq_ncbiFlu_022124)\n"
     ]
    }
   ],
   "source": [
    "kraken2-build \\\n",
    "    --add-to-library ${DB_PREP_DIR}/library/library.fna \\\n",
    "    --db ${DB_PATH}"
   ]
  },
  {
   "cell_type": "markdown",
   "id": "07cb57ea-ff3d-4925-bf00-dd6c13a4b5ab",
   "metadata": {},
   "source": [
    "## Create the kraken2 DB"
   ]
  },
  {
   "cell_type": "code",
   "execution_count": 26,
   "id": "abc20249-9379-4500-af15-7e106a1f909c",
   "metadata": {},
   "outputs": [
    {
     "name": "stdout",
     "output_type": "stream",
     "text": [
      "Creating sequence ID to taxonomy ID map (step 1)...\n",
      "Found 3295/230189 targets, searched through 51319536 accession IDs...\r"
     ]
    },
    {
     "name": "stderr",
     "output_type": "stream",
     "text": [
      "IOPub message rate exceeded.\n",
      "The Jupyter server will temporarily stop sending output\n",
      "to the client in order to avoid crashing it.\n",
      "To change this limit, set the config variable\n",
      "`--ServerApp.iopub_msg_rate_limit`.\n",
      "\n",
      "Current values:\n",
      "ServerApp.iopub_msg_rate_limit=1000.0 (msgs/sec)\n",
      "ServerApp.rate_limit_window=3.0 (secs)\n",
      "\n"
     ]
    },
    {
     "name": "stdout",
     "output_type": "stream",
     "text": [
      "Found 12049/230189 targets, searched through 187874420 accession IDs...\r"
     ]
    },
    {
     "name": "stderr",
     "output_type": "stream",
     "text": [
      "IOPub message rate exceeded.\n",
      "The Jupyter server will temporarily stop sending output\n",
      "to the client in order to avoid crashing it.\n",
      "To change this limit, set the config variable\n",
      "`--ServerApp.iopub_msg_rate_limit`.\n",
      "\n",
      "Current values:\n",
      "ServerApp.iopub_msg_rate_limit=1000.0 (msgs/sec)\n",
      "ServerApp.rate_limit_window=3.0 (secs)\n",
      "\n"
     ]
    },
    {
     "name": "stdout",
     "output_type": "stream",
     "text": [
      "Found 14524/230189 targets, searched through 188353601 accession IDs...\r"
     ]
    },
    {
     "name": "stderr",
     "output_type": "stream",
     "text": [
      "IOPub message rate exceeded.\n",
      "The Jupyter server will temporarily stop sending output\n",
      "to the client in order to avoid crashing it.\n",
      "To change this limit, set the config variable\n",
      "`--ServerApp.iopub_msg_rate_limit`.\n",
      "\n",
      "Current values:\n",
      "ServerApp.iopub_msg_rate_limit=1000.0 (msgs/sec)\n",
      "ServerApp.rate_limit_window=3.0 (secs)\n",
      "\n"
     ]
    },
    {
     "name": "stdout",
     "output_type": "stream",
     "text": [
      "Found 17811/230189 targets, searched through 191446096 accession IDs...\r"
     ]
    },
    {
     "name": "stderr",
     "output_type": "stream",
     "text": [
      "IOPub message rate exceeded.\n",
      "The Jupyter server will temporarily stop sending output\n",
      "to the client in order to avoid crashing it.\n",
      "To change this limit, set the config variable\n",
      "`--ServerApp.iopub_msg_rate_limit`.\n",
      "\n",
      "Current values:\n",
      "ServerApp.iopub_msg_rate_limit=1000.0 (msgs/sec)\n",
      "ServerApp.rate_limit_window=3.0 (secs)\n",
      "\n"
     ]
    },
    {
     "name": "stdout",
     "output_type": "stream",
     "text": [
      "Found 23232/230189 targets, searched through 193185158 accession IDs...\r"
     ]
    },
    {
     "name": "stderr",
     "output_type": "stream",
     "text": [
      "IOPub message rate exceeded.\n",
      "The Jupyter server will temporarily stop sending output\n",
      "to the client in order to avoid crashing it.\n",
      "To change this limit, set the config variable\n",
      "`--ServerApp.iopub_msg_rate_limit`.\n",
      "\n",
      "Current values:\n",
      "ServerApp.iopub_msg_rate_limit=1000.0 (msgs/sec)\n",
      "ServerApp.rate_limit_window=3.0 (secs)\n",
      "\n"
     ]
    },
    {
     "name": "stdout",
     "output_type": "stream",
     "text": [
      "Found 25538/230189 targets, searched through 193187478 accession IDs...\r"
     ]
    },
    {
     "name": "stderr",
     "output_type": "stream",
     "text": [
      "IOPub message rate exceeded.\n",
      "The Jupyter server will temporarily stop sending output\n",
      "to the client in order to avoid crashing it.\n",
      "To change this limit, set the config variable\n",
      "`--ServerApp.iopub_msg_rate_limit`.\n",
      "\n",
      "Current values:\n",
      "ServerApp.iopub_msg_rate_limit=1000.0 (msgs/sec)\n",
      "ServerApp.rate_limit_window=3.0 (secs)\n",
      "\n"
     ]
    },
    {
     "name": "stdout",
     "output_type": "stream",
     "text": [
      "Found 28359/230189 targets, searched through 193490016 accession IDs...\r"
     ]
    },
    {
     "name": "stderr",
     "output_type": "stream",
     "text": [
      "IOPub message rate exceeded.\n",
      "The Jupyter server will temporarily stop sending output\n",
      "to the client in order to avoid crashing it.\n",
      "To change this limit, set the config variable\n",
      "`--ServerApp.iopub_msg_rate_limit`.\n",
      "\n",
      "Current values:\n",
      "ServerApp.iopub_msg_rate_limit=1000.0 (msgs/sec)\n",
      "ServerApp.rate_limit_window=3.0 (secs)\n",
      "\n"
     ]
    },
    {
     "name": "stdout",
     "output_type": "stream",
     "text": [
      "Found 31480/230189 targets, searched through 193657294 accession IDs...\r"
     ]
    },
    {
     "name": "stderr",
     "output_type": "stream",
     "text": [
      "IOPub message rate exceeded.\n",
      "The Jupyter server will temporarily stop sending output\n",
      "to the client in order to avoid crashing it.\n",
      "To change this limit, set the config variable\n",
      "`--ServerApp.iopub_msg_rate_limit`.\n",
      "\n",
      "Current values:\n",
      "ServerApp.iopub_msg_rate_limit=1000.0 (msgs/sec)\n",
      "ServerApp.rate_limit_window=3.0 (secs)\n",
      "\n"
     ]
    },
    {
     "name": "stdout",
     "output_type": "stream",
     "text": [
      "Found 33514/230189 targets, searched through 196454795 accession IDs...\r"
     ]
    },
    {
     "name": "stderr",
     "output_type": "stream",
     "text": [
      "IOPub message rate exceeded.\n",
      "The Jupyter server will temporarily stop sending output\n",
      "to the client in order to avoid crashing it.\n",
      "To change this limit, set the config variable\n",
      "`--ServerApp.iopub_msg_rate_limit`.\n",
      "\n",
      "Current values:\n",
      "ServerApp.iopub_msg_rate_limit=1000.0 (msgs/sec)\n",
      "ServerApp.rate_limit_window=3.0 (secs)\n",
      "\n"
     ]
    },
    {
     "name": "stdout",
     "output_type": "stream",
     "text": [
      "Found 41840/230189 targets, searched through 218183103 accession IDs...\r"
     ]
    },
    {
     "name": "stderr",
     "output_type": "stream",
     "text": [
      "IOPub message rate exceeded.\n",
      "The Jupyter server will temporarily stop sending output\n",
      "to the client in order to avoid crashing it.\n",
      "To change this limit, set the config variable\n",
      "`--ServerApp.iopub_msg_rate_limit`.\n",
      "\n",
      "Current values:\n",
      "ServerApp.iopub_msg_rate_limit=1000.0 (msgs/sec)\n",
      "ServerApp.rate_limit_window=3.0 (secs)\n",
      "\n"
     ]
    },
    {
     "name": "stdout",
     "output_type": "stream",
     "text": [
      "Found 50556/230189 targets, searched through 218346306 accession IDs...\r"
     ]
    },
    {
     "name": "stderr",
     "output_type": "stream",
     "text": [
      "IOPub message rate exceeded.\n",
      "The Jupyter server will temporarily stop sending output\n",
      "to the client in order to avoid crashing it.\n",
      "To change this limit, set the config variable\n",
      "`--ServerApp.iopub_msg_rate_limit`.\n",
      "\n",
      "Current values:\n",
      "ServerApp.iopub_msg_rate_limit=1000.0 (msgs/sec)\n",
      "ServerApp.rate_limit_window=3.0 (secs)\n",
      "\n"
     ]
    },
    {
     "name": "stdout",
     "output_type": "stream",
     "text": [
      "Found 61946/230189 targets, searched through 218644806 accession IDs...\r"
     ]
    },
    {
     "name": "stderr",
     "output_type": "stream",
     "text": [
      "IOPub message rate exceeded.\n",
      "The Jupyter server will temporarily stop sending output\n",
      "to the client in order to avoid crashing it.\n",
      "To change this limit, set the config variable\n",
      "`--ServerApp.iopub_msg_rate_limit`.\n",
      "\n",
      "Current values:\n",
      "ServerApp.iopub_msg_rate_limit=1000.0 (msgs/sec)\n",
      "ServerApp.rate_limit_window=3.0 (secs)\n",
      "\n"
     ]
    },
    {
     "name": "stdout",
     "output_type": "stream",
     "text": [
      "Found 65856/230189 targets, searched through 218683253 accession IDs...\r"
     ]
    },
    {
     "name": "stderr",
     "output_type": "stream",
     "text": [
      "IOPub message rate exceeded.\n",
      "The Jupyter server will temporarily stop sending output\n",
      "to the client in order to avoid crashing it.\n",
      "To change this limit, set the config variable\n",
      "`--ServerApp.iopub_msg_rate_limit`.\n",
      "\n",
      "Current values:\n",
      "ServerApp.iopub_msg_rate_limit=1000.0 (msgs/sec)\n",
      "ServerApp.rate_limit_window=3.0 (secs)\n",
      "\n"
     ]
    },
    {
     "name": "stdout",
     "output_type": "stream",
     "text": [
      "Found 69885/230189 targets, searched through 218699719 accession IDs...\r"
     ]
    },
    {
     "name": "stderr",
     "output_type": "stream",
     "text": [
      "IOPub message rate exceeded.\n",
      "The Jupyter server will temporarily stop sending output\n",
      "to the client in order to avoid crashing it.\n",
      "To change this limit, set the config variable\n",
      "`--ServerApp.iopub_msg_rate_limit`.\n",
      "\n",
      "Current values:\n",
      "ServerApp.iopub_msg_rate_limit=1000.0 (msgs/sec)\n",
      "ServerApp.rate_limit_window=3.0 (secs)\n",
      "\n"
     ]
    },
    {
     "name": "stdout",
     "output_type": "stream",
     "text": [
      "Found 74746/230189 targets, searched through 218803661 accession IDs...\r"
     ]
    },
    {
     "name": "stderr",
     "output_type": "stream",
     "text": [
      "IOPub message rate exceeded.\n",
      "The Jupyter server will temporarily stop sending output\n",
      "to the client in order to avoid crashing it.\n",
      "To change this limit, set the config variable\n",
      "`--ServerApp.iopub_msg_rate_limit`.\n",
      "\n",
      "Current values:\n",
      "ServerApp.iopub_msg_rate_limit=1000.0 (msgs/sec)\n",
      "ServerApp.rate_limit_window=3.0 (secs)\n",
      "\n"
     ]
    },
    {
     "name": "stdout",
     "output_type": "stream",
     "text": [
      "Found 83436/230189 targets, searched through 220699019 accession IDs...\r"
     ]
    },
    {
     "name": "stderr",
     "output_type": "stream",
     "text": [
      "IOPub message rate exceeded.\n",
      "The Jupyter server will temporarily stop sending output\n",
      "to the client in order to avoid crashing it.\n",
      "To change this limit, set the config variable\n",
      "`--ServerApp.iopub_msg_rate_limit`.\n",
      "\n",
      "Current values:\n",
      "ServerApp.iopub_msg_rate_limit=1000.0 (msgs/sec)\n",
      "ServerApp.rate_limit_window=3.0 (secs)\n",
      "\n"
     ]
    },
    {
     "name": "stdout",
     "output_type": "stream",
     "text": [
      "Found 90532/230189 targets, searched through 220872565 accession IDs...\r"
     ]
    },
    {
     "name": "stderr",
     "output_type": "stream",
     "text": [
      "IOPub message rate exceeded.\n",
      "The Jupyter server will temporarily stop sending output\n",
      "to the client in order to avoid crashing it.\n",
      "To change this limit, set the config variable\n",
      "`--ServerApp.iopub_msg_rate_limit`.\n",
      "\n",
      "Current values:\n",
      "ServerApp.iopub_msg_rate_limit=1000.0 (msgs/sec)\n",
      "ServerApp.rate_limit_window=3.0 (secs)\n",
      "\n"
     ]
    },
    {
     "name": "stdout",
     "output_type": "stream",
     "text": [
      "Found 105538/230189 targets, searched through 221068943 accession IDs...\r"
     ]
    },
    {
     "name": "stderr",
     "output_type": "stream",
     "text": [
      "IOPub message rate exceeded.\n",
      "The Jupyter server will temporarily stop sending output\n",
      "to the client in order to avoid crashing it.\n",
      "To change this limit, set the config variable\n",
      "`--ServerApp.iopub_msg_rate_limit`.\n",
      "\n",
      "Current values:\n",
      "ServerApp.iopub_msg_rate_limit=1000.0 (msgs/sec)\n",
      "ServerApp.rate_limit_window=3.0 (secs)\n",
      "\n"
     ]
    },
    {
     "name": "stdout",
     "output_type": "stream",
     "text": [
      "Found 116882/230189 targets, searched through 221228564 accession IDs...\r"
     ]
    },
    {
     "name": "stderr",
     "output_type": "stream",
     "text": [
      "IOPub message rate exceeded.\n",
      "The Jupyter server will temporarily stop sending output\n",
      "to the client in order to avoid crashing it.\n",
      "To change this limit, set the config variable\n",
      "`--ServerApp.iopub_msg_rate_limit`.\n",
      "\n",
      "Current values:\n",
      "ServerApp.iopub_msg_rate_limit=1000.0 (msgs/sec)\n",
      "ServerApp.rate_limit_window=3.0 (secs)\n",
      "\n"
     ]
    },
    {
     "name": "stdout",
     "output_type": "stream",
     "text": [
      "Found 126645/230189 targets, searched through 221366431 accession IDs...\r"
     ]
    },
    {
     "name": "stderr",
     "output_type": "stream",
     "text": [
      "IOPub message rate exceeded.\n",
      "The Jupyter server will temporarily stop sending output\n",
      "to the client in order to avoid crashing it.\n",
      "To change this limit, set the config variable\n",
      "`--ServerApp.iopub_msg_rate_limit`.\n",
      "\n",
      "Current values:\n",
      "ServerApp.iopub_msg_rate_limit=1000.0 (msgs/sec)\n",
      "ServerApp.rate_limit_window=3.0 (secs)\n",
      "\n"
     ]
    },
    {
     "name": "stdout",
     "output_type": "stream",
     "text": [
      "Found 135738/230189 targets, searched through 221508186 accession IDs...\r"
     ]
    },
    {
     "name": "stderr",
     "output_type": "stream",
     "text": [
      "IOPub message rate exceeded.\n",
      "The Jupyter server will temporarily stop sending output\n",
      "to the client in order to avoid crashing it.\n",
      "To change this limit, set the config variable\n",
      "`--ServerApp.iopub_msg_rate_limit`.\n",
      "\n",
      "Current values:\n",
      "ServerApp.iopub_msg_rate_limit=1000.0 (msgs/sec)\n",
      "ServerApp.rate_limit_window=3.0 (secs)\n",
      "\n"
     ]
    },
    {
     "name": "stdout",
     "output_type": "stream",
     "text": [
      "Found 139089/230189 targets, searched through 222512605 accession IDs...\r"
     ]
    },
    {
     "name": "stderr",
     "output_type": "stream",
     "text": [
      "IOPub message rate exceeded.\n",
      "The Jupyter server will temporarily stop sending output\n",
      "to the client in order to avoid crashing it.\n",
      "To change this limit, set the config variable\n",
      "`--ServerApp.iopub_msg_rate_limit`.\n",
      "\n",
      "Current values:\n",
      "ServerApp.iopub_msg_rate_limit=1000.0 (msgs/sec)\n",
      "ServerApp.rate_limit_window=3.0 (secs)\n",
      "\n"
     ]
    },
    {
     "name": "stdout",
     "output_type": "stream",
     "text": [
      "Found 145493/230189 targets, searched through 222594403 accession IDs...\r"
     ]
    },
    {
     "name": "stderr",
     "output_type": "stream",
     "text": [
      "IOPub message rate exceeded.\n",
      "The Jupyter server will temporarily stop sending output\n",
      "to the client in order to avoid crashing it.\n",
      "To change this limit, set the config variable\n",
      "`--ServerApp.iopub_msg_rate_limit`.\n",
      "\n",
      "Current values:\n",
      "ServerApp.iopub_msg_rate_limit=1000.0 (msgs/sec)\n",
      "ServerApp.rate_limit_window=3.0 (secs)\n",
      "\n"
     ]
    },
    {
     "name": "stdout",
     "output_type": "stream",
     "text": [
      "Found 155891/230189 targets, searched through 222761647 accession IDs...\r"
     ]
    },
    {
     "name": "stderr",
     "output_type": "stream",
     "text": [
      "IOPub message rate exceeded.\n",
      "The Jupyter server will temporarily stop sending output\n",
      "to the client in order to avoid crashing it.\n",
      "To change this limit, set the config variable\n",
      "`--ServerApp.iopub_msg_rate_limit`.\n",
      "\n",
      "Current values:\n",
      "ServerApp.iopub_msg_rate_limit=1000.0 (msgs/sec)\n",
      "ServerApp.rate_limit_window=3.0 (secs)\n",
      "\n"
     ]
    },
    {
     "name": "stdout",
     "output_type": "stream",
     "text": [
      "Found 166636/230189 targets, searched through 222984772 accession IDs...\r"
     ]
    },
    {
     "name": "stderr",
     "output_type": "stream",
     "text": [
      "IOPub message rate exceeded.\n",
      "The Jupyter server will temporarily stop sending output\n",
      "to the client in order to avoid crashing it.\n",
      "To change this limit, set the config variable\n",
      "`--ServerApp.iopub_msg_rate_limit`.\n",
      "\n",
      "Current values:\n",
      "ServerApp.iopub_msg_rate_limit=1000.0 (msgs/sec)\n",
      "ServerApp.rate_limit_window=3.0 (secs)\n",
      "\n"
     ]
    },
    {
     "name": "stdout",
     "output_type": "stream",
     "text": [
      "Found 177516/230189 targets, searched through 223204688 accession IDs...\r"
     ]
    },
    {
     "name": "stderr",
     "output_type": "stream",
     "text": [
      "IOPub message rate exceeded.\n",
      "The Jupyter server will temporarily stop sending output\n",
      "to the client in order to avoid crashing it.\n",
      "To change this limit, set the config variable\n",
      "`--ServerApp.iopub_msg_rate_limit`.\n",
      "\n",
      "Current values:\n",
      "ServerApp.iopub_msg_rate_limit=1000.0 (msgs/sec)\n",
      "ServerApp.rate_limit_window=3.0 (secs)\n",
      "\n"
     ]
    },
    {
     "name": "stdout",
     "output_type": "stream",
     "text": [
      "Found 184127/230189 targets, searched through 223450853 accession IDs...\r"
     ]
    },
    {
     "name": "stderr",
     "output_type": "stream",
     "text": [
      "IOPub message rate exceeded.\n",
      "The Jupyter server will temporarily stop sending output\n",
      "to the client in order to avoid crashing it.\n",
      "To change this limit, set the config variable\n",
      "`--ServerApp.iopub_msg_rate_limit`.\n",
      "\n",
      "Current values:\n",
      "ServerApp.iopub_msg_rate_limit=1000.0 (msgs/sec)\n",
      "ServerApp.rate_limit_window=3.0 (secs)\n",
      "\n"
     ]
    },
    {
     "name": "stdout",
     "output_type": "stream",
     "text": [
      "Found 189064/230189 targets, searched through 225280584 accession IDs...\r"
     ]
    },
    {
     "name": "stderr",
     "output_type": "stream",
     "text": [
      "IOPub message rate exceeded.\n",
      "The Jupyter server will temporarily stop sending output\n",
      "to the client in order to avoid crashing it.\n",
      "To change this limit, set the config variable\n",
      "`--ServerApp.iopub_msg_rate_limit`.\n",
      "\n",
      "Current values:\n",
      "ServerApp.iopub_msg_rate_limit=1000.0 (msgs/sec)\n",
      "ServerApp.rate_limit_window=3.0 (secs)\n",
      "\n"
     ]
    },
    {
     "name": "stdout",
     "output_type": "stream",
     "text": [
      "Found 193663/230189 targets, searched through 225306478 accession IDs...\r"
     ]
    },
    {
     "name": "stderr",
     "output_type": "stream",
     "text": [
      "IOPub message rate exceeded.\n",
      "The Jupyter server will temporarily stop sending output\n",
      "to the client in order to avoid crashing it.\n",
      "To change this limit, set the config variable\n",
      "`--ServerApp.iopub_msg_rate_limit`.\n",
      "\n",
      "Current values:\n",
      "ServerApp.iopub_msg_rate_limit=1000.0 (msgs/sec)\n",
      "ServerApp.rate_limit_window=3.0 (secs)\n",
      "\n"
     ]
    },
    {
     "name": "stdout",
     "output_type": "stream",
     "text": [
      "Found 197694/230189 targets, searched through 225410304 accession IDs...\r"
     ]
    },
    {
     "name": "stderr",
     "output_type": "stream",
     "text": [
      "IOPub message rate exceeded.\n",
      "The Jupyter server will temporarily stop sending output\n",
      "to the client in order to avoid crashing it.\n",
      "To change this limit, set the config variable\n",
      "`--ServerApp.iopub_msg_rate_limit`.\n",
      "\n",
      "Current values:\n",
      "ServerApp.iopub_msg_rate_limit=1000.0 (msgs/sec)\n",
      "ServerApp.rate_limit_window=3.0 (secs)\n",
      "\n"
     ]
    },
    {
     "name": "stdout",
     "output_type": "stream",
     "text": [
      "Found 208878/230189 targets, searched through 225582731 accession IDs...\r"
     ]
    },
    {
     "name": "stderr",
     "output_type": "stream",
     "text": [
      "IOPub message rate exceeded.\n",
      "The Jupyter server will temporarily stop sending output\n",
      "to the client in order to avoid crashing it.\n",
      "To change this limit, set the config variable\n",
      "`--ServerApp.iopub_msg_rate_limit`.\n",
      "\n",
      "Current values:\n",
      "ServerApp.iopub_msg_rate_limit=1000.0 (msgs/sec)\n",
      "ServerApp.rate_limit_window=3.0 (secs)\n",
      "\n"
     ]
    },
    {
     "name": "stdout",
     "output_type": "stream",
     "text": [
      "Found 213758/230189 targets, searched through 231146059 accession IDs...\r"
     ]
    },
    {
     "name": "stderr",
     "output_type": "stream",
     "text": [
      "IOPub message rate exceeded.\n",
      "The Jupyter server will temporarily stop sending output\n",
      "to the client in order to avoid crashing it.\n",
      "To change this limit, set the config variable\n",
      "`--ServerApp.iopub_msg_rate_limit`.\n",
      "\n",
      "Current values:\n",
      "ServerApp.iopub_msg_rate_limit=1000.0 (msgs/sec)\n",
      "ServerApp.rate_limit_window=3.0 (secs)\n",
      "\n"
     ]
    },
    {
     "name": "stdout",
     "output_type": "stream",
     "text": [
      "Found 215779/230189 targets, searched through 231155274 accession IDs...\r"
     ]
    },
    {
     "name": "stderr",
     "output_type": "stream",
     "text": [
      "IOPub message rate exceeded.\n",
      "The Jupyter server will temporarily stop sending output\n",
      "to the client in order to avoid crashing it.\n",
      "To change this limit, set the config variable\n",
      "`--ServerApp.iopub_msg_rate_limit`.\n",
      "\n",
      "Current values:\n",
      "ServerApp.iopub_msg_rate_limit=1000.0 (msgs/sec)\n",
      "ServerApp.rate_limit_window=3.0 (secs)\n",
      "\n"
     ]
    },
    {
     "name": "stdout",
     "output_type": "stream",
     "text": [
      "Found 217487/230189 targets, searched through 231161464 accession IDs...\r"
     ]
    },
    {
     "name": "stderr",
     "output_type": "stream",
     "text": [
      "IOPub message rate exceeded.\n",
      "The Jupyter server will temporarily stop sending output\n",
      "to the client in order to avoid crashing it.\n",
      "To change this limit, set the config variable\n",
      "`--ServerApp.iopub_msg_rate_limit`.\n",
      "\n",
      "Current values:\n",
      "ServerApp.iopub_msg_rate_limit=1000.0 (msgs/sec)\n",
      "ServerApp.rate_limit_window=3.0 (secs)\n",
      "\n"
     ]
    },
    {
     "name": "stdout",
     "output_type": "stream",
     "text": [
      "Found 220195/230189 targets, searched through 231167375 accession IDs...\r"
     ]
    },
    {
     "name": "stderr",
     "output_type": "stream",
     "text": [
      "IOPub message rate exceeded.\n",
      "The Jupyter server will temporarily stop sending output\n",
      "to the client in order to avoid crashing it.\n",
      "To change this limit, set the config variable\n",
      "`--ServerApp.iopub_msg_rate_limit`.\n",
      "\n",
      "Current values:\n",
      "ServerApp.iopub_msg_rate_limit=1000.0 (msgs/sec)\n",
      "ServerApp.rate_limit_window=3.0 (secs)\n",
      "\n"
     ]
    },
    {
     "name": "stdout",
     "output_type": "stream",
     "text": [
      "Found 223017/230189 targets, searched through 231176760 accession IDs...\r"
     ]
    },
    {
     "name": "stderr",
     "output_type": "stream",
     "text": [
      "IOPub message rate exceeded.\n",
      "The Jupyter server will temporarily stop sending output\n",
      "to the client in order to avoid crashing it.\n",
      "To change this limit, set the config variable\n",
      "`--ServerApp.iopub_msg_rate_limit`.\n",
      "\n",
      "Current values:\n",
      "ServerApp.iopub_msg_rate_limit=1000.0 (msgs/sec)\n",
      "ServerApp.rate_limit_window=3.0 (secs)\n",
      "\n"
     ]
    },
    {
     "name": "stdout",
     "output_type": "stream",
     "text": [
      "Found 230186/230189 targets, searched through 327566049 accession IDs, search complete.\n",
      "lookup_accession_numbers: 3/230189 accession numbers remain unmapped, see unmapped.txt in DB directory\n",
      "Sequence ID to taxonomy ID map complete. [3m17.829s]\n",
      "Estimating required capacity (step 2)...\n",
      "Estimated hash table requirement: 668180480 bytes\n",
      "Capacity estimation complete. [32.085s]\n",
      "Building database files (step 3)...\n",
      "Taxonomy parsed and converted.\n",
      "CHT created with 18 bits reserved for taxid.\n",
      "Completed processing of 417664 sequences, 1220666255 bp\n",
      "Writing data to disk...  complete.\n",
      "Database files completed. [3m52.411s]\n",
      "Database construction complete. [Total: 7m42.486s]\n"
     ]
    }
   ],
   "source": [
    "kraken2-build \\\n",
    "    --build \\\n",
    "    --db ${DB_PATH}"
   ]
  },
  {
   "cell_type": "code",
   "execution_count": 27,
   "id": "8774fd81-07f8-4f76-b4de-381492e98601",
   "metadata": {},
   "outputs": [
    {
     "name": "stdout",
     "output_type": "stream",
     "text": [
      "/lustre/scratch126/gsu/team112/personal/fs5/rvi_dev/krakenDBs/kraken_flu//databases/refseq_ncbiFlu_022124\n"
     ]
    }
   ],
   "source": [
    "echo ${DB_PATH}"
   ]
  }
 ],
 "metadata": {
  "kernelspec": {
   "display_name": "Bash",
   "language": "bash",
   "name": "bash"
  },
  "language_info": {
   "codemirror_mode": "shell",
   "file_extension": ".sh",
   "mimetype": "text/x-sh",
   "name": "bash"
  }
 },
 "nbformat": 4,
 "nbformat_minor": 5
}
