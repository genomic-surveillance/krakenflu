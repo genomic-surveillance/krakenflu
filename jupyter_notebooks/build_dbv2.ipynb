{
 "cells": [
  {
   "cell_type": "markdown",
   "id": "508d71e8-b2b7-47a7-8b92-79ff13e76cc3",
   "metadata": {},
   "source": [
    "# Build custom databases with segment flu genomes using kraken_flu utility\n",
    "A new utilty [kraken_flu](https://gitlab.internal.sanger.ac.uk/malariagen1/misc_utils/kraken_flu) was created to generate Kraken2 databases with segmented flu genomes from any set of input files (either from kraken2 or directly from NCBI).\n",
    "\n",
    "The tool peforms two tasks:\n",
    "1. Fiter influenza genomes to keep only those that have 8 full-length segments\n",
    "2. Create a reorganisee taxonomy with new taxa for segments of the influenza A viruses\n",
    "\n",
    "This notebook builds a complete database with NCBI RefSeq plus the NCBI Influenza resource."
   ]
  },
  {
   "cell_type": "markdown",
   "id": "3420f404-e180-4434-8c21-233628b0ca41",
   "metadata": {},
   "source": [
    "## directory paths and names"
   ]
  },
  {
   "cell_type": "code",
   "execution_count": 1,
   "id": "591263f1-d3d5-40a8-bf12-7e0ebaaebde3",
   "metadata": {},
   "outputs": [],
   "source": [
    "export DB_NAME=refseq_ncbiFlu_kfv2_082824\n",
    "export BASE_DIR=/lustre/scratch126/gsu/team112/personal/fs5/rvi_dev/krakenDBs/kraken_flu/\n",
    "\n",
    "# taxonomy data is universal and ideally reused for every DB we build, so the direcotry is not specific to this DB\n",
    "export TAX_PATH=${BASE_DIR}/downloads/taxonomy_download/\n",
    "\n",
    "export LIB_PATH=${BASE_DIR}/downloads/sequence_download/${DB_NAME}/\n",
    "\n",
    "export DB_PREP_DIR=${BASE_DIR}/db_prep/${DB_NAME}/\n",
    "export DB_PATH=${BASE_DIR}/databases/${DB_NAME}"
   ]
  },
  {
   "cell_type": "code",
   "execution_count": 2,
   "id": "6b2831f5-3453-4bdb-ab0d-d915cce52e44",
   "metadata": {},
   "outputs": [],
   "source": [
    "mkdir -p ${BASE_DIR}\n",
    "mkdir -p ${TAX_PATH}\n",
    "mkdir -p ${LIB_PATH}\n",
    "mkdir -p ${DB_PREP_DIR}\n",
    "mkdir -p ${DB_PATH}"
   ]
  },
  {
   "cell_type": "code",
   "execution_count": 4,
   "id": "ade4da75-0acd-46dd-906f-5f11f4ed0871",
   "metadata": {
    "tags": []
   },
   "outputs": [
    {
     "name": "stdout",
     "output_type": "stream",
     "text": [
      "BASE DIR: /lustre/scratch126/gsu/team112/personal/fs5/rvi_dev/krakenDBs/kraken_flu/\n",
      "TAXONOMY PATH: /lustre/scratch126/gsu/team112/personal/fs5/rvi_dev/krakenDBs/kraken_flu//downloads/taxonomy_download/\n",
      "LIBRARY (FASTA) PATH: /lustre/scratch126/gsu/team112/personal/fs5/rvi_dev/krakenDBs/kraken_flu//downloads/sequence_download/refseq_ncbiFlu_kfv2_082824/\n",
      "DB PREP DIR: /lustre/scratch126/gsu/team112/personal/fs5/rvi_dev/krakenDBs/kraken_flu//db_prep/refseq_ncbiFlu_kfv2_082824/\n",
      "FINAL DB PATH: /lustre/scratch126/gsu/team112/personal/fs5/rvi_dev/krakenDBs/kraken_flu//databases/refseq_ncbiFlu_kfv2_082824\n"
     ]
    }
   ],
   "source": [
    "echo \"BASE DIR: $BASE_DIR\"\n",
    "echo \"TAXONOMY PATH: ${TAX_PATH}\"\n",
    "echo \"LIBRARY (FASTA) PATH: ${LIB_PATH}\"\n",
    "echo \"DB PREP DIR: ${DB_PREP_DIR}\"\n",
    "echo \"FINAL DB PATH: ${DB_PATH}\""
   ]
  },
  {
   "cell_type": "markdown",
   "id": "91dc006e-b548-4b97-8bb0-5d6fdfea43d0",
   "metadata": {},
   "source": [
    "## install the kraken_flu tool\n",
    "The tool can be installed from local gitlab. Creating a venv for it."
   ]
  },
  {
   "cell_type": "code",
   "execution_count": 1,
   "id": "e1a43982-5fee-4733-897a-6dcf975fab08",
   "metadata": {},
   "outputs": [],
   "source": [
    "python3 -m venv ~/kraken_flu"
   ]
  },
  {
   "cell_type": "markdown",
   "id": "597890d0-af3e-488b-b04f-f6a435be5545",
   "metadata": {},
   "source": [
    "___This version is not yet in main branch, checking out latest commit in dev branch___"
   ]
  },
  {
   "cell_type": "code",
   "execution_count": 1,
   "id": "019a0564-3ef1-443c-a64d-83fbed81d4bc",
   "metadata": {},
   "outputs": [
    {
     "name": "stdout",
     "output_type": "stream",
     "text": [
      "Collecting kraken_flu@ git+ssh://****@gitlab.internal.sanger.ac.uk/malariagen1/misc_utils/kraken_flu.git@0a3cfe98d8f3ab09fb6a799b54e80cbed254f1c8\n",
      "  Cloning ssh://****@gitlab.internal.sanger.ac.uk/malariagen1/misc_utils/kraken_flu.git (to revision 0a3cfe98d8f3ab09fb6a799b54e80cbed254f1c8) to /tmp/pip-install-_pkhzbq8/kraken-flu_b3f7796379d44bc0bcde16eb1ef3d101\n",
      "  Running command git clone --filter=blob:none --quiet 'ssh://****@gitlab.internal.sanger.ac.uk/malariagen1/misc_utils/kraken_flu.git' /tmp/pip-install-_pkhzbq8/kraken-flu_b3f7796379d44bc0bcde16eb1ef3d101\n",
      "  Running command git rev-parse -q --verify 'sha^0a3cfe98d8f3ab09fb6a799b54e80cbed254f1c8'\n",
      "  Running command git fetch -q 'ssh://****@gitlab.internal.sanger.ac.uk/malariagen1/misc_utils/kraken_flu.git' 0a3cfe98d8f3ab09fb6a799b54e80cbed254f1c8\n",
      "  Running command git checkout -q 0a3cfe98d8f3ab09fb6a799b54e80cbed254f1c8\n",
      "  Resolved ssh://****@gitlab.internal.sanger.ac.uk/malariagen1/misc_utils/kraken_flu.git to commit 0a3cfe98d8f3ab09fb6a799b54e80cbed254f1c8\n",
      "  Installing build dependencies ... \u001b[?25ldone\n",
      "\u001b[?25h  Getting requirements to build wheel ... \u001b[?25ldone\n",
      "\u001b[?25h  Preparing metadata (pyproject.toml) ... \u001b[?25ldone\n",
      "\u001b[?25hRequirement already satisfied: pytest>=6.2.2 in /nfs/users/nfs_f/fs5/kraken_flu/lib/python3.11/site-packages (from kraken_flu@ git+ssh://git@gitlab.internal.sanger.ac.uk/malariagen1/misc_utils/kraken_flu.git@0a3cfe98d8f3ab09fb6a799b54e80cbed254f1c8) (7.4.3)\n",
      "Requirement already satisfied: importlib-resources>=5.1.0 in /nfs/users/nfs_f/fs5/kraken_flu/lib/python3.11/site-packages (from kraken_flu@ git+ssh://git@gitlab.internal.sanger.ac.uk/malariagen1/misc_utils/kraken_flu.git@0a3cfe98d8f3ab09fb6a799b54e80cbed254f1c8) (6.1.1)\n",
      "Requirement already satisfied: cached-property>=1.5.2 in /nfs/users/nfs_f/fs5/kraken_flu/lib/python3.11/site-packages (from kraken_flu@ git+ssh://git@gitlab.internal.sanger.ac.uk/malariagen1/misc_utils/kraken_flu.git@0a3cfe98d8f3ab09fb6a799b54e80cbed254f1c8) (1.5.2)\n",
      "Requirement already satisfied: biopython>=1.80 in /nfs/users/nfs_f/fs5/kraken_flu/lib/python3.11/site-packages (from kraken_flu@ git+ssh://git@gitlab.internal.sanger.ac.uk/malariagen1/misc_utils/kraken_flu.git@0a3cfe98d8f3ab09fb6a799b54e80cbed254f1c8) (1.81)\n",
      "Requirement already satisfied: numpy in /nfs/users/nfs_f/fs5/kraken_flu/lib/python3.11/site-packages (from biopython>=1.80->kraken_flu@ git+ssh://git@gitlab.internal.sanger.ac.uk/malariagen1/misc_utils/kraken_flu.git@0a3cfe98d8f3ab09fb6a799b54e80cbed254f1c8) (1.26.2)\n",
      "Requirement already satisfied: iniconfig in /nfs/users/nfs_f/fs5/kraken_flu/lib/python3.11/site-packages (from pytest>=6.2.2->kraken_flu@ git+ssh://git@gitlab.internal.sanger.ac.uk/malariagen1/misc_utils/kraken_flu.git@0a3cfe98d8f3ab09fb6a799b54e80cbed254f1c8) (2.0.0)\n",
      "Requirement already satisfied: packaging in /nfs/users/nfs_f/fs5/kraken_flu/lib/python3.11/site-packages (from pytest>=6.2.2->kraken_flu@ git+ssh://git@gitlab.internal.sanger.ac.uk/malariagen1/misc_utils/kraken_flu.git@0a3cfe98d8f3ab09fb6a799b54e80cbed254f1c8) (23.2)\n",
      "Requirement already satisfied: pluggy<2.0,>=0.12 in /nfs/users/nfs_f/fs5/kraken_flu/lib/python3.11/site-packages (from pytest>=6.2.2->kraken_flu@ git+ssh://git@gitlab.internal.sanger.ac.uk/malariagen1/misc_utils/kraken_flu.git@0a3cfe98d8f3ab09fb6a799b54e80cbed254f1c8) (1.3.0)\n",
      "Building wheels for collected packages: kraken_flu\n",
      "  Building wheel for kraken_flu (pyproject.toml) ... \u001b[?25ldone\n",
      "\u001b[?25h  Created wheel for kraken_flu: filename=kraken_flu-1.2.1.dev53+g0a3cfe9-py2.py3-none-any.whl size=27012 sha256=01c74146ea85d4b5b3ecd314dd016ae9cfa4016900161ab9090ca56f0f3d803f\n",
      "  Stored in directory: /nfs/users/nfs_f/fs5/.cache/pip/wheels/50/83/c5/02bc916792111825ebd4420a7d35b97dcc975d4b6c50891b54\n",
      "Successfully built kraken_flu\n",
      "Installing collected packages: kraken_flu\n",
      "  Attempting uninstall: kraken_flu\n",
      "    Found existing installation: kraken_flu 1.2.1.dev52+g6676224\n",
      "    Uninstalling kraken_flu-1.2.1.dev52+g6676224:\n",
      "      Successfully uninstalled kraken_flu-1.2.1.dev52+g6676224\n",
      "Successfully installed kraken_flu-1.2.1.dev53+g0a3cfe9\n",
      "\n",
      "\u001b[1m[\u001b[0m\u001b[34;49mnotice\u001b[0m\u001b[1;39;49m]\u001b[0m\u001b[39;49m A new release of pip is available: \u001b[0m\u001b[31;49m23.3.1\u001b[0m\u001b[39;49m -> \u001b[0m\u001b[32;49m24.0\u001b[0m\n",
      "\u001b[1m[\u001b[0m\u001b[34;49mnotice\u001b[0m\u001b[1;39;49m]\u001b[0m\u001b[39;49m To update, run: \u001b[0m\u001b[32;49mpython3 -m pip install --upgrade pip\u001b[0m\n"
     ]
    }
   ],
   "source": [
    "~/kraken_flu/bin/pip install kraken_flu@git+ssh://git@gitlab.internal.sanger.ac.uk/malariagen1/misc_utils/kraken_flu.git@0a3cfe98d8f3ab09fb6a799b54e80cbed254f1c8"
   ]
  },
  {
   "cell_type": "code",
   "execution_count": 2,
   "id": "afe155b5-d35d-4269-9825-382f5624dee4",
   "metadata": {},
   "outputs": [
    {
     "name": "stdout",
     "output_type": "stream",
     "text": [
      "kraken_flu 1.2.1.dev53+g0a3cfe9\n"
     ]
    }
   ],
   "source": [
    "~/kraken_flu/bin/kraken_flu -v"
   ]
  },
  {
   "cell_type": "markdown",
   "id": "985571e7-b1a8-49b2-9abd-69217281e83d",
   "metadata": {},
   "source": [
    "## Download data\n",
    "Get viral taxonomy and sequence data from NCBI"
   ]
  },
  {
   "cell_type": "code",
   "execution_count": 8,
   "id": "4d9f7dd6-071b-4f0a-aa39-8005ed327300",
   "metadata": {
    "scrolled": true
   },
   "outputs": [],
   "source": [
    "module load kraken2/2.1.2"
   ]
  },
  {
   "cell_type": "markdown",
   "id": "0f58133b-a273-481d-8ece-42e0bf5c297c",
   "metadata": {},
   "source": [
    "### Taxonomy data\n",
    "Use the kraken2 build tool to download taxonomy files from [NCBI](https://ftp.ncbi.nlm.nih.gov/pub/taxonomy/)."
   ]
  },
  {
   "cell_type": "code",
   "execution_count": 12,
   "id": "1c0be4a9-7b96-45a7-a8c6-8baeb237386b",
   "metadata": {},
   "outputs": [
    {
     "name": "stdout",
     "output_type": "stream",
     "text": [
      "Downloading nucleotide gb accession to taxon map... done.\n",
      "Downloading nucleotide wgs accession to taxon map... done.\n",
      "Downloaded accession to taxon map(s)\n",
      "Downloading taxonomy tree data... done.\n",
      "Uncompressing taxonomy data... done.\n",
      "Untarring taxonomy tree data... done.\n"
     ]
    }
   ],
   "source": [
    "kraken2-build --download-taxonomy --db ${TAX_PATH}"
   ]
  },
  {
   "cell_type": "code",
   "execution_count": 21,
   "id": "03a96115-71d8-435d-a78f-c81c0d9b265f",
   "metadata": {},
   "outputs": [
    {
     "name": "stdout",
     "output_type": "stream",
     "text": [
      "/lustre/scratch126/gsu/team112/personal/fs5/rvi_dev/krakenDBs/kraken_flu//downloads/taxonomy_download/\n",
      "└── taxonomy\n",
      "    ├── accmap.dlflag\n",
      "    ├── citations.dmp\n",
      "    ├── delnodes.dmp\n",
      "    ├── division.dmp\n",
      "    ├── gc.prt\n",
      "    ├── gencode.dmp\n",
      "    ├── images.dmp\n",
      "    ├── merged.dmp\n",
      "    ├── names.dmp\n",
      "    ├── nodes.dmp\n",
      "    ├── nucl_gb.accession2taxid\n",
      "    ├── nucl_wgs.accession2taxid\n",
      "    ├── readme.txt\n",
      "    ├── taxdump.dlflag\n",
      "    ├── taxdump.tar.gz\n",
      "    └── taxdump.untarflag\n",
      "\n",
      "1 directory, 16 files\n"
     ]
    }
   ],
   "source": [
    "tree ${TAX_PATH}"
   ]
  },
  {
   "cell_type": "markdown",
   "id": "d58b11f4-9ffd-453a-82ed-9a0f76f2166e",
   "metadata": {},
   "source": [
    "### Sequence data\n",
    "Directly download from NCBI RefSeq release FTP website (file from 15/01/24"
   ]
  },
  {
   "cell_type": "markdown",
   "id": "c4989ee4-4cba-42e4-8998-d98161548926",
   "metadata": {},
   "source": [
    "NCBI viral RefSeq (directly from NCBI now, not using the kraken2 pre-built)"
   ]
  },
  {
   "cell_type": "code",
   "execution_count": 11,
   "id": "add2e63d-c65f-46f2-b929-91b8b85655b9",
   "metadata": {},
   "outputs": [
    {
     "name": "stdout",
     "output_type": "stream",
     "text": [
      "--2024-02-21 12:09:01--  https://ftp.ncbi.nlm.nih.gov/refseq/release/viral/viral.1.1.genomic.fna.gz\n",
      "Resolving wwwcache.sanger.ac.uk (wwwcache.sanger.ac.uk)... 172.30.152.200\n",
      "Connecting to wwwcache.sanger.ac.uk (wwwcache.sanger.ac.uk)|172.30.152.200|:3128... connected.\n",
      "Proxy request sent, awaiting response... 200 OK\n",
      "Length: 168645964 (161M) [application/x-gzip]\n",
      "Saving to: ‘viral.1.1.genomic.fna.gz’\n",
      "\n",
      "viral.1.1.genomic.f 100%[===================>] 160.83M  16.8MB/s    in 11s     \n",
      "\n",
      "2024-02-21 12:09:13 (14.0 MB/s) - ‘viral.1.1.genomic.fna.gz’ saved [168645964/168645964]\n",
      "\n"
     ]
    }
   ],
   "source": [
    "cd ${LIB_PATH}\n",
    "wget https://ftp.ncbi.nlm.nih.gov/refseq/release/viral/viral.1.1.genomic.fna.gz\n",
    "gunzip viral.1.1.genomic.fna.gz"
   ]
  },
  {
   "cell_type": "markdown",
   "id": "e84c621e-996f-4552-ba36-9bbb096d529a",
   "metadata": {},
   "source": [
    "NCBI Infuenza FTP  \n",
    "___NOTE___ that the resource is no longer kept updated (since Oct 2020) so this is used as a starting point but we still need to add later influenza genomes using the new NCBI API for\n",
    "\n",
    "https://www.ncbi.nlm.nih.gov/labs/virus/vssi/#/\n",
    "\n",
    "Here is a post showing how to programmatically interact with the new NCBI Virus site to obtain sequences:  \n",
    "https://www.biostars.org/p/9562294/   "
   ]
  },
  {
   "cell_type": "code",
   "execution_count": 13,
   "id": "0c1f4db6-2050-4967-a229-6a3415f28a67",
   "metadata": {},
   "outputs": [
    {
     "name": "stdout",
     "output_type": "stream",
     "text": [
      "--2024-02-21 13:07:32--  https://ftp.ncbi.nih.gov/genomes/INFLUENZA/influenza.fna\n",
      "Resolving wwwcache.sanger.ac.uk (wwwcache.sanger.ac.uk)... 172.30.152.200\n",
      "Connecting to wwwcache.sanger.ac.uk (wwwcache.sanger.ac.uk)|172.30.152.200|:3128... connected.\n",
      "Proxy request sent, awaiting response... 200 OK\n",
      "Length: 1429095618 (1.3G)\n",
      "Saving to: ‘influenza.fna’\n",
      "\n",
      "influenza.fna       100%[===================>]   1.33G  14.8MB/s    in 87s     \n",
      "\n",
      "2024-02-21 13:08:59 (15.6 MB/s) - ‘influenza.fna’ saved [1429095618/1429095618]\n",
      "\n"
     ]
    }
   ],
   "source": [
    "cd ${LIB_PATH}\n",
    "wget https://ftp.ncbi.nih.gov/genomes/INFLUENZA/influenza.fna"
   ]
  },
  {
   "cell_type": "markdown",
   "id": "8d010eca-16b7-4dd6-bf8a-2f47dfff5ed2",
   "metadata": {},
   "source": [
    "combine the RefSeq and NCBI virus so we can build the DB in one pass  \n",
    "___NOTE___: it is possible to keep the files separate but in that case, the taxonomy files that are used as input into the second dataset would have to be the output of the first. If this is not done, the two taxonomy outputs would not be compatible because they would create new taxa with clashing IDs."
   ]
  },
  {
   "cell_type": "code",
   "execution_count": 14,
   "id": "5344e67a-f931-4281-a9f9-2e691f4b8b12",
   "metadata": {},
   "outputs": [],
   "source": [
    "cat ${LIB_PATH}/viral.1.1.genomic.fna  ${LIB_PATH}/influenza.fna  >  ${LIB_PATH}/combined_refseq_flu.fna"
   ]
  },
  {
   "cell_type": "code",
   "execution_count": 15,
   "id": "849133fb-df97-4f35-8e8a-445e061766ce",
   "metadata": {},
   "outputs": [
    {
     "name": "stdout",
     "output_type": "stream",
     "text": [
      "/lustre/scratch126/gsu/team112/personal/fs5/rvi_dev/krakenDBs/kraken_flu//downloads/sequence_download/refseq_ncbiFlu_022124/\n",
      "├── combined_refseq_flu.fna\n",
      "├── influenza.fna\n",
      "└── viral.1.1.genomic.fna\n",
      "\n",
      "0 directories, 3 files\n"
     ]
    }
   ],
   "source": [
    "tree ${LIB_PATH}"
   ]
  },
  {
   "cell_type": "markdown",
   "id": "803c1e7d-9a9b-422f-83ce-38124e201d53",
   "metadata": {},
   "source": [
    "## Run the kraken-flu tool\n",
    "The tool creates a new directory of taxonomy and sequence files.  \n",
    "\n",
    "Using an exception to the \"complete flu genomes\" filter for the avian flu reference because we want this one in the DB but it does not have all 8 segments in RefSeq.\n",
    "\n",
    "___NOTE___ The current implementation of the kraken-flu tool reads sequence and taxonomy files into RAM and therefore needs a significant amount of RAM. The process got killed on a 5GB node but work fine on 10GB.\n"
   ]
  },
  {
   "cell_type": "code",
   "execution_count": 18,
   "id": "61859120-34ce-4342-8aec-03fb9c9cbecc",
   "metadata": {},
   "outputs": [],
   "source": [
    "~/kraken_flu/bin/kraken_flu \\\n",
    "    --taxonomy_path  ${TAX_PATH}/taxonomy \\\n",
    "    --fasta_path ${LIB_PATH}/combined_refseq_flu.fna \\\n",
    "    --out_dir ${DB_PREP_DIR} \\\n",
    "    --filter \\\n",
    "    --filter_except \"A/Goose/Guangdong/1/96(H5N1)\" \\\n",
    "    > ${DB_PREP_DIR}/log 2>&1"
   ]
  },
  {
   "cell_type": "code",
   "execution_count": 19,
   "id": "36b7f9a0-43d1-4100-a47f-c23c4666f5cf",
   "metadata": {},
   "outputs": [
    {
     "name": "stdout",
     "output_type": "stream",
     "text": [
      "/lustre/scratch126/gsu/team112/personal/fs5/rvi_dev/krakenDBs/kraken_flu//db_prep/refseq_ncbiFlu_022124/\n",
      "├── library\n",
      "│   └── library.fna\n",
      "├── log\n",
      "└── taxonomy\n",
      "    ├── names.dmp\n",
      "    └── nodes.dmp\n",
      "\n",
      "2 directories, 4 files\n"
     ]
    }
   ],
   "source": [
    "tree ${DB_PREP_DIR}"
   ]
  },
  {
   "cell_type": "markdown",
   "id": "d2f2b85c-69a6-40e2-a77c-78ee9303232c",
   "metadata": {},
   "source": [
    "## Prepare new kraken2 DB directory\n",
    "Create the direcotry and copy the kraken-flu results into it, then use the kraken-build tool to add the library to the new DB"
   ]
  },
  {
   "cell_type": "code",
   "execution_count": 20,
   "id": "447c13a1-a05d-4f64-bbb6-b8c03b589038",
   "metadata": {},
   "outputs": [],
   "source": [
    "mkdir -p ${DB_PATH}"
   ]
  },
  {
   "cell_type": "markdown",
   "id": "9a059b5a-8a55-4c0c-bb0a-77b6a21abfda",
   "metadata": {},
   "source": [
    "Copy the taxonomy created by kraken-flu in the new dir"
   ]
  },
  {
   "cell_type": "code",
   "execution_count": 21,
   "id": "59cbbf5d-a480-4306-aa17-95e827fa0d31",
   "metadata": {},
   "outputs": [],
   "source": [
    "cp -r ${DB_PREP_DIR}/taxonomy ${DB_PATH}"
   ]
  },
  {
   "cell_type": "markdown",
   "id": "b0e80718-4799-4330-be87-9694e95e6621",
   "metadata": {},
   "source": [
    "also need the large NCBIU accession to tax ID file here for kraken-build"
   ]
  },
  {
   "cell_type": "code",
   "execution_count": 22,
   "id": "8e22aff8-99a0-4a43-acb9-aa40a4ed3a89",
   "metadata": {},
   "outputs": [],
   "source": [
    "ln -s ${TAX_PATH}/taxonomy/nucl_gb.accession2taxid ${DB_PATH}/taxonomy"
   ]
  },
  {
   "cell_type": "code",
   "execution_count": 23,
   "id": "8352b78b-aa87-4f1b-9748-4b7d9c4f725e",
   "metadata": {},
   "outputs": [
    {
     "name": "stdout",
     "output_type": "stream",
     "text": [
      "/lustre/scratch126/gsu/team112/personal/fs5/rvi_dev/krakenDBs/kraken_flu//databases/refseq_ncbiFlu_022124\n",
      "└── taxonomy\n",
      "    ├── names.dmp\n",
      "    ├── nodes.dmp\n",
      "    └── nucl_gb.accession2taxid -> /lustre/scratch126/gsu/team112/personal/fs5/rvi_dev/krakenDBs/kraken_flu//downloads/taxonomy_download//taxonomy/nucl_gb.accession2taxid\n",
      "\n",
      "1 directory, 3 files\n"
     ]
    }
   ],
   "source": [
    "tree ${DB_PATH}"
   ]
  },
  {
   "cell_type": "markdown",
   "id": "d68d4fee-6438-4241-873b-e8c019968378",
   "metadata": {},
   "source": [
    "use kraken-tool to add the library file to the new DB"
   ]
  },
  {
   "cell_type": "code",
   "execution_count": 24,
   "id": "37567f1b-c307-4408-af02-fcf8eba05be0",
   "metadata": {},
   "outputs": [],
   "source": [
    "mkdir ${DB_PATH}/library"
   ]
  },
  {
   "cell_type": "code",
   "execution_count": 25,
   "id": "ba8776ec-25b1-48dc-b0a7-086761953972",
   "metadata": {},
   "outputs": [
    {
     "name": "stdout",
     "output_type": "stream",
     "text": [
      "Masking low-complexity regions of new file... done.\n",
      "Added \"/lustre/scratch126/gsu/team112/personal/fs5/rvi_dev/krakenDBs/kraken_flu//db_prep/refseq_ncbiFlu_022124//library/library.fna\" to library (/lustre/scratch126/gsu/team112/personal/fs5/rvi_dev/krakenDBs/kraken_flu//databases/refseq_ncbiFlu_022124)\n"
     ]
    }
   ],
   "source": [
    "kraken2-build \\\n",
    "    --add-to-library ${DB_PREP_DIR}/library/library.fna \\\n",
    "    --db ${DB_PATH}"
   ]
  },
  {
   "cell_type": "markdown",
   "id": "07cb57ea-ff3d-4925-bf00-dd6c13a4b5ab",
   "metadata": {},
   "source": [
    "## Create the kraken2 DB"
   ]
  },
  {
   "cell_type": "code",
   "execution_count": 26,
   "id": "abc20249-9379-4500-af15-7e106a1f909c",
   "metadata": {},
   "outputs": [
    {
     "name": "stdout",
     "output_type": "stream",
     "text": [
      "Creating sequence ID to taxonomy ID map (step 1)...\n",
      "Found 3295/230189 targets, searched through 51319536 accession IDs...\r"
     ]
    },
    {
     "name": "stderr",
     "output_type": "stream",
     "text": [
      "IOPub message rate exceeded.\n",
      "The Jupyter server will temporarily stop sending output\n",
      "to the client in order to avoid crashing it.\n",
      "To change this limit, set the config variable\n",
      "`--ServerApp.iopub_msg_rate_limit`.\n",
      "\n",
      "Current values:\n",
      "ServerApp.iopub_msg_rate_limit=1000.0 (msgs/sec)\n",
      "ServerApp.rate_limit_window=3.0 (secs)\n",
      "\n"
     ]
    },
    {
     "name": "stdout",
     "output_type": "stream",
     "text": [
      "Found 12049/230189 targets, searched through 187874420 accession IDs...\r"
     ]
    },
    {
     "name": "stderr",
     "output_type": "stream",
     "text": [
      "IOPub message rate exceeded.\n",
      "The Jupyter server will temporarily stop sending output\n",
      "to the client in order to avoid crashing it.\n",
      "To change this limit, set the config variable\n",
      "`--ServerApp.iopub_msg_rate_limit`.\n",
      "\n",
      "Current values:\n",
      "ServerApp.iopub_msg_rate_limit=1000.0 (msgs/sec)\n",
      "ServerApp.rate_limit_window=3.0 (secs)\n",
      "\n"
     ]
    },
    {
     "name": "stdout",
     "output_type": "stream",
     "text": [
      "Found 14524/230189 targets, searched through 188353601 accession IDs...\r"
     ]
    },
    {
     "name": "stderr",
     "output_type": "stream",
     "text": [
      "IOPub message rate exceeded.\n",
      "The Jupyter server will temporarily stop sending output\n",
      "to the client in order to avoid crashing it.\n",
      "To change this limit, set the config variable\n",
      "`--ServerApp.iopub_msg_rate_limit`.\n",
      "\n",
      "Current values:\n",
      "ServerApp.iopub_msg_rate_limit=1000.0 (msgs/sec)\n",
      "ServerApp.rate_limit_window=3.0 (secs)\n",
      "\n"
     ]
    },
    {
     "name": "stdout",
     "output_type": "stream",
     "text": [
      "Found 17811/230189 targets, searched through 191446096 accession IDs...\r"
     ]
    },
    {
     "name": "stderr",
     "output_type": "stream",
     "text": [
      "IOPub message rate exceeded.\n",
      "The Jupyter server will temporarily stop sending output\n",
      "to the client in order to avoid crashing it.\n",
      "To change this limit, set the config variable\n",
      "`--ServerApp.iopub_msg_rate_limit`.\n",
      "\n",
      "Current values:\n",
      "ServerApp.iopub_msg_rate_limit=1000.0 (msgs/sec)\n",
      "ServerApp.rate_limit_window=3.0 (secs)\n",
      "\n"
     ]
    },
    {
     "name": "stdout",
     "output_type": "stream",
     "text": [
      "Found 23232/230189 targets, searched through 193185158 accession IDs...\r"
     ]
    },
    {
     "name": "stderr",
     "output_type": "stream",
     "text": [
      "IOPub message rate exceeded.\n",
      "The Jupyter server will temporarily stop sending output\n",
      "to the client in order to avoid crashing it.\n",
      "To change this limit, set the config variable\n",
      "`--ServerApp.iopub_msg_rate_limit`.\n",
      "\n",
      "Current values:\n",
      "ServerApp.iopub_msg_rate_limit=1000.0 (msgs/sec)\n",
      "ServerApp.rate_limit_window=3.0 (secs)\n",
      "\n"
     ]
    },
    {
     "name": "stdout",
     "output_type": "stream",
     "text": [
      "Found 25538/230189 targets, searched through 193187478 accession IDs...\r"
     ]
    },
    {
     "name": "stderr",
     "output_type": "stream",
     "text": [
      "IOPub message rate exceeded.\n",
      "The Jupyter server will temporarily stop sending output\n",
      "to the client in order to avoid crashing it.\n",
      "To change this limit, set the config variable\n",
      "`--ServerApp.iopub_msg_rate_limit`.\n",
      "\n",
      "Current values:\n",
      "ServerApp.iopub_msg_rate_limit=1000.0 (msgs/sec)\n",
      "ServerApp.rate_limit_window=3.0 (secs)\n",
      "\n"
     ]
    },
    {
     "name": "stdout",
     "output_type": "stream",
     "text": [
      "Found 28359/230189 targets, searched through 193490016 accession IDs...\r"
     ]
    },
    {
     "name": "stderr",
     "output_type": "stream",
     "text": [
      "IOPub message rate exceeded.\n",
      "The Jupyter server will temporarily stop sending output\n",
      "to the client in order to avoid crashing it.\n",
      "To change this limit, set the config variable\n",
      "`--ServerApp.iopub_msg_rate_limit`.\n",
      "\n",
      "Current values:\n",
      "ServerApp.iopub_msg_rate_limit=1000.0 (msgs/sec)\n",
      "ServerApp.rate_limit_window=3.0 (secs)\n",
      "\n"
     ]
    },
    {
     "name": "stdout",
     "output_type": "stream",
     "text": [
      "Found 31480/230189 targets, searched through 193657294 accession IDs...\r"
     ]
    },
    {
     "name": "stderr",
     "output_type": "stream",
     "text": [
      "IOPub message rate exceeded.\n",
      "The Jupyter server will temporarily stop sending output\n",
      "to the client in order to avoid crashing it.\n",
      "To change this limit, set the config variable\n",
      "`--ServerApp.iopub_msg_rate_limit`.\n",
      "\n",
      "Current values:\n",
      "ServerApp.iopub_msg_rate_limit=1000.0 (msgs/sec)\n",
      "ServerApp.rate_limit_window=3.0 (secs)\n",
      "\n"
     ]
    },
    {
     "name": "stdout",
     "output_type": "stream",
     "text": [
      "Found 33514/230189 targets, searched through 196454795 accession IDs...\r"
     ]
    },
    {
     "name": "stderr",
     "output_type": "stream",
     "text": [
      "IOPub message rate exceeded.\n",
      "The Jupyter server will temporarily stop sending output\n",
      "to the client in order to avoid crashing it.\n",
      "To change this limit, set the config variable\n",
      "`--ServerApp.iopub_msg_rate_limit`.\n",
      "\n",
      "Current values:\n",
      "ServerApp.iopub_msg_rate_limit=1000.0 (msgs/sec)\n",
      "ServerApp.rate_limit_window=3.0 (secs)\n",
      "\n"
     ]
    },
    {
     "name": "stdout",
     "output_type": "stream",
     "text": [
      "Found 41840/230189 targets, searched through 218183103 accession IDs...\r"
     ]
    },
    {
     "name": "stderr",
     "output_type": "stream",
     "text": [
      "IOPub message rate exceeded.\n",
      "The Jupyter server will temporarily stop sending output\n",
      "to the client in order to avoid crashing it.\n",
      "To change this limit, set the config variable\n",
      "`--ServerApp.iopub_msg_rate_limit`.\n",
      "\n",
      "Current values:\n",
      "ServerApp.iopub_msg_rate_limit=1000.0 (msgs/sec)\n",
      "ServerApp.rate_limit_window=3.0 (secs)\n",
      "\n"
     ]
    },
    {
     "name": "stdout",
     "output_type": "stream",
     "text": [
      "Found 50556/230189 targets, searched through 218346306 accession IDs...\r"
     ]
    },
    {
     "name": "stderr",
     "output_type": "stream",
     "text": [
      "IOPub message rate exceeded.\n",
      "The Jupyter server will temporarily stop sending output\n",
      "to the client in order to avoid crashing it.\n",
      "To change this limit, set the config variable\n",
      "`--ServerApp.iopub_msg_rate_limit`.\n",
      "\n",
      "Current values:\n",
      "ServerApp.iopub_msg_rate_limit=1000.0 (msgs/sec)\n",
      "ServerApp.rate_limit_window=3.0 (secs)\n",
      "\n"
     ]
    },
    {
     "name": "stdout",
     "output_type": "stream",
     "text": [
      "Found 61946/230189 targets, searched through 218644806 accession IDs...\r"
     ]
    },
    {
     "name": "stderr",
     "output_type": "stream",
     "text": [
      "IOPub message rate exceeded.\n",
      "The Jupyter server will temporarily stop sending output\n",
      "to the client in order to avoid crashing it.\n",
      "To change this limit, set the config variable\n",
      "`--ServerApp.iopub_msg_rate_limit`.\n",
      "\n",
      "Current values:\n",
      "ServerApp.iopub_msg_rate_limit=1000.0 (msgs/sec)\n",
      "ServerApp.rate_limit_window=3.0 (secs)\n",
      "\n"
     ]
    },
    {
     "name": "stdout",
     "output_type": "stream",
     "text": [
      "Found 65856/230189 targets, searched through 218683253 accession IDs...\r"
     ]
    },
    {
     "name": "stderr",
     "output_type": "stream",
     "text": [
      "IOPub message rate exceeded.\n",
      "The Jupyter server will temporarily stop sending output\n",
      "to the client in order to avoid crashing it.\n",
      "To change this limit, set the config variable\n",
      "`--ServerApp.iopub_msg_rate_limit`.\n",
      "\n",
      "Current values:\n",
      "ServerApp.iopub_msg_rate_limit=1000.0 (msgs/sec)\n",
      "ServerApp.rate_limit_window=3.0 (secs)\n",
      "\n"
     ]
    },
    {
     "name": "stdout",
     "output_type": "stream",
     "text": [
      "Found 69885/230189 targets, searched through 218699719 accession IDs...\r"
     ]
    },
    {
     "name": "stderr",
     "output_type": "stream",
     "text": [
      "IOPub message rate exceeded.\n",
      "The Jupyter server will temporarily stop sending output\n",
      "to the client in order to avoid crashing it.\n",
      "To change this limit, set the config variable\n",
      "`--ServerApp.iopub_msg_rate_limit`.\n",
      "\n",
      "Current values:\n",
      "ServerApp.iopub_msg_rate_limit=1000.0 (msgs/sec)\n",
      "ServerApp.rate_limit_window=3.0 (secs)\n",
      "\n"
     ]
    },
    {
     "name": "stdout",
     "output_type": "stream",
     "text": [
      "Found 74746/230189 targets, searched through 218803661 accession IDs...\r"
     ]
    },
    {
     "name": "stderr",
     "output_type": "stream",
     "text": [
      "IOPub message rate exceeded.\n",
      "The Jupyter server will temporarily stop sending output\n",
      "to the client in order to avoid crashing it.\n",
      "To change this limit, set the config variable\n",
      "`--ServerApp.iopub_msg_rate_limit`.\n",
      "\n",
      "Current values:\n",
      "ServerApp.iopub_msg_rate_limit=1000.0 (msgs/sec)\n",
      "ServerApp.rate_limit_window=3.0 (secs)\n",
      "\n"
     ]
    },
    {
     "name": "stdout",
     "output_type": "stream",
     "text": [
      "Found 83436/230189 targets, searched through 220699019 accession IDs...\r"
     ]
    },
    {
     "name": "stderr",
     "output_type": "stream",
     "text": [
      "IOPub message rate exceeded.\n",
      "The Jupyter server will temporarily stop sending output\n",
      "to the client in order to avoid crashing it.\n",
      "To change this limit, set the config variable\n",
      "`--ServerApp.iopub_msg_rate_limit`.\n",
      "\n",
      "Current values:\n",
      "ServerApp.iopub_msg_rate_limit=1000.0 (msgs/sec)\n",
      "ServerApp.rate_limit_window=3.0 (secs)\n",
      "\n"
     ]
    },
    {
     "name": "stdout",
     "output_type": "stream",
     "text": [
      "Found 90532/230189 targets, searched through 220872565 accession IDs...\r"
     ]
    },
    {
     "name": "stderr",
     "output_type": "stream",
     "text": [
      "IOPub message rate exceeded.\n",
      "The Jupyter server will temporarily stop sending output\n",
      "to the client in order to avoid crashing it.\n",
      "To change this limit, set the config variable\n",
      "`--ServerApp.iopub_msg_rate_limit`.\n",
      "\n",
      "Current values:\n",
      "ServerApp.iopub_msg_rate_limit=1000.0 (msgs/sec)\n",
      "ServerApp.rate_limit_window=3.0 (secs)\n",
      "\n"
     ]
    },
    {
     "name": "stdout",
     "output_type": "stream",
     "text": [
      "Found 105538/230189 targets, searched through 221068943 accession IDs...\r"
     ]
    },
    {
     "name": "stderr",
     "output_type": "stream",
     "text": [
      "IOPub message rate exceeded.\n",
      "The Jupyter server will temporarily stop sending output\n",
      "to the client in order to avoid crashing it.\n",
      "To change this limit, set the config variable\n",
      "`--ServerApp.iopub_msg_rate_limit`.\n",
      "\n",
      "Current values:\n",
      "ServerApp.iopub_msg_rate_limit=1000.0 (msgs/sec)\n",
      "ServerApp.rate_limit_window=3.0 (secs)\n",
      "\n"
     ]
    },
    {
     "name": "stdout",
     "output_type": "stream",
     "text": [
      "Found 116882/230189 targets, searched through 221228564 accession IDs...\r"
     ]
    },
    {
     "name": "stderr",
     "output_type": "stream",
     "text": [
      "IOPub message rate exceeded.\n",
      "The Jupyter server will temporarily stop sending output\n",
      "to the client in order to avoid crashing it.\n",
      "To change this limit, set the config variable\n",
      "`--ServerApp.iopub_msg_rate_limit`.\n",
      "\n",
      "Current values:\n",
      "ServerApp.iopub_msg_rate_limit=1000.0 (msgs/sec)\n",
      "ServerApp.rate_limit_window=3.0 (secs)\n",
      "\n"
     ]
    },
    {
     "name": "stdout",
     "output_type": "stream",
     "text": [
      "Found 126645/230189 targets, searched through 221366431 accession IDs...\r"
     ]
    },
    {
     "name": "stderr",
     "output_type": "stream",
     "text": [
      "IOPub message rate exceeded.\n",
      "The Jupyter server will temporarily stop sending output\n",
      "to the client in order to avoid crashing it.\n",
      "To change this limit, set the config variable\n",
      "`--ServerApp.iopub_msg_rate_limit`.\n",
      "\n",
      "Current values:\n",
      "ServerApp.iopub_msg_rate_limit=1000.0 (msgs/sec)\n",
      "ServerApp.rate_limit_window=3.0 (secs)\n",
      "\n"
     ]
    },
    {
     "name": "stdout",
     "output_type": "stream",
     "text": [
      "Found 135738/230189 targets, searched through 221508186 accession IDs...\r"
     ]
    },
    {
     "name": "stderr",
     "output_type": "stream",
     "text": [
      "IOPub message rate exceeded.\n",
      "The Jupyter server will temporarily stop sending output\n",
      "to the client in order to avoid crashing it.\n",
      "To change this limit, set the config variable\n",
      "`--ServerApp.iopub_msg_rate_limit`.\n",
      "\n",
      "Current values:\n",
      "ServerApp.iopub_msg_rate_limit=1000.0 (msgs/sec)\n",
      "ServerApp.rate_limit_window=3.0 (secs)\n",
      "\n"
     ]
    },
    {
     "name": "stdout",
     "output_type": "stream",
     "text": [
      "Found 139089/230189 targets, searched through 222512605 accession IDs...\r"
     ]
    },
    {
     "name": "stderr",
     "output_type": "stream",
     "text": [
      "IOPub message rate exceeded.\n",
      "The Jupyter server will temporarily stop sending output\n",
      "to the client in order to avoid crashing it.\n",
      "To change this limit, set the config variable\n",
      "`--ServerApp.iopub_msg_rate_limit`.\n",
      "\n",
      "Current values:\n",
      "ServerApp.iopub_msg_rate_limit=1000.0 (msgs/sec)\n",
      "ServerApp.rate_limit_window=3.0 (secs)\n",
      "\n"
     ]
    },
    {
     "name": "stdout",
     "output_type": "stream",
     "text": [
      "Found 145493/230189 targets, searched through 222594403 accession IDs...\r"
     ]
    },
    {
     "name": "stderr",
     "output_type": "stream",
     "text": [
      "IOPub message rate exceeded.\n",
      "The Jupyter server will temporarily stop sending output\n",
      "to the client in order to avoid crashing it.\n",
      "To change this limit, set the config variable\n",
      "`--ServerApp.iopub_msg_rate_limit`.\n",
      "\n",
      "Current values:\n",
      "ServerApp.iopub_msg_rate_limit=1000.0 (msgs/sec)\n",
      "ServerApp.rate_limit_window=3.0 (secs)\n",
      "\n"
     ]
    },
    {
     "name": "stdout",
     "output_type": "stream",
     "text": [
      "Found 155891/230189 targets, searched through 222761647 accession IDs...\r"
     ]
    },
    {
     "name": "stderr",
     "output_type": "stream",
     "text": [
      "IOPub message rate exceeded.\n",
      "The Jupyter server will temporarily stop sending output\n",
      "to the client in order to avoid crashing it.\n",
      "To change this limit, set the config variable\n",
      "`--ServerApp.iopub_msg_rate_limit`.\n",
      "\n",
      "Current values:\n",
      "ServerApp.iopub_msg_rate_limit=1000.0 (msgs/sec)\n",
      "ServerApp.rate_limit_window=3.0 (secs)\n",
      "\n"
     ]
    },
    {
     "name": "stdout",
     "output_type": "stream",
     "text": [
      "Found 166636/230189 targets, searched through 222984772 accession IDs...\r"
     ]
    },
    {
     "name": "stderr",
     "output_type": "stream",
     "text": [
      "IOPub message rate exceeded.\n",
      "The Jupyter server will temporarily stop sending output\n",
      "to the client in order to avoid crashing it.\n",
      "To change this limit, set the config variable\n",
      "`--ServerApp.iopub_msg_rate_limit`.\n",
      "\n",
      "Current values:\n",
      "ServerApp.iopub_msg_rate_limit=1000.0 (msgs/sec)\n",
      "ServerApp.rate_limit_window=3.0 (secs)\n",
      "\n"
     ]
    },
    {
     "name": "stdout",
     "output_type": "stream",
     "text": [
      "Found 177516/230189 targets, searched through 223204688 accession IDs...\r"
     ]
    },
    {
     "name": "stderr",
     "output_type": "stream",
     "text": [
      "IOPub message rate exceeded.\n",
      "The Jupyter server will temporarily stop sending output\n",
      "to the client in order to avoid crashing it.\n",
      "To change this limit, set the config variable\n",
      "`--ServerApp.iopub_msg_rate_limit`.\n",
      "\n",
      "Current values:\n",
      "ServerApp.iopub_msg_rate_limit=1000.0 (msgs/sec)\n",
      "ServerApp.rate_limit_window=3.0 (secs)\n",
      "\n"
     ]
    },
    {
     "name": "stdout",
     "output_type": "stream",
     "text": [
      "Found 184127/230189 targets, searched through 223450853 accession IDs...\r"
     ]
    },
    {
     "name": "stderr",
     "output_type": "stream",
     "text": [
      "IOPub message rate exceeded.\n",
      "The Jupyter server will temporarily stop sending output\n",
      "to the client in order to avoid crashing it.\n",
      "To change this limit, set the config variable\n",
      "`--ServerApp.iopub_msg_rate_limit`.\n",
      "\n",
      "Current values:\n",
      "ServerApp.iopub_msg_rate_limit=1000.0 (msgs/sec)\n",
      "ServerApp.rate_limit_window=3.0 (secs)\n",
      "\n"
     ]
    },
    {
     "name": "stdout",
     "output_type": "stream",
     "text": [
      "Found 189064/230189 targets, searched through 225280584 accession IDs...\r"
     ]
    },
    {
     "name": "stderr",
     "output_type": "stream",
     "text": [
      "IOPub message rate exceeded.\n",
      "The Jupyter server will temporarily stop sending output\n",
      "to the client in order to avoid crashing it.\n",
      "To change this limit, set the config variable\n",
      "`--ServerApp.iopub_msg_rate_limit`.\n",
      "\n",
      "Current values:\n",
      "ServerApp.iopub_msg_rate_limit=1000.0 (msgs/sec)\n",
      "ServerApp.rate_limit_window=3.0 (secs)\n",
      "\n"
     ]
    },
    {
     "name": "stdout",
     "output_type": "stream",
     "text": [
      "Found 193663/230189 targets, searched through 225306478 accession IDs...\r"
     ]
    },
    {
     "name": "stderr",
     "output_type": "stream",
     "text": [
      "IOPub message rate exceeded.\n",
      "The Jupyter server will temporarily stop sending output\n",
      "to the client in order to avoid crashing it.\n",
      "To change this limit, set the config variable\n",
      "`--ServerApp.iopub_msg_rate_limit`.\n",
      "\n",
      "Current values:\n",
      "ServerApp.iopub_msg_rate_limit=1000.0 (msgs/sec)\n",
      "ServerApp.rate_limit_window=3.0 (secs)\n",
      "\n"
     ]
    },
    {
     "name": "stdout",
     "output_type": "stream",
     "text": [
      "Found 197694/230189 targets, searched through 225410304 accession IDs...\r"
     ]
    },
    {
     "name": "stderr",
     "output_type": "stream",
     "text": [
      "IOPub message rate exceeded.\n",
      "The Jupyter server will temporarily stop sending output\n",
      "to the client in order to avoid crashing it.\n",
      "To change this limit, set the config variable\n",
      "`--ServerApp.iopub_msg_rate_limit`.\n",
      "\n",
      "Current values:\n",
      "ServerApp.iopub_msg_rate_limit=1000.0 (msgs/sec)\n",
      "ServerApp.rate_limit_window=3.0 (secs)\n",
      "\n"
     ]
    },
    {
     "name": "stdout",
     "output_type": "stream",
     "text": [
      "Found 208878/230189 targets, searched through 225582731 accession IDs...\r"
     ]
    },
    {
     "name": "stderr",
     "output_type": "stream",
     "text": [
      "IOPub message rate exceeded.\n",
      "The Jupyter server will temporarily stop sending output\n",
      "to the client in order to avoid crashing it.\n",
      "To change this limit, set the config variable\n",
      "`--ServerApp.iopub_msg_rate_limit`.\n",
      "\n",
      "Current values:\n",
      "ServerApp.iopub_msg_rate_limit=1000.0 (msgs/sec)\n",
      "ServerApp.rate_limit_window=3.0 (secs)\n",
      "\n"
     ]
    },
    {
     "name": "stdout",
     "output_type": "stream",
     "text": [
      "Found 213758/230189 targets, searched through 231146059 accession IDs...\r"
     ]
    },
    {
     "name": "stderr",
     "output_type": "stream",
     "text": [
      "IOPub message rate exceeded.\n",
      "The Jupyter server will temporarily stop sending output\n",
      "to the client in order to avoid crashing it.\n",
      "To change this limit, set the config variable\n",
      "`--ServerApp.iopub_msg_rate_limit`.\n",
      "\n",
      "Current values:\n",
      "ServerApp.iopub_msg_rate_limit=1000.0 (msgs/sec)\n",
      "ServerApp.rate_limit_window=3.0 (secs)\n",
      "\n"
     ]
    },
    {
     "name": "stdout",
     "output_type": "stream",
     "text": [
      "Found 215779/230189 targets, searched through 231155274 accession IDs...\r"
     ]
    },
    {
     "name": "stderr",
     "output_type": "stream",
     "text": [
      "IOPub message rate exceeded.\n",
      "The Jupyter server will temporarily stop sending output\n",
      "to the client in order to avoid crashing it.\n",
      "To change this limit, set the config variable\n",
      "`--ServerApp.iopub_msg_rate_limit`.\n",
      "\n",
      "Current values:\n",
      "ServerApp.iopub_msg_rate_limit=1000.0 (msgs/sec)\n",
      "ServerApp.rate_limit_window=3.0 (secs)\n",
      "\n"
     ]
    },
    {
     "name": "stdout",
     "output_type": "stream",
     "text": [
      "Found 217487/230189 targets, searched through 231161464 accession IDs...\r"
     ]
    },
    {
     "name": "stderr",
     "output_type": "stream",
     "text": [
      "IOPub message rate exceeded.\n",
      "The Jupyter server will temporarily stop sending output\n",
      "to the client in order to avoid crashing it.\n",
      "To change this limit, set the config variable\n",
      "`--ServerApp.iopub_msg_rate_limit`.\n",
      "\n",
      "Current values:\n",
      "ServerApp.iopub_msg_rate_limit=1000.0 (msgs/sec)\n",
      "ServerApp.rate_limit_window=3.0 (secs)\n",
      "\n"
     ]
    },
    {
     "name": "stdout",
     "output_type": "stream",
     "text": [
      "Found 220195/230189 targets, searched through 231167375 accession IDs...\r"
     ]
    },
    {
     "name": "stderr",
     "output_type": "stream",
     "text": [
      "IOPub message rate exceeded.\n",
      "The Jupyter server will temporarily stop sending output\n",
      "to the client in order to avoid crashing it.\n",
      "To change this limit, set the config variable\n",
      "`--ServerApp.iopub_msg_rate_limit`.\n",
      "\n",
      "Current values:\n",
      "ServerApp.iopub_msg_rate_limit=1000.0 (msgs/sec)\n",
      "ServerApp.rate_limit_window=3.0 (secs)\n",
      "\n"
     ]
    },
    {
     "name": "stdout",
     "output_type": "stream",
     "text": [
      "Found 223017/230189 targets, searched through 231176760 accession IDs...\r"
     ]
    },
    {
     "name": "stderr",
     "output_type": "stream",
     "text": [
      "IOPub message rate exceeded.\n",
      "The Jupyter server will temporarily stop sending output\n",
      "to the client in order to avoid crashing it.\n",
      "To change this limit, set the config variable\n",
      "`--ServerApp.iopub_msg_rate_limit`.\n",
      "\n",
      "Current values:\n",
      "ServerApp.iopub_msg_rate_limit=1000.0 (msgs/sec)\n",
      "ServerApp.rate_limit_window=3.0 (secs)\n",
      "\n"
     ]
    },
    {
     "name": "stdout",
     "output_type": "stream",
     "text": [
      "Found 230186/230189 targets, searched through 327566049 accession IDs, search complete.\n",
      "lookup_accession_numbers: 3/230189 accession numbers remain unmapped, see unmapped.txt in DB directory\n",
      "Sequence ID to taxonomy ID map complete. [3m17.829s]\n",
      "Estimating required capacity (step 2)...\n",
      "Estimated hash table requirement: 668180480 bytes\n",
      "Capacity estimation complete. [32.085s]\n",
      "Building database files (step 3)...\n",
      "Taxonomy parsed and converted.\n",
      "CHT created with 18 bits reserved for taxid.\n",
      "Completed processing of 417664 sequences, 1220666255 bp\n",
      "Writing data to disk...  complete.\n",
      "Database files completed. [3m52.411s]\n",
      "Database construction complete. [Total: 7m42.486s]\n"
     ]
    }
   ],
   "source": [
    "kraken2-build \\\n",
    "    --build \\\n",
    "    --db ${DB_PATH}"
   ]
  },
  {
   "cell_type": "code",
   "execution_count": 27,
   "id": "8774fd81-07f8-4f76-b4de-381492e98601",
   "metadata": {},
   "outputs": [
    {
     "name": "stdout",
     "output_type": "stream",
     "text": [
      "/lustre/scratch126/gsu/team112/personal/fs5/rvi_dev/krakenDBs/kraken_flu//databases/refseq_ncbiFlu_022124\n"
     ]
    }
   ],
   "source": [
    "echo ${DB_PATH}"
   ]
  },
  {
   "cell_type": "markdown",
   "id": "c0007f0f-9133-4a77-941e-74f04c8ef355",
   "metadata": {},
   "source": [
    "## Test with simulated data\n",
    "Run with a set of simulated reads for all the current viruses of interest.\n"
   ]
  },
  {
   "cell_type": "code",
   "execution_count": 28,
   "id": "8f37667f-adf8-49ae-b446-8813666e748f",
   "metadata": {},
   "outputs": [],
   "source": [
    "export TEST_BASE_DIR=/lustre/scratch126/gsu/team112/personal/fs5/rvi_dev/krakenDBs/kraken_flu_test_022124"
   ]
  },
  {
   "cell_type": "code",
   "execution_count": 29,
   "id": "e50475af-585b-4530-a7fc-594b4483563a",
   "metadata": {},
   "outputs": [],
   "source": [
    "mkdir -p ${TEST_BASE_DIR}"
   ]
  },
  {
   "cell_type": "code",
   "execution_count": 30,
   "id": "0db6cc5d-8575-4bd0-8830-61d1df5aaf47",
   "metadata": {},
   "outputs": [
    {
     "name": "stdout",
     "output_type": "stream",
     "text": [
      "Loading database information... done.\n",
      "6620 sequences (1.99 Mbp) processed in 0.335s (1187.0 Kseq/m, 356.09 Mbp/m).\n",
      "  6618 sequences classified (99.97%)\n",
      "  2 sequences unclassified (0.03%)\n"
     ]
    }
   ],
   "source": [
    "kraken2 \\\n",
    "    --db ${DB_PATH} \\\n",
    "    --output ${TEST_BASE_DIR}/output.kraken \\\n",
    "    --paired \\\n",
    "    --classified-out ${TEST_BASE_DIR}/class_seqs#.fq \\\n",
    "    --unclassified-out ${TEST_BASE_DIR}/unclass_seqs#.fq \\\n",
    "    --report ${TEST_BASE_DIR}/report.txt \\\n",
    "/lustre/scratch126/gsu/team112/personal/fs5/rvi_dev/sim_reads/art/mix/mix_of_all_01-1.fq \\\n",
    "/lustre/scratch126/gsu/team112/personal/fs5/rvi_dev/sim_reads/art/mix/mix_of_all_01-2.fq"
   ]
  },
  {
   "cell_type": "code",
   "execution_count": 31,
   "id": "37bb54f1-caa2-4bf0-b246-206c67ac0bab",
   "metadata": {},
   "outputs": [
    {
     "name": "stdout",
     "output_type": "stream",
     "text": [
      "  0.03\t2\t2\tU\t0\tunclassified\n",
      " 99.97\t6618\t0\tR\t1\troot\n",
      " 99.97\t6618\t0\tD\t10239\t  Viruses\n",
      " 99.97\t6618\t0\tD1\t2559587\t    Riboviria\n",
      " 99.97\t6618\t0\tK\t2732396\t      Orthornavirae\n",
      " 69.91\t4628\t0\tP\t2497569\t        Negarnaviricota\n",
      " 39.43\t2610\t0\tP1\t2497571\t          Polyploviricotina\n",
      " 39.43\t2610\t0\tC\t2497577\t            Insthoviricetes\n",
      " 39.43\t2610\t0\tO\t2499411\t              Articulavirales\n",
      " 39.43\t2610\t0\tF\t11308\t                Orthomyxoviridae\n",
      " 25.53\t1690\t0\tG\t197911\t                  Alphainfluenzavirus\n",
      " 25.53\t1690\t0\tS\t2955291\t                    Alphainfluenzavirus influenzae\n",
      " 25.53\t1690\t1271\tS1\t11320\t                      Influenza A virus\n",
      "  1.34\t89\t44\tS2\t3121628\t                        Influenza A segment 2\n",
      "  0.33\t22\t22\tS3\t3149249\t                          A/New York/392/2004(H3N2) segment 2\n",
      "  0.06\t4\t4\tS3\t3673473\t                          A/swine/Guangxi/2920/2011(H1N2) segment 2\n",
      "  0.02\t1\t1\tS3\t3770569\t                          A/Delaware/09/2015(H3N2) segment 2\n",
      "  0.02\t1\t1\tS3\t3898505\t                          A/swine/Rancagua/VN1401-1459/2015(H1N1) segment 2\n",
      "  0.02\t1\t1\tS3\t3672297\t                          A/swine/Hong Kong/NS3815/2010(H1N1) segment 2\n",
      "  0.02\t1\t1\tS3\t3845873\t                          A/New York/79/2016(H1N1) segment 2\n",
      "  0.02\t1\t1\tS3\t3225017\t                          A/swine/Iowa/H02AS8/2002(H3N2) segment 2\n",
      "  0.02\t1\t1\tS3\t3605089\t                          A/India/Nag132467/2013(H1N1) segment 2\n",
      "  0.02\t1\t1\tS3\t3605073\t                          A/swine/Henan/1/2010(H3N2) segment 2\n",
      "  0.02\t1\t1\tS3\t3411057\t                          A/Jiangsu/S62/2009(H1N1) segment 2\n",
      "  0.02\t1\t1\tS3\t3671601\t                          A/swine/Guangdong/NS2801/2010(H1N1) segment 2\n",
      "  0.02\t1\t1\tS3\t3158201\t                          A/Canterbury/270/2005(H3N2) segment 2\n",
      "  0.02\t1\t1\tS3\t3811697\t                          A/Idaho/42/2015(H1N1) segment 2\n",
      "  0.02\t1\t1\tS3\t3145137\t                          A/New York/184/1999(H3N2) segment 2\n",
      "  0.02\t1\t1\tS3\t3341649\t                          A/Wisconsin/629-D00938/2009(H1N1) segment 2\n",
      "  0.02\t1\t1\tS3\t3367329\t                          A/Blagovechensk/01/2009(H1N1) segment 2\n",
      "  0.02\t1\t1\tS3\t3155505\t                          A/red knot/NJ/325/1989(H7N7) segment 2\n",
      "  0.02\t1\t1\tS3\t3157113\t                          A/Canterbury/16/2004(H3N2) segment 2\n",
      "  0.02\t1\t1\tS3\t3743505\t                          A/swine/England/61470/2013(H1N2) segment 2\n",
      "  0.02\t1\t1\tS3\t3414657\t                          A/India/GWL_DSC/2010(H1N1) segment 2\n",
      "  0.02\t1\t1\tS3\t3613657\t                          A/Santa Cruz/995/2010(H1N1) segment 2\n",
      "  1.24\t82\t0\tS2\t3121630\t                        Influenza A segment 4\n",
      "  0.97\t64\t33\tS3\t3121637\t                          Influenza A H3 segment 4\n",
      "  0.39\t26\t26\tS4\t3149251\t                            A/New York/392/2004(H3N2) segment 4\n",
      "  0.02\t1\t1\tS4\t3412707\t                            A/swine/QC/1840-2/2009(H3N2) segment 4\n",
      "  0.02\t1\t1\tS4\t3169707\t                            A/Waikato/139/2003(H3N2) segment 4\n",
      "  0.02\t1\t1\tS4\t3652763\t                            A/swine/Tochigi/14/2013(H3N2) segment 4\n",
      "  0.02\t1\t1\tS4\t3809395\t                            A/swine/Mexico/AVX13/2012(H3N2) segment 4\n",
      "  0.02\t1\t1\tS4\t3168395\t                            A/New York/714/1994(H3N2) segment 4\n",
      "  0.27\t18\t8\tS3\t3121635\t                          Influenza A H1 segment 4\n",
      "  0.02\t1\t1\tS4\t3377331\t                            A/Odense/INS307/2009(H1N1) segment 4\n",
      "  0.02\t1\t1\tS4\t3667259\t                            A/Sri Lanka/22700/2010(H1N1) segment 4\n",
      "  0.02\t1\t1\tS4\t3503251\t                            A/swine/Shandong/327/2010(H1N1) segment 4\n",
      "  0.02\t1\t1\tS4\t3411611\t                            A/swine/Jangsu/38/2010(H1N1) segment 4\n",
      "  0.02\t1\t1\tS4\t3411619\t                            A/swine/Jangsu/434/2010(H1N1) segment 4\n",
      "  0.02\t1\t1\tS4\t3342067\t                            A/Wisconsin/629-D00459/2009(H1N1) segment 4\n",
      "  0.02\t1\t1\tS4\t3918411\t                            A/Mexico/4431/2016(H1N1) segment 4\n",
      "  0.02\t1\t1\tS4\t3753915\t                            A/Singapore/DMS35/2009(H1N1) segment 4\n",
      "  0.02\t1\t1\tS4\t3673851\t                            A/swine/Hong Kong/NS26/2012(H1N2) segment 4\n",
      "  0.02\t1\t1\tS4\t3571579\t                            A/Colorado/02/2010(H1N1) segment 4\n",
      "  1.04\t69\t30\tS2\t3121629\t                        Influenza A segment 3\n",
      "  0.41\t27\t27\tS3\t3149250\t                          A/New York/392/2004(H3N2) segment 3\n",
      "  0.02\t1\t1\tS3\t3575378\t                          A/Wisconsin/53/2009(H1N1) segment 3\n",
      "  0.02\t1\t1\tS3\t3146226\t                          A/New York/303/2001(H1N1) segment 3\n",
      "  0.02\t1\t1\tS3\t3663682\t                          A/swine/Guangxi/1/2013(H1N1) segment 3\n",
      "  0.02\t1\t1\tS3\t3411058\t                          A/Jiangsu/S62/2009(H1N1) segment 3\n",
      "  0.02\t1\t1\tS3\t3775146\t                          A/North Carolina/29/2015(H3N2) segment 3\n",
      "  0.02\t1\t1\tS3\t3928178\t                          A/swine/North Carolina/A02219753/2017(H3N2) segment 3\n",
      "  0.02\t1\t1\tS3\t3844738\t                          A/Hawaii/61/2016(H3N2) segment 3\n",
      "  0.02\t1\t1\tS3\t3551026\t                          A/swine/Minnesota/A01279213/2012(H1N1) segment 3\n",
      "  0.02\t1\t1\tS3\t3948802\t                          A/Iowa/34/2017(H1N1) segment 3\n",
      "  0.02\t1\t1\tS3\t3831850\t                          A/turkey/Poland/14/2013(H9N2) segment 3\n",
      "  0.02\t1\t1\tS3\t3170922\t                          A/Memphis/8/1988(H3N2) segment 3\n",
      "  0.02\t1\t1\tS3\t3503170\t                          A/Taiwan/2116/2011(H1N1) segment 3\n",
      "  0.88\t58\t28\tS2\t3121627\t                        Influenza A segment 1\n",
      "  0.23\t15\t15\tS3\t3149248\t                          A/New York/392/2004(H3N2) segment 1\n",
      "  0.03\t2\t2\tS3\t3891336\t                          A/Santa Cruz do Sul/LACENRS-913/2011(H3N2) segment 1\n",
      "  0.02\t1\t1\tS3\t3414656\t                          A/India/GWL_DSC/2010(H1N1) segment 1\n",
      "  0.02\t1\t1\tS3\t3359688\t                          A/Wisconsin/629-D02442/2009(H1N1) segment 1\n",
      "  0.02\t1\t1\tS3\t3315088\t                          A/Wisconsin/629-S0220/2009(H1N1) segment 1\n",
      "  0.02\t1\t1\tS3\t3158664\t                          A/New York/518/1998(H3N2) segment 1\n",
      "  0.02\t1\t1\tS3\t3157248\t                          A/Canterbury/109/2004(H3N2) segment 1\n",
      "  0.02\t1\t1\tS3\t3517520\t                          A/swine/Illinois/A01202615/2011(H1N1) segment 1\n",
      "  0.02\t1\t1\tS3\t3794584\t                          A/Michigan/45/2015(H1N1) segment 1\n",
      "  0.02\t1\t1\tS3\t3671296\t                          A/Bangkok/SIMI503/2010(H1N1) segment 1\n",
      "  0.02\t1\t1\tS3\t3736592\t                          A/California/17/2014(H3N2) segment 1\n",
      "  0.02\t1\t1\tS3\t3314616\t                          A/Wisconsin/629-D01903/2009(H1N1) segment 1\n",
      "  0.02\t1\t1\tS3\t3784216\t                          A/swine/North Carolina/A01945748/2015(H1N2) segment 1\n",
      "  0.02\t1\t1\tS3\t3777184\t                          A/Virginia/37/2014(H3N2) segment 1\n",
      "  0.02\t1\t1\tS3\t3464904\t                          A/swine/Holguin/121/2010(H1N1) segment 1\n",
      "  0.63\t42\t0\tS2\t3121632\t                        Influenza A segment 6\n",
      "  0.47\t31\t11\tS3\t3121654\t                          Influenza A N2 segment 6\n",
      "  0.21\t14\t14\tS4\t3149253\t                            A/New York/392/2004(H3N2) segment 6\n",
      "  0.02\t1\t1\tS4\t3162445\t                            A/mallard/Ohio/97/1989(H4N2) segment 6\n",
      "  0.02\t1\t1\tS4\t3913053\t                            A/swine/Minnesota/A02216466/2017(H3N2) segment 6\n",
      "  0.02\t1\t1\tS4\t3675453\t                            A/swine/Guangxi/JGB4/2013(H3N2) segment 6\n",
      "  0.02\t1\t1\tS4\t3276517\t                            A/Hong Kong/HKU72/2005(H3N2) segment 6\n",
      "  0.02\t1\t1\tS4\t3667813\t                            A/swine/Italy/282811/2013(H3N2) segment 6\n",
      "  0.02\t1\t1\tS4\t3160997\t                            A/New York/540/1998(H3N2) segment 6\n",
      "  0.17\t11\t4\tS3\t3121653\t                          Influenza A N1 segment 6\n",
      "  0.02\t1\t1\tS4\t3452173\t                            A/Tula/CRIE-SIA/2011(H1N1) segment 6\n",
      "  0.02\t1\t1\tS4\t3743277\t                            A/swine/England/041313/2013(H1N1) segment 6\n",
      "  0.02\t1\t1\tS4\t3816517\t                            A/California/04-224-MA/2009(H1N1) segment 6\n",
      "  0.02\t1\t1\tS4\t3753037\t                            A/Singapore/DMS1154/2010(H1N1) segment 6\n",
      "  0.02\t1\t1\tS4\t3219677\t                            A/duck/Hunan/1386/2003(H5N1) segment 6\n",
      "  0.02\t1\t1\tS4\t3862325\t                            A/swine/France/35-160126/2016(H1N1) segment 6\n",
      "  0.02\t1\t1\tS4\t3530301\t                            A/Singapore/GP413/2010(H1N1) segment 6\n",
      "  0.50\t33\t17\tS2\t3121631\t                        Influenza A segment 5\n",
      "  0.20\t13\t13\tS3\t3284012\t                          A/California/07/2009(H1N1) segment 5\n",
      "  0.02\t1\t1\tS3\t3667140\t                          A/Sri Lanka/19838/2010(H1N1) segment 5\n",
      "  0.02\t1\t1\tS3\t3667100\t                          A/Sri Lanka/11/2012(H1N1) segment 5\n",
      "  0.02\t1\t1\tS3\t3840380\t                          A/swine/Minnesota/A01781222/2016(H3N2) segment 5\n",
      "  0.35\t23\t3\tS2\t3121633\t                        Influenza A segment 7\n",
      "  0.14\t9\t9\tS3\t3847902\t                          A/Rhode Island/29/2016(H3N2) segment 7\n",
      "  0.02\t1\t1\tS3\t3797342\t                          A/Florida/81/2015(H3N2) segment 7\n",
      "  0.02\t1\t1\tS3\t3641534\t                          A/chicken/Guangxi/S4029/2010(H6N6) segment 7\n",
      "  0.02\t1\t1\tS3\t3309990\t                          A/duck/France/06436/2006(H5N3) segment 7\n",
      "  0.02\t1\t1\tS3\t3685550\t                          A/Quebec/26-281106/2006(H3N2) segment 7\n",
      "  0.02\t1\t1\tS3\t3744510\t                          A/swine/Poland/16315/2011(H1N1) segment 7\n",
      "  0.02\t1\t1\tS3\t3407494\t                          A/mallard/Washington/44338-195/2007(H12N5) segment 7\n",
      "  0.02\t1\t1\tS3\t3608926\t                          A/swine/Missouri/A01432837/2013(H1N2) segment 7\n",
      "  0.02\t1\t1\tS3\t3736126\t                          A/India/Pun151245/2015(H1N1) segment 7\n",
      "  0.02\t1\t1\tS3\t3809622\t                          A/swine/Mexico/AVX42/2012(H1N1) segment 7\n",
      "  0.02\t1\t1\tS3\t3667126\t                          A/Sri Lanka/19/2012(H1N1) segment 7\n",
      "  0.02\t1\t1\tS3\t3276118\t                          A/Hong Kong/HKU22/2004(H3N2) segment 7\n",
      "  0.17\t11\t11\tS2\t102797\t                        Influenza A virus with incomplete names\n",
      "  0.15\t10\t6\tS2\t3121634\t                        Influenza A segment 8\n",
      "  0.02\t1\t1\tS3\t3338623\t                          A/Kurgan/01/2009(H1N1) segment 8\n",
      "  0.02\t1\t1\tS3\t3770367\t                          A/California/82/2015(H3N2) segment 8\n",
      "  0.02\t1\t1\tS3\t3368943\t                          A/chicken/Henan/A-7/2006(H5N1) segment 8\n",
      "  0.02\t1\t1\tS3\t3186599\t                          A/Memphis/38/1983(H1N1) segment 8\n",
      "  0.03\t2\t0\tS2\t119210\t                        H3N2 subtype\n",
      "  0.02\t1\t1\tS3\t1507939\t                          Influenza A virus (A/Ho Chi Minh/518.6/2010(H3N2))\n",
      "  0.02\t1\t1\tS3\t1517285\t                          Influenza A virus (A/Singapore/C2012.197/2012(H3N2))\n",
      " 13.90\t920\t0\tG\t197912\t                  Betainfluenzavirus\n",
      " 13.90\t920\t0\tS\t2955465\t                    Betainfluenzavirus influenzae\n",
      " 13.90\t920\t786\tS1\t11520\t                      Influenza B virus\n",
      "  0.95\t63\t63\tS2\t518987\t                        Influenza B virus (B/Lee/1940)\n",
      "  0.45\t30\t30\tS2\t444325\t                        Influenza B virus (B/Russia/69)\n",
      "  0.23\t15\t15\tS2\t529652\t                        Influenza B virus (B/Taiwan/91061/2005)\n",
      "  0.17\t11\t11\tS2\t518989\t                        Influenza B virus (B/NYMC BX-15(Lee/1940-Hawaii/33/2004))\n",
      "  0.12\t8\t8\tS2\t408884\t                        Influenza B virus (B/Brazil/975/2000)\n",
      "  0.02\t1\t1\tS2\t1883639\t                        Influenza B virus (B/Idaho/08/2016)\n",
      "  0.02\t1\t1\tS2\t1428363\t                        Influenza B virus (B/California/NHRC395522/2013)\n",
      "  0.02\t1\t1\tS2\t416664\t                        Influenza B virus (B/Chile/3162/2002)\n",
      "  0.02\t1\t1\tS2\t408921\t                        Influenza B virus (B/Houston/B850/2005)\n",
      "  0.02\t1\t1\tS2\t1910648\t                        Influenza B virus (B/Washington/44/2016)\n",
      "  0.02\t1\t1\tS2\t1884006\t                        Influenza B virus (B/Texas/25/2016)\n",
      "  0.02\t1\t1\tS2\t1640840\t                        Influenza B virus (B/Malaysia/U3901/2014)\n",
      " 30.48\t2018\t0\tP1\t2497570\t          Haploviricotina\n",
      " 30.48\t2018\t0\tC\t2497574\t            Monjiviricetes\n",
      " 30.48\t2018\t0\tO\t11157\t              Mononegavirales\n",
      " 30.48\t2018\t0\tF\t11244\t                Pneumoviridae\n",
      " 30.48\t2018\t2\tG\t1868215\t                  Orthopneumovirus\n",
      " 15.24\t1009\t0\tS\t3049954\t                    Orthopneumovirus hominis\n",
      " 15.24\t1009\t1009\tS1\t11250\t                      Human orthopneumovirus\n",
      " 15.21\t1007\t0\tS\t3050248\t                    Orthopneumovirus bovis\n",
      " 15.21\t1007\t0\tS1\t11246\t                      Bovine orthopneumovirus\n",
      " 15.21\t1007\t1007\tS2\t12814\t                        Respiratory syncytial virus\n",
      " 30.06\t1990\t0\tP\t2732408\t        Pisuviricota\n",
      " 30.06\t1990\t0\tC\t2732506\t          Pisoniviricetes\n",
      " 30.06\t1990\t0\tO\t76804\t            Nidovirales\n",
      " 30.06\t1990\t0\tO1\t2499399\t              Cornidovirineae\n",
      " 30.06\t1990\t0\tF\t11118\t                Coronaviridae\n",
      " 30.06\t1990\t0\tF1\t2501931\t                  Orthocoronavirinae\n",
      " 30.06\t1990\t0\tG\t694002\t                    Betacoronavirus\n",
      " 30.06\t1990\t0\tG1\t2509511\t                      Sarbecovirus\n",
      " 30.06\t1990\t0\tS\t694009\t                        Severe acute respiratory syndrome-related coronavirus\n",
      " 30.06\t1990\t1990\tS1\t2697049\t                          Severe acute respiratory syndrome coronavirus 2\n"
     ]
    }
   ],
   "source": [
    "cat ${TEST_BASE_DIR}/report.txt "
   ]
  }
 ],
 "metadata": {
  "kernelspec": {
   "display_name": "Bash",
   "language": "bash",
   "name": "bash"
  },
  "language_info": {
   "codemirror_mode": "shell",
   "file_extension": ".sh",
   "mimetype": "text/x-sh",
   "name": "bash"
  }
 },
 "nbformat": 4,
 "nbformat_minor": 5
}
