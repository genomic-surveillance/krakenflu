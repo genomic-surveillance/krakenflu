{
 "cells": [
  {
   "cell_type": "markdown",
   "id": "508d71e8-b2b7-47a7-8b92-79ff13e76cc3",
   "metadata": {},
   "source": [
    "# Build custom databases with segment flu genomes using kraken_flu utility\n",
    "A new utilty [kraken_flu](https://gitlab.internal.sanger.ac.uk/malariagen1/misc_utils/kraken_flu) was created to generate Kraken2 databases with segmented flu genomes from any set of input files (either from kraken2 or directly from NCBI).\n",
    "\n",
    "The tool peforms two tasks:\n",
    "1. Fiter influenza genomes to keep only those that have 8 full-length segments\n",
    "2. Create a reorganisee taxonomy with new taxa for segments of the influenza A viruses\n",
    "\n",
    "This notebook builds a complete database with NCBI RefSeq plus the NCBI Influenza resource."
   ]
  },
  {
   "cell_type": "markdown",
   "id": "3420f404-e180-4434-8c21-233628b0ca41",
   "metadata": {},
   "source": [
    "## directory paths and names"
   ]
  },
  {
   "cell_type": "code",
   "execution_count": 1,
   "id": "591263f1-d3d5-40a8-bf12-7e0ebaaebde3",
   "metadata": {
    "tags": []
   },
   "outputs": [],
   "source": [
    "export DB_NAME=refseq_ncbiFlu_kfv2_102424\n",
    "export BASE_DIR=/lustre/scratch126/gsu/team112/personal/fs5/rvi_dev/krakenDBs/kraken_flu/\n",
    "\n",
    "# taxonomy data is universal and ideally reused for every DB we build, so the direcotry is not specific to this DB\n",
    "export TAX_PATH=${BASE_DIR}/downloads/taxonomy_download/\n",
    "\n",
    "# the contents of this folder were copied from refseq_ncbiFlu_kfv2_091124\n",
    "export LIB_PATH=${BASE_DIR}/downloads/sequence_download/refseq_ncbiFlu_kfv2/\n",
    "\n",
    "export DB_PREP_DIR=${BASE_DIR}/db_prep/${DB_NAME}/\n",
    "export DB_PATH=${BASE_DIR}/databases/${DB_NAME}"
   ]
  },
  {
   "cell_type": "code",
   "execution_count": 2,
   "id": "6b2831f5-3453-4bdb-ab0d-d915cce52e44",
   "metadata": {
    "tags": []
   },
   "outputs": [],
   "source": [
    "mkdir -p ${BASE_DIR}\n",
    "\n",
    "rm -rf ${DB_PREP_DIR}\n",
    "mkdir -p ${DB_PREP_DIR}\n",
    "mkdir -p ${DB_PATH}"
   ]
  },
  {
   "cell_type": "code",
   "execution_count": 3,
   "id": "ade4da75-0acd-46dd-906f-5f11f4ed0871",
   "metadata": {
    "tags": []
   },
   "outputs": [
    {
     "name": "stdout",
     "output_type": "stream",
     "text": [
      "BASE DIR: /lustre/scratch126/gsu/team112/personal/fs5/rvi_dev/krakenDBs/kraken_flu/\n",
      "TAXONOMY PATH: /lustre/scratch126/gsu/team112/personal/fs5/rvi_dev/krakenDBs/kraken_flu//downloads/taxonomy_download/\n",
      "LIBRARY (FASTA) PATH: /lustre/scratch126/gsu/team112/personal/fs5/rvi_dev/krakenDBs/kraken_flu//downloads/sequence_download/refseq_ncbiFlu_kfv2/\n",
      "DB PREP DIR: /lustre/scratch126/gsu/team112/personal/fs5/rvi_dev/krakenDBs/kraken_flu//db_prep/refseq_ncbiFlu_kfv2_102424/\n",
      "FINAL DB PATH: /lustre/scratch126/gsu/team112/personal/fs5/rvi_dev/krakenDBs/kraken_flu//databases/refseq_ncbiFlu_kfv2_102424\n"
     ]
    }
   ],
   "source": [
    "echo \"BASE DIR: $BASE_DIR\"\n",
    "echo \"TAXONOMY PATH: ${TAX_PATH}\"\n",
    "echo \"LIBRARY (FASTA) PATH: ${LIB_PATH}\"\n",
    "echo \"DB PREP DIR: ${DB_PREP_DIR}\"\n",
    "echo \"FINAL DB PATH: ${DB_PATH}\""
   ]
  },
  {
   "cell_type": "markdown",
   "id": "91dc006e-b548-4b97-8bb0-5d6fdfea43d0",
   "metadata": {},
   "source": [
    "## install the kraken_flu tool\n",
    "The tool can be installed from local gitlab. Creating a venv for it."
   ]
  },
  {
   "cell_type": "code",
   "execution_count": 4,
   "id": "e1a43982-5fee-4733-897a-6dcf975fab08",
   "metadata": {},
   "outputs": [],
   "source": [
    "python3 -m venv ~/kraken_flu"
   ]
  },
  {
   "cell_type": "code",
   "execution_count": 4,
   "id": "20831265-17cd-4ea1-8f4d-451c57d8867f",
   "metadata": {
    "tags": []
   },
   "outputs": [],
   "source": [
    "source ~/kraken_flu/bin/activate"
   ]
  },
  {
   "cell_type": "code",
   "execution_count": 5,
   "id": "b4dd3741-4649-465a-b3fc-6543a937433e",
   "metadata": {
    "tags": []
   },
   "outputs": [
    {
     "name": "stdout",
     "output_type": "stream",
     "text": [
      "Requirement already satisfied: pip in /nfs/users/nfs_f/fs5/kraken_flu/lib/python3.11/site-packages (24.2)\n"
     ]
    }
   ],
   "source": [
    "pip install --upgrade pip"
   ]
  },
  {
   "cell_type": "markdown",
   "id": "597890d0-af3e-488b-b04f-f6a435be5545",
   "metadata": {},
   "source": [
    "___This version of kraken-flu is not yet in main branch, checking out latest commit in dev branch___"
   ]
  },
  {
   "cell_type": "code",
   "execution_count": 5,
   "id": "23be6de8-f582-475f-b471-1d108ea56c5f",
   "metadata": {
    "tags": []
   },
   "outputs": [],
   "source": [
    "COMMIT_SHA=4583004bd0ad86959178ac17d0fe1bd0648dab85"
   ]
  },
  {
   "cell_type": "code",
   "execution_count": 6,
   "id": "019a0564-3ef1-443c-a64d-83fbed81d4bc",
   "metadata": {
    "tags": []
   },
   "outputs": [
    {
     "name": "stdout",
     "output_type": "stream",
     "text": [
      "Collecting kraken_flu@ git+ssh://****@gitlab.internal.sanger.ac.uk/malariagen1/misc_utils/kraken_flu.git@4583004bd0ad86959178ac17d0fe1bd0648dab85\n",
      "  Cloning ssh://****@gitlab.internal.sanger.ac.uk/malariagen1/misc_utils/kraken_flu.git (to revision 4583004bd0ad86959178ac17d0fe1bd0648dab85) to /tmp/pip-install-sy8lagvm/kraken-flu_b95d2d5943e745ef8d48883ce9a70a11\n",
      "  Running command git clone --filter=blob:none --quiet 'ssh://****@gitlab.internal.sanger.ac.uk/malariagen1/misc_utils/kraken_flu.git' /tmp/pip-install-sy8lagvm/kraken-flu_b95d2d5943e745ef8d48883ce9a70a11\n",
      "  Running command git rev-parse -q --verify 'sha^4583004bd0ad86959178ac17d0fe1bd0648dab85'\n",
      "  Running command git fetch -q 'ssh://****@gitlab.internal.sanger.ac.uk/malariagen1/misc_utils/kraken_flu.git' 4583004bd0ad86959178ac17d0fe1bd0648dab85\n",
      "  Running command git checkout -q 4583004bd0ad86959178ac17d0fe1bd0648dab85\n",
      "  Resolved ssh://****@gitlab.internal.sanger.ac.uk/malariagen1/misc_utils/kraken_flu.git to commit 4583004bd0ad86959178ac17d0fe1bd0648dab85\n",
      "  Installing build dependencies ... \u001b[?25ldone\n",
      "\u001b[?25h  Getting requirements to build wheel ... \u001b[?25ldone\n",
      "\u001b[?25h  Preparing metadata (pyproject.toml) ... \u001b[?25ldone\n",
      "\u001b[?25hRequirement already satisfied: pytest>=6.2.2 in /nfs/users/nfs_f/fs5/kraken_flu/lib/python3.11/site-packages (from kraken_flu@ git+ssh://git@gitlab.internal.sanger.ac.uk/malariagen1/misc_utils/kraken_flu.git@4583004bd0ad86959178ac17d0fe1bd0648dab85) (8.2.2)\n",
      "Requirement already satisfied: importlib-resources>=5.1.0 in /nfs/users/nfs_f/fs5/kraken_flu/lib/python3.11/site-packages (from kraken_flu@ git+ssh://git@gitlab.internal.sanger.ac.uk/malariagen1/misc_utils/kraken_flu.git@4583004bd0ad86959178ac17d0fe1bd0648dab85) (6.4.0)\n",
      "Requirement already satisfied: cached-property>=1.5.2 in /nfs/users/nfs_f/fs5/kraken_flu/lib/python3.11/site-packages (from kraken_flu@ git+ssh://git@gitlab.internal.sanger.ac.uk/malariagen1/misc_utils/kraken_flu.git@4583004bd0ad86959178ac17d0fe1bd0648dab85) (1.5.2)\n",
      "Requirement already satisfied: biopython>=1.80 in /nfs/users/nfs_f/fs5/kraken_flu/lib/python3.11/site-packages (from kraken_flu@ git+ssh://git@gitlab.internal.sanger.ac.uk/malariagen1/misc_utils/kraken_flu.git@4583004bd0ad86959178ac17d0fe1bd0648dab85) (1.84)\n",
      "Requirement already satisfied: sqlalchemy>=2.0 in /nfs/users/nfs_f/fs5/kraken_flu/lib/python3.11/site-packages (from kraken_flu@ git+ssh://git@gitlab.internal.sanger.ac.uk/malariagen1/misc_utils/kraken_flu.git@4583004bd0ad86959178ac17d0fe1bd0648dab85) (2.0.32)\n",
      "Requirement already satisfied: numpy in /nfs/users/nfs_f/fs5/kraken_flu/lib/python3.11/site-packages (from biopython>=1.80->kraken_flu@ git+ssh://git@gitlab.internal.sanger.ac.uk/malariagen1/misc_utils/kraken_flu.git@4583004bd0ad86959178ac17d0fe1bd0648dab85) (2.0.0)\n",
      "Requirement already satisfied: iniconfig in /nfs/users/nfs_f/fs5/kraken_flu/lib/python3.11/site-packages (from pytest>=6.2.2->kraken_flu@ git+ssh://git@gitlab.internal.sanger.ac.uk/malariagen1/misc_utils/kraken_flu.git@4583004bd0ad86959178ac17d0fe1bd0648dab85) (2.0.0)\n",
      "Requirement already satisfied: packaging in /nfs/users/nfs_f/fs5/kraken_flu/lib/python3.11/site-packages (from pytest>=6.2.2->kraken_flu@ git+ssh://git@gitlab.internal.sanger.ac.uk/malariagen1/misc_utils/kraken_flu.git@4583004bd0ad86959178ac17d0fe1bd0648dab85) (24.1)\n",
      "Requirement already satisfied: pluggy<2.0,>=1.5 in /nfs/users/nfs_f/fs5/kraken_flu/lib/python3.11/site-packages (from pytest>=6.2.2->kraken_flu@ git+ssh://git@gitlab.internal.sanger.ac.uk/malariagen1/misc_utils/kraken_flu.git@4583004bd0ad86959178ac17d0fe1bd0648dab85) (1.5.0)\n",
      "Requirement already satisfied: typing-extensions>=4.6.0 in /nfs/users/nfs_f/fs5/kraken_flu/lib/python3.11/site-packages (from sqlalchemy>=2.0->kraken_flu@ git+ssh://git@gitlab.internal.sanger.ac.uk/malariagen1/misc_utils/kraken_flu.git@4583004bd0ad86959178ac17d0fe1bd0648dab85) (4.12.2)\n",
      "Requirement already satisfied: greenlet!=0.4.17 in /nfs/users/nfs_f/fs5/kraken_flu/lib/python3.11/site-packages (from sqlalchemy>=2.0->kraken_flu@ git+ssh://git@gitlab.internal.sanger.ac.uk/malariagen1/misc_utils/kraken_flu.git@4583004bd0ad86959178ac17d0fe1bd0648dab85) (3.0.3)\n",
      "Building wheels for collected packages: kraken_flu\n",
      "  Building wheel for kraken_flu (pyproject.toml) ... \u001b[?25ldone\n",
      "\u001b[?25h  Created wheel for kraken_flu: filename=kraken_flu-2.1.1.dev6+g4583004-py2.py3-none-any.whl size=65455 sha256=a14b8c1c02484209a931afa126dcc0b801d368e0ffca7305700dbac8f3aa1bbc\n",
      "  Stored in directory: /nfs/users/nfs_f/fs5/.cache/pip/wheels/5e/10/97/e18441153273ca8b4dc6b5ce7a155d80fe2441e28b7356abed\n",
      "Successfully built kraken_flu\n",
      "Installing collected packages: kraken_flu\n",
      "  Attempting uninstall: kraken_flu\n",
      "    Found existing installation: kraken_flu 2.0.1.dev30+g3061831\n",
      "    Uninstalling kraken_flu-2.0.1.dev30+g3061831:\n",
      "      Successfully uninstalled kraken_flu-2.0.1.dev30+g3061831\n",
      "Successfully installed kraken_flu-2.1.1.dev6+g4583004\n"
     ]
    }
   ],
   "source": [
    "pip install kraken_flu@git+ssh://git@gitlab.internal.sanger.ac.uk/malariagen1/misc_utils/kraken_flu.git@$COMMIT_SHA"
   ]
  },
  {
   "cell_type": "code",
   "execution_count": 7,
   "id": "afe155b5-d35d-4269-9825-382f5624dee4",
   "metadata": {
    "tags": []
   },
   "outputs": [
    {
     "name": "stdout",
     "output_type": "stream",
     "text": [
      "kraken_flu 2.1.1.dev6+g4583004\n"
     ]
    }
   ],
   "source": [
    "kraken_flu -v"
   ]
  },
  {
   "cell_type": "markdown",
   "id": "985571e7-b1a8-49b2-9abd-69217281e83d",
   "metadata": {},
   "source": [
    "## Download data\n",
    "Get viral taxonomy and sequence data from NCBI"
   ]
  },
  {
   "cell_type": "code",
   "execution_count": 8,
   "id": "4d9f7dd6-071b-4f0a-aa39-8005ed327300",
   "metadata": {
    "scrolled": true,
    "tags": []
   },
   "outputs": [
    {
     "name": "stdout",
     "output_type": "stream",
     "text": [
      "\tModule loaded. For more information run 'module help kraken2/2.1.2'.\n",
      "\t- By default, kraken2 will search for named databases in /data/pam/software/kraken2 and the current working directory. The full path to\n",
      "\tany database can also be used.\n",
      "\t- `kraken2-build` commands will sometimes experience an error suggesting that it is not possible to download a library using rsync. While the option --use-ftp\n",
      "\tmay fix this, rsync tends to be faster and more reliable. Try re-running the `kraken2-build` command until the download is successful. Note that `kraken2-build`\n",
      "\twill produce checkpoints during the installation process and will restart at the last successful step.\n",
      "\t- If `kraken2-build build` freezes or hangs indefinitely, using the `--fast-build` option may help. An earlier version of the software (if available) may also\n",
      "\tallow the build step to proceed successfully.\n"
     ]
    }
   ],
   "source": [
    "module load kraken2/2.1.2"
   ]
  },
  {
   "cell_type": "markdown",
   "id": "0f58133b-a273-481d-8ece-42e0bf5c297c",
   "metadata": {},
   "source": [
    "### Taxonomy data\n",
    "Use the kraken2 build tool to download taxonomy files from [NCBI](https://ftp.ncbi.nlm.nih.gov/pub/taxonomy/)."
   ]
  },
  {
   "cell_type": "markdown",
   "id": "758e9cd0-150f-42dc-8643-0d62317ea086",
   "metadata": {
    "tags": []
   },
   "source": [
    "___This only needs to be once, hence commented out here. Uncomment to re-run___"
   ]
  },
  {
   "cell_type": "code",
   "execution_count": 11,
   "id": "1c0be4a9-7b96-45a7-a8c6-8baeb237386b",
   "metadata": {},
   "outputs": [],
   "source": [
    "# kraken2-build --download-taxonomy --db ${TAX_PATH}"
   ]
  },
  {
   "cell_type": "code",
   "execution_count": 9,
   "id": "03a96115-71d8-435d-a78f-c81c0d9b265f",
   "metadata": {
    "tags": []
   },
   "outputs": [
    {
     "name": "stdout",
     "output_type": "stream",
     "text": [
      "/lustre/scratch126/gsu/team112/personal/fs5/rvi_dev/krakenDBs/kraken_flu//downloads/taxonomy_download/\n",
      "└── taxonomy\n",
      "    ├── accmap.dlflag\n",
      "    ├── citations.dmp\n",
      "    ├── delnodes.dmp\n",
      "    ├── division.dmp\n",
      "    ├── gc.prt\n",
      "    ├── gencode.dmp\n",
      "    ├── images.dmp\n",
      "    ├── merged.dmp\n",
      "    ├── names.dmp\n",
      "    ├── nodes.dmp\n",
      "    ├── nucl_gb.accession2taxid\n",
      "    ├── nucl_wgs.accession2taxid\n",
      "    ├── readme.txt\n",
      "    ├── taxdump.dlflag\n",
      "    ├── taxdump.tar.gz\n",
      "    └── taxdump.untarflag\n",
      "\n",
      "1 directory, 16 files\n"
     ]
    }
   ],
   "source": [
    "tree ${TAX_PATH}"
   ]
  },
  {
   "cell_type": "markdown",
   "id": "d58b11f4-9ffd-453a-82ed-9a0f76f2166e",
   "metadata": {},
   "source": [
    "### Sequence data\n",
    "Directly download from NCBI RefSeq release FTP website (file from 15/01/24"
   ]
  },
  {
   "cell_type": "markdown",
   "id": "c4989ee4-4cba-42e4-8998-d98161548926",
   "metadata": {},
   "source": [
    "NCBI viral RefSeq (directly from NCBI now, not using the kraken2 pre-built)"
   ]
  },
  {
   "cell_type": "markdown",
   "id": "39a4cf88-e23c-4dc6-abce-8494de6c30f5",
   "metadata": {},
   "source": [
    "___This step is not required to run every time and it takes a long time, hence commented out___"
   ]
  },
  {
   "cell_type": "code",
   "execution_count": 18,
   "id": "add2e63d-c65f-46f2-b929-91b8b85655b9",
   "metadata": {},
   "outputs": [],
   "source": [
    "cd ${LIB_PATH}\n",
    "#wget https://ftp.ncbi.nlm.nih.gov/refseq/release/viral/viral.1.1.genomic.fna.gz\n",
    "#gunzip viral.1.1.genomic.fna.gz"
   ]
  },
  {
   "cell_type": "markdown",
   "id": "e84c621e-996f-4552-ba36-9bbb096d529a",
   "metadata": {},
   "source": [
    "NCBI Infuenza FTP  \n",
    "___NOTE___ that the resource is no longer kept updated (since Oct 2020) so this is used as a starting point but we still need to add later influenza genomes using the new NCBI API for\n",
    "\n",
    "https://www.ncbi.nlm.nih.gov/labs/virus/vssi/#/\n",
    "\n",
    "Here is a post showing how to programmatically interact with the new NCBI Virus site to obtain sequences:  \n",
    "https://www.biostars.org/p/9562294/   "
   ]
  },
  {
   "cell_type": "markdown",
   "id": "6869acff-83be-4e11-a3d4-f26277920766",
   "metadata": {},
   "source": [
    "___This step is not required to run every time and it takes a long time, hence commented out___"
   ]
  },
  {
   "cell_type": "code",
   "execution_count": 14,
   "id": "0c1f4db6-2050-4967-a229-6a3415f28a67",
   "metadata": {},
   "outputs": [],
   "source": [
    "cd ${LIB_PATH}\n",
    "# wget https://ftp.ncbi.nih.gov/genomes/INFLUENZA/influenza.fna"
   ]
  },
  {
   "cell_type": "code",
   "execution_count": 20,
   "id": "849133fb-df97-4f35-8e8a-445e061766ce",
   "metadata": {},
   "outputs": [
    {
     "name": "stdout",
     "output_type": "stream",
     "text": [
      "/lustre/scratch126/gsu/team112/personal/fs5/rvi_dev/krakenDBs/kraken_flu//downloads/sequence_download/refseq_ncbiFlu_kfv2/\n",
      "├── influenza.fna\n",
      "├── sequences_RSV_A.fasta\n",
      "├── sequences_RSV_B.fasta\n",
      "└── viral.1.1.genomic.fna\n",
      "\n",
      "0 directories, 4 files\n"
     ]
    }
   ],
   "source": [
    "tree ${LIB_PATH}"
   ]
  },
  {
   "cell_type": "markdown",
   "id": "26618bf0-a184-4165-a693-388383342d27",
   "metadata": {},
   "source": [
    "___RSV sequences___ were downloaded from https://nextstrain.org/rsv/a/genome/6y?d=tree,entropy&p=full"
   ]
  },
  {
   "cell_type": "markdown",
   "id": "803c1e7d-9a9b-422f-83ce-38124e201d53",
   "metadata": {},
   "source": [
    "## Run the kraken-flu tool\n",
    "The tool creates a new directory of taxonomy and sequence files.  \n",
    "\n",
    "Using an exception to the \"complete flu genomes\" filter for the avian flu reference because we want this one in the DB but it does not have all 8 segments in RefSeq.\n",
    "\n",
    "___NOTE___ The current implementation of the kraken-flu tool reads sequence and taxonomy files into RAM and therefore needs a significant amount of RAM. The process got killed on a 5GB node but work fine on 10GB.\n"
   ]
  },
  {
   "cell_type": "code",
   "execution_count": 10,
   "id": "61859120-34ce-4342-8aec-03fb9c9cbecc",
   "metadata": {},
   "outputs": [
    {
     "name": "stdout",
     "output_type": "stream",
     "text": [
      "rm: cannot remove '/lustre/scratch126/gsu/team112/personal/fs5/rvi_dev/krakenDBs/kraken_flu//db_prep/refseq_ncbiFlu_kfv2_102424//kfdb.sqlite': No such file or directory\n"
     ]
    },
    {
     "ename": "",
     "evalue": "1",
     "output_type": "error",
     "traceback": []
    }
   ],
   "source": [
    "rm ${DB_PREP_DIR}/kfdb.sqlite\n",
    "~/kraken_flu/bin/kraken_flu \\\n",
    "    --taxonomy_path  ${TAX_PATH}/taxonomy \\\n",
    "    --fasta_path ${LIB_PATH}/influenza.fna ${LIB_PATH}/viral.1.1.genomic.fna \\\n",
    "    --out_dir ${DB_PREP_DIR} \\\n",
    "    --db_file ${DB_PREP_DIR}/kfdb.sqlite \\\n",
    "    --keep_db_file \\\n",
    "    --filter_flu \\\n",
    "    --filter_except \"A/Goose/Guangdong/1/96(H5N1)\" \\\n",
    "    --do_full_linkage \\\n",
    "    --rsv_a_sequences ${LIB_PATH}/sequences_RSV_A.fasta \\\n",
    "    --rsv_b_sequences ${LIB_PATH}/sequences_RSV_B.fasta \\\n",
    "    --rsv_size_filter  \\\n",
    "    --deduplicate \\\n",
    "    > ${DB_PREP_DIR}/log 2>&1"
   ]
  },
  {
   "cell_type": "code",
   "execution_count": null,
   "id": "36b7f9a0-43d1-4100-a47f-c23c4666f5cf",
   "metadata": {},
   "outputs": [],
   "source": [
    "tree ${DB_PREP_DIR}"
   ]
  },
  {
   "cell_type": "markdown",
   "id": "d2f2b85c-69a6-40e2-a77c-78ee9303232c",
   "metadata": {},
   "source": [
    "## Prepare new kraken2 DB directory\n",
    "Create the direcotry and copy the kraken-flu results into it, then use the kraken-build tool to add the library to the new DB"
   ]
  },
  {
   "cell_type": "code",
   "execution_count": null,
   "id": "447c13a1-a05d-4f64-bbb6-b8c03b589038",
   "metadata": {},
   "outputs": [],
   "source": [
    "rm -rf ${DB_PATH}\n",
    "mkdir -p ${DB_PATH}"
   ]
  },
  {
   "cell_type": "markdown",
   "id": "9a059b5a-8a55-4c0c-bb0a-77b6a21abfda",
   "metadata": {},
   "source": [
    "Copy the taxonomy created by kraken-flu in the new dir"
   ]
  },
  {
   "cell_type": "code",
   "execution_count": null,
   "id": "59cbbf5d-a480-4306-aa17-95e827fa0d31",
   "metadata": {},
   "outputs": [],
   "source": [
    "cp -r ${DB_PREP_DIR}/taxonomy ${DB_PATH}"
   ]
  },
  {
   "cell_type": "markdown",
   "id": "b0e80718-4799-4330-be87-9694e95e6621",
   "metadata": {},
   "source": [
    "also need the large NCBIU accession to tax ID file here for kraken-build"
   ]
  },
  {
   "cell_type": "code",
   "execution_count": null,
   "id": "8e22aff8-99a0-4a43-acb9-aa40a4ed3a89",
   "metadata": {},
   "outputs": [],
   "source": [
    "ln -s ${TAX_PATH}/taxonomy/nucl_gb.accession2taxid ${DB_PATH}/taxonomy"
   ]
  },
  {
   "cell_type": "code",
   "execution_count": null,
   "id": "8352b78b-aa87-4f1b-9748-4b7d9c4f725e",
   "metadata": {},
   "outputs": [],
   "source": [
    "tree ${DB_PATH}"
   ]
  },
  {
   "cell_type": "markdown",
   "id": "d68d4fee-6438-4241-873b-e8c019968378",
   "metadata": {},
   "source": [
    "use kraken-tool to add the library file to the new DB"
   ]
  },
  {
   "cell_type": "code",
   "execution_count": null,
   "id": "37567f1b-c307-4408-af02-fcf8eba05be0",
   "metadata": {},
   "outputs": [],
   "source": [
    "mkdir ${DB_PATH}/library"
   ]
  },
  {
   "cell_type": "markdown",
   "id": "aded553e-c26f-4662-9630-4537ec2aa318",
   "metadata": {},
   "source": [
    "Run the new library through kraken2-build \"add to library\" process.\n",
    "This is still required because this is the step that does the masking, which is important for the \"build\" step of kraken2-build (next)"
   ]
  },
  {
   "cell_type": "code",
   "execution_count": null,
   "id": "ba8776ec-25b1-48dc-b0a7-086761953972",
   "metadata": {},
   "outputs": [],
   "source": [
    "kraken2-build \\\n",
    "    --add-to-library ${DB_PREP_DIR}/library/library.fna \\\n",
    "    --db ${DB_PATH}"
   ]
  },
  {
   "cell_type": "markdown",
   "id": "07cb57ea-ff3d-4925-bf00-dd6c13a4b5ab",
   "metadata": {},
   "source": [
    "## Create the kraken2 DB"
   ]
  },
  {
   "cell_type": "code",
   "execution_count": null,
   "id": "abc20249-9379-4500-af15-7e106a1f909c",
   "metadata": {},
   "outputs": [],
   "source": [
    "kraken2-build \\\n",
    "    --build \\\n",
    "    --db ${DB_PATH}"
   ]
  },
  {
   "cell_type": "code",
   "execution_count": null,
   "id": "8774fd81-07f8-4f76-b4de-381492e98601",
   "metadata": {},
   "outputs": [],
   "source": [
    "echo ${DB_PATH}"
   ]
  },
  {
   "cell_type": "markdown",
   "id": "c0007f0f-9133-4a77-941e-74f04c8ef355",
   "metadata": {},
   "source": [
    "## Test with simulated data\n",
    "Run with a set of simulated reads for all the current viruses of interest.\n"
   ]
  },
  {
   "cell_type": "code",
   "execution_count": null,
   "id": "8f37667f-adf8-49ae-b446-8813666e748f",
   "metadata": {},
   "outputs": [],
   "source": [
    "export TEST_BASE_DIR=/lustre/scratch126/gsu/team112/personal/fs5/rvi_dev/krakenDBs/kraken_flu_test_kfv2_102424"
   ]
  },
  {
   "cell_type": "code",
   "execution_count": null,
   "id": "e50475af-585b-4530-a7fc-594b4483563a",
   "metadata": {},
   "outputs": [],
   "source": [
    "mkdir -p ${TEST_BASE_DIR}"
   ]
  },
  {
   "cell_type": "code",
   "execution_count": null,
   "id": "6581a8e2-9356-46be-96d7-ecd5f5c12e2a",
   "metadata": {
    "tags": []
   },
   "outputs": [],
   "source": [
    "echo ${TEST_BASE_DIR}"
   ]
  },
  {
   "cell_type": "code",
   "execution_count": null,
   "id": "0db6cc5d-8575-4bd0-8830-61d1df5aaf47",
   "metadata": {},
   "outputs": [],
   "source": [
    "kraken2 \\\n",
    "    --db ${DB_PATH} \\\n",
    "    --output ${TEST_BASE_DIR}/output.kraken \\\n",
    "    --paired \\\n",
    "    --classified-out ${TEST_BASE_DIR}/class_seqs#.fq \\\n",
    "    --unclassified-out ${TEST_BASE_DIR}/unclass_seqs#.fq \\\n",
    "    --report ${TEST_BASE_DIR}/report.txt \\\n",
    "/lustre/scratch126/gsu/team112/personal/fs5/rvi_dev/sim_reads/art/mix/mix_of_all_01-1.fq \\\n",
    "/lustre/scratch126/gsu/team112/personal/fs5/rvi_dev/sim_reads/art/mix/mix_of_all_01-2.fq"
   ]
  },
  {
   "cell_type": "code",
   "execution_count": null,
   "id": "37bb54f1-caa2-4bf0-b246-206c67ac0bab",
   "metadata": {
    "tags": []
   },
   "outputs": [],
   "source": [
    "cat ${TEST_BASE_DIR}/report.txt "
   ]
  }
 ],
 "metadata": {
  "kernelspec": {
   "display_name": "Bash",
   "language": "bash",
   "name": "bash"
  },
  "language_info": {
   "codemirror_mode": "shell",
   "file_extension": ".sh",
   "mimetype": "text/x-sh",
   "name": "bash"
  }
 },
 "nbformat": 4,
 "nbformat_minor": 5
}
