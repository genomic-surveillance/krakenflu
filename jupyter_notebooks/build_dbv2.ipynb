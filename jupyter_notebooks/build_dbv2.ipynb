{
 "cells": [
  {
   "cell_type": "markdown",
   "id": "508d71e8-b2b7-47a7-8b92-79ff13e76cc3",
   "metadata": {},
   "source": [
    "# Build custom databases with segment flu genomes using kraken_flu utility\n",
    "A new utilty [kraken_flu](https://gitlab.internal.sanger.ac.uk/malariagen1/misc_utils/kraken_flu) was created to generate Kraken2 databases with segmented flu genomes from any set of input files (either from kraken2 or directly from NCBI).\n",
    "\n",
    "The tool peforms two tasks:\n",
    "1. Fiter influenza genomes to keep only those that have 8 full-length segments\n",
    "2. Create a reorganisee taxonomy with new taxa for segments of the influenza A viruses\n",
    "\n",
    "This notebook builds a complete database with NCBI RefSeq plus the NCBI Influenza resource."
   ]
  },
  {
   "cell_type": "markdown",
   "id": "3420f404-e180-4434-8c21-233628b0ca41",
   "metadata": {},
   "source": [
    "## directory paths and names"
   ]
  },
  {
   "cell_type": "code",
   "execution_count": 1,
   "id": "591263f1-d3d5-40a8-bf12-7e0ebaaebde3",
   "metadata": {},
   "outputs": [],
   "source": [
    "export DB_NAME=refseq_ncbiFlu_kfv2_091124\n",
    "export BASE_DIR=/lustre/scratch126/gsu/team112/personal/fs5/rvi_dev/krakenDBs/kraken_flu/\n",
    "\n",
    "# taxonomy data is universal and ideally reused for every DB we build, so the direcotry is not specific to this DB\n",
    "export TAX_PATH=${BASE_DIR}/downloads/taxonomy_download/\n",
    "\n",
    "export LIB_PATH=${BASE_DIR}/downloads/sequence_download/${DB_NAME}/\n",
    "\n",
    "export DB_PREP_DIR=${BASE_DIR}/db_prep/${DB_NAME}/\n",
    "export DB_PATH=${BASE_DIR}/databases/${DB_NAME}"
   ]
  },
  {
   "cell_type": "code",
   "execution_count": 2,
   "id": "6b2831f5-3453-4bdb-ab0d-d915cce52e44",
   "metadata": {},
   "outputs": [],
   "source": [
    "mkdir -p ${BASE_DIR}\n",
    "mkdir -p ${TAX_PATH}\n",
    "mkdir -p ${LIB_PATH}\n",
    "rm -rf ${DB_PREP_DIR}\n",
    "mkdir -p ${DB_PREP_DIR}\n",
    "mkdir -p ${DB_PATH}"
   ]
  },
  {
   "cell_type": "code",
   "execution_count": 3,
   "id": "ade4da75-0acd-46dd-906f-5f11f4ed0871",
   "metadata": {
    "tags": []
   },
   "outputs": [
    {
     "name": "stdout",
     "output_type": "stream",
     "text": [
      "BASE DIR: /lustre/scratch126/gsu/team112/personal/fs5/rvi_dev/krakenDBs/kraken_flu/\n",
      "TAXONOMY PATH: /lustre/scratch126/gsu/team112/personal/fs5/rvi_dev/krakenDBs/kraken_flu//downloads/taxonomy_download/\n",
      "LIBRARY (FASTA) PATH: /lustre/scratch126/gsu/team112/personal/fs5/rvi_dev/krakenDBs/kraken_flu//downloads/sequence_download/refseq_ncbiFlu_kfv2_091124/\n",
      "DB PREP DIR: /lustre/scratch126/gsu/team112/personal/fs5/rvi_dev/krakenDBs/kraken_flu//db_prep/refseq_ncbiFlu_kfv2_091124/\n",
      "FINAL DB PATH: /lustre/scratch126/gsu/team112/personal/fs5/rvi_dev/krakenDBs/kraken_flu//databases/refseq_ncbiFlu_kfv2_091124\n"
     ]
    }
   ],
   "source": [
    "echo \"BASE DIR: $BASE_DIR\"\n",
    "echo \"TAXONOMY PATH: ${TAX_PATH}\"\n",
    "echo \"LIBRARY (FASTA) PATH: ${LIB_PATH}\"\n",
    "echo \"DB PREP DIR: ${DB_PREP_DIR}\"\n",
    "echo \"FINAL DB PATH: ${DB_PATH}\""
   ]
  },
  {
   "cell_type": "markdown",
   "id": "91dc006e-b548-4b97-8bb0-5d6fdfea43d0",
   "metadata": {},
   "source": [
    "## install the kraken_flu tool\n",
    "The tool can be installed from local gitlab. Creating a venv for it."
   ]
  },
  {
   "cell_type": "code",
   "execution_count": 4,
   "id": "e1a43982-5fee-4733-897a-6dcf975fab08",
   "metadata": {},
   "outputs": [],
   "source": [
    "python3 -m venv ~/kraken_flu"
   ]
  },
  {
   "cell_type": "code",
   "execution_count": 4,
   "id": "20831265-17cd-4ea1-8f4d-451c57d8867f",
   "metadata": {
    "tags": []
   },
   "outputs": [],
   "source": [
    "source ~/kraken_flu/bin/activate"
   ]
  },
  {
   "cell_type": "code",
   "execution_count": 5,
   "id": "b4dd3741-4649-465a-b3fc-6543a937433e",
   "metadata": {
    "tags": []
   },
   "outputs": [
    {
     "name": "stdout",
     "output_type": "stream",
     "text": [
      "Requirement already satisfied: pip in /nfs/users/nfs_f/fs5/kraken_flu/lib/python3.11/site-packages (24.2)\n"
     ]
    }
   ],
   "source": [
    "pip install --upgrade pip"
   ]
  },
  {
   "cell_type": "markdown",
   "id": "597890d0-af3e-488b-b04f-f6a435be5545",
   "metadata": {},
   "source": [
    "___This version of kraken-flu is not yet in main branch, checking out latest commit in dev branch___"
   ]
  },
  {
   "cell_type": "code",
   "execution_count": 6,
   "id": "23be6de8-f582-475f-b471-1d108ea56c5f",
   "metadata": {
    "tags": []
   },
   "outputs": [],
   "source": [
    "COMMIT_SHA=683adb97e9f181049843e2293ddd9213c26bda19"
   ]
  },
  {
   "cell_type": "code",
   "execution_count": 7,
   "id": "019a0564-3ef1-443c-a64d-83fbed81d4bc",
   "metadata": {},
   "outputs": [
    {
     "name": "stdout",
     "output_type": "stream",
     "text": [
      "Collecting kraken_flu@ git+ssh://****@gitlab.internal.sanger.ac.uk/malariagen1/misc_utils/kraken_flu.git@683adb97e9f181049843e2293ddd9213c26bda19\n",
      "  Cloning ssh://****@gitlab.internal.sanger.ac.uk/malariagen1/misc_utils/kraken_flu.git (to revision 683adb97e9f181049843e2293ddd9213c26bda19) to /tmp/pip-install-uct78r6u/kraken-flu_ff266aa4528345428ea932a2c61a88ac\n",
      "  Running command git clone --filter=blob:none --quiet 'ssh://****@gitlab.internal.sanger.ac.uk/malariagen1/misc_utils/kraken_flu.git' /tmp/pip-install-uct78r6u/kraken-flu_ff266aa4528345428ea932a2c61a88ac\n",
      "  remote:\n",
      "  remote: INFO: Your SSH key is expiring soon. Please generate a new key.\n",
      "  remote:\n",
      "  remote:\n",
      "  remote: INFO: Your SSH key is expiring soon. Please generate a new key.\n",
      "  remote:\n",
      "  Running command git rev-parse -q --verify 'sha^683adb97e9f181049843e2293ddd9213c26bda19'\n",
      "  Running command git fetch -q 'ssh://****@gitlab.internal.sanger.ac.uk/malariagen1/misc_utils/kraken_flu.git' 683adb97e9f181049843e2293ddd9213c26bda19\n",
      "  remote:\n",
      "  remote: INFO: Your SSH key is expiring soon. Please generate a new key.\n",
      "  remote:\n",
      "  Running command git checkout -q 683adb97e9f181049843e2293ddd9213c26bda19\n",
      "  remote:\n",
      "  remote: INFO: Your SSH key is expiring soon. Please generate a new key.\n",
      "  remote:\n",
      "  Resolved ssh://****@gitlab.internal.sanger.ac.uk/malariagen1/misc_utils/kraken_flu.git to commit 683adb97e9f181049843e2293ddd9213c26bda19\n",
      "  Installing build dependencies ... \u001b[?25ldone\n",
      "\u001b[?25h  Getting requirements to build wheel ... \u001b[?25ldone\n",
      "\u001b[?25h  Preparing metadata (pyproject.toml) ... \u001b[?25ldone\n",
      "\u001b[?25hRequirement already satisfied: pytest>=6.2.2 in /nfs/users/nfs_f/fs5/kraken_flu/lib/python3.11/site-packages (from kraken_flu@ git+ssh://git@gitlab.internal.sanger.ac.uk/malariagen1/misc_utils/kraken_flu.git@683adb97e9f181049843e2293ddd9213c26bda19) (8.2.2)\n",
      "Requirement already satisfied: importlib-resources>=5.1.0 in /nfs/users/nfs_f/fs5/kraken_flu/lib/python3.11/site-packages (from kraken_flu@ git+ssh://git@gitlab.internal.sanger.ac.uk/malariagen1/misc_utils/kraken_flu.git@683adb97e9f181049843e2293ddd9213c26bda19) (6.4.0)\n",
      "Requirement already satisfied: cached-property>=1.5.2 in /nfs/users/nfs_f/fs5/kraken_flu/lib/python3.11/site-packages (from kraken_flu@ git+ssh://git@gitlab.internal.sanger.ac.uk/malariagen1/misc_utils/kraken_flu.git@683adb97e9f181049843e2293ddd9213c26bda19) (1.5.2)\n",
      "Requirement already satisfied: biopython>=1.80 in /nfs/users/nfs_f/fs5/kraken_flu/lib/python3.11/site-packages (from kraken_flu@ git+ssh://git@gitlab.internal.sanger.ac.uk/malariagen1/misc_utils/kraken_flu.git@683adb97e9f181049843e2293ddd9213c26bda19) (1.84)\n",
      "Requirement already satisfied: sqlalchemy>=2.0 in /nfs/users/nfs_f/fs5/kraken_flu/lib/python3.11/site-packages (from kraken_flu@ git+ssh://git@gitlab.internal.sanger.ac.uk/malariagen1/misc_utils/kraken_flu.git@683adb97e9f181049843e2293ddd9213c26bda19) (2.0.32)\n",
      "Requirement already satisfied: numpy in /nfs/users/nfs_f/fs5/kraken_flu/lib/python3.11/site-packages (from biopython>=1.80->kraken_flu@ git+ssh://git@gitlab.internal.sanger.ac.uk/malariagen1/misc_utils/kraken_flu.git@683adb97e9f181049843e2293ddd9213c26bda19) (2.0.0)\n",
      "Requirement already satisfied: iniconfig in /nfs/users/nfs_f/fs5/kraken_flu/lib/python3.11/site-packages (from pytest>=6.2.2->kraken_flu@ git+ssh://git@gitlab.internal.sanger.ac.uk/malariagen1/misc_utils/kraken_flu.git@683adb97e9f181049843e2293ddd9213c26bda19) (2.0.0)\n",
      "Requirement already satisfied: packaging in /nfs/users/nfs_f/fs5/kraken_flu/lib/python3.11/site-packages (from pytest>=6.2.2->kraken_flu@ git+ssh://git@gitlab.internal.sanger.ac.uk/malariagen1/misc_utils/kraken_flu.git@683adb97e9f181049843e2293ddd9213c26bda19) (24.1)\n",
      "Requirement already satisfied: pluggy<2.0,>=1.5 in /nfs/users/nfs_f/fs5/kraken_flu/lib/python3.11/site-packages (from pytest>=6.2.2->kraken_flu@ git+ssh://git@gitlab.internal.sanger.ac.uk/malariagen1/misc_utils/kraken_flu.git@683adb97e9f181049843e2293ddd9213c26bda19) (1.5.0)\n",
      "Requirement already satisfied: typing-extensions>=4.6.0 in /nfs/users/nfs_f/fs5/kraken_flu/lib/python3.11/site-packages (from sqlalchemy>=2.0->kraken_flu@ git+ssh://git@gitlab.internal.sanger.ac.uk/malariagen1/misc_utils/kraken_flu.git@683adb97e9f181049843e2293ddd9213c26bda19) (4.12.2)\n",
      "Requirement already satisfied: greenlet!=0.4.17 in /nfs/users/nfs_f/fs5/kraken_flu/lib/python3.11/site-packages (from sqlalchemy>=2.0->kraken_flu@ git+ssh://git@gitlab.internal.sanger.ac.uk/malariagen1/misc_utils/kraken_flu.git@683adb97e9f181049843e2293ddd9213c26bda19) (3.0.3)\n",
      "Building wheels for collected packages: kraken_flu\n",
      "  Building wheel for kraken_flu (pyproject.toml) ... \u001b[?25ldone\n",
      "\u001b[?25h  Created wheel for kraken_flu: filename=kraken_flu-1.2.1.dev79+g683adb9-py2.py3-none-any.whl size=50606 sha256=51b3719de0e23295cac2438f66a38727c06c7595816763da45de798c469d9cd6\n",
      "  Stored in directory: /nfs/users/nfs_f/fs5/.cache/pip/wheels/af/59/b7/c7be664f28b1e9aa0f04ee51a736f9e41d029db1f9ae8d2bb4\n",
      "Successfully built kraken_flu\n",
      "Installing collected packages: kraken_flu\n",
      "  Attempting uninstall: kraken_flu\n",
      "    Found existing installation: kraken_flu 1.2.1.dev97+geb10245\n",
      "    Uninstalling kraken_flu-1.2.1.dev97+geb10245:\n",
      "      Successfully uninstalled kraken_flu-1.2.1.dev97+geb10245\n",
      "Successfully installed kraken_flu-1.2.1.dev79+g683adb9\n"
     ]
    }
   ],
   "source": [
    "pip install kraken_flu@git+ssh://git@gitlab.internal.sanger.ac.uk/malariagen1/misc_utils/kraken_flu.git@$COMMIT_SHA"
   ]
  },
  {
   "cell_type": "code",
   "execution_count": 8,
   "id": "afe155b5-d35d-4269-9825-382f5624dee4",
   "metadata": {},
   "outputs": [
    {
     "name": "stdout",
     "output_type": "stream",
     "text": [
      "kraken_flu 1.2.1.dev79+g683adb9\n"
     ]
    }
   ],
   "source": [
    "kraken_flu -v"
   ]
  },
  {
   "cell_type": "markdown",
   "id": "985571e7-b1a8-49b2-9abd-69217281e83d",
   "metadata": {},
   "source": [
    "## Download data\n",
    "Get viral taxonomy and sequence data from NCBI"
   ]
  },
  {
   "cell_type": "code",
   "execution_count": 9,
   "id": "4d9f7dd6-071b-4f0a-aa39-8005ed327300",
   "metadata": {
    "scrolled": true
   },
   "outputs": [
    {
     "name": "stdout",
     "output_type": "stream",
     "text": [
      "\tModule loaded. For more information run 'module help kraken2/2.1.2'.\n",
      "\t- By default, kraken2 will search for named databases in /data/pam/software/kraken2 and the current working directory. The full path to\n",
      "\tany database can also be used.\n",
      "\t- `kraken2-build` commands will sometimes experience an error suggesting that it is not possible to download a library using rsync. While the option --use-ftp\n",
      "\tmay fix this, rsync tends to be faster and more reliable. Try re-running the `kraken2-build` command until the download is successful. Note that `kraken2-build`\n",
      "\twill produce checkpoints during the installation process and will restart at the last successful step.\n",
      "\t- If `kraken2-build build` freezes or hangs indefinitely, using the `--fast-build` option may help. An earlier version of the software (if available) may also\n",
      "\tallow the build step to proceed successfully.\n"
     ]
    }
   ],
   "source": [
    "module load kraken2/2.1.2"
   ]
  },
  {
   "cell_type": "markdown",
   "id": "0f58133b-a273-481d-8ece-42e0bf5c297c",
   "metadata": {},
   "source": [
    "### Taxonomy data\n",
    "Use the kraken2 build tool to download taxonomy files from [NCBI](https://ftp.ncbi.nlm.nih.gov/pub/taxonomy/)."
   ]
  },
  {
   "cell_type": "markdown",
   "id": "758e9cd0-150f-42dc-8643-0d62317ea086",
   "metadata": {
    "tags": []
   },
   "source": [
    "___This only needs to be once, hence commented out here. Uncomment to re-run___"
   ]
  },
  {
   "cell_type": "code",
   "execution_count": 11,
   "id": "1c0be4a9-7b96-45a7-a8c6-8baeb237386b",
   "metadata": {},
   "outputs": [],
   "source": [
    "# kraken2-build --download-taxonomy --db ${TAX_PATH}"
   ]
  },
  {
   "cell_type": "code",
   "execution_count": 12,
   "id": "03a96115-71d8-435d-a78f-c81c0d9b265f",
   "metadata": {},
   "outputs": [
    {
     "name": "stdout",
     "output_type": "stream",
     "text": [
      "/lustre/scratch126/gsu/team112/personal/fs5/rvi_dev/krakenDBs/kraken_flu//downloads/taxonomy_download/\n",
      "└── taxonomy\n",
      "    ├── accmap.dlflag\n",
      "    ├── citations.dmp\n",
      "    ├── delnodes.dmp\n",
      "    ├── division.dmp\n",
      "    ├── gc.prt\n",
      "    ├── gencode.dmp\n",
      "    ├── images.dmp\n",
      "    ├── merged.dmp\n",
      "    ├── names.dmp\n",
      "    ├── nodes.dmp\n",
      "    ├── nucl_gb.accession2taxid\n",
      "    ├── nucl_wgs.accession2taxid\n",
      "    ├── readme.txt\n",
      "    ├── taxdump.dlflag\n",
      "    ├── taxdump.tar.gz\n",
      "    └── taxdump.untarflag\n",
      "\n",
      "1 directory, 16 files\n"
     ]
    }
   ],
   "source": [
    "tree ${TAX_PATH}"
   ]
  },
  {
   "cell_type": "markdown",
   "id": "d58b11f4-9ffd-453a-82ed-9a0f76f2166e",
   "metadata": {},
   "source": [
    "### Sequence data\n",
    "Directly download from NCBI RefSeq release FTP website (file from 15/01/24"
   ]
  },
  {
   "cell_type": "markdown",
   "id": "c4989ee4-4cba-42e4-8998-d98161548926",
   "metadata": {},
   "source": [
    "NCBI viral RefSeq (directly from NCBI now, not using the kraken2 pre-built)"
   ]
  },
  {
   "cell_type": "markdown",
   "id": "39a4cf88-e23c-4dc6-abce-8494de6c30f5",
   "metadata": {},
   "source": [
    "___This step is not required to run every time and it takes a long time, hence commented out___"
   ]
  },
  {
   "cell_type": "code",
   "execution_count": 10,
   "id": "add2e63d-c65f-46f2-b929-91b8b85655b9",
   "metadata": {},
   "outputs": [],
   "source": [
    "cd ${LIB_PATH}\n",
    "#wget https://ftp.ncbi.nlm.nih.gov/refseq/release/viral/viral.1.1.genomic.fna.gz\n",
    "#gunzip viral.1.1.genomic.fna.gz"
   ]
  },
  {
   "cell_type": "markdown",
   "id": "e84c621e-996f-4552-ba36-9bbb096d529a",
   "metadata": {},
   "source": [
    "NCBI Infuenza FTP  \n",
    "___NOTE___ that the resource is no longer kept updated (since Oct 2020) so this is used as a starting point but we still need to add later influenza genomes using the new NCBI API for\n",
    "\n",
    "https://www.ncbi.nlm.nih.gov/labs/virus/vssi/#/\n",
    "\n",
    "Here is a post showing how to programmatically interact with the new NCBI Virus site to obtain sequences:  \n",
    "https://www.biostars.org/p/9562294/   "
   ]
  },
  {
   "cell_type": "markdown",
   "id": "6869acff-83be-4e11-a3d4-f26277920766",
   "metadata": {},
   "source": [
    "___This step is not required to run every time and it takes a long time, hence commented out___"
   ]
  },
  {
   "cell_type": "code",
   "execution_count": 14,
   "id": "0c1f4db6-2050-4967-a229-6a3415f28a67",
   "metadata": {},
   "outputs": [],
   "source": [
    "cd ${LIB_PATH}\n",
    "# wget https://ftp.ncbi.nih.gov/genomes/INFLUENZA/influenza.fna"
   ]
  },
  {
   "cell_type": "code",
   "execution_count": 11,
   "id": "849133fb-df97-4f35-8e8a-445e061766ce",
   "metadata": {},
   "outputs": [
    {
     "name": "stdout",
     "output_type": "stream",
     "text": [
      "/lustre/scratch126/gsu/team112/personal/fs5/rvi_dev/krakenDBs/kraken_flu//downloads/sequence_download/refseq_ncbiFlu_kfv2_091124/\n",
      "├── influenza.fna\n",
      "└── viral.1.1.genomic.fna\n",
      "\n",
      "0 directories, 2 files\n"
     ]
    }
   ],
   "source": [
    "tree ${LIB_PATH}"
   ]
  },
  {
   "cell_type": "markdown",
   "id": "803c1e7d-9a9b-422f-83ce-38124e201d53",
   "metadata": {},
   "source": [
    "## Run the kraken-flu tool\n",
    "The tool creates a new directory of taxonomy and sequence files.  \n",
    "\n",
    "Using an exception to the \"complete flu genomes\" filter for the avian flu reference because we want this one in the DB but it does not have all 8 segments in RefSeq.\n",
    "\n",
    "___NOTE___ The current implementation of the kraken-flu tool reads sequence and taxonomy files into RAM and therefore needs a significant amount of RAM. The process got killed on a 5GB node but work fine on 10GB.\n"
   ]
  },
  {
   "cell_type": "code",
   "execution_count": null,
   "id": "61859120-34ce-4342-8aec-03fb9c9cbecc",
   "metadata": {},
   "outputs": [
    {
     "name": "stdout",
     "output_type": "stream",
     "text": [
      "rm: cannot remove '/lustre/scratch126/gsu/team112/personal/fs5/rvi_dev/krakenDBs/kraken_flu//db_prep/refseq_ncbiFlu_kfv2_091124//kfdb.sqlite': No such file or directory\n"
     ]
    }
   ],
   "source": [
    "rm ${DB_PREP_DIR}/kfdb.sqlite\n",
    "~/kraken_flu/bin/kraken_flu \\\n",
    "    --taxonomy_path  ${TAX_PATH}/taxonomy \\\n",
    "    --fasta_path ${LIB_PATH}/influenza.fna ${LIB_PATH}/viral.1.1.genomic.fna \\\n",
    "    --out_dir ${DB_PREP_DIR} \\\n",
    "    --db_file ${DB_PREP_DIR}/kfdb.sqlite \\\n",
    "    --keep_db_file \\\n",
    "    --filter_flu \\\n",
    "    --filter_except \"A/Goose/Guangdong/1/96(H5N1)\" \\\n",
    "    --do_full_linkage \\\n",
    "    > ${DB_PREP_DIR}/log 2>&1"
   ]
  },
  {
   "cell_type": "code",
   "execution_count": 17,
   "id": "36b7f9a0-43d1-4100-a47f-c23c4666f5cf",
   "metadata": {},
   "outputs": [
    {
     "name": "stdout",
     "output_type": "stream",
     "text": [
      "/lustre/scratch126/gsu/team112/personal/fs5/rvi_dev/krakenDBs/kraken_flu//db_prep/refseq_ncbiFlu_kfv2_090424/\n",
      "├── kfdb.sqlite\n",
      "├── library\n",
      "│   └── library.fna\n",
      "├── log\n",
      "└── taxonomy\n",
      "    ├── names.dmp\n",
      "    └── nodes.dmp\n",
      "\n",
      "2 directories, 5 files\n"
     ]
    }
   ],
   "source": [
    "tree ${DB_PREP_DIR}"
   ]
  },
  {
   "cell_type": "markdown",
   "id": "d2f2b85c-69a6-40e2-a77c-78ee9303232c",
   "metadata": {},
   "source": [
    "## Prepare new kraken2 DB directory\n",
    "Create the direcotry and copy the kraken-flu results into it, then use the kraken-build tool to add the library to the new DB"
   ]
  },
  {
   "cell_type": "code",
   "execution_count": 18,
   "id": "447c13a1-a05d-4f64-bbb6-b8c03b589038",
   "metadata": {},
   "outputs": [],
   "source": [
    "rm -rf ${DB_PATH}\n",
    "mkdir -p ${DB_PATH}"
   ]
  },
  {
   "cell_type": "markdown",
   "id": "9a059b5a-8a55-4c0c-bb0a-77b6a21abfda",
   "metadata": {},
   "source": [
    "Copy the taxonomy created by kraken-flu in the new dir"
   ]
  },
  {
   "cell_type": "code",
   "execution_count": 19,
   "id": "59cbbf5d-a480-4306-aa17-95e827fa0d31",
   "metadata": {},
   "outputs": [],
   "source": [
    "cp -r ${DB_PREP_DIR}/taxonomy ${DB_PATH}"
   ]
  },
  {
   "cell_type": "markdown",
   "id": "b0e80718-4799-4330-be87-9694e95e6621",
   "metadata": {},
   "source": [
    "also need the large NCBIU accession to tax ID file here for kraken-build"
   ]
  },
  {
   "cell_type": "code",
   "execution_count": 20,
   "id": "8e22aff8-99a0-4a43-acb9-aa40a4ed3a89",
   "metadata": {},
   "outputs": [],
   "source": [
    "ln -s ${TAX_PATH}/taxonomy/nucl_gb.accession2taxid ${DB_PATH}/taxonomy"
   ]
  },
  {
   "cell_type": "code",
   "execution_count": 21,
   "id": "8352b78b-aa87-4f1b-9748-4b7d9c4f725e",
   "metadata": {},
   "outputs": [
    {
     "name": "stdout",
     "output_type": "stream",
     "text": [
      "/lustre/scratch126/gsu/team112/personal/fs5/rvi_dev/krakenDBs/kraken_flu//databases/refseq_ncbiFlu_kfv2_090424\n",
      "└── taxonomy\n",
      "    ├── names.dmp\n",
      "    ├── nodes.dmp\n",
      "    └── nucl_gb.accession2taxid -> /lustre/scratch126/gsu/team112/personal/fs5/rvi_dev/krakenDBs/kraken_flu//downloads/taxonomy_download//taxonomy/nucl_gb.accession2taxid\n",
      "\n",
      "1 directory, 3 files\n"
     ]
    }
   ],
   "source": [
    "tree ${DB_PATH}"
   ]
  },
  {
   "cell_type": "markdown",
   "id": "d68d4fee-6438-4241-873b-e8c019968378",
   "metadata": {},
   "source": [
    "use kraken-tool to add the library file to the new DB"
   ]
  },
  {
   "cell_type": "code",
   "execution_count": 22,
   "id": "37567f1b-c307-4408-af02-fcf8eba05be0",
   "metadata": {},
   "outputs": [],
   "source": [
    "mkdir ${DB_PATH}/library"
   ]
  },
  {
   "cell_type": "code",
   "execution_count": 23,
   "id": "ba8776ec-25b1-48dc-b0a7-086761953972",
   "metadata": {},
   "outputs": [
    {
     "name": "stdout",
     "output_type": "stream",
     "text": [
      "Masking low-complexity regions of new file... done.\n",
      "Added \"/lustre/scratch126/gsu/team112/personal/fs5/rvi_dev/krakenDBs/kraken_flu//db_prep/refseq_ncbiFlu_kfv2_090424//library/library.fna\" to library (/lustre/scratch126/gsu/team112/personal/fs5/rvi_dev/krakenDBs/kraken_flu//databases/refseq_ncbiFlu_kfv2_090424)\n"
     ]
    }
   ],
   "source": [
    "kraken2-build \\\n",
    "    --add-to-library ${DB_PREP_DIR}/library/library.fna \\\n",
    "    --db ${DB_PATH}"
   ]
  },
  {
   "cell_type": "markdown",
   "id": "07cb57ea-ff3d-4925-bf00-dd6c13a4b5ab",
   "metadata": {},
   "source": [
    "## Create the kraken2 DB"
   ]
  },
  {
   "cell_type": "code",
   "execution_count": 24,
   "id": "abc20249-9379-4500-af15-7e106a1f909c",
   "metadata": {},
   "outputs": [
    {
     "name": "stdout",
     "output_type": "stream",
     "text": [
      "Creating sequence ID to taxonomy ID map (step 1)...\n",
      "Found 19285/19289 targets, searched through 327566049 accession IDs, search complete.\n",
      "lookup_accession_numbers: 4/19289 accession numbers remain unmapped, see unmapped.txt in DB directory\n",
      "Sequence ID to taxonomy ID map complete. [47.088s]\n",
      "Estimating required capacity (step 2)...\n",
      "Estimated hash table requirement: 669491200 bytes\n",
      "Capacity estimation complete. [44.220s]\n",
      "Building database files (step 3)...\n",
      "Taxonomy parsed and converted.\n",
      "CHT created with 19 bits reserved for taxid.\n",
      "Completed processing of 444063 sequences, 1262356451 bp\n",
      "Writing data to disk...  complete.\n",
      "Database files completed. [3m42.457s]\n",
      "Database construction complete. [Total: 5m13.906s]\n"
     ]
    }
   ],
   "source": [
    "kraken2-build \\\n",
    "    --build \\\n",
    "    --db ${DB_PATH}"
   ]
  },
  {
   "cell_type": "code",
   "execution_count": 25,
   "id": "8774fd81-07f8-4f76-b4de-381492e98601",
   "metadata": {},
   "outputs": [
    {
     "name": "stdout",
     "output_type": "stream",
     "text": [
      "/lustre/scratch126/gsu/team112/personal/fs5/rvi_dev/krakenDBs/kraken_flu//databases/refseq_ncbiFlu_kfv2_090424\n"
     ]
    }
   ],
   "source": [
    "echo ${DB_PATH}"
   ]
  },
  {
   "cell_type": "markdown",
   "id": "c0007f0f-9133-4a77-941e-74f04c8ef355",
   "metadata": {},
   "source": [
    "## Test with simulated data\n",
    "Run with a set of simulated reads for all the current viruses of interest.\n"
   ]
  },
  {
   "cell_type": "code",
   "execution_count": 26,
   "id": "8f37667f-adf8-49ae-b446-8813666e748f",
   "metadata": {},
   "outputs": [],
   "source": [
    "export TEST_BASE_DIR=/lustre/scratch126/gsu/team112/personal/fs5/rvi_dev/krakenDBs/kraken_flu_test_040924"
   ]
  },
  {
   "cell_type": "code",
   "execution_count": 27,
   "id": "e50475af-585b-4530-a7fc-594b4483563a",
   "metadata": {},
   "outputs": [],
   "source": [
    "mkdir -p ${TEST_BASE_DIR}"
   ]
  },
  {
   "cell_type": "code",
   "execution_count": 28,
   "id": "0db6cc5d-8575-4bd0-8830-61d1df5aaf47",
   "metadata": {},
   "outputs": [
    {
     "name": "stdout",
     "output_type": "stream",
     "text": [
      "Loading database information... done.\n",
      "6620 sequences (1.99 Mbp) processed in 0.424s (936.2 Kseq/m, 280.85 Mbp/m).\n",
      "  6618 sequences classified (99.97%)\n",
      "  2 sequences unclassified (0.03%)\n"
     ]
    }
   ],
   "source": [
    "kraken2 \\\n",
    "    --db ${DB_PATH} \\\n",
    "    --output ${TEST_BASE_DIR}/output.kraken \\\n",
    "    --paired \\\n",
    "    --classified-out ${TEST_BASE_DIR}/class_seqs#.fq \\\n",
    "    --unclassified-out ${TEST_BASE_DIR}/unclass_seqs#.fq \\\n",
    "    --report ${TEST_BASE_DIR}/report.txt \\\n",
    "/lustre/scratch126/gsu/team112/personal/fs5/rvi_dev/sim_reads/art/mix/mix_of_all_01-1.fq \\\n",
    "/lustre/scratch126/gsu/team112/personal/fs5/rvi_dev/sim_reads/art/mix/mix_of_all_01-2.fq"
   ]
  },
  {
   "cell_type": "code",
   "execution_count": 29,
   "id": "37bb54f1-caa2-4bf0-b246-206c67ac0bab",
   "metadata": {},
   "outputs": [
    {
     "name": "stdout",
     "output_type": "stream",
     "text": [
      "  0.03\t2\t2\tU\t0\tunclassified\n",
      " 99.97\t6618\t0\tR\t1\troot\n",
      " 99.97\t6618\t0\tD\t10239\t  Viruses\n",
      " 99.97\t6618\t0\tD1\t2559587\t    Riboviria\n",
      " 99.97\t6618\t0\tK\t2732396\t      Orthornavirae\n",
      " 69.91\t4628\t0\tP\t2497569\t        Negarnaviricota\n",
      " 39.43\t2610\t0\tP1\t2497571\t          Polyploviricotina\n",
      " 39.43\t2610\t0\tC\t2497577\t            Insthoviricetes\n",
      " 39.43\t2610\t0\tO\t2499411\t              Articulavirales\n",
      " 39.43\t2610\t0\tF\t11308\t                Orthomyxoviridae\n",
      " 25.53\t1690\t0\tG\t197911\t                  Alphainfluenzavirus\n",
      " 25.53\t1690\t0\tS\t2955291\t                    Alphainfluenzavirus influenzae\n",
      " 25.53\t1690\t36\tS1\t11320\t                      Influenza A virus\n",
      "  4.53\t300\t268\tS2\t3121628\t                        Influenza A segment 2\n",
      "  0.02\t1\t1\tS3\t3177554\t                          A/Wisconsin/629-D00938/2009(H1N1) segment 2\n",
      "  0.02\t1\t1\tS3\t3129664\t                          A/Canterbury/270/2005(H3N2) segment 2\n",
      "  0.02\t1\t1\tS3\t3242328\t                          A/swine/Hong Kong/NS3815/2010(H1N1) segment 2\n",
      "  0.02\t1\t1\tS3\t3179622\t                          A/Blagovechensk/01/2009(H1N1) segment 2\n",
      "  0.02\t1\t1\tS3\t3264322\t                          A/swine/Minnesota/A01076180/2009(H1N1) segment 2\n",
      "  0.02\t1\t1\tS3\t3193439\t                          A/Jiangsu/S62/2009(H1N1) segment 2\n",
      "  0.02\t1\t1\tS3\t3261966\t                          A/goose/Shandong/k1204/2009(H5N5) segment 2\n",
      "  0.02\t1\t1\tS3\t3230095\t                          A/swine/Henan/1/2010(H3N2) segment 2\n",
      "  0.02\t1\t1\tS3\t3123513\t                          A/New York/184/1999(H3N2) segment 2\n",
      "  0.02\t1\t1\tS3\t3236205\t                          A/swine/Kansas/12-117893/2012(H1N2) segment 2\n",
      "  0.02\t1\t1\tS3\t3423227\t                          A/Pink-eared Duck/Victoria/PD001/2017(H3N1) segment 2\n",
      "  0.02\t1\t1\tS3\t3201384\t                          A/Ngp/NIV14725/2009(H1N1) segment 2\n",
      "  0.02\t1\t1\tS3\t3240185\t                          A/swine/Guangdong/NS2801/2010(H1N1) segment 2\n",
      "  0.02\t1\t1\tS3\t3228260\t                          A/India/Nag132467/2013(H1N1) segment 2\n",
      "  0.02\t1\t1\tS3\t3462330\t                          A/Ohio/8316/2019(H3N2) segment 2\n",
      "  0.02\t1\t1\tS3\t3263661\t                          A/swine/England/61470/2013(H1N2) segment 2\n",
      "  0.02\t1\t1\tS3\t3127341\t                          A/red knot/NJ/325/1989(H7N7) segment 2\n",
      "  0.02\t1\t1\tS3\t3440098\t                          A/swine/Manitoba/D0479/2017(H1N2) segment 2\n",
      "  0.02\t1\t1\tS3\t3197897\t                          A/India/GWL_DSC/2010(H1N1) segment 2\n",
      "  0.02\t1\t1\tS3\t3376286\t                          A/Colorado/06/2018(H1N1) segment 2\n",
      "  0.02\t1\t1\tS3\t3439745\t                          A/swine/Alberta/SD0260/2017(mixed) segment 2\n",
      "  0.02\t1\t1\tS3\t3161899\t                          A/Sakai/2/2009(H1N1) segment 2\n",
      "  0.02\t1\t1\tS3\t3353103\t                          A/swine/Rancagua/VN1401-1459/2015(H1N1) segment 2\n",
      "  0.02\t1\t1\tS3\t3396232\t                          A/Taiwan/00582/2011(H1N1) segment 2\n",
      "  0.02\t1\t1\tS3\t3269373\t                          A/Delaware/09/2015(H3N2) segment 2\n",
      "  0.02\t1\t1\tS3\t3296887\t                          A/Idaho/42/2015(H1N1) segment 2\n",
      "  0.02\t1\t1\tS3\t3323680\t                          A/New York/79/2016(H1N1) segment 2\n",
      "  0.02\t1\t1\tS3\t3201566\t                          A/South Carolina/WRAIR1645P/2009(H1N1) segment 2\n",
      "  0.02\t1\t1\tS3\t3128409\t                          A/Canterbury/16/2004(H3N2) segment 2\n",
      "  0.02\t1\t1\tS3\t3493633\t                          A/swine/Denmark/V81/2017(H1N2) segment 2\n",
      "  0.02\t1\t1\tS3\t3478980\t                          A/swine/Nebraska/A01378044/2019(H1N2) segment 2\n",
      "  0.02\t1\t1\tS3\t3168761\t                          A/swine/Iowa/H02AS8/2002(H3N2) segment 2\n",
      "  4.53\t300\t281\tS2\t3121627\t                        Influenza A segment 1\n",
      "  0.03\t2\t2\tS3\t3350538\t                          A/Santa Cruz do Sul/LACENRS-913/2011(H3N2) segment 1\n",
      "  0.02\t1\t1\tS3\t3242691\t                          A/Bangkok/SIMI503/2010(H1N1) segment 1\n",
      "  0.02\t1\t1\tS3\t3126607\t                          A/New York/518/1998(H3N2) segment 1\n",
      "  0.02\t1\t1\tS3\t3219612\t                          A/swine/Illinois/A01202615/2011(H1N1) segment 1\n",
      "  0.02\t1\t1\tS3\t3161705\t                          A/swine/Hong Kong/78/2003(H1N2) segment 1\n",
      "  0.02\t1\t1\tS3\t3196094\t                          A/India/GWL_DSC/2010(H1N1) segment 1\n",
      "  0.02\t1\t1\tS3\t3273648\t                          A/Virginia/37/2014(H3N2) segment 1\n",
      "  0.02\t1\t1\tS3\t3180295\t                          A/Wisconsin/629-D02442/2009(H1N1) segment 1\n",
      "  0.02\t1\t1\tS3\t3128760\t                          A/Canterbury/109/2004(H3N2) segment 1\n",
      "  0.02\t1\t1\tS3\t3540929\t                          A/Louisiana/12/2020(H1N1) segment 1\n",
      "  0.02\t1\t1\tS3\t3202300\t                          A/swine/Holguin/121/2010(H1N1) segment 1\n",
      "  0.02\t1\t1\tS3\t3480052\t                          A/Vladimir/87/2019(H3N2) segment 1\n",
      "  0.02\t1\t1\tS3\t3261314\t                          A/California/17/2014(H3N2) segment 1\n",
      "  0.02\t1\t1\tS3\t3507146\t                          A/Victoria/691/2017(H3N2) segment 1\n",
      "  0.02\t1\t1\tS3\t3344004\t                          A/swine/North Carolina/A01945748/2015(H1N2) segment 1\n",
      "  0.02\t1\t1\tS3\t3496108\t                          A/duck/Vietnam/HU9-211/2018(H6N6) segment 1\n",
      "  0.02\t1\t1\tS3\t3169714\t                          A/Wisconsin/629-D01903/2009(H1N1) segment 1\n",
      "  0.02\t1\t1\tS3\t3196473\t                          A/District of Columbia/INS23/2009(H1N1) segment 1\n",
      "  4.23\t280\t260\tS2\t3121629\t                        Influenza A segment 3\n",
      "  0.02\t1\t1\tS3\t3221659\t                          A/Wisconsin/53/2009(H1N1) segment 3\n",
      "  0.02\t1\t1\tS3\t3453812\t                          A/Florida/07/2019(H1N1) segment 3\n",
      "  0.02\t1\t1\tS3\t3427817\t                          A/swine/Steinfeld/21926/2015(H1N2) segment 3\n",
      "  0.02\t1\t1\tS3\t3477904\t                          A/Delaware/23/2019(H1N1) segment 3\n",
      "  0.02\t1\t1\tS3\t3244195\t                          A/Singapore/H2013.384/2013(H3N2) segment 3\n",
      "  0.02\t1\t1\tS3\t3398202\t                          A/New York/35/2018(H1N1) segment 3\n",
      "  0.02\t1\t1\tS3\t3503472\t                          A/Perth/341/2017(H3N2) segment 3\n",
      "  0.02\t1\t1\tS3\t3193437\t                          A/Jiangsu/S62/2009(H1N1) segment 3\n",
      "  0.02\t1\t1\tS3\t3507120\t                          A/Victoria/688/2017(H3N2) segment 3\n",
      "  0.02\t1\t1\tS3\t3277285\t                          A/North Carolina/29/2015(H3N2) segment 3\n",
      "  0.02\t1\t1\tS3\t3313191\t                          A/turkey/Poland/14/2013(H9N2) segment 3\n",
      "  0.02\t1\t1\tS3\t3131686\t                          A/Memphis/8/1988(H3N2) segment 3\n",
      "  0.02\t1\t1\tS3\t3126533\t                          A/New York/303/2001(H1N1) segment 3\n",
      "  0.02\t1\t1\tS3\t3281762\t                          A/Florida/30/2012(H3N2) segment 3\n",
      "  0.02\t1\t1\tS3\t3368632\t                          A/swine/North Carolina/A02219753/2017(H3N2) segment 3\n",
      "  0.02\t1\t1\tS3\t3225511\t                          A/swine/Minnesota/A01279213/2012(H1N1) segment 3\n",
      "  0.02\t1\t1\tS3\t3425984\t                          A/swine/Manitoba/DM_18/2017(H3N2) segment 3\n",
      "  0.02\t1\t1\tS3\t3453520\t                          A/swine/Iowa/A02256794/2018(H1N1) segment 3\n",
      "  0.02\t1\t1\tS3\t3324737\t                          A/Hawaii/61/2016(H3N2) segment 3\n",
      "  0.02\t1\t1\tS3\t3238483\t                          A/swine/Guangxi/1/2013(H1N1) segment 3\n",
      "  2.87\t190\t185\tS2\t3121649\t                        Influenza A segment 5\n",
      "  0.02\t1\t1\tS3\t3352251\t                          A/swine/Minnesota/A01781222/2016(H3N2) segment 5\n",
      "  0.02\t1\t1\tS3\t3222178\t                          A/swine/Thailand/CB228/2010(H1N1) segment 5\n",
      "  0.02\t1\t1\tS3\t3204282\t                          A/Zhejiang/3/2009(H1N1) segment 5\n",
      "  0.02\t1\t1\tS3\t3397702\t                          A/swine/Palmilla/VN1401-P7SI/2016(H1N1) segment 5\n",
      "  0.02\t1\t1\tS3\t3239378\t                          A/Sri Lanka/11/2012(H1N1) segment 5\n",
      "  2.78\t184\t36\tS2\t3121630\t                        Influenza A segment 4\n",
      "  1.36\t90\t81\tS3\t3121633\t                          Influenza A H3 segment 4\n",
      "  0.02\t1\t1\tS4\t3252648\t                            A/swine/Tochigi/14/2013(H3N2) segment 4\n",
      "  0.02\t1\t1\tS4\t3301086\t                            A/swine/Alberta/G9/2014(H3N2) segment 4\n",
      "  0.02\t1\t1\tS4\t3292911\t                            A/swine/Mexico/AVX13/2012(H3N2) segment 4\n",
      "  0.02\t1\t1\tS4\t3195791\t                            A/swine/QC/1840-2/2009(H3N2) segment 4\n",
      "  0.02\t1\t1\tS4\t3403829\t                            A/Oklahoma/11/2018(H3N2) segment 4\n",
      "  0.02\t1\t1\tS4\t3442963\t                            A/swine/Indiana/17TOSU2865/2017(H3N2) segment 4\n",
      "  0.02\t1\t1\tS4\t3133395\t                            A/New York/714/1994(H3N2) segment 4\n",
      "  0.02\t1\t1\tS4\t3378767\t                            A/Missouri/02/2018(H3N2) segment 4\n",
      "  0.02\t1\t1\tS4\t3133203\t                            A/Waikato/139/2003(H3N2) segment 4\n",
      "  0.88\t58\t44\tS3\t3121631\t                          Influenza A H1 segment 4\n",
      "  0.02\t1\t1\tS4\t3393656\t                            A/Wisconsin/87/2018(H1N1) segment 4\n",
      "  0.02\t1\t1\tS4\t3228781\t                            A/Qingdao/F404/2011(H1N1) segment 4\n",
      "  0.02\t1\t1\tS4\t3187574\t                            A/Odense/INS307/2009(H1N1) segment 4\n",
      "  0.02\t1\t1\tS4\t3196957\t                            A/swine/Indiana/240218/2010(H1N2) segment 4\n",
      "  0.02\t1\t1\tS4\t3177309\t                            A/Wisconsin/629-D00459/2009(H1N1) segment 4\n",
      "  0.02\t1\t1\tS4\t3204265\t                            A/Zhejiang/X1/2009(H1N1) segment 4\n",
      "  0.02\t1\t1\tS4\t3193518\t                            A/swine/Jangsu/38/2010(H1N1) segment 4\n",
      "  0.02\t1\t1\tS4\t3427450\t                            A/swine/Melle/19313/2013(H1N2) segment 4\n",
      "  0.02\t1\t1\tS4\t3359330\t                            A/Mexico/4431/2016(H1N1) segment 4\n",
      "  0.02\t1\t1\tS4\t3220888\t                            A/Colorado/02/2010(H1N1) segment 4\n",
      "  0.02\t1\t1\tS4\t3453927\t                            A/Maine/06/2019(H1N1) segment 4\n",
      "  0.02\t1\t1\tS4\t3208345\t                            A/swine/Shandong/327/2010(H1N1) segment 4\n",
      "  0.02\t1\t1\tS4\t3427138\t                            A/swine/Lehe/16786/2012(H1N2) segment 4\n",
      "  0.02\t1\t1\tS4\t3241818\t                            A/swine/Hong Kong/NS26/2012(H1N2) segment 4\n",
      "  2.72\t180\t48\tS2\t3121650\t                        Influenza A segment 6\n",
      "  1.36\t90\t82\tS3\t3121652\t                          Influenza A N2 segment 6\n",
      "  0.02\t1\t1\tS4\t3217144\t                            A/swine/Spain/13/2010(H3N2) segment 6\n",
      "  0.02\t1\t1\tS4\t3358267\t                            A/swine/Minnesota/A02216466/2017(H3N2) segment 6\n",
      "  0.02\t1\t1\tS4\t3163530\t                            A/Hong Kong/HKU72/2005(H3N2) segment 6\n",
      "  0.02\t1\t1\tS4\t3129372\t                            A/New York/540/1998(H3N2) segment 6\n",
      "  0.02\t1\t1\tS4\t3398341\t                            A/Maine/30/2018(H3N2) segment 6\n",
      "  0.02\t1\t1\tS4\t3133657\t                            A/mallard/Ohio/97/1989(H4N2) segment 6\n",
      "  0.02\t1\t1\tS4\t3452720\t                            A/China/38887/2012(H3N2) segment 6\n",
      "  0.02\t1\t1\tS4\t3243500\t                            A/swine/Guangxi/JGB4/2013(H3N2) segment 6\n",
      "  0.63\t42\t32\tS3\t3121651\t                          Influenza A N1 segment 6\n",
      "  0.02\t1\t1\tS4\t3434822\t                            A/swine/Klein Wanzleben/17303/2013(H1N1) segment 6\n",
      "  0.02\t1\t1\tS4\t3263376\t                            A/swine/England/041313/2013(H1N1) segment 6\n",
      "  0.02\t1\t1\tS4\t3294625\t                            A/California/04-224-MA/2009(H1N1) segment 6\n",
      "  0.02\t1\t1\tS4\t3214175\t                            A/Singapore/GP413/2010(H1N1) segment 6\n",
      "  0.02\t1\t1\tS4\t3343495\t                            A/swine/France/35-160126/2016(H1N1) segment 6\n",
      "  0.02\t1\t1\tS4\t3149626\t                            A/duck/Hunan/1386/2003(H5N1) segment 6\n",
      "  0.02\t1\t1\tS4\t3200084\t                            A/Tula/CRIE-SIA/2011(H1N1) segment 6\n",
      "  0.02\t1\t1\tS4\t3266482\t                            A/Singapore/DMS1154/2010(H1N1) segment 6\n",
      "  0.02\t1\t1\tS4\t3540558\t                            A/Arkansas/14/2020(H1N1) segment 6\n",
      "  0.02\t1\t1\tS4\t3189310\t                            A/Canada-NFL/RV2509/2009(H1N1) segment 6\n",
      "  1.81\t120\t106\tS2\t3121662\t                        Influenza A segment 7\n",
      "  0.02\t1\t1\tS3\t3172765\t                          A/duck/France/06436/2006(H5N3) segment 7\n",
      "  0.02\t1\t1\tS3\t3239364\t                          A/Sri Lanka/19/2012(H1N1) segment 7\n",
      "  0.02\t1\t1\tS3\t3289679\t                          A/Florida/81/2015(H3N2) segment 7\n",
      "  0.02\t1\t1\tS3\t3262075\t                          A/India/Pun151245/2015(H1N1) segment 7\n",
      "  0.02\t1\t1\tS3\t3234948\t                          A/chicken/Guangxi/S4029/2010(H6N6) segment 7\n",
      "  0.02\t1\t1\tS3\t3249102\t                          A/pigeon/Yunnan/1045/2013(H9N2) segment 7\n",
      "  0.02\t1\t1\tS3\t3167849\t                          A/chicken/West Bengal/106181/2008(H5N1) segment 7\n",
      "  0.02\t1\t1\tS3\t3263489\t                          A/swine/Poland/16315/2011(H1N1) segment 7\n",
      "  0.02\t1\t1\tS3\t3192406\t                          A/mallard/Washington/44338-195/2007(H12N5) segment 7\n",
      "  0.02\t1\t1\tS3\t3157555\t                          A/Hong Kong/HKU22/2004(H3N2) segment 7\n",
      "  0.02\t1\t1\tS3\t3292679\t                          A/swine/Mexico/AVX42/2012(H1N1) segment 7\n",
      "  0.02\t1\t1\tS3\t3211542\t                          A/swine/Guangdong/L21/2011(H3N2) segment 7\n",
      "  0.02\t1\t1\tS3\t3247031\t                          A/Quebec/26-281106/2006(H3N2) segment 7\n",
      "  0.02\t1\t1\tS3\t3229846\t                          A/swine/Missouri/A01432837/2013(H1N2) segment 7\n",
      "  1.51\t100\t89\tS2\t3121663\t                        Influenza A segment 8\n",
      "  0.02\t1\t1\tS3\t3181768\t                          A/chicken/Henan/A-7/2006(H5N1) segment 8\n",
      "  0.02\t1\t1\tS3\t3204277\t                          A/Zhejiang/X2/2009(H1N1) segment 8\n",
      "  0.02\t1\t1\tS3\t3276749\t                          A/California/82/2015(H3N2) segment 8\n",
      "  0.02\t1\t1\tS3\t3413270\t                          A/wild waterfowl/Korea/F7-18/2018(H4N8) segment 8\n",
      "  0.02\t1\t1\tS3\t3398921\t                          A/mallard/Maryland/16-042534-2/2016(H5N2) segment 8\n",
      "  0.02\t1\t1\tS3\t3427750\t                          A/swine/Emstek/21332/2015(H1N2) segment 8\n",
      "  0.02\t1\t1\tS3\t3244066\t                          A/Singapore/C2012.197/2012(H3N2) segment 8\n",
      "  0.02\t1\t1\tS3\t3503175\t                          A/Newcastle/610/2017(H3N2) segment 8\n",
      "  0.02\t1\t1\tS3\t3173154\t                          A/Kurgan/01/2009(H1N1) segment 8\n",
      "  0.02\t1\t1\tS3\t3140129\t                          A/Memphis/38/1983(H1N1) segment 8\n",
      "  0.02\t1\t1\tS3\t3470716\t                          A/Illinois/9361/2019(H3N2) segment 8\n",
      " 13.90\t920\t0\tG\t197912\t                  Betainfluenzavirus\n",
      " 13.90\t920\t0\tS\t2955465\t                    Betainfluenzavirus influenzae\n",
      " 13.90\t920\t608\tS1\t11520\t                      Influenza B virus\n",
      "  1.36\t90\t5\tS2\t3121665\t                        Influenza B segment 2\n",
      "  0.85\t56\t56\tS3\t3209109\t                          B/Lee/1940 segment 2\n",
      "  0.23\t15\t15\tS3\t3471351\t                          B/Nicaragua/6318_11/2012 segment 2\n",
      "  0.09\t6\t6\tS3\t3546515\t                          B/Lee/1940 segment 2\n",
      "  0.09\t6\t6\tS3\t3143232\t                          B/Russia/69 segment 2\n",
      "  0.02\t1\t1\tS3\t3139424\t                          B/Houston/B850/2005 segment 2\n",
      "  0.02\t1\t1\tS3\t3301172\t                          B/Malaysia/U3901/2014 segment 2\n",
      "  1.13\t75\t73\tS2\t3121668\t                        Influenza B segment 5\n",
      "  0.02\t1\t1\tS3\t3518781\t                          B/Louisiana/40/2019 segment 5\n",
      "  0.02\t1\t1\tS3\t3140653\t                          B/Chile/3162/2002 segment 5\n",
      "  1.01\t67\t57\tS2\t3121666\t                        Influenza B segment 3\n",
      "  0.12\t8\t8\tS3\t3546499\t                          B/Lee/1940 segment 3\n",
      "  0.02\t1\t1\tS3\t3481443\t                          B/South Korea/9732/2019 segment 3\n",
      "  0.02\t1\t1\tS3\t3139742\t                          B/Hong Kong/167/2002 segment 3\n",
      "  0.41\t27\t26\tS2\t3121671\t                        Influenza B segment 8\n",
      "  0.02\t1\t1\tS3\t3402884\t                          B/Michigan/30/2018 segment 8\n",
      "  0.36\t24\t22\tS2\t3121669\t                        Influenza B segment 6\n",
      "  0.02\t1\t1\tS3\t3375120\t                          B/Bethesda/NIH001/2007 segment 6\n",
      "  0.02\t1\t1\tS3\t3318381\t                          B/Idaho/08/2016 segment 6\n",
      "  0.24\t16\t15\tS2\t3121670\t                        Influenza B segment 7\n",
      "  0.02\t1\t1\tS3\t3319438\t                          B/Texas/25/2016 segment 7\n",
      "  0.11\t7\t5\tS2\t3121667\t                        Influenza B segment 4\n",
      "  0.02\t1\t1\tS3\t3499635\t                          B/Homo sapiens/Thailand/TM-2580_62/2019 segment 4\n",
      "  0.02\t1\t1\tS3\t3143225\t                          B/Russia/69 segment 4\n",
      "  0.09\t6\t5\tS2\t3121664\t                        Influenza B segment 1\n",
      "  0.02\t1\t1\tS3\t3509048\t                          B/Singapore/DMS2160/2012 segment 1\n",
      " 30.48\t2018\t0\tP1\t2497570\t          Haploviricotina\n",
      " 30.48\t2018\t0\tC\t2497574\t            Monjiviricetes\n",
      " 30.48\t2018\t0\tO\t11157\t              Mononegavirales\n",
      " 30.48\t2018\t0\tF\t11244\t                Pneumoviridae\n",
      " 30.48\t2018\t2\tG\t1868215\t                  Orthopneumovirus\n",
      " 15.24\t1009\t0\tS\t3049954\t                    Orthopneumovirus hominis\n",
      " 15.24\t1009\t1009\tS1\t11250\t                      Human orthopneumovirus\n",
      " 15.21\t1007\t0\tS\t3050248\t                    Orthopneumovirus bovis\n",
      " 15.21\t1007\t0\tS1\t11246\t                      Bovine orthopneumovirus\n",
      " 15.21\t1007\t1007\tS2\t12814\t                        Respiratory syncytial virus\n",
      " 30.06\t1990\t0\tP\t2732408\t        Pisuviricota\n",
      " 30.06\t1990\t0\tC\t2732506\t          Pisoniviricetes\n",
      " 30.06\t1990\t0\tO\t76804\t            Nidovirales\n",
      " 30.06\t1990\t0\tO1\t2499399\t              Cornidovirineae\n",
      " 30.06\t1990\t0\tF\t11118\t                Coronaviridae\n",
      " 30.06\t1990\t0\tF1\t2501931\t                  Orthocoronavirinae\n",
      " 30.06\t1990\t0\tG\t694002\t                    Betacoronavirus\n",
      " 30.06\t1990\t0\tG1\t2509511\t                      Sarbecovirus\n",
      " 30.06\t1990\t0\tS\t694009\t                        Severe acute respiratory syndrome-related coronavirus\n",
      " 30.06\t1990\t1990\tS1\t2697049\t                          Severe acute respiratory syndrome coronavirus 2\n"
     ]
    }
   ],
   "source": [
    "cat ${TEST_BASE_DIR}/report.txt "
   ]
  }
 ],
 "metadata": {
  "kernelspec": {
   "display_name": "Bash",
   "language": "bash",
   "name": "bash"
  },
  "language_info": {
   "codemirror_mode": "shell",
   "file_extension": ".sh",
   "mimetype": "text/x-sh",
   "name": "bash"
  }
 },
 "nbformat": 4,
 "nbformat_minor": 5
}
