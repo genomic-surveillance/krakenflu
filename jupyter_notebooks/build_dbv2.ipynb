{
 "cells": [
  {
   "cell_type": "markdown",
   "id": "508d71e8-b2b7-47a7-8b92-79ff13e76cc3",
   "metadata": {},
   "source": [
    "# Build custom databases with segment flu genomes using kraken_flu utility\n",
    "A new utilty [kraken_flu](https://gitlab.internal.sanger.ac.uk/malariagen1/misc_utils/kraken_flu) was created to generate Kraken2 databases with segmented flu genomes from any set of input files (either from kraken2 or directly from NCBI).\n",
    "\n",
    "The tool peforms two tasks:\n",
    "1. Fiter influenza genomes to keep only those that have 8 full-length segments\n",
    "2. Create a reorganisee taxonomy with new taxa for segments of the influenza A viruses\n",
    "\n",
    "This notebook builds a complete database with NCBI RefSeq plus the NCBI Influenza resource."
   ]
  },
  {
   "cell_type": "markdown",
   "id": "3420f404-e180-4434-8c21-233628b0ca41",
   "metadata": {},
   "source": [
    "## directory paths and names"
   ]
  },
  {
   "cell_type": "code",
   "execution_count": 1,
   "id": "591263f1-d3d5-40a8-bf12-7e0ebaaebde3",
   "metadata": {},
   "outputs": [],
   "source": [
    "export DB_NAME=refseq_ncbiFlu_kfv2_102124\n",
    "export BASE_DIR=/lustre/scratch126/gsu/team112/personal/fs5/rvi_dev/krakenDBs/kraken_flu/\n",
    "\n",
    "# taxonomy data is universal and ideally reused for every DB we build, so the direcotry is not specific to this DB\n",
    "export TAX_PATH=${BASE_DIR}/downloads/taxonomy_download/\n",
    "\n",
    "# the contents of this folder were copied from refseq_ncbiFlu_kfv2_091124\n",
    "export LIB_PATH=${BASE_DIR}/downloads/sequence_download/refseq_ncbiFlu_kfv2/\n",
    "\n",
    "export DB_PREP_DIR=${BASE_DIR}/db_prep/${DB_NAME}/\n",
    "export DB_PATH=${BASE_DIR}/databases/${DB_NAME}"
   ]
  },
  {
   "cell_type": "code",
   "execution_count": 46,
   "id": "6b2831f5-3453-4bdb-ab0d-d915cce52e44",
   "metadata": {},
   "outputs": [],
   "source": [
    "mkdir -p ${BASE_DIR}\n",
    "\n",
    "rm -rf ${DB_PREP_DIR}\n",
    "mkdir -p ${DB_PREP_DIR}\n",
    "mkdir -p ${DB_PATH}"
   ]
  },
  {
   "cell_type": "code",
   "execution_count": 47,
   "id": "ade4da75-0acd-46dd-906f-5f11f4ed0871",
   "metadata": {
    "tags": []
   },
   "outputs": [
    {
     "name": "stdout",
     "output_type": "stream",
     "text": [
      "BASE DIR: /lustre/scratch126/gsu/team112/personal/fs5/rvi_dev/krakenDBs/kraken_flu/\n",
      "TAXONOMY PATH: /lustre/scratch126/gsu/team112/personal/fs5/rvi_dev/krakenDBs/kraken_flu//downloads/taxonomy_download/\n",
      "LIBRARY (FASTA) PATH: /lustre/scratch126/gsu/team112/personal/fs5/rvi_dev/krakenDBs/kraken_flu//downloads/sequence_download/refseq_ncbiFlu_kfv2/\n",
      "DB PREP DIR: /lustre/scratch126/gsu/team112/personal/fs5/rvi_dev/krakenDBs/kraken_flu//db_prep/refseq_ncbiFlu_kfv2_102124/\n",
      "FINAL DB PATH: /lustre/scratch126/gsu/team112/personal/fs5/rvi_dev/krakenDBs/kraken_flu//databases/refseq_ncbiFlu_kfv2_102124\n"
     ]
    }
   ],
   "source": [
    "echo \"BASE DIR: $BASE_DIR\"\n",
    "echo \"TAXONOMY PATH: ${TAX_PATH}\"\n",
    "echo \"LIBRARY (FASTA) PATH: ${LIB_PATH}\"\n",
    "echo \"DB PREP DIR: ${DB_PREP_DIR}\"\n",
    "echo \"FINAL DB PATH: ${DB_PATH}\""
   ]
  },
  {
   "cell_type": "markdown",
   "id": "91dc006e-b548-4b97-8bb0-5d6fdfea43d0",
   "metadata": {},
   "source": [
    "## install the kraken_flu tool\n",
    "The tool can be installed from local gitlab. Creating a venv for it."
   ]
  },
  {
   "cell_type": "code",
   "execution_count": 4,
   "id": "e1a43982-5fee-4733-897a-6dcf975fab08",
   "metadata": {},
   "outputs": [],
   "source": [
    "python3 -m venv ~/kraken_flu"
   ]
  },
  {
   "cell_type": "code",
   "execution_count": 48,
   "id": "20831265-17cd-4ea1-8f4d-451c57d8867f",
   "metadata": {
    "tags": []
   },
   "outputs": [],
   "source": [
    "source ~/kraken_flu/bin/activate"
   ]
  },
  {
   "cell_type": "code",
   "execution_count": 5,
   "id": "b4dd3741-4649-465a-b3fc-6543a937433e",
   "metadata": {
    "tags": []
   },
   "outputs": [
    {
     "name": "stdout",
     "output_type": "stream",
     "text": [
      "Requirement already satisfied: pip in /nfs/users/nfs_f/fs5/kraken_flu/lib/python3.11/site-packages (24.2)\n"
     ]
    }
   ],
   "source": [
    "pip install --upgrade pip"
   ]
  },
  {
   "cell_type": "markdown",
   "id": "597890d0-af3e-488b-b04f-f6a435be5545",
   "metadata": {},
   "source": [
    "___This version of kraken-flu is not yet in main branch, checking out latest commit in dev branch___"
   ]
  },
  {
   "cell_type": "code",
   "execution_count": 49,
   "id": "23be6de8-f582-475f-b471-1d108ea56c5f",
   "metadata": {
    "tags": []
   },
   "outputs": [],
   "source": [
    "COMMIT_SHA=90f58e2866c89056a36cce71b0c7563dbdcb3461"
   ]
  },
  {
   "cell_type": "code",
   "execution_count": 50,
   "id": "019a0564-3ef1-443c-a64d-83fbed81d4bc",
   "metadata": {},
   "outputs": [
    {
     "name": "stdout",
     "output_type": "stream",
     "text": [
      "Collecting kraken_flu@ git+ssh://****@gitlab.internal.sanger.ac.uk/malariagen1/misc_utils/kraken_flu.git@90f58e2866c89056a36cce71b0c7563dbdcb3461\n",
      "  Cloning ssh://****@gitlab.internal.sanger.ac.uk/malariagen1/misc_utils/kraken_flu.git (to revision 90f58e2866c89056a36cce71b0c7563dbdcb3461) to /tmp/pip-install-jnprbf80/kraken-flu_e60e79b9659b49278d087e5daea4bd80\n",
      "  Running command git clone --filter=blob:none --quiet 'ssh://****@gitlab.internal.sanger.ac.uk/malariagen1/misc_utils/kraken_flu.git' /tmp/pip-install-jnprbf80/kraken-flu_e60e79b9659b49278d087e5daea4bd80\n",
      "  Running command git rev-parse -q --verify 'sha^90f58e2866c89056a36cce71b0c7563dbdcb3461'\n",
      "  Running command git fetch -q 'ssh://****@gitlab.internal.sanger.ac.uk/malariagen1/misc_utils/kraken_flu.git' 90f58e2866c89056a36cce71b0c7563dbdcb3461\n",
      "  Running command git checkout -q 90f58e2866c89056a36cce71b0c7563dbdcb3461\n",
      "  Resolved ssh://****@gitlab.internal.sanger.ac.uk/malariagen1/misc_utils/kraken_flu.git to commit 90f58e2866c89056a36cce71b0c7563dbdcb3461\n",
      "  Installing build dependencies ... \u001b[?25ldone\n",
      "\u001b[?25h  Getting requirements to build wheel ... \u001b[?25ldone\n",
      "\u001b[?25h  Preparing metadata (pyproject.toml) ... \u001b[?25ldone\n",
      "\u001b[?25hRequirement already satisfied: pytest>=6.2.2 in /nfs/users/nfs_f/fs5/kraken_flu/lib/python3.11/site-packages (from kraken_flu@ git+ssh://git@gitlab.internal.sanger.ac.uk/malariagen1/misc_utils/kraken_flu.git@90f58e2866c89056a36cce71b0c7563dbdcb3461) (8.2.2)\n",
      "Requirement already satisfied: importlib-resources>=5.1.0 in /nfs/users/nfs_f/fs5/kraken_flu/lib/python3.11/site-packages (from kraken_flu@ git+ssh://git@gitlab.internal.sanger.ac.uk/malariagen1/misc_utils/kraken_flu.git@90f58e2866c89056a36cce71b0c7563dbdcb3461) (6.4.0)\n",
      "Requirement already satisfied: cached-property>=1.5.2 in /nfs/users/nfs_f/fs5/kraken_flu/lib/python3.11/site-packages (from kraken_flu@ git+ssh://git@gitlab.internal.sanger.ac.uk/malariagen1/misc_utils/kraken_flu.git@90f58e2866c89056a36cce71b0c7563dbdcb3461) (1.5.2)\n",
      "Requirement already satisfied: biopython>=1.80 in /nfs/users/nfs_f/fs5/kraken_flu/lib/python3.11/site-packages (from kraken_flu@ git+ssh://git@gitlab.internal.sanger.ac.uk/malariagen1/misc_utils/kraken_flu.git@90f58e2866c89056a36cce71b0c7563dbdcb3461) (1.84)\n",
      "Requirement already satisfied: sqlalchemy>=2.0 in /nfs/users/nfs_f/fs5/kraken_flu/lib/python3.11/site-packages (from kraken_flu@ git+ssh://git@gitlab.internal.sanger.ac.uk/malariagen1/misc_utils/kraken_flu.git@90f58e2866c89056a36cce71b0c7563dbdcb3461) (2.0.32)\n",
      "Requirement already satisfied: numpy in /nfs/users/nfs_f/fs5/kraken_flu/lib/python3.11/site-packages (from biopython>=1.80->kraken_flu@ git+ssh://git@gitlab.internal.sanger.ac.uk/malariagen1/misc_utils/kraken_flu.git@90f58e2866c89056a36cce71b0c7563dbdcb3461) (2.0.0)\n",
      "Requirement already satisfied: iniconfig in /nfs/users/nfs_f/fs5/kraken_flu/lib/python3.11/site-packages (from pytest>=6.2.2->kraken_flu@ git+ssh://git@gitlab.internal.sanger.ac.uk/malariagen1/misc_utils/kraken_flu.git@90f58e2866c89056a36cce71b0c7563dbdcb3461) (2.0.0)\n",
      "Requirement already satisfied: packaging in /nfs/users/nfs_f/fs5/kraken_flu/lib/python3.11/site-packages (from pytest>=6.2.2->kraken_flu@ git+ssh://git@gitlab.internal.sanger.ac.uk/malariagen1/misc_utils/kraken_flu.git@90f58e2866c89056a36cce71b0c7563dbdcb3461) (24.1)\n",
      "Requirement already satisfied: pluggy<2.0,>=1.5 in /nfs/users/nfs_f/fs5/kraken_flu/lib/python3.11/site-packages (from pytest>=6.2.2->kraken_flu@ git+ssh://git@gitlab.internal.sanger.ac.uk/malariagen1/misc_utils/kraken_flu.git@90f58e2866c89056a36cce71b0c7563dbdcb3461) (1.5.0)\n",
      "Requirement already satisfied: typing-extensions>=4.6.0 in /nfs/users/nfs_f/fs5/kraken_flu/lib/python3.11/site-packages (from sqlalchemy>=2.0->kraken_flu@ git+ssh://git@gitlab.internal.sanger.ac.uk/malariagen1/misc_utils/kraken_flu.git@90f58e2866c89056a36cce71b0c7563dbdcb3461) (4.12.2)\n",
      "Requirement already satisfied: greenlet!=0.4.17 in /nfs/users/nfs_f/fs5/kraken_flu/lib/python3.11/site-packages (from sqlalchemy>=2.0->kraken_flu@ git+ssh://git@gitlab.internal.sanger.ac.uk/malariagen1/misc_utils/kraken_flu.git@90f58e2866c89056a36cce71b0c7563dbdcb3461) (3.0.3)\n",
      "Building wheels for collected packages: kraken_flu\n",
      "  Building wheel for kraken_flu (pyproject.toml) ... \u001b[?25ldone\n",
      "\u001b[?25h  Created wheel for kraken_flu: filename=kraken_flu-2.0.1.dev28+g90f58e2-py2.py3-none-any.whl size=60532 sha256=42a2d340c9bb9194b917458eafc80d1c1c83ec5bc103a35487df2f0bd0a5daf6\n",
      "  Stored in directory: /nfs/users/nfs_f/fs5/.cache/pip/wheels/49/09/38/35286eb5f276a429682e5f198b1c333347e127a2a6754102f6\n",
      "Successfully built kraken_flu\n",
      "Installing collected packages: kraken_flu\n",
      "  Attempting uninstall: kraken_flu\n",
      "    Found existing installation: kraken_flu 2.0.1.dev26+g525e047\n",
      "    Uninstalling kraken_flu-2.0.1.dev26+g525e047:\n",
      "      Successfully uninstalled kraken_flu-2.0.1.dev26+g525e047\n",
      "Successfully installed kraken_flu-2.0.1.dev28+g90f58e2\n"
     ]
    }
   ],
   "source": [
    "pip install kraken_flu@git+ssh://git@gitlab.internal.sanger.ac.uk/malariagen1/misc_utils/kraken_flu.git@$COMMIT_SHA"
   ]
  },
  {
   "cell_type": "code",
   "execution_count": 51,
   "id": "afe155b5-d35d-4269-9825-382f5624dee4",
   "metadata": {},
   "outputs": [
    {
     "name": "stdout",
     "output_type": "stream",
     "text": [
      "kraken_flu 2.0.1.dev28+g90f58e2\n"
     ]
    }
   ],
   "source": [
    "kraken_flu -v"
   ]
  },
  {
   "cell_type": "markdown",
   "id": "985571e7-b1a8-49b2-9abd-69217281e83d",
   "metadata": {},
   "source": [
    "## Download data\n",
    "Get viral taxonomy and sequence data from NCBI"
   ]
  },
  {
   "cell_type": "code",
   "execution_count": 2,
   "id": "4d9f7dd6-071b-4f0a-aa39-8005ed327300",
   "metadata": {
    "scrolled": true
   },
   "outputs": [
    {
     "name": "stdout",
     "output_type": "stream",
     "text": [
      "\tModule loaded. For more information run 'module help kraken2/2.1.2'.\n",
      "\t- By default, kraken2 will search for named databases in /data/pam/software/kraken2 and the current working directory. The full path to\n",
      "\tany database can also be used.\n",
      "\t- `kraken2-build` commands will sometimes experience an error suggesting that it is not possible to download a library using rsync. While the option --use-ftp\n",
      "\tmay fix this, rsync tends to be faster and more reliable. Try re-running the `kraken2-build` command until the download is successful. Note that `kraken2-build`\n",
      "\twill produce checkpoints during the installation process and will restart at the last successful step.\n",
      "\t- If `kraken2-build build` freezes or hangs indefinitely, using the `--fast-build` option may help. An earlier version of the software (if available) may also\n",
      "\tallow the build step to proceed successfully.\n"
     ]
    }
   ],
   "source": [
    "module load kraken2/2.1.2"
   ]
  },
  {
   "cell_type": "markdown",
   "id": "0f58133b-a273-481d-8ece-42e0bf5c297c",
   "metadata": {},
   "source": [
    "### Taxonomy data\n",
    "Use the kraken2 build tool to download taxonomy files from [NCBI](https://ftp.ncbi.nlm.nih.gov/pub/taxonomy/)."
   ]
  },
  {
   "cell_type": "markdown",
   "id": "758e9cd0-150f-42dc-8643-0d62317ea086",
   "metadata": {
    "tags": []
   },
   "source": [
    "___This only needs to be once, hence commented out here. Uncomment to re-run___"
   ]
  },
  {
   "cell_type": "code",
   "execution_count": 11,
   "id": "1c0be4a9-7b96-45a7-a8c6-8baeb237386b",
   "metadata": {},
   "outputs": [],
   "source": [
    "# kraken2-build --download-taxonomy --db ${TAX_PATH}"
   ]
  },
  {
   "cell_type": "code",
   "execution_count": 17,
   "id": "03a96115-71d8-435d-a78f-c81c0d9b265f",
   "metadata": {},
   "outputs": [
    {
     "name": "stdout",
     "output_type": "stream",
     "text": [
      "/lustre/scratch126/gsu/team112/personal/fs5/rvi_dev/krakenDBs/kraken_flu//downloads/taxonomy_download/\n",
      "└── taxonomy\n",
      "    ├── accmap.dlflag\n",
      "    ├── citations.dmp\n",
      "    ├── delnodes.dmp\n",
      "    ├── division.dmp\n",
      "    ├── gc.prt\n",
      "    ├── gencode.dmp\n",
      "    ├── images.dmp\n",
      "    ├── merged.dmp\n",
      "    ├── names.dmp\n",
      "    ├── nodes.dmp\n",
      "    ├── nucl_gb.accession2taxid\n",
      "    ├── nucl_wgs.accession2taxid\n",
      "    ├── readme.txt\n",
      "    ├── taxdump.dlflag\n",
      "    ├── taxdump.tar.gz\n",
      "    └── taxdump.untarflag\n",
      "\n",
      "1 directory, 16 files\n"
     ]
    }
   ],
   "source": [
    "tree ${TAX_PATH}"
   ]
  },
  {
   "cell_type": "markdown",
   "id": "d58b11f4-9ffd-453a-82ed-9a0f76f2166e",
   "metadata": {},
   "source": [
    "### Sequence data\n",
    "Directly download from NCBI RefSeq release FTP website (file from 15/01/24"
   ]
  },
  {
   "cell_type": "markdown",
   "id": "c4989ee4-4cba-42e4-8998-d98161548926",
   "metadata": {},
   "source": [
    "NCBI viral RefSeq (directly from NCBI now, not using the kraken2 pre-built)"
   ]
  },
  {
   "cell_type": "markdown",
   "id": "39a4cf88-e23c-4dc6-abce-8494de6c30f5",
   "metadata": {},
   "source": [
    "___This step is not required to run every time and it takes a long time, hence commented out___"
   ]
  },
  {
   "cell_type": "code",
   "execution_count": 18,
   "id": "add2e63d-c65f-46f2-b929-91b8b85655b9",
   "metadata": {},
   "outputs": [],
   "source": [
    "cd ${LIB_PATH}\n",
    "#wget https://ftp.ncbi.nlm.nih.gov/refseq/release/viral/viral.1.1.genomic.fna.gz\n",
    "#gunzip viral.1.1.genomic.fna.gz"
   ]
  },
  {
   "cell_type": "markdown",
   "id": "e84c621e-996f-4552-ba36-9bbb096d529a",
   "metadata": {},
   "source": [
    "NCBI Infuenza FTP  \n",
    "___NOTE___ that the resource is no longer kept updated (since Oct 2020) so this is used as a starting point but we still need to add later influenza genomes using the new NCBI API for\n",
    "\n",
    "https://www.ncbi.nlm.nih.gov/labs/virus/vssi/#/\n",
    "\n",
    "Here is a post showing how to programmatically interact with the new NCBI Virus site to obtain sequences:  \n",
    "https://www.biostars.org/p/9562294/   "
   ]
  },
  {
   "cell_type": "markdown",
   "id": "6869acff-83be-4e11-a3d4-f26277920766",
   "metadata": {},
   "source": [
    "___This step is not required to run every time and it takes a long time, hence commented out___"
   ]
  },
  {
   "cell_type": "code",
   "execution_count": 14,
   "id": "0c1f4db6-2050-4967-a229-6a3415f28a67",
   "metadata": {},
   "outputs": [],
   "source": [
    "cd ${LIB_PATH}\n",
    "# wget https://ftp.ncbi.nih.gov/genomes/INFLUENZA/influenza.fna"
   ]
  },
  {
   "cell_type": "code",
   "execution_count": 20,
   "id": "849133fb-df97-4f35-8e8a-445e061766ce",
   "metadata": {},
   "outputs": [
    {
     "name": "stdout",
     "output_type": "stream",
     "text": [
      "/lustre/scratch126/gsu/team112/personal/fs5/rvi_dev/krakenDBs/kraken_flu//downloads/sequence_download/refseq_ncbiFlu_kfv2/\n",
      "├── influenza.fna\n",
      "├── sequences_RSV_A.fasta\n",
      "├── sequences_RSV_B.fasta\n",
      "└── viral.1.1.genomic.fna\n",
      "\n",
      "0 directories, 4 files\n"
     ]
    }
   ],
   "source": [
    "tree ${LIB_PATH}"
   ]
  },
  {
   "cell_type": "markdown",
   "id": "26618bf0-a184-4165-a693-388383342d27",
   "metadata": {},
   "source": [
    "___RSV sequences___ were downloaded from https://nextstrain.org/rsv/a/genome/6y?d=tree,entropy&p=full"
   ]
  },
  {
   "cell_type": "markdown",
   "id": "803c1e7d-9a9b-422f-83ce-38124e201d53",
   "metadata": {},
   "source": [
    "## Run the kraken-flu tool\n",
    "The tool creates a new directory of taxonomy and sequence files.  \n",
    "\n",
    "Using an exception to the \"complete flu genomes\" filter for the avian flu reference because we want this one in the DB but it does not have all 8 segments in RefSeq.\n",
    "\n",
    "___NOTE___ The current implementation of the kraken-flu tool reads sequence and taxonomy files into RAM and therefore needs a significant amount of RAM. The process got killed on a 5GB node but work fine on 10GB.\n"
   ]
  },
  {
   "cell_type": "code",
   "execution_count": 53,
   "id": "61859120-34ce-4342-8aec-03fb9c9cbecc",
   "metadata": {},
   "outputs": [
    {
     "name": "stdout",
     "output_type": "stream",
     "text": [
      "rm: cannot remove '/lustre/scratch126/gsu/team112/personal/fs5/rvi_dev/krakenDBs/kraken_flu//db_prep/refseq_ncbiFlu_kfv2_102124//kfdb.sqlite': No such file or directory\n"
     ]
    }
   ],
   "source": [
    "rm ${DB_PREP_DIR}/kfdb.sqlite\n",
    "~/kraken_flu/bin/kraken_flu \\\n",
    "    --taxonomy_path  ${TAX_PATH}/taxonomy \\\n",
    "    --fasta_path ${LIB_PATH}/influenza.fna ${LIB_PATH}/viral.1.1.genomic.fna \\\n",
    "    --out_dir ${DB_PREP_DIR} \\\n",
    "    --db_file ${DB_PREP_DIR}/kfdb.sqlite \\\n",
    "    --keep_db_file \\\n",
    "    --filter_flu \\\n",
    "    --filter_except \"A/Goose/Guangdong/1/96(H5N1)\" \\\n",
    "    --do_full_linkage \\\n",
    "    --rsv_a_sequences ${LIB_PATH}/sequences_RSV_A.fasta \\\n",
    "    --rsv_b_sequences ${LIB_PATH}/sequences_RSV_B.fasta \\\n",
    "    --rsv_size_filter \\\n",
    "    > ${DB_PREP_DIR}/log 2>&1"
   ]
  },
  {
   "cell_type": "code",
   "execution_count": 3,
   "id": "36b7f9a0-43d1-4100-a47f-c23c4666f5cf",
   "metadata": {},
   "outputs": [
    {
     "name": "stdout",
     "output_type": "stream",
     "text": [
      "/lustre/scratch126/gsu/team112/personal/fs5/rvi_dev/krakenDBs/kraken_flu//db_prep/refseq_ncbiFlu_kfv2_102124/\n",
      "├── kfdb.sqlite\n",
      "├── library\n",
      "│   └── library.fna\n",
      "├── log\n",
      "└── taxonomy\n",
      "    ├── names.dmp\n",
      "    └── nodes.dmp\n",
      "\n",
      "2 directories, 5 files\n"
     ]
    }
   ],
   "source": [
    "tree ${DB_PREP_DIR}"
   ]
  },
  {
   "cell_type": "markdown",
   "id": "d2f2b85c-69a6-40e2-a77c-78ee9303232c",
   "metadata": {},
   "source": [
    "## Prepare new kraken2 DB directory\n",
    "Create the direcotry and copy the kraken-flu results into it, then use the kraken-build tool to add the library to the new DB"
   ]
  },
  {
   "cell_type": "code",
   "execution_count": 4,
   "id": "447c13a1-a05d-4f64-bbb6-b8c03b589038",
   "metadata": {},
   "outputs": [],
   "source": [
    "rm -rf ${DB_PATH}\n",
    "mkdir -p ${DB_PATH}"
   ]
  },
  {
   "cell_type": "markdown",
   "id": "9a059b5a-8a55-4c0c-bb0a-77b6a21abfda",
   "metadata": {},
   "source": [
    "Copy the taxonomy created by kraken-flu in the new dir"
   ]
  },
  {
   "cell_type": "code",
   "execution_count": 5,
   "id": "59cbbf5d-a480-4306-aa17-95e827fa0d31",
   "metadata": {},
   "outputs": [],
   "source": [
    "cp -r ${DB_PREP_DIR}/taxonomy ${DB_PATH}"
   ]
  },
  {
   "cell_type": "markdown",
   "id": "b0e80718-4799-4330-be87-9694e95e6621",
   "metadata": {},
   "source": [
    "also need the large NCBIU accession to tax ID file here for kraken-build"
   ]
  },
  {
   "cell_type": "code",
   "execution_count": 6,
   "id": "8e22aff8-99a0-4a43-acb9-aa40a4ed3a89",
   "metadata": {},
   "outputs": [],
   "source": [
    "ln -s ${TAX_PATH}/taxonomy/nucl_gb.accession2taxid ${DB_PATH}/taxonomy"
   ]
  },
  {
   "cell_type": "code",
   "execution_count": 7,
   "id": "8352b78b-aa87-4f1b-9748-4b7d9c4f725e",
   "metadata": {},
   "outputs": [
    {
     "name": "stdout",
     "output_type": "stream",
     "text": [
      "/lustre/scratch126/gsu/team112/personal/fs5/rvi_dev/krakenDBs/kraken_flu//databases/refseq_ncbiFlu_kfv2_102124\n",
      "└── taxonomy\n",
      "    ├── names.dmp\n",
      "    ├── nodes.dmp\n",
      "    └── nucl_gb.accession2taxid -> /lustre/scratch126/gsu/team112/personal/fs5/rvi_dev/krakenDBs/kraken_flu//downloads/taxonomy_download//taxonomy/nucl_gb.accession2taxid\n",
      "\n",
      "1 directory, 3 files\n"
     ]
    }
   ],
   "source": [
    "tree ${DB_PATH}"
   ]
  },
  {
   "cell_type": "markdown",
   "id": "d68d4fee-6438-4241-873b-e8c019968378",
   "metadata": {},
   "source": [
    "use kraken-tool to add the library file to the new DB"
   ]
  },
  {
   "cell_type": "code",
   "execution_count": 8,
   "id": "37567f1b-c307-4408-af02-fcf8eba05be0",
   "metadata": {},
   "outputs": [],
   "source": [
    "mkdir ${DB_PATH}/library"
   ]
  },
  {
   "cell_type": "markdown",
   "id": "aded553e-c26f-4662-9630-4537ec2aa318",
   "metadata": {},
   "source": [
    "Run the new library through kraken2-build \"add to library\" process.\n",
    "This is still required because this is the step that does the masking, which is important for the \"build\" step of kraken2-build (next)"
   ]
  },
  {
   "cell_type": "code",
   "execution_count": 9,
   "id": "ba8776ec-25b1-48dc-b0a7-086761953972",
   "metadata": {},
   "outputs": [
    {
     "name": "stdout",
     "output_type": "stream",
     "text": [
      "Masking low-complexity regions of new file... done.\n",
      "Added \"/lustre/scratch126/gsu/team112/personal/fs5/rvi_dev/krakenDBs/kraken_flu//db_prep/refseq_ncbiFlu_kfv2_102124//library/library.fna\" to library (/lustre/scratch126/gsu/team112/personal/fs5/rvi_dev/krakenDBs/kraken_flu//databases/refseq_ncbiFlu_kfv2_102124)\n"
     ]
    }
   ],
   "source": [
    "kraken2-build \\\n",
    "    --add-to-library ${DB_PREP_DIR}/library/library.fna \\\n",
    "    --db ${DB_PATH}"
   ]
  },
  {
   "cell_type": "markdown",
   "id": "07cb57ea-ff3d-4925-bf00-dd6c13a4b5ab",
   "metadata": {},
   "source": [
    "## Create the kraken2 DB"
   ]
  },
  {
   "cell_type": "code",
   "execution_count": 10,
   "id": "abc20249-9379-4500-af15-7e106a1f909c",
   "metadata": {},
   "outputs": [
    {
     "name": "stdout",
     "output_type": "stream",
     "text": [
      "Creating sequence ID to taxonomy ID map (step 1)...\n",
      "Found 0/4 targets, searched through 327566049 accession IDs, search complete.\n",
      "lookup_accession_numbers: 4/4 accession numbers remain unmapped, see unmapped.txt in DB directory\n",
      "Sequence ID to taxonomy ID map complete. [25.820s]\n",
      "Estimating required capacity (step 2)...\n",
      "Estimated hash table requirement: 669314192 bytes\n",
      "Capacity estimation complete. [34.361s]\n",
      "Building database files (step 3)...\n",
      "Taxonomy parsed and converted.\n",
      "CHT created with 19 bits reserved for taxid.\n",
      "Completed processing of 440158 sequences, 1255827612 bp\n",
      "Writing data to disk...  complete.\n",
      "Database files completed. [4m11.163s]\n",
      "Database construction complete. [Total: 5m11.452s]\n"
     ]
    }
   ],
   "source": [
    "kraken2-build \\\n",
    "    --build \\\n",
    "    --db ${DB_PATH}"
   ]
  },
  {
   "cell_type": "code",
   "execution_count": 11,
   "id": "8774fd81-07f8-4f76-b4de-381492e98601",
   "metadata": {},
   "outputs": [
    {
     "name": "stdout",
     "output_type": "stream",
     "text": [
      "/lustre/scratch126/gsu/team112/personal/fs5/rvi_dev/krakenDBs/kraken_flu//databases/refseq_ncbiFlu_kfv2_102124\n"
     ]
    }
   ],
   "source": [
    "echo ${DB_PATH}"
   ]
  },
  {
   "cell_type": "markdown",
   "id": "c0007f0f-9133-4a77-941e-74f04c8ef355",
   "metadata": {},
   "source": [
    "## Test with simulated data\n",
    "Run with a set of simulated reads for all the current viruses of interest.\n"
   ]
  },
  {
   "cell_type": "code",
   "execution_count": 12,
   "id": "8f37667f-adf8-49ae-b446-8813666e748f",
   "metadata": {},
   "outputs": [],
   "source": [
    "export TEST_BASE_DIR=/lustre/scratch126/gsu/team112/personal/fs5/rvi_dev/krakenDBs/kraken_flu_test_kfv2_102124"
   ]
  },
  {
   "cell_type": "code",
   "execution_count": 13,
   "id": "e50475af-585b-4530-a7fc-594b4483563a",
   "metadata": {},
   "outputs": [],
   "source": [
    "mkdir -p ${TEST_BASE_DIR}"
   ]
  },
  {
   "cell_type": "code",
   "execution_count": 14,
   "id": "6581a8e2-9356-46be-96d7-ecd5f5c12e2a",
   "metadata": {
    "tags": []
   },
   "outputs": [
    {
     "name": "stdout",
     "output_type": "stream",
     "text": [
      "/lustre/scratch126/gsu/team112/personal/fs5/rvi_dev/krakenDBs/kraken_flu_test_kfv2_102124\n"
     ]
    }
   ],
   "source": [
    "echo ${TEST_BASE_DIR}"
   ]
  },
  {
   "cell_type": "code",
   "execution_count": 15,
   "id": "0db6cc5d-8575-4bd0-8830-61d1df5aaf47",
   "metadata": {},
   "outputs": [
    {
     "name": "stdout",
     "output_type": "stream",
     "text": [
      "Loading database information... done.\n",
      "6620 sequences (1.99 Mbp) processed in 0.428s (928.4 Kseq/m, 278.52 Mbp/m).\n",
      "  4653 sequences classified (70.29%)\n",
      "  1967 sequences unclassified (29.71%)\n"
     ]
    }
   ],
   "source": [
    "kraken2 \\\n",
    "    --db ${DB_PATH} \\\n",
    "    --output ${TEST_BASE_DIR}/output.kraken \\\n",
    "    --paired \\\n",
    "    --classified-out ${TEST_BASE_DIR}/class_seqs#.fq \\\n",
    "    --unclassified-out ${TEST_BASE_DIR}/unclass_seqs#.fq \\\n",
    "    --report ${TEST_BASE_DIR}/report.txt \\\n",
    "/lustre/scratch126/gsu/team112/personal/fs5/rvi_dev/sim_reads/art/mix/mix_of_all_01-1.fq \\\n",
    "/lustre/scratch126/gsu/team112/personal/fs5/rvi_dev/sim_reads/art/mix/mix_of_all_01-2.fq"
   ]
  },
  {
   "cell_type": "code",
   "execution_count": 16,
   "id": "37bb54f1-caa2-4bf0-b246-206c67ac0bab",
   "metadata": {},
   "outputs": [
    {
     "name": "stdout",
     "output_type": "stream",
     "text": [
      " 29.71\t1967\t1967\tU\t0\tunclassified\n",
      " 70.29\t4653\t0\tR\t1\troot\n",
      " 70.29\t4653\t0\tD\t10239\t  Viruses\n",
      " 69.92\t4629\t0\tD1\t2559587\t    Riboviria\n",
      " 69.92\t4629\t0\tK\t2732396\t      Orthornavirae\n",
      " 39.83\t2637\t0\tP\t2497569\t        Negarnaviricota\n",
      " 39.43\t2610\t0\tP1\t2497571\t          Polyploviricotina\n",
      " 39.43\t2610\t0\tC\t2497577\t            Insthoviricetes\n",
      " 39.43\t2610\t0\tO\t2499411\t              Articulavirales\n",
      " 39.43\t2610\t0\tF\t11308\t                Orthomyxoviridae\n",
      " 25.53\t1690\t0\tG\t197911\t                  Alphainfluenzavirus\n",
      " 25.53\t1690\t0\tS\t2955291\t                    Alphainfluenzavirus influenzae\n",
      " 25.53\t1690\t36\tS1\t11320\t                      Influenza A virus\n",
      "  4.53\t300\t268\tS2\t3121628\t                        Influenza A segment 2\n",
      "  0.02\t1\t1\tS3\t3420097\t                          A/Pink-eared Duck/Victoria/PD001/2017(H3N1) segment 2\n",
      "  0.02\t1\t1\tS3\t3228002\t                          A/India/Nag132467/2013(H1N1) segment 2\n",
      "  0.02\t1\t1\tS3\t3127340\t                          A/red knot/NJ/325/1989(H7N7) segment 2\n",
      "  0.02\t1\t1\tS3\t3123512\t                          A/New York/184/1999(H3N2) segment 2\n",
      "  0.02\t1\t1\tS3\t3193425\t                          A/Jiangsu/S62/2009(H1N1) segment 2\n",
      "  0.02\t1\t1\tS3\t3197747\t                          A/India/GWL_DSC/2010(H1N1) segment 2\n",
      "  0.02\t1\t1\tS3\t3386183\t                          A/red-gartered coot/Chile/C16030/2016(H3N4) segment 2\n",
      "  0.02\t1\t1\tS3\t3373499\t                          A/Colorado/06/2018(H1N1) segment 2\n",
      "  0.02\t1\t1\tS3\t3168747\t                          A/swine/Iowa/H02AS8/2002(H3N2) segment 2\n",
      "  0.02\t1\t1\tS3\t3239891\t                          A/swine/Guangdong/NS2801/2010(H1N1) segment 2\n",
      "  0.02\t1\t1\tS3\t3393269\t                          A/Taiwan/00582/2011(H1N1) segment 2\n",
      "  0.02\t1\t1\tS3\t3350616\t                          A/swine/Rancagua/VN1401-1459/2015(H1N1) segment 2\n",
      "  0.02\t1\t1\tS3\t3201416\t                          A/South Carolina/WRAIR1645P/2009(H1N1) segment 2\n",
      "  0.02\t1\t1\tS3\t3490225\t                          A/swine/Denmark/V81/2017(H1N2) segment 2\n",
      "  0.02\t1\t1\tS3\t3294678\t                          A/Idaho/42/2015(H1N1) segment 2\n",
      "  0.02\t1\t1\tS3\t3235911\t                          A/swine/Kansas/12-117893/2012(H1N2) segment 2\n",
      "  0.02\t1\t1\tS3\t3242034\t                          A/swine/Hong Kong/NS3815/2010(H1N1) segment 2\n",
      "  0.02\t1\t1\tS3\t3321452\t                          A/New York/79/2016(H1N1) segment 2\n",
      "  0.02\t1\t1\tS3\t3262202\t                          A/swine/Minnesota/A01076180/2009(H1N1) segment 2\n",
      "  0.02\t1\t1\tS3\t3459125\t                          A/Ohio/8316/2019(H3N2) segment 2\n",
      "  0.02\t1\t1\tS3\t3201234\t                          A/Ngp/NIV14725/2009(H1N1) segment 2\n",
      "  0.02\t1\t1\tS3\t3229837\t                          A/swine/Henan/1/2010(H3N2) segment 2\n",
      "  0.02\t1\t1\tS3\t3128408\t                          A/Canterbury/16/2004(H3N2) segment 2\n",
      "  0.02\t1\t1\tS3\t3129663\t                          A/Canterbury/270/2005(H3N2) segment 2\n",
      "  0.02\t1\t1\tS3\t3179608\t                          A/Blagovechensk/01/2009(H1N1) segment 2\n",
      "  0.02\t1\t1\tS3\t3177540\t                          A/Wisconsin/629-D00938/2009(H1N1) segment 2\n",
      "  0.02\t1\t1\tS3\t3161898\t                          A/Sakai/2/2009(H1N1) segment 2\n",
      "  0.02\t1\t1\tS3\t3267218\t                          A/Delaware/09/2015(H3N2) segment 2\n",
      "  0.02\t1\t1\tS3\t3436930\t                          A/swine/Manitoba/D0479/2017(H1N2) segment 2\n",
      "  0.02\t1\t1\tS3\t3261541\t                          A/swine/England/61470/2013(H1N2) segment 2\n",
      "  0.02\t1\t1\tS3\t3475599\t                          A/swine/Nebraska/A01378044/2019(H1N2) segment 2\n",
      "  0.02\t1\t1\tS3\t3259846\t                          A/goose/Shandong/k1204/2009(H5N5) segment 2\n",
      "  4.53\t300\t281\tS2\t3121627\t                        Influenza A segment 1\n",
      "  0.03\t2\t2\tS3\t3348051\t                          A/Santa Cruz do Sul/LACENRS-913/2011(H3N2) segment 1\n",
      "  0.02\t1\t1\tS3\t3161704\t                          A/swine/Hong Kong/78/2003(H1N2) segment 1\n",
      "  0.02\t1\t1\tS3\t3503706\t                          A/Victoria/691/2017(H3N2) segment 1\n",
      "  0.02\t1\t1\tS3\t3202150\t                          A/swine/Holguin/121/2010(H1N1) segment 1\n",
      "  0.02\t1\t1\tS3\t3128759\t                          A/Canterbury/109/2004(H3N2) segment 1\n",
      "  0.02\t1\t1\tS3\t3341620\t                          A/swine/North Carolina/A01945748/2015(H1N2) segment 1\n",
      "  0.02\t1\t1\tS3\t3537084\t                          A/Louisiana/12/2020(H1N1) segment 1\n",
      "  0.02\t1\t1\tS3\t3196323\t                          A/District of Columbia/INS23/2009(H1N1) segment 1\n",
      "  0.02\t1\t1\tS3\t3259194\t                          A/California/17/2014(H3N2) segment 1\n",
      "  0.02\t1\t1\tS3\t3271493\t                          A/Virginia/37/2014(H3N2) segment 1\n",
      "  0.02\t1\t1\tS3\t3492700\t                          A/duck/Vietnam/HU9-211/2018(H6N6) segment 1\n",
      "  0.02\t1\t1\tS3\t3242397\t                          A/Bangkok/SIMI503/2010(H1N1) segment 1\n",
      "  0.02\t1\t1\tS3\t3476671\t                          A/Vladimir/87/2019(H3N2) segment 1\n",
      "  0.02\t1\t1\tS3\t3219378\t                          A/swine/Illinois/A01202615/2011(H1N1) segment 1\n",
      "  0.02\t1\t1\tS3\t3126606\t                          A/New York/518/1998(H3N2) segment 1\n",
      "  0.02\t1\t1\tS3\t3195952\t                          A/India/GWL_DSC/2010(H1N1) segment 1\n",
      "  0.02\t1\t1\tS3\t3169700\t                          A/Wisconsin/629-D01903/2009(H1N1) segment 1\n",
      "  0.02\t1\t1\tS3\t3180281\t                          A/Wisconsin/629-D02442/2009(H1N1) segment 1\n",
      "  4.23\t280\t260\tS2\t3121629\t                        Influenza A segment 3\n",
      "  0.02\t1\t1\tS3\t3131685\t                          A/Memphis/8/1988(H3N2) segment 3\n",
      "  0.02\t1\t1\tS3\t3193423\t                          A/Jiangsu/S62/2009(H1N1) segment 3\n",
      "  0.02\t1\t1\tS3\t3395239\t                          A/New York/35/2018(H1N1) segment 3\n",
      "  0.02\t1\t1\tS3\t3126532\t                          A/New York/303/2001(H1N1) segment 3\n",
      "  0.02\t1\t1\tS3\t3474523\t                          A/Delaware/23/2019(H1N1) segment 3\n",
      "  0.02\t1\t1\tS3\t3422854\t                          A/swine/Manitoba/DM_18/2017(H3N2) segment 3\n",
      "  0.02\t1\t1\tS3\t3238189\t                          A/swine/Guangxi/1/2013(H1N1) segment 3\n",
      "  0.02\t1\t1\tS3\t3450607\t                          A/Florida/07/2019(H1N1) segment 3\n",
      "  0.02\t1\t1\tS3\t3279569\t                          A/Florida/30/2012(H3N2) segment 3\n",
      "  0.02\t1\t1\tS3\t3322509\t                          A/Hawaii/61/2016(H3N2) segment 3\n",
      "  0.02\t1\t1\tS3\t3500032\t                          A/Perth/341/2017(H3N2) segment 3\n",
      "  0.02\t1\t1\tS3\t3450315\t                          A/swine/Iowa/A02256794/2018(H1N1) segment 3\n",
      "  0.02\t1\t1\tS3\t3503680\t                          A/Victoria/688/2017(H3N2) segment 3\n",
      "  0.02\t1\t1\tS3\t3225262\t                          A/swine/Minnesota/A01279213/2012(H1N1) segment 3\n",
      "  0.02\t1\t1\tS3\t3310966\t                          A/turkey/Poland/14/2013(H9N2) segment 3\n",
      "  0.02\t1\t1\tS3\t3275130\t                          A/North Carolina/29/2015(H3N2) segment 3\n",
      "  0.02\t1\t1\tS3\t3365865\t                          A/swine/North Carolina/A02219753/2017(H3N2) segment 3\n",
      "  0.02\t1\t1\tS3\t3424687\t                          A/swine/Steinfeld/21926/2015(H1N2) segment 3\n",
      "  0.02\t1\t1\tS3\t3243893\t                          A/Singapore/H2013.384/2013(H3N2) segment 3\n",
      "  0.02\t1\t1\tS3\t3221425\t                          A/Wisconsin/53/2009(H1N1) segment 3\n",
      "  2.87\t190\t185\tS2\t3121649\t                        Influenza A segment 5\n",
      "  0.02\t1\t1\tS3\t3239084\t                          A/Sri Lanka/11/2012(H1N1) segment 5\n",
      "  0.02\t1\t1\tS3\t3221944\t                          A/swine/Thailand/CB228/2010(H1N1) segment 5\n",
      "  0.02\t1\t1\tS3\t3394739\t                          A/swine/Palmilla/VN1401-P7SI/2016(H1N1) segment 5\n",
      "  0.02\t1\t1\tS3\t3204112\t                          A/Zhejiang/3/2009(H1N1) segment 5\n",
      "  0.02\t1\t1\tS3\t3349764\t                          A/swine/Minnesota/A01781222/2016(H3N2) segment 5\n",
      "  2.78\t184\t0\tS2\t3121630\t                        Influenza A segment 4\n",
      "  1.45\t96\t87\tS3\t3121633\t                          Influenza A H3 segment 4\n",
      "  0.02\t1\t1\tS4\t3251423\t                            A/swine/Tochigi/14/2013(H3N2) segment 4\n",
      "  0.02\t1\t1\tS4\t3298877\t                            A/swine/Alberta/G9/2014(H3N2) segment 4\n",
      "  0.02\t1\t1\tS4\t3290702\t                            A/swine/Mexico/AVX13/2012(H3N2) segment 4\n",
      "  0.02\t1\t1\tS4\t3195649\t                            A/swine/QC/1840-2/2009(H3N2) segment 4\n",
      "  0.02\t1\t1\tS4\t3400856\t                            A/Oklahoma/11/2018(H3N2) segment 4\n",
      "  0.02\t1\t1\tS4\t3439786\t                            A/swine/Indiana/17TOSU2865/2017(H3N2) segment 4\n",
      "  0.02\t1\t1\tS4\t3133394\t                            A/New York/714/1994(H3N2) segment 4\n",
      "  0.02\t1\t1\tS4\t3375980\t                            A/Missouri/02/2018(H3N2) segment 4\n",
      "  0.02\t1\t1\tS4\t3133202\t                            A/Waikato/139/2003(H3N2) segment 4\n",
      "  1.33\t88\t74\tS3\t3121631\t                          Influenza A H1 segment 4\n",
      "  0.02\t1\t1\tS4\t3356775\t                            A/Mexico/4431/2016(H1N1) segment 4\n",
      "  0.02\t1\t1\tS4\t3228523\t                            A/Qingdao/F404/2011(H1N1) segment 4\n",
      "  0.02\t1\t1\tS4\t3187560\t                            A/Odense/INS307/2009(H1N1) segment 4\n",
      "  0.02\t1\t1\tS4\t3196807\t                            A/swine/Indiana/240218/2010(H1N2) segment 4\n",
      "  0.02\t1\t1\tS4\t3177295\t                            A/Wisconsin/629-D00459/2009(H1N1) segment 4\n",
      "  0.02\t1\t1\tS4\t3204095\t                            A/Zhejiang/X1/2009(H1N1) segment 4\n",
      "  0.02\t1\t1\tS4\t3193504\t                            A/swine/Jangsu/38/2010(H1N1) segment 4\n",
      "  0.02\t1\t1\tS4\t3424320\t                            A/swine/Melle/19313/2013(H1N2) segment 4\n",
      "  0.02\t1\t1\tS4\t3220654\t                            A/Colorado/02/2010(H1N1) segment 4\n",
      "  0.02\t1\t1\tS4\t3450722\t                            A/Maine/06/2019(H1N1) segment 4\n",
      "  0.02\t1\t1\tS4\t3208171\t                            A/swine/Shandong/327/2010(H1N1) segment 4\n",
      "  0.02\t1\t1\tS4\t3424008\t                            A/swine/Lehe/16786/2012(H1N2) segment 4\n",
      "  0.02\t1\t1\tS4\t3241524\t                            A/swine/Hong Kong/NS26/2012(H1N2) segment 4\n",
      "  0.02\t1\t1\tS4\t3390825\t                            A/Wisconsin/87/2018(H1N1) segment 4\n",
      "  2.72\t180\t1\tS2\t3121650\t                        Influenza A segment 6\n",
      "  1.36\t90\t82\tS3\t3121652\t                          Influenza A N2 segment 6\n",
      "  0.02\t1\t1\tS4\t3216954\t                            A/swine/Spain/13/2010(H3N2) segment 6\n",
      "  0.02\t1\t1\tS4\t3355740\t                            A/swine/Minnesota/A02216466/2017(H3N2) segment 6\n",
      "  0.02\t1\t1\tS4\t3163516\t                            A/Hong Kong/HKU72/2005(H3N2) segment 6\n",
      "  0.02\t1\t1\tS4\t3129371\t                            A/New York/540/1998(H3N2) segment 6\n",
      "  0.02\t1\t1\tS4\t3395378\t                            A/Maine/30/2018(H3N2) segment 6\n",
      "  0.02\t1\t1\tS4\t3133656\t                            A/mallard/Ohio/97/1989(H4N2) segment 6\n",
      "  0.02\t1\t1\tS4\t3449515\t                            A/China/38887/2012(H3N2) segment 6\n",
      "  0.02\t1\t1\tS4\t3243198\t                            A/swine/Guangxi/JGB4/2013(H3N2) segment 6\n",
      "  1.34\t89\t79\tS3\t3121651\t                          Influenza A N1 segment 6\n",
      "  0.02\t1\t1\tS4\t3431673\t                            A/swine/Klein Wanzleben/17303/2013(H1N1) segment 6\n",
      "  0.02\t1\t1\tS4\t3292416\t                            A/California/04-224-MA/2009(H1N1) segment 6\n",
      "  0.02\t1\t1\tS4\t3261256\t                            A/swine/England/041313/2013(H1N1) segment 6\n",
      "  0.02\t1\t1\tS4\t3213985\t                            A/Singapore/GP413/2010(H1N1) segment 6\n",
      "  0.02\t1\t1\tS4\t3341111\t                            A/swine/France/35-160126/2016(H1N1) segment 6\n",
      "  0.02\t1\t1\tS4\t3149625\t                            A/duck/Hunan/1386/2003(H5N1) segment 6\n",
      "  0.02\t1\t1\tS4\t3199934\t                            A/Tula/CRIE-SIA/2011(H1N1) segment 6\n",
      "  0.02\t1\t1\tS4\t3264362\t                            A/Singapore/DMS1154/2010(H1N1) segment 6\n",
      "  0.02\t1\t1\tS4\t3536713\t                            A/Arkansas/14/2020(H1N1) segment 6\n",
      "  0.02\t1\t1\tS4\t3189296\t                            A/Canada-NFL/RV2509/2009(H1N1) segment 6\n",
      "  1.81\t120\t106\tS2\t3121662\t                        Influenza A segment 7\n",
      "  0.02\t1\t1\tS3\t3229588\t                          A/swine/Missouri/A01432837/2013(H1N2) segment 7\n",
      "  0.02\t1\t1\tS3\t3211352\t                          A/swine/Guangdong/L21/2011(H3N2) segment 7\n",
      "  0.02\t1\t1\tS3\t3261369\t                          A/swine/Poland/16315/2011(H1N1) segment 7\n",
      "  0.02\t1\t1\tS3\t3248600\t                          A/pigeon/Yunnan/1045/2013(H9N2) segment 7\n",
      "  0.02\t1\t1\tS3\t3239070\t                          A/Sri Lanka/19/2012(H1N1) segment 7\n",
      "  0.02\t1\t1\tS3\t3192392\t                          A/mallard/Washington/44338-195/2007(H12N5) segment 7\n",
      "  0.02\t1\t1\tS3\t3246538\t                          A/Quebec/26-281106/2006(H3N2) segment 7\n",
      "  0.02\t1\t1\tS3\t3167835\t                          A/chicken/West Bengal/106181/2008(H5N1) segment 7\n",
      "  0.02\t1\t1\tS3\t3290470\t                          A/swine/Mexico/AVX42/2012(H1N1) segment 7\n",
      "  0.02\t1\t1\tS3\t3287470\t                          A/Florida/81/2015(H3N2) segment 7\n",
      "  0.02\t1\t1\tS3\t3234674\t                          A/chicken/Guangxi/S4029/2010(H6N6) segment 7\n",
      "  0.02\t1\t1\tS3\t3259955\t                          A/India/Pun151245/2015(H1N1) segment 7\n",
      "  0.02\t1\t1\tS3\t3172751\t                          A/duck/France/06436/2006(H5N3) segment 7\n",
      "  0.02\t1\t1\tS3\t3157554\t                          A/Hong Kong/HKU22/2004(H3N2) segment 7\n",
      "  1.51\t100\t89\tS2\t3121663\t                        Influenza A segment 8\n",
      "  0.02\t1\t1\tS3\t3181754\t                          A/chicken/Henan/A-7/2006(H5N1) segment 8\n",
      "  0.02\t1\t1\tS3\t3173140\t                          A/Kurgan/01/2009(H1N1) segment 8\n",
      "  0.02\t1\t1\tS3\t3424620\t                          A/swine/Emstek/21332/2015(H1N2) segment 8\n",
      "  0.02\t1\t1\tS3\t3467469\t                          A/Illinois/9361/2019(H3N2) segment 8\n",
      "  0.02\t1\t1\tS3\t3140128\t                          A/Memphis/38/1983(H1N1) segment 8\n",
      "  0.02\t1\t1\tS3\t3204107\t                          A/Zhejiang/X2/2009(H1N1) segment 8\n",
      "  0.02\t1\t1\tS3\t3499735\t                          A/Newcastle/610/2017(H3N2) segment 8\n",
      "  0.02\t1\t1\tS3\t3395958\t                          A/mallard/Maryland/16-042534-2/2016(H5N2) segment 8\n",
      "  0.02\t1\t1\tS3\t3274594\t                          A/California/82/2015(H3N2) segment 8\n",
      "  0.02\t1\t1\tS3\t3243764\t                          A/Singapore/C2012.197/2012(H3N2) segment 8\n",
      "  0.02\t1\t1\tS3\t3410282\t                          A/wild waterfowl/Korea/F7-18/2018(H4N8) segment 8\n",
      " 13.90\t920\t0\tG\t197912\t                  Betainfluenzavirus\n",
      " 13.90\t920\t0\tS\t2955465\t                    Betainfluenzavirus influenzae\n",
      " 13.90\t920\t608\tS1\t11520\t                      Influenza B virus\n",
      "  1.36\t90\t5\tS2\t3121665\t                        Influenza B segment 2\n",
      "  0.85\t56\t56\tS3\t3208935\t                          B/Lee/1940 segment 2\n",
      "  0.23\t15\t15\tS3\t3468104\t                          B/Nicaragua/6318_11/2012 segment 2\n",
      "  0.09\t6\t6\tS3\t3542617\t                          B/Lee/1940 segment 2\n",
      "  0.09\t6\t6\tS3\t3143231\t                          B/Russia/69 segment 2\n",
      "  0.02\t1\t1\tS3\t3139423\t                          B/Houston/B850/2005 segment 2\n",
      "  0.02\t1\t1\tS3\t3298963\t                          B/Malaysia/U3901/2014 segment 2\n",
      "  1.13\t75\t73\tS2\t3121668\t                        Influenza B segment 5\n",
      "  0.02\t1\t1\tS3\t3515004\t                          B/Louisiana/40/2019 segment 5\n",
      "  0.02\t1\t1\tS3\t3140652\t                          B/Chile/3162/2002 segment 5\n",
      "  1.01\t67\t57\tS2\t3121666\t                        Influenza B segment 3\n",
      "  0.12\t8\t8\tS3\t3542601\t                          B/Lee/1940 segment 3\n",
      "  0.02\t1\t1\tS3\t3478062\t                          B/South Korea/9732/2019 segment 3\n",
      "  0.02\t1\t1\tS3\t3139741\t                          B/Hong Kong/167/2002 segment 3\n",
      "  0.41\t27\t26\tS2\t3121671\t                        Influenza B segment 8\n",
      "  0.02\t1\t1\tS3\t3399911\t                          B/Michigan/30/2018 segment 8\n",
      "  0.36\t24\t22\tS2\t3121669\t                        Influenza B segment 6\n",
      "  0.02\t1\t1\tS3\t3372353\t                          B/Bethesda/NIH001/2007 segment 6\n",
      "  0.02\t1\t1\tS3\t3316156\t                          B/Idaho/08/2016 segment 6\n",
      "  0.24\t16\t15\tS2\t3121670\t                        Influenza B segment 7\n",
      "  0.02\t1\t1\tS3\t3317213\t                          B/Texas/25/2016 segment 7\n",
      "  0.11\t7\t5\tS2\t3121667\t                        Influenza B segment 4\n",
      "  0.02\t1\t1\tS3\t3496227\t                          B/Homo sapiens/Thailand/TM-2580_62/2019 segment 4\n",
      "  0.02\t1\t1\tS3\t3143224\t                          B/Russia/69 segment 4\n",
      "  0.09\t6\t5\tS2\t3121664\t                        Influenza B segment 1\n",
      "  0.02\t1\t1\tS3\t3505608\t                          B/Singapore/DMS2160/2012 segment 1\n",
      "  0.41\t27\t0\tP1\t2497570\t          Haploviricotina\n",
      "  0.41\t27\t0\tC\t2497574\t            Monjiviricetes\n",
      "  0.41\t27\t0\tO\t11157\t              Mononegavirales\n",
      "  0.41\t27\t0\tF\t11244\t                Pneumoviridae\n",
      "  0.41\t27\t0\tG\t162387\t                  Metapneumovirus\n",
      "  0.39\t26\t0\tS\t3048148\t                    Metapneumovirus hominis\n",
      "  0.39\t26\t26\tS1\t162145\t                      Human metapneumovirus\n",
      "  0.02\t1\t0\tS\t3047384\t                    Metapneumovirus avis\n",
      "  0.02\t1\t1\tS1\t38525\t                      Avian metapneumovirus\n",
      " 30.09\t1992\t0\tP\t2732408\t        Pisuviricota\n",
      " 30.09\t1992\t0\tC\t2732506\t          Pisoniviricetes\n",
      " 30.09\t1992\t0\tO\t76804\t            Nidovirales\n",
      " 30.09\t1992\t0\tO1\t2499399\t              Cornidovirineae\n",
      " 30.09\t1992\t0\tF\t11118\t                Coronaviridae\n",
      " 30.09\t1992\t0\tF1\t2501931\t                  Orthocoronavirinae\n",
      " 30.06\t1990\t0\tG\t694002\t                    Betacoronavirus\n",
      " 30.06\t1990\t0\tG1\t2509511\t                      Sarbecovirus\n",
      " 30.06\t1990\t0\tS\t694009\t                        Severe acute respiratory syndrome-related coronavirus\n",
      " 30.06\t1990\t1990\tS1\t2697049\t                          Severe acute respiratory syndrome coronavirus 2\n",
      "  0.03\t2\t0\tG\t1159901\t                    Deltacoronavirus\n",
      "  0.03\t2\t0\tG1\t2509474\t                      Buldecovirus\n",
      "  0.03\t2\t0\tS\t1297661\t                        Munia coronavirus HKU13\n",
      "  0.03\t2\t2\tS1\t572289\t                          Munia coronavirus HKU13-3514\n",
      "  0.36\t24\t0\tD1\t2731341\t    Duplodnaviria\n",
      "  0.36\t24\t0\tK\t2731360\t      Heunggongvirae\n",
      "  0.33\t22\t0\tP\t2731618\t        Uroviricota\n",
      "  0.33\t22\t0\tC\t2731619\t          Caudoviricetes\n",
      "  0.11\t7\t0\tG\t2733088\t            Alexandravirus\n",
      "  0.11\t7\t0\tG1\t2788002\t              unclassified Alexandravirus\n",
      "  0.11\t7\t7\tS\t2869557\t                Erwinia phage pEa_SNUABM_35\n",
      "  0.09\t6\t0\tG\t680115\t            Phikzvirus\n",
      "  0.09\t6\t0\tS\t169683\t              Phikzvirus phiKZ\n",
      "  0.09\t6\t6\tS1\t2905945\t                Pseudomonas phage phiKZ\n",
      "  0.05\t3\t0\tF\t2842333\t            Zobellviridae\n",
      "  0.05\t3\t0\tG\t2842942\t              Paundecimvirus\n",
      "  0.05\t3\t0\tS\t2845961\t                Paundecimvirus PA11\n",
      "  0.05\t3\t3\tS1\t347327\t                  Pseudomonas phage PA11\n",
      "  0.05\t3\t0\tG\t2733122\t            Petsuvirus\n",
      "  0.05\t3\t0\tG1\t2788436\t              unclassified Petsuvirus\n",
      "  0.05\t3\t3\tS\t2863194\t                Kosakonia phage Kc263\n",
      "  0.05\t3\t3\tG\t2948946\t            Veracruzvirus\n",
      "  0.03\t2\t0\tP\t2731361\t        Peploviricota\n",
      "  0.03\t2\t0\tC\t2731363\t          Herviviricetes\n",
      "  0.03\t2\t0\tO\t548681\t            Herpesvirales\n",
      "  0.03\t2\t0\tF\t3044472\t              Orthoherpesviridae\n",
      "  0.03\t2\t0\tF1\t10357\t                Betaherpesvirinae\n",
      "  0.03\t2\t0\tG\t548689\t                  Proboscivirus\n",
      "  0.03\t2\t0\tG1\t548912\t                    unclassified Proboscivirus\n",
      "  0.03\t2\t0\tS\t548913\t                      Elephant endotheliotropic herpesvirus 3\n",
      "  0.03\t2\t2\tS1\t1329409\t                        Elephant endotheliotropic herpesvirus 3A\n"
     ]
    }
   ],
   "source": [
    "cat ${TEST_BASE_DIR}/report.txt "
   ]
  }
 ],
 "metadata": {
  "kernelspec": {
   "display_name": "Bash",
   "language": "bash",
   "name": "bash"
  },
  "language_info": {
   "codemirror_mode": "shell",
   "file_extension": ".sh",
   "mimetype": "text/x-sh",
   "name": "bash"
  }
 },
 "nbformat": 4,
 "nbformat_minor": 5
}
