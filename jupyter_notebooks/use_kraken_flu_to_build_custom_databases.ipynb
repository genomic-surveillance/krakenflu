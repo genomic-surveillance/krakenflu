{
 "cells": [
  {
   "cell_type": "markdown",
   "id": "449d2875-90d1-4be3-b171-504793393b8e",
   "metadata": {},
   "source": [
    "# Build custom databases with segmented flu genomes using kraken_flu utility\n",
    "A new utilty [kraken_flu](https://gitlab.internal.sanger.ac.uk/malariagen1/misc_utils/kraken_flu) was created to generate Kraken2 databases with segmented flu genomes from any set of input files (either from kraken2 or directly from NCBI).\n",
    "\n",
    "The tool identifies influenza A H1N1, A H3N2 and B in the genome fasta file and creates new artificial taxa in the taxonomy files of the database build. Each segment of any of the viruses of interest is assign the original whole genome as the parent and will be listed as a new taxon in the Kraken2 output files."
   ]
  },
  {
   "cell_type": "markdown",
   "id": "8b3809bc-5157-4cf4-9bdf-d69662081a87",
   "metadata": {},
   "source": [
    "# install the kraken_flu tool\n",
    "The tool can be installed from local gitlab. Creating a venv for it."
   ]
  },
  {
   "cell_type": "code",
   "execution_count": 27,
   "id": "cfed0e0a-8a1c-45e2-9eac-d9b206f74337",
   "metadata": {
    "collapsed": true,
    "jupyter": {
     "outputs_hidden": true
    }
   },
   "outputs": [
    {
     "name": "stdout",
     "output_type": "stream",
     "text": [
      "Collecting kraken_flu@ git+ssh://****@gitlab.internal.sanger.ac.uk/malariagen1/misc_utils/kraken_flu.git\n",
      "  Cloning ssh://****@gitlab.internal.sanger.ac.uk/malariagen1/misc_utils/kraken_flu.git to /tmp/pip-install-1czikc84/kraken-flu_e04ea4d0e306496fadd281fe42d9687d\n",
      "  Running command git clone --filter=blob:none --quiet 'ssh://****@gitlab.internal.sanger.ac.uk/malariagen1/misc_utils/kraken_flu.git' /tmp/pip-install-1czikc84/kraken-flu_e04ea4d0e306496fadd281fe42d9687d\n",
      "  Resolved ssh://****@gitlab.internal.sanger.ac.uk/malariagen1/misc_utils/kraken_flu.git to commit 277e12048c3b39c50d23bcc55f7573051872efc3\n",
      "  Installing build dependencies ... \u001b[?25ldone\n",
      "\u001b[?25h  Getting requirements to build wheel ... \u001b[?25ldone\n",
      "\u001b[?25h  Preparing metadata (pyproject.toml) ... \u001b[?25ldone\n",
      "\u001b[?25hRequirement already satisfied: pytest>=6.2.2 in /nfs/users/nfs_f/fs5/kraken_flu/lib/python3.11/site-packages (from kraken_flu@ git+ssh://git@gitlab.internal.sanger.ac.uk/malariagen1/misc_utils/kraken_flu.git) (7.4.3)\n",
      "Requirement already satisfied: importlib-resources>=5.1.0 in /nfs/users/nfs_f/fs5/kraken_flu/lib/python3.11/site-packages (from kraken_flu@ git+ssh://git@gitlab.internal.sanger.ac.uk/malariagen1/misc_utils/kraken_flu.git) (6.1.1)\n",
      "Requirement already satisfied: cached-property>=1.5.2 in /nfs/users/nfs_f/fs5/kraken_flu/lib/python3.11/site-packages (from kraken_flu@ git+ssh://git@gitlab.internal.sanger.ac.uk/malariagen1/misc_utils/kraken_flu.git) (1.5.2)\n",
      "Requirement already satisfied: biopython>=1.80 in /nfs/users/nfs_f/fs5/kraken_flu/lib/python3.11/site-packages (from kraken_flu@ git+ssh://git@gitlab.internal.sanger.ac.uk/malariagen1/misc_utils/kraken_flu.git) (1.81)\n",
      "Requirement already satisfied: numpy in /nfs/users/nfs_f/fs5/kraken_flu/lib/python3.11/site-packages (from biopython>=1.80->kraken_flu@ git+ssh://git@gitlab.internal.sanger.ac.uk/malariagen1/misc_utils/kraken_flu.git) (1.26.2)\n",
      "Requirement already satisfied: iniconfig in /nfs/users/nfs_f/fs5/kraken_flu/lib/python3.11/site-packages (from pytest>=6.2.2->kraken_flu@ git+ssh://git@gitlab.internal.sanger.ac.uk/malariagen1/misc_utils/kraken_flu.git) (2.0.0)\n",
      "Requirement already satisfied: packaging in /nfs/users/nfs_f/fs5/kraken_flu/lib/python3.11/site-packages (from pytest>=6.2.2->kraken_flu@ git+ssh://git@gitlab.internal.sanger.ac.uk/malariagen1/misc_utils/kraken_flu.git) (23.2)\n",
      "Requirement already satisfied: pluggy<2.0,>=0.12 in /nfs/users/nfs_f/fs5/kraken_flu/lib/python3.11/site-packages (from pytest>=6.2.2->kraken_flu@ git+ssh://git@gitlab.internal.sanger.ac.uk/malariagen1/misc_utils/kraken_flu.git) (1.3.0)\n"
     ]
    }
   ],
   "source": [
    "python3 -m venv ~/kraken_flu"
   ]
  },
  {
   "cell_type": "code",
   "execution_count": 1,
   "id": "fdbaf34c-ff05-4da7-b065-c4ff502af6a7",
   "metadata": {},
   "outputs": [
    {
     "name": "stdout",
     "output_type": "stream",
     "text": [
      "Collecting kraken_flu@ git+ssh://****@gitlab.internal.sanger.ac.uk/malariagen1/misc_utils/kraken_flu.git\n",
      "  Cloning ssh://****@gitlab.internal.sanger.ac.uk/malariagen1/misc_utils/kraken_flu.git to /tmp/pip-install-kq0vv75v/kraken-flu_b460602e5d5b43698d54c603f3f7e0bf\n",
      "  Running command git clone --filter=blob:none --quiet 'ssh://****@gitlab.internal.sanger.ac.uk/malariagen1/misc_utils/kraken_flu.git' /tmp/pip-install-kq0vv75v/kraken-flu_b460602e5d5b43698d54c603f3f7e0bf\n",
      "  Resolved ssh://****@gitlab.internal.sanger.ac.uk/malariagen1/misc_utils/kraken_flu.git to commit 6995f865433d45b51aa5978dec0671ddb2b2b0d6\n",
      "  Installing build dependencies ... \u001b[?25ldone\n",
      "\u001b[?25h  Getting requirements to build wheel ... \u001b[?25ldone\n",
      "\u001b[?25h  Preparing metadata (pyproject.toml) ... \u001b[?25ldone\n",
      "\u001b[?25hRequirement already satisfied: pytest>=6.2.2 in /nfs/users/nfs_f/fs5/kraken_flu/lib/python3.11/site-packages (from kraken_flu@ git+ssh://git@gitlab.internal.sanger.ac.uk/malariagen1/misc_utils/kraken_flu.git) (7.4.3)\n",
      "Requirement already satisfied: importlib-resources>=5.1.0 in /nfs/users/nfs_f/fs5/kraken_flu/lib/python3.11/site-packages (from kraken_flu@ git+ssh://git@gitlab.internal.sanger.ac.uk/malariagen1/misc_utils/kraken_flu.git) (6.1.1)\n",
      "Requirement already satisfied: cached-property>=1.5.2 in /nfs/users/nfs_f/fs5/kraken_flu/lib/python3.11/site-packages (from kraken_flu@ git+ssh://git@gitlab.internal.sanger.ac.uk/malariagen1/misc_utils/kraken_flu.git) (1.5.2)\n",
      "Requirement already satisfied: biopython>=1.80 in /nfs/users/nfs_f/fs5/kraken_flu/lib/python3.11/site-packages (from kraken_flu@ git+ssh://git@gitlab.internal.sanger.ac.uk/malariagen1/misc_utils/kraken_flu.git) (1.81)\n",
      "Requirement already satisfied: numpy in /nfs/users/nfs_f/fs5/kraken_flu/lib/python3.11/site-packages (from biopython>=1.80->kraken_flu@ git+ssh://git@gitlab.internal.sanger.ac.uk/malariagen1/misc_utils/kraken_flu.git) (1.26.2)\n",
      "Requirement already satisfied: iniconfig in /nfs/users/nfs_f/fs5/kraken_flu/lib/python3.11/site-packages (from pytest>=6.2.2->kraken_flu@ git+ssh://git@gitlab.internal.sanger.ac.uk/malariagen1/misc_utils/kraken_flu.git) (2.0.0)\n",
      "Requirement already satisfied: packaging in /nfs/users/nfs_f/fs5/kraken_flu/lib/python3.11/site-packages (from pytest>=6.2.2->kraken_flu@ git+ssh://git@gitlab.internal.sanger.ac.uk/malariagen1/misc_utils/kraken_flu.git) (23.2)\n",
      "Requirement already satisfied: pluggy<2.0,>=0.12 in /nfs/users/nfs_f/fs5/kraken_flu/lib/python3.11/site-packages (from pytest>=6.2.2->kraken_flu@ git+ssh://git@gitlab.internal.sanger.ac.uk/malariagen1/misc_utils/kraken_flu.git) (1.3.0)\n",
      "Building wheels for collected packages: kraken_flu\n",
      "  Building wheel for kraken_flu (pyproject.toml) ... \u001b[?25ldone\n",
      "\u001b[?25h  Created wheel for kraken_flu: filename=kraken_flu-1.1.1.dev1+g6995f86-py2.py3-none-any.whl size=17847 sha256=766287122377d3be0e94005ea0b223e1f9d91ab947a642e1a0288600c722c8b5\n",
      "  Stored in directory: /tmp/pip-ephem-wheel-cache-mw1t3aqk/wheels/36/3d/a4/e69d3d0a667ae4fbdd235a419321c7e4986b2c2df02ecdb5de\n",
      "Successfully built kraken_flu\n",
      "Installing collected packages: kraken_flu\n",
      "  Attempting uninstall: kraken_flu\n",
      "    Found existing installation: kraken_flu 1.0.4.dev13+gf5c02d1\n",
      "    Uninstalling kraken_flu-1.0.4.dev13+gf5c02d1:\n",
      "      Successfully uninstalled kraken_flu-1.0.4.dev13+gf5c02d1\n",
      "Successfully installed kraken_flu-1.1.1.dev1+g6995f86\n",
      "\n",
      "\u001b[1m[\u001b[0m\u001b[34;49mnotice\u001b[0m\u001b[1;39;49m]\u001b[0m\u001b[39;49m A new release of pip is available: \u001b[0m\u001b[31;49m23.3.1\u001b[0m\u001b[39;49m -> \u001b[0m\u001b[32;49m23.3.2\u001b[0m\n",
      "\u001b[1m[\u001b[0m\u001b[34;49mnotice\u001b[0m\u001b[1;39;49m]\u001b[0m\u001b[39;49m To update, run: \u001b[0m\u001b[32;49mpython3 -m pip install --upgrade pip\u001b[0m\n"
     ]
    }
   ],
   "source": [
    "~/kraken_flu/bin/pip install kraken_flu@git+ssh://git@gitlab.internal.sanger.ac.uk/malariagen1/misc_utils/kraken_flu.git"
   ]
  },
  {
   "cell_type": "code",
   "execution_count": 2,
   "id": "366170ea-898f-40f3-a7f6-5f538bf89edd",
   "metadata": {},
   "outputs": [
    {
     "name": "stdout",
     "output_type": "stream",
     "text": [
      "kraken_flu 1.1.1.dev1+g6995f86\n"
     ]
    }
   ],
   "source": [
    "~/kraken_flu/bin/kraken_flu -v"
   ]
  },
  {
   "cell_type": "markdown",
   "id": "4fb60a1f-ea06-4f7a-9e7e-adf8681e0ba5",
   "metadata": {},
   "source": [
    "## Download common data\n",
    "The following data will be used by several subsequent database builds. The individual databases will be using copies of the relevant files in these download direcotries so we do not have to keep re-downloading the large files involved."
   ]
  },
  {
   "cell_type": "markdown",
   "id": "abd0269f-b5be-4932-9a52-fe17a446b832",
   "metadata": {},
   "source": [
    "### Download NCBI taxonomy data\n",
    "Use the kraken2 build tool to download taxonomy files from [NCBI](https://ftp.ncbi.nlm.nih.gov/pub/taxonomy/). These files will be needed for all database builds."
   ]
  },
  {
   "cell_type": "code",
   "execution_count": 2,
   "id": "bf32061c-f847-44e2-80b6-64dbbf26aec4",
   "metadata": {},
   "outputs": [
    {
     "name": "stdout",
     "output_type": "stream",
     "text": [
      "        Module loaded. For more information run 'module help kraken2/2.1.2'.\u001b[m\n",
      "        - By default, kraken2 will search for named databases in /data/pam/softw\u001b[mare/kraken2 and the current working directory. The full path to\u001b[m\n",
      "        any database can also be used.\u001b[m\n",
      "        - `kraken2-build` commands will sometimes experience an error suggesting\u001b[m that it is not possible to download a library using rsync. While the option --u\u001b[mse-ftp\u001b[m\n",
      "        may fix this, rsync tends to be faster and more reliable. Try re-running\u001b[m the `kraken2-build` command until the download is successful. Note that `kraken\u001b[m2-build`\u001b[m\n",
      "        will produce checkpoints during the installation process and will restar\u001b[mt at the last successful step.\u001b[m\n",
      "        - If `kraken2-build build` freezes or hangs indefinitely, using the `--f\u001b[mast-build` option may help. An earlier version of the software (if available) ma\u001b[my also\u001b[m\n",
      "        allow the build step to proceed successfully.\u001b[m\n",
      "\u001b[K\u001b[?1l\u001b>\n"
     ]
    }
   ],
   "source": [
    "module load kraken2/2.1.2"
   ]
  },
  {
   "cell_type": "code",
   "execution_count": 3,
   "id": "01cf368e-add0-403c-a1ce-264293cbba88",
   "metadata": {},
   "outputs": [],
   "source": [
    "export BASE_DIR=/lustre/scratch126/gsu/team112/personal/fs5/rvi_dev/krakenDBs/kraken_flu/"
   ]
  },
  {
   "cell_type": "code",
   "execution_count": 7,
   "id": "e49725ab-4663-4556-90bd-d80678e3ee45",
   "metadata": {},
   "outputs": [],
   "source": [
    "mkdir -p ${BASE_DIR}"
   ]
  },
  {
   "cell_type": "code",
   "execution_count": 4,
   "id": "1337982b-77ba-4e91-91e0-b64d7b68cd85",
   "metadata": {},
   "outputs": [],
   "source": [
    "export TAX_PATH=${BASE_DIR}/taxonomy_download/"
   ]
  },
  {
   "cell_type": "code",
   "execution_count": 5,
   "id": "6cd524c1-6c73-4a08-b547-d91fb225f965",
   "metadata": {},
   "outputs": [],
   "source": [
    "export LIB_PATH_VIR=${BASE_DIR}/library_download_viral/"
   ]
  },
  {
   "cell_type": "code",
   "execution_count": 10,
   "id": "ebd270f8-9a36-41fb-8712-658b5eb8575c",
   "metadata": {},
   "outputs": [],
   "source": [
    "mkdir -p {$TAX_PATH}\n",
    "mkdir -p ${LIB_PATH_VIR}"
   ]
  },
  {
   "cell_type": "code",
   "execution_count": 11,
   "id": "f52c018e-8d25-4c1f-9088-4cce14e3c5f6",
   "metadata": {},
   "outputs": [
    {
     "name": "stdout",
     "output_type": "stream",
     "text": [
      "Downloading nucleotide gb accession to taxon map... done.\n",
      "Downloading nucleotide wgs accession to taxon map... done.\n",
      "Downloaded accession to taxon map(s)\n",
      "Downloading taxonomy tree data... done.\n",
      "Uncompressing taxonomy data... done.\n",
      "Untarring taxonomy tree data... done.\n"
     ]
    }
   ],
   "source": [
    "kraken2-build --download-taxonomy --db ${TAX_PATH}"
   ]
  },
  {
   "cell_type": "markdown",
   "id": "02313edb-de5c-416c-8e9c-17b7aeea8c18",
   "metadata": {},
   "source": [
    "<a id=\"downloadrefseq\"></a>\n",
    "### Download viral RefSeq\n",
    "This kraken2 build command downloads RefSeq and assigns taxonomy to the sequences to create a ready dataset for DB creation.\n",
    "\n",
    "___NOTE___: for some reason, the rsync command often fails and it is very slow (seems to download sequences one by one?), so it makes sense to keep this directory as a resource for further databases. RefSeq is not updated very often so it should not be a problem with being up to date"
   ]
  },
  {
   "cell_type": "code",
   "execution_count": 12,
   "id": "f98fbb1c-bbb4-4a87-bd54-eb8de4fda887",
   "metadata": {},
   "outputs": [
    {
     "name": "stdout",
     "output_type": "stream",
     "text": [
      "Step 1/2: Performing rsync file transfer of requested files\n",
      "Rsync file transfer complete.\n",
      "Step 2/2: Assigning taxonomic IDs to sequences\n",
      "Processed 14972 projects (18639 sequences, 549.88 Mbp)... done.\n",
      "All files processed, cleaning up extra sequence files... done, library complete.\n",
      "Masking low-complexity regions of downloaded library... done.\n"
     ]
    }
   ],
   "source": [
    "kraken2-build \\\n",
    "    --download-library viral \\\n",
    "    --db ${LIB_PATH_VIR}"
   ]
  },
  {
   "cell_type": "markdown",
   "id": "26eaff8a-edf9-4f1d-9536-862e87b48405",
   "metadata": {},
   "source": [
    "___Resulting files:___\n",
    "These are the files created by the downloads. The file library.fna is the genome sequence file. As this was downloaded from a kraken2 pre-built repository of refseq, the FASTA headers already contain taxonomy IDs, which will be modified by the kranek_flu tool.\n"
   ]
  },
  {
   "cell_type": "code",
   "execution_count": 7,
   "id": "542950ea-ad8a-4c80-aa17-e40e9fb2b638",
   "metadata": {},
   "outputs": [
    {
     "name": "stdout",
     "output_type": "stream",
     "text": [
      "/lustre/scratch126/gsu/team112/personal/fs5/rvi_dev/krakenDBs/kraken_flu/\n",
      "├── db1-allrefseq_wo_human\n",
      "│   ├── library\n",
      "│   │   └── library.fna\n",
      "│   └── taxonomy\n",
      "│       ├── modes.dmp\n",
      "│       └── names.dmp\n",
      "├── library_download_viral\n",
      "│   └── library\n",
      "│       └── viral\n",
      "│           ├── assembly_summary.txt\n",
      "│           ├── library.fna\n",
      "│           ├── library.fna.masked\n",
      "│           ├── manifest.txt\n",
      "│           └── prelim_map.txt\n",
      "└── taxonomy_download\n",
      "    └── taxonomy\n",
      "        ├── accmap.dlflag\n",
      "        ├── citations.dmp\n",
      "        ├── delnodes.dmp\n",
      "        ├── division.dmp\n",
      "        ├── gc.prt\n",
      "        ├── gencode.dmp\n",
      "        ├── images.dmp\n",
      "        ├── merged.dmp\n",
      "        ├── names.dmp\n",
      "        ├── nodes.dmp\n",
      "        ├── nucl_gb.accession2taxid\n",
      "        ├── nucl_wgs.accession2taxid\n",
      "        ├── readme.txt\n",
      "        ├── taxdump.dlflag\n",
      "        ├── taxdump.tar.gz\n",
      "        └── taxdump.untarflag\n",
      "\n",
      "8 directories, 24 files\n"
     ]
    }
   ],
   "source": [
    "tree ${BASE_DIR}"
   ]
  },
  {
   "cell_type": "markdown",
   "id": "57c75003-6207-411b-a647-0265ba8625b2",
   "metadata": {},
   "source": [
    "# Use kraken_flu to create a database with all of viral refseq\n",
    "The tool will convert the taxonomy and library files and write the modified copies to a new directory. The modified files will have new taxon IDs in the FASTA header for all flu A H1N1, A H3N2 and B viral genome sequences. The pattern is currently hardcoded into the tool but can be easily extended to cover other viruses."
   ]
  },
  {
   "cell_type": "code",
   "execution_count": 60,
   "id": "af3aed3a-37bd-4918-8571-c3a652efc439",
   "metadata": {},
   "outputs": [
    {
     "name": "stdout",
     "output_type": "stream",
     "text": [
      "2023-12-18 16:52:53,797 writing modified FASTA file to /lustre/scratch126/gsu/team112/personal/fs5/rvi_dev/krakenDBs/kraken_flu//db1-allrefseq_wo_human/library/library.fna\n",
      "2023-12-18 16:52:53,812 scanning file /lustre/scratch126/gsu/team112/personal/fs5/rvi_dev/krakenDBs/kraken_flu//library_download_viral//library/viral/library.fna for influenza viruses\n",
      "2023-12-18 16:52:57,121 done - found 32 segment sequences in FASTA file\n",
      "2023-12-18 16:53:03,534 finished writing modified FASTA file\n",
      "2023-12-18 16:53:03,537 writing modified prelim_map.txt file to /lustre/scratch126/gsu/team112/personal/fs5/rvi_dev/krakenDBs/kraken_flu//db1-allrefseq_wo_human/library/prelim_map.txt\n",
      "2023-12-18 16:53:03,594 finished writing modified prelim_map.txt file\n",
      "2023-12-18 16:53:04,298 writing modified names file to /lustre/scratch126/gsu/team112/personal/fs5/rvi_dev/krakenDBs/kraken_flu//db1-allrefseq_wo_human/taxonomy/names.dmp\n",
      "2023-12-18 16:53:04,495 finished writing modified names file\n",
      "2023-12-18 16:53:05,086 writing modified nodes file to /lustre/scratch126/gsu/team112/personal/fs5/rvi_dev/krakenDBs/kraken_flu//db1-allrefseq_wo_human/taxonomy/nodes.dmp\n",
      "2023-12-18 16:53:05,200 finished writing modified nodes file\n"
     ]
    }
   ],
   "source": [
    "# FORCE DELETE any existing direcotry\n",
    "rm -rf ${BASE_DIR}/db1-allrefseq_wo_human\n",
    "\n",
    "# run the utility\n",
    "~/kraken_flu/bin/kraken_flu build \\\n",
    "    --library_path ${LIB_PATH_VIR}/library/viral/ \\\n",
    "    --taxonomy_path ${TAX_PATH}/taxonomy \\\n",
    "    --out_dir ${BASE_DIR}/db1-allrefseq_wo_human"
   ]
  },
  {
   "cell_type": "code",
   "execution_count": 61,
   "id": "3af748aa-9318-4a53-b969-3ccdd1fec8e2",
   "metadata": {},
   "outputs": [
    {
     "name": "stdout",
     "output_type": "stream",
     "text": [
      "/lustre/scratch126/gsu/team112/personal/fs5/rvi_dev/krakenDBs/kraken_flu//db1-allrefseq_wo_human\n",
      "├── library\n",
      "│   ├── library.fna\n",
      "│   └── prelim_map.txt\n",
      "└── taxonomy\n",
      "    ├── names.dmp\n",
      "    └── nodes.dmp\n",
      "\n",
      "2 directories, 4 files\n"
     ]
    }
   ],
   "source": [
    "tree ${BASE_DIR}/db1-allrefseq_wo_human"
   ]
  },
  {
   "cell_type": "markdown",
   "id": "da6737ed-3a94-45ac-a180-683a8f68787f",
   "metadata": {},
   "source": [
    "show the tail of the new names file which now contains segments as new names"
   ]
  },
  {
   "cell_type": "code",
   "execution_count": 49,
   "id": "06db0eb0-06d5-4c93-9934-e9d5e41469de",
   "metadata": {},
   "outputs": [
    {
     "name": "stdout",
     "output_type": "stream",
     "text": [
      "3108293\t|\tNC_002016.1 Influenza A virus (A/Puerto Rico/8/1934(H1N1)) segment 7, complete sequence\t|\t\t|\tscientific name\t|\n",
      "3108294\t|\tNC_002020.1 Influenza A virus (A/Puerto Rico/8/1934(H1N1)) segment 8, complete sequence\t|\t\t|\tscientific name\t|\n",
      "3108295\t|\tNC_026438.1 Influenza A virus (A/California/07/2009(H1N1)) segment 1 polymerase PB2 (PB2) gene, complete cds\t|\t\t|\tscientific name\t|\n",
      "3108296\t|\tNC_026435.1 Influenza A virus (A/California/07/2009(H1N1)) segment 2 polymerase PB1 (PB1) gene, complete cds; and nonfunctional PB1-F2 protein (PB1-F2) gene, complete sequence\t|\t\t|\tscientific name\t|\n",
      "3108297\t|\tNC_026437.1 Influenza A virus (A/California/07/2009(H1N1)) segment 3 polymerase PA (PA) gene, complete cds\t|\t\t|\tscientific name\t|\n",
      "3108298\t|\tNC_026433.1 Influenza A virus (A/California/07/2009(H1N1)) segment 4 hemagglutinin (HA) gene, complete cds\t|\t\t|\tscientific name\t|\n",
      "3108299\t|\tNC_026436.1 Influenza A virus (A/California/07/2009(H1N1)) segment 5 nucleocapsid protein (NP) gene, complete cds\t|\t\t|\tscientific name\t|\n",
      "3108300\t|\tNC_026434.1 Influenza A virus (A/California/07/2009(H1N1)) segment 6 neuraminidase (NA) gene, complete cds\t|\t\t|\tscientific name\t|\n",
      "3108301\t|\tNC_026431.1 Influenza A virus (A/California/07/2009(H1N1)) segment 7 matrix protein 2 (M2) and matrix protein 1 (M1) genes, complete cds\t|\t\t|\tscientific name\t|\n",
      "3108302\t|\tNC_026432.1 Influenza A virus (A/California/07/2009(H1N1)) segment 8 nuclear export protein (NEP) and nonstructural protein 1 (NS1) genes, complete cds\t|\t\t|\tscientific name\t|\n"
     ]
    }
   ],
   "source": [
    "tail ${BASE_DIR}/db1-allrefseq_wo_human/taxonomy/names.dmp"
   ]
  },
  {
   "cell_type": "markdown",
   "id": "9107cace-8bdb-4e30-b9fa-eb58cb333318",
   "metadata": {},
   "source": [
    "tail of the nodes file shows the new nodes having been added"
   ]
  },
  {
   "cell_type": "code",
   "execution_count": 50,
   "id": "1417ff40-6921-45da-9ae8-1fc5e5816289",
   "metadata": {},
   "outputs": [
    {
     "name": "stdout",
     "output_type": "stream",
     "text": [
      "3108293\t|\t211044\t|\tno rank\t|\t\t|\t9\t|\t1\t|\t1\t|\t1\t|\t0\t|\t1\t|\t1\t|\t\t|\t\t|\n",
      "3108294\t|\t211044\t|\tno rank\t|\t\t|\t9\t|\t1\t|\t1\t|\t1\t|\t0\t|\t1\t|\t1\t|\t\t|\t\t|\n",
      "3108295\t|\t641809\t|\tno rank\t|\t\t|\t9\t|\t1\t|\t1\t|\t1\t|\t0\t|\t1\t|\t1\t|\t\t|\t\t|\n",
      "3108296\t|\t641809\t|\tno rank\t|\t\t|\t9\t|\t1\t|\t1\t|\t1\t|\t0\t|\t1\t|\t1\t|\t\t|\t\t|\n",
      "3108297\t|\t641809\t|\tno rank\t|\t\t|\t9\t|\t1\t|\t1\t|\t1\t|\t0\t|\t1\t|\t1\t|\t\t|\t\t|\n",
      "3108298\t|\t641809\t|\tno rank\t|\t\t|\t9\t|\t1\t|\t1\t|\t1\t|\t0\t|\t1\t|\t1\t|\t\t|\t\t|\n",
      "3108299\t|\t641809\t|\tno rank\t|\t\t|\t9\t|\t1\t|\t1\t|\t1\t|\t0\t|\t1\t|\t1\t|\t\t|\t\t|\n",
      "3108300\t|\t641809\t|\tno rank\t|\t\t|\t9\t|\t1\t|\t1\t|\t1\t|\t0\t|\t1\t|\t1\t|\t\t|\t\t|\n",
      "3108301\t|\t641809\t|\tno rank\t|\t\t|\t9\t|\t1\t|\t1\t|\t1\t|\t0\t|\t1\t|\t1\t|\t\t|\t\t|\n",
      "3108302\t|\t641809\t|\tno rank\t|\t\t|\t9\t|\t1\t|\t1\t|\t1\t|\t0\t|\t1\t|\t1\t|\t\t|\t\t|\n"
     ]
    }
   ],
   "source": [
    "tail ${BASE_DIR}/db1-allrefseq_wo_human/taxonomy/nodes.dmp"
   ]
  },
  {
   "cell_type": "markdown",
   "id": "141b4642-858e-4898-848a-71dfe23505b1",
   "metadata": {},
   "source": [
    "show the modified FASTA headers for the H1N1 sequences"
   ]
  },
  {
   "cell_type": "code",
   "execution_count": 63,
   "id": "90e3e0e5-6434-4dce-bd0b-07cf0ad3d462",
   "metadata": {},
   "outputs": [
    {
     "name": "stdout",
     "output_type": "stream",
     "text": [
      ">kraken:taxid|3108287|NC_002023.1 Influenza A virus (A/Puerto Rico/8/1934(H1N1)) segment 1, complete sequence\n",
      ">kraken:taxid|3108288|NC_002021.1 Influenza A virus (A/Puerto Rico/8/1934(H1N1)) segment 2, complete sequence\n",
      ">kraken:taxid|3108289|NC_002022.1 Influenza A virus (A/Puerto Rico/8/1934(H1N1)) segment 3, complete sequence\n",
      ">kraken:taxid|3108290|NC_002017.1 Influenza A virus (A/Puerto Rico/8/1934(H1N1)) segment 4, complete sequence\n",
      ">kraken:taxid|3108291|NC_002019.1 Influenza A virus (A/Puerto Rico/8/1934(H1N1)) segment 5, complete sequence\n",
      ">kraken:taxid|3108292|NC_002018.1 Influenza A virus (A/Puerto Rico/8/1934(H1N1)) segment 6, complete sequence\n",
      ">kraken:taxid|3108293|NC_002016.1 Influenza A virus (A/Puerto Rico/8/1934(H1N1)) segment 7, complete sequence\n",
      ">kraken:taxid|3108294|NC_002020.1 Influenza A virus (A/Puerto Rico/8/1934(H1N1)) segment 8, complete sequence\n",
      ">kraken:taxid|3108295|NC_026438.1 Influenza A virus (A/California/07/2009(H1N1)) segment 1 polymerase PB2 (PB2) gene, complete cds\n",
      ">kraken:taxid|3108296|NC_026435.1 Influenza A virus (A/California/07/2009(H1N1)) segment 2 polymerase PB1 (PB1) gene, complete cds; and nonfunctional PB1-F2 protein (PB1-F2) gene, complete sequence\n",
      ">kraken:taxid|3108297|NC_026437.1 Influenza A virus (A/California/07/2009(H1N1)) segment 3 polymerase PA (PA) gene, complete cds\n",
      ">kraken:taxid|3108298|NC_026433.1 Influenza A virus (A/California/07/2009(H1N1)) segment 4 hemagglutinin (HA) gene, complete cds\n",
      ">kraken:taxid|3108299|NC_026436.1 Influenza A virus (A/California/07/2009(H1N1)) segment 5 nucleocapsid protein (NP) gene, complete cds\n",
      ">kraken:taxid|3108300|NC_026434.1 Influenza A virus (A/California/07/2009(H1N1)) segment 6 neuraminidase (NA) gene, complete cds\n",
      ">kraken:taxid|3108301|NC_026431.1 Influenza A virus (A/California/07/2009(H1N1)) segment 7 matrix protein 2 (M2) and matrix protein 1 (M1) genes, complete cds\n",
      ">kraken:taxid|3108302|NC_026432.1 Influenza A virus (A/California/07/2009(H1N1)) segment 8 nuclear export protein (NEP) and nonstructural protein 1 (NS1) genes, complete cds\n"
     ]
    }
   ],
   "source": [
    "grep H1N1 ${BASE_DIR}/db1-allrefseq_wo_human/library/library.fna"
   ]
  },
  {
   "cell_type": "markdown",
   "id": "afebf2aa-c1e0-484d-b355-44075433e62f",
   "metadata": {},
   "source": [
    "## Build the new database\n",
    "Use kraken2 build tool to build the final new database from the modified genome and taxonomy files\n"
   ]
  },
  {
   "cell_type": "code",
   "execution_count": 64,
   "id": "62566e18-d928-4683-9661-2c34f0ff935c",
   "metadata": {},
   "outputs": [
    {
     "name": "stdout",
     "output_type": "stream",
     "text": [
      "Creating sequence ID to taxonomy ID map (step 1)...\n",
      "Sequence ID to taxonomy ID map complete. [0.059s]\n",
      "Estimating required capacity (step 2)...\n",
      "Estimated hash table requirement: 648810788 bytes\n",
      "Capacity estimation complete. [20.288s]\n",
      "Building database files (step 3)...\n",
      "Taxonomy parsed and converted.\n",
      "CHT created with 15 bits reserved for taxid.\n",
      "Completed processing of 18639 sequences, 549880780 bp\n",
      "Writing data to disk...  complete.\n",
      "Database files completed. [2m31.032s]\n",
      "Database construction complete. [Total: 2m51.403s]\n"
     ]
    }
   ],
   "source": [
    "kraken2-build \\\n",
    "    --build \\\n",
    "    --db ${BASE_DIR}/db1-allrefseq_wo_human"
   ]
  },
  {
   "cell_type": "markdown",
   "id": "4da8b4ad-acef-4d13-9d33-9bed948176cb",
   "metadata": {},
   "source": [
    "## Test the database\n",
    "Using existing simulated reads data to test the new database"
   ]
  },
  {
   "cell_type": "code",
   "execution_count": 6,
   "id": "fdc0956e-255b-4480-9038-faab9b37ba68",
   "metadata": {},
   "outputs": [],
   "source": [
    "export TEST_BASE_DIR=/lustre/scratch126/gsu/team112/personal/fs5/rvi_dev/krakenDBs/kraken_flu_tests/"
   ]
  },
  {
   "cell_type": "code",
   "execution_count": 65,
   "id": "56a718b2-3500-480b-ab01-6e550b5a22d4",
   "metadata": {},
   "outputs": [],
   "source": [
    "rm -rf ${TEST_BASE_DIR}\n",
    "mkdir -p ${TEST_BASE_DIR}"
   ]
  },
  {
   "cell_type": "code",
   "execution_count": 66,
   "id": "b4003ac1-f09b-49aa-84d8-ff5bc59ca7fc",
   "metadata": {},
   "outputs": [
    {
     "name": "stdout",
     "output_type": "stream",
     "text": [
      "Loading database information... done.\n",
      "6620 sequences (1.99 Mbp) processed in 0.366s (1085.5 Kseq/m, 325.65 Mbp/m).\n",
      "  6618 sequences classified (99.97%)\n",
      "  2 sequences unclassified (0.03%)\n"
     ]
    }
   ],
   "source": [
    "kraken2 \\\n",
    "    --db ${BASE_DIR}/db1-allrefseq_wo_human \\\n",
    "    --output ${TEST_BASE_DIR}/output.kraken \\\n",
    "    --paired \\\n",
    "    --classified-out ${TEST_BASE_DIR}/class_seqs#.fq \\\n",
    "    --unclassified-out ${TEST_BASE_DIR}/unclass_seqs#.fq \\\n",
    "    --report ${TEST_BASE_DIR}/report.txt \\\n",
    "/lustre/scratch126/gsu/team112/personal/fs5/rvi_dev/sim_reads/art/mix/mix_of_all_01-1.fq \\\n",
    "/lustre/scratch126/gsu/team112/personal/fs5/rvi_dev/sim_reads/art/mix/mix_of_all_01-2.fq\n"
   ]
  },
  {
   "cell_type": "code",
   "execution_count": 67,
   "id": "3b5b5925-6f5c-4bb3-a7a7-6332507ee011",
   "metadata": {},
   "outputs": [
    {
     "name": "stdout",
     "output_type": "stream",
     "text": [
      "  0.03\t2\t2\tU\t0\tunclassified\n",
      " 99.97\t6618\t0\tR\t1\troot\n",
      " 99.97\t6618\t0\tD\t10239\t  Viruses\n",
      " 99.97\t6618\t0\tD1\t2559587\t    Riboviria\n",
      " 99.97\t6618\t0\tK\t2732396\t      Orthornavirae\n",
      " 69.91\t4628\t0\tP\t2497569\t        Negarnaviricota\n",
      " 39.43\t2610\t0\tP1\t2497571\t          Polyploviricotina\n",
      " 39.43\t2610\t0\tC\t2497577\t            Insthoviricetes\n",
      " 39.43\t2610\t0\tO\t2499411\t              Articulavirales\n",
      " 39.43\t2610\t0\tF\t11308\t                Orthomyxoviridae\n",
      " 25.53\t1690\t0\tG\t197911\t                  Alphainfluenzavirus\n",
      " 25.53\t1690\t0\tS\t2955291\t                    Alphainfluenzavirus influenzae\n",
      " 25.53\t1690\t0\tS1\t11320\t                      Influenza A virus\n",
      " 12.84\t850\t0\tS2\t119210\t                        H3N2 subtype\n",
      " 12.84\t850\t0\tS3\t335341\t                          Influenza A virus (A/New York/392/2004(H3N2))\n",
      "  2.27\t150\t150\tS4\t3108271\t                            NC_007373.1 Influenza A virus (A/New York/392/2004(H3N2)) segment 1, complete sequence\n",
      "  2.27\t150\t150\tS4\t3108272\t                            NC_007372.1 Influenza A virus (A/New York/392/2004(H3N2)) segment 2, complete sequence\n",
      "  2.11\t140\t140\tS4\t3108273\t                            NC_007371.1 Influenza A virus (A/New York/392/2004(H3N2)) segment 3, complete sequence\n",
      "  1.66\t110\t110\tS4\t3108274\t                            NC_007366.1 Influenza A virus (A/New York/392/2004(H3N2)) segment 4, complete sequence\n",
      "  1.51\t100\t100\tS4\t3108275\t                            NC_007369.1 Influenza A virus (A/New York/392/2004(H3N2)) segment 5, complete sequence\n",
      "  1.36\t90\t90\tS4\t3108276\t                            NC_007368.1 Influenza A virus (A/New York/392/2004(H3N2)) segment 6, complete sequence\n",
      "  0.91\t60\t60\tS4\t3108277\t                            NC_007367.1 Influenza A virus (A/New York/392/2004(H3N2)) segment 7, complete sequence\n",
      "  0.76\t50\t50\tS4\t3108278\t                            NC_007370.1 Influenza A virus (A/New York/392/2004(H3N2)) segment 8, complete sequence\n",
      " 12.69\t840\t0\tS2\t114727\t                        H1N1 subtype\n",
      " 12.69\t840\t0\tS3\t641809\t                          Influenza A virus (A/California/07/2009(H1N1))\n",
      "  2.27\t150\t150\tS4\t3108295\t                            NC_026438.1 Influenza A virus (A/California/07/2009(H1N1)) segment 1 polymerase PB2 (PB2) gene, complete cds\n",
      "  2.27\t150\t150\tS4\t3108296\t                            NC_026435.1 Influenza A virus (A/California/07/2009(H1N1)) segment 2 polymerase PB1 (PB1) gene, complete cds; and nonfunctional PB1-F2 protein (PB1-F2) gene, complete sequence\n",
      "  2.11\t140\t140\tS4\t3108297\t                            NC_026437.1 Influenza A virus (A/California/07/2009(H1N1)) segment 3 polymerase PA (PA) gene, complete cds\n",
      "  1.66\t110\t110\tS4\t3108298\t                            NC_026433.1 Influenza A virus (A/California/07/2009(H1N1)) segment 4 hemagglutinin (HA) gene, complete cds\n",
      "  1.36\t90\t90\tS4\t3108299\t                            NC_026436.1 Influenza A virus (A/California/07/2009(H1N1)) segment 5 nucleocapsid protein (NP) gene, complete cds\n",
      "  1.36\t90\t90\tS4\t3108300\t                            NC_026434.1 Influenza A virus (A/California/07/2009(H1N1)) segment 6 neuraminidase (NA) gene, complete cds\n",
      "  0.91\t60\t60\tS4\t3108301\t                            NC_026431.1 Influenza A virus (A/California/07/2009(H1N1)) segment 7 matrix protein 2 (M2) and matrix protein 1 (M1) genes, complete cds\n",
      "  0.76\t50\t50\tS4\t3108302\t                            NC_026432.1 Influenza A virus (A/California/07/2009(H1N1)) segment 8 nuclear export protein (NEP) and nonstructural protein 1 (NS1) genes, complete cds\n",
      " 13.90\t920\t0\tG\t197912\t                  Betainfluenzavirus\n",
      " 13.90\t920\t0\tS\t2955465\t                    Betainfluenzavirus influenzae\n",
      " 13.90\t920\t0\tS1\t11520\t                      Influenza B virus\n",
      " 13.90\t920\t0\tS2\t518987\t                        Influenza B virus (B/Lee/1940)\n",
      "  2.27\t150\t150\tS3\t3108279\t                          NC_002205.1 Influenza B virus (B/Lee/1940) segment 2, complete sequence\n",
      "  2.27\t150\t150\tS3\t3108286\t                          NC_002204.1 Influenza B virus RNA 1, complete sequence\n",
      "  2.11\t140\t140\tS3\t3108280\t                          NC_002206.1 Influenza B virus (B/Lee/1940) segment 3, complete sequence\n",
      "  1.81\t120\t120\tS3\t3108281\t                          NC_002207.1 Influenza B virus (B/Lee/1940) segment 4, complete sequence\n",
      "  1.81\t120\t120\tS3\t3108282\t                          NC_002208.1 Influenza B virus (B/Lee/1940) segment 5, complete sequence\n",
      "  1.51\t100\t100\tS3\t3108283\t                          NC_002209.1 Influenza B virus (B/Lee/1940) segment 6, complete sequence\n",
      "  1.06\t70\t70\tS3\t3108284\t                          NC_002210.1 Influenza B virus (B/Lee/1940) segment 7, complete sequence\n",
      "  1.06\t70\t70\tS3\t3108285\t                          NC_002211.1 Influenza B virus (B/Lee/1940) segment 8, complete sequence\n",
      " 30.48\t2018\t0\tP1\t2497570\t          Haploviricotina\n",
      " 30.48\t2018\t0\tC\t2497574\t            Monjiviricetes\n",
      " 30.48\t2018\t0\tO\t11157\t              Mononegavirales\n",
      " 30.48\t2018\t0\tF\t11244\t                Pneumoviridae\n",
      " 30.48\t2018\t2\tG\t1868215\t                  Orthopneumovirus\n",
      " 15.24\t1009\t0\tS\t3049954\t                    Orthopneumovirus hominis\n",
      " 15.24\t1009\t1009\tS1\t11250\t                      Human orthopneumovirus\n",
      " 15.21\t1007\t0\tS\t3050248\t                    Orthopneumovirus bovis\n",
      " 15.21\t1007\t0\tS1\t11246\t                      Bovine orthopneumovirus\n",
      " 15.21\t1007\t1007\tS2\t12814\t                        Respiratory syncytial virus\n",
      " 30.06\t1990\t0\tP\t2732408\t        Pisuviricota\n",
      " 30.06\t1990\t0\tC\t2732506\t          Pisoniviricetes\n",
      " 30.06\t1990\t0\tO\t76804\t            Nidovirales\n",
      " 30.06\t1990\t0\tO1\t2499399\t              Cornidovirineae\n",
      " 30.06\t1990\t0\tF\t11118\t                Coronaviridae\n",
      " 30.06\t1990\t0\tF1\t2501931\t                  Orthocoronavirinae\n",
      " 30.06\t1990\t0\tG\t694002\t                    Betacoronavirus\n",
      " 30.06\t1990\t0\tG1\t2509511\t                      Sarbecovirus\n",
      " 30.06\t1990\t0\tS\t694009\t                        Severe acute respiratory syndrome-related coronavirus\n",
      " 30.06\t1990\t1990\tS1\t2697049\t                          Severe acute respiratory syndrome coronavirus 2\n"
     ]
    }
   ],
   "source": [
    "cat ${TEST_BASE_DIR}/report.txt"
   ]
  },
  {
   "cell_type": "markdown",
   "id": "7cb192cb-d174-4d0a-8afb-d493887c2bcd",
   "metadata": {},
   "source": [
    "## Conclusion\n",
    "The kraken-flu tool is working as intended and the output shows the expected assignement of reads at segment level.  \n",
    "In this database, two references are used for H1N1 and H3N2, respectively. The outcome still assigns the reads to the correct reference from which the simulated reads were made."
   ]
  },
  {
   "cell_type": "markdown",
   "id": "781b0b73-ede7-4060-b087-33836a2307b8",
   "metadata": {},
   "source": [
    "# Build database with all influenza sequences from NCBI\n",
    "In addition to the NCBI RefSeq sequences, this version of the database will contain all influenza genomes from NCBI.  \n",
    "\n"
   ]
  },
  {
   "cell_type": "markdown",
   "id": "22c4717c-c728-4681-abe3-bbfe9f07d87c",
   "metadata": {},
   "source": [
    "## Download data from Influenza Virus Resource (NCBI)\n",
    "Tried using the query tool of the [Influenza Virus Resoiurce](https://www.ncbi.nlm.nih.gov/genomes/FLU/Database/nph-select.cgi?go=database) with the following settings:\n",
    "\n",
    "\n",
    "    - Sequence Type: Nucleotide\n",
    "    - Type: any\n",
    "    - Host: Human\n",
    "    - Country: any\n",
    "    - Subtype: any\n",
    "    - Full length only: yes\n",
    "    - Full length plus: no\n",
    "    - Date: any\n",
    "\n",
    "    - Advanced filter:\n",
    "        - include pandemic (H1N1) viruses ([details](https://www.ncbi.nlm.nih.gov/genome/viruses/variation/help/flu-help-center/how-to-use/#pandemic-viruses))\n",
    "        - include the FLU project\n",
    "        - exclude lab strains\n",
    "        - include vaccine strains\n",
    "        - include lineage defining strains\n",
    "include mixed subtype\n",
    "\n",
    "But download keeps failing via the website (times out). This even happens when reducing to just H1N1 suybtype\n",
    "\n",
    "***\n",
    "\n",
    "This does not seem to be useable\n"
   ]
  },
  {
   "cell_type": "markdown",
   "id": "8e951bed-a0fb-4386-bc2d-2d7e68bcd328",
   "metadata": {},
   "source": [
    "## Download all influenza from NCBI FTP\n",
    "Download the full Influenza file from [NCBI FTP site](https://ftp.ncbi.nih.gov/genomes/INFLUENZA/)"
   ]
  },
  {
   "cell_type": "code",
   "execution_count": 8,
   "id": "781e5511-721b-4bd6-bbe6-b66b00fcea3f",
   "metadata": {},
   "outputs": [],
   "source": [
    "export BASE_DIR=/lustre/scratch126/gsu/team112/personal/fs5/rvi_dev/krakenDBs/kraken_flu/\n",
    "export ALL_INF_LIB=${BASE_DIR}/library_download_all_influenza_ncbi\n",
    "export TAX_PATH=${BASE_DIR}/taxonomy_download/"
   ]
  },
  {
   "cell_type": "code",
   "execution_count": 24,
   "id": "7e83581d-aa5b-4da1-81d6-3d7d307ec1f8",
   "metadata": {},
   "outputs": [],
   "source": [
    "mkdir -p ${ALL_INF_LIB}"
   ]
  },
  {
   "cell_type": "code",
   "execution_count": 21,
   "id": "7aba72cd-de94-4826-9294-a5d7754d9969",
   "metadata": {},
   "outputs": [
    {
     "name": "stdout",
     "output_type": "stream",
     "text": [
      "--2023-12-19 14:54:00--  https://ftp.ncbi.nih.gov/genomes/INFLUENZA/influenza.fna\n",
      "Resolving wwwcache.sanger.ac.uk (wwwcache.sanger.ac.uk)... 172.30.152.200\n",
      "Connecting to wwwcache.sanger.ac.uk (wwwcache.sanger.ac.uk)|172.30.152.200|:3128... connected.\n",
      "Proxy request sent, awaiting response... 200 OK\n",
      "Length: 1429095618 (1.3G)\n",
      "Saving to: ‘influenza.fna’\n",
      "\n",
      "influenza.fna       100%[===================>]   1.33G  39.1MB/s    in 47s     \n",
      "\n",
      "2023-12-19 14:54:47 (29.2 MB/s) - ‘influenza.fna’ saved [1429095618/1429095618]\n",
      "\n"
     ]
    }
   ],
   "source": [
    "cd ${ALL_INF_LIB}\n",
    "wget https://ftp.ncbi.nih.gov/genomes/INFLUENZA/influenza.fna"
   ]
  },
  {
   "cell_type": "markdown",
   "id": "552f734e-37b7-4686-99e9-14499bc29974",
   "metadata": {},
   "source": [
    "## Test: build a database from the NCBI influenza dowbnload\n",
    "This is to make sure that kraken2 can build a database using the donwloaded NCBI influenza FASTA file and the taxonomy data that was previously downloaded. This version of the DB will not have segments as taxa."
   ]
  },
  {
   "cell_type": "markdown",
   "id": "d6f2c8ea-8bd4-4a8a-b1fa-dc9129fd7603",
   "metadata": {},
   "source": [
    "create a direcotry for the DB"
   ]
  },
  {
   "cell_type": "code",
   "execution_count": 12,
   "id": "c42a8896-874b-4b80-8258-43f820ed7616",
   "metadata": {},
   "outputs": [],
   "source": [
    "export ALL_NCBI_TEST_DB=${BASE_DIR}/testdb-allflu-noseg"
   ]
  },
  {
   "cell_type": "code",
   "execution_count": 12,
   "id": "f1c62f50-d9fe-4977-88ce-bd0f311dd1a2",
   "metadata": {},
   "outputs": [],
   "source": [
    "mkdir -p ${ALL_NCBI_TEST_DB}"
   ]
  },
  {
   "cell_type": "markdown",
   "id": "953f43ce-ce1c-42d8-8737-fd619b2405ee",
   "metadata": {},
   "source": [
    "### prime the new DB with viral RefSeq"
   ]
  },
  {
   "cell_type": "code",
   "execution_count": 13,
   "id": "7c3e99d2-846f-44bf-91bb-af5172aa54b7",
   "metadata": {},
   "outputs": [
    {
     "name": "stdout",
     "output_type": "stream",
     "text": [
      "Step 1/2: Performing rsync file transfer of requested files\n",
      "Rsync file transfer complete.\n",
      "Step 2/2: Assigning taxonomic IDs to sequences\n",
      "Processed 14972 projects (18639 sequences, 549.88 Mbp)... done.\n",
      "All files processed, cleaning up extra sequence files... done, library complete.\n",
      "Masking low-complexity regions of downloaded library... done.\n"
     ]
    }
   ],
   "source": [
    "kraken2-build \\\n",
    "    --download-library viral \\\n",
    "    --db ${ALL_NCBI_TEST_DB}"
   ]
  },
  {
   "cell_type": "markdown",
   "id": "c8b8c9b7-6805-43ea-b25b-cdd23278cad4",
   "metadata": {},
   "source": [
    "### add the all-infleunza FASTA file"
   ]
  },
  {
   "cell_type": "code",
   "execution_count": 14,
   "id": "141dd5a0-7b9b-4f96-8cd7-8e2c2a17f50f",
   "metadata": {},
   "outputs": [
    {
     "name": "stdout",
     "output_type": "stream",
     "text": [
      "Masking low-complexity regions of new file... done.\n",
      "Added \"/lustre/scratch126/gsu/team112/personal/fs5/rvi_dev/krakenDBs/kraken_flu//library_download_all_influenza_ncbi/influenza.fna\" to library (/lustre/scratch126/gsu/team112/personal/fs5/rvi_dev/krakenDBs/kraken_flu//testdb-allflu-noseg)\n"
     ]
    }
   ],
   "source": [
    "kraken2-build \\\n",
    "    --add-to-library ${ALL_INF_LIB}/influenza.fna \\\n",
    "    --db ${ALL_NCBI_TEST_DB}"
   ]
  },
  {
   "cell_type": "markdown",
   "id": "a149c8f6-88f6-4aa6-bae9-1d054beead0b",
   "metadata": {},
   "source": [
    "### Copy taxonomy download\n",
    "This was downloaded earlier with krakentools build command, so now we can just copy to the new DB"
   ]
  },
  {
   "cell_type": "code",
   "execution_count": 18,
   "id": "b33a1961-098e-4430-b4e7-0e0bf07c83f2",
   "metadata": {},
   "outputs": [],
   "source": [
    "cp -r ${TAX_PATH}/taxonomy ${ALL_NCBI_TEST_DB}"
   ]
  },
  {
   "cell_type": "code",
   "execution_count": 19,
   "id": "d48e5ac7-570b-4ef9-a4e9-3173a2220523",
   "metadata": {},
   "outputs": [
    {
     "name": "stdout",
     "output_type": "stream",
     "text": [
      "/lustre/scratch126/gsu/team112/personal/fs5/rvi_dev/krakenDBs/kraken_flu//testdb-allflu-noseg\n",
      "├── library\n",
      "│   ├── added\n",
      "│   │   ├── 0WCBagKwHO.fna\n",
      "│   │   ├── 0WCBagKwHO.fna.masked\n",
      "│   │   └── prelim_map_V4K5Ij90bv.txt\n",
      "│   └── viral\n",
      "│       ├── assembly_summary.txt\n",
      "│       ├── library.fna\n",
      "│       ├── library.fna.masked\n",
      "│       ├── manifest.txt\n",
      "│       └── prelim_map.txt\n",
      "└── taxonomy\n",
      "    ├── accmap.dlflag\n",
      "    ├── citations.dmp\n",
      "    ├── delnodes.dmp\n",
      "    ├── division.dmp\n",
      "    ├── gc.prt\n",
      "    ├── gencode.dmp\n",
      "    ├── images.dmp\n",
      "    ├── merged.dmp\n",
      "    ├── names.dmp\n",
      "    ├── nodes.dmp\n",
      "    ├── nucl_gb.accession2taxid\n",
      "    ├── nucl_wgs.accession2taxid\n",
      "    ├── readme.txt\n",
      "    ├── taxdump.dlflag\n",
      "    ├── taxdump.tar.gz\n",
      "    └── taxdump.untarflag\n",
      "\n",
      "4 directories, 24 files\n"
     ]
    }
   ],
   "source": [
    "tree ${ALL_NCBI_TEST_DB}"
   ]
  },
  {
   "cell_type": "markdown",
   "id": "9cf3d231-fd91-4f1e-bbc6-1c3758a1739f",
   "metadata": {},
   "source": [
    "### build the database"
   ]
  },
  {
   "cell_type": "code",
   "execution_count": 20,
   "id": "5ca4eb30-24cb-4bc4-a8e2-96b2ddacb93f",
   "metadata": {},
   "outputs": [
    {
     "name": "stdout",
     "output_type": "stream",
     "text": [
      "Creating sequence ID to taxonomy ID map (step 1)...\n",
      "Found 368575/817587 targets, searched through 177276499 accession IDs...\r"
     ]
    },
    {
     "name": "stderr",
     "output_type": "stream",
     "text": [
      "IOPub message rate exceeded.\n",
      "The Jupyter server will temporarily stop sending output\n",
      "to the client in order to avoid crashing it.\n",
      "To change this limit, set the config variable\n",
      "`--ServerApp.iopub_msg_rate_limit`.\n",
      "\n",
      "Current values:\n",
      "ServerApp.iopub_msg_rate_limit=1000.0 (msgs/sec)\n",
      "ServerApp.rate_limit_window=3.0 (secs)\n",
      "\n"
     ]
    },
    {
     "name": "stdout",
     "output_type": "stream",
     "text": [
      "Found 386193/817587 targets, searched through 181413964 accession IDs...\r"
     ]
    },
    {
     "name": "stderr",
     "output_type": "stream",
     "text": [
      "IOPub message rate exceeded.\n",
      "The Jupyter server will temporarily stop sending output\n",
      "to the client in order to avoid crashing it.\n",
      "To change this limit, set the config variable\n",
      "`--ServerApp.iopub_msg_rate_limit`.\n",
      "\n",
      "Current values:\n",
      "ServerApp.iopub_msg_rate_limit=1000.0 (msgs/sec)\n",
      "ServerApp.rate_limit_window=3.0 (secs)\n",
      "\n"
     ]
    },
    {
     "name": "stdout",
     "output_type": "stream",
     "text": [
      "Completed processing of 836203 sequences, 1850603812 bp accession IDs...\n",
      "Writing data to disk...  complete.\n",
      "Database files completed. [6m54.801s]\n",
      "Database construction complete. [Total: 17m14.131s]\n"
     ]
    }
   ],
   "source": [
    "kraken2-build \\\n",
    "    --build \\\n",
    "    --db ${ALL_NCBI_TEST_DB}"
   ]
  },
  {
   "cell_type": "markdown",
   "id": "2683853d-916f-40bb-873e-25191dd49b68",
   "metadata": {},
   "source": [
    "### Test with simulated data\n",
    "Make sure this database works. As before, use the simulated reads from COVID, RSV and influenza viurses to generate a kraken report.  \n",
    "NOTE: this DB is not to be used in production because it contains incomplete flu genomes which are also not split into segments. "
   ]
  },
  {
   "cell_type": "code",
   "execution_count": 21,
   "id": "af4625e1-694f-4299-8d64-841087b20673",
   "metadata": {},
   "outputs": [],
   "source": [
    "export TEST_BASE_DIR_2=/lustre/scratch126/gsu/team112/personal/fs5/rvi_dev/krakenDBs/kraken_flu_test_allncbi_noseg/"
   ]
  },
  {
   "cell_type": "code",
   "execution_count": 22,
   "id": "7d43f987-2466-4ead-9a62-31f9a3c5e3be",
   "metadata": {},
   "outputs": [],
   "source": [
    "mkdir -p ${TEST_BASE_DIR_2}"
   ]
  },
  {
   "cell_type": "code",
   "execution_count": 23,
   "id": "7eb047a7-bf5a-419b-89f8-7732f14a29fb",
   "metadata": {},
   "outputs": [
    {
     "name": "stdout",
     "output_type": "stream",
     "text": [
      "Loading database information... done.\n",
      "6620 sequences (1.99 Mbp) processed in 0.186s (2135.0 Kseq/m, 640.50 Mbp/m).\n",
      "  6618 sequences classified (99.97%)\n",
      "  2 sequences unclassified (0.03%)\n"
     ]
    }
   ],
   "source": [
    "kraken2 \\\n",
    "    --db ${ALL_NCBI_TEST_DB} \\\n",
    "    --output ${TEST_BASE_DIR_2}/output.kraken \\\n",
    "    --paired \\\n",
    "    --classified-out ${TEST_BASE_DIR_2}/class_seqs#.fq \\\n",
    "    --unclassified-out ${TEST_BASE_DIR_2}/unclass_seqs#.fq \\\n",
    "    --report ${TEST_BASE_DIR_2}/report.txt \\\n",
    "/lustre/scratch126/gsu/team112/personal/fs5/rvi_dev/sim_reads/art/mix/mix_of_all_01-1.fq \\\n",
    "/lustre/scratch126/gsu/team112/personal/fs5/rvi_dev/sim_reads/art/mix/mix_of_all_01-2.fq"
   ]
  },
  {
   "cell_type": "code",
   "execution_count": 25,
   "id": "f141c528-245c-4348-bf56-9f2816d6bb88",
   "metadata": {},
   "outputs": [
    {
     "name": "stdout",
     "output_type": "stream",
     "text": [
      "  0.03\t2\t2\tU\t0\tunclassified\n",
      " 99.97\t6618\t0\tR\t1\troot\n",
      " 99.97\t6618\t0\tD\t10239\t  Viruses\n",
      " 99.97\t6618\t0\tD1\t2559587\t    Riboviria\n",
      " 99.97\t6618\t0\tK\t2732396\t      Orthornavirae\n",
      " 69.91\t4628\t0\tP\t2497569\t        Negarnaviricota\n",
      " 39.43\t2610\t0\tP1\t2497571\t          Polyploviricotina\n",
      " 39.43\t2610\t0\tC\t2497577\t            Insthoviricetes\n",
      " 39.43\t2610\t0\tO\t2499411\t              Articulavirales\n",
      " 39.43\t2610\t0\tF\t11308\t                Orthomyxoviridae\n",
      " 25.53\t1690\t0\tG\t197911\t                  Alphainfluenzavirus\n",
      " 25.53\t1690\t0\tS\t2955291\t                    Alphainfluenzavirus influenzae\n",
      " 25.53\t1690\t1273\tS1\t11320\t                      Influenza A virus\n",
      "  3.96\t262\t118\tS2\t119210\t                        H3N2 subtype\n",
      "  1.37\t91\t91\tS3\t335341\t                          Influenza A virus (A/New York/392/2004(H3N2))\n",
      "  0.03\t2\t2\tS3\t1978707\t                          Influenza A virus (A/Santa Cruz do Sul/LACENRS-913/2011(H3N2))\n",
      "  0.02\t1\t1\tS3\t1517335\t                          Influenza A virus (A/Singapore/H2013.384/2013(H3N2))\n",
      "  0.02\t1\t1\tS3\t327309\t                          Influenza A virus (A/Kinmen/639/04(H3N2))\n",
      "  0.02\t1\t1\tS3\t1909953\t                          Influenza A virus (A/Hawaii/61/2016(H3N2))\n",
      "  0.02\t1\t1\tS3\t2025006\t                          Influenza A virus (A/Kenya/009/2017(H3N2))\n",
      "  0.02\t1\t1\tS3\t1515684\t                          Influenza A virus (A/swine/Guangxi/JGB4/2013(H3N2))\n",
      "  0.02\t1\t1\tS3\t1000838\t                          Influenza A virus (A/Uganda/MUWRP-070/2009(H3N2))\n",
      "  0.02\t1\t1\tS3\t1731044\t                          Influenza A virus (A/California/82/2015(H3N2))\n",
      "  0.02\t1\t1\tS3\t2018281\t                          Influenza A virus (A/Korea/KUMC-GR202/2011(H3N2))\n",
      "  0.02\t1\t1\tS3\t765580\t                          Influenza A virus (A/California/VRDL188/2009(H3N2))\n",
      "  0.02\t1\t1\tS3\t351280\t                          Influenza A virus (A/Memphis/1/1968(H3N2))\n",
      "  0.02\t1\t1\tS3\t1032119\t                          Influenza A virus (A/India/C058671/2005(H3N2))\n",
      "  0.02\t1\t1\tS3\t870460\t                          Influenza A virus (A/swine/Nagano/2000(H3N2))\n",
      "  0.02\t1\t1\tS3\t2015202\t                          Influenza A virus (A/swine/Minnesota/A02216466/2017(H3N2))\n",
      "  0.02\t1\t1\tS3\t2030835\t                          Influenza A virus (A/swine/Alberta/SD0181/2016(H3N2))\n",
      "  0.02\t1\t1\tS3\t383055\t                          Influenza A virus (A/New York/714/1994(H3N2))\n",
      "  0.02\t1\t1\tS3\t438221\t                          Influenza A virus (A/Newcastle/1/2004(H3N2))\n",
      "  0.02\t1\t1\tS3\t353348\t                          Influenza A virus (A/Canterbury/16/2004(H3N2))\n",
      "  0.02\t1\t1\tS3\t661543\t                          Influenza A virus (A/Taiwan/F197/2009(H3N2))\n",
      "  0.02\t1\t1\tS3\t355486\t                          Influenza A virus (A/New York/518/1998(H3N2))\n",
      "  0.02\t1\t1\tS3\t253678\t                          Influenza A virus (A/swine/Hong Kong/1311/01(H3N2))\n",
      "  0.02\t1\t1\tS3\t1032134\t                          Influenza A virus (A/India/C087864/2008(H3N2))\n",
      "  0.02\t1\t1\tS3\t1212700\t                          Influenza A virus (A/swine/Missouri/A01241619/2012(H3N2))\n",
      "  0.02\t1\t1\tS3\t1517285\t                          Influenza A virus (A/Singapore/C2012.197/2012(H3N2))\n",
      "  0.02\t1\t1\tS3\t1004616\t                          Influenza A virus (A/Texas/NHRC0002/2005(H3N2))\n",
      "  0.02\t1\t1\tS3\t1503104\t                          Influenza A virus (A/swine/Italy/282811/2013(H3N2))\n",
      "  0.02\t1\t1\tS3\t1214139\t                          Influenza A virus (A/swine/Guangdong/L5/2010(H3N2))\n",
      "  0.02\t1\t1\tS3\t1261885\t                          Influenza A virus (A/swine/Nebraska/00386/2004(H3N2))\n",
      "  0.02\t1\t1\tS3\t1348507\t                          Influenza A virus (A/swine/Henan/1/2010(H3N2))\n",
      "  0.02\t1\t1\tS3\t1108824\t                          Influenza A virus (A/Mexico/InDRE2118/2005(H3N2))\n",
      "  0.02\t1\t1\tS3\t2032953\t                          Influenza A virus (A/swine/Saskatchewan/SD0118/2015(H3N2))\n",
      "  0.02\t1\t1\tS3\t1788650\t                          Influenza A virus (A/Florida/81/2015(H3N2))\n",
      "  0.02\t1\t1\tS3\t1317939\t                          Influenza A virus (A/Alaska/13/2011(H3N2))\n",
      "  0.02\t1\t1\tS3\t1426058\t                          Influenza A virus (A/swine/South Dakota/SG1453/2003(H3N2))\n",
      "  0.02\t1\t1\tS3\t586210\t                          Influenza A virus (A/Hong Kong/HKU72/2005(H3N2))\n",
      "  0.02\t1\t1\tS3\t1468704\t                          Influenza A virus (A/New York/1022/2006(H3N2))\n",
      "  0.02\t1\t1\tS3\t353365\t                          Influenza A virus (A/Canterbury/109/2004(H3N2))\n",
      "  0.02\t1\t1\tS3\t353484\t                          Influenza A virus (A/Canterbury/270/2005(H3N2))\n",
      "  0.02\t1\t1\tS3\t401396\t                          Influenza A virus (A/Niigata/F183/2006(H3N2))\n",
      "  0.02\t1\t1\tS3\t679739\t                          Influenza A virus (A/New York/3932/2009(H3N2))\n",
      "  0.02\t1\t1\tS3\t1194147\t                          Influenza A virus (A/swine/Guangdong/L21/2011(H3N2))\n",
      "  0.02\t1\t1\tS3\t383220\t                          Influenza A virus (A/Waikato/139/2003(H3N2))\n",
      "  0.02\t1\t1\tS3\t594673\t                          Influenza A virus (A/swine/Thailand/S1/2005(H3N2))\n",
      "  0.02\t1\t1\tS3\t311757\t                          Influenza A virus (A/New York/184/1999(H3N2))\n",
      "  0.02\t1\t1\tS3\t383569\t                          Influenza A virus (A/Shanghai/31/1980(H3N2))\n",
      "  0.02\t1\t1\tS3\t1454183\t                          Influenza A virus (A/Asturias/1324407/2013(H3N2))\n",
      "  0.02\t1\t1\tS3\t1043109\t                          Influenza A virus (A/Taiwan/393/2004(H3N2))\n",
      "  0.02\t1\t1\tS3\t2036952\t                          Influenza A virus (A/swine/North Carolina/A02219753/2017(H3N2))\n",
      "  0.02\t1\t1\tS3\t443875\t                          Influenza A virus (A/swine/Guangdong/SGD6(H3N2))\n",
      "  0.02\t1\t1\tS3\t486628\t                          Influenza A virus (A/swine/Guangdong/165/06(H3N2))\n",
      "  0.02\t1\t1\tS3\t1462143\t                          Influenza A virus (A/Boston/YGA_01214/2013(H3N2))\n",
      "  0.02\t1\t1\tS3\t1041906\t                          Influenza A virus (A/duck/Korea/U14-2/2007(H3N2))\n",
      "  1.75\t116\t44\tS2\t114727\t                        H1N1 subtype\n",
      "  0.20\t13\t13\tS3\t641809\t                          Influenza A virus (A/California/07/2009(H1N1))\n",
      "  0.03\t2\t2\tS3\t860534\t                          Influenza A virus (A/Thailand/CU-MV28/2010(H1N1))\n",
      "  0.03\t2\t2\tS3\t930810\t                          Influenza A virus (A/Jiangsu/S62/2009(H1N1))\n",
      "  0.02\t1\t1\tS3\t714246\t                          Influenza A virus (A/District of Columbia/INS23/2009(H1N1))\n",
      "  0.02\t1\t1\tS3\t988486\t                          Influenza A virus (A/India/NIV30179/2010(H1N1))\n",
      "  0.02\t1\t1\tS3\t1071323\t                          Influenza A virus (A/Zhejiang/3/2009(H1N1))\n",
      "  0.02\t1\t1\tS3\t1820568\t                          Influenza A virus (A/swine/Mexico/AVX42/2012(H1N1))\n",
      "  0.02\t1\t1\tS3\t1305570\t                          Influenza A virus (A/Wisconsin/53/2009(H1N1))\n",
      "  0.02\t1\t1\tS3\t1086543\t                          Influenza A virus (A/swine/Holguin/121/2010(H1N1))\n",
      "  0.02\t1\t1\tS3\t1262170\t                          Influenza A virus (A/swine/Minnesota/A01279213/2012(H1N1))\n",
      "  0.02\t1\t1\tS3\t416705\t                          Influenza A virus (A/Memphis/38/1983(H1N1))\n",
      "  0.02\t1\t1\tS3\t1073457\t                          Influenza A virus (A/swine/Illinois/SG1141/2003(H1N1))\n",
      "  0.02\t1\t1\tS3\t1396475\t                          Influenza A virus (A/Santa Cruz/995/2010(H1N1))\n",
      "  0.02\t1\t1\tS3\t1193849\t                          Influenza A virus (A/swine/Illinois/A01202615/2011(H1N1))\n",
      "  0.02\t1\t1\tS3\t1823892\t                          Influenza A virus (A/Idaho/42/2015(H1N1))\n",
      "  0.02\t1\t1\tS3\t1071485\t                          Influenza A virus (A/Zhejiang/X1/2009(H1N1))\n",
      "  0.02\t1\t1\tS3\t1406989\t                          Influenza A virus (A/swine/Illinois/A01290499/2013(H1N1))\n",
      "  0.02\t1\t1\tS3\t2060339\t                          Influenza A virus (A/California/07-00013/2009(H1N1))\n",
      "  0.02\t1\t1\tS3\t1648080\t                          Influenza A virus (A/Mexico/200130/2014(H1N1))\n",
      "  0.02\t1\t1\tS3\t1638892\t                          Influenza A virus (A/India/Pun151245/2015(H1N1))\n",
      "  0.02\t1\t1\tS3\t1910095\t                          Influenza A virus (A/New York/79/2016(H1N1))\n",
      "  0.02\t1\t1\tS3\t1501722\t                          Influenza A virus (A/Sri Lanka/19/2012(H1N1))\n",
      "  0.02\t1\t1\tS3\t723783\t                          Influenza A virus (A/Wisconsin/629-D00459/2009(H1N1))\n",
      "  0.02\t1\t1\tS3\t1501719\t                          Influenza A virus (A/Sri Lanka/11/2012(H1N1))\n",
      "  0.02\t1\t1\tS3\t1081398\t                          Influenza A virus (A/swine/North Carolina/18161/2002(H1N1))\n",
      "  0.02\t1\t1\tS3\t1421628\t                          Influenza A virus (A/Thailand/SirirajICRC_NMA_9/2011(H1N1))\n",
      "  0.02\t1\t1\tS3\t1184697\t                          Influenza A virus (A/Mexico/UASLP-023/2009(H1N1))\n",
      "  0.02\t1\t1\tS3\t1432601\t                          Influenza A virus (A/swine/Minnesota/SG1235/2005(H1N1))\n",
      "  0.02\t1\t1\tS3\t232234\t                          Influenza A virus (A/Fiji/15899/83(H1N1))\n",
      "  0.02\t1\t1\tS3\t1654287\t                          Influenza A virus (A/swine/Poland/16315/2011(H1N1))\n",
      "  0.02\t1\t1\tS3\t1873091\t                          Influenza A virus (A/California/NHRC_FDX11908/2016(H1N1))\n",
      "  0.02\t1\t1\tS3\t857483\t                          Influenza A virus (A/Iran/1519/2009(H1N1))\n",
      "  0.02\t1\t1\tS3\t1540726\t                          Influenza A virus (A/swine/North Carolina/A01476202/2014(H1N1))\n",
      "  0.02\t1\t1\tS3\t1511957\t                          Influenza A virus (A/swine/Guangdong/NS2801/2010(H1N1))\n",
      "  0.02\t1\t1\tS3\t1108820\t                          Influenza A virus (A/Mexico City/INER16/2009(H1N1))\n",
      "  0.02\t1\t1\tS3\t752156\t                          Influenza A virus (A/Wisconsin/629-D02442/2009(H1N1))\n",
      "  0.02\t1\t1\tS3\t653947\t                          Influenza A virus (A/Castro/JXP/2009(H1N1))\n",
      "  0.02\t1\t1\tS3\t1364900\t                          Influenza A virus (A/Qingdao/F404/2011(H1N1))\n",
      "  0.02\t1\t1\tS3\t1487156\t                          Influenza A virus (A/Uganda/MUWRP-069/2009(H1N1))\n",
      "  0.02\t1\t1\tS3\t1929430\t                          Influenza A virus (A/swine/France/35-160126/2016(H1N1))\n",
      "  0.02\t1\t1\tS3\t679811\t                          Influenza A virus (A/Wisconsin/629-D01903/2009(H1N1))\n",
      "  0.02\t1\t1\tS3\t1140177\t                          Influenza A virus (A/Scotland/EastKilbride_420703/2009(H1N1))\n",
      "  0.02\t1\t1\tS3\t1510478\t                          Influenza A virus (A/Bangkok/SIMI503/2010(H1N1))\n",
      "  0.02\t1\t1\tS3\t761202\t                          Influenza A virus (A/Blagovechensk/01/2009(H1N1))\n",
      "  0.02\t1\t1\tS3\t652936\t                          Influenza A virus (A/Sakai/2/2009(H1N1))\n",
      "  0.02\t1\t1\tS3\t991149\t                          Influenza A virus (A/swine/Minnesota/226128/2010(H1N1))\n",
      "  0.02\t1\t1\tS3\t1305391\t                          Influenza A virus (A/North Dakota/15/2009(H1N1))\n",
      "  0.02\t1\t1\tS3\t1501763\t                          Influenza A virus (A/swine/Sri Lanka/62/2011(H1N1))\n",
      "  0.02\t1\t1\tS3\t1315809\t                          Influenza A virus (A/swine/Thailand/CB228/2010(H1N1))\n",
      "  0.02\t1\t1\tS3\t978110\t                          Influenza A virus (A/India/GWL_DSC/2010(H1N1))\n",
      "  0.02\t1\t1\tS3\t1348883\t                          Influenza A virus (A/India/Nag132467/2013(H1N1))\n",
      "  0.02\t1\t1\tS3\t985928\t                          Influenza A virus (A/South Carolina/WRAIR1645P/2009(H1N1))\n",
      "  0.02\t1\t1\tS3\t710662\t                          Influenza A virus (A/Kurgan/01/2009(H1N1))\n",
      "  0.02\t1\t1\tS3\t723731\t                          Influenza A virus (A/Wisconsin/629-D00938/2009(H1N1))\n",
      "  0.02\t1\t1\tS3\t608585\t                          Influenza A virus (A/swine/Taichung/E3/1992(H1N1))\n",
      "  0.02\t1\t1\tS3\t885193\t                          Influenza A virus (A/Canada-NFL/RV2509/2009(H1N1))\n",
      "  0.02\t1\t1\tS3\t608582\t                          Influenza A virus (A/swine/Pingtung/64-26/2007(H1N1))\n",
      "  0.02\t1\t1\tS3\t1490473\t                          Influenza A virus (A/swine/Guangxi/1/2013(H1N1))\n",
      "  0.18\t12\t10\tS2\t102797\t                        Influenza A virus with incomplete names\n",
      "  0.02\t1\t1\tS3\t727907\t                          Influenza A virus (A/Eurasian wigeon/Shanghai/47F/2008)\n",
      "  0.02\t1\t1\tS3\t1246652\t                          Influenza A virus (A/Aarhus/INS611/2011)\n",
      "  0.12\t8\t1\tS2\t114728\t                        H1N2 subtype\n",
      "  0.02\t1\t1\tS3\t1755985\t                          Influenza A virus (A/swine/North Carolina/A01945748/2015(H1N2))\n",
      "  0.02\t1\t1\tS3\t1470860\t                          Influenza A virus (A/swine/Kansas/12-117893/2012(H1N2))\n",
      "  0.02\t1\t1\tS3\t1654149\t                          Influenza A virus (A/swine/England/61470/2013(H1N2))\n",
      "  0.02\t1\t1\tS3\t1512238\t                          Influenza A virus (A/swine/Hong Kong/NS26/2012(H1N2))\n",
      "  0.02\t1\t1\tS3\t649633\t                          Influenza A virus (A/swine/Hong Kong/78/2003(H1N2))\n",
      "  0.02\t1\t1\tS3\t1261826\t                          Influenza A virus (A/swine/Minnesota/SG1395/2011(H1N2))\n",
      "  0.02\t1\t1\tS3\t1114925\t                          Influenza A virus (A/swine/Minnesota/0745/2010(H1N2))\n",
      "  0.08\t5\t1\tS2\t102793\t                        H5N1 subtype\n",
      "  0.02\t1\t1\tS3\t690998\t                          Influenza A virus (A/chicken/Jakarta/DKI-Nurs/2007(H5N1))\n",
      "  0.02\t1\t1\tS3\t196425\t                          Influenza A virus (A/Chicken/Hong Kong/FY77/01 (H5N1))\n",
      "  0.02\t1\t1\tS3\t762385\t                          Influenza A virus (A/chicken/Henan/A-7/2006(H5N1))\n",
      "  0.02\t1\t1\tS3\t496757\t                          Influenza A virus (A/duck/Hunan/1386/2003(H5N1))\n",
      "  0.03\t2\t1\tS2\t102796\t                        H9N2 subtype\n",
      "  0.02\t1\t1\tS3\t1870773\t                          Influenza A virus (A/turkey/Poland/14/2013(H9N2))\n",
      "  0.03\t2\t1\tS2\t102800\t                        H4N6 subtype\n",
      "  0.02\t1\t1\tS3\t1202640\t                          Influenza A virus (A/American black duck/New Brunswick/03554/2009(H4N6))\n",
      "  0.02\t1\t0\tS2\t119212\t                        H6N1 subtype\n",
      "  0.02\t1\t1\tS3\t1038310\t                          Influenza A virus (A/mallard/California/6744/2009(H6N1))\n",
      "  0.02\t1\t0\tS2\t222769\t                        H6N6 subtype\n",
      "  0.02\t1\t1\tS3\t1454277\t                          Influenza A virus (A/chicken/Guangxi/S4029/2010(H6N6))\n",
      "  0.02\t1\t0\tS2\t140020\t                        H5N9 subtype\n",
      "  0.02\t1\t1\tS3\t1267699\t                          Influenza A virus (A/mallard/Missouri/10MO084/2010(H5N9))\n",
      "  0.02\t1\t0\tS2\t119218\t                        H7N7 subtype\n",
      "  0.02\t1\t1\tS3\t382785\t                          Influenza A virus (A/fowl/Dobson(H7N7))\n",
      "  0.02\t1\t1\tS2\t142951\t                        H12N5 subtype\n",
      "  0.02\t1\t0\tS2\t384619\t                        mixed subtypes\n",
      "  0.02\t1\t1\tS3\t1174538\t                          Influenza A virus (A/Malaysia/23721/2002(mixed))\n",
      "  0.02\t1\t1\tS2\t119214\t                        H7N2 subtype\n",
      "  0.02\t1\t0\tS2\t119211\t                        H3N8 subtype\n",
      "  0.02\t1\t1\tS3\t1322665\t                          Influenza A virus (A/northern pintail/Interior Alaska/9BM11789R0/2009(H3N8))\n",
      "  0.02\t1\t0\tS2\t184006\t                        H6N5 subtype\n",
      "  0.02\t1\t1\tS3\t1935477\t                          Influenza A virus (A/blue winged teal/Missouri/14OS1960/2013(H6N5))\n",
      "  0.02\t1\t0\tS2\t437442\t                        H11N7 subtype\n",
      "  0.02\t1\t1\tS3\t1698340\t                          Influenza A virus (A/duck/Vietnam/HU1-151/2014(H11N7))\n",
      " 13.90\t920\t0\tG\t197912\t                  Betainfluenzavirus\n",
      " 13.90\t920\t0\tS\t2955465\t                    Betainfluenzavirus influenzae\n",
      " 13.90\t920\t797\tS1\t11520\t                      Influenza B virus\n",
      "  1.50\t99\t99\tS2\t518987\t                        Influenza B virus (B/Lee/1940)\n",
      "  0.02\t1\t1\tS2\t416662\t                        Influenza B virus (B/Hong Kong/167/2002)\n",
      "  0.02\t1\t1\tS2\t1468795\t                        Influenza B virus (B/New York/1005/1995)\n",
      "  0.02\t1\t1\tS2\t1774466\t                        Influenza B virus (B/Philippines/17/2013)\n",
      "  0.02\t1\t1\tS2\t1621975\t                        Influenza B virus (B/Alberta/07/2014)\n",
      "  0.02\t1\t1\tS2\t1733723\t                        Influenza B virus (B/Montana/03/2014)\n",
      "  0.02\t1\t1\tS2\t107410\t                        Influenza B virus (B/Henan/22/97)\n",
      "  0.02\t1\t1\tS2\t1462188\t                        Influenza B virus (B/Boston/YGB_01058/2013)\n",
      "  0.02\t1\t1\tS2\t1001799\t                        Influenza B virus (B/Yokohama/12/2005)\n",
      "  0.02\t1\t1\tS2\t1321231\t                        Influenza B virus (B/Wisconsin/04/2012)\n",
      "  0.02\t1\t1\tS2\t385996\t                        Influenza B virus (B/Taiwan/N798/05)\n",
      "  0.02\t1\t1\tS2\t1468829\t                        Influenza B virus (B/New York/1039/2001)\n",
      "  0.02\t1\t1\tS2\t1757490\t                        Influenza B virus (B/Darwin/31/2013)\n",
      "  0.02\t1\t1\tS2\t1468832\t                        Influenza B virus (B/New York/1042/2001)\n",
      "  0.02\t1\t1\tS2\t1296967\t                        Influenza B virus (B/Wellington/02/2004)\n",
      "  0.02\t1\t1\tS2\t1321196\t                        Influenza B virus (B/South Carolina/03/2012)\n",
      "  0.02\t1\t1\tS2\t1275507\t                        Influenza B virus (B/Townsville/11/2002)\n",
      "  0.02\t1\t1\tS2\t1468838\t                        Influenza B virus (B/New York/1048/2002)\n",
      "  0.02\t1\t1\tS2\t164554\t                        Influenza B virus (B/Beijing/43/75)\n",
      "  0.02\t1\t1\tS2\t2051237\t                        Influenza B virus (B/Arizona/64/2017)\n",
      "  0.02\t1\t1\tS2\t1757505\t                        Influenza B virus (B/Hawkes Bay/6/2013)\n",
      "  0.02\t1\t1\tS2\t416664\t                        Influenza B virus (B/Chile/3162/2002)\n",
      "  0.02\t1\t1\tS2\t1640840\t                        Influenza B virus (B/Malaysia/U3901/2014)\n",
      "  0.02\t1\t1\tS2\t444325\t                        Influenza B virus (B/Russia/69)\n",
      "  0.02\t1\t1\tS2\t230285\t                        Influenza B virus (B/Bonn/43)\n",
      " 30.48\t2018\t0\tP1\t2497570\t          Haploviricotina\n",
      " 30.48\t2018\t0\tC\t2497574\t            Monjiviricetes\n",
      " 30.48\t2018\t0\tO\t11157\t              Mononegavirales\n",
      " 30.48\t2018\t0\tF\t11244\t                Pneumoviridae\n",
      " 30.48\t2018\t2\tG\t1868215\t                  Orthopneumovirus\n",
      " 15.24\t1009\t0\tS\t3049954\t                    Orthopneumovirus hominis\n",
      " 15.24\t1009\t1009\tS1\t11250\t                      Human orthopneumovirus\n",
      " 15.21\t1007\t0\tS\t3050248\t                    Orthopneumovirus bovis\n",
      " 15.21\t1007\t0\tS1\t11246\t                      Bovine orthopneumovirus\n",
      " 15.21\t1007\t1007\tS2\t12814\t                        Respiratory syncytial virus\n",
      " 30.06\t1990\t0\tP\t2732408\t        Pisuviricota\n",
      " 30.06\t1990\t0\tC\t2732506\t          Pisoniviricetes\n",
      " 30.06\t1990\t0\tO\t76804\t            Nidovirales\n",
      " 30.06\t1990\t0\tO1\t2499399\t              Cornidovirineae\n",
      " 30.06\t1990\t0\tF\t11118\t                Coronaviridae\n",
      " 30.06\t1990\t0\tF1\t2501931\t                  Orthocoronavirinae\n",
      " 30.06\t1990\t0\tG\t694002\t                    Betacoronavirus\n",
      " 30.06\t1990\t0\tG1\t2509511\t                      Sarbecovirus\n",
      " 30.06\t1990\t0\tS\t694009\t                        Severe acute respiratory syndrome-related coronavirus\n",
      " 30.06\t1990\t1990\tS1\t2697049\t                          Severe acute respiratory syndrome coronavirus 2\n"
     ]
    }
   ],
   "source": [
    "cat ${TEST_BASE_DIR_2}/report.txt "
   ]
  },
  {
   "cell_type": "markdown",
   "id": "230a1e22-8493-4e6b-8eee-9f50ff53f08c",
   "metadata": {},
   "source": [
    "### Conclusions\n",
    "Combining the kraken2 pre-bult NCBI viral RefSeq data with the complete NCBI influenza genome file in one database has been successful.\n",
    "\n",
    "The fact that some genomes are present in both, the RefSeq set and the complete influenza genomes, has not caused any issues for kraken2. It seems that such suplication is dealt with at the database building step.\n",
    "\n",
    "This test shows that the large NCBI influenza genomes file can be used successfully to build a kraken2 database, including the lookup of the taxonomy data, and that it can be combined with the RefSeq data. \n",
    "\n",
    "In the next step, we need to apply the kraken_flu tool to the NCBI influenza data and the RefSeq data to split influenza genomes into segments"
   ]
  },
  {
   "cell_type": "markdown",
   "id": "50da0bea-5d0b-48ff-a0ac-c40b917930e4",
   "metadata": {},
   "source": [
    "## Build DB with only NCBI all influenza dataset but split into segments\n",
    "This is a further test to confirm that a segmented \"all influenza\" dataset will work. This DB does not yet contain vire RefSeq. In contrast to the above version, this DB has the influenza genomes split into segments.\n",
    "\n",
    "Name of the database: testdb-allncbiflu-norefseq\n"
   ]
  },
  {
   "cell_type": "code",
   "execution_count": 5,
   "id": "29c784d4-57db-45f9-aaa8-897a5ef27d5d",
   "metadata": {},
   "outputs": [
    {
     "name": "stdout",
     "output_type": "stream",
     "text": [
      "/lustre/scratch126/gsu/team112/personal/fs5/rvi_dev/krakenDBs/kraken_flu//testdb-allncbiflu-norefseq\n"
     ]
    }
   ],
   "source": [
    "# path to the new DB\n",
    "echo ${BASE_DIR}/testdb-allncbiflu-norefseq"
   ]
  },
  {
   "cell_type": "code",
   "execution_count": 13,
   "id": "95fe225c-050b-4932-aac2-a9191fef4b63",
   "metadata": {},
   "outputs": [],
   "source": [
    "mkdir -p ${BASE_DIR}/testdb-allncbiflu-norefseq"
   ]
  },
  {
   "cell_type": "markdown",
   "id": "dafe7ea9-61dc-4440-8b06-fba8510ef1df",
   "metadata": {},
   "source": [
    "### Filter the NCBI infuenza genomes\n",
    "Use the filter function to discard all non-complete gnomes from the NCBI file. Using the ```--discard_duplicates``` option to ignore (and discard) records where the virus name and segment number is not unique. Such cases are (usually) partial sequences of the different genes on the same segment and we are not interested in such partial segments in any case.   \n",
    "\n",
    "The output file has to be named 'library.fna' as this file is expected by the 2nd step."
   ]
  },
  {
   "cell_type": "code",
   "execution_count": 9,
   "id": "4868bcda-1548-45f5-9fc2-e59a5576f531",
   "metadata": {},
   "outputs": [
    {
     "name": "stdout",
     "output_type": "stream",
     "text": [
      "2024-01-15 19:23:56,397 scanning file /lustre/scratch126/gsu/team112/personal/fs5/rvi_dev/krakenDBs/kraken_flu//library_download_all_influenza_ncbi/influenza.fna for FASTA headers with accepted pattern\n",
      "2024-01-15 19:24:06,528 found 106374 genomes (unique names) before filtering\n",
      "2024-01-15 19:24:06,713 341264 FASTA records pass the filters and will be written to output file\n",
      "2024-01-15 19:24:06,795 starting to write filtered genomes to /lustre/scratch126/gsu/team112/personal/fs5/rvi_dev/krakenDBs/kraken_flu//library_download_all_influenza_ncbi/library.fna\n",
      "2024-01-15 19:24:14,823 finished writing filtered genomes to /lustre/scratch126/gsu/team112/personal/fs5/rvi_dev/krakenDBs/kraken_flu//library_download_all_influenza_ncbi/library.fna\n"
     ]
    }
   ],
   "source": [
    "~/kraken_flu/bin/kraken_flu filter \\\n",
    "    --in_fasta ${ALL_INF_LIB}/influenza.fna \\\n",
    "    --out_fasta ${ALL_INF_LIB}/library.fna \\\n",
    "    --discard_duplicates"
   ]
  },
  {
   "cell_type": "markdown",
   "id": "6a0b483e-62e0-4907-a06c-b74b0bc56cc2",
   "metadata": {},
   "source": [
    "### Create the segmented genome files\n",
    "Use the build function of kraken_flu to create the segment genome file.  \n",
    "The ```library_path``` is the one used above to create the filtere all-NCBI influenza genomes file. The build tool expects a file ```library.fna``` in this folder, which is how the file was named in the above filter command.  \n",
    "\n",
    "The --acc2taxid parameter is needed in this case because the sequences from the Influenza resource do not have a taxid in the FASTA header and need their taxid looked up in this foile from NCBI."
   ]
  },
  {
   "cell_type": "code",
   "execution_count": 18,
   "id": "11656da6-7ccc-4d56-a76a-4e56e014337f",
   "metadata": {},
   "outputs": [
    {
     "name": "stdout",
     "output_type": "stream",
     "text": [
      "2024-01-15 19:37:34,358 writing modified FASTA file to /lustre/scratch126/gsu/team112/personal/fs5/rvi_dev/krakenDBs/kraken_flu//testdb-allncbiflu-norefseq/library/library.fna\n",
      "2024-01-15 19:37:34,368 scanning file /lustre/scratch126/gsu/team112/personal/fs5/rvi_dev/krakenDBs/kraken_flu//library_download_all_influenza_ncbi/library.fna for influenza viruses\n",
      "2024-01-15 19:37:37,618 done - found 243752 segment sequences in FASTA file\n",
      "2024-01-15 19:37:37,618 reading NCBI acc2taxid file to assign taxon IDs to NCBI IDs\n",
      "2024-01-15 19:42:51,637 done reading NCBI acc2taxid file\n",
      "2024-01-15 19:42:59,186 finished writing modified FASTA file\n",
      "2024-01-15 19:42:59,186 no prelim_map.txt file provided in inputs - nothing to do\n",
      "2024-01-15 19:42:59,604 writing modified names file to /lustre/scratch126/gsu/team112/personal/fs5/rvi_dev/krakenDBs/kraken_flu//testdb-allncbiflu-norefseq/taxonomy/names.dmp\n",
      "2024-01-15 19:42:59,906 finished writing modified names file\n",
      "2024-01-15 19:43:00,290 writing modified nodes file to /lustre/scratch126/gsu/team112/personal/fs5/rvi_dev/krakenDBs/kraken_flu//testdb-allncbiflu-norefseq/taxonomy/nodes.dmp\n",
      "2024-01-15 19:43:00,752 finished writing modified nodes file\n"
     ]
    }
   ],
   "source": [
    "~/kraken_flu/bin/kraken_flu build \\\n",
    "    --library_path ${ALL_INF_LIB} \\\n",
    "    --taxonomy_path ${TAX_PATH}/taxonomy \\\n",
    "    --acc2tax_path ${TAX_PATH}/taxonomy/nucl_gb.accession2taxid \\\n",
    "    --out_dir ${BASE_DIR}/testdb-allncbiflu-norefseq"
   ]
  },
  {
   "cell_type": "markdown",
   "id": "7670912b-c4ea-40a9-bd93-febd8d2bf748",
   "metadata": {},
   "source": [
    "### Add the segmented influenza genome file to DB\n",
    "Add the modified NCBI influenza FASTA file to the DB (creates some required files)"
   ]
  },
  {
   "cell_type": "code",
   "execution_count": 20,
   "id": "a82c6219-7edd-4dd8-ab8a-bc54d2464c89",
   "metadata": {},
   "outputs": [
    {
     "name": "stdout",
     "output_type": "stream",
     "text": [
      "Masking low-complexity regions of new file... done.\n",
      "Added \"/lustre/scratch126/gsu/team112/personal/fs5/rvi_dev/krakenDBs/kraken_flu//testdb-allncbiflu-norefseq/library/library.fna\" to library (/lustre/scratch126/gsu/team112/personal/fs5/rvi_dev/krakenDBs/kraken_flu//testdb-allncbiflu-norefseq)\n"
     ]
    }
   ],
   "source": [
    "kraken2-build \\\n",
    "    --add-to-library ${BASE_DIR}/testdb-allncbiflu-norefseq/library/library.fna \\\n",
    "    --db ${BASE_DIR}/testdb-allncbiflu-norefseq"
   ]
  },
  {
   "cell_type": "markdown",
   "id": "611e8dbd-6bbc-44de-aebb-6a1f9ce4b695",
   "metadata": {},
   "source": [
    "### add seqid2taxid file\n",
    "Provide as a symlink. Not clear why it is needed. All sequences in this file have a taxid already in the FASTA header but kraken2 insists to have this file"
   ]
  },
  {
   "cell_type": "code",
   "execution_count": 23,
   "id": "854ce572-6c0c-42ac-aa21-d2098c562c25",
   "metadata": {},
   "outputs": [],
   "source": [
    "ln -s ${TAX_PATH}/taxonomy/nucl_gb.accession2taxid ${BASE_DIR}/testdb-allncbiflu-norefseq/taxonomy/nucl_gb.accession2taxid"
   ]
  },
  {
   "cell_type": "code",
   "execution_count": 24,
   "id": "9b410db6-b35d-435c-944b-46699d2ea5c3",
   "metadata": {},
   "outputs": [
    {
     "name": "stdout",
     "output_type": "stream",
     "text": [
      "/lustre/scratch126/gsu/team112/personal/fs5/rvi_dev/krakenDBs/kraken_flu//testdb-allncbiflu-norefseq\n",
      "├── accmap_file.tmp\n",
      "├── library\n",
      "│   ├── added\n",
      "│   │   ├── prelim_map.txt\n",
      "│   │   ├── prelim_map_UAuqUhkrKx.txt\n",
      "│   │   ├── _u5SU89tL6.fna\n",
      "│   │   └── _u5SU89tL6.fna.masked\n",
      "│   └── library.fna\n",
      "├── seqid2taxid.map.tmp\n",
      "└── taxonomy\n",
      "    ├── names.dmp\n",
      "    ├── nodes.dmp\n",
      "    ├── nucl_gb.accession2taxid -> /lustre/scratch126/gsu/team112/personal/fs5/rvi_dev/krakenDBs/kraken_flu//taxonomy_download//taxonomy/nucl_gb.accession2taxid\n",
      "    └── prelim_map.txt\n",
      "\n",
      "3 directories, 11 files\n"
     ]
    }
   ],
   "source": [
    "tree ${BASE_DIR}/testdb-allncbiflu-norefseq"
   ]
  },
  {
   "cell_type": "markdown",
   "id": "26fb191d-16d4-46f1-a576-431a387a28ed",
   "metadata": {},
   "source": [
    "### build the database"
   ]
  },
  {
   "cell_type": "code",
   "execution_count": 25,
   "id": "4b6dd378-b245-442d-94e0-3093382712b9",
   "metadata": {},
   "outputs": [
    {
     "name": "stdout",
     "output_type": "stream",
     "text": [
      "Creating sequence ID to taxonomy ID map (step 1)...\n",
      "Found 3651/97512 targets, searched through 51292657 accession IDs...\r"
     ]
    },
    {
     "name": "stderr",
     "output_type": "stream",
     "text": [
      "IOPub message rate exceeded.\n",
      "The Jupyter server will temporarily stop sending output\n",
      "to the client in order to avoid crashing it.\n",
      "To change this limit, set the config variable\n",
      "`--ServerApp.iopub_msg_rate_limit`.\n",
      "\n",
      "Current values:\n",
      "ServerApp.iopub_msg_rate_limit=1000.0 (msgs/sec)\n",
      "ServerApp.rate_limit_window=3.0 (secs)\n",
      "\n"
     ]
    },
    {
     "name": "stdout",
     "output_type": "stream",
     "text": [
      "Found 7494/97512 targets, searched through 51305306 accession IDs...\r"
     ]
    },
    {
     "name": "stderr",
     "output_type": "stream",
     "text": [
      "IOPub message rate exceeded.\n",
      "The Jupyter server will temporarily stop sending output\n",
      "to the client in order to avoid crashing it.\n",
      "To change this limit, set the config variable\n",
      "`--ServerApp.iopub_msg_rate_limit`.\n",
      "\n",
      "Current values:\n",
      "ServerApp.iopub_msg_rate_limit=1000.0 (msgs/sec)\n",
      "ServerApp.rate_limit_window=3.0 (secs)\n",
      "\n"
     ]
    },
    {
     "name": "stdout",
     "output_type": "stream",
     "text": [
      "Found 12169/97512 targets, searched through 51348529 accession IDs...\r"
     ]
    },
    {
     "name": "stderr",
     "output_type": "stream",
     "text": [
      "IOPub message rate exceeded.\n",
      "The Jupyter server will temporarily stop sending output\n",
      "to the client in order to avoid crashing it.\n",
      "To change this limit, set the config variable\n",
      "`--ServerApp.iopub_msg_rate_limit`.\n",
      "\n",
      "Current values:\n",
      "ServerApp.iopub_msg_rate_limit=1000.0 (msgs/sec)\n",
      "ServerApp.rate_limit_window=3.0 (secs)\n",
      "\n"
     ]
    },
    {
     "name": "stdout",
     "output_type": "stream",
     "text": [
      "Found 25134/97512 targets, searched through 181859179 accession IDs...\r"
     ]
    },
    {
     "name": "stderr",
     "output_type": "stream",
     "text": [
      "IOPub message rate exceeded.\n",
      "The Jupyter server will temporarily stop sending output\n",
      "to the client in order to avoid crashing it.\n",
      "To change this limit, set the config variable\n",
      "`--ServerApp.iopub_msg_rate_limit`.\n",
      "\n",
      "Current values:\n",
      "ServerApp.iopub_msg_rate_limit=1000.0 (msgs/sec)\n",
      "ServerApp.rate_limit_window=3.0 (secs)\n",
      "\n"
     ]
    },
    {
     "name": "stdout",
     "output_type": "stream",
     "text": [
      "Found 28932/97512 targets, searched through 185313262 accession IDs...\r"
     ]
    },
    {
     "name": "stderr",
     "output_type": "stream",
     "text": [
      "IOPub message rate exceeded.\n",
      "The Jupyter server will temporarily stop sending output\n",
      "to the client in order to avoid crashing it.\n",
      "To change this limit, set the config variable\n",
      "`--ServerApp.iopub_msg_rate_limit`.\n",
      "\n",
      "Current values:\n",
      "ServerApp.iopub_msg_rate_limit=1000.0 (msgs/sec)\n",
      "ServerApp.rate_limit_window=3.0 (secs)\n",
      "\n"
     ]
    },
    {
     "name": "stdout",
     "output_type": "stream",
     "text": [
      "Found 35628/97512 targets, searched through 187994905 accession IDs...\r"
     ]
    },
    {
     "name": "stderr",
     "output_type": "stream",
     "text": [
      "IOPub message rate exceeded.\n",
      "The Jupyter server will temporarily stop sending output\n",
      "to the client in order to avoid crashing it.\n",
      "To change this limit, set the config variable\n",
      "`--ServerApp.iopub_msg_rate_limit`.\n",
      "\n",
      "Current values:\n",
      "ServerApp.iopub_msg_rate_limit=1000.0 (msgs/sec)\n",
      "ServerApp.rate_limit_window=3.0 (secs)\n",
      "\n"
     ]
    },
    {
     "name": "stdout",
     "output_type": "stream",
     "text": [
      "Found 39349/97512 targets, searched through 189309324 accession IDs...\r"
     ]
    },
    {
     "name": "stderr",
     "output_type": "stream",
     "text": [
      "IOPub message rate exceeded.\n",
      "The Jupyter server will temporarily stop sending output\n",
      "to the client in order to avoid crashing it.\n",
      "To change this limit, set the config variable\n",
      "`--ServerApp.iopub_msg_rate_limit`.\n",
      "\n",
      "Current values:\n",
      "ServerApp.iopub_msg_rate_limit=1000.0 (msgs/sec)\n",
      "ServerApp.rate_limit_window=3.0 (secs)\n",
      "\n"
     ]
    },
    {
     "name": "stdout",
     "output_type": "stream",
     "text": [
      "Found 43508/97512 targets, searched through 191731845 accession IDs...\r"
     ]
    },
    {
     "name": "stderr",
     "output_type": "stream",
     "text": [
      "IOPub message rate exceeded.\n",
      "The Jupyter server will temporarily stop sending output\n",
      "to the client in order to avoid crashing it.\n",
      "To change this limit, set the config variable\n",
      "`--ServerApp.iopub_msg_rate_limit`.\n",
      "\n",
      "Current values:\n",
      "ServerApp.iopub_msg_rate_limit=1000.0 (msgs/sec)\n",
      "ServerApp.rate_limit_window=3.0 (secs)\n",
      "\n"
     ]
    },
    {
     "name": "stdout",
     "output_type": "stream",
     "text": [
      "Found 62812/97512 targets, searched through 216230884 accession IDs...\r"
     ]
    },
    {
     "name": "stderr",
     "output_type": "stream",
     "text": [
      "IOPub message rate exceeded.\n",
      "The Jupyter server will temporarily stop sending output\n",
      "to the client in order to avoid crashing it.\n",
      "To change this limit, set the config variable\n",
      "`--ServerApp.iopub_msg_rate_limit`.\n",
      "\n",
      "Current values:\n",
      "ServerApp.iopub_msg_rate_limit=1000.0 (msgs/sec)\n",
      "ServerApp.rate_limit_window=3.0 (secs)\n",
      "\n"
     ]
    },
    {
     "name": "stdout",
     "output_type": "stream",
     "text": [
      "Found 66629/97512 targets, searched through 216690727 accession IDs...\r"
     ]
    },
    {
     "name": "stderr",
     "output_type": "stream",
     "text": [
      "IOPub message rate exceeded.\n",
      "The Jupyter server will temporarily stop sending output\n",
      "to the client in order to avoid crashing it.\n",
      "To change this limit, set the config variable\n",
      "`--ServerApp.iopub_msg_rate_limit`.\n",
      "\n",
      "Current values:\n",
      "ServerApp.iopub_msg_rate_limit=1000.0 (msgs/sec)\n",
      "ServerApp.rate_limit_window=3.0 (secs)\n",
      "\n"
     ]
    },
    {
     "name": "stdout",
     "output_type": "stream",
     "text": [
      "Found 68705/97512 targets, searched through 217156650 accession IDs...\r"
     ]
    },
    {
     "name": "stderr",
     "output_type": "stream",
     "text": [
      "IOPub message rate exceeded.\n",
      "The Jupyter server will temporarily stop sending output\n",
      "to the client in order to avoid crashing it.\n",
      "To change this limit, set the config variable\n",
      "`--ServerApp.iopub_msg_rate_limit`.\n",
      "\n",
      "Current values:\n",
      "ServerApp.iopub_msg_rate_limit=1000.0 (msgs/sec)\n",
      "ServerApp.rate_limit_window=3.0 (secs)\n",
      "\n"
     ]
    },
    {
     "name": "stdout",
     "output_type": "stream",
     "text": [
      "Found 71530/97512 targets, searched through 218051716 accession IDs...\r"
     ]
    },
    {
     "name": "stderr",
     "output_type": "stream",
     "text": [
      "IOPub message rate exceeded.\n",
      "The Jupyter server will temporarily stop sending output\n",
      "to the client in order to avoid crashing it.\n",
      "To change this limit, set the config variable\n",
      "`--ServerApp.iopub_msg_rate_limit`.\n",
      "\n",
      "Current values:\n",
      "ServerApp.iopub_msg_rate_limit=1000.0 (msgs/sec)\n",
      "ServerApp.rate_limit_window=3.0 (secs)\n",
      "\n"
     ]
    },
    {
     "name": "stdout",
     "output_type": "stream",
     "text": [
      "Found 79384/97512 targets, searched through 218659869 accession IDs...\r"
     ]
    },
    {
     "name": "stderr",
     "output_type": "stream",
     "text": [
      "IOPub message rate exceeded.\n",
      "The Jupyter server will temporarily stop sending output\n",
      "to the client in order to avoid crashing it.\n",
      "To change this limit, set the config variable\n",
      "`--ServerApp.iopub_msg_rate_limit`.\n",
      "\n",
      "Current values:\n",
      "ServerApp.iopub_msg_rate_limit=1000.0 (msgs/sec)\n",
      "ServerApp.rate_limit_window=3.0 (secs)\n",
      "\n"
     ]
    },
    {
     "name": "stdout",
     "output_type": "stream",
     "text": [
      "Found 86468/97512 targets, searched through 220843280 accession IDs...\r"
     ]
    },
    {
     "name": "stderr",
     "output_type": "stream",
     "text": [
      "IOPub message rate exceeded.\n",
      "The Jupyter server will temporarily stop sending output\n",
      "to the client in order to avoid crashing it.\n",
      "To change this limit, set the config variable\n",
      "`--ServerApp.iopub_msg_rate_limit`.\n",
      "\n",
      "Current values:\n",
      "ServerApp.iopub_msg_rate_limit=1000.0 (msgs/sec)\n",
      "ServerApp.rate_limit_window=3.0 (secs)\n",
      "\n"
     ]
    },
    {
     "name": "stdout",
     "output_type": "stream",
     "text": [
      "Found 92394/97512 targets, searched through 222696994 accession IDs...\r"
     ]
    },
    {
     "name": "stderr",
     "output_type": "stream",
     "text": [
      "IOPub message rate exceeded.\n",
      "The Jupyter server will temporarily stop sending output\n",
      "to the client in order to avoid crashing it.\n",
      "To change this limit, set the config variable\n",
      "`--ServerApp.iopub_msg_rate_limit`.\n",
      "\n",
      "Current values:\n",
      "ServerApp.iopub_msg_rate_limit=1000.0 (msgs/sec)\n",
      "ServerApp.rate_limit_window=3.0 (secs)\n",
      "\n"
     ]
    },
    {
     "name": "stdout",
     "output_type": "stream",
     "text": [
      "Found 97512/97512 targets, searched through 225690352 accession IDs, search complete.\n",
      "Sequence ID to taxonomy ID map complete. [1m27.411s]\n",
      "Estimating required capacity (step 2)...\n",
      "Estimated hash table requirement: 16550764 bytes\n",
      "Capacity estimation complete. [33.433s]\n",
      "Building database files (step 3)...\n",
      "Taxonomy parsed and converted.\n",
      "CHT created with 19 bits reserved for taxid.\n",
      "Completed processing of 682528 sequences, 1146918922 bp\n",
      "Writing data to disk...  complete.\n",
      "Database files completed. [2m26.228s]\n",
      "Database construction complete. [Total: 4m27.165s]\n"
     ]
    }
   ],
   "source": [
    "kraken2-build \\\n",
    "    --build \\\n",
    "    --db ${BASE_DIR}/testdb-allncbiflu-norefseq"
   ]
  },
  {
   "cell_type": "markdown",
   "id": "508713cf-998d-459d-9a6f-90575a41643c",
   "metadata": {},
   "source": [
    "### Test with simulated data"
   ]
  },
  {
   "cell_type": "code",
   "execution_count": 27,
   "id": "1b6638da-52af-4a36-a602-63f5f9280798",
   "metadata": {},
   "outputs": [],
   "source": [
    "export TEST_BASE_DIR_ncbinoref=/lustre/scratch126/gsu/team112/personal/fs5/rvi_dev/krakenDBs/kraken_flu_test_testdb-allncbiflu-norefseq/"
   ]
  },
  {
   "cell_type": "code",
   "execution_count": 28,
   "id": "48607cc5-d8eb-48ed-a4aa-d66cea78aaf9",
   "metadata": {},
   "outputs": [],
   "source": [
    "mkdir -p ${TEST_BASE_DIR_ncbinoref}"
   ]
  },
  {
   "cell_type": "code",
   "execution_count": 29,
   "id": "ffdec0b0-c6e1-4590-82b4-4053eb6d8c38",
   "metadata": {},
   "outputs": [
    {
     "name": "stdout",
     "output_type": "stream",
     "text": [
      "Loading database information... done.\n",
      "6620 sequences (1.99 Mbp) processed in 0.149s (2665.8 Kseq/m, 799.73 Mbp/m).\n",
      "  2662 sequences classified (40.21%)\n",
      "  3958 sequences unclassified (59.79%)\n"
     ]
    }
   ],
   "source": [
    "kraken2 \\\n",
    "    --db ${BASE_DIR}/testdb-allncbiflu-norefseq \\\n",
    "    --output ${TEST_BASE_DIR_ncbinoref}/output.kraken \\\n",
    "    --paired \\\n",
    "    --classified-out ${TEST_BASE_DIR_ncbinoref}/class_seqs#.fq \\\n",
    "    --unclassified-out ${TEST_BASE_DIR_ncbinoref}/unclass_seqs#.fq \\\n",
    "    --report ${TEST_BASE_DIR_ncbinoref}/report.txt \\\n",
    "/lustre/scratch126/gsu/team112/personal/fs5/rvi_dev/sim_reads/art/mix/mix_of_all_01-1.fq \\\n",
    "/lustre/scratch126/gsu/team112/personal/fs5/rvi_dev/sim_reads/art/mix/mix_of_all_01-2.fq"
   ]
  },
  {
   "cell_type": "code",
   "execution_count": 30,
   "id": "96d22b77-4c09-477e-bec3-d2a61bc643e3",
   "metadata": {},
   "outputs": [
    {
     "name": "stdout",
     "output_type": "stream",
     "text": [
      " 59.79\t3958\t3958\tU\t0\tunclassified\n",
      " 40.21\t2662\t0\tR\t1\troot\n",
      " 40.21\t2662\t0\tD\t10239\t  Viruses\n",
      " 40.21\t2662\t0\tD1\t2559587\t    Riboviria\n",
      " 40.21\t2662\t0\tK\t2732396\t      Orthornavirae\n",
      " 40.21\t2662\t0\tP\t2497569\t        Negarnaviricota\n",
      " 40.21\t2662\t0\tP1\t2497571\t          Polyploviricotina\n",
      " 40.21\t2662\t0\tC\t2497577\t            Insthoviricetes\n",
      " 40.21\t2662\t0\tO\t2499411\t              Articulavirales\n",
      " 40.21\t2662\t0\tF\t11308\t                Orthomyxoviridae\n",
      " 26.31\t1742\t0\tG\t197911\t                  Alphainfluenzavirus\n",
      " 26.31\t1742\t0\tS\t2955291\t                    Alphainfluenzavirus influenzae\n",
      " 26.31\t1742\t1345\tS1\t11320\t                      Influenza A virus\n",
      "  3.99\t264\t126\tS2\t119210\t                        H3N2 subtype\n",
      "  1.59\t105\t0\tS3\t335341\t                          Influenza A virus (A/New York/392/2004(H3N2))\n",
      "  0.42\t28\t28\tS4\t3110328\t                            gi|71564872|gb|CY002069|Influenza A virus (A/New York/392/2004(H3N2)) segment 3, complete sequence\n",
      "  0.39\t26\t26\tS4\t3110323\t                            gi|71564860|gb|CY002064|Influenza A virus (A/New York/392/2004(H3N2)) segment 4, complete sequence\n",
      "  0.33\t22\t22\tS4\t3110329\t                            gi|71564874|gb|CY002070|Influenza A virus (A/New York/392/2004(H3N2)) segment 2, complete sequence\n",
      "  0.23\t15\t15\tS4\t3110330\t                            gi|71564877|gb|CY002071|Influenza A virus (A/New York/392/2004(H3N2)) segment 1, complete sequence\n",
      "  0.21\t14\t14\tS4\t3110325\t                            gi|71564865|gb|CY002066|Influenza A virus (A/New York/392/2004(H3N2)) segment 6, complete sequence\n",
      "  0.03\t2\t0\tS3\t1978707\t                          Influenza A virus (A/Santa Cruz do Sul/LACENRS-913/2011(H3N2))\n",
      "  0.03\t2\t2\tS4\t3228721\t                            gi|1181555991|gb|KY925025|Influenza A virus (A/Santa Cruz do Sul/LACENRS-913/2011(H3N2)) segment 1 polymerase PB2 (PB2) gene, complete cds\n",
      "  0.02\t1\t0\tS3\t383055\t                          Influenza A virus (A/New York/714/1994(H3N2))\n",
      "  0.02\t1\t1\tS4\t3117401\t                            gi|110629278|gb|CY012560|Influenza A virus (A/New York/714/1994(H3N2)) segment 4, complete sequence\n",
      "  0.02\t1\t0\tS3\t1731642\t                          Influenza A virus (A/North Carolina/29/2015(H3N2))\n",
      "  0.02\t1\t1\tS4\t3185503\t                            gi|937166621|gb|KT843922|Influenza A virus (A/North Carolina/29/2015(H3N2)) segment 3 polymerase PA (PA) and PA-X protein (PA-X) genes, complete cds\n",
      "  0.02\t1\t0\tS3\t502055\t                          Influenza A virus (A/swine/Iowa/H02AS8/2002(H3N2))\n",
      "  0.02\t1\t1\tS4\t3137211\t                            gi|262475039|gb|GU135897|Influenza A virus (A/swine/Iowa/H02AS8/2002(H3N2)) segment 2 polymerase PB1 (PB1) gene, complete cds\n",
      "  0.02\t1\t0\tS3\t1731070\t                          Influenza A virus (A/Delaware/09/2015(H3N2))\n",
      "  0.02\t1\t1\tS4\t3177931\t                            gi|937142507|gb|KT835909|Influenza A virus (A/Delaware/09/2015(H3N2)) segment 2 polymerase PB1 (PB1) and PB1-F2 protein (PB1-F2) genes, complete cds\n",
      "  0.02\t1\t0\tS3\t353484\t                          Influenza A virus (A/Canterbury/270/2005(H3N2))\n",
      "  0.02\t1\t1\tS4\t3114168\t                            gi|87043110|gb|CY008658|Influenza A virus (A/Canterbury/270/2005(H3N2)) segment 2, complete sequence\n",
      "  0.02\t1\t0\tS3\t1517285\t                          Influenza A virus (A/Singapore/C2012.197/2012(H3N2))\n",
      "  0.02\t1\t1\tS4\t3169585\t                            gi|666879923|gb|KM070101|Influenza A virus (A/Singapore/C2012.197/2012(H3N2)) segment 8 nuclear export protein (NEP) and nonstructural protein 1 (NS1) genes, complete cds\n",
      "  0.02\t1\t0\tS3\t1639304\t                          Influenza A virus (A/California/17/2014(H3N2))\n",
      "  0.02\t1\t1\tS4\t3174213\t                            gi|807068976|gb|KR057683|Influenza A virus (A/California/17/2014(H3N2)) segment 1 polymerase PB2 (PB2) gene, complete cds\n",
      "  0.02\t1\t0\tS3\t1820539\t                          Influenza A virus (A/swine/Mexico/AVX13/2012(H3N2))\n",
      "  0.02\t1\t1\tS4\t3195375\t                            gi|1017035090|gb|KU976524|Influenza A virus (A/swine/Mexico/AVX13/2012(H3N2)) segment 4 hemagglutinin (HA) gene, complete cds\n",
      "  0.02\t1\t0\tS3\t940821\t                          Influenza A virus (A/swine/QC/1840-2/2009(H3N2))\n",
      "  0.02\t1\t1\tS4\t3153707\t                            gi|319657006|gb|HQ825235|Influenza A virus (A/swine/QC/1840-2/2009(H3N2)) segment 4 hemagglutinin (HA) gene, complete cds\n",
      "  0.02\t1\t0\tS3\t383220\t                          Influenza A virus (A/Waikato/139/2003(H3N2))\n",
      "  0.02\t1\t1\tS4\t3117218\t                            gi|110333361|gb|CY012408|Influenza A virus (A/Waikato/139/2003(H3N2)) segment 4, complete sequence\n",
      "  0.02\t1\t0\tS3\t1731897\t                          Influenza A virus (A/Virginia/37/2014(H3N2))\n",
      "  0.02\t1\t1\tS4\t3181890\t                            gi|937154001|gb|KT840285|Influenza A virus (A/Virginia/37/2014(H3N2)) segment 1 polymerase PB2 (PB2) gene, complete cds\n",
      "  0.02\t1\t0\tS3\t353348\t                          Influenza A virus (A/Canterbury/16/2004(H3N2))\n",
      "  0.02\t1\t1\tS4\t3112911\t                            gi|83752273|gb|CY007361|Influenza A virus (A/Canterbury/16/2004(H3N2)) segment 2, complete sequence\n",
      "  0.02\t1\t0\tS3\t2036952\t                          Influenza A virus (A/swine/North Carolina/A02219753/2017(H3N2))\n",
      "  0.02\t1\t1\tS4\t3234037\t                            gi|1327828375|gb|MG784624|Influenza A virus (A/swine/North Carolina/A02219753/2017(H3N2)) segment 3 polymerase PA (PA) and PA-X protein (PA-X) genes, complete cds\n",
      "  0.02\t1\t0\tS3\t586160\t                          Influenza A virus (A/Hong Kong/HKU22/2004(H3N2))\n",
      "  0.02\t1\t1\tS4\t3130100\t                            gi|225907955|gb|CY038624|Influenza A virus (A/Hong Kong/HKU22/2004(H3N2)) segment 7, complete sequence\n",
      "  0.02\t1\t0\tS3\t1909953\t                          Influenza A virus (A/Hawaii/61/2016(H3N2))\n",
      "  0.02\t1\t1\tS4\t3216855\t                            gi|1073671226|gb|KX916859|Influenza A virus (A/Hawaii/61/2016(H3N2)) segment 3 polymerase PA (PA) and PA-X protein (PA-X) genes, complete cds\n",
      "  0.02\t1\t0\tS3\t355486\t                          Influenza A virus (A/New York/518/1998(H3N2))\n",
      "  0.02\t1\t1\tS4\t3112024\t                            gi|82502355|gb|CY006482|Influenza A virus (A/New York/518/1998(H3N2)) segment 1, complete sequence\n",
      "  0.02\t1\t0\tS3\t311757\t                          Influenza A virus (A/New York/184/1999(H3N2))\n",
      "  0.02\t1\t1\tS4\t3109683\t                            gi|66473502|gb|CY001459|Influenza A virus (A/New York/184/1999(H3N2)) segment 2, complete sequence\n",
      "  0.02\t1\t0\tS3\t1515684\t                          Influenza A virus (A/swine/Guangxi/JGB4/2013(H3N2))\n",
      "  0.02\t1\t1\tS4\t3169047\t                            gi|664806187|gb|KM061019|Influenza A virus (A/swine/Guangxi/JGB4/2013(H3N2)) segment 6 neuraminidase (NA) gene, complete cds\n",
      "  0.02\t1\t0\tS3\t364138\t                          Influenza A virus (A/New York/540/1998(H3N2))\n",
      "  0.02\t1\t1\tS4\t3113876\t                            gi|86816427|gb|CY008966|Influenza A virus (A/New York/540/1998(H3N2)) segment 6, complete sequence\n",
      "  0.02\t1\t0\tS3\t1541155\t                          Influenza A virus (A/Quebec/26-281106/2006(H3N2))\n",
      "  0.02\t1\t1\tS4\t3171243\t                            gi|695308098|gb|KM438105|Influenza A virus (A/Quebec/26-281106/2006(H3N2)) segment 7 matrix protein 2 (M2) and matrix protein 1 (M1) genes, complete cds\n",
      "  0.02\t1\t0\tS3\t586210\t                          Influenza A virus (A/Hong Kong/HKU72/2005(H3N2))\n",
      "  0.02\t1\t1\tS4\t3133708\t                            gi|255529075|gb|CY043762|Influenza A virus (A/Hong Kong/HKU72/2005(H3N2)) segment 6, complete sequence\n",
      "  0.02\t1\t0\tS3\t383588\t                          Influenza A virus (A/Memphis/8/1988(H3N2))\n",
      "  0.02\t1\t1\tS4\t3115729\t                            gi|94959525|gb|CY010761|Influenza A virus (A/Memphis/8/1988(H3N2)) segment 3, complete sequence\n",
      "  0.02\t1\t0\tS3\t1731044\t                          Influenza A virus (A/California/82/2015(H3N2))\n",
      "  0.02\t1\t1\tS4\t3184967\t                            gi|937164678|gb|KT843386|Influenza A virus (A/California/82/2015(H3N2)) segment 8 nuclear export protein (NEP) and nonstructural protein 1 (NS1) genes, complete cds\n",
      "  0.02\t1\t0\tS3\t1517335\t                          Influenza A virus (A/Singapore/H2013.384/2013(H3N2))\n",
      "  0.02\t1\t1\tS4\t3169714\t                            gi|666880352|gb|KM070244|Influenza A virus (A/Singapore/H2013.384/2013(H3N2)) segment 3 polymerase PA (PA) and PA-X protein (PA-X) genes, complete cds\n",
      "  0.02\t1\t0\tS3\t353365\t                          Influenza A virus (A/Canterbury/109/2004(H3N2))\n",
      "  0.02\t1\t1\tS4\t3113256\t                            gi|84873106|gb|CY008002|Influenza A virus (A/Canterbury/109/2004(H3N2)) segment 1, complete sequence\n",
      "  0.02\t1\t0\tS3\t2015202\t                          Influenza A virus (A/swine/Minnesota/A02216466/2017(H3N2))\n",
      "  0.02\t1\t1\tS4\t3231441\t                            gi|1212090600|gb|MF375246|Influenza A virus (A/swine/Minnesota/A02216466/2017(H3N2)) segment 6 neuraminidase (NA) gene, complete cds\n",
      "  0.02\t1\t0\tS3\t1905820\t                          Influenza A virus (A/swine/Minnesota/A01781222/2016(H3N2))\n",
      "  0.02\t1\t1\tS4\t3229786\t                            gi|1196819315|gb|MF045192|Influenza A virus (A/swine/Minnesota/A01781222/2016(H3N2)) segment 5 nucleocapsid protein (NP) gene, complete cds\n",
      "  0.02\t1\t0\tS3\t1469644\t                          Influenza A virus (A/swine/Tochigi/14/2013(H3N2))\n",
      "  0.02\t1\t1\tS4\t3172231\t                            gi|745992817|gb|AB914508|Influenza A virus (A/swine/Tochigi/14/2013(H3N2)) viral cRNA, segment 4, complete sequence\n",
      "  0.02\t1\t0\tS3\t1348507\t                          Influenza A virus (A/swine/Henan/1/2010(H3N2))\n",
      "  0.02\t1\t1\tS4\t3162744\t                            gi|543869147|gb|KF550964|Influenza A virus (A/swine/Henan/1/2010(H3N2)) segment 2 polymerase PB1 (PB1) gene, complete cds\n",
      "  0.02\t1\t0\tS3\t1788650\t                          Influenza A virus (A/Florida/81/2015(H3N2))\n",
      "  0.02\t1\t1\tS4\t3193426\t                            gi|984692141|gb|KU591090|Influenza A virus (A/Florida/81/2015(H3N2)) segment 7 matrix protein 2 (M2) and matrix protein 1 (M1) genes, complete cds\n",
      "  0.02\t1\t0\tS3\t1731793\t                          Influenza A virus (A/Texas/19/2015(H3N2))\n",
      "  0.02\t1\t1\tS4\t3184691\t                            gi|937163619|gb|KT843102|Influenza A virus (A/Texas/19/2015(H3N2)) segment 2 polymerase PB1 (PB1) and PB1-F2 protein (PB1-F2) genes, complete cds\n",
      "  1.33\t88\t32\tS2\t114727\t                        H1N1 subtype\n",
      "  0.20\t13\t0\tS3\t641809\t                          Influenza A virus (A/California/07/2009(H1N1))\n",
      "  0.20\t13\t13\tS4\t3130759\t                            gi|227977161|gb|FJ969536|Influenza A virus (A/California/07/2009(H1N1)) segment 5 nucleocapsid protein (NP) gene, complete cds\n",
      "  0.03\t2\t0\tS3\t930810\t                          Influenza A virus (A/Jiangsu/S62/2009(H1N1))\n",
      "  0.02\t1\t1\tS4\t3153147\t                            gi|313105451|gb|HQ652619|Influenza A virus (A/Jiangsu/S62/2009(H1N1)) segment 3 polymerase PA (PA) gene, complete cds\n",
      "  0.02\t1\t1\tS4\t3153149\t                            gi|313105455|gb|HQ652621|Influenza A virus (A/Jiangsu/S62/2009(H1N1)) segment 2 polymerase PB1 (PB1) gene, complete cds; and nonfunctional PB1-F2 protein (PB1-F2) gene, complete sequence\n",
      "  0.03\t2\t0\tS3\t978110\t                          Influenza A virus (A/India/GWL_DSC/2010(H1N1))\n",
      "  0.02\t1\t1\tS4\t3153828\t                            gi|323135528|gb|JF265678|Influenza A virus (A/India/GWL_DSC/2010(H1N1)) segment 1 polymerase PB2 (PB2) gene, complete cds\n",
      "  0.02\t1\t1\tS4\t3154014\t                            gi|328942923|gb|JF764085|Influenza A virus (A/India/GWL_DSC/2010(H1N1)) segment 2 polymerase PB1 (PB1) gene, complete cds; and nonfunctional PB1-F2 protein (PB1-F2) gene, complete sequence\n",
      "  0.02\t1\t0\tS3\t1305094\t                          Influenza A virus (A/Colorado/02/2010(H1N1))\n",
      "  0.02\t1\t1\tS4\t3160017\t                            gi|474455961|gb|KC780224|Influenza A virus (A/Colorado/02/2010(H1N1)) segment 4 hemagglutinin (HA) gene, complete cds\n",
      "  0.02\t1\t0\tS3\t1501719\t                          Influenza A virus (A/Sri Lanka/11/2012(H1N1))\n",
      "  0.02\t1\t1\tS4\t3166241\t                            gi|649789473|gb|KJ856022|Influenza A virus (A/Sri Lanka/11/2012(H1N1)) segment 5 nucleocapsid protein (NP) gene, complete cds\n",
      "  0.02\t1\t0\tS3\t1501722\t                          Influenza A virus (A/Sri Lanka/19/2012(H1N1))\n",
      "  0.02\t1\t1\tS4\t3166227\t                            gi|649789352|gb|KJ856047|Influenza A virus (A/Sri Lanka/19/2012(H1N1)) segment 7 matrix protein 2 (M2) and matrix protein 1 (M1) genes, complete cds\n",
      "  0.02\t1\t0\tS3\t1501724\t                          Influenza A virus (A/Sri Lanka/19838/2010(H1N1))\n",
      "  0.02\t1\t1\tS4\t3166217\t                            gi|649789257|gb|KJ856060|Influenza A virus (A/Sri Lanka/19838/2010(H1N1)) segment 5 nucleocapsid protein (NP) gene, complete cds\n",
      "  0.02\t1\t0\tS3\t1638892\t                          Influenza A virus (A/India/Pun151245/2015(H1N1))\n",
      "  0.02\t1\t1\tS4\t3174416\t                            gi|814945442|gb|KR052648|Influenza A virus (A/India/Pun151245/2015(H1N1)) segment 7 matrix protein 2 (M2) and matrix protein 1 (M1) genes, complete cds\n",
      "  0.02\t1\t0\tS3\t1210217\t                          Influenza A virus (A/Singapore/GP413/2010(H1N1))\n",
      "  0.02\t1\t1\tS4\t3157465\t                            gi|399224256|gb|JX309035|Influenza A virus (A/Singapore/GP413/2010(H1N1)) segment 6 neuraminidase (NA) gene, complete cds\n",
      "  0.02\t1\t0\tS3\t1910095\t                          Influenza A virus (A/New York/79/2016(H1N1))\n",
      "  0.02\t1\t1\tS4\t3215902\t                            gi|1073667698|gb|KX915802|Influenza A virus (A/New York/79/2016(H1N1)) segment 2 polymerase PB1 (PB1) gene, complete cds; and PB1-F2 gene, complete sequence\n",
      "  0.02\t1\t0\tS3\t1305570\t                          Influenza A virus (A/Wisconsin/53/2009(H1N1))\n",
      "  0.02\t1\t1\tS4\t3160726\t                            gi|474460855|gb|KC782307|Influenza A virus (A/Wisconsin/53/2009(H1N1)) segment 3 polymerase PA (PA) and PA-X protein (PA-X) genes, complete cds\n",
      "  0.02\t1\t0\tS3\t416705\t                          Influenza A virus (A/Memphis/38/1983(H1N1))\n",
      "  0.02\t1\t1\tS4\t3121690\t                            gi|120433992|gb|CY019041|Influenza A virus (A/Memphis/38/1983(H1N1)) segment 8, complete sequence\n",
      "  0.02\t1\t0\tS3\t1501739\t                          Influenza A virus (A/Sri Lanka/22700/2010(H1N1))\n",
      "  0.02\t1\t1\tS4\t3166090\t                            gi|649788526|gb|KJ856192|Influenza A virus (A/Sri Lanka/22700/2010(H1N1)) segment 4 hemagglutinin (HA) gene, complete cds\n",
      "  0.02\t1\t0\tS3\t679811\t                          Influenza A virus (A/Wisconsin/629-D01903/2009(H1N1))\n",
      "  0.02\t1\t1\tS4\t3137754\t                            gi|268634108|gb|CY050998|Influenza A virus (A/Wisconsin/629-D01903/2009(H1N1)) segment 1, complete sequence\n",
      "  0.02\t1\t0\tS3\t723731\t                          Influenza A virus (A/Wisconsin/629-D00938/2009(H1N1))\n",
      "  0.02\t1\t1\tS4\t3143952\t                            gi|292495798|gb|CY058682|Influenza A virus (A/Wisconsin/629-D00938/2009(H1N1)) segment 2, complete sequence\n",
      "  0.02\t1\t0\tS3\t1050899\t                          Influenza A virus (A/Tula/CRIE-SIA/2011(H1N1))\n",
      "  0.02\t1\t1\tS4\t3154481\t                            gi|339518832|gb|JN185095|Influenza A virus (A/Tula/CRIE-SIA/2011(H1N1)) segment 6 neuraminidase (NA) gene, complete cds\n",
      "  0.02\t1\t0\tS3\t679870\t                          Influenza A virus (A/Wisconsin/629-S0220/2009(H1N1))\n",
      "  0.02\t1\t1\tS4\t3138098\t                            gi|268634935|gb|CY051342|Influenza A virus (A/Wisconsin/629-S0220/2009(H1N1)) segment 1, complete sequence\n",
      "  0.02\t1\t0\tS3\t1396475\t                          Influenza A virus (A/Santa Cruz/995/2010(H1N1))\n",
      "  0.02\t1\t1\tS4\t3163728\t                            gi|546236516|gb|KF612060|Influenza A virus (A/Santa Cruz/995/2010(H1N1)) segment 2 polymerase PB1 (PB1) gene, complete cds; and nonfunctional PB1-F2 protein (PB1-F2) gene, complete sequence\n",
      "  0.02\t1\t0\tS3\t710662\t                          Influenza A virus (A/Kurgan/01/2009(H1N1))\n",
      "  0.02\t1\t1\tS4\t3140286\t                            gi|284222777|gb|GU480947|Influenza A virus (A/Kurgan/01/2009(H1N1)) segment 8 nuclear export protein (NEP) and nonstructural protein 1 (NS1) genes, complete cds\n",
      "  0.02\t1\t1\tS3\t1366254\t                          Influenza A virus (A/pintail/Alberta/210/2002(H1N1))\n",
      "  0.02\t1\t0\tS3\t752156\t                          Influenza A virus (A/Wisconsin/629-D02442/2009(H1N1))\n",
      "  0.02\t1\t1\tS4\t3146041\t                            gi|295843642|gb|CY063242|Influenza A virus (A/Wisconsin/629-D02442/2009(H1N1)) segment 1, complete sequence\n",
      "  0.02\t1\t0\tS3\t1820568\t                          Influenza A virus (A/swine/Mexico/AVX42/2012(H1N1))\n",
      "  0.02\t1\t1\tS4\t3195183\t                            gi|1017034519|gb|KU976599|Influenza A virus (A/swine/Mexico/AVX42/2012(H1N1)) segment 7 matrix protein 2 (M2) and matrix protein 1 (M1) genes, complete cds\n",
      "  0.02\t1\t0\tS3\t1929430\t                          Influenza A virus (A/swine/France/35-160126/2016(H1N1))\n",
      "  0.02\t1\t1\tS4\t3225823\t                            gi|1127931437|gb|KY364138|Influenza A virus (A/swine/France/35-160126/2016(H1N1)) segment 6 neuraminidase (NA) gene, complete cds\n",
      "  0.02\t1\t0\tS3\t1672412\t                          Influenza A virus (A/Singapore/DMS1154/2010(H1N1))\n",
      "  0.02\t1\t1\tS4\t3177113\t                            gi|880803253|gb|KT181428|Influenza A virus (A/Singapore/DMS1154/2010(H1N1)) segment 6 neuraminidase (NA) gene, complete cds\n",
      "  0.02\t1\t0\tS3\t1654120\t                          Influenza A virus (A/swine/England/041313/2013(H1N1))\n",
      "  0.02\t1\t1\tS4\t3174867\t                            gi|827497880|gb|KR700431|Influenza A virus (A/swine/England/041313/2013(H1N1)) segment 6 neuraminidase (NA) gene, complete cds\n",
      "  0.02\t1\t0\tS3\t652936\t                          Influenza A virus (A/Sakai/2/2009(H1N1))\n",
      "  0.02\t1\t1\tS4\t3132808\t                            gi|239949911|gb|GQ267850|Influenza A virus (A/Sakai/2/2009(H1N1)) segment 2 polymerase PB1 (PB1) gene, complete cds; and nonfunctional PB1-F2 protein (PB1-F2) gene, complete sequence\n",
      "  0.02\t1\t0\tS3\t2024566\t                          Influenza A virus (A/Mexico/4431/2016(H1N1))\n",
      "  0.02\t1\t1\tS4\t3231605\t                            gi|1234112124|gb|MF593493|Influenza A virus (A/Mexico/4431/2016(H1N1)) segment 4 hemagglutinin (HA) gene, complete cds\n",
      "  0.02\t1\t0\tS3\t1841092\t                          Influenza A virus (A/California/04-224-MA/2009(H1N1))\n",
      "  0.02\t1\t1\tS4\t3196767\t                            gi|1027920937|gb|KX136298|Influenza A virus (A/California/04-224-MA/2009(H1N1)) segment 6 neuraminidase (NA) gene, complete cds\n",
      "  0.02\t1\t0\tS3\t761202\t                          Influenza A virus (A/Blagovechensk/01/2009(H1N1))\n",
      "  0.02\t1\t1\tS4\t3145424\t                            gi|295687151|gb|HM173605|Influenza A virus (A/Blagovechensk/01/2009(H1N1)) segment 2 polymerase PB1 (PB1) gene, complete cds; and nonfunctional PB1-F2 protein (PB1-F2) gene, complete sequence\n",
      "  0.02\t1\t0\tS3\t1086543\t                          Influenza A virus (A/swine/Holguin/121/2010(H1N1))\n",
      "  0.02\t1\t1\tS4\t3154947\t                            gi|347298871|gb|HE584745|Influenza A virus (A/swine/Holguin/121/2010(H1N1)) segment 1, complete genome\n",
      "  0.02\t1\t0\tS3\t1151789\t                          Influenza A virus (A/swine/Shandong/327/2010(H1N1))\n",
      "  0.02\t1\t1\tS4\t3156652\t                            gi|380719787|gb|JQ695871|Influenza A virus (A/swine/Shandong/327/2010(H1N1)) segment 4 hemagglutinin (HA) gene, complete cds\n",
      "  0.02\t1\t0\tS3\t1348883\t                          Influenza A virus (A/India/Nag132467/2013(H1N1))\n",
      "  0.02\t1\t1\tS4\t3162225\t                            gi|523793975|gb|KF280733|Influenza A virus (A/India/Nag132467/2013(H1N1)) segment 2 polymerase PB1 (PB1) gene, complete cds; and nonfunctional PB1-F2 protein (PB1-F2) gene, complete sequence\n",
      "  0.02\t1\t0\tS3\t856442\t                          Influenza A virus (A/Odense/INS307/2009(H1N1))\n",
      "  0.02\t1\t1\tS4\t3150069\t                            gi|304419532|gb|CY072246|Influenza A virus (A/Odense/INS307/2009(H1N1)) segment 4, complete sequence\n",
      "  0.02\t1\t0\tS3\t934287\t                          Influenza A virus (A/swine/Jangsu/38/2010(H1N1))\n",
      "  0.02\t1\t1\tS4\t3153195\t                            gi|314913791|gb|HQ695938|Influenza A virus (A/swine/Jangsu/38/2010(H1N1)) segment 4 hemagglutinin (HA) gene, complete cds\n",
      "  0.02\t1\t0\tS3\t934288\t                          Influenza A virus (A/swine/Jangsu/434/2010(H1N1))\n",
      "  0.02\t1\t1\tS4\t3153201\t                            gi|314913803|gb|HQ695986|Influenza A virus (A/swine/Jangsu/434/2010(H1N1)) segment 4 hemagglutinin (HA) gene, complete cds\n",
      "  0.02\t1\t0\tS3\t1193849\t                          Influenza A virus (A/swine/Illinois/A01202615/2011(H1N1))\n",
      "  0.02\t1\t1\tS4\t3159713\t                            gi|451330111|gb|KC508545|Influenza A virus (A/swine/Illinois/A01202615/2011(H1N1)) segment 1 polymerase PB2 (PB2) gene, complete cds\n",
      "  0.02\t1\t0\tS3\t1262170\t                          Influenza A virus (A/swine/Minnesota/A01279213/2012(H1N1))\n",
      "  0.02\t1\t1\tS4\t3162016\t                            gi|510791244|gb|KF026663|Influenza A virus (A/swine/Minnesota/A01279213/2012(H1N1)) segment 3 polymerase PA (PA) and PA-X protein (PA-X) genes, complete cds\n",
      "  0.02\t1\t0\tS3\t1511957\t                          Influenza A virus (A/swine/Guangdong/NS2801/2010(H1N1))\n",
      "  0.02\t1\t1\tS4\t3166583\t                            gi|662489692|gb|KM027509|Influenza A virus (A/swine/Guangdong/NS2801/2010(H1N1)) segment 2 polymerase PB1 (PB1) gene, complete cds; and nonfunctional PB1-F2 protein (PB1-F2) gene, complete sequence\n",
      "  0.02\t1\t0\tS3\t1672522\t                          Influenza A virus (A/Singapore/DMS35/2009(H1N1))\n",
      "  0.02\t1\t1\tS4\t3176255\t                            gi|880801159|gb|KT181110|Influenza A virus (A/Singapore/DMS35/2009(H1N1)) segment 4 hemagglutinin (HA) gene, complete cds\n",
      "  0.02\t1\t0\tS3\t1654287\t                          Influenza A virus (A/swine/Poland/16315/2011(H1N1))\n",
      "  0.02\t1\t1\tS4\t3174908\t                            gi|827498261|gb|KR700587|Influenza A virus (A/swine/Poland/16315/2011(H1N1)) segment 7 matrix protein 2 (M2) and matrix protein 1 (M1) genes, complete cds\n",
      "  0.02\t1\t0\tS3\t723783\t                          Influenza A virus (A/Wisconsin/629-D00459/2009(H1N1))\n",
      "  0.02\t1\t1\tS4\t3143713\t                            gi|291621109|gb|CY058412|Influenza A virus (A/Wisconsin/629-D00459/2009(H1N1)) segment 4, complete sequence\n",
      "  0.02\t1\t0\tS3\t1490473\t                          Influenza A virus (A/swine/Guangxi/1/2013(H1N1))\n",
      "  0.02\t1\t1\tS4\t3165690\t                            gi|635231419|gb|KJ725061|Influenza A virus (A/swine/Guangxi/1/2013(H1N1)) segment 3 polymerase PA (PA) gene, complete cds\n",
      "  0.15\t10\t8\tS2\t102793\t                        H5N1 subtype\n",
      "  0.02\t1\t1\tS3\t496757\t                          Influenza A virus (A/duck/Hunan/1386/2003(H5N1))\n",
      "  0.02\t1\t1\tS3\t762385\t                          Influenza A virus (A/chicken/Henan/A-7/2006(H5N1))\n",
      "  0.08\t5\t2\tS2\t114728\t                        H1N2 subtype\n",
      "  0.02\t1\t1\tS3\t1380263\t                          Influenza A virus (A/swine/Missouri/A01432837/2013(H1N2))\n",
      "  0.02\t1\t1\tS3\t1654149\t                          Influenza A virus (A/swine/England/61470/2013(H1N2))\n",
      "  0.02\t1\t1\tS3\t1755985\t                          Influenza A virus (A/swine/North Carolina/A01945748/2015(H1N2))\n",
      "  0.03\t2\t1\tS2\t102796\t                        H9N2 subtype\n",
      "  0.02\t1\t1\tS3\t1870773\t                          Influenza A virus (A/turkey/Poland/14/2013(H9N2))\n",
      "  0.02\t1\t1\tS2\t3307386\t                        gi|1675502977|gb|MN003662|Influenza A virus (A/Connecticut/24/2019(H1N1)) segment 3 polymerase PA (PA) and PA-X protein (PA-X) genes, complete cds\n",
      "  0.02\t1\t0\tS2\t142951\t                        H12N5 subtype\n",
      "  0.02\t1\t1\tS3\t908644\t                          Influenza A virus (A/mallard/Washington/44338-195/2007(H12N5))\n",
      "  0.02\t1\t1\tS2\t3309411\t                        gi|1682000089|gb|MN061208|Influenza A virus (A/Vladimir/87/2019(H3N2)) segment 1 polymerase PB2 (PB2) gene, complete cds\n",
      "  0.02\t1\t1\tS2\t3251741\t                        gi|1395955133|gb|MH446964|Influenza A virus (A/Wisconsin/87/2018(H1N1)) segment 4 hemagglutinin (HA) gene, complete cds\n",
      "  0.02\t1\t1\tS2\t3237726\t                        gi|1365409833|gb|MH079657|Influenza A virus (A/Colorado/06/2018(H1N1)) segment 2 polymerase PB1 (PB1) gene, complete cds; and nonfunctional PB1-F2 protein (PB1-F2) gene, complete sequence\n",
      "  0.02\t1\t1\tS2\t3288993\t                        gi|1593225676|gb|MK640714|Influenza A virus (A/China/38887/2012(H3N2)) segment 6 neuraminidase (NA) gene, complete cds\n",
      "  0.02\t1\t1\tS2\t3270105\t                        gi|1540595883|gb|MK328698|Influenza A virus (A/swine/Manitoba/DM_18/2017(H3N2)) segment 3 polymerase PA (PA) and PA-X protein (PA-X) genes, complete cds\n",
      "  0.02\t1\t1\tS2\t3327983\t                        gi|1765918854|gb|MN573870|Influenza A virus (A/Victoria/691/2017(H3N2)) segment 1 polymerase PB2 (PB2) gene, complete cds\n",
      "  0.02\t1\t1\tS2\t3327957\t                        gi|1765918788|gb|MN573844|Influenza A virus (A/Victoria/688/2017(H3N2)) segment 3 polymerase PA (PA) and PA-X protein (PA-X) genes, complete cds\n",
      "  0.02\t1\t1\tS2\t3296799\t                        gi|1613884441|gb|MK786141|Influenza A virus (A/Ohio/8316/2019(H3N2)) segment 2 polymerase PB1 (PB1) and PB1-F2 protein (PB1-F2) genes, complete cds\n",
      "  0.02\t1\t0\tS2\t299327\t                        H4N2 subtype\n",
      "  0.02\t1\t1\tS3\t370169\t                          Influenza A virus (A/mallard/Ohio/97/1989(H4N2))\n",
      "  0.02\t1\t0\tS2\t222769\t                        H6N6 subtype\n",
      "  0.02\t1\t1\tS3\t1454277\t                          Influenza A virus (A/chicken/Guangxi/S4029/2010(H6N6))\n",
      "  0.02\t1\t1\tS2\t3290092\t                        gi|1597257908|gb|MK676558|Influenza A virus (A/Maine/06/2019(H1N1)) segment 4 hemagglutinin (HA) gene, complete cds\n",
      "  0.02\t1\t1\tS2\t3307406\t                        gi|1675503025|gb|MN003682|Influenza A virus (A/Delaware/23/2019(H1N1)) segment 3 polymerase PA (PA) and PA-X protein (PA-X) genes, complete cds\n",
      "  0.02\t1\t1\tS2\t3348320\t                        gi|1830625464|gb|MT330642|Influenza A virus (A/Arkansas/14/2020(H1N1)) segment 6 neuraminidase (NA) gene, complete cds\n",
      "  0.02\t1\t1\tS2\t3324012\t                        gi|1765908924|gb|MN569899|Influenza A virus (A/Newcastle/610/2017(H3N2)) segment 8 nuclear export protein (NEP) and nonstructural protein 1 (NS1) genes, complete cds\n",
      "  0.02\t1\t1\tS2\t3289715\t                        gi|1594664955|gb|MK651489|Influenza A virus (A/swine/Iowa/A02256794/2018(H1N1)) segment 3 polymerase PA (PA) and PA-X protein (PA-X) genes, complete cds\n",
      "  0.02\t1\t1\tS2\t3274878\t                        gi|1547184119|gb|MK366937|Influenza A virus (A/swine/Klein Wanzleben/17303/2013(H1N1)) segment 6 neuraminidase (NA) gene, complete cds\n",
      "  0.02\t1\t1\tS2\t3253759\t                        gi|1409673961|gb|MH540855|Influenza A virus (A/Maine/30/2018(H3N2)) segment 6 neuraminidase (NA) gene, complete cds\n",
      "  0.02\t1\t1\tS2\t3319950\t                        gi|1730278870|gb|MN372392|Influenza A virus (A/Singapore/G2-26.1/2014(H3N2)) segment 6 neuraminidase (NA) gene, complete cds\n",
      "  0.02\t1\t1\tS2\t3289977\t                        gi|1597256991|gb|MK676443|Influenza A virus (A/Florida/07/2019(H1N1)) segment 3 polymerase PA (PA) and PA-X protein (PA-X) genes, complete cds\n",
      "  0.02\t1\t1\tS2\t3303825\t                        gi|1659075273|gb|MK960552|Influenza A virus (A/Illinois/9361/2019(H3N2)) segment 8 nuclear export protein (NEP) and nonstructural protein 1 (NS1) genes, complete cds\n",
      "  0.02\t1\t1\tS2\t3252207\t                        gi|1408058524|gb|MH328407|Influenza A virus (A/Taiwan/00582/2011(H1N1)) segment 2 polymerase PB1 (PB1) gene, complete cds; and nonfunctional PB1-F2 protein (PB1-F2) gene, complete sequence\n",
      "  0.02\t1\t1\tS2\t3253660\t                        gi|1409673602|gb|MH540654|Influenza A virus (A/New York/35/2018(H1N1)) segment 3 polymerase PA (PA) and PA-X protein (PA-X) genes, complete cds\n",
      "  0.02\t1\t1\tS2\t3348667\t                        gi|1830626346|gb|MT331013|Influenza A virus (A/Louisiana/12/2020(H1N1)) segment 1 polymerase PB2 (PB2) gene, complete cds\n",
      "  0.02\t1\t1\tS2\t3324309\t                        gi|1765909667|gb|MN570196|Influenza A virus (A/Perth/341/2017(H3N2)) segment 3 polymerase PA (PA) and PA-X protein (PA-X) genes, complete cds\n",
      "  0.02\t1\t1\tS2\t102800\t                        H4N6 subtype\n",
      "  0.02\t1\t0\tS2\t119221\t                        H5N3 subtype\n",
      "  0.02\t1\t1\tS3\t670756\t                          Influenza A virus (A/duck/France/06436/2006(H5N3))\n",
      " 13.90\t920\t0\tG\t197912\t                  Betainfluenzavirus\n",
      " 13.90\t920\t0\tS\t2955465\t                    Betainfluenzavirus influenzae\n",
      " 13.90\t920\t496\tS1\t11520\t                      Influenza B virus\n",
      "  2.57\t170\t0\tS2\t444325\t                        Influenza B virus (B/Russia/69)\n",
      "  0.97\t64\t64\tS3\t3123246\t                          gi|148509298|gb|EF626636|Influenza B virus (B/Russia/69) segment 4 hemagglutinin (HA) gene, complete cds\n",
      "  0.76\t50\t50\tS3\t3123248\t                          gi|148509303|gb|EF626638|Influenza B virus (B/Russia/69) segment 6 NB protein (NB) and neuraminidase (NA) genes, complete cds\n",
      "  0.65\t43\t43\tS3\t3123251\t                          gi|148509311|gb|EF626641|Influenza B virus (B/Russia/69) segment 3 polymerase PA (PA) gene, complete cds\n",
      "  0.11\t7\t7\tS3\t3123253\t                          gi|148509315|gb|EF626643|Influenza B virus (B/Russia/69) segment 2 polymerase PB2 (PB2) gene, complete cds\n",
      "  0.09\t6\t6\tS3\t3123249\t                          gi|148509306|gb|EF626639|Influenza B virus (B/Russia/69) segment 5 nucleoprotein (NP) gene, complete cds\n",
      "  1.12\t74\t74\tS2\t3340027\t                        gi|1808735534|gb|MT056028|Influenza B virus (B/Massachusetts/2/2012 BX-51C) segment 5 nucleoprotein (NP) gene, complete cds\n",
      "  1.04\t69\t0\tS2\t518989\t                        Influenza B virus (B/NYMC BX-15(Lee/1940-Hawaii/33/2004))\n",
      "  1.04\t69\t69\tS3\t3129807\t                          gi|225676807|gb|CY038283|Influenza B virus (B/NYMC BX-15(Lee/1940-Hawaii/33/2004)) segment 8, complete sequence\n",
      "  0.18\t12\t0\tS2\t408951\t                        Influenza B virus (B/Texas/06/2000)\n",
      "  0.18\t12\t12\tS3\t3121205\t                          gi|119516030|gb|CY018483|Influenza B virus (B/Texas/06/2000) segment 1, complete sequence\n",
      "  0.18\t12\t0\tS2\t416679\t                        Influenza B virus (B/Cordoba/2979/1991)\n",
      "  0.18\t12\t12\tS3\t3122066\t                          gi|125663333|gb|CY019637|Influenza B virus (B/Cordoba/2979/1991) segment 6, complete sequence\n",
      "  0.17\t11\t0\tS2\t416673\t                        Influenza B virus (B/Texas/37/1988)\n",
      "  0.17\t11\t11\tS3\t3122045\t                          gi|125663284|gb|CY019608|Influenza B virus (B/Texas/37/1988) segment 3, complete sequence\n",
      "  0.15\t10\t10\tS2\t3346996\t                        gi|1829059785|gb|MT306775|Influenza B virus (B/California/21/2020) segment 6 NB protein (NB) and neuraminidase (NA) genes, complete cds\n",
      "  0.15\t10\t0\tS2\t416686\t                        Influenza B virus (B/Connecticut/07/1993)\n",
      "  0.15\t10\t10\tS3\t3121511\t                          gi|119516796|gb|CY018806|Influenza B virus (B/Connecticut/07/1993) segment 7, complete sequence\n",
      "  0.14\t9\t0\tS2\t1883635\t                        Influenza B virus (B/Idaho/04/2016)\n",
      "  0.14\t9\t9\tS3\t3212424\t                          gi|1048087762|gb|KX613790|Influenza B virus (B/Idaho/04/2016) segment 3 polymerase PA (PA) gene, complete cds\n",
      "  0.12\t8\t8\tS2\t3275482\t                        gi|1551802158|gb|MK380226|Influenza B virus (B/Hawaii/7061/2018) segment 4 hemagglutinin (HA) gene, complete cds\n",
      "  0.11\t7\t0\tS2\t416652\t                        Influenza B virus (B/Argentina/3640/1999)\n",
      "  0.11\t7\t7\tS3\t3121327\t                          gi|119516319|gb|CY018605|Influenza B virus (B/Argentina/3640/1999) segment 4, complete sequence\n",
      "  0.09\t6\t6\tS2\t3279987\t                        gi|1565830616|gb|MK474513|Influenza B virus (B/Washington/276/2018) segment 6 NB protein (NB) and neuraminidase (NA) genes, complete cds\n",
      "  0.09\t6\t0\tS2\t1884185\t                        Influenza B virus (B/Wyoming/11/2016)\n",
      "  0.09\t6\t6\tS3\t3209546\t                          gi|1048080573|gb|KX616336|Influenza B virus (B/Wyoming/11/2016) segment 6 NB protein (NB) and neuraminidase (NA) genes, complete cds\n",
      "  0.06\t4\t0\tS2\t209844\t                        Influenza B virus (B/Taiwan/1484/2001)\n",
      "  0.06\t4\t4\tS3\t3122010\t                          gi|125663200|gb|CY019573|Influenza B virus (B/Taiwan/1484/2001) segment 6, complete sequence\n",
      "  0.05\t3\t0\tS2\t416678\t                        Influenza B virus (B/Czechoslovakia/69/1990)\n",
      "  0.05\t3\t3\tS3\t3122337\t                          gi|125889202|gb|CY019629|Influenza B virus (B/Czechoslovakia/69/1990) segment 6, complete sequence\n",
      "  0.05\t3\t0\tS2\t408884\t                        Influenza B virus (B/Brazil/975/2000)\n",
      "  0.05\t3\t3\tS3\t3121574\t                          gi|119575048|gb|CY018437|Influenza B virus (B/Brazil/975/2000) segment 4, complete sequence\n",
      "  0.03\t2\t2\tS2\t3244016\t                        gi|1371572618|gb|MH130702|Influenza B virus (B/Alaska/22/2017) segment 4 hemagglutinin (HA) gene, complete cds\n",
      "  0.03\t2\t2\tS2\t3255864\t                        gi|1418609411|gb|MH584169|Influenza B virus (B/Connecticut/25/2018) segment 1 polymerase PB1 (PB1) gene, complete cds\n",
      "  0.02\t1\t1\tS2\t3237210\t                        gi|1354038624|gb|MG869086|Influenza B virus (B/Bethesda/NIH001/2007) segment 6 NB protein (NB) and neuraminidase (NA) genes, complete cds\n",
      "  0.02\t1\t0\tS2\t1884006\t                        Influenza B virus (B/Texas/25/2016)\n",
      "  0.02\t1\t1\tS3\t3213460\t                          gi|1048090358|gb|KX611895|Influenza B virus (B/Texas/25/2016) segment 7 matrix protein 1 (M1) and BM2 protein (BM2) genes, complete cds\n",
      "  0.02\t1\t1\tS2\t3329263\t                        gi|1767654533|gb|MN589196|Influenza B virus (B/Singapore/DMS2160/2012) segment 1 polymerase PB1 (PB1) gene, complete cds\n",
      "  0.02\t1\t0\tS2\t408890\t                        Influenza B virus (B/Georgia/02/1998)\n",
      "  0.02\t1\t1\tS3\t3121145\t                          gi|119515868|gb|CY018407|Influenza B virus (B/Georgia/02/1998) segment 6, complete sequence\n",
      "  0.02\t1\t0\tS2\t408921\t                        Influenza B virus (B/Houston/B850/2005)\n",
      "  0.02\t1\t1\tS3\t3121086\t                          gi|119515728|gb|CY018348|Influenza B virus (B/Houston/B850/2005) segment 2, complete sequence\n",
      "  0.02\t1\t0\tS2\t1640840\t                        Influenza B virus (B/Malaysia/U3901/2014)\n",
      "  0.02\t1\t1\tS3\t3197900\t                          gi|1036637244|gb|KX269985|Influenza B virus (B/Malaysia/U3901/2014) segment 2 polymerase PB2 (PB2) gene, complete cds\n"
     ]
    }
   ],
   "source": [
    "cat ${TEST_BASE_DIR_ncbinoref}/report.txt"
   ]
  },
  {
   "cell_type": "markdown",
   "id": "1dcaa41a-4f52-4a02-adab-08d43784c13e",
   "metadata": {},
   "source": [
    "## Build final DB with RefSeq (segmented) plus all NCBI influenza (segmented)\n",
    "This version of the DB will contain viral RefSeq, processed by the kraken-flu tool to segment the flu genomes and the \"all influenza\" dataset from the [NCBI FTP site](https://ftp.ncbi.nih.gov/genomes/INFLUENZA/), also processed by the kraken-flu tool into segmented genomes.\n",
    "\n",
    "The DB name will be \"all_viral_db1\""
   ]
  },
  {
   "cell_type": "code",
   "execution_count": 1,
   "id": "eb8c2d2c-3a2b-4b23-9ced-626bab9c2443",
   "metadata": {},
   "outputs": [],
   "source": [
    "# these were previously exported, just here for convenience\n",
    "export BASE_DIR=/lustre/scratch126/gsu/team112/personal/fs5/rvi_dev/krakenDBs/kraken_flu/\n",
    "export ALL_INF_LIB=${BASE_DIR}/library_download_all_influenza_ncbi\n",
    "export TAX_PATH=${BASE_DIR}/taxonomy_download/\n",
    "export LIB_PATH_VIR=${BASE_DIR}/library_download_viral/"
   ]
  },
  {
   "cell_type": "code",
   "execution_count": 2,
   "id": "5a48d769-d216-444a-8ab2-d71118068d5d",
   "metadata": {},
   "outputs": [],
   "source": [
    "# path to the new DB\n",
    "export ALL_VIRAL_DB1=${BASE_DIR}/all_viral_db1"
   ]
  },
  {
   "cell_type": "code",
   "execution_count": 5,
   "id": "b4fa5791-0551-48be-a5c1-2fce7c784018",
   "metadata": {},
   "outputs": [],
   "source": [
    "mkdir -p ${ALL_VIRAL_DB1}"
   ]
  },
  {
   "cell_type": "markdown",
   "id": "ad1e88b7-1f5b-4b79-89cb-cf056ddd07bd",
   "metadata": {},
   "source": [
    "### Use kraken-flu at v1.2.0\n",
    "Git install with version number 1.2.0"
   ]
  },
  {
   "cell_type": "code",
   "execution_count": 16,
   "id": "5b000835-04ed-4ece-9c58-83b77a7e2754",
   "metadata": {},
   "outputs": [
    {
     "name": "stdout",
     "output_type": "stream",
     "text": [
      "Collecting kraken_flu@ git+ssh://****@gitlab.internal.sanger.ac.uk/malariagen1/misc_utils/kraken_flu.git@v1.2.0\n",
      "  Cloning ssh://****@gitlab.internal.sanger.ac.uk/malariagen1/misc_utils/kraken_flu.git (to revision v1.2.0) to /tmp/pip-install-g9uffkxe/kraken-flu_5cc50da630dd49c8a133a774b60bc7df\n",
      "  Running command git clone --filter=blob:none --quiet 'ssh://****@gitlab.internal.sanger.ac.uk/malariagen1/misc_utils/kraken_flu.git' /tmp/pip-install-g9uffkxe/kraken-flu_5cc50da630dd49c8a133a774b60bc7df\n",
      "  Running command git checkout -q 6f8bc70b146d074c5c43a2d2a09db65fd4d2fcc0\n",
      "  Resolved ssh://****@gitlab.internal.sanger.ac.uk/malariagen1/misc_utils/kraken_flu.git to commit 6f8bc70b146d074c5c43a2d2a09db65fd4d2fcc0\n",
      "  Installing build dependencies ... \u001b[?25ldone\n",
      "\u001b[?25h  Getting requirements to build wheel ... \u001b[?25ldone\n",
      "\u001b[?25h  Preparing metadata (pyproject.toml) ... \u001b[?25ldone\n",
      "\u001b[?25hRequirement already satisfied: pytest>=6.2.2 in /nfs/users/nfs_f/fs5/kraken_flu/lib/python3.11/site-packages (from kraken_flu@ git+ssh://git@gitlab.internal.sanger.ac.uk/malariagen1/misc_utils/kraken_flu.git@v1.2.0) (7.4.3)\n",
      "Requirement already satisfied: importlib-resources>=5.1.0 in /nfs/users/nfs_f/fs5/kraken_flu/lib/python3.11/site-packages (from kraken_flu@ git+ssh://git@gitlab.internal.sanger.ac.uk/malariagen1/misc_utils/kraken_flu.git@v1.2.0) (6.1.1)\n",
      "Requirement already satisfied: cached-property>=1.5.2 in /nfs/users/nfs_f/fs5/kraken_flu/lib/python3.11/site-packages (from kraken_flu@ git+ssh://git@gitlab.internal.sanger.ac.uk/malariagen1/misc_utils/kraken_flu.git@v1.2.0) (1.5.2)\n",
      "Requirement already satisfied: biopython>=1.80 in /nfs/users/nfs_f/fs5/kraken_flu/lib/python3.11/site-packages (from kraken_flu@ git+ssh://git@gitlab.internal.sanger.ac.uk/malariagen1/misc_utils/kraken_flu.git@v1.2.0) (1.81)\n",
      "Requirement already satisfied: numpy in /nfs/users/nfs_f/fs5/kraken_flu/lib/python3.11/site-packages (from biopython>=1.80->kraken_flu@ git+ssh://git@gitlab.internal.sanger.ac.uk/malariagen1/misc_utils/kraken_flu.git@v1.2.0) (1.26.2)\n",
      "Requirement already satisfied: iniconfig in /nfs/users/nfs_f/fs5/kraken_flu/lib/python3.11/site-packages (from pytest>=6.2.2->kraken_flu@ git+ssh://git@gitlab.internal.sanger.ac.uk/malariagen1/misc_utils/kraken_flu.git@v1.2.0) (2.0.0)\n",
      "Requirement already satisfied: packaging in /nfs/users/nfs_f/fs5/kraken_flu/lib/python3.11/site-packages (from pytest>=6.2.2->kraken_flu@ git+ssh://git@gitlab.internal.sanger.ac.uk/malariagen1/misc_utils/kraken_flu.git@v1.2.0) (23.2)\n",
      "Requirement already satisfied: pluggy<2.0,>=0.12 in /nfs/users/nfs_f/fs5/kraken_flu/lib/python3.11/site-packages (from pytest>=6.2.2->kraken_flu@ git+ssh://git@gitlab.internal.sanger.ac.uk/malariagen1/misc_utils/kraken_flu.git@v1.2.0) (1.3.0)\n",
      "Building wheels for collected packages: kraken_flu\n",
      "  Building wheel for kraken_flu (pyproject.toml) ... \u001b[?25ldone\n",
      "\u001b[?25h  Created wheel for kraken_flu: filename=kraken_flu-1.2.0-py2.py3-none-any.whl size=17672 sha256=397685368fd331ed8c58cc7d9f2e5a3c3a89b19413f407f9270dd62059eb0e77\n",
      "  Stored in directory: /tmp/pip-ephem-wheel-cache-knnv7g1v/wheels/8f/69/99/c3e67cec731769c91202d07057363f5d16bafb6417ea64de05\n",
      "Successfully built kraken_flu\n",
      "Installing collected packages: kraken_flu\n",
      "  Attempting uninstall: kraken_flu\n",
      "    Found existing installation: kraken_flu 1.1.1.dev1+g6995f86\n",
      "    Uninstalling kraken_flu-1.1.1.dev1+g6995f86:\n",
      "      Successfully uninstalled kraken_flu-1.1.1.dev1+g6995f86\n",
      "Successfully installed kraken_flu-1.2.0\n",
      "\n",
      "\u001b[1m[\u001b[0m\u001b[34;49mnotice\u001b[0m\u001b[1;39;49m]\u001b[0m\u001b[39;49m A new release of pip is available: \u001b[0m\u001b[31;49m23.3.1\u001b[0m\u001b[39;49m -> \u001b[0m\u001b[32;49m23.3.2\u001b[0m\n",
      "\u001b[1m[\u001b[0m\u001b[34;49mnotice\u001b[0m\u001b[1;39;49m]\u001b[0m\u001b[39;49m To update, run: \u001b[0m\u001b[32;49mpython3 -m pip install --upgrade pip\u001b[0m\n"
     ]
    }
   ],
   "source": [
    "~/kraken_flu/bin/pip install kraken_flu@git+ssh://git@gitlab.internal.sanger.ac.uk/malariagen1/misc_utils/kraken_flu.git@v1.2.0"
   ]
  },
  {
   "cell_type": "code",
   "execution_count": 6,
   "id": "11694e8d-961d-4dbb-848f-d56cf1a2315f",
   "metadata": {},
   "outputs": [
    {
     "name": "stdout",
     "output_type": "stream",
     "text": [
      "kraken_flu 1.2.0\n"
     ]
    }
   ],
   "source": [
    "~/kraken_flu/bin/kraken_flu -v"
   ]
  },
  {
   "cell_type": "markdown",
   "id": "670ceffe-8042-42a8-b921-b91456f343db",
   "metadata": {},
   "source": [
    "make sure kraken2 is loaded"
   ]
  },
  {
   "cell_type": "code",
   "execution_count": 7,
   "id": "4fa09de9-8963-48c5-99fe-4cafc09d92ce",
   "metadata": {},
   "outputs": [
    {
     "name": "stdout",
     "output_type": "stream",
     "text": [
      "        Module loaded. For more information run 'module help kraken2/2.1.2'.\u001b[m\n",
      "        - By default, kraken2 will search for named databases in /data/pam/softw\u001b[mare/kraken2 and the current working directory. The full path to\u001b[m\n",
      "        any database can also be used.\u001b[m\n",
      "        - `kraken2-build` commands will sometimes experience an error suggesting\u001b[m that it is not possible to download a library using rsync. While the option --u\u001b[mse-ftp\u001b[m\n",
      "        may fix this, rsync tends to be faster and more reliable. Try re-running\u001b[m the `kraken2-build` command until the download is successful. Note that `kraken\u001b[m2-build`\u001b[m\n",
      "        will produce checkpoints during the installation process and will restar\u001b[mt at the last successful step.\u001b[m\n",
      "        - If `kraken2-build build` freezes or hangs indefinitely, using the `--f\u001b[mast-build` option may help. An earlier version of the software (if available) ma\u001b[my also\u001b[m\n",
      "        allow the build step to proceed successfully.\u001b[m\n",
      "\u001b[K\u001b[?1l\u001b>\n"
     ]
    }
   ],
   "source": [
    "module load kraken2/2.1.2"
   ]
  },
  {
   "cell_type": "markdown",
   "id": "343b6230-4b3d-47b0-9945-33286d45bc70",
   "metadata": {},
   "source": [
    "### Prime the DB with viral RefSeq\n",
    "The kraken2-build rsync download is unreliable and sometimes does not work at all (not sure why). It was done already [here](#downloadrefseq), so here we can just reuse the previsouly downloaded and processed files.\n",
    "\n",
    "Create the segmented version of the flu genomes from the downloaded viral RefSeq"
   ]
  },
  {
   "cell_type": "code",
   "execution_count": 8,
   "id": "4bf27a2d-bb26-449c-bf56-5a299fe7c81c",
   "metadata": {},
   "outputs": [
    {
     "name": "stdout",
     "output_type": "stream",
     "text": [
      "2024-01-17 10:21:25,021 writing modified FASTA file to /lustre/scratch126/gsu/team112/personal/fs5/rvi_dev/krakenDBs/kraken_flu//all_viral_db1/library/library.fna\n",
      "2024-01-17 10:21:25,063 scanning file /lustre/scratch126/gsu/team112/personal/fs5/rvi_dev/krakenDBs/kraken_flu//library_download_viral//library/viral/library.fna for influenza viruses\n",
      "2024-01-17 10:21:26,914 done - found 40 segment sequences in FASTA file\n",
      "2024-01-17 10:21:30,436 finished writing modified FASTA file\n",
      "2024-01-17 10:21:30,439 writing modified prelim_map.txt file to /lustre/scratch126/gsu/team112/personal/fs5/rvi_dev/krakenDBs/kraken_flu//all_viral_db1/library/prelim_map.txt\n",
      "2024-01-17 10:21:30,497 finished writing modified prelim_map.txt file\n",
      "2024-01-17 10:21:30,943 writing modified names file to /lustre/scratch126/gsu/team112/personal/fs5/rvi_dev/krakenDBs/kraken_flu//all_viral_db1/taxonomy/names.dmp\n",
      "2024-01-17 10:21:31,001 finished writing modified names file\n",
      "2024-01-17 10:21:31,443 writing modified nodes file to /lustre/scratch126/gsu/team112/personal/fs5/rvi_dev/krakenDBs/kraken_flu//all_viral_db1/taxonomy/nodes.dmp\n",
      "2024-01-17 10:21:31,498 finished writing modified nodes file\n"
     ]
    }
   ],
   "source": [
    "~/kraken_flu/bin/kraken_flu build \\\n",
    "    --library_path ${LIB_PATH_VIR}/library/viral/ \\\n",
    "    --taxonomy_path ${TAX_PATH}/taxonomy \\\n",
    "    --out_dir ${ALL_VIRAL_DB1}"
   ]
  },
  {
   "cell_type": "code",
   "execution_count": 9,
   "id": "74a4cdc2-6edd-4fae-9be0-d53c4c09b880",
   "metadata": {},
   "outputs": [
    {
     "name": "stdout",
     "output_type": "stream",
     "text": [
      "/lustre/scratch126/gsu/team112/personal/fs5/rvi_dev/krakenDBs/kraken_flu//all_viral_db1\n",
      "├── library\n",
      "│   ├── library.fna\n",
      "│   └── prelim_map.txt\n",
      "└── taxonomy\n",
      "    ├── names.dmp\n",
      "    └── nodes.dmp\n",
      "\n",
      "2 directories, 4 files\n"
     ]
    }
   ],
   "source": [
    "# snapshot of the DB folder after this step\n",
    "tree ${ALL_VIRAL_DB1}"
   ]
  },
  {
   "cell_type": "markdown",
   "id": "e0e72d3b-79bd-4497-b0a3-3e3fc6065d74",
   "metadata": {},
   "source": [
    "### add seqid2taxid file\n",
    "Provide as a symlink. Not clear why it is needed. All sequences in this file have a taxid already in the FASTA header but kraken2 insists to have this file"
   ]
  },
  {
   "cell_type": "code",
   "execution_count": 10,
   "id": "a56d7e57-4140-4dc8-929f-3a5d792c2b2c",
   "metadata": {},
   "outputs": [],
   "source": [
    "ln -s ${TAX_PATH}/taxonomy/nucl_gb.accession2taxid ${ALL_VIRAL_DB1}/taxonomy/nucl_gb.accession2taxid"
   ]
  },
  {
   "cell_type": "code",
   "execution_count": 11,
   "id": "53cc7fb5-1194-4510-9f6f-b835fea67139",
   "metadata": {},
   "outputs": [
    {
     "name": "stdout",
     "output_type": "stream",
     "text": [
      "/lustre/scratch126/gsu/team112/personal/fs5/rvi_dev/krakenDBs/kraken_flu//all_viral_db1\n",
      "├── library\n",
      "│   ├── library.fna\n",
      "│   └── prelim_map.txt\n",
      "└── taxonomy\n",
      "    ├── names.dmp\n",
      "    ├── nodes.dmp\n",
      "    └── nucl_gb.accession2taxid -> /lustre/scratch126/gsu/team112/personal/fs5/rvi_dev/krakenDBs/kraken_flu//taxonomy_download//taxonomy/nucl_gb.accession2taxid\n",
      "\n",
      "2 directories, 5 files\n"
     ]
    }
   ],
   "source": [
    "# snapshot of the DB folder after this step\n",
    "tree ${ALL_VIRAL_DB1}"
   ]
  },
  {
   "cell_type": "markdown",
   "id": "760f781d-8539-44b7-9948-0478104e045a",
   "metadata": {},
   "source": [
    "### Filter the NCBI infuenza genomes\n",
    "Use the filter function to discard all non-complete gnomes from the NCBI file. Using the ```--discard_duplicates``` option to ignore (and discard) records where the virus name and segment number is not unique. Such cases are (usually) partial sequences of the different genes on the same segment and we are not interested in such partial segments in any case.   \n",
    "\n",
    "The output file has to be named 'library.fna' as this file is expected by the 2nd step.\n",
    "\n",
    "The output file does NOT need to be in the new DB folder. It is just an intermediate step. Creating it in the download folder so it can be re-used.\n",
    "\n",
    "Note: this was run previously on the same file and could have just re-used that output. Just re-running here to have a complete list of commands to build the final DB."
   ]
  },
  {
   "cell_type": "code",
   "execution_count": 12,
   "id": "2b589b5a-5882-44d5-8ad4-2e8b5618f88f",
   "metadata": {},
   "outputs": [
    {
     "name": "stdout",
     "output_type": "stream",
     "text": [
      "2024-01-17 10:25:43,135 scanning file /lustre/scratch126/gsu/team112/personal/fs5/rvi_dev/krakenDBs/kraken_flu//library_download_all_influenza_ncbi/influenza.fna for FASTA headers with accepted pattern\n",
      "2024-01-17 10:25:52,006 found 106374 genomes (unique names) before filtering\n",
      "2024-01-17 10:25:52,211 341264 FASTA records pass the filters and will be written to output file\n",
      "2024-01-17 10:25:52,263 starting to write filtered genomes to /lustre/scratch126/gsu/team112/personal/fs5/rvi_dev/krakenDBs/kraken_flu//library_download_all_influenza_ncbi/library.fna\n",
      "2024-01-17 10:26:00,028 finished writing filtered genomes to /lustre/scratch126/gsu/team112/personal/fs5/rvi_dev/krakenDBs/kraken_flu//library_download_all_influenza_ncbi/library.fna\n"
     ]
    }
   ],
   "source": [
    "~/kraken_flu/bin/kraken_flu filter \\\n",
    "    --in_fasta ${ALL_INF_LIB}/influenza.fna \\\n",
    "    --out_fasta ${ALL_INF_LIB}/library.fna \\\n",
    "    --discard_duplicates"
   ]
  },
  {
   "cell_type": "markdown",
   "id": "2f1e389b-c935-443e-9804-914e8ddaef6f",
   "metadata": {},
   "source": [
    "### Create the segmented genome files\n",
    "Use the build function of kraken_flu to create the segment genome file.  \n",
    "The ```library_path``` is the one used above to create the filtere all-NCBI influenza genomes file. The build tool expects a file ```library.fna``` in this folder, which is how the file was named in the above filter command.  \n",
    "\n",
    "The --acc2taxid parameter is needed in this case because the sequences from the Influenza resource do not have a taxid in the FASTA header and need their taxid looked up in this foile from NCBI.\n",
    "\n",
    "Path ``--taxonomy_path``` points to the taxonomy directory in the new database folder where the names.dmp and nodes.dmp files have already been modified by the kraken-flu process on the RefSeq dataset. The effect of this is that the additinla names/nodes from the \"all influenza\" dataset will be added on top of those modifications, which is essnetial in order to keep all modifications and not overwrite them.   \n",
    "__TODO__: kraken-flu should have a way of handling multiple datasets in one go.\n",
    "\n",
    "Output to a temporary directory. The kraken2-build tool needs to be run on these files, so they will not be added to the final DB directly. In addition, the current behaviour of the kraken_flu tool would overwrite the library.fna FASTA file from the above viral RefSeq import. This will be changed in a future version"
   ]
  },
  {
   "cell_type": "code",
   "execution_count": 14,
   "id": "34961fcc-dd8d-4d1f-87be-7643bacfe569",
   "metadata": {},
   "outputs": [],
   "source": [
    "mkdir -p ${BASE_DIR}/tmp/all_viral_tmp/"
   ]
  },
  {
   "cell_type": "code",
   "execution_count": 15,
   "id": "921cf4a8-c371-429b-a9c3-9b8b624eeafe",
   "metadata": {},
   "outputs": [
    {
     "name": "stdout",
     "output_type": "stream",
     "text": [
      "2024-01-17 10:35:12,410 writing modified FASTA file to /lustre/scratch126/gsu/team112/personal/fs5/rvi_dev/krakenDBs/kraken_flu//tmp/all_viral_tmp/library/library.fna\n",
      "2024-01-17 10:35:12,422 scanning file /lustre/scratch126/gsu/team112/personal/fs5/rvi_dev/krakenDBs/kraken_flu//library_download_all_influenza_ncbi/library.fna for influenza viruses\n",
      "2024-01-17 10:35:15,742 done - found 254776 segment sequences in FASTA file\n",
      "2024-01-17 10:35:15,742 reading NCBI acc2taxid file to assign taxon IDs to NCBI IDs\n",
      "2024-01-17 10:38:58,326 done reading NCBI acc2taxid file\n",
      "2024-01-17 10:39:05,597 finished writing modified FASTA file\n",
      "2024-01-17 10:39:05,597 no prelim_map.txt file provided in inputs - nothing to do\n",
      "2024-01-17 10:39:06,043 writing modified names file to /lustre/scratch126/gsu/team112/personal/fs5/rvi_dev/krakenDBs/kraken_flu//tmp/all_viral_tmp/taxonomy/names.dmp\n",
      "2024-01-17 10:39:06,261 finished writing modified names file\n",
      "2024-01-17 10:39:06,751 writing modified nodes file to /lustre/scratch126/gsu/team112/personal/fs5/rvi_dev/krakenDBs/kraken_flu//tmp/all_viral_tmp/taxonomy/nodes.dmp\n",
      "2024-01-17 10:39:06,977 finished writing modified nodes file\n"
     ]
    }
   ],
   "source": [
    "~/kraken_flu/bin/kraken_flu build \\\n",
    "    --library_path ${ALL_INF_LIB} \\\n",
    "    --taxonomy_path ${ALL_VIRAL_DB1}/taxonomy \\\n",
    "    --acc2tax_path ${ALL_VIRAL_DB1}/taxonomy/nucl_gb.accession2taxid \\\n",
    "    --out_dir ${BASE_DIR}/tmp/all_viral_tmp/"
   ]
  },
  {
   "cell_type": "code",
   "execution_count": 16,
   "id": "e17f7d27-2c54-4edf-828e-4e6408f5708b",
   "metadata": {},
   "outputs": [
    {
     "name": "stdout",
     "output_type": "stream",
     "text": [
      "/lustre/scratch126/gsu/team112/personal/fs5/rvi_dev/krakenDBs/kraken_flu//tmp/all_viral_tmp/\n",
      "├── library\n",
      "│   └── library.fna\n",
      "└── taxonomy\n",
      "    ├── names.dmp\n",
      "    └── nodes.dmp\n",
      "\n",
      "2 directories, 3 files\n"
     ]
    }
   ],
   "source": [
    "# snapshot of the temp directory that was created in the above command\n",
    "tree ${BASE_DIR}/tmp/all_viral_tmp/"
   ]
  },
  {
   "cell_type": "markdown",
   "id": "0b0d998b-382c-443f-8d87-eaa35976623f",
   "metadata": {},
   "source": [
    "demonstrate that the taxonomy files in this temp dir contain the viral RefSeq as well as the additional \"all influenza\" segment data. Looked up the last entry in the viral RefSeq modified names.dmp file and search for it in the tmp dir, adding the next 10 lines after that. It shows that both the RefSeq and the new \"all influenza\" added names are present"
   ]
  },
  {
   "cell_type": "code",
   "execution_count": 17,
   "id": "b47e85c8-07fb-4193-a64f-59d979cbe60d",
   "metadata": {},
   "outputs": [
    {
     "name": "stdout",
     "output_type": "stream",
     "text": [
      "3108310\t|\tNC_026432.1 Influenza A virus (A/California/07/2009(H1N1)) segment 8 nuclear export protein (NEP) and nonstructural protein 1 (NS1) genes, complete cds\t|\t\t|\tscientific name\t|\n",
      "3108311\t|\tgi|290747|gb|L07370|Influenza A virus (A/Memphis/8/1988(H3N2)) segment 5 nucleoprotein (NP) gene, complete cds\t|\t\t|\tscientific name\t|\n",
      "3108312\t|\tgi|324507|gb|J02146|Influenza A virus (A/Puerto Rico/8/1934(H1N1)) segment 6, complete sequence\t|\t\t|\tscientific name\t|\n",
      "3108313\t|\tgi|324709|gb|J02147|Influenza A virus (A/Puerto Rico/8/1934(H1N1)) segment 5, complete sequence\t|\t\t|\tscientific name\t|\n",
      "3108314\t|\tgi|324833|gb|J02150|Influenza A virus (A/Puerto Rico/8/34(H1N1)) segment 8, complete sequence\t|\t\t|\tscientific name\t|\n",
      "3108315\t|\tgi|325056|gb|M22579|Influenza A virus (A/swine/Germany/2/1981(H1N1)) segment 5 nucleoprotein gene, complete cds\t|\t\t|\tscientific name\t|\n",
      "3108316\t|\tgi|21693162|gb|AF389115|Influenza A virus (A/Puerto Rico/8/34/Mount Sinai(H1N1)) segment 1, complete sequence\t|\t\t|\tscientific name\t|\n",
      "3108317\t|\tgi|21693164|gb|AF389116|Influenza A virus (A/Puerto Rico/8/34/Mount Sinai(H1N1)) segment 2, complete sequence\t|\t\t|\tscientific name\t|\n",
      "3108318\t|\tgi|21693166|gb|AF389117|Influenza A virus (A/Puerto Rico/8/34/Mount Sinai(H1N1)) segment 3, complete sequence\t|\t\t|\tscientific name\t|\n",
      "3108319\t|\tgi|21693168|gb|AF389118|Influenza A virus (A/Puerto Rico/8/34/Mount Sinai(H1N1)) segment 4, complete sequence\t|\t\t|\tscientific name\t|\n",
      "3108320\t|\tgi|21693170|gb|AF389119|Influenza A virus (A/Puerto Rico/8/34/Mount Sinai(H1N1)) segment 5, complete sequence\t|\t\t|\tscientific name\t|\n"
     ]
    }
   ],
   "source": [
    "grep -A 10 NC_026432.1 ${BASE_DIR}/tmp/all_viral_tmp/taxonomy/names.dmp"
   ]
  },
  {
   "cell_type": "markdown",
   "id": "6f973958-374b-4aef-b8c0-9825b91c3ad3",
   "metadata": {},
   "source": [
    "### Combine modified taxonomy files\n",
    "___TODO___: This needs to become a step that is handled by the kraken_flu tool\n",
    "\n",
    "Both datsets (RefSeq and \"all influenza\" have been processed by the kraken_flu tool to treat flu genome segments as taxa in their own rights, which is the whole point of the kraken-flu tool.  \n",
    "This results in modified names.dmp and nodes.dmp files which now need to be copied back into the DB taxonomy folder, which currently contains the modified files from the RefSeq dataset only.   \n",
    "Since the taxonomy files in the tmp folder have been built on top of the RefSeq modified taxonomy files, we can simply overwrite the current files with the versions in the tmp dir."
   ]
  },
  {
   "cell_type": "markdown",
   "id": "f532a423-e397-47a9-b790-84760d26c903",
   "metadata": {},
   "source": [
    "Taxonomy files (names and nodes): overwrite the existing files with the files from the tmp dir. As demonstrated above, the tmp dir files are a combination of the viral RefSeq and the \"all influenza\" dataset."
   ]
  },
  {
   "cell_type": "code",
   "execution_count": 18,
   "id": "b879f541-9eec-4155-a01a-39ceeecdf10a",
   "metadata": {},
   "outputs": [],
   "source": [
    "cp  ${BASE_DIR}/tmp/all_viral_tmp/taxonomy/n*.dmp ${ALL_VIRAL_DB1}/taxonomy/"
   ]
  },
  {
   "cell_type": "code",
   "execution_count": 20,
   "id": "184afa49-103b-45eb-ac11-70c009417938",
   "metadata": {},
   "outputs": [
    {
     "name": "stdout",
     "output_type": "stream",
     "text": [
      "3108310\t|\tNC_026432.1 Influenza A virus (A/California/07/2009(H1N1)) segment 8 nuclear export protein (NEP) and nonstructural protein 1 (NS1) genes, complete cds\t|\t\t|\tscientific name\t|\n",
      "3108311\t|\tgi|290747|gb|L07370|Influenza A virus (A/Memphis/8/1988(H3N2)) segment 5 nucleoprotein (NP) gene, complete cds\t|\t\t|\tscientific name\t|\n",
      "3108312\t|\tgi|324507|gb|J02146|Influenza A virus (A/Puerto Rico/8/1934(H1N1)) segment 6, complete sequence\t|\t\t|\tscientific name\t|\n",
      "3108313\t|\tgi|324709|gb|J02147|Influenza A virus (A/Puerto Rico/8/1934(H1N1)) segment 5, complete sequence\t|\t\t|\tscientific name\t|\n",
      "3108314\t|\tgi|324833|gb|J02150|Influenza A virus (A/Puerto Rico/8/34(H1N1)) segment 8, complete sequence\t|\t\t|\tscientific name\t|\n",
      "3108315\t|\tgi|325056|gb|M22579|Influenza A virus (A/swine/Germany/2/1981(H1N1)) segment 5 nucleoprotein gene, complete cds\t|\t\t|\tscientific name\t|\n",
      "3108316\t|\tgi|21693162|gb|AF389115|Influenza A virus (A/Puerto Rico/8/34/Mount Sinai(H1N1)) segment 1, complete sequence\t|\t\t|\tscientific name\t|\n",
      "3108317\t|\tgi|21693164|gb|AF389116|Influenza A virus (A/Puerto Rico/8/34/Mount Sinai(H1N1)) segment 2, complete sequence\t|\t\t|\tscientific name\t|\n",
      "3108318\t|\tgi|21693166|gb|AF389117|Influenza A virus (A/Puerto Rico/8/34/Mount Sinai(H1N1)) segment 3, complete sequence\t|\t\t|\tscientific name\t|\n",
      "3108319\t|\tgi|21693168|gb|AF389118|Influenza A virus (A/Puerto Rico/8/34/Mount Sinai(H1N1)) segment 4, complete sequence\t|\t\t|\tscientific name\t|\n",
      "3108320\t|\tgi|21693170|gb|AF389119|Influenza A virus (A/Puerto Rico/8/34/Mount Sinai(H1N1)) segment 5, complete sequence\t|\t\t|\tscientific name\t|\n"
     ]
    }
   ],
   "source": [
    "# double-checking that the file in the final DB folder contains modifications from both datasets (see above)\n",
    "grep -A 10 NC_026432.1 ${ALL_VIRAL_DB1}/taxonomy/names.dmp"
   ]
  },
  {
   "cell_type": "markdown",
   "id": "c8bcde88-1183-4225-ab22-8200e6f9295c",
   "metadata": {},
   "source": [
    "### use kraken2 build tool to add \"all influenza\" set to DB\n",
    "Not entirely sure why this step is needed. Previously tried to simply append the FASTA file from the \"all influenza\" tmp dir to the already existing library.fna in the DB dir. The expectaion was that this would provide all the data needed to build the final database but the result only contained the RefSeq genomes and none of the \"all influenza\" (result of running kraken2 with simualted data and also running kraken2-insepct on the final DB). "
   ]
  },
  {
   "cell_type": "code",
   "execution_count": 21,
   "id": "a9d47530-eb25-4926-8077-bb0a082d0c8f",
   "metadata": {},
   "outputs": [
    {
     "name": "stdout",
     "output_type": "stream",
     "text": [
      "Masking low-complexity regions of new file... done.\n",
      "Added \"/lustre/scratch126/gsu/team112/personal/fs5/rvi_dev/krakenDBs/kraken_flu//tmp/all_viral_tmp/library/library.fna\" to library (/lustre/scratch126/gsu/team112/personal/fs5/rvi_dev/krakenDBs/kraken_flu//all_viral_db1)\n"
     ]
    }
   ],
   "source": [
    "kraken2-build \\\n",
    "    --add-to-library ${BASE_DIR}/tmp/all_viral_tmp/library/library.fna \\\n",
    "    --db ${ALL_VIRAL_DB1}"
   ]
  },
  {
   "cell_type": "code",
   "execution_count": 23,
   "id": "6060e83b-089b-448d-900d-7c34cb6d75e7",
   "metadata": {},
   "outputs": [
    {
     "name": "stdout",
     "output_type": "stream",
     "text": [
      "/lustre/scratch126/gsu/team112/personal/fs5/rvi_dev/krakenDBs/kraken_flu//all_viral_db1\n",
      "├── library\n",
      "│   ├── added\n",
      "│   │   ├── cZ6g3o2lK2.fna\n",
      "│   │   ├── cZ6g3o2lK2.fna.masked\n",
      "│   │   └── prelim_map_jSmcIeIXIr.txt\n",
      "│   ├── library.fna\n",
      "│   └── prelim_map.txt\n",
      "└── taxonomy\n",
      "    ├── names.dmp\n",
      "    ├── nodes.dmp\n",
      "    └── nucl_gb.accession2taxid -> /lustre/scratch126/gsu/team112/personal/fs5/rvi_dev/krakenDBs/kraken_flu//taxonomy_download//taxonomy/nucl_gb.accession2taxid\n",
      "\n",
      "3 directories, 8 files\n"
     ]
    }
   ],
   "source": [
    "# snapshot of the DB folder after this step\n",
    "tree ${ALL_VIRAL_DB1}"
   ]
  },
  {
   "cell_type": "markdown",
   "id": "36eccb51-2395-485d-b12e-d17ec3df76a4",
   "metadata": {},
   "source": [
    "### build the final database\n"
   ]
  },
  {
   "cell_type": "code",
   "execution_count": 24,
   "id": "54f53f0c-114e-4f61-b620-d5dd8717dfe2",
   "metadata": {},
   "outputs": [
    {
     "name": "stdout",
     "output_type": "stream",
     "text": [
      "Creating sequence ID to taxonomy ID map (step 1)...\n",
      "Found 3194/86488 targets, searched through 51295150 accession IDs...\r"
     ]
    },
    {
     "name": "stderr",
     "output_type": "stream",
     "text": [
      "IOPub message rate exceeded.\n",
      "The Jupyter server will temporarily stop sending output\n",
      "to the client in order to avoid crashing it.\n",
      "To change this limit, set the config variable\n",
      "`--ServerApp.iopub_msg_rate_limit`.\n",
      "\n",
      "Current values:\n",
      "ServerApp.iopub_msg_rate_limit=1000.0 (msgs/sec)\n",
      "ServerApp.rate_limit_window=3.0 (secs)\n",
      "\n"
     ]
    },
    {
     "name": "stdout",
     "output_type": "stream",
     "text": [
      "Found 7513/86488 targets, searched through 51318527 accession IDs...\r"
     ]
    },
    {
     "name": "stderr",
     "output_type": "stream",
     "text": [
      "IOPub message rate exceeded.\n",
      "The Jupyter server will temporarily stop sending output\n",
      "to the client in order to avoid crashing it.\n",
      "To change this limit, set the config variable\n",
      "`--ServerApp.iopub_msg_rate_limit`.\n",
      "\n",
      "Current values:\n",
      "ServerApp.iopub_msg_rate_limit=1000.0 (msgs/sec)\n",
      "ServerApp.rate_limit_window=3.0 (secs)\n",
      "\n"
     ]
    },
    {
     "name": "stdout",
     "output_type": "stream",
     "text": [
      "Found 19037/86488 targets, searched through 181858598 accession IDs...\r"
     ]
    },
    {
     "name": "stderr",
     "output_type": "stream",
     "text": [
      "IOPub message rate exceeded.\n",
      "The Jupyter server will temporarily stop sending output\n",
      "to the client in order to avoid crashing it.\n",
      "To change this limit, set the config variable\n",
      "`--ServerApp.iopub_msg_rate_limit`.\n",
      "\n",
      "Current values:\n",
      "ServerApp.iopub_msg_rate_limit=1000.0 (msgs/sec)\n",
      "ServerApp.rate_limit_window=3.0 (secs)\n",
      "\n"
     ]
    },
    {
     "name": "stdout",
     "output_type": "stream",
     "text": [
      "Found 22853/86488 targets, searched through 185313273 accession IDs...\r"
     ]
    },
    {
     "name": "stderr",
     "output_type": "stream",
     "text": [
      "IOPub message rate exceeded.\n",
      "The Jupyter server will temporarily stop sending output\n",
      "to the client in order to avoid crashing it.\n",
      "To change this limit, set the config variable\n",
      "`--ServerApp.iopub_msg_rate_limit`.\n",
      "\n",
      "Current values:\n",
      "ServerApp.iopub_msg_rate_limit=1000.0 (msgs/sec)\n",
      "ServerApp.rate_limit_window=3.0 (secs)\n",
      "\n"
     ]
    },
    {
     "name": "stdout",
     "output_type": "stream",
     "text": [
      "Found 27725/86488 targets, searched through 187992805 accession IDs...\r"
     ]
    },
    {
     "name": "stderr",
     "output_type": "stream",
     "text": [
      "IOPub message rate exceeded.\n",
      "The Jupyter server will temporarily stop sending output\n",
      "to the client in order to avoid crashing it.\n",
      "To change this limit, set the config variable\n",
      "`--ServerApp.iopub_msg_rate_limit`.\n",
      "\n",
      "Current values:\n",
      "ServerApp.iopub_msg_rate_limit=1000.0 (msgs/sec)\n",
      "ServerApp.rate_limit_window=3.0 (secs)\n",
      "\n"
     ]
    },
    {
     "name": "stdout",
     "output_type": "stream",
     "text": [
      "Found 31955/86488 targets, searched through 188596769 accession IDs...\r"
     ]
    },
    {
     "name": "stderr",
     "output_type": "stream",
     "text": [
      "IOPub message rate exceeded.\n",
      "The Jupyter server will temporarily stop sending output\n",
      "to the client in order to avoid crashing it.\n",
      "To change this limit, set the config variable\n",
      "`--ServerApp.iopub_msg_rate_limit`.\n",
      "\n",
      "Current values:\n",
      "ServerApp.iopub_msg_rate_limit=1000.0 (msgs/sec)\n",
      "ServerApp.rate_limit_window=3.0 (secs)\n",
      "\n"
     ]
    },
    {
     "name": "stdout",
     "output_type": "stream",
     "text": [
      "Found 36196/86488 targets, searched through 191714165 accession IDs...\r"
     ]
    },
    {
     "name": "stderr",
     "output_type": "stream",
     "text": [
      "IOPub message rate exceeded.\n",
      "The Jupyter server will temporarily stop sending output\n",
      "to the client in order to avoid crashing it.\n",
      "To change this limit, set the config variable\n",
      "`--ServerApp.iopub_msg_rate_limit`.\n",
      "\n",
      "Current values:\n",
      "ServerApp.iopub_msg_rate_limit=1000.0 (msgs/sec)\n",
      "ServerApp.rate_limit_window=3.0 (secs)\n",
      "\n"
     ]
    },
    {
     "name": "stdout",
     "output_type": "stream",
     "text": [
      "Found 40254/86488 targets, searched through 193160717 accession IDs...\r"
     ]
    },
    {
     "name": "stderr",
     "output_type": "stream",
     "text": [
      "IOPub message rate exceeded.\n",
      "The Jupyter server will temporarily stop sending output\n",
      "to the client in order to avoid crashing it.\n",
      "To change this limit, set the config variable\n",
      "`--ServerApp.iopub_msg_rate_limit`.\n",
      "\n",
      "Current values:\n",
      "ServerApp.iopub_msg_rate_limit=1000.0 (msgs/sec)\n",
      "ServerApp.rate_limit_window=3.0 (secs)\n",
      "\n"
     ]
    },
    {
     "name": "stdout",
     "output_type": "stream",
     "text": [
      "Found 42790/86488 targets, searched through 193538992 accession IDs...\r"
     ]
    },
    {
     "name": "stderr",
     "output_type": "stream",
     "text": [
      "IOPub message rate exceeded.\n",
      "The Jupyter server will temporarily stop sending output\n",
      "to the client in order to avoid crashing it.\n",
      "To change this limit, set the config variable\n",
      "`--ServerApp.iopub_msg_rate_limit`.\n",
      "\n",
      "Current values:\n",
      "ServerApp.iopub_msg_rate_limit=1000.0 (msgs/sec)\n",
      "ServerApp.rate_limit_window=3.0 (secs)\n",
      "\n"
     ]
    },
    {
     "name": "stdout",
     "output_type": "stream",
     "text": [
      "Found 45320/86488 targets, searched through 193689779 accession IDs...\r"
     ]
    },
    {
     "name": "stderr",
     "output_type": "stream",
     "text": [
      "IOPub message rate exceeded.\n",
      "The Jupyter server will temporarily stop sending output\n",
      "to the client in order to avoid crashing it.\n",
      "To change this limit, set the config variable\n",
      "`--ServerApp.iopub_msg_rate_limit`.\n",
      "\n",
      "Current values:\n",
      "ServerApp.iopub_msg_rate_limit=1000.0 (msgs/sec)\n",
      "ServerApp.rate_limit_window=3.0 (secs)\n",
      "\n"
     ]
    },
    {
     "name": "stdout",
     "output_type": "stream",
     "text": [
      "Found 55027/86488 targets, searched through 216265499 accession IDs...\r"
     ]
    },
    {
     "name": "stderr",
     "output_type": "stream",
     "text": [
      "IOPub message rate exceeded.\n",
      "The Jupyter server will temporarily stop sending output\n",
      "to the client in order to avoid crashing it.\n",
      "To change this limit, set the config variable\n",
      "`--ServerApp.iopub_msg_rate_limit`.\n",
      "\n",
      "Current values:\n",
      "ServerApp.iopub_msg_rate_limit=1000.0 (msgs/sec)\n",
      "ServerApp.rate_limit_window=3.0 (secs)\n",
      "\n"
     ]
    },
    {
     "name": "stdout",
     "output_type": "stream",
     "text": [
      "Found 61854/86488 targets, searched through 218052237 accession IDs...\r"
     ]
    },
    {
     "name": "stderr",
     "output_type": "stream",
     "text": [
      "IOPub message rate exceeded.\n",
      "The Jupyter server will temporarily stop sending output\n",
      "to the client in order to avoid crashing it.\n",
      "To change this limit, set the config variable\n",
      "`--ServerApp.iopub_msg_rate_limit`.\n",
      "\n",
      "Current values:\n",
      "ServerApp.iopub_msg_rate_limit=1000.0 (msgs/sec)\n",
      "ServerApp.rate_limit_window=3.0 (secs)\n",
      "\n"
     ]
    },
    {
     "name": "stdout",
     "output_type": "stream",
     "text": [
      "Found 76117/86488 targets, searched through 220843418 accession IDs...\r"
     ]
    },
    {
     "name": "stderr",
     "output_type": "stream",
     "text": [
      "IOPub message rate exceeded.\n",
      "The Jupyter server will temporarily stop sending output\n",
      "to the client in order to avoid crashing it.\n",
      "To change this limit, set the config variable\n",
      "`--ServerApp.iopub_msg_rate_limit`.\n",
      "\n",
      "Current values:\n",
      "ServerApp.iopub_msg_rate_limit=1000.0 (msgs/sec)\n",
      "ServerApp.rate_limit_window=3.0 (secs)\n",
      "\n"
     ]
    },
    {
     "name": "stdout",
     "output_type": "stream",
     "text": [
      "Found 86488/86488 targets, searched through 225690352 accession IDs, search complete.\n",
      "Sequence ID to taxonomy ID map complete. [43.284s]\n",
      "Estimating required capacity (step 2)...\n",
      "Estimated hash table requirement: 664979748 bytes\n",
      "Capacity estimation complete. [30.992s]\n",
      "Building database files (step 3)...\n",
      "Taxonomy parsed and converted.\n",
      "CHT created with 19 bits reserved for taxid.\n",
      "Completed processing of 359903 sequences, 1123340241 bp\n",
      "Writing data to disk...  complete.\n",
      "Database files completed. [2m39.035s]\n",
      "Database construction complete. [Total: 3m53.385s]\n"
     ]
    }
   ],
   "source": [
    "kraken2-build \\\n",
    "    --build \\\n",
    "    --db ${ALL_VIRAL_DB1}"
   ]
  },
  {
   "cell_type": "code",
   "execution_count": 25,
   "id": "07c21576-718d-49e7-ab6e-4ea7520cabda",
   "metadata": {},
   "outputs": [
    {
     "name": "stdout",
     "output_type": "stream",
     "text": [
      "/lustre/scratch126/gsu/team112/personal/fs5/rvi_dev/krakenDBs/kraken_flu//all_viral_db1\n",
      "├── hash.k2d\n",
      "├── library\n",
      "│   ├── added\n",
      "│   │   ├── cZ6g3o2lK2.fna\n",
      "│   │   ├── cZ6g3o2lK2.fna.masked\n",
      "│   │   ├── prelim_map_jSmcIeIXIr.txt\n",
      "│   │   └── prelim_map.txt\n",
      "│   ├── library.fna\n",
      "│   └── prelim_map.txt\n",
      "├── opts.k2d\n",
      "├── seqid2taxid.map\n",
      "├── taxo.k2d\n",
      "└── taxonomy\n",
      "    ├── names.dmp\n",
      "    ├── nodes.dmp\n",
      "    ├── nucl_gb.accession2taxid -> /lustre/scratch126/gsu/team112/personal/fs5/rvi_dev/krakenDBs/kraken_flu//taxonomy_download//taxonomy/nucl_gb.accession2taxid\n",
      "    └── prelim_map.txt\n",
      "\n",
      "3 directories, 14 files\n"
     ]
    }
   ],
   "source": [
    "# snapshot of the DB folder after this step\n",
    "tree ${ALL_VIRAL_DB1}"
   ]
  },
  {
   "cell_type": "markdown",
   "id": "c204c978-ff83-401c-9b8e-908d88df795b",
   "metadata": {},
   "source": [
    "### Inspect the final DB\n",
    "Make sure all genomes are present and that influenza genomes have been segmented as intended."
   ]
  },
  {
   "cell_type": "markdown",
   "id": "8af9f74a-d862-4bed-8732-bedbbe08f013",
   "metadata": {},
   "source": [
    "run kraken2 inspect tool and save the result in a tmp file"
   ]
  },
  {
   "cell_type": "code",
   "execution_count": 26,
   "id": "b0f5c53d-5a13-42d9-be60-76dfd4a45e64",
   "metadata": {},
   "outputs": [],
   "source": [
    "kraken2-inspect --db ${ALL_VIRAL_DB1} > ~/tmp/inspect_all_viral_db1"
   ]
  },
  {
   "cell_type": "markdown",
   "id": "64376fc0-8cf7-45f3-ab97-9f2012253304",
   "metadata": {},
   "source": [
    "does the DB contain segmented influenxa genomes from RefSeq (which have an NC_xxxx accesion ID)?"
   ]
  },
  {
   "cell_type": "code",
   "execution_count": 28,
   "id": "0012cb6d-9658-4a98-8eb7-e3d8e1bca141",
   "metadata": {},
   "outputs": [
    {
     "name": "stdout",
     "output_type": "stream",
     "text": [
      "  0.00\t33\t33\tS4\t3108296\t                            NC_002021.1 Influenza A virus (A/Puerto Rico/8/1934(H1N1)) segment 2, complete sequence\n",
      "  0.00\t53\t53\tS3\t3108287\t                          NC_002205.1 Influenza B virus (B/Lee/1940) segment 2, complete sequence\n"
     ]
    }
   ],
   "source": [
    "grep \"segment 2\" ~/tmp/inspect_all_viral_db1 | grep NC_"
   ]
  },
  {
   "cell_type": "markdown",
   "id": "c3e0c55c-068e-4fc9-b7f6-33f7af80f61c",
   "metadata": {},
   "source": [
    "-> correct"
   ]
  },
  {
   "cell_type": "markdown",
   "id": "ebb6558d-f474-495a-880b-a7c2f4f99b4e",
   "metadata": {},
   "source": [
    "does it also contain non-RefSeq (accession not NC_xxxx)?"
   ]
  },
  {
   "cell_type": "code",
   "execution_count": 33,
   "id": "ac13592d-f8d5-41d8-a2ae-beb36250d9b7",
   "metadata": {},
   "outputs": [
    {
     "name": "stdout",
     "output_type": "stream",
     "text": [
      "  0.00\t157\t157\tS4\t3166347\t                            gi|482578082|gb|KC859228|Influenza A virus (A/swine/Thailand/CB001/2009(H1N1)) segment 2 polymerase PB1 (PB1) gene, complete cds\n",
      "  0.00\t168\t168\tS4\t3169851\t                            gi|563408516|gb|KF840458|Influenza A virus (A/swine/England/117316/1986(H1N1)) segment 2 polymerase PB1 (PB1) and putative PB1-F2 protein (PB1-F2) genes, complete cds\n",
      "  0.00\t107\t107\tS4\t3170338\t                            gi|584462324|gb|KJ162035|Influenza A virus (A/swine/Thailand/CU-S3350N/2012(H1N1)) segment 2 polymerase PB1 (PB1) and PB1-F2 protein (PB1-F2) genes, complete cds\n",
      "  0.00\t22\t22\tS4\t3202569\t                            gi|1017034793|gb|KU976691|Influenza A virus (A/swine/Mexico/AVX30/2012(H1N1)) segment 2 polymerase PB1 (PB1) gene, complete cds; and PB1-F2 pseudogene, complete sequence\n",
      "  0.00\t176\t176\tS4\t3181659\t                            gi|827498483|gb|KR700677|Influenza A virus (A/swine/England/1251/2011(H1N1)) segment 2 polymerase PB1 (PB1) and PB1-F2 protein (PB1-F2) genes, complete cds\n",
      "grep: write error: Broken pipe\n",
      "grep: write error: Broken pipe\n"
     ]
    }
   ],
   "source": [
    "grep \"segment 2\" ~/tmp/inspect_all_viral_db1 | grep -v NC_ | head -5"
   ]
  },
  {
   "cell_type": "markdown",
   "id": "0888cac1-44a0-40e9-bc26-3a523b1d102f",
   "metadata": {},
   "source": [
    "-> correct (not sure why the broken pipe error, cmd works fine in terminal)"
   ]
  },
  {
   "cell_type": "markdown",
   "id": "f633ae67-c072-49fa-a910-943347c969a7",
   "metadata": {},
   "source": [
    "### Test with simulated data"
   ]
  },
  {
   "cell_type": "code",
   "execution_count": 34,
   "id": "36876e2a-ee9d-42ed-89c3-5103d8f042f1",
   "metadata": {},
   "outputs": [],
   "source": [
    "export TEST_BASE_DIR_final=/lustre/scratch126/gsu/team112/personal/fs5/rvi_dev/krakenDBs/kraken_flu_test_final/"
   ]
  },
  {
   "cell_type": "code",
   "execution_count": 36,
   "id": "79fb5439-c854-4d4d-bc6a-a61e2182e025",
   "metadata": {},
   "outputs": [],
   "source": [
    "mkdir -p ${TEST_BASE_DIR_final}"
   ]
  },
  {
   "cell_type": "code",
   "execution_count": 37,
   "id": "263ae268-47e9-48dc-8da8-2bd62866625c",
   "metadata": {},
   "outputs": [
    {
     "name": "stdout",
     "output_type": "stream",
     "text": [
      "Loading database information... done.\n",
      "6620 sequences (1.99 Mbp) processed in 0.180s (2202.9 Kseq/m, 660.88 Mbp/m).\n",
      "  6618 sequences classified (99.97%)\n",
      "  2 sequences unclassified (0.03%)\n"
     ]
    }
   ],
   "source": [
    "kraken2 \\\n",
    "    --db ${ALL_VIRAL_DB1} \\\n",
    "    --output ${TEST_BASE_DIR_final}/output.kraken \\\n",
    "    --paired \\\n",
    "    --classified-out ${TEST_BASE_DIR_final}/class_seqs#.fq \\\n",
    "    --unclassified-out ${TEST_BASE_DIR_final}/unclass_seqs#.fq \\\n",
    "    --report ${TEST_BASE_DIR_final}/report.txt \\\n",
    "/lustre/scratch126/gsu/team112/personal/fs5/rvi_dev/sim_reads/art/mix/mix_of_all_01-1.fq \\\n",
    "/lustre/scratch126/gsu/team112/personal/fs5/rvi_dev/sim_reads/art/mix/mix_of_all_01-2.fq"
   ]
  },
  {
   "cell_type": "code",
   "execution_count": 38,
   "id": "6f7e352d-dd4d-4585-a688-a9590d6b69ad",
   "metadata": {},
   "outputs": [
    {
     "name": "stdout",
     "output_type": "stream",
     "text": [
      "  0.03\t2\t2\tU\t0\tunclassified\n",
      " 99.97\t6618\t0\tR\t1\troot\n",
      " 99.97\t6618\t0\tD\t10239\t  Viruses\n",
      " 99.97\t6618\t0\tD1\t2559587\t    Riboviria\n",
      " 99.97\t6618\t0\tK\t2732396\t      Orthornavirae\n",
      " 69.91\t4628\t0\tP\t2497569\t        Negarnaviricota\n",
      " 39.43\t2610\t0\tP1\t2497571\t          Polyploviricotina\n",
      " 39.43\t2610\t0\tC\t2497577\t            Insthoviricetes\n",
      " 39.43\t2610\t0\tO\t2499411\t              Articulavirales\n",
      " 39.43\t2610\t0\tF\t11308\t                Orthomyxoviridae\n",
      " 25.53\t1690\t0\tG\t197911\t                  Alphainfluenzavirus\n",
      " 25.53\t1690\t0\tS\t2955291\t                    Alphainfluenzavirus influenzae\n",
      " 25.53\t1690\t1285\tS1\t11320\t                      Influenza A virus\n",
      "  4.27\t283\t137\tS2\t119210\t                        H3N2 subtype\n",
      "  1.59\t105\t105\tS3\t335341\t                          Influenza A virus (A/New York/392/2004(H3N2))\n",
      "  0.14\t9\t0\tS3\t1910719\t                          Influenza A virus (A/Rhode Island/29/2016(H3N2))\n",
      "  0.14\t9\t9\tS4\t3230699\t                            gi|1095416191|gb|KY003383|Influenza A virus (A/Rhode Island/29/2016(H3N2)) segment 7 matrix protein 2 (M2) and matrix protein 1 (M1) genes, complete cds\n",
      "  0.03\t2\t0\tS3\t1978707\t                          Influenza A virus (A/Santa Cruz do Sul/LACENRS-913/2011(H3N2))\n",
      "  0.03\t2\t2\tS4\t3237719\t                            gi|1181555991|gb|KY925025|Influenza A virus (A/Santa Cruz do Sul/LACENRS-913/2011(H3N2)) segment 1 polymerase PB2 (PB2) gene, complete cds\n",
      "  0.02\t1\t0\tS3\t1639304\t                          Influenza A virus (A/California/17/2014(H3N2))\n",
      "  0.02\t1\t1\tS4\t3180760\t                            gi|807068976|gb|KR057683|Influenza A virus (A/California/17/2014(H3N2)) segment 1 polymerase PB2 (PB2) gene, complete cds\n",
      "  0.02\t1\t0\tS3\t355486\t                          Influenza A virus (A/New York/518/1998(H3N2))\n",
      "  0.02\t1\t1\tS4\t3112152\t                            gi|82502355|gb|CY006482|Influenza A virus (A/New York/518/1998(H3N2)) segment 1, complete sequence\n",
      "  0.02\t1\t0\tS3\t383220\t                          Influenza A virus (A/Waikato/139/2003(H3N2))\n",
      "  0.02\t1\t1\tS4\t3117354\t                            gi|110333361|gb|CY012408|Influenza A virus (A/Waikato/139/2003(H3N2)) segment 4, complete sequence\n",
      "  0.02\t1\t0\tS3\t502055\t                          Influenza A virus (A/swine/Iowa/H02AS8/2002(H3N2))\n",
      "  0.02\t1\t1\tS4\t3140728\t                            gi|262475039|gb|GU135897|Influenza A virus (A/swine/Iowa/H02AS8/2002(H3N2)) segment 2 polymerase PB1 (PB1) gene, complete cds\n",
      "  0.02\t1\t0\tS3\t1731070\t                          Influenza A virus (A/Delaware/09/2015(H3N2))\n",
      "  0.02\t1\t1\tS4\t3184743\t                            gi|937142507|gb|KT835909|Influenza A virus (A/Delaware/09/2015(H3N2)) segment 2 polymerase PB1 (PB1) and PB1-F2 protein (PB1-F2) genes, complete cds\n",
      "  0.02\t1\t0\tS3\t353484\t                          Influenza A virus (A/Canterbury/270/2005(H3N2))\n",
      "  0.02\t1\t1\tS4\t3114296\t                            gi|87043110|gb|CY008658|Influenza A virus (A/Canterbury/270/2005(H3N2)) segment 2, complete sequence\n",
      "  0.02\t1\t0\tS3\t1517285\t                          Influenza A virus (A/Singapore/C2012.197/2012(H3N2))\n",
      "  0.02\t1\t1\tS4\t3175768\t                            gi|666879923|gb|KM070101|Influenza A virus (A/Singapore/C2012.197/2012(H3N2)) segment 8 nuclear export protein (NEP) and nonstructural protein 1 (NS1) genes, complete cds\n",
      "  0.02\t1\t0\tS3\t940821\t                          Influenza A virus (A/swine/QC/1840-2/2009(H3N2))\n",
      "  0.02\t1\t1\tS4\t3158364\t                            gi|319657006|gb|HQ825235|Influenza A virus (A/swine/QC/1840-2/2009(H3N2)) segment 4 hemagglutinin (HA) gene, complete cds\n",
      "  0.02\t1\t0\tS3\t1820539\t                          Influenza A virus (A/swine/Mexico/AVX13/2012(H3N2))\n",
      "  0.02\t1\t1\tS4\t3202664\t                            gi|1017035090|gb|KU976524|Influenza A virus (A/swine/Mexico/AVX13/2012(H3N2)) segment 4 hemagglutinin (HA) gene, complete cds\n",
      "  0.02\t1\t0\tS3\t311757\t                          Influenza A virus (A/New York/184/1999(H3N2))\n",
      "  0.02\t1\t1\tS4\t3109811\t                            gi|66473502|gb|CY001459|Influenza A virus (A/New York/184/1999(H3N2)) segment 2, complete sequence\n",
      "  0.02\t1\t0\tS3\t383055\t                          Influenza A virus (A/New York/714/1994(H3N2))\n",
      "  0.02\t1\t1\tS4\t3117537\t                            gi|110629278|gb|CY012560|Influenza A virus (A/New York/714/1994(H3N2)) segment 4, complete sequence\n",
      "  0.02\t1\t0\tS3\t2036952\t                          Influenza A virus (A/swine/North Carolina/A02219753/2017(H3N2))\n",
      "  0.02\t1\t1\tS4\t3244041\t                            gi|1327828375|gb|MG784624|Influenza A virus (A/swine/North Carolina/A02219753/2017(H3N2)) segment 3 polymerase PA (PA) and PA-X protein (PA-X) genes, complete cds\n",
      "  0.02\t1\t0\tS3\t1731897\t                          Influenza A virus (A/Virginia/37/2014(H3N2))\n",
      "  0.02\t1\t1\tS4\t3188702\t                            gi|937154001|gb|KT840285|Influenza A virus (A/Virginia/37/2014(H3N2)) segment 1 polymerase PB2 (PB2) gene, complete cds\n",
      "  0.02\t1\t0\tS3\t353348\t                          Influenza A virus (A/Canterbury/16/2004(H3N2))\n",
      "  0.02\t1\t1\tS4\t3113039\t                            gi|83752273|gb|CY007361|Influenza A virus (A/Canterbury/16/2004(H3N2)) segment 2, complete sequence\n",
      "  0.02\t1\t0\tS3\t1909953\t                          Influenza A virus (A/Hawaii/61/2016(H3N2))\n",
      "  0.02\t1\t1\tS4\t3225089\t                            gi|1073671226|gb|KX916859|Influenza A virus (A/Hawaii/61/2016(H3N2)) segment 3 polymerase PA (PA) and PA-X protein (PA-X) genes, complete cds\n",
      "  0.02\t1\t0\tS3\t586160\t                          Influenza A virus (A/Hong Kong/HKU22/2004(H3N2))\n",
      "  0.02\t1\t1\tS4\t3133201\t                            gi|225907955|gb|CY038624|Influenza A virus (A/Hong Kong/HKU22/2004(H3N2)) segment 7, complete sequence\n",
      "  0.02\t1\t0\tS3\t1515684\t                          Influenza A virus (A/swine/Guangxi/JGB4/2013(H3N2))\n",
      "  0.02\t1\t1\tS4\t3175230\t                            gi|664806187|gb|KM061019|Influenza A virus (A/swine/Guangxi/JGB4/2013(H3N2)) segment 6 neuraminidase (NA) gene, complete cds\n",
      "  0.02\t1\t0\tS3\t364138\t                          Influenza A virus (A/New York/540/1998(H3N2))\n",
      "  0.02\t1\t1\tS4\t3114004\t                            gi|86816427|gb|CY008966|Influenza A virus (A/New York/540/1998(H3N2)) segment 6, complete sequence\n",
      "  0.02\t1\t0\tS3\t1541155\t                          Influenza A virus (A/Quebec/26-281106/2006(H3N2))\n",
      "  0.02\t1\t1\tS4\t3177491\t                            gi|695308098|gb|KM438105|Influenza A virus (A/Quebec/26-281106/2006(H3N2)) segment 7 matrix protein 2 (M2) and matrix protein 1 (M1) genes, complete cds\n",
      "  0.02\t1\t0\tS3\t586210\t                          Influenza A virus (A/Hong Kong/HKU72/2005(H3N2))\n",
      "  0.02\t1\t1\tS4\t3137147\t                            gi|255529075|gb|CY043762|Influenza A virus (A/Hong Kong/HKU72/2005(H3N2)) segment 6, complete sequence\n",
      "  0.02\t1\t0\tS3\t383588\t                          Influenza A virus (A/Memphis/8/1988(H3N2))\n",
      "  0.02\t1\t1\tS4\t3115857\t                            gi|94959525|gb|CY010761|Influenza A virus (A/Memphis/8/1988(H3N2)) segment 3, complete sequence\n",
      "  0.02\t1\t0\tS3\t1517335\t                          Influenza A virus (A/Singapore/H2013.384/2013(H3N2))\n",
      "  0.02\t1\t1\tS4\t3175897\t                            gi|666880352|gb|KM070244|Influenza A virus (A/Singapore/H2013.384/2013(H3N2)) segment 3 polymerase PA (PA) and PA-X protein (PA-X) genes, complete cds\n",
      "  0.02\t1\t0\tS3\t1905820\t                          Influenza A virus (A/swine/Minnesota/A01781222/2016(H3N2))\n",
      "  0.02\t1\t1\tS4\t3238784\t                            gi|1196819315|gb|MF045192|Influenza A virus (A/swine/Minnesota/A01781222/2016(H3N2)) segment 5 nucleocapsid protein (NP) gene, complete cds\n",
      "  0.02\t1\t0\tS3\t353365\t                          Influenza A virus (A/Canterbury/109/2004(H3N2))\n",
      "  0.02\t1\t1\tS4\t3113384\t                            gi|84873106|gb|CY008002|Influenza A virus (A/Canterbury/109/2004(H3N2)) segment 1, complete sequence\n",
      "  0.02\t1\t0\tS3\t2015202\t                          Influenza A virus (A/swine/Minnesota/A02216466/2017(H3N2))\n",
      "  0.02\t1\t1\tS4\t3241207\t                            gi|1212090600|gb|MF375246|Influenza A virus (A/swine/Minnesota/A02216466/2017(H3N2)) segment 6 neuraminidase (NA) gene, complete cds\n",
      "  0.02\t1\t0\tS3\t1731642\t                          Influenza A virus (A/North Carolina/29/2015(H3N2))\n",
      "  0.02\t1\t1\tS4\t3192315\t                            gi|937166621|gb|KT843922|Influenza A virus (A/North Carolina/29/2015(H3N2)) segment 3 polymerase PA (PA) and PA-X protein (PA-X) genes, complete cds\n",
      "  0.02\t1\t0\tS3\t1348507\t                          Influenza A virus (A/swine/Henan/1/2010(H3N2))\n",
      "  0.02\t1\t1\tS4\t3168434\t                            gi|543869147|gb|KF550964|Influenza A virus (A/swine/Henan/1/2010(H3N2)) segment 2 polymerase PB1 (PB1) gene, complete cds\n",
      "  0.02\t1\t0\tS3\t1469644\t                          Influenza A virus (A/swine/Tochigi/14/2013(H3N2))\n",
      "  0.02\t1\t1\tS4\t3178615\t                            gi|745992817|gb|AB914508|Influenza A virus (A/swine/Tochigi/14/2013(H3N2)) viral cRNA, segment 4, complete sequence\n",
      "  0.02\t1\t0\tS3\t1788650\t                          Influenza A virus (A/Florida/81/2015(H3N2))\n",
      "  0.02\t1\t1\tS4\t3200483\t                            gi|984692141|gb|KU591090|Influenza A virus (A/Florida/81/2015(H3N2)) segment 7 matrix protein 2 (M2) and matrix protein 1 (M1) genes, complete cds\n",
      "  0.02\t1\t0\tS3\t1731044\t                          Influenza A virus (A/California/82/2015(H3N2))\n",
      "  0.02\t1\t1\tS4\t3191779\t                            gi|937164678|gb|KT843386|Influenza A virus (A/California/82/2015(H3N2)) segment 8 nuclear export protein (NEP) and nonstructural protein 1 (NS1) genes, complete cds\n",
      "  1.21\t80\t25\tS2\t114727\t                        H1N1 subtype\n",
      "  0.20\t13\t13\tS3\t641809\t                          Influenza A virus (A/California/07/2009(H1N1))\n",
      "  0.03\t2\t0\tS3\t978110\t                          Influenza A virus (A/India/GWL_DSC/2010(H1N1))\n",
      "  0.02\t1\t1\tS4\t3158492\t                            gi|323135528|gb|JF265678|Influenza A virus (A/India/GWL_DSC/2010(H1N1)) segment 1 polymerase PB2 (PB2) gene, complete cds\n",
      "  0.02\t1\t1\tS4\t3158736\t                            gi|328942923|gb|JF764085|Influenza A virus (A/India/GWL_DSC/2010(H1N1)) segment 2 polymerase PB1 (PB1) gene, complete cds; and nonfunctional PB1-F2 protein (PB1-F2) gene, complete sequence\n",
      "  0.03\t2\t0\tS3\t930810\t                          Influenza A virus (A/Jiangsu/S62/2009(H1N1))\n",
      "  0.02\t1\t1\tS4\t3157795\t                            gi|313105451|gb|HQ652619|Influenza A virus (A/Jiangsu/S62/2009(H1N1)) segment 3 polymerase PA (PA) gene, complete cds\n",
      "  0.02\t1\t1\tS4\t3157797\t                            gi|313105455|gb|HQ652621|Influenza A virus (A/Jiangsu/S62/2009(H1N1)) segment 2 polymerase PB1 (PB1) gene, complete cds; and nonfunctional PB1-F2 protein (PB1-F2) gene, complete sequence\n",
      "  0.02\t1\t0\tS3\t1501719\t                          Influenza A virus (A/Sri Lanka/11/2012(H1N1))\n",
      "  0.02\t1\t1\tS4\t3172284\t                            gi|649789473|gb|KJ856022|Influenza A virus (A/Sri Lanka/11/2012(H1N1)) segment 5 nucleocapsid protein (NP) gene, complete cds\n",
      "  0.02\t1\t0\tS3\t1672412\t                          Influenza A virus (A/Singapore/DMS1154/2010(H1N1))\n",
      "  0.02\t1\t1\tS4\t3183853\t                            gi|880803253|gb|KT181428|Influenza A virus (A/Singapore/DMS1154/2010(H1N1)) segment 6 neuraminidase (NA) gene, complete cds\n",
      "  0.02\t1\t0\tS3\t1348883\t                          Influenza A virus (A/India/Nag132467/2013(H1N1))\n",
      "  0.02\t1\t1\tS4\t3167887\t                            gi|523793975|gb|KF280733|Influenza A virus (A/India/Nag132467/2013(H1N1)) segment 2 polymerase PB1 (PB1) gene, complete cds; and nonfunctional PB1-F2 protein (PB1-F2) gene, complete sequence\n",
      "  0.02\t1\t0\tS3\t1305570\t                          Influenza A virus (A/Wisconsin/53/2009(H1N1))\n",
      "  0.02\t1\t1\tS4\t3166228\t                            gi|474460855|gb|KC782307|Influenza A virus (A/Wisconsin/53/2009(H1N1)) segment 3 polymerase PA (PA) and PA-X protein (PA-X) genes, complete cds\n",
      "  0.02\t1\t0\tS3\t1929430\t                          Influenza A virus (A/swine/France/35-160126/2016(H1N1))\n",
      "  0.02\t1\t1\tS4\t3234577\t                            gi|1127931437|gb|KY364138|Influenza A virus (A/swine/France/35-160126/2016(H1N1)) segment 6 neuraminidase (NA) gene, complete cds\n",
      "  0.02\t1\t0\tS3\t1820568\t                          Influenza A virus (A/swine/Mexico/AVX42/2012(H1N1))\n",
      "  0.02\t1\t1\tS4\t3202472\t                            gi|1017034519|gb|KU976599|Influenza A virus (A/swine/Mexico/AVX42/2012(H1N1)) segment 7 matrix protein 2 (M2) and matrix protein 1 (M1) genes, complete cds\n",
      "  0.02\t1\t0\tS3\t416705\t                          Influenza A virus (A/Memphis/38/1983(H1N1))\n",
      "  0.02\t1\t1\tS4\t3122662\t                            gi|120433992|gb|CY019041|Influenza A virus (A/Memphis/38/1983(H1N1)) segment 8, complete sequence\n",
      "  0.02\t1\t0\tS3\t1672522\t                          Influenza A virus (A/Singapore/DMS35/2009(H1N1))\n",
      "  0.02\t1\t1\tS4\t3182995\t                            gi|880801159|gb|KT181110|Influenza A virus (A/Singapore/DMS35/2009(H1N1)) segment 4 hemagglutinin (HA) gene, complete cds\n",
      "  0.02\t1\t0\tS3\t752156\t                          Influenza A virus (A/Wisconsin/629-D02442/2009(H1N1))\n",
      "  0.02\t1\t1\tS4\t3150115\t                            gi|295843642|gb|CY063242|Influenza A virus (A/Wisconsin/629-D02442/2009(H1N1)) segment 1, complete sequence\n",
      "  0.02\t1\t0\tS3\t1910095\t                          Influenza A virus (A/New York/79/2016(H1N1))\n",
      "  0.02\t1\t1\tS4\t3224136\t                            gi|1073667698|gb|KX915802|Influenza A virus (A/New York/79/2016(H1N1)) segment 2 polymerase PB1 (PB1) gene, complete cds; and PB1-F2 gene, complete sequence\n",
      "  0.02\t1\t0\tS3\t1050899\t                          Influenza A virus (A/Tula/CRIE-SIA/2011(H1N1))\n",
      "  0.02\t1\t1\tS4\t3159244\t                            gi|339518832|gb|JN185095|Influenza A virus (A/Tula/CRIE-SIA/2011(H1N1)) segment 6 neuraminidase (NA) gene, complete cds\n",
      "  0.02\t1\t0\tS3\t1501722\t                          Influenza A virus (A/Sri Lanka/19/2012(H1N1))\n",
      "  0.02\t1\t1\tS4\t3172270\t                            gi|649789352|gb|KJ856047|Influenza A virus (A/Sri Lanka/19/2012(H1N1)) segment 7 matrix protein 2 (M2) and matrix protein 1 (M1) genes, complete cds\n",
      "  0.02\t1\t0\tS3\t1501724\t                          Influenza A virus (A/Sri Lanka/19838/2010(H1N1))\n",
      "  0.02\t1\t1\tS4\t3172260\t                            gi|649789257|gb|KJ856060|Influenza A virus (A/Sri Lanka/19838/2010(H1N1)) segment 5 nucleocapsid protein (NP) gene, complete cds\n",
      "  0.02\t1\t0\tS3\t710662\t                          Influenza A virus (A/Kurgan/01/2009(H1N1))\n",
      "  0.02\t1\t1\tS4\t3144207\t                            gi|284222777|gb|GU480947|Influenza A virus (A/Kurgan/01/2009(H1N1)) segment 8 nuclear export protein (NEP) and nonstructural protein 1 (NS1) genes, complete cds\n",
      "  0.02\t1\t0\tS3\t1396475\t                          Influenza A virus (A/Santa Cruz/995/2010(H1N1))\n",
      "  0.02\t1\t1\tS4\t3169418\t                            gi|546236516|gb|KF612060|Influenza A virus (A/Santa Cruz/995/2010(H1N1)) segment 2 polymerase PB1 (PB1) gene, complete cds; and nonfunctional PB1-F2 protein (PB1-F2) gene, complete sequence\n",
      "  0.02\t1\t0\tS3\t1638892\t                          Influenza A virus (A/India/Pun151245/2015(H1N1))\n",
      "  0.02\t1\t1\tS4\t3181004\t                            gi|814945442|gb|KR052648|Influenza A virus (A/India/Pun151245/2015(H1N1)) segment 7 matrix protein 2 (M2) and matrix protein 1 (M1) genes, complete cds\n",
      "  0.02\t1\t0\tS3\t1305094\t                          Influenza A virus (A/Colorado/02/2010(H1N1))\n",
      "  0.02\t1\t1\tS4\t3165519\t                            gi|474455961|gb|KC780224|Influenza A virus (A/Colorado/02/2010(H1N1)) segment 4 hemagglutinin (HA) gene, complete cds\n",
      "  0.02\t1\t0\tS3\t1210217\t                          Influenza A virus (A/Singapore/GP413/2010(H1N1))\n",
      "  0.02\t1\t1\tS4\t3162622\t                            gi|399224256|gb|JX309035|Influenza A virus (A/Singapore/GP413/2010(H1N1)) segment 6 neuraminidase (NA) gene, complete cds\n",
      "  0.02\t1\t0\tS3\t679870\t                          Influenza A virus (A/Wisconsin/629-S0220/2009(H1N1))\n",
      "  0.02\t1\t1\tS4\t3141781\t                            gi|268634935|gb|CY051342|Influenza A virus (A/Wisconsin/629-S0220/2009(H1N1)) segment 1, complete sequence\n",
      "  0.02\t1\t0\tS3\t723731\t                          Influenza A virus (A/Wisconsin/629-D00938/2009(H1N1))\n",
      "  0.02\t1\t1\tS4\t3147954\t                            gi|292495798|gb|CY058682|Influenza A virus (A/Wisconsin/629-D00938/2009(H1N1)) segment 2, complete sequence\n",
      "  0.02\t1\t0\tS3\t1654287\t                          Influenza A virus (A/swine/Poland/16315/2011(H1N1))\n",
      "  0.02\t1\t1\tS4\t3181648\t                            gi|827498261|gb|KR700587|Influenza A virus (A/swine/Poland/16315/2011(H1N1)) segment 7 matrix protein 2 (M2) and matrix protein 1 (M1) genes, complete cds\n",
      "  0.02\t1\t0\tS3\t723783\t                          Influenza A virus (A/Wisconsin/629-D00459/2009(H1N1))\n",
      "  0.02\t1\t1\tS4\t3147715\t                            gi|291621109|gb|CY058412|Influenza A virus (A/Wisconsin/629-D00459/2009(H1N1)) segment 4, complete sequence\n",
      "  0.02\t1\t0\tS3\t1086543\t                          Influenza A virus (A/swine/Holguin/121/2010(H1N1))\n",
      "  0.02\t1\t1\tS4\t3159807\t                            gi|347298871|gb|HE584745|Influenza A virus (A/swine/Holguin/121/2010(H1N1)) segment 1, complete genome\n",
      "  0.02\t1\t0\tS3\t1490473\t                          Influenza A virus (A/swine/Guangxi/1/2013(H1N1))\n",
      "  0.02\t1\t1\tS4\t3171733\t                            gi|635231419|gb|KJ725061|Influenza A virus (A/swine/Guangxi/1/2013(H1N1)) segment 3 polymerase PA (PA) gene, complete cds\n",
      "  0.02\t1\t0\tS3\t761202\t                          Influenza A virus (A/Blagovechensk/01/2009(H1N1))\n",
      "  0.02\t1\t1\tS4\t3149498\t                            gi|295687151|gb|HM173605|Influenza A virus (A/Blagovechensk/01/2009(H1N1)) segment 2 polymerase PB1 (PB1) gene, complete cds; and nonfunctional PB1-F2 protein (PB1-F2) gene, complete sequence\n",
      "  0.02\t1\t0\tS3\t1193849\t                          Influenza A virus (A/swine/Illinois/A01202615/2011(H1N1))\n",
      "  0.02\t1\t1\tS4\t3165167\t                            gi|451330111|gb|KC508545|Influenza A virus (A/swine/Illinois/A01202615/2011(H1N1)) segment 1 polymerase PB2 (PB2) gene, complete cds\n",
      "  0.02\t1\t0\tS3\t1511957\t                          Influenza A virus (A/swine/Guangdong/NS2801/2010(H1N1))\n",
      "  0.02\t1\t1\tS4\t3172679\t                            gi|662489692|gb|KM027509|Influenza A virus (A/swine/Guangdong/NS2801/2010(H1N1)) segment 2 polymerase PB1 (PB1) gene, complete cds; and nonfunctional PB1-F2 protein (PB1-F2) gene, complete sequence\n",
      "  0.02\t1\t0\tS3\t2024566\t                          Influenza A virus (A/Mexico/4431/2016(H1N1))\n",
      "  0.02\t1\t1\tS4\t3241387\t                            gi|1234112124|gb|MF593493|Influenza A virus (A/Mexico/4431/2016(H1N1)) segment 4 hemagglutinin (HA) gene, complete cds\n",
      "  0.02\t1\t0\tS3\t856442\t                          Influenza A virus (A/Odense/INS307/2009(H1N1))\n",
      "  0.02\t1\t1\tS4\t3154676\t                            gi|304419532|gb|CY072246|Influenza A virus (A/Odense/INS307/2009(H1N1)) segment 4, complete sequence\n",
      "  0.02\t1\t0\tS3\t1654120\t                          Influenza A virus (A/swine/England/041313/2013(H1N1))\n",
      "  0.02\t1\t1\tS4\t3181607\t                            gi|827497880|gb|KR700431|Influenza A virus (A/swine/England/041313/2013(H1N1)) segment 6 neuraminidase (NA) gene, complete cds\n",
      "  0.02\t1\t0\tS3\t1262170\t                          Influenza A virus (A/swine/Minnesota/A01279213/2012(H1N1))\n",
      "  0.02\t1\t1\tS4\t3167570\t                            gi|510791244|gb|KF026663|Influenza A virus (A/swine/Minnesota/A01279213/2012(H1N1)) segment 3 polymerase PA (PA) and PA-X protein (PA-X) genes, complete cds\n",
      "  0.02\t1\t0\tS3\t934287\t                          Influenza A virus (A/swine/Jangsu/38/2010(H1N1))\n",
      "  0.02\t1\t1\tS4\t3157845\t                            gi|314913791|gb|HQ695938|Influenza A virus (A/swine/Jangsu/38/2010(H1N1)) segment 4 hemagglutinin (HA) gene, complete cds\n",
      "  0.02\t1\t0\tS3\t934288\t                          Influenza A virus (A/swine/Jangsu/434/2010(H1N1))\n",
      "  0.02\t1\t1\tS4\t3157851\t                            gi|314913803|gb|HQ695986|Influenza A virus (A/swine/Jangsu/434/2010(H1N1)) segment 4 hemagglutinin (HA) gene, complete cds\n",
      "  0.02\t1\t0\tS3\t1151789\t                          Influenza A virus (A/swine/Shandong/327/2010(H1N1))\n",
      "  0.02\t1\t1\tS4\t3161722\t                            gi|380719787|gb|JQ695871|Influenza A virus (A/swine/Shandong/327/2010(H1N1)) segment 4 hemagglutinin (HA) gene, complete cds\n",
      "  0.02\t1\t0\tS3\t1841092\t                          Influenza A virus (A/California/04-224-MA/2009(H1N1))\n",
      "  0.02\t1\t1\tS4\t3204056\t                            gi|1027920937|gb|KX136298|Influenza A virus (A/California/04-224-MA/2009(H1N1)) segment 6 neuraminidase (NA) gene, complete cds\n",
      "  0.02\t1\t0\tS3\t679811\t                          Influenza A virus (A/Wisconsin/629-D01903/2009(H1N1))\n",
      "  0.02\t1\t1\tS4\t3141437\t                            gi|268634108|gb|CY050998|Influenza A virus (A/Wisconsin/629-D01903/2009(H1N1)) segment 1, complete sequence\n",
      "  0.02\t1\t0\tS3\t1501739\t                          Influenza A virus (A/Sri Lanka/22700/2010(H1N1))\n",
      "  0.02\t1\t1\tS4\t3172133\t                            gi|649788526|gb|KJ856192|Influenza A virus (A/Sri Lanka/22700/2010(H1N1)) segment 4 hemagglutinin (HA) gene, complete cds\n",
      "  0.02\t1\t0\tS3\t1987466\t                          Influenza A virus (A/swine/Rancagua/VN1401-1459/2015(H1N1))\n",
      "  0.02\t1\t1\tS4\t3239091\t                            gi|1200764710|gb|MF099403|Influenza A virus (A/swine/Rancagua/VN1401-1459/2015(H1N1)) segment 2 polymerase PB1 (PB1) gene, complete cds; and nonfunctional PB1-F2 protein (PB1-F2) gene, complete sequence\n",
      "  0.14\t9\t2\tS2\t114728\t                        H1N2 subtype\n",
      "  0.06\t4\t4\tS3\t1512191\t                          Influenza A virus (A/swine/Guangxi/2920/2011(H1N2))\n",
      "  0.02\t1\t1\tS3\t1380263\t                          Influenza A virus (A/swine/Missouri/A01432837/2013(H1N2))\n",
      "  0.02\t1\t1\tS3\t1755985\t                          Influenza A virus (A/swine/North Carolina/A01945748/2015(H1N2))\n",
      "  0.02\t1\t1\tS3\t1654149\t                          Influenza A virus (A/swine/England/61470/2013(H1N2))\n",
      "  0.05\t3\t1\tS2\t102793\t                        H5N1 subtype\n",
      "  0.02\t1\t0\tS3\t496757\t                          Influenza A virus (A/duck/Hunan/1386/2003(H5N1))\n",
      "  0.02\t1\t1\tS4\t3129058\t                            gi|169124899|gb|CY029309|Influenza A virus (A/duck/Hunan/1386/2003(H5N1)) segment 6 sequence\n",
      "  0.02\t1\t0\tS3\t762385\t                          Influenza A virus (A/chicken/Henan/A-7/2006(H5N1))\n",
      "  0.02\t1\t1\tS4\t3150433\t                            gi|295916072|gb|HM172291|Influenza A virus (A/chicken/Henan/A-7/2006(H5N1)) segment 8 nuclear export protein (NEP) and nonstructural protein 1 (NS1) genes, complete cds\n",
      "  0.03\t2\t1\tS2\t102796\t                        H9N2 subtype\n",
      "  0.02\t1\t1\tS3\t1870773\t                          Influenza A virus (A/turkey/Poland/14/2013(H9N2))\n",
      "  0.02\t1\t1\tS2\t3264035\t                        gi|1409673961|gb|MH540855|Influenza A virus (A/Maine/30/2018(H3N2)) segment 6 neuraminidase (NA) gene, complete cds\n",
      "  0.02\t1\t0\tS2\t142951\t                        H12N5 subtype\n",
      "  0.02\t1\t1\tS3\t908644\t                          Influenza A virus (A/mallard/Washington/44338-195/2007(H12N5))\n",
      "  0.02\t1\t1\tS2\t3262017\t                        gi|1395955133|gb|MH446964|Influenza A virus (A/Wisconsin/87/2018(H1N1)) segment 4 hemagglutinin (HA) gene, complete cds\n",
      "  0.02\t1\t1\tS2\t3317949\t                        gi|1675503025|gb|MN003682|Influenza A virus (A/Delaware/23/2019(H1N1)) segment 3 polymerase PA (PA) and PA-X protein (PA-X) genes, complete cds\n",
      "  0.02\t1\t1\tS2\t3317929\t                        gi|1675502977|gb|MN003662|Influenza A virus (A/Connecticut/24/2019(H1N1)) segment 3 polymerase PA (PA) and PA-X protein (PA-X) genes, complete cds\n",
      "  0.02\t1\t1\tS2\t3307318\t                        gi|1613884441|gb|MK786141|Influenza A virus (A/Ohio/8316/2019(H3N2)) segment 2 polymerase PB1 (PB1) and PB1-F2 protein (PB1-F2) genes, complete cds\n",
      "  0.02\t1\t1\tS2\t3334788\t                        gi|1765908924|gb|MN569899|Influenza A virus (A/Newcastle/610/2017(H3N2)) segment 8 nuclear export protein (NEP) and nonstructural protein 1 (NS1) genes, complete cds\n",
      "  0.02\t1\t1\tS2\t3335085\t                        gi|1765909667|gb|MN570196|Influenza A virus (A/Perth/341/2017(H3N2)) segment 3 polymerase PA (PA) and PA-X protein (PA-X) genes, complete cds\n",
      "  0.02\t1\t1\tS2\t3314352\t                        gi|1659075273|gb|MK960552|Influenza A virus (A/Illinois/9361/2019(H3N2)) segment 8 nuclear export protein (NEP) and nonstructural protein 1 (NS1) genes, complete cds\n",
      "  0.02\t1\t1\tS2\t3330638\t                        gi|1730278870|gb|MN372392|Influenza A virus (A/Singapore/G2-26.1/2014(H3N2)) segment 6 neuraminidase (NA) gene, complete cds\n",
      "  0.02\t1\t0\tS2\t299327\t                        H4N2 subtype\n",
      "  0.02\t1\t1\tS3\t370169\t                          Influenza A virus (A/mallard/Ohio/97/1989(H4N2))\n",
      "  0.02\t1\t0\tS2\t222769\t                        H6N6 subtype\n",
      "  0.02\t1\t1\tS3\t1454277\t                          Influenza A virus (A/chicken/Guangxi/S4029/2010(H6N6))\n",
      "  0.02\t1\t1\tS2\t3338733\t                        gi|1765918788|gb|MN573844|Influenza A virus (A/Victoria/688/2017(H3N2)) segment 3 polymerase PA (PA) and PA-X protein (PA-X) genes, complete cds\n",
      "  0.02\t1\t1\tS2\t3263936\t                        gi|1409673602|gb|MH540654|Influenza A virus (A/New York/35/2018(H1N1)) segment 3 polymerase PA (PA) and PA-X protein (PA-X) genes, complete cds\n",
      "  0.02\t1\t1\tS2\t3319979\t                        gi|1682000089|gb|MN061208|Influenza A virus (A/Vladimir/87/2019(H3N2)) segment 1 polymerase PB2 (PB2) gene, complete cds\n",
      "  0.02\t1\t1\tS2\t3285304\t                        gi|1547184119|gb|MK366937|Influenza A virus (A/swine/Klein Wanzleben/17303/2013(H1N1)) segment 6 neuraminidase (NA) gene, complete cds\n",
      "  0.02\t1\t1\tS2\t3359723\t                        gi|1830626346|gb|MT331013|Influenza A virus (A/Louisiana/12/2020(H1N1)) segment 1 polymerase PB2 (PB2) gene, complete cds\n",
      "  0.02\t1\t1\tS2\t3300558\t                        gi|1597257908|gb|MK676558|Influenza A virus (A/Maine/06/2019(H1N1)) segment 4 hemagglutinin (HA) gene, complete cds\n",
      "  0.02\t1\t1\tS2\t3300443\t                        gi|1597256991|gb|MK676443|Influenza A virus (A/Florida/07/2019(H1N1)) segment 3 polymerase PA (PA) and PA-X protein (PA-X) genes, complete cds\n",
      "  0.02\t1\t1\tS2\t3262483\t                        gi|1408058524|gb|MH328407|Influenza A virus (A/Taiwan/00582/2011(H1N1)) segment 2 polymerase PB1 (PB1) gene, complete cds; and nonfunctional PB1-F2 protein (PB1-F2) gene, complete sequence\n",
      "  0.02\t1\t1\tS2\t3359376\t                        gi|1830625464|gb|MT330642|Influenza A virus (A/Arkansas/14/2020(H1N1)) segment 6 neuraminidase (NA) gene, complete cds\n",
      "  0.02\t1\t1\tS2\t3300181\t                        gi|1594664955|gb|MK651489|Influenza A virus (A/swine/Iowa/A02256794/2018(H1N1)) segment 3 polymerase PA (PA) and PA-X protein (PA-X) genes, complete cds\n",
      "  0.02\t1\t1\tS2\t3247826\t                        gi|1365409833|gb|MH079657|Influenza A virus (A/Colorado/06/2018(H1N1)) segment 2 polymerase PB1 (PB1) gene, complete cds; and nonfunctional PB1-F2 protein (PB1-F2) gene, complete sequence\n",
      "  0.02\t1\t1\tS2\t3280531\t                        gi|1540595883|gb|MK328698|Influenza A virus (A/swine/Manitoba/DM_18/2017(H3N2)) segment 3 polymerase PA (PA) and PA-X protein (PA-X) genes, complete cds\n",
      "  0.02\t1\t1\tS2\t3299459\t                        gi|1593225676|gb|MK640714|Influenza A virus (A/China/38887/2012(H3N2)) segment 6 neuraminidase (NA) gene, complete cds\n",
      "  0.02\t1\t1\tS2\t3338759\t                        gi|1765918854|gb|MN573870|Influenza A virus (A/Victoria/691/2017(H3N2)) segment 1 polymerase PB2 (PB2) gene, complete cds\n",
      "  0.02\t1\t0\tS2\t119221\t                        H5N3 subtype\n",
      "  0.02\t1\t1\tS3\t670756\t                          Influenza A virus (A/duck/France/06436/2006(H5N3))\n",
      "  0.02\t1\t1\tS2\t102800\t                        H4N6 subtype\n",
      " 13.90\t920\t0\tG\t197912\t                  Betainfluenzavirus\n",
      " 13.90\t920\t0\tS\t2955465\t                    Betainfluenzavirus influenzae\n",
      " 13.90\t920\t304\tS1\t11520\t                      Influenza B virus\n",
      "  9.18\t608\t0\tS2\t518987\t                        Influenza B virus (B/Lee/1940)\n",
      "  1.81\t120\t120\tS3\t3108289\t                          NC_002207.1 Influenza B virus (B/Lee/1940) segment 4, complete sequence\n",
      "  1.66\t110\t110\tS3\t3108287\t                          NC_002205.1 Influenza B virus (B/Lee/1940) segment 2, complete sequence\n",
      "  1.51\t100\t100\tS3\t3108291\t                          NC_002209.1 Influenza B virus (B/Lee/1940) segment 6, complete sequence\n",
      "  1.42\t94\t94\tS3\t3108294\t                          NC_002204.1 Influenza B virus RNA 1, complete sequence\n",
      "  0.95\t63\t63\tS3\t3108288\t                          NC_002206.1 Influenza B virus (B/Lee/1940) segment 3, complete sequence\n",
      "  0.73\t48\t48\tS3\t3108290\t                          NC_002208.1 Influenza B virus (B/Lee/1940) segment 5, complete sequence\n",
      "  0.73\t48\t48\tS3\t3108293\t                          NC_002211.1 Influenza B virus (B/Lee/1940) segment 8, complete sequence\n",
      "  0.38\t25\t25\tS3\t3108292\t                          NC_002210.1 Influenza B virus (B/Lee/1940) segment 7, complete sequence\n",
      "  0.02\t1\t1\tS2\t3266584\t                        gi|1418610428|gb|MH584597|Influenza B virus (B/Michigan/30/2018) segment 8 nuclear export protein (NEP) and nonstructural protein 1 (NS1) genes, complete cds\n",
      "  0.02\t1\t0\tS2\t444325\t                        Influenza B virus (B/Russia/69)\n",
      "  0.02\t1\t1\tS3\t3124521\t                          gi|148509315|gb|EF626643|Influenza B virus (B/Russia/69) segment 2 polymerase PB2 (PB2) gene, complete cds\n",
      "  0.02\t1\t0\tS2\t408921\t                        Influenza B virus (B/Houston/B850/2005)\n",
      "  0.02\t1\t1\tS3\t3122058\t                          gi|119515728|gb|CY018348|Influenza B virus (B/Houston/B850/2005) segment 2, complete sequence\n",
      "  0.02\t1\t1\tS2\t3346237\t                        gi|1798038239|gb|MN949665|Influenza B virus (B/Louisiana/40/2019) segment 5 nucleoprotein (NP) gene, complete cds\n",
      "  0.02\t1\t1\tS2\t3340039\t                        gi|1767654533|gb|MN589196|Influenza B virus (B/Singapore/DMS2160/2012) segment 1 polymerase PB1 (PB1) gene, complete cds\n",
      "  0.02\t1\t0\tS2\t416662\t                        Influenza B virus (B/Hong Kong/167/2002)\n",
      "  0.02\t1\t1\tS3\t3122368\t                          gi|119516484|gb|CY018674|Influenza B virus (B/Hong Kong/167/2002) segment 3, complete sequence\n",
      "  0.02\t1\t0\tS2\t1884006\t                        Influenza B virus (B/Texas/25/2016)\n",
      "  0.02\t1\t1\tS3\t3221639\t                          gi|1048090358|gb|KX611895|Influenza B virus (B/Texas/25/2016) segment 7 matrix protein 1 (M1) and BM2 protein (BM2) genes, complete cds\n",
      "  0.02\t1\t0\tS2\t416664\t                        Influenza B virus (B/Chile/3162/2002)\n",
      "  0.02\t1\t1\tS3\t3123063\t                          gi|125663222|gb|CY019582|Influenza B virus (B/Chile/3162/2002) segment 5, complete sequence\n",
      " 30.48\t2018\t0\tP1\t2497570\t          Haploviricotina\n",
      " 30.48\t2018\t0\tC\t2497574\t            Monjiviricetes\n",
      " 30.48\t2018\t0\tO\t11157\t              Mononegavirales\n",
      " 30.48\t2018\t0\tF\t11244\t                Pneumoviridae\n",
      " 30.48\t2018\t2\tG\t1868215\t                  Orthopneumovirus\n",
      " 15.24\t1009\t0\tS\t3049954\t                    Orthopneumovirus hominis\n",
      " 15.24\t1009\t1009\tS1\t11250\t                      Human orthopneumovirus\n",
      " 15.21\t1007\t0\tS\t3050248\t                    Orthopneumovirus bovis\n",
      " 15.21\t1007\t0\tS1\t11246\t                      Bovine orthopneumovirus\n",
      " 15.21\t1007\t1007\tS2\t12814\t                        Respiratory syncytial virus\n",
      " 30.06\t1990\t0\tP\t2732408\t        Pisuviricota\n",
      " 30.06\t1990\t0\tC\t2732506\t          Pisoniviricetes\n",
      " 30.06\t1990\t0\tO\t76804\t            Nidovirales\n",
      " 30.06\t1990\t0\tO1\t2499399\t              Cornidovirineae\n",
      " 30.06\t1990\t0\tF\t11118\t                Coronaviridae\n",
      " 30.06\t1990\t0\tF1\t2501931\t                  Orthocoronavirinae\n",
      " 30.06\t1990\t0\tG\t694002\t                    Betacoronavirus\n",
      " 30.06\t1990\t0\tG1\t2509511\t                      Sarbecovirus\n",
      " 30.06\t1990\t0\tS\t694009\t                        Severe acute respiratory syndrome-related coronavirus\n",
      " 30.06\t1990\t1990\tS1\t2697049\t                          Severe acute respiratory syndrome coronavirus 2\n"
     ]
    }
   ],
   "source": [
    "cat ${TEST_BASE_DIR_final}/report.txt "
   ]
  },
  {
   "cell_type": "markdown",
   "id": "5c644eed-bfa1-4cce-ac14-b112f04f35a9",
   "metadata": {},
   "source": [
    "### Test with real samples from RVI pilot plate 3\n",
    "Using pre-processed read files from the PAM pipeline in this directory\n",
    "```/lustre/scratch127/pam/projects/rvidata/bait_capture/rvi-pilot-phase3```\n",
    "\n",
    "Using this query to identify suitable samples in MLWH\n",
    "```SQL\n",
    "SELECT  \n",
    "\tipm.id_run, \n",
    "\tipm.position, \n",
    "\tipm.tag_index, \n",
    "\tCONCAT(ipm.id_run, '_', ipm.position, '#', ipm.tag_index) AS sample,\n",
    "\tsupplier_name,\n",
    "\tREGEXP_REPLACE(supplier_name, '^.*X_', '') AS presumed_orig_sample_name\n",
    "\t\n",
    "FROM iseq_product_metrics ipm \n",
    "JOIN iseq_flowcell USING(id_iseq_flowcell_tmp)\n",
    "JOIN sample USING(id_sample_tmp) \n",
    "WHERE ipm.id_run=48106\n",
    "\n",
    "order by presumed_orig_sample_name\n",
    "```\n"
   ]
  },
  {
   "cell_type": "markdown",
   "id": "3aae8a3e-48e1-4c98-91e0-9c753f167103",
   "metadata": {},
   "source": [
    "#### Test with a flu 100k copies control sample\n",
    "sample suppplier name: SPRI_1X_Flu_H3N2_100K   \n",
    "lanelet: 48106_2#10\n",
    "trimmed reads:\n",
    "```\n",
    "/lustre/scratch127/pam/projects/rvidata/bait_capture/rvi-pilot-phase3/results_minreadlen100bp/48106_2#10/trimmed_reads/48106_2#10_1_kneaddata_paired_1.fastq.gz\n",
    "/lustre/scratch127/pam/projects/rvidata/bait_capture/rvi-pilot-phase3/results_minreadlen100bp/48106_2#10/trimmed_reads/48106_2#10_1_kneaddata_paired_2.fastq.gz\n",
    "```"
   ]
  },
  {
   "cell_type": "code",
   "execution_count": 41,
   "id": "3b33bcc9-a748-4b2c-86d3-bbec03ce3417",
   "metadata": {},
   "outputs": [],
   "source": [
    "export TEST_BASE_DIR_final_48106_2_10=/lustre/scratch126/gsu/team112/personal/fs5/rvi_dev/krakenDBs/kraken_flu_test_final_48106_2_10/"
   ]
  },
  {
   "cell_type": "code",
   "execution_count": 42,
   "id": "58581573-0906-4a73-9eab-8aa0f7e9686a",
   "metadata": {},
   "outputs": [],
   "source": [
    "mkdir -p ${TEST_BASE_DIR_final_48106_2_10}"
   ]
  },
  {
   "cell_type": "code",
   "execution_count": 43,
   "id": "e9ac290c-2043-41aa-9587-1b327a0f0a60",
   "metadata": {},
   "outputs": [
    {
     "name": "stdout",
     "output_type": "stream",
     "text": [
      "Loading database information... done.\n",
      "13862 sequences (3.79 Mbp) processed in 0.268s (3101.2 Kseq/m, 848.25 Mbp/m).\n",
      "  13862 sequences classified (100.00%)\n",
      "  0 sequences unclassified (0.00%)\n"
     ]
    }
   ],
   "source": [
    "kraken2 \\\n",
    "    --db ${ALL_VIRAL_DB1} \\\n",
    "    --output ${TEST_BASE_DIR_final_48106_2_10}/output.kraken \\\n",
    "    --paired \\\n",
    "    --classified-out ${TEST_BASE_DIR_final_48106_2_10}/class_seqs#.fq \\\n",
    "    --unclassified-out ${TEST_BASE_DIR_final_48106_2_10}/unclass_seqs#.fq \\\n",
    "    --report ${TEST_BASE_DIR_final_48106_2_10}/report.txt \\\n",
    "/lustre/scratch127/pam/projects/rvidata/bait_capture/rvi-pilot-phase3/results_minreadlen100bp/48106_2#10/trimmed_reads/48106_2#10_1_kneaddata_paired_1.fastq.gz \\\n",
    "/lustre/scratch127/pam/projects/rvidata/bait_capture/rvi-pilot-phase3/results_minreadlen100bp/48106_2#10/trimmed_reads/48106_2#10_1_kneaddata_paired_2.fastq.gz"
   ]
  },
  {
   "cell_type": "code",
   "execution_count": 44,
   "id": "6072f862-f867-49c0-bbf2-a0e89fedf714",
   "metadata": {},
   "outputs": [
    {
     "name": "stdout",
     "output_type": "stream",
     "text": [
      "100.00\t13862\t0\tR\t1\troot\n",
      "100.00\t13862\t0\tD\t10239\t  Viruses\n",
      "100.00\t13862\t0\tD1\t2559587\t    Riboviria\n",
      "100.00\t13862\t0\tK\t2732396\t      Orthornavirae\n",
      "100.00\t13862\t0\tP\t2497569\t        Negarnaviricota\n",
      "100.00\t13862\t0\tP1\t2497571\t          Polyploviricotina\n",
      "100.00\t13862\t0\tC\t2497577\t            Insthoviricetes\n",
      "100.00\t13862\t0\tO\t2499411\t              Articulavirales\n",
      "100.00\t13862\t0\tF\t11308\t                Orthomyxoviridae\n",
      "100.00\t13862\t0\tG\t197911\t                  Alphainfluenzavirus\n",
      "100.00\t13862\t0\tS\t2955291\t                    Alphainfluenzavirus influenzae\n",
      "100.00\t13862\t9017\tS1\t11320\t                      Influenza A virus\n",
      " 31.47\t4363\t2229\tS2\t119210\t                        H3N2 subtype\n",
      " 10.34\t1433\t1433\tS3\t335341\t                          Influenza A virus (A/New York/392/2004(H3N2))\n",
      "  0.79\t110\t0\tS3\t1910719\t                          Influenza A virus (A/Rhode Island/29/2016(H3N2))\n",
      "  0.79\t110\t110\tS4\t3230699\t                            gi|1095416191|gb|KY003383|Influenza A virus (A/Rhode Island/29/2016(H3N2)) segment 7 matrix protein 2 (M2) and matrix protein 1 (M1) genes, complete cds\n",
      "  0.27\t38\t0\tS3\t1348507\t                          Influenza A virus (A/swine/Henan/1/2010(H3N2))\n",
      "  0.18\t25\t25\tS4\t3168421\t                            gi|537456243|gb|KF541238|Influenza A virus (A/swine/Henan/1/2010(H3N2)) segment 1 polymerase PB2 (PB2) gene, complete cds\n",
      "  0.09\t13\t13\tS4\t3167825\t                            gi|516389574|gb|KF277766|Influenza A virus (A/swine/Henan/1/2010(H3N2)) segment 4 hemagglutinin (HA) gene, complete cds\n",
      "  0.10\t14\t0\tS3\t311774\t                          Influenza A virus (A/New York/204/2003(H3N2))\n",
      "  0.09\t12\t12\tS4\t3110830\t                            gi|73761461|gb|CY002523|Influenza A virus (A/New York/204/2003(H3N2)) segment 5, complete sequence\n",
      "  0.01\t2\t2\tS4\t3110832\t                            gi|73761466|gb|CY002525|Influenza A virus (A/New York/204/2003(H3N2)) segment 3, complete sequence\n",
      "  0.06\t8\t0\tS3\t1442010\t                          Influenza A virus (A/canine/Guangxi/L2/2013(H3N2))\n",
      "  0.06\t8\t8\tS4\t3170298\t                            gi|575774131|gb|KJ013191|Influenza A virus (A/canine/Guangxi/L2/2013(H3N2)) segment 5 nucleocapsid protein (NP) gene, complete cds\n",
      "  0.06\t8\t0\tS3\t1730998\t                          Influenza A virus (A/Arkansas/05/2015(H3N2))\n",
      "  0.06\t8\t8\tS4\t3184995\t                            gi|937143185|gb|KT836164|Influenza A virus (A/Arkansas/05/2015(H3N2)) segment 5 nucleocapsid protein (NP) gene, complete cds\n",
      "  0.05\t7\t0\tS3\t390228\t                          Influenza A virus (A/Western Australia/74/2005(H3N2))\n",
      "  0.05\t7\t7\tS4\t3119975\t                            gi|115291026|gb|CY016028|Influenza A virus (A/Western Australia/74/2005(H3N2)) segment 4, complete sequence\n",
      "  0.05\t7\t0\tS3\t444814\t                          Influenza A virus (A/Auckland/612/2002(H3N2))\n",
      "  0.05\t7\t7\tS4\t3124953\t                            gi|149780654|gb|CY022572|Influenza A virus (A/Auckland/612/2002(H3N2)) segment 1, complete sequence\n",
      "  0.04\t6\t0\tS3\t593181\t                          Influenza A virus (A/Kentucky/UR07-0164/2008(H3N2))\n",
      "  0.04\t6\t6\tS4\t3132554\t                            gi|224022787|gb|CY037652|Influenza A virus (A/Kentucky/UR07-0164/2008(H3N2)) segment 3, complete sequence\n",
      "  0.04\t6\t0\tS3\t1512070\t                          Influenza A virus (A/swine/Guangdong/1593/2012(H3N2))\n",
      "  0.04\t6\t6\tS4\t3172911\t                            gi|662490685|gb|KM027925|Influenza A virus (A/swine/Guangdong/1593/2012(H3N2)) segment 2 polymerase PB1 (PB1) gene, complete cds; and nonfunctional PB1-F2 protein (PB1-F2) gene, complete sequence\n",
      "  0.04\t6\t0\tS3\t1193929\t                          Influenza A virus (A/swine/Iowa/A01202889/2011(H3N2))\n",
      "  0.04\t6\t6\tS4\t3162212\t                            gi|391885391|gb|JX092579|Influenza A virus (A/swine/Iowa/A01202889/2011(H3N2)) segment 6 neuraminidase (NA) gene, complete cds\n",
      "  0.04\t6\t0\tS3\t1865811\t                          Influenza A virus (A/Florida/10/2016(H3N2))\n",
      "  0.04\t6\t6\tS4\t3207702\t                            gi|1039130086|gb|KX414442|Influenza A virus (A/Florida/10/2016(H3N2)) segment 5 nucleocapsid protein (NP) gene, complete cds\n",
      "  0.04\t5\t0\tS3\t1731017\t                          Influenza A virus (A/California/16/2015(H3N2))\n",
      "  0.04\t5\t5\tS4\t3191150\t                            gi|937162332|gb|KT842749|Influenza A virus (A/California/16/2015(H3N2)) segment 3 polymerase PA (PA) and PA-X protein (PA-X) genes, complete cds\n",
      "  0.04\t5\t0\tS3\t1866172\t                          Influenza A virus (A/Washington/76/2015(H3N2))\n",
      "  0.04\t5\t5\tS4\t3206459\t                            gi|1039126441|gb|KX412991|Influenza A virus (A/Washington/76/2015(H3N2)) segment 5 nucleocapsid protein (NP) gene, complete cds\n",
      "  0.04\t5\t0\tS3\t335305\t                          Influenza A virus (A/New York/356/2004(H3N2))\n",
      "  0.03\t4\t4\tS4\t3110528\t                            gi|72552101|gb|CY002181|Influenza A virus (A/New York/356/2004(H3N2)) segment 3, complete sequence\n",
      "  0.01\t1\t1\tS4\t3110524\t                            gi|72552071|gb|CY002177|Influenza A virus (A/New York/356/2004(H3N2)) segment 7, complete sequence\n",
      "  0.04\t5\t0\tS3\t383119\t                          Influenza A virus (A/Wellington/26/2000(H3N2))\n",
      "  0.04\t5\t5\tS4\t3118837\t                            gi|113170598|gb|CY013896|Influenza A virus (A/Wellington/26/2000(H3N2)) segment 7, complete sequence\n",
      "  0.04\t5\t0\tS3\t1937300\t                          Influenza A virus (A/Bethesda/P0053/2015(H3N2))\n",
      "  0.04\t5\t5\tS4\t3235242\t                            gi|1145600383|gb|KY487467|Influenza A virus (A/Bethesda/P0053/2015(H3N2)) segment 1 polymerase PB2 (PB2) gene, complete cds\n",
      "  0.03\t4\t0\tS3\t728233\t                          Influenza A virus (A/Nanjing/1/2009(H3N2))\n",
      "  0.01\t2\t2\tS4\t3145004\t                            gi|289900227|gb|GU907117|Influenza A virus (A/Nanjing/1/2009(H3N2)) segment 3 polymerase PA (PA) gene, complete cds\n",
      "  0.01\t2\t2\tS4\t3145005\t                            gi|289900241|gb|GU907118|Influenza A virus (A/Nanjing/1/2009(H3N2)) segment 2 polymerase PB1 (PB1) and putative PB1-F2 protein (PB1-F2) genes, complete cds\n",
      "  0.03\t4\t0\tS3\t1820552\t                          Influenza A virus (A/swine/Mexico/AVX28/2012(H3N2))\n",
      "  0.03\t4\t4\tS4\t3202628\t                            gi|1017034983|gb|KU976846|Influenza A virus (A/swine/Mexico/AVX28/2012(H3N2)) segment 6 neuraminidase (NA) gene, complete cds\n",
      "  0.03\t4\t0\tS3\t311695\t                          Influenza A virus (A/New York/124/2001(H3N2))\n",
      "  0.03\t4\t4\tS4\t3108831\t                            gi|61927679|gb|CY000312|Influenza A virus (A/New York/124/2001(H3N2)) segment 1, complete sequence\n",
      "  0.03\t4\t0\tS3\t556021\t                          Influenza A virus (A/swine/Guangxi/1/2004(H3N2))\n",
      "  0.01\t2\t2\tS4\t3130964\t                            gi|197344600|gb|FJ157990|Influenza A virus (A/swine/Guangxi/1/2004(H3N2)) segment 3 polymerase PA (PA) gene, complete cds\n",
      "  0.01\t1\t1\tS4\t3130961\t                            gi|197344593|gb|FJ157987|Influenza A virus (A/swine/Guangxi/1/2004(H3N2)) segment 6 neuraminidase (NA) gene, complete cds\n",
      "  0.01\t1\t1\tS4\t3130967\t                            gi|197344607|gb|FJ157993|Influenza A virus (A/swine/Guangxi/1/2004(H3N2)) segment 8 nuclear export protein (NEP) and nonstructural protein 1 (NS1) genes, complete cds\n",
      "  0.03\t4\t0\tS3\t1517396\t                          Influenza A virus (A/Singapore/S2011.611b/2011(H3N2))\n",
      "  0.03\t4\t4\tS4\t3175859\t                            gi|666880235|gb|KM070205|Influenza A virus (A/Singapore/S2011.611b/2011(H3N2)) segment 3 polymerase PA (PA) and PA-X protein (PA-X) genes, complete cds\n",
      "  0.03\t4\t0\tS3\t1541152\t                          Influenza A virus (A/Quebec/26-191206/2006(H3N2))\n",
      "  0.03\t4\t4\tS4\t3177510\t                            gi|695308174|gb|KM438128|Influenza A virus (A/Quebec/26-191206/2006(H3N2)) segment 8 nuclear export protein (NEP) and nonstructural protein 1 (NS1) genes, complete cds\n",
      "  0.03\t4\t0\tS3\t390184\t                          Influenza A virus (A/Western Australia/29/2002(H3N2))\n",
      "  0.03\t4\t4\tS4\t3119682\t                            gi|115289830|gb|CY015735|Influenza A virus (A/Western Australia/29/2002(H3N2)) segment 5, complete sequence\n",
      "  0.03\t4\t0\tS3\t444815\t                          Influenza A virus (A/Auckland/613/2002(H3N2))\n",
      "  0.02\t3\t3\tS4\t3124640\t                            gi|148898211|gb|CY022203|Influenza A virus (A/Auckland/613/2002(H3N2)) segment 2, complete sequence\n",
      "  0.01\t1\t1\tS4\t3124639\t                            gi|148898209|gb|CY022202|Influenza A virus (A/Auckland/613/2002(H3N2)) segment 3, complete sequence\n",
      "  0.03\t4\t0\tS3\t676017\t                          Influenza A virus (A/Thailand/CU-B106/2009(H3N2))\n",
      "  0.02\t3\t3\tS4\t3139636\t                            gi|260100721|gb|GQ983552|Influenza A virus (A/Thailand/CU-B106/2009(H3N2)) segment 8 nuclear export protein (NEP) and nonstructural protein 1 (NS1) genes, complete cds\n",
      "  0.01\t1\t1\tS4\t3139630\t                            gi|260100707|gb|GQ983546|Influenza A virus (A/Thailand/CU-B106/2009(H3N2)) segment 2 polymerase PB1 (PB1) and PB1-F2 protein (PB1-F2) genes, complete cds\n",
      "  0.03\t4\t0\tS3\t355506\t                          Influenza A virus (A/New York/542/1998(H3N2))\n",
      "  0.02\t3\t3\tS4\t3112264\t                            gi|82504794|gb|CY006602|Influenza A virus (A/New York/542/1998(H3N2)) segment 1, complete sequence\n",
      "  0.01\t1\t1\tS4\t3112257\t                            gi|82504777|gb|CY006595|Influenza A virus (A/New York/542/1998(H3N2)) segment 4, complete sequence\n",
      "  0.03\t4\t0\tS3\t383116\t                          Influenza A virus (A/Waikato/4/2000(H3N2))\n",
      "  0.03\t4\t4\tS4\t3117612\t                            gi|110629450|gb|CY012627|Influenza A virus (A/Waikato/4/2000(H3N2)) segment 5, complete sequence\n",
      "  0.03\t4\t0\tS3\t554754\t                          Influenza A virus (A/Boston/62/2008(H3N2))\n",
      "  0.03\t4\t4\tS4\t3138086\t                            gi|256387358|gb|CY044753|Influenza A virus (A/Boston/62/2008(H3N2)) segment 3, complete sequence\n",
      "  0.03\t4\t0\tS3\t1731947\t                          Influenza A virus (A/Wisconsin/02/2015(H3N2))\n",
      "  0.03\t4\t4\tS4\t3190257\t                            gi|937159133|gb|KT841856|Influenza A virus (A/Wisconsin/02/2015(H3N2)) segment 5 nucleocapsid protein (NP) gene, complete cds\n",
      "  0.02\t3\t0\tS3\t1910228\t                          Influenza A virus (A/Texas/59/2016(H3N2))\n",
      "  0.02\t3\t3\tS4\t3225335\t                            gi|1073672134|gb|KX917145|Influenza A virus (A/Texas/59/2016(H3N2)) segment 1 polymerase PB2 (PB2) gene, complete cds\n",
      "  0.02\t3\t0\tS3\t400299\t                          Influenza A virus (A/South Australia/32/2005(H3N2))\n",
      "  0.02\t3\t3\tS4\t3121593\t                            gi|119365456|gb|CY017827|Influenza A virus (A/South Australia/32/2005(H3N2)) segment 2, complete sequence\n",
      "  0.02\t3\t0\tS3\t425550\t                          Influenza A virus (A/Albany/2/1970(H3N2))\n",
      "  0.02\t3\t3\tS4\t3124004\t                            gi|134047569|gb|CY021089|Influenza A virus (A/Albany/2/1970(H3N2)) segment 8, complete sequence\n",
      "  0.02\t3\t0\tS3\t385731\t                          Influenza A virus (A/New York/791/1993(H3N2))\n",
      "  0.02\t3\t3\tS4\t3118646\t                            gi|112789209|gb|CY013720|Influenza A virus (A/New York/791/1993(H3N2)) segment 5, complete sequence\n",
      "  0.02\t3\t0\tS3\t1774886\t                          Influenza A virus (A/Milano/112/2011(H3N2))\n",
      "  0.01\t2\t2\tS4\t3197743\t                            gi|973427323|gb|KU321910|Influenza A virus (A/Milano/112/2011(H3N2)) segment 1 polymerase PB2 (PB2) gene, complete cds\n",
      "  0.01\t1\t1\tS4\t3197855\t                            gi|973427622|gb|KU322036|Influenza A virus (A/Milano/112/2011(H3N2)) segment 5 nucleocapsid protein (NP) gene, complete cds\n",
      "  0.02\t3\t0\tS3\t411211\t                          Influenza A virus (A/Queensland/57/2005(H3N2))\n",
      "  0.02\t3\t3\tS4\t3121464\t                            gi|118318358|gb|CY017624|Influenza A virus (A/Queensland/57/2005(H3N2)) segment 3, complete sequence\n",
      "  0.02\t3\t0\tS3\t335353\t                          Influenza A virus (A/New York/200/2004(H3N2))\n",
      "  0.02\t3\t3\tS4\t3111081\t                            gi|75215979|gb|CY002774|Influenza A virus (A/New York/200/2004(H3N2)) segment 2, complete sequence\n",
      "  0.02\t3\t0\tS3\t363037\t                          Influenza A virus (A/Canterbury/85/2000(H3N2))\n",
      "  0.02\t3\t3\tS4\t3114129\t                            gi|86852128|gb|CY008811|Influenza A virus (A/Canterbury/85/2000(H3N2)) segment 1, complete sequence\n",
      "  0.02\t3\t0\tS3\t1654216\t                          Influenza A virus (A/swine/Germany/Ottendorf-IDT11910/2010(H3N2))\n",
      "  0.02\t3\t3\tS4\t3181906\t                            gi|827499702|gb|KR701176|Influenza A virus (A/swine/Germany/Ottendorf-IDT11910/2010(H3N2)) segment 3 polymerase PA (PA) and PA-X protein (PA-X) genes, complete cds\n",
      "  0.02\t3\t0\tS3\t456219\t                          Influenza A virus (A/California/UR06-0565/2007(H3N2))\n",
      "  0.02\t3\t3\tS4\t3126842\t                            gi|158453678|gb|CY026792|Influenza A virus (A/California/UR06-0565/2007(H3N2)) segment 3, complete sequence\n",
      "  0.02\t3\t0\tS3\t383195\t                          Influenza A virus (A/Wellington/28/2003(H3N2))\n",
      "  0.02\t3\t3\tS4\t3116711\t                            gi|109676212|gb|CY011750|Influenza A virus (A/Wellington/28/2003(H3N2)) segment 2, complete sequence\n",
      "  0.02\t3\t0\tS3\t311763\t                          Influenza A virus (A/New York/192/2003(H3N2))\n",
      "  0.01\t2\t2\tS4\t3109147\t                            gi|61970947|gb|CY000758|Influenza A virus (A/New York/192/2003(H3N2)) segment 3, complete sequence\n",
      "  0.01\t1\t1\tS4\t3109145\t                            gi|61970942|gb|CY000756|Influenza A virus (A/New York/192/2003(H3N2)) segment 5, complete sequence\n",
      "  0.02\t3\t0\tS3\t1408547\t                          Influenza A virus (A/swine/Illinois/02907/2009(H3N2))\n",
      "  0.02\t3\t3\tS4\t3169747\t                            gi|557478751|gb|KF739392|Influenza A virus (A/swine/Illinois/02907/2009(H3N2)) segment 6 neuraminidase (NA) gene, complete cds\n",
      "  0.02\t3\t0\tS3\t383216\t                          Influenza A virus (A/Wellington/53/2003(H3N2))\n",
      "  0.02\t3\t3\tS4\t3117325\t                            gi|110333292|gb|CY012379|Influenza A virus (A/Wellington/53/2003(H3N2)) segment 5, complete sequence\n",
      "  0.02\t3\t0\tS3\t582956\t                          Influenza A virus (A/New York/UR07-0080/2008(H3N2))\n",
      "  0.02\t3\t3\tS4\t3132144\t                            gi|218875660|gb|CY036972|Influenza A virus (A/New York/UR07-0080/2008(H3N2)) segment 3, complete sequence\n",
      "  0.02\t3\t0\tS3\t342493\t                          Influenza A virus (A/New York/428/1999(H3N2))\n",
      "  0.01\t2\t2\tS4\t3111820\t                            gi|77917323|gb|CY003804|Influenza A virus (A/New York/428/1999(H3N2)) segment 5, complete sequence\n",
      "  0.01\t1\t1\tS4\t3111823\t                            gi|77917330|gb|CY003807|Influenza A virus (A/New York/428/1999(H3N2)) segment 2, complete sequence\n",
      "  0.02\t3\t0\tS3\t1737282\t                          Influenza A virus (A/Sarajevo/1514A06604486N/2012(H3N2))\n",
      "  0.02\t3\t3\tS4\t3196534\t                            gi|946523621|gb|KT888508|Influenza A virus (A/Sarajevo/1514A06604486N/2012(H3N2)) segment 3 polymerase PA (PA) and PA-X protein (PA-X) genes, complete cds\n",
      "  0.02\t3\t0\tS3\t579408\t                          Influenza A virus (A/swine/Minnesota/65767/2006(H3N2))\n",
      "  0.01\t2\t2\tS4\t3157010\t                            gi|307940674|gb|HQ315645|Influenza A virus (A/swine/Minnesota/65767/2006(H3N2)) segment 2 polymerase PB1 (PB1) gene, complete cds\n",
      "  0.01\t1\t1\tS4\t3131980\t                            gi|217384837|gb|FJ519971|Influenza A virus (A/swine/Minnesota/65767/2006(H3N2)) segment 4 hemagglutinin (HA) gene, complete cds\n",
      "  0.02\t3\t0\tS3\t1731671\t                          Influenza A virus (A/Ohio/11/2015(H3N2))\n",
      "  0.02\t3\t3\tS4\t3191313\t                            gi|937162966|gb|KT842912|Influenza A virus (A/Ohio/11/2015(H3N2)) segment 3 polymerase PA (PA) and PA-X protein (PA-X) genes, complete cds\n",
      "  0.02\t3\t0\tS3\t686888\t                          Influenza A virus (A/swine/Iowa/H03LDH5/2003(H3N2))\n",
      "  0.01\t2\t2\tS4\t3140723\t                            gi|262475029|gb|GU135939|Influenza A virus (A/swine/Iowa/H03LDH5/2003(H3N2)) segment 2 polymerase PB1 (PB1) gene, complete cds\n",
      "  0.01\t1\t1\tS4\t3140705\t                            gi|262474973|gb|GU135941|Influenza A virus (A/swine/Iowa/H03LDH5/2003(H3N2)) segment 4 hemagglutinin (HA) gene, complete cds\n",
      "  0.02\t3\t0\tS3\t1866167\t                          Influenza A virus (A/Washington/69/2015(H3N2))\n",
      "  0.02\t3\t3\tS4\t3206211\t                            gi|1039125714|gb|KX412703|Influenza A virus (A/Washington/69/2015(H3N2)) segment 5 nucleocapsid protein (NP) gene, complete cds\n",
      "  0.01\t2\t0\tS3\t311759\t                          Influenza A virus (A/New York/186/1999(H3N2))\n",
      "  0.01\t2\t2\tS4\t3109230\t                            gi|62198969|gb|CY000862|Influenza A virus (A/New York/186/1999(H3N2)) segment 3, complete sequence\n",
      "  0.01\t2\t0\tS3\t586207\t                          Influenza A virus (A/Hong Kong/HKU69/2005(H3N2))\n",
      "  0.01\t2\t2\tS4\t3133299\t                            gi|225908188|gb|CY038730|Influenza A virus (A/Hong Kong/HKU69/2005(H3N2)) segment 5, complete sequence\n",
      "  0.01\t2\t0\tS3\t1639315\t                          Influenza A virus (A/Hawaii/46/2014(H3N2))\n",
      "  0.01\t2\t2\tS4\t3180667\t                            gi|807068648|gb|KR057550|Influenza A virus (A/Hawaii/46/2014(H3N2)) segment 4 hemagglutinin (HA) gene, complete cds\n",
      "  0.01\t2\t0\tS3\t411210\t                          Influenza A virus (A/Queensland/56/2005(H3N2))\n",
      "  0.01\t2\t2\tS4\t3122655\t                            gi|120433976|gb|CY019034|Influenza A virus (A/Queensland/56/2005(H3N2)) segment 3, complete sequence\n",
      "  0.01\t2\t0\tS3\t383588\t                          Influenza A virus (A/Memphis/8/1988(H3N2))\n",
      "  0.01\t2\t2\tS4\t3108311\t                            gi|290747|gb|L07370|Influenza A virus (A/Memphis/8/1988(H3N2)) segment 5 nucleoprotein (NP) gene, complete cds\n",
      "  0.01\t2\t0\tS3\t1730942\t                          Influenza A virus (A/Alabama/12/2014(H3N2))\n",
      "  0.01\t2\t2\tS4\t3188341\t                            gi|937152980|gb|KT839899|Influenza A virus (A/Alabama/12/2014(H3N2)) segment 7 matrix protein 2 (M2) and matrix protein 1 (M1) genes, complete cds\n",
      "  0.01\t2\t0\tS3\t524380\t                          Influenza A virus (A/swine/Sichuan/01/2006(H3N2))\n",
      "  0.01\t1\t1\tS4\t3130500\t                            gi|194338967|gb|EU655692|Influenza A virus (A/swine/Sichuan/01/2006(H3N2)) segment 4, complete sequence\n",
      "  0.01\t1\t1\tS4\t3130502\t                            gi|194338971|gb|EU655694|Influenza A virus (A/swine/Sichuan/01/2006(H3N2)) segment 2, complete sequence\n",
      "  0.01\t2\t0\tS3\t1978749\t                          Influenza A virus (A/Viamao/LACENRS-974/2015(H3N2))\n",
      "  0.01\t2\t2\tS4\t3238058\t                            gi|1181556807|gb|KY925533|Influenza A virus (A/Viamao/LACENRS-974/2015(H3N2)) segment 3 polymerase PA (PA) and PA-X protein (PA-X) genes, complete cds\n",
      "  0.01\t2\t0\tS3\t521453\t                          Influenza A virus (A/Korea/AF05/2008(H3N2))\n",
      "  0.01\t2\t2\tS4\t3132222\t                            gi|224020912|gb|CY037320|Influenza A virus (A/Korea/AF05/2008(H3N2)) segment 7, complete sequence\n",
      "  0.01\t2\t0\tS3\t1590843\t                          Influenza A virus (A/Thailand/CU-A114/2013(H3N2))\n",
      "  0.01\t1\t1\tS4\t3178701\t                            gi|748786323|gb|KP335715|Influenza A virus (A/Thailand/CU-A114/2013(H3N2)) segment 1 polymerase basic 2 (PB2) gene, complete cds\n",
      "  0.01\t1\t1\tS4\t3178811\t                            gi|748786637|gb|KP335831|Influenza A virus (A/Thailand/CU-A114/2013(H3N2)) segment 3 polymerase PA (PA) and PA-X protein (PA-X) genes, complete cds\n",
      "  0.01\t2\t0\tS3\t638149\t                          Influenza A virus (A/Thailand/CU379/2008(H3N2))\n",
      "  0.01\t2\t2\tS4\t3133839\t                            gi|226974457|gb|FJ912991|Influenza A virus (A/Thailand/CU379/2008(H3N2)) segment 3 polymerase PA (PA) gene, complete cds\n",
      "  0.01\t2\t0\tS3\t641982\t                          Influenza A virus (A/Ohio/UR07-0013/2008(H3N2))\n",
      "  0.01\t2\t2\tS4\t3135882\t                            gi|238837394|gb|CY041458|Influenza A virus (A/Ohio/UR07-0013/2008(H3N2)) segment 4, complete sequence\n",
      "  0.01\t2\t0\tS3\t1150745\t                          Influenza A virus (A/swine/Nebraska/A01104010/2011(H3N2))\n",
      "  0.01\t2\t2\tS4\t3161522\t                            gi|380040171|gb|JQ689137|Influenza A virus (A/swine/Nebraska/A01104010/2011(H3N2)) segment 1 polymerase PB2 (PB2) gene, complete cds\n",
      "  0.01\t2\t0\tS3\t335298\t                          Influenza A virus (A/New York/319/2004(H3N2))\n",
      "  0.01\t2\t2\tS4\t3111013\t                            gi|75180529|gb|CY002714|Influenza A virus (A/New York/319/2004(H3N2)) segment 6, complete sequence\n",
      "  0.01\t2\t0\tS3\t1731444\t                          Influenza A virus (A/Minnesota/41/2014(H3N2))\n",
      "  0.01\t2\t2\tS4\t3187835\t                            gi|937151632|gb|KT839391|Influenza A virus (A/Minnesota/41/2014(H3N2)) segment 1 polymerase PB2 (PB2) gene, complete cds\n",
      "  0.01\t2\t0\tS3\t765678\t                          Influenza A virus (A/California/VRDL362/2009(H3N2))\n",
      "  0.01\t2\t2\tS4\t3153303\t                            gi|302138150|gb|CY068088|Influenza A virus (A/California/VRDL362/2009(H3N2)) segment 1, complete sequence\n",
      "  0.01\t2\t0\tS3\t383027\t                          Influenza A virus (A/New York/686/1995(H3N2))\n",
      "  0.01\t2\t2\tS4\t3117874\t                            gi|110733587|gb|CY012918|Influenza A virus (A/New York/686/1995(H3N2)) segment 2, complete sequence\n",
      "  0.01\t2\t0\tS3\t311694\t                          Influenza A virus (A/New York/122/2002(H3N2))\n",
      "  0.01\t2\t2\tS4\t3109556\t                            gi|63034204|gb|CY001202|Influenza A virus (A/New York/122/2002(H3N2)) segment 3, complete sequence\n",
      "  0.01\t2\t0\tS3\t1737183\t                          Influenza A virus (A/Callao/IPE00830/2012(H3N2))\n",
      "  0.01\t2\t2\tS4\t3196846\t                            gi|946524430|gb|KT888827|Influenza A virus (A/Callao/IPE00830/2012(H3N2)) segment 3 polymerase PA (PA) and PA-X protein (PA-X) genes, complete cds\n",
      "  0.01\t2\t0\tS3\t593183\t                          Influenza A virus (A/Kentucky/UR07-0081/2008(H3N2))\n",
      "  0.01\t1\t1\tS4\t3132469\t                            gi|224022543|gb|CY037567|Influenza A virus (A/Kentucky/UR07-0081/2008(H3N2)) segment 4, complete sequence\n",
      "  0.01\t1\t1\tS4\t3132473\t                            gi|224022552|gb|CY037571|Influenza A virus (A/Kentucky/UR07-0081/2008(H3N2)) segment 8, complete sequence\n",
      "  0.01\t2\t0\tS3\t353294\t                          Influenza A virus (A/Canterbury/398/2003(H3N2))\n",
      "  0.01\t2\t2\tS4\t3112513\t                            gi|83742849|gb|CY007018|Influenza A virus (A/Canterbury/398/2003(H3N2)) segment 1, complete sequence\n",
      "  0.01\t2\t0\tS3\t400291\t                          Influenza A virus (A/South Australia/18/2005(H3N2))\n",
      "  0.01\t2\t2\tS4\t3120421\t                            gi|115521818|gb|CY016600|Influenza A virus (A/South Australia/18/2005(H3N2)) segment 3, complete sequence\n",
      "  0.01\t2\t0\tS3\t1132625\t                          Influenza A virus (A/swine/Illinois/A01047528/2010(H3N2))\n",
      "  0.01\t2\t2\tS4\t3161141\t                            gi|374256582|gb|JQ365117|Influenza A virus (A/swine/Illinois/A01047528/2010(H3N2)) segment 2 polymerase PB1 (PB1) gene, complete cds; and nonfunctional PB1-F2 protein (PB1-F2) gene, complete sequence\n",
      "  0.01\t2\t0\tS3\t327183\t                          Influenza A virus (A/New York/324/1999(H3N2))\n",
      "  0.01\t2\t2\tS4\t3110352\t                            gi|71564625|gb|CY001981|Influenza A virus (A/New York/324/1999(H3N2)) segment 3, complete sequence\n",
      "  0.01\t2\t0\tS3\t335349\t                          Influenza A virus (A/New York/98/2004(H3N2))\n",
      "  0.01\t2\t2\tS4\t3110619\t                            gi|72597895|gb|CY002280|Influenza A virus (A/New York/98/2004(H3N2)) segment 4, complete sequence\n",
      "  0.01\t2\t0\tS3\t1732004\t                          Influenza A virus (A/Wyoming/19/2014(H3N2))\n",
      "  0.01\t2\t2\tS4\t3188333\t                            gi|937152961|gb|KT839891|Influenza A virus (A/Wyoming/19/2014(H3N2)) segment 3 polymerase PA (PA) and PA-X protein (PA-X) genes, complete cds\n",
      "  0.01\t2\t0\tS3\t1639304\t                          Influenza A virus (A/California/17/2014(H3N2))\n",
      "  0.01\t2\t2\tS4\t3180760\t                            gi|807068976|gb|KR057683|Influenza A virus (A/California/17/2014(H3N2)) segment 1 polymerase PB2 (PB2) gene, complete cds\n",
      "  0.01\t2\t0\tS3\t765568\t                          Influenza A virus (A/California/VRDL170/2009(H3N2))\n",
      "  0.01\t2\t2\tS4\t3153321\t                            gi|302182552|gb|CY068202|Influenza A virus (A/California/VRDL170/2009(H3N2)) segment 7, complete sequence\n",
      "  0.01\t2\t0\tS3\t385722\t                          Influenza A virus (A/New York/782/1993(H3N2))\n",
      "  0.01\t1\t1\tS4\t3118156\t                            gi|110734246|gb|CY013192|Influenza A virus (A/New York/782/1993(H3N2)) segment 4, complete sequence\n",
      "  0.01\t1\t1\tS4\t3118161\t                            gi|110734258|gb|CY013197|Influenza A virus (A/New York/782/1993(H3N2)) segment 3, complete sequence\n",
      "  0.01\t2\t0\tS3\t1501678\t                          Influenza A virus (A/Mexico/DIF940/2003(H3N2))\n",
      "  0.01\t2\t2\tS4\t3172024\t                            gi|649786475|gb|KJ855389|Influenza A virus (A/Mexico/DIF940/2003(H3N2)) segment 6 neuraminidase (NA) gene, complete cds\n",
      "  0.01\t2\t0\tS3\t1731679\t                          Influenza A virus (A/Ohio/26/2015(H3N2))\n",
      "  0.01\t2\t2\tS4\t3192292\t                            gi|937166540|gb|KT843899|Influenza A virus (A/Ohio/26/2015(H3N2)) segment 4 hemagglutinin (HA) gene, complete cds\n",
      "  0.01\t2\t0\tS3\t335315\t                          Influenza A virus (A/New York/366/2004(H3N2))\n",
      "  0.01\t2\t2\tS4\t3110551\t                            gi|72556670|gb|CY002196|Influenza A virus (A/New York/366/2004(H3N2)) segment 8, complete sequence\n",
      "  0.01\t2\t0\tS3\t1731700\t                          Influenza A virus (A/Pennsylvania/01/2015(H3N2))\n",
      "  0.01\t2\t2\tS4\t3189697\t                            gi|937157235|gb|KT841291|Influenza A virus (A/Pennsylvania/01/2015(H3N2)) segment 2 polymerase PB1 (PB1) and PB1-F2 protein (PB1-F2) genes, complete cds\n",
      "  0.01\t2\t0\tS3\t456171\t                          Influenza A virus (A/Colorado/UR06-0452/2007(H3N2))\n",
      "  0.01\t2\t2\tS4\t3128706\t                            gi|168480860|gb|CY030060|Influenza A virus (A/Colorado/UR06-0452/2007(H3N2)) segment 1, complete sequence\n",
      "  0.01\t2\t0\tS3\t1866019\t                          Influenza A virus (A/New York/14/2016(H3N2))\n",
      "  0.01\t2\t2\tS4\t3207714\t                            gi|1039130116|gb|KX414454|Influenza A virus (A/New York/14/2016(H3N2)) segment 1 polymerase PB2 (PB2) gene, complete cds\n",
      "  0.01\t2\t0\tS3\t1318019\t                          Influenza A virus (A/Illinois/03/2011(H3N2))\n",
      "  0.01\t1\t1\tS4\t3166884\t                            gi|485089569|gb|KC883067|Influenza A virus (A/Illinois/03/2011(H3N2)) segment 5 nucleocapsid protein (NP) gene, complete cds\n",
      "  0.01\t1\t1\tS4\t3166886\t                            gi|485089574|gb|KC883069|Influenza A virus (A/Illinois/03/2011(H3N2)) segment 1 polymerase PB2 (PB2) gene, complete cds\n",
      "  0.01\t2\t0\tS3\t416753\t                          Influenza A virus (A/New York/928/2006(H3N2))\n",
      "  0.01\t1\t1\tS4\t3122842\t                            gi|122855224|gb|CY019325|Influenza A virus (A/New York/928/2006(H3N2)) segment 4, complete sequence\n",
      "  0.01\t1\t1\tS4\t3123279\t                            gi|125664066|gb|CY019838|Influenza A virus (A/New York/928/2006(H3N2)) segment 5, complete sequence\n",
      "  0.01\t2\t0\tS3\t586156\t                          Influenza A virus (A/Hong Kong/HKU18/2004(H3N2))\n",
      "  0.01\t1\t1\tS4\t3134690\t                            gi|237689405|gb|CY040302|Influenza A virus (A/Hong Kong/HKU18/2004(H3N2)) segment 8, complete sequence\n",
      "  0.01\t1\t1\tS4\t3134692\t                            gi|237689410|gb|CY040304|Influenza A virus (A/Hong Kong/HKU18/2004(H3N2)) segment 2, complete sequence\n",
      "  0.01\t2\t0\tS3\t383270\t                          Influenza A virus (A/Waikato/70/2004(H3N2))\n",
      "  0.01\t2\t2\tS4\t3120272\t                            gi|115521464|gb|CY016451|Influenza A virus (A/Waikato/70/2004(H3N2)) segment 4, complete sequence\n",
      "  0.01\t2\t0\tS3\t390171\t                          Influenza A virus (A/Western Australia/11/2000(H3N2))\n",
      "  0.01\t2\t2\tS4\t3119620\t                            gi|115289683|gb|CY015673|Influenza A virus (A/Western Australia/11/2000(H3N2)) segment 3, complete sequence\n",
      "  0.01\t2\t0\tS3\t1774848\t                          Influenza A virus (A/Parma/471/2015(H3N2))\n",
      "  0.01\t2\t2\tS4\t3198030\t                            gi|973428118|gb|KU322236|Influenza A virus (A/Parma/471/2015(H3N2)) segment 3 polymerase PA (PA) and PA-X protein (PA-X) genes, complete cds\n",
      "  0.01\t2\t0\tS3\t1731429\t                          Influenza A virus (A/Minnesota/25/2015(H3N2))\n",
      "  0.01\t2\t2\tS4\t3191874\t                            gi|937165020|gb|KT843481|Influenza A virus (A/Minnesota/25/2015(H3N2)) segment 5 nucleocapsid protein (NP) gene, complete cds\n",
      "  0.01\t2\t0\tS3\t1731804\t                          Influenza A virus (A/Texas/28/2015(H3N2))\n",
      "  0.01\t2\t2\tS4\t3185053\t                            gi|937143342|gb|KT836224|Influenza A virus (A/Texas/28/2015(H3N2)) segment 1 polymerase PB2 (PB2) gene, complete cds\n",
      "  0.01\t2\t0\tS3\t571449\t                          Influenza A virus (A/Managua/419.01/2007(H3N2))\n",
      "  0.01\t2\t2\tS4\t3133498\t                            gi|226954836|gb|CY038917|Influenza A virus (A/Managua/419.01/2007(H3N2)) segment 2, complete sequence\n",
      "  0.01\t2\t0\tS3\t375622\t                          Influenza A virus (A/New York/632/1996(H3N2))\n",
      "  0.01\t2\t2\tS4\t3116409\t                            gi|109675479|gb|CY011442|Influenza A virus (A/New York/632/1996(H3N2)) segment 6, complete sequence\n",
      "  0.01\t2\t0\tS3\t1590895\t                          Influenza A virus (A/Thailand/CU-B5909/2011(H3N2))\n",
      "  0.01\t2\t2\tS4\t3178739\t                            gi|748786409|gb|KP335755|Influenza A virus (A/Thailand/CU-B5909/2011(H3N2)) segment 2 polymerase PB1 (PB1) and PB1-F2 protein (PB1-F2) genes, complete cds\n",
      "  0.01\t2\t0\tS3\t1517318\t                          Influenza A virus (A/Singapore/H2012.301/2012(H3N2))\n",
      "  0.01\t2\t2\tS4\t3175881\t                            gi|666880301|gb|KM070227|Influenza A virus (A/Singapore/H2012.301/2012(H3N2)) segment 3 polymerase PA (PA) and PA-X protein (PA-X) genes, complete cds\n",
      "  0.01\t2\t0\tS3\t1320766\t                          Influenza A virus (A/California/17/2012(H3N2))\n",
      "  0.01\t1\t1\tS4\t3166969\t                            gi|488466765|gb|KC892436|Influenza A virus (A/California/17/2012(H3N2)) segment 2 polymerase PB1 (PB1) and putative PB1-F2 protein (PB1-F2) genes, complete cds\n",
      "  0.01\t1\t1\tS4\t3166972\t                            gi|488466772|gb|KC892439|Influenza A virus (A/California/17/2012(H3N2)) segment 6 neuraminidase (NA) gene, complete cds\n",
      "  0.01\t2\t0\tS3\t931546\t                          Influenza A virus (A/Nanjing/1655/2010(H3N2))\n",
      "  0.01\t2\t2\tS4\t3157827\t                            gi|313757838|gb|HQ664921|Influenza A virus (A/Nanjing/1655/2010(H3N2)) segment 8 nuclear export protein (NEP) and nonstructural protein 1 (NS1) genes, complete cds\n",
      "  0.01\t2\t0\tS3\t444816\t                          Influenza A virus (A/Auckland/614/2002(H3N2))\n",
      "  0.01\t2\t2\tS4\t3124647\t                            gi|148898228|gb|CY022210|Influenza A virus (A/Auckland/614/2002(H3N2)) segment 3, complete sequence\n",
      "  0.01\t2\t0\tS3\t1590909\t                          Influenza A virus (A/Thailand/CU-B7536/2013(H3N2))\n",
      "  0.01\t2\t2\tS4\t3179028\t                            gi|748787424|gb|KP336178|Influenza A virus (A/Thailand/CU-B7536/2013(H3N2)) segment 7 matrix protein 2 (M2) and matrix protein 1 (M1) genes, complete cds\n",
      "  0.01\t2\t0\tS3\t1674976\t                          Influenza A virus (A/goose/Guangxi/139G20/2013(H3N2))\n",
      "  0.01\t2\t2\tS4\t3182293\t                            gi|851882606|gb|KT022310|Influenza A virus (A/goose/Guangxi/139G20/2013(H3N2)) segment 6 neuraminidase (NA) gene, complete cds\n",
      "  0.01\t2\t0\tS3\t342530\t                          Influenza A virus (A/New York/466/2004(H3N2))\n",
      "  0.01\t1\t1\tS4\t3112082\t                            gi|82494732|gb|CY006372|Influenza A virus (A/New York/466/2004(H3N2)) segment 7, complete sequence\n",
      "  0.01\t1\t1\tS4\t3112083\t                            gi|82494735|gb|CY006373|Influenza A virus (A/New York/466/2004(H3N2)) segment 6, complete sequence\n",
      "  0.01\t2\t0\tS3\t383118\t                          Influenza A virus (A/Wellington/21/2000(H3N2))\n",
      "  0.01\t1\t1\tS4\t3123452\t                            gi|131052536|gb|CY019990|Influenza A virus (A/Wellington/21/2000(H3N2)) segment 7, complete sequence\n",
      "  0.01\t1\t1\tS4\t3123456\t                            gi|131052594|gb|CY019994|Influenza A virus (A/Wellington/21/2000(H3N2)) segment 3, complete sequence\n",
      "  0.01\t2\t0\tS3\t311586\t                          Influenza A virus (A/New York/8/2003(H3N2))\n",
      "  0.01\t1\t1\tS4\t3109599\t                            gi|63053456|gb|CY001045|Influenza A virus (A/New York/8/2003(H3N2)) segment 4, complete sequence\n",
      "  0.01\t1\t1\tS4\t3109603\t                            gi|63053465|gb|CY001049|Influenza A virus (A/New York/8/2003(H3N2)) segment 8, complete sequence\n",
      "  0.01\t2\t0\tS3\t1731946\t                          Influenza A virus (A/Wisconsin/01/2015(H3N2))\n",
      "  0.01\t2\t2\tS4\t3190023\t                            gi|937158363|gb|KT841622|Influenza A virus (A/Wisconsin/01/2015(H3N2)) segment 3 polymerase PA (PA) and PA-X protein (PA-X) genes, complete cds\n",
      "  0.01\t2\t0\tS3\t1731978\t                          Influenza A virus (A/Wisconsin/54/2014(H3N2))\n",
      "  0.01\t2\t2\tS4\t3187918\t                            gi|937151849|gb|KT839475|Influenza A virus (A/Wisconsin/54/2014(H3N2)) segment 2 polymerase PB1 (PB1) and PB1-F2 protein (PB1-F2) genes, complete cds\n",
      "  0.01\t2\t0\tS3\t1866131\t                          Influenza A virus (A/Utah/21/2016(H3N2))\n",
      "  0.01\t2\t2\tS4\t3208499\t                            gi|1039132359|gb|KX415350|Influenza A virus (A/Utah/21/2016(H3N2)) segment 2 polymerase PB1 (PB1) and PB1-F2 protein (PB1-F2) genes, complete cds\n",
      "  0.01\t2\t0\tS3\t1910153\t                          Influenza A virus (A/Pennsylvania/73/2016(H3N2))\n",
      "  0.01\t2\t2\tS4\t3224432\t                            gi|1073668869|gb|KX916138|Influenza A virus (A/Pennsylvania/73/2016(H3N2)) segment 2 polymerase PB1 (PB1) and PB1-F2 protein (PB1-F2) genes, complete cds\n",
      "  0.01\t2\t0\tS3\t383260\t                          Influenza A virus (A/Waikato/45/2004(H3N2))\n",
      "  0.01\t2\t2\tS4\t3118475\t                            gi|112788803|gb|CY013541|Influenza A virus (A/Waikato/45/2004(H3N2)) segment 4, complete sequence\n",
      "  0.01\t2\t0\tS3\t390180\t                          Influenza A virus (A/Western Australia/25/2002(H3N2))\n",
      "  0.01\t2\t2\tS4\t3119657\t                            gi|115289771|gb|CY015710|Influenza A virus (A/Western Australia/25/2002(H3N2)) segment 6, complete sequence\n",
      "  0.01\t2\t0\tS3\t1731897\t                          Influenza A virus (A/Virginia/37/2014(H3N2))\n",
      "  0.01\t2\t2\tS4\t3188702\t                            gi|937154001|gb|KT840285|Influenza A virus (A/Virginia/37/2014(H3N2)) segment 1 polymerase PB2 (PB2) gene, complete cds\n",
      "  0.01\t2\t0\tS3\t1737286\t                          Influenza A virus (A/Tel Aviv/1514A02705506T/2013(H3N2))\n",
      "  0.01\t2\t2\tS4\t3197256\t                            gi|946525461|gb|KT889252|Influenza A virus (A/Tel Aviv/1514A02705506T/2013(H3N2)) segment 4 hemagglutinin (HA) gene, complete cds\n",
      "  0.01\t2\t0\tS3\t1535670\t                          Influenza A virus (A/swine/Thailand/CU-S14129N/2013(H3N2))\n",
      "  0.01\t2\t2\tS4\t3176936\t                            gi|675440576|gb|KM355385|Influenza A virus (A/swine/Thailand/CU-S14129N/2013(H3N2)) segment 4 hemagglutinin (HA) gene, complete cds\n",
      "  0.01\t2\t0\tS3\t2035370\t                          Influenza A virus (A/swine/Guangxi/JG1/2014(H3N2))\n",
      "  0.01\t2\t2\tS4\t3242768\t                            gi|1248279827|gb|MF927882|Influenza A virus (A/swine/Guangxi/JG1/2014(H3N2)) segment 6 neuraminidase (NA) gene, complete cds\n",
      "  0.01\t2\t0\tS3\t353343\t                          Influenza A virus (A/Bay of Plenty/383/2004(H3N2))\n",
      "  0.01\t2\t2\tS4\t3113016\t                            gi|83752219|gb|CY007322|Influenza A virus (A/Bay of Plenty/383/2004(H3N2)) segment 1, complete sequence\n",
      "  0.01\t2\t0\tS3\t1731394\t                          Influenza A virus (A/Massachusetts/23/2015(H3N2))\n",
      "  0.01\t2\t2\tS4\t3192789\t                            gi|937168230|gb|KT844396|Influenza A virus (A/Massachusetts/23/2015(H3N2)) segment 5 nucleocapsid protein (NP) gene, complete cds\n",
      "  0.01\t1\t0\tS3\t938272\t                          Influenza A virus (A/swine/Pennsylvania/62170-4/2010(H3N2))\n",
      "  0.01\t1\t1\tS4\t3158584\t                            gi|326579192|gb|JF312069|Influenza A virus (A/swine/Pennsylvania/62170-4/2010(H3N2)) segment 6 neuraminidase (NA) gene, complete cds\n",
      "  0.01\t1\t0\tS3\t1224818\t                          Influenza A virus (A/swine/Korea/A18/2011(H3N2))\n",
      "  0.01\t1\t1\tS4\t3163330\t                            gi|403377791|gb|JX502017|Influenza A virus (A/swine/Korea/A18/2011(H3N2)) segment 2 polymerase PB1 (PB1) and PB1-F2 protein (PB1-F2) genes, complete cds\n",
      "  0.01\t1\t0\tS3\t1654300\t                          Influenza A virus (A/swine/Spain/23885/2011(H3N2))\n",
      "  0.01\t1\t1\tS4\t3182002\t                            gi|827499982|gb|KR701288|Influenza A virus (A/swine/Spain/23885/2011(H3N2)) segment 3 polymerase PA (PA) and PA-X protein (PA-X) genes, complete cds\n",
      "  0.01\t1\t0\tS3\t385698\t                          Influenza A virus (A/New York/758/1993(H3N2))\n",
      "  0.01\t1\t1\tS4\t3117090\t                            gi|109915273|gb|CY012133|Influenza A virus (A/New York/758/1993(H3N2)) segment 3, complete sequence\n",
      "  0.01\t1\t0\tS3\t765614\t                          Influenza A virus (A/California/VRDL266/2009(H3N2))\n",
      "  0.01\t1\t1\tS4\t3153391\t                            gi|302182966|gb|CY068376|Influenza A virus (A/California/VRDL266/2009(H3N2)) segment 1, complete sequence\n",
      "  0.01\t1\t0\tS3\t319904\t                          Influenza A virus (A/New York/289/1998(H3N2))\n",
      "  0.01\t1\t1\tS4\t3110161\t                            gi|68509126|gb|CY001790|Influenza A virus (A/New York/289/1998(H3N2)) segment 2, complete sequence\n",
      "  0.01\t1\t0\tS3\t1737216\t                          Influenza A virus (A/Kathmandu/FLUNP09N_001_CP2/2009(H3N2))\n",
      "  0.01\t1\t1\tS4\t3196710\t                            gi|946524039|gb|KT888685|Influenza A virus (A/Kathmandu/FLUNP09N_001_CP2/2009(H3N2)) segment 6 neuraminidase (NA) gene, complete cds\n",
      "  0.01\t1\t0\tS3\t390211\t                          Influenza A virus (A/Western Australia/57/2004(H3N2))\n",
      "  0.01\t1\t1\tS4\t3119876\t                            gi|115290291|gb|CY015929|Influenza A virus (A/Western Australia/57/2004(H3N2)) segment 3, complete sequence\n",
      "  0.01\t1\t0\tS3\t327191\t                          Influenza A virus (A/New York/332/1999(H3N2))\n",
      "  0.01\t1\t1\tS4\t3110370\t                            gi|71564668|gb|CY001999|Influenza A virus (A/New York/332/1999(H3N2)) segment 1, complete sequence\n",
      "  0.01\t1\t0\tS3\t1541155\t                          Influenza A virus (A/Quebec/26-281106/2006(H3N2))\n",
      "  0.01\t1\t1\tS4\t3177550\t                            gi|695308338|gb|KM438176|Influenza A virus (A/Quebec/26-281106/2006(H3N2)) segment 1 polymerase PB2 (PB2) gene, complete cds\n",
      "  0.01\t1\t0\tS3\t421973\t                          Influenza A virus (A/Albany/1/1969(H3N2))\n",
      "  0.01\t1\t1\tS4\t3123330\t                            gi|125664230|gb|CY019906|Influenza A virus (A/Albany/1/1969(H3N2)) segment 1, complete sequence\n",
      "  0.01\t1\t0\tS3\t1731321\t                          Influenza A virus (A/Kentucky/24/2014(H3N2))\n",
      "  0.01\t1\t1\tS4\t3188914\t                            gi|937154584|gb|KT840497|Influenza A virus (A/Kentucky/24/2014(H3N2)) segment 6 neuraminidase (NA) gene, complete cds\n",
      "  0.01\t1\t0\tS3\t1731494\t                          Influenza A virus (A/Montana/26/2014(H3N2))\n",
      "  0.01\t1\t1\tS4\t3188376\t                            gi|937153078|gb|KT839934|Influenza A virus (A/Montana/26/2014(H3N2)) segment 8 nuclear export protein (NEP) and nonstructural protein 1 (NS1) genes, complete cds\n",
      "  0.01\t1\t0\tS3\t1318184\t                          Influenza A virus (A/Texas/06/2011(H3N2))\n",
      "  0.01\t1\t1\tS4\t3166859\t                            gi|485088557|gb|KC882636|Influenza A virus (A/Texas/06/2011(H3N2)) segment 6 neuraminidase (NA) gene, complete cds\n",
      "  0.01\t1\t0\tS3\t765581\t                          Influenza A virus (A/California/VRDL196/2009(H3N2))\n",
      "  0.01\t1\t1\tS4\t3153478\t                            gi|302371485|gb|CY068732|Influenza A virus (A/California/VRDL196/2009(H3N2)) segment 2, complete sequence\n",
      "  0.01\t1\t0\tS3\t1731316\t                          Influenza A virus (A/Kentucky/10/2014(H3N2))\n",
      "  0.01\t1\t1\tS4\t3186539\t                            gi|937147607|gb|KT837851|Influenza A virus (A/Kentucky/10/2014(H3N2)) segment 3 polymerase PA (PA) and PA-X protein (PA-X) genes, complete cds\n",
      "  0.01\t1\t0\tS3\t1865808\t                          Influenza A virus (A/Florida/07/2016(H3N2))\n",
      "  0.01\t1\t1\tS4\t3207416\t                            gi|1039129210|gb|KX414092|Influenza A virus (A/Florida/07/2016(H3N2)) segment 7 matrix protein 2 (M2) and matrix protein 1 (M1) genes, complete cds\n",
      "  0.01\t1\t0\tS3\t319884\t                          Influenza A virus (A/New York/269/2003(H3N2))\n",
      "  0.01\t1\t1\tS4\t3110053\t                            gi|67062035|gb|CY001640|Influenza A virus (A/New York/269/2003(H3N2)) segment 4, complete sequence\n",
      "  0.01\t1\t0\tS3\t327185\t                          Influenza A virus (A/New York/326/1999(H3N2))\n",
      "  0.01\t1\t1\tS4\t3113305\t                            gi|84105391|gb|CY007635|Influenza A virus (A/New York/326/1999(H3N2)) segment 4, complete sequence\n",
      "  0.01\t1\t0\tS3\t1866081\t                          Influenza A virus (A/Texas/120/2016(H3N2))\n",
      "  0.01\t1\t1\tS4\t3209260\t                            gi|1039134629|gb|KX416255|Influenza A virus (A/Texas/120/2016(H3N2)) segment 3 polymerase PA (PA) and PA-X protein (PA-X) genes, complete cds\n",
      "  0.01\t1\t0\tS3\t1788704\t                          Influenza A virus (A/Maine/43/2015(H3N2))\n",
      "  0.01\t1\t1\tS4\t3200399\t                            gi|984691933|gb|KU591006|Influenza A virus (A/Maine/43/2015(H3N2)) segment 3 polymerase PA (PA) gene, complete cds; and nonfunctional PA-X protein (PA-X) gene, complete sequence\n",
      "  0.01\t1\t0\tS3\t1535671\t                          Influenza A virus (A/swine/Thailand/CU-S14252N/2014(H3N2))\n",
      "  0.01\t1\t1\tS4\t3176928\t                            gi|675440557|gb|KM355393|Influenza A virus (A/swine/Thailand/CU-S14252N/2014(H3N2)) segment 4 hemagglutinin (HA) gene, complete cds\n",
      "  0.01\t1\t0\tS3\t1788702\t                          Influenza A virus (A/Maine/41/2015(H3N2))\n",
      "  0.01\t1\t1\tS4\t3199910\t                            gi|984690389|gb|KU590388|Influenza A virus (A/Maine/41/2015(H3N2)) segment 4 hemagglutinin (HA) gene, complete cds\n",
      "  0.01\t1\t0\tS3\t1317940\t                          Influenza A virus (A/Alaska/15/2011(H3N2))\n",
      "  0.01\t1\t1\tS4\t3166900\t                            gi|485090348|gb|KC883399|Influenza A virus (A/Alaska/15/2011(H3N2)) segment 8 nuclear export protein (NEP) and nonstructural protein 1 (NS1) genes, complete cds\n",
      "  0.01\t1\t0\tS3\t1315824\t                          Influenza A virus (A/swine/Thailand/PB482/2009(H3N2))\n",
      "  0.01\t1\t1\tS4\t3171802\t                            gi|645991665|gb|KC859214|Influenza A virus (A/swine/Thailand/PB482/2009(H3N2)) segment 4 hemagglutinin (HA) gene, complete cds\n",
      "  0.01\t1\t0\tS3\t390216\t                          Influenza A virus (A/Western Australia/62/2004(H3N2))\n",
      "  0.01\t1\t1\tS4\t3119916\t                            gi|115290886|gb|CY015969|Influenza A virus (A/Western Australia/62/2004(H3N2)) segment 3, complete sequence\n",
      "  0.01\t1\t0\tS3\t319893\t                          Influenza A virus (A/New York/278/1999(H3N2))\n",
      "  0.01\t1\t1\tS4\t3110342\t                            gi|71564601|gb|CY001971|Influenza A virus (A/New York/278/1999(H3N2)) segment 5, complete sequence\n",
      "  0.01\t1\t0\tS3\t1865812\t                          Influenza A virus (A/Florida/104/2015(H3N2))\n",
      "  0.01\t1\t1\tS4\t3207152\t                            gi|1039128482|gb|KX413804|Influenza A virus (A/Florida/104/2015(H3N2)) segment 7 matrix protein 2 (M2) and matrix protein 1 (M1) genes, complete cds\n",
      "  0.01\t1\t0\tS3\t327181\t                          Influenza A virus (A/New York/322/1999(H3N2))\n",
      "  0.01\t1\t1\tS4\t3110519\t                            gi|72549687|gb|CY002172|Influenza A virus (A/New York/322/1999(H3N2)) segment 8, complete sequence\n",
      "  0.01\t1\t0\tS3\t319894\t                          Influenza A virus (A/New York/279/1999(H3N2))\n",
      "  0.01\t1\t1\tS4\t3110128\t                            gi|68509052|gb|CY001757|Influenza A virus (A/New York/279/1999(H3N2)) segment 3, complete sequence\n",
      "  0.01\t1\t0\tS3\t1737289\t                          Influenza A virus (A/Thailand/1552AN015808_CP2/2010(H3N2))\n",
      "  0.01\t1\t1\tS4\t3196539\t                            gi|946523636|gb|KT888513|Influenza A virus (A/Thailand/1552AN015808_CP2/2010(H3N2)) segment 3 polymerase PA (PA) and PA-X protein (PA-X) genes, complete cds\n",
      "  0.01\t1\t0\tS3\t1865888\t                          Influenza A virus (A/Illinois/11/2016(H3N2))\n",
      "  0.01\t1\t1\tS4\t3209645\t                            gi|1039135650|gb|KX416664|Influenza A virus (A/Illinois/11/2016(H3N2)) segment 4 hemagglutinin (HA) gene, complete cds\n",
      "  0.01\t1\t0\tS3\t342481\t                          Influenza A virus (A/New York/416/2002(H3N2))\n",
      "  0.01\t1\t1\tS4\t3111333\t                            gi|76443360|gb|CY003194|Influenza A virus (A/New York/416/2002(H3N2)) segment 6, complete sequence\n",
      "  0.01\t1\t0\tS3\t363098\t                          Influenza A virus (A/Canterbury/06/2001(H3N2))\n",
      "  0.01\t1\t1\tS4\t3115058\t                            gi|90571591|gb|CY009948|Influenza A virus (A/Canterbury/06/2001(H3N2)) segment 4, complete sequence\n",
      "  0.01\t1\t0\tS3\t444799\t                          Influenza A virus (A/Auckland/596/2000(H3N2))\n",
      "  0.01\t1\t1\tS4\t3125118\t                            gi|152963315|gb|CY023030|Influenza A virus (A/Auckland/596/2000(H3N2)) segment 8, complete sequence\n",
      "  0.01\t1\t0\tS3\t363034\t                          Influenza A virus (A/Canterbury/80/2000(H3N2))\n",
      "  0.01\t1\t1\tS4\t3114152\t                            gi|86861100|gb|CY008786|Influenza A virus (A/Canterbury/80/2000(H3N2)) segment 2, complete sequence\n",
      "  0.01\t1\t0\tS3\t869367\t                          Influenza A virus (A/Managua/4134.04/2010(H3N2))\n",
      "  0.01\t1\t1\tS4\t3156695\t                            gi|307742500|gb|CY074874|Influenza A virus (A/Managua/4134.04/2010(H3N2)) segment 1, complete sequence\n",
      "  0.01\t1\t0\tS3\t1590861\t                          Influenza A virus (A/Thailand/CU-B10509/2014(H3N2))\n",
      "  0.01\t1\t1\tS4\t3178830\t                            gi|748786697|gb|KP335851|Influenza A virus (A/Thailand/CU-B10509/2014(H3N2)) segment 3 polymerase PA (PA) and PA-X protein (PA-X) genes, complete cds\n",
      "  0.01\t1\t0\tS3\t1910705\t                          Influenza A virus (A/North Carolina/51/2016(H3N2))\n",
      "  0.01\t1\t1\tS4\t3230748\t                            gi|1095416313|gb|KY003432|Influenza A virus (A/North Carolina/51/2016(H3N2)) segment 4 hemagglutinin (HA) gene, complete cds\n",
      "  0.01\t1\t0\tS3\t456169\t                          Influenza A virus (A/Illinois/UR06-0334/2007(H3N2))\n",
      "  0.01\t1\t1\tS4\t3125628\t                            gi|157281887|gb|CY025478|Influenza A virus (A/Illinois/UR06-0334/2007(H3N2)) segment 7, complete sequence\n",
      "  0.01\t1\t0\tS3\t1268360\t                          Influenza A virus (A/Victoria/361/2011(H3N2))\n",
      "  0.01\t1\t1\tS4\t3174459\t                            gi|662496565|gb|KJ942685|Influenza A virus (A/Victoria/361/2011(H3N2)) segment 3 polymerase PA (PA) and PA-X protein (PA-X) genes, complete cds\n",
      "  0.01\t1\t0\tS3\t1590851\t                          Influenza A virus (A/Thailand/CU-A305/2013(H3N2))\n",
      "  0.01\t1\t1\tS4\t3179090\t                            gi|748787629|gb|KP336243|Influenza A virus (A/Thailand/CU-A305/2013(H3N2)) segment 8 nuclear export protein (NEP) and nonstructural protein 1 (NS1) genes, complete cds\n",
      "  0.01\t1\t0\tS3\t390189\t                          Influenza A virus (A/Western Australia/35/2002(H3N2))\n",
      "  0.01\t1\t1\tS4\t3119705\t                            gi|115289885|gb|CY015758|Influenza A virus (A/Western Australia/35/2002(H3N2)) segment 6, complete sequence\n",
      "  0.01\t1\t0\tS3\t1602771\t                          Influenza A virus (A/Thailand/KS08398/2010(H3N2))\n",
      "  0.01\t1\t1\tS4\t3179644\t                            gi|755192519|gb|KP637989|Influenza A virus (A/Thailand/KS08398/2010(H3N2)) segment 3 polymerase PA (PA) and PA-X protein (PA-X) genes, complete cds\n",
      "  0.01\t1\t0\tS3\t869355\t                          Influenza A virus (A/Managua/90.01/2010(H3N2))\n",
      "  0.01\t1\t1\tS4\t3156610\t                            gi|307742298|gb|CY074789|Influenza A virus (A/Managua/90.01/2010(H3N2)) segment 6, complete sequence\n",
      "  0.01\t1\t0\tS3\t1731395\t                          Influenza A virus (A/Massachusetts/25/2014(H3N2))\n",
      "  0.01\t1\t1\tS4\t3188990\t                            gi|937154790|gb|KT840573|Influenza A virus (A/Massachusetts/25/2014(H3N2)) segment 8 nuclear export protein (NEP) and nonstructural protein 1 (NS1) genes, complete cds\n",
      "  0.01\t1\t0\tS3\t1788635\t                          Influenza A virus (A/Colorado/19/2015(H3N2))\n",
      "  0.01\t1\t1\tS4\t3200557\t                            gi|984692337|gb|KU591168|Influenza A virus (A/Colorado/19/2015(H3N2)) segment 5 nucleocapsid protein (NP) gene, complete cds\n",
      "  0.01\t1\t0\tS3\t1978707\t                          Influenza A virus (A/Santa Cruz do Sul/LACENRS-913/2011(H3N2))\n",
      "  0.01\t1\t1\tS4\t3237722\t                            gi|1181555998|gb|KY925667|Influenza A virus (A/Santa Cruz do Sul/LACENRS-913/2011(H3N2)) segment 5 nucleocapsid protein (NP) gene, complete cds\n",
      "  0.01\t1\t0\tS3\t342492\t                          Influenza A virus (A/New York/427/1999(H3N2))\n",
      "  0.01\t1\t1\tS4\t3111416\t                            gi|76446304|gb|CY003237|Influenza A virus (A/New York/427/1999(H3N2)) segment 3, complete sequence\n",
      "  0.01\t1\t0\tS3\t342534\t                          Influenza A virus (A/New York/470/2004(H3N2))\n",
      "  0.01\t1\t1\tS4\t3111937\t                            gi|78706424|gb|CY006092|Influenza A virus (A/New York/470/2004(H3N2)) segment 4, complete sequence\n",
      "  0.01\t1\t0\tS3\t1737275\t                          Influenza A virus (A/Pristina/1514A06505401N/2013(H3N2))\n",
      "  0.01\t1\t1\tS4\t3196189\t                            gi|946522719|gb|KT888156|Influenza A virus (A/Pristina/1514A06505401N/2013(H3N2)) segment 2 polymerase PB1 (PB1) and PB1-F2 protein (PB1-F2) genes, complete cds\n",
      "  0.01\t1\t0\tS3\t940823\t                          Influenza A virus (A/swine/QC/382/2009(H3N2))\n",
      "  0.01\t1\t1\tS4\t3158342\t                            gi|319656881|gb|HQ825194|Influenza A virus (A/swine/QC/382/2009(H3N2)) segment 8 nuclear export protein (NEP) and nonstructural protein 1 (NS1) genes, complete cds\n",
      "  0.01\t1\t0\tS3\t1731705\t                          Influenza A virus (A/Pennsylvania/08/2015(H3N2))\n",
      "  0.01\t1\t1\tS4\t3189653\t                            gi|937157078|gb|KT841245|Influenza A virus (A/Pennsylvania/08/2015(H3N2)) segment 7 matrix protein 2 (M2) and matrix protein 1 (M1) genes, complete cds\n",
      "  0.01\t1\t0\tS3\t342502\t                          Influenza A virus (A/New York/437/2000(H3N2))\n",
      "  0.01\t1\t1\tS4\t3111392\t                            gi|76443500|gb|CY003277|Influenza A virus (A/New York/437/2000(H3N2)) segment 3, complete sequence\n",
      "  0.01\t1\t0\tS3\t1731702\t                          Influenza A virus (A/Pennsylvania/04/2015(H3N2))\n",
      "  0.01\t1\t1\tS4\t3185106\t                            gi|937143490|gb|KT836277|Influenza A virus (A/Pennsylvania/04/2015(H3N2)) segment 2 polymerase PB1 (PB1) and PB1-F2 protein (PB1-F2) genes, complete cds\n",
      "  0.01\t1\t0\tS3\t1978586\t                          Influenza A virus (A/Canela/LACENRS-102/2011(H3N2))\n",
      "  0.01\t1\t1\tS4\t3236772\t                            gi|1181553665|gb|KY926068|Influenza A virus (A/Canela/LACENRS-102/2011(H3N2)) segment 3 polymerase PA (PA) and PA-X protein (PA-X) genes, complete cds\n",
      "  0.01\t1\t0\tS3\t390173\t                          Influenza A virus (A/Western Australia/13/2001(H3N2))\n",
      "  0.01\t1\t1\tS4\t3119623\t                            gi|115289690|gb|CY015676|Influenza A virus (A/Western Australia/13/2001(H3N2)) segment 4, complete sequence\n",
      "  0.01\t1\t0\tS3\t1978574\t                          Influenza A virus (A/Bage/LACENRS-294/2011(H3N2))\n",
      "  0.01\t1\t1\tS4\t3236678\t                            gi|1181553438|gb|KY926142|Influenza A virus (A/Bage/LACENRS-294/2011(H3N2)) segment 3 polymerase PA (PA) and PA-X protein (PA-X) genes, complete cds\n",
      "  0.01\t1\t0\tS3\t1590916\t                          Influenza A virus (A/Thailand/CU-B7885/2013(H3N2))\n",
      "  0.01\t1\t1\tS4\t3178866\t                            gi|748786837|gb|KP335914|Influenza A virus (A/Thailand/CU-B7885/2013(H3N2)) segment 4 hemagglutinin (HA) gene, complete cds\n",
      "  0.01\t1\t0\tS3\t342519\t                          Influenza A virus (A/New York/455/1999(H3N2))\n",
      "  0.01\t1\t1\tS4\t3111917\t                            gi|78706376|gb|CY006072|Influenza A virus (A/New York/455/1999(H3N2)) segment 8, complete sequence\n",
      "  0.01\t1\t0\tS3\t1788600\t                          Influenza A virus (A/Alaska/49/2015(H3N2))\n",
      "  0.01\t1\t1\tS4\t3199420\t                            gi|984688584|gb|KU589664|Influenza A virus (A/Alaska/49/2015(H3N2)) segment 1 polymerase PB2 (PB2) gene, complete cds\n",
      "  0.01\t1\t0\tS3\t1590900\t                          Influenza A virus (A/Thailand/CU-B6309/2012(H3N2))\n",
      "  0.01\t1\t1\tS4\t3178801\t                            gi|748786607|gb|KP335821|Influenza A virus (A/Thailand/CU-B6309/2012(H3N2)) segment 3 polymerase PA (PA) and PA-X protein (PA-X) genes, complete cds\n",
      "  0.01\t1\t0\tS3\t342525\t                          Influenza A virus (A/New York/461/2005(H3N2))\n",
      "  0.01\t1\t1\tS4\t3111923\t                            gi|78706391|gb|CY006078|Influenza A virus (A/New York/461/2005(H3N2)) segment 6, complete sequence\n",
      "  0.01\t1\t0\tS3\t1788658\t                          Influenza A virus (A/Georgia/13/2015(H3N2))\n",
      "  0.01\t1\t1\tS4\t3201000\t                            gi|984693795|gb|KU591748|Influenza A virus (A/Georgia/13/2015(H3N2)) segment 1 polymerase PB2 (PB2) gene, complete cds\n",
      "  0.01\t1\t0\tS3\t1731664\t                          Influenza A virus (A/Ohio/05/2014(H3N2))\n",
      "  0.01\t1\t1\tS4\t3185987\t                            gi|937146005|gb|KT837246|Influenza A virus (A/Ohio/05/2014(H3N2)) segment 1 polymerase PB2 (PB2) gene, complete cds\n",
      "  0.01\t1\t0\tS3\t390203\t                          Influenza A virus (A/Western Australia/49/2003(H3N2))\n",
      "  0.01\t1\t1\tS4\t3121564\t                            gi|119365387|gb|CY017798|Influenza A virus (A/Western Australia/49/2003(H3N2)) segment 7, complete sequence\n",
      "  0.01\t1\t0\tS3\t355504\t                          Influenza A virus (A/New York/539/1998(H3N2))\n",
      "  0.01\t1\t1\tS4\t3112199\t                            gi|82502890|gb|CY006585|Influenza A virus (A/New York/539/1998(H3N2)) segment 2, complete sequence\n",
      "  0.01\t1\t0\tS3\t1639324\t                          Influenza A virus (A/New Hampshire/18/2014(H3N2))\n",
      "  0.01\t1\t1\tS4\t3180741\t                            gi|807068921|gb|KR057661|Influenza A virus (A/New Hampshire/18/2014(H3N2)) segment 6 neuraminidase (NA) gene, complete cds\n",
      "  0.01\t1\t0\tS3\t1910270\t                          Influenza A virus (A/Virginia/52/2016(H3N2))\n",
      "  0.01\t1\t1\tS4\t3225722\t                            gi|1073674253|gb|KX917764|Influenza A virus (A/Virginia/52/2016(H3N2)) segment 4 hemagglutinin (HA) gene, complete cds\n",
      "  0.01\t1\t0\tS3\t1731353\t                          Influenza A virus (A/Maine/09/2015(H3N2))\n",
      "  0.01\t1\t1\tS4\t3190545\t                            gi|937160236|gb|KT842144|Influenza A virus (A/Maine/09/2015(H3N2)) segment 4 hemagglutinin (HA) gene, complete cds\n",
      "  0.01\t1\t0\tS3\t1865838\t                          Influenza A virus (A/Florida/90/2015(H3N2))\n",
      "  0.01\t1\t1\tS4\t3206835\t                            gi|1039127522|gb|KX413423|Influenza A virus (A/Florida/90/2015(H3N2)) segment 2 polymerase PB1 (PB1) and PB1-F2 protein (PB1-F2) genes, complete cds\n",
      "  0.01\t1\t0\tS3\t335316\t                          Influenza A virus (A/New York/367/2005(H3N2))\n",
      "  0.01\t1\t1\tS4\t3110772\t                            gi|73665887|gb|CY002453|Influenza A virus (A/New York/367/2005(H3N2)) segment 3, complete sequence\n",
      "  0.01\t1\t0\tS3\t1865839\t                          Influenza A virus (A/Florida/91/2015(H3N2))\n",
      "  0.01\t1\t1\tS4\t3206885\t                            gi|1039127688|gb|KX413489|Influenza A virus (A/Florida/91/2015(H3N2)) segment 4 hemagglutinin (HA) gene, complete cds\n",
      "  0.01\t1\t0\tS3\t765655\t                          Influenza A virus (A/California/VRDL333/2009(H3N2))\n",
      "  0.01\t1\t1\tS4\t3153445\t                            gi|302183882|gb|CY068598|Influenza A virus (A/California/VRDL333/2009(H3N2)) segment 3, complete sequence\n",
      "  0.01\t1\t0\tS3\t335320\t                          Influenza A virus (A/New York/371/2004(H3N2))\n",
      "  0.01\t1\t1\tS4\t3110569\t                            gi|72565968|gb|CY002222|Influenza A virus (A/New York/371/2004(H3N2)) segment 2, complete sequence\n",
      "  0.01\t1\t0\tS3\t335322\t                          Influenza A virus (A/New York/373/2005(H3N2))\n",
      "  0.01\t1\t1\tS4\t3110785\t                            gi|73665937|gb|CY002462|Influenza A virus (A/New York/373/2005(H3N2)) segment 2, complete sequence\n",
      "  0.01\t1\t0\tS3\t1737299\t                          Influenza A virus (A/Yokosuka/SE680/2012(H3N2))\n",
      "  0.01\t1\t1\tS4\t3196163\t                            gi|946522641|gb|KT888130|Influenza A virus (A/Yokosuka/SE680/2012(H3N2)) segment 3 polymerase PA (PA) and PA-X protein (PA-X) genes, complete cds\n",
      "  0.01\t1\t0\tS3\t1737240\t                          Influenza A virus (A/Managua/INI00283/2011(H3N2))\n",
      "  0.01\t1\t1\tS4\t3196843\t                            gi|946524421|gb|KT888824|Influenza A virus (A/Managua/INI00283/2011(H3N2)) segment 3 polymerase PA (PA) and PA-X protein (PA-X) genes, complete cds\n",
      "  0.01\t1\t0\tS3\t1737242\t                          Influenza A virus (A/Masaya/INI00224/2011(H3N2))\n",
      "  0.01\t1\t1\tS4\t3196132\t                            gi|946522545|gb|KT888096|Influenza A virus (A/Masaya/INI00224/2011(H3N2)) segment 1 polymerase PB2 (PB2) gene, complete cds\n",
      "  0.01\t1\t0\tS3\t1937337\t                          Influenza A virus (A/Keelung/0026/2016(H3N2))\n",
      "  0.01\t1\t1\tS4\t3235181\t                            gi|1145600194|gb|KY487389|Influenza A virus (A/Keelung/0026/2016(H3N2)) segment 6 neuraminidase (NA) gene, complete cds\n",
      "  0.01\t1\t0\tS3\t390197\t                          Influenza A virus (A/Western Australia/43/2003(H3N2))\n",
      "  0.01\t1\t1\tS4\t3119770\t                            gi|115290039|gb|CY015823|Influenza A virus (A/Western Australia/43/2003(H3N2)) segment 5, complete sequence\n",
      "  0.01\t1\t0\tS3\t425538\t                          Influenza A virus (A/South Australia/61/2005(H3N2))\n",
      "  0.01\t1\t1\tS4\t3123673\t                            gi|133752928|gb|CY020305|Influenza A virus (A/South Australia/61/2005(H3N2)) segment 8, complete sequence\n",
      "  0.01\t1\t0\tS3\t1737296\t                          Influenza A virus (A/Trujillo/IPE00693/2011(H3N2))\n",
      "  0.01\t1\t1\tS4\t3196134\t                            gi|946522549|gb|KT888098|Influenza A virus (A/Trujillo/IPE00693/2011(H3N2)) segment 1 polymerase PB2 (PB2) gene, complete cds\n",
      "  0.01\t1\t0\tS3\t1910301\t                          Influenza A virus (A/Wisconsin/72/2016(H3N2))\n",
      "  0.01\t1\t1\tS4\t3225046\t                            gi|1073671085|gb|KX916816|Influenza A virus (A/Wisconsin/72/2016(H3N2)) segment 8 nuclear export protein (NEP) and nonstructural protein 1 (NS1) genes, complete cds\n",
      "  0.01\t1\t0\tS3\t1980321\t                          Influenza A virus (A/Baltimore/0230/2017(H3N2))\n",
      "  0.01\t1\t1\tS4\t3238232\t                            gi|1189919820|gb|KY950163|Influenza A virus (A/Baltimore/0230/2017(H3N2)) segment 8 nuclear export protein (NEP) and nonstructural protein 1 (NS1) genes, complete cds\n",
      "  0.01\t1\t0\tS3\t425541\t                          Influenza A virus (A/South Australia/81/2000(H3N2))\n",
      "  0.01\t1\t1\tS4\t3124300\t                            gi|145278994|gb|CY021787|Influenza A virus (A/South Australia/81/2000(H3N2)) segment 2, complete sequence\n",
      "  0.01\t1\t0\tS3\t1602808\t                          Influenza A virus (A/Thailand/PY12558/2013(H3N2))\n",
      "  0.01\t1\t1\tS4\t3179549\t                            gi|755192282|gb|KP638086|Influenza A virus (A/Thailand/PY12558/2013(H3N2)) segment 4 hemagglutinin (HA) gene, complete cds\n",
      "  0.01\t1\t0\tS3\t1731682\t                          Influenza A virus (A/Oklahoma/05/2015(H3N2))\n",
      "  0.01\t1\t1\tS4\t3190761\t                            gi|937160992|gb|KT842360|Influenza A virus (A/Oklahoma/05/2015(H3N2)) segment 3 polymerase PA (PA) and PA-X protein (PA-X) genes, complete cds\n",
      "  0.01\t1\t0\tS3\t456209\t                          Influenza A virus (A/Colorado/UR06-0558/2007(H3N2))\n",
      "  0.01\t1\t1\tS4\t3126291\t                            gi|157368202|gb|CY026251|Influenza A virus (A/Colorado/UR06-0558/2007(H3N2)) segment 4, complete sequence\n",
      "  0.01\t1\t0\tS3\t456208\t                          Influenza A virus (A/Alabama/UR06-0545/2007(H3N2))\n",
      "  0.01\t1\t1\tS4\t3126009\t                            gi|157282792|gb|CY025865|Influenza A virus (A/Alabama/UR06-0545/2007(H3N2)) segment 2, complete sequence\n",
      "  0.01\t1\t0\tS3\t1602787\t                          Influenza A virus (A/Thailand/MR07161/2008(H3N2))\n",
      "  0.01\t1\t1\tS4\t3179466\t                            gi|755192074|gb|KP638163|Influenza A virus (A/Thailand/MR07161/2008(H3N2)) segment 1 polymerase PB2 (PB2) gene, complete cds\n",
      "  0.01\t1\t0\tS3\t456206\t                          Influenza A virus (A/New York/UR06-0510/2007(H3N2))\n",
      "  0.01\t1\t1\tS4\t3125989\t                            gi|157282745|gb|CY025845|Influenza A virus (A/New York/UR06-0510/2007(H3N2)) segment 6, complete sequence\n",
      "  0.01\t1\t0\tS3\t1917537\t                          Influenza A virus (A/Alaska/26/2016(H3N2))\n",
      "  0.01\t1\t1\tS4\t3232129\t                            gi|1102593217|gb|KY116122|Influenza A virus (A/Alaska/26/2016(H3N2)) segment 8 nuclear export protein (NEP) and nonstructural protein 1 (NS1) genes, complete cds\n",
      "  0.01\t1\t0\tS3\t364122\t                          Influenza A virus (A/New York/474/2003(H3N2))\n",
      "  0.01\t1\t1\tS4\t3113955\t                            gi|86803778|gb|CY008877|Influenza A Virus (A/New York/474/2003(H3N2)) segment 7, complete sequence\n",
      "  0.01\t1\t0\tS3\t335362\t                          Influenza A virus (A/New York/243/2005(H3N2))\n",
      "  0.01\t1\t1\tS4\t3111984\t                            gi|80973952|gb|CY006154|Influenza A virus (A/New York/243/2005(H3N2)) segment 1, complete sequence\n",
      "  0.01\t1\t0\tS3\t383190\t                          Influenza A virus (A/Waikato/1/2003(H3N2))\n",
      "  0.01\t1\t1\tS4\t3116678\t                            gi|109676134|gb|CY011717|Influenza A virus (A/Waikato/1/2003(H3N2)) segment 3, complete sequence\n",
      "  0.01\t1\t0\tS3\t1731167\t                          Influenza A virus (A/Georgia/23/2014(H3N2))\n",
      "  0.01\t1\t1\tS4\t3187562\t                            gi|937150805|gb|KT839081|Influenza A virus (A/Georgia/23/2014(H3N2)) segment 1 polymerase PB2 (PB2) gene, complete cds\n",
      "  0.01\t1\t0\tS3\t1925207\t                          Influenza A virus (A/Pennsylvania/92/2016(H3N2))\n",
      "  0.01\t1\t1\tS4\t3233657\t                            gi|1111248951|gb|KY289081|Influenza A virus (A/Pennsylvania/92/2016(H3N2)) segment 5 nucleocapsid protein (NP) gene, complete cds\n",
      "  0.01\t1\t0\tS3\t586206\t                          Influenza A virus (A/Hong Kong/HKU68/2005(H3N2))\n",
      "  0.01\t1\t1\tS4\t3133294\t                            gi|225908176|gb|CY038725|Influenza A virus (A/Hong Kong/HKU68/2005(H3N2)) segment 2, complete sequence\n",
      "  0.01\t1\t0\tS3\t1774877\t                          Influenza A virus (A/swine/Italy/341031-3/2014(H3N2))\n",
      "  0.01\t1\t1\tS4\t3198522\t                            gi|973430219|gb|KU323081|Influenza A virus (A/swine/Italy/341031-3/2014(H3N2)) segment 8 nuclear export protein (NEP) and nonstructural protein 1 (NS1) genes, complete cds\n",
      "  0.01\t1\t0\tS3\t311672\t                          Influenza A virus (A/New York/99/2002(H3N2))\n",
      "  0.01\t1\t1\tS4\t3109408\t                            gi|63031459|gb|CY001081|Influenza A virus (A/New York/99/2002(H3N2)) segment 7, complete sequence\n",
      "  0.01\t1\t0\tS3\t1469644\t                          Influenza A virus (A/swine/Tochigi/14/2013(H3N2))\n",
      "  0.01\t1\t1\tS4\t3178615\t                            gi|745992817|gb|AB914508|Influenza A virus (A/swine/Tochigi/14/2013(H3N2)) viral cRNA, segment 4, complete sequence\n",
      "  0.01\t1\t0\tS3\t1731159\t                          Influenza A virus (A/Georgia/07/2015(H3N2))\n",
      "  0.01\t1\t1\tS4\t3189633\t                            gi|937157012|gb|KT841225|Influenza A virus (A/Georgia/07/2015(H3N2)) segment 5 nucleocapsid protein (NP) gene, complete cds\n",
      "  0.01\t1\t0\tS3\t1216897\t                          Influenza A virus (A/Singapore/C2010.682V/2010(H3N2))\n",
      "  0.01\t1\t1\tS4\t3163009\t                            gi|401716089|gb|JX437791|Influenza A virus (A/Singapore/C2010.682V/2010(H3N2)) segment 3 polymerase PA (PA) gene, complete cds\n",
      "  0.01\t1\t0\tS3\t383048\t                          Influenza A virus (A/New York/707/1994(H3N2))\n",
      "  0.01\t1\t1\tS4\t3117518\t                            gi|110629233|gb|CY012541|Influenza A virus (A/New York/707/1994(H3N2)) segment 3, complete sequence\n",
      "  0.01\t1\t0\tS3\t1732000\t                          Influenza A virus (A/Wyoming/14/2015(H3N2))\n",
      "  0.01\t1\t1\tS4\t3184753\t                            gi|937142534|gb|KT835919|Influenza A virus (A/Wyoming/14/2015(H3N2)) segment 7 matrix protein 2 (M2) and matrix protein 1 (M1) genes, complete cds\n",
      "  0.01\t1\t0\tS3\t383051\t                          Influenza A virus (A/New York/710/1994(H3N2))\n",
      "  0.01\t1\t1\tS4\t3117526\t                            gi|110629252|gb|CY012549|Influenza A virus (A/New York/710/1994(H3N2)) segment 3, complete sequence\n",
      "  0.01\t1\t0\tS3\t311662\t                          Influenza A virus (A/New York/88/2002(H3N2))\n",
      "  0.01\t1\t1\tS4\t3109490\t                            gi|63034054|gb|CY001075|Influenza A virus (A/New York/88/2002(H3N2)) segment 5, complete sequence\n",
      "  0.01\t1\t0\tS3\t586194\t                          Influenza A virus (A/Hong Kong/HKU56/2005(H3N2))\n",
      "  0.01\t1\t1\tS4\t3134084\t                            gi|229486393|gb|CY039511|Influenza A virus (A/Hong Kong/HKU56/2005(H3N2)) segment 4, complete sequence\n",
      "  0.01\t1\t0\tS3\t1908296\t                          Influenza A virus (A/swine/Ohio/16TOSU5245/2016(H3N2))\n",
      "  0.01\t1\t1\tS4\t3231639\t                            gi|1102152571|gb|KX981546|Influenza A virus (A/swine/Ohio/16TOSU5245/2016(H3N2)) segment 4 hemagglutinin (HA) gene, complete cds\n",
      "  0.01\t1\t0\tS3\t1731612\t                          Influenza A virus (A/New York/39/2014(H3N2))\n",
      "  0.01\t1\t1\tS4\t3189259\t                            gi|937155572|gb|KT840842|Influenza A virus (A/New York/39/2014(H3N2)) segment 3 polymerase PA (PA) and PA-X protein (PA-X) genes, complete cds\n",
      "  0.01\t1\t0\tS3\t411166\t                          Influenza A virus (A/Queensland/9/2000(H3N2))\n",
      "  0.01\t1\t1\tS4\t3121326\t                            gi|118315340|gb|CY017478|Influenza A virus (A/Queensland/9/2000(H3N2)) segment 5, complete sequence\n",
      "  0.01\t1\t0\tS3\t1774867\t                          Influenza A virus (A/swine/Italy/229049/2015(H3N2))\n",
      "  0.01\t1\t1\tS4\t3198632\t                            gi|973430747|gb|KU323295|Influenza A virus (A/swine/Italy/229049/2015(H3N2)) segment 6 neuraminidase (NA) gene, complete cds\n",
      "  0.01\t1\t0\tS3\t1909809\t                          Influenza A virus (A/Alaska/19/2016(H3N2))\n",
      "  0.01\t1\t1\tS4\t3225822\t                            gi|1073674548|gb|KX917864|Influenza A virus (A/Alaska/19/2016(H3N2)) segment 8 nuclear export protein (NEP) and nonstructural protein 1 (NS1) genes, complete cds\n",
      "  0.01\t1\t0\tS3\t1730955\t                          Influenza A virus (A/Alaska/144/2015(H3N2))\n",
      "  0.01\t1\t1\tS4\t3191995\t                            gi|937165521|gb|KT843602|Influenza A virus (A/Alaska/144/2015(H3N2)) segment 8 nuclear export protein (NEP) and nonstructural protein 1 (NS1) genes, complete cds\n",
      "  0.01\t1\t0\tS3\t537951\t                          Influenza A virus (A/Genoa/14/2003(H3N2))\n",
      "  0.01\t1\t1\tS4\t3132258\t                            gi|224021444|gb|CY037356|Influenza A virus (A/Genoa/14/2003(H3N2)) segment 3, complete sequence\n",
      "  0.01\t1\t0\tS3\t1731627\t                          Influenza A virus (A/North Carolina/08/2015(H3N2))\n",
      "  0.01\t1\t1\tS4\t3190182\t                            gi|937158884|gb|KT841781|Influenza A virus (A/North Carolina/08/2015(H3N2)) segment 3 polymerase PA (PA) and PA-X protein (PA-X) genes, complete cds\n",
      "  0.01\t1\t0\tS3\t383022\t                          Influenza A virus (A/New York/681/1995(H3N2))\n",
      "  0.01\t1\t1\tS4\t3121152\t                            gi|117572886|gb|CY017293|Influenza A virus (A/New York/681/1995(H3N2)) segment 6, complete sequence\n",
      "  0.01\t1\t0\tS3\t537959\t                          Influenza A virus (A/Taiwan/70307/2007(H3N2))\n",
      "  0.01\t1\t1\tS4\t3134445\t                            gi|237688822|gb|CY040057|Influenza A virus (A/Taiwan/70307/2007(H3N2)) segment 1, complete sequence\n",
      "  0.01\t1\t0\tS3\t1771193\t                          Influenza A virus (A/Cambodia/V1221301/2011(H3N2))\n",
      "  0.01\t1\t1\tS4\t3197698\t                            gi|973426484|gb|KU299817|Influenza A virus (A/Cambodia/V1221301/2011(H3N2)) segment 4 hemagglutinin (HA) gene, complete cds\n",
      "  0.01\t1\t0\tS3\t1731872\t                          Influenza A virus (A/Utah/34/2014(H3N2))\n",
      "  0.01\t1\t1\tS4\t3188362\t                            gi|937153041|gb|KT839920|Influenza A virus (A/Utah/34/2014(H3N2)) segment 5 nucleocapsid protein (NP) gene, complete cds\n",
      "  0.01\t1\t0\tS3\t1731873\t                          Influenza A virus (A/Utah/35/2014(H3N2))\n",
      "  0.01\t1\t1\tS4\t3188387\t                            gi|937153111|gb|KT839945|Influenza A virus (A/Utah/35/2014(H3N2)) segment 5 nucleocapsid protein (NP) gene, complete cds\n",
      "  0.01\t1\t0\tS3\t311701\t                          Influenza A virus (A/New York/130/2002(H3N2))\n",
      "  0.01\t1\t1\tS4\t3108987\t                            gi|61970564|gb|CY000588|Influenza A virus (A/New York/130/2002(H3N2)) segment 5, complete sequence\n",
      "  0.01\t1\t0\tS3\t353452\t                          Influenza A virus (A/Canterbury/127/2005(H3N2))\n",
      "  0.01\t1\t1\tS4\t3113456\t                            gi|84873277|gb|CY008074|Influenza A virus (A/Canterbury/127/2005(H3N2)) segment 1, complete sequence\n",
      "  0.01\t1\t0\tS3\t1517371\t                          Influenza A virus (A/Singapore/S2009.367a/2009(H3N2))\n",
      "  0.01\t1\t1\tS4\t3175811\t                            gi|666880070|gb|KM070150|Influenza A virus (A/Singapore/S2009.367a/2009(H3N2)) segment 3 polymerase PA (PA) and PA-X protein (PA-X) genes, complete cds\n",
      "  0.01\t1\t0\tS3\t593179\t                          Influenza A virus (A/Ohio/UR07-0016/2008(H3N2))\n",
      "  0.01\t1\t1\tS4\t3132404\t                            gi|224022248|gb|CY037502|Influenza A virus (A/Ohio/UR07-0016/2008(H3N2)) segment 1, complete sequence\n",
      "  0.01\t1\t0\tS3\t411183\t                          Influenza A virus (A/Queensland/29/2002(H3N2))\n",
      "  0.01\t1\t1\tS4\t3121659\t                            gi|119365671|gb|CY017925|Influenza A virus (A/Queensland/29/2002(H3N2)) segment 4, complete sequence\n",
      "  0.01\t1\t0\tS3\t1731181\t                          Influenza A virus (A/Hawaii/12/2015(H3N2))\n",
      "  0.01\t1\t1\tS4\t3191058\t                            gi|937162017|gb|KT842657|Influenza A virus (A/Hawaii/12/2015(H3N2)) segment 1 polymerase PB2 (PB2) gene, complete cds\n",
      "  0.01\t1\t0\tS3\t383206\t                          Influenza A virus (A/Waikato/53/2003(H3N2))\n",
      "  0.01\t1\t1\tS4\t3118097\t                            gi|110734106|gb|CY013133|Influenza A virus (A/Waikato/53/2003(H3N2)) segment 3, complete sequence\n",
      "  0.01\t1\t0\tS3\t400292\t                          Influenza A virus (A/South Australia/20/2005(H3N2))\n",
      "  0.01\t1\t1\tS4\t3120429\t                            gi|115521837|gb|CY016608|Influenza A virus (A/South Australia/20/2005(H3N2)) segment 3, complete sequence\n",
      "  0.01\t1\t0\tS3\t411180\t                          Influenza A virus (A/Queensland/26/2002(H3N2))\n",
      "  0.01\t1\t1\tS4\t3121402\t                            gi|118317158|gb|CY017562|Influenza A virus (A/Queensland/26/2002(H3N2)) segment 1, complete sequence\n",
      "  0.01\t1\t0\tS3\t586214\t                          Influenza A virus (A/Hong Kong/HKU76/2005(H3N2))\n",
      "  0.01\t1\t1\tS4\t3134740\t                            gi|237689524|gb|CY040352|Influenza A virus (A/Hong Kong/HKU76/2005(H3N2)) segment 2, complete sequence\n",
      "  0.01\t1\t0\tS3\t586140\t                          Influenza A virus (A/Hong Kong/HKU2/2004(H3N2))\n",
      "  0.01\t1\t1\tS4\t3133149\t                            gi|225907832|gb|CY038572|Influenza A virus (A/Hong Kong/HKU2/2004(H3N2)) segment 3, complete sequence\n",
      "  0.01\t1\t0\tS3\t311611\t                          Influenza A virus (A/New York/33/2004(H3N2))\n",
      "  0.01\t1\t1\tS4\t3108769\t                            gi|61927265|gb|CY000033|Influenza A virus (A/New York/33/2004(H3N2)) segment 4, complete sequence\n",
      "  0.01\t1\t0\tS3\t383087\t                          Influenza A virus (A/New York/746/1994(H3N2))\n",
      "  0.01\t1\t1\tS4\t3117546\t                            gi|110629299|gb|CY012569|Influenza A virus (A/New York/746/1994(H3N2)) segment 7, complete sequence\n",
      "  0.01\t1\t0\tS3\t383088\t                          Influenza A virus (A/New York/747/1994(H3N2))\n",
      "  0.01\t1\t1\tS4\t3117557\t                            gi|110629329|gb|CY012580|Influenza A virus (A/New York/747/1994(H3N2)) segment 8, complete sequence\n",
      "  0.01\t1\t0\tS3\t586147\t                          Influenza A virus (A/Hong Kong/HKU9/2004(H3N2))\n",
      "  0.01\t1\t1\tS4\t3133552\t                            gi|226954964|gb|CY038971|Influenza A virus (A/Hong Kong/HKU9/2004(H3N2)) segment 8, complete sequence\n",
      "  0.01\t1\t0\tS3\t1924366\t                          Influenza A virus (A/blue-winged teal/Missouri/15OS4769/2015(H3N2))\n",
      "  0.01\t1\t1\tS4\t3234497\t                            gi|1123900428|gb|KY284357|Influenza A virus (A/blue-winged teal/Missouri/15OS4769/2015(H3N2)) segment 2 polymerase PB1 (PB1) and PB1-F2 protein (PB1-F2) genes, complete cds\n",
      "  0.01\t1\t0\tS3\t1731598\t                          Influenza A virus (A/New York/18/2014(H3N2))\n",
      "  0.01\t1\t1\tS4\t3185978\t                            gi|937145977|gb|KT837236|Influenza A virus (A/New York/18/2014(H3N2)) segment 3 polymerase PA (PA) and PA-X protein (PA-X) genes, complete cds\n",
      "  0.01\t1\t0\tS3\t1731589\t                          Influenza A virus (A/New York/08/2015(H3N2))\n",
      "  0.01\t1\t1\tS4\t3189826\t                            gi|937157681|gb|KT841423|Influenza A virus (A/New York/08/2015(H3N2)) segment 4 hemagglutinin (HA) gene, complete cds\n",
      "  0.01\t1\t0\tS3\t1731940\t                          Influenza A virus (A/Washington/60/2014(H3N2))\n",
      "  0.01\t1\t1\tS4\t3188742\t                            gi|937154124|gb|KT840325|Influenza A virus (A/Washington/60/2014(H3N2)) segment 3 polymerase PA (PA) and PA-X protein (PA-X) genes, complete cds\n",
      "  0.01\t1\t0\tS3\t400328\t                          Influenza A virus (A/New South Wales/6/1999(H3N2))\n",
      "  0.01\t1\t1\tS4\t3120344\t                            gi|115521635|gb|CY016523|Influenza A virus (A/New South Wales/6/1999(H3N2)) segment 4, complete sequence\n",
      "  0.01\t1\t0\tS3\t1731590\t                          Influenza A virus (A/New York/09/2015(H3N2))\n",
      "  0.01\t1\t1\tS4\t3189504\t                            gi|937156560|gb|KT841095|Influenza A virus (A/New York/09/2015(H3N2)) segment 8 nuclear export protein (NEP) and nonstructural protein 1 (NS1) genes, complete cds\n",
      "  0.01\t1\t0\tS3\t2050877\t                          Influenza A virus (A/canine/China/LG2/2015(H3N2))\n",
      "  0.01\t1\t1\tS4\t3243164\t                            gi|1272599582|gb|MG309816|Influenza A virus (A/canine/China/LG2/2015(H3N2)) segment 2 polymerase PB1 (PB1) and PB1-F2 protein (PB1-F2) genes, complete cds\n",
      "  0.01\t1\t0\tS3\t353439\t                          Influenza A virus (A/Canterbury/16/2005(H3N2))\n",
      "  0.01\t1\t1\tS4\t3113360\t                            gi|84873030|gb|CY007962|Influenza A virus (A/Canterbury/16/2005(H3N2)) segment 1, complete sequence\n",
      "  0.01\t1\t0\tS3\t578299\t                          Influenza A virus (A/Ohio/UR07-0140/2008(H3N2))\n",
      "  0.01\t1\t1\tS4\t3132174\t                            gi|218876146|gb|CY037002|Influenza A virus (A/Ohio/UR07-0140/2008(H3N2)) segment 5, complete sequence\n",
      "  0.01\t1\t0\tS3\t1731063\t                          Influenza A virus (A/Connecticut/19/2014(H3N2))\n",
      "  0.01\t1\t1\tS4\t3186087\t                            gi|937146310|gb|KT837356|Influenza A virus (A/Connecticut/19/2014(H3N2)) segment 3 polymerase PA (PA) and PA-X protein (PA-X) genes, complete cds\n",
      "  0.01\t1\t0\tS3\t1416321\t                          Influenza A virus (A/West Virginia/20/2012(H3N2))\n",
      "  0.01\t1\t1\tS4\t3232808\t                            gi|1102595313|gb|KY116972|Influenza A virus (A/West Virginia/20/2012(H3N2)) segment 1 polymerase PB2 (PB2) gene, complete cds\n",
      "  0.01\t1\t0\tS3\t582390\t                          Influenza A virus (A/Ohio/UR07-0105/2008(H3N2))\n",
      "  0.01\t1\t1\tS4\t3132482\t                            gi|224022574|gb|CY037580|Influenza A virus (A/Ohio/UR07-0105/2008(H3N2)) segment 3, complete sequence\n",
      "  0.01\t1\t0\tS3\t383122\t                          Influenza A virus (A/Waikato/8/2000(H3N2))\n",
      "  0.01\t1\t1\tS4\t3120084\t                            gi|115344596|gb|CY016209|Influenza A virus (A/Waikato/8/2000(H3N2)) segment 3, complete sequence\n",
      "  0.01\t1\t0\tS3\t1209814\t                          Influenza A virus (A/swine/Nebraska/A01240337/2011(H3N2))\n",
      "  0.01\t1\t1\tS4\t3164522\t                            gi|407361003|gb|JX657739|Influenza A virus (A/swine/Nebraska/A01240337/2011(H3N2)) segment 6 neuraminidase (NA) gene, complete cds\n",
      "  0.01\t1\t0\tS3\t311644\t                          Influenza A virus (A/New York/66/2003(H3N2))\n",
      "  0.01\t1\t1\tS4\t3109757\t                            gi|66354016|gb|CY001345|Influenza A virus (A/New York/66/2003(H3N2)) segment 8, complete sequence\n",
      "  0.01\t1\t0\tS3\t586177\t                          Influenza A virus (A/Hong Kong/HKU39/2004(H3N2))\n",
      "  0.01\t1\t1\tS4\t3133330\t                            gi|225921663|gb|CY038673|Influenza A virus (A/Hong Kong/HKU39/2004(H3N2)) segment 6, complete sequence\n",
      "  0.01\t1\t0\tS3\t1731910\t                          Influenza A virus (A/Washington/18/2015(H3N2))\n",
      "  0.01\t1\t1\tS4\t3184728\t                            gi|937142468|gb|KT835894|Influenza A virus (A/Washington/18/2015(H3N2)) segment 1 polymerase PB2 (PB2) gene, complete cds\n",
      "  0.01\t1\t0\tS3\t383172\t                          Influenza A virus (A/Dunedin/10/2002(H3N2))\n",
      "  0.01\t1\t1\tS4\t3116369\t                            gi|109159743|gb|CY011406|Influenza A virus (A/Dunedin/10/2002(H3N2)) segment 2, complete sequence\n",
      "  0.01\t1\t0\tS3\t1731977\t                          Influenza A virus (A/Wisconsin/53/2014(H3N2))\n",
      "  0.01\t1\t1\tS4\t3187973\t                            gi|937151993|gb|KT839530|Influenza A virus (A/Wisconsin/53/2014(H3N2)) segment 4 hemagglutinin (HA) gene, complete cds\n",
      "  0.01\t1\t0\tS3\t586170\t                          Influenza A virus (A/Hong Kong/HKU32/2004(H3N2))\n",
      "  0.01\t1\t1\tS4\t3133922\t                            gi|227977274|gb|CY039496|Influenza A virus (A/Hong Kong/HKU32/2004(H3N2)) segment 7, complete sequence\n",
      "  0.01\t1\t0\tS3\t1866039\t                          Influenza A virus (A/North Carolina/14/2016(H3N2))\n",
      "  0.01\t1\t1\tS4\t3208722\t                            gi|1039133060|gb|KX415629|Influenza A virus (A/North Carolina/14/2016(H3N2)) segment 1 polymerase PB2 (PB2) gene, complete cds\n",
      "  0.01\t1\t0\tS3\t401372\t                          Influenza A virus (A/swine/Italy/6/1981(H3N2))\n",
      "  0.01\t1\t1\tS4\t3157985\t                            gi|315078848|gb|CY077928|Influenza A virus (A/swine/Italy/6/1981(H3N2)) segment 5 sequence\n",
      "  0.01\t1\t0\tS3\t1223810\t                          Influenza A virus (A/swine/Guangdong/L23/2010(H3N2))\n",
      "  0.01\t1\t1\tS4\t3163301\t                            gi|402810468|gb|JX494717|Influenza A virus (A/swine/Guangdong/L23/2010(H3N2)) segment 5 nucleocapsid protein (NP) gene, complete cds\n",
      "  0.01\t1\t0\tS3\t1731971\t                          Influenza A virus (A/Wisconsin/44/2014(H3N2))\n",
      "  0.01\t1\t1\tS4\t3186596\t                            gi|937147793|gb|KT837920|Influenza A virus (A/Wisconsin/44/2014(H3N2)) segment 3 polymerase PA (PA) and PA-X protein (PA-X) genes, complete cds\n",
      "  0.01\t1\t0\tS3\t1731119\t                          Influenza A virus (A/Florida/38/2014(H3N2))\n",
      "  0.01\t1\t1\tS4\t3186498\t                            gi|937147488|gb|KT837805|Influenza A virus (A/Florida/38/2014(H3N2)) segment 3 polymerase PA (PA) and PA-X protein (PA-X) genes, complete cds\n",
      "  0.01\t1\t0\tS3\t353419\t                          Influenza A virus (A/Canterbury/58/2002(H3N2))\n",
      "  0.01\t1\t1\tS4\t3113344\t                            gi|84872778|gb|CY007930|Influenza A virus (A/Canterbury/58/2002(H3N2)) segment 1, complete sequence\n",
      "  0.01\t1\t0\tS3\t1194230\t                          Influenza A virus (A/swine/Illinois/A00857318a/2012(H3N2))\n",
      "  0.01\t1\t1\tS4\t3162245\t                            gi|391886358|gb|JX099411|Influenza A virus (A/swine/Illinois/A00857318a/2012(H3N2)) segment 2 polymerase PB1 (PB1) and PB1-F2 protein (PB1-F2) genes, complete cds\n",
      "  0.01\t1\t0\tS3\t555298\t                          Influenza A virus (A/swine/Minnesota/7931/2007(H3N2))\n",
      "  0.01\t1\t1\tS4\t3131979\t                            gi|217384829|gb|FJ519967|Influenza A virus (A/swine/Minnesota/7931/2007(H3N2)) segment 6 neuraminidase (NA) gene, complete cds\n",
      "  0.01\t1\t0\tS3\t1731581\t                          Influenza A virus (A/New Mexico/29/2014(H3N2))\n",
      "  0.01\t1\t1\tS4\t3187718\t                            gi|937151274|gb|KT839256|Influenza A virus (A/New Mexico/29/2014(H3N2)) segment 1 polymerase PB2 (PB2) gene, complete cds\n",
      "  0.01\t1\t0\tS3\t400326\t                          Influenza A virus (A/New South Wales/4/1999(H3N2))\n",
      "  0.01\t1\t1\tS4\t3120507\t                            gi|115607657|gb|CY016630|Influenza A virus (A/New South Wales/4/1999(H3N2)) segment 5, complete sequence\n",
      "  0.01\t1\t0\tS3\t400327\t                          Influenza A virus (A/New South Wales/5/1999(H3N2))\n",
      "  0.01\t1\t1\tS4\t3120336\t                            gi|115521616|gb|CY016515|Influenza A virus (A/New South Wales/5/1999(H3N2)) segment 4, complete sequence\n",
      "  0.01\t1\t0\tS3\t1517375\t                          Influenza A virus (A/Singapore/S2010.304b/2010(H3N2))\n",
      "  0.01\t1\t1\tS4\t3175825\t                            gi|666880115|gb|KM070165|Influenza A virus (A/Singapore/S2010.304b/2010(H3N2)) segment 3 polymerase PA (PA) and PA-X protein (PA-X) genes, complete cds\n",
      "  0.01\t1\t0\tS3\t1910122\t                          Influenza A virus (A/Oregon/16/2016(H3N2))\n",
      "  0.01\t1\t1\tS4\t3226065\t                            gi|1073675408|gb|KX918139|Influenza A virus (A/Oregon/16/2016(H3N2)) segment 3 polymerase PA (PA) and PA-X protein (PA-X) genes, complete cds\n",
      "  0.01\t1\t0\tS3\t1917582\t                          Influenza A virus (A/Iowa/27/2016(H3N2))\n",
      "  0.01\t1\t1\tS4\t3232142\t                            gi|1102593254|gb|KY116135|Influenza A virus (A/Iowa/27/2016(H3N2)) segment 5 nucleocapsid protein (NP) gene, complete cds\n",
      "  0.01\t1\t0\tS3\t411205\t                          Influenza A virus (A/Queensland/51/2005(H3N2))\n",
      "  0.01\t1\t1\tS4\t3121722\t                            gi|119365821|gb|CY017988|Influenza A virus (A/Queensland/51/2005(H3N2)) segment 1, complete sequence\n",
      "  0.01\t1\t0\tS3\t1731822\t                          Influenza A virus (A/Texas/43/2015(H3N2))\n",
      "  0.01\t1\t1\tS4\t3191283\t                            gi|937162846|gb|KT842882|Influenza A virus (A/Texas/43/2015(H3N2)) segment 3 polymerase PA (PA) and PA-X protein (PA-X) genes, complete cds\n",
      "  0.01\t1\t0\tS3\t355477\t                          Influenza A virus (A/New York/508/1997(H3N2))\n",
      "  0.01\t1\t1\tS4\t3112041\t                            gi|82491965|gb|CY006243|Influenza A virus (A/New York/508/1997(H3N2)) segment 4, complete sequence\n",
      "  0.01\t1\t0\tS3\t1517254\t                          Influenza A virus (A/Singapore/C2009.693/2009(H3N2))\n",
      "  0.01\t1\t1\tS4\t3175927\t                            gi|666880445|gb|KM070275|Influenza A virus (A/Singapore/C2009.693/2009(H3N2)) segment 2 polymerase PB1 (PB1) and PB1-F2 protein (PB1-F2) genes, complete cds\n",
      "  0.01\t1\t0\tS3\t627198\t                          Influenza A virus (A/swine/Guangdong/01/1998(H3N2))\n",
      "  0.01\t1\t1\tS4\t3132886\t                            gi|225422935|gb|FJ830859|Influenza A virus (A/swine/Guangdong/01/1998(H3N2)) segment 8 nuclear export protein (NEP) and nonstructural protein 1 (NS1) genes, complete cds\n",
      "  0.01\t1\t0\tS3\t1150741\t                          Influenza A virus (A/swine/Iowa/A01202088/2011(H3N2))\n",
      "  0.01\t1\t1\tS4\t3161513\t                            gi|380040149|gb|JQ689146|Influenza A virus (A/swine/Iowa/A01202088/2011(H3N2)) segment 2 polymerase PB1 (PB1) and PB1-F2 (PB1-F2) genes, complete cds\n",
      "  0.01\t1\t0\tS3\t1731530\t                          Influenza A virus (A/Nevada/36/2015(H3N2))\n",
      "  0.01\t1\t1\tS4\t3191816\t                            gi|937164815|gb|KT843423|Influenza A virus (A/Nevada/36/2015(H3N2)) segment 4 hemagglutinin (HA) gene, complete cds\n",
      "  0.01\t1\t0\tS3\t1865758\t                          Influenza A virus (A/California/69/2016(H3N2))\n",
      "  0.01\t1\t1\tS4\t3208837\t                            gi|1039133448|gb|KX415784|Influenza A virus (A/California/69/2016(H3N2)) segment 4 hemagglutinin (HA) gene, complete cds\n",
      "  0.01\t1\t0\tS3\t1931264\t                          Influenza A virus (A/swine/Minnesota/A01668936/2016(H3N2))\n",
      "  0.01\t1\t1\tS4\t3234784\t                            gi|1134427506|gb|KY412990|Influenza A virus (A/swine/Minnesota/A01668936/2016(H3N2)) segment 4 hemagglutinin (HA) gene, complete cds\n",
      "  0.01\t1\t0\tS3\t1216918\t                          Influenza A virus (A/Singapore/H2011.808bC/2011(H3N2))\n",
      "  0.01\t1\t1\tS4\t3162924\t                            gi|401715889|gb|JX437706|Influenza A virus (A/Singapore/H2011.808bC/2011(H3N2)) segment 1 polymerase PB2 (PB2) gene, complete cds\n",
      "  0.01\t1\t0\tS3\t411212\t                          Influenza A virus (A/Queensland/60/2005(H3N2))\n",
      "  0.01\t1\t1\tS4\t3123212\t                            gi|125663573|gb|CY019751|Influenza A virus (A/Queensland/60/2005(H3N2)) segment 8, complete sequence\n",
      "  0.01\t1\t0\tS3\t353348\t                          Influenza A virus (A/Canterbury/16/2004(H3N2))\n",
      "  0.01\t1\t1\tS4\t3113039\t                            gi|83752273|gb|CY007361|Influenza A virus (A/Canterbury/16/2004(H3N2)) segment 2, complete sequence\n",
      "  0.01\t1\t0\tS3\t1865742\t                          Influenza A virus (A/California/37/2016(H3N2))\n",
      "  0.01\t1\t1\tS4\t3207922\t                            gi|1039130736|gb|KX414702|Influenza A virus (A/California/37/2016(H3N2)) segment 1 polymerase PB2 (PB2) gene, complete cds\n",
      "  0.01\t1\t0\tS3\t311770\t                          Influenza A virus (A/New York/199/2003(H3N2))\n",
      "  0.01\t1\t1\tS4\t3109645\t                            gi|63053640|gb|CY001259|Influenza A virus (A/New York/199/2003(H3N2)) segment 2, complete sequence\n",
      "  0.01\t1\t0\tS3\t1737191\t                          Influenza A virus (A/Illinois/FDX50085/2012(H3N2))\n",
      "  0.01\t1\t1\tS4\t3196824\t                            gi|946524371|gb|KT888805|Influenza A virus (A/Illinois/FDX50085/2012(H3N2)) segment 6 neuraminidase (NA) gene, complete cds\n",
      "  0.01\t1\t0\tS3\t1731268\t                          Influenza A virus (A/Iowa/09/2015(H3N2))\n",
      "  0.01\t1\t1\tS4\t3190752\t                            gi|937160956|gb|KT842351|Influenza A virus (A/Iowa/09/2015(H3N2)) segment 3 polymerase PA (PA) and PA-X protein (PA-X) genes, complete cds\n",
      "  0.01\t1\t0\tS3\t382999\t                          Influenza A virus (A/New York/658/1995(H3N2))\n",
      "  0.01\t1\t1\tS4\t3116459\t                            gi|109675615|gb|CY011499|Influenza A virus (A/New York/658/1995(H3N2)) segment 5, complete sequence\n",
      "  0.01\t1\t0\tS3\t353363\t                          Influenza A virus (A/Canterbury/107/2004(H3N2))\n",
      "  0.01\t1\t1\tS4\t3112746\t                            gi|83744853|gb|CY007475|Influenza A virus (A/Canterbury/107/2004(H3N2)) segment 4, complete sequence\n",
      "  0.01\t1\t0\tS3\t1331539\t                          Influenza A virus (A/Singapore/C2011.512/2011(H3N2))\n",
      "  0.01\t1\t1\tS4\t3167270\t                            gi|510789305|gb|KF014542|Influenza A virus (A/Singapore/C2011.512/2011(H3N2)) segment 5 nucleocapsid protein (NP) gene, complete cds\n",
      "  0.01\t1\t0\tS3\t627365\t                          Influenza A virus (A/California/UR07-0017/2008(H3N2))\n",
      "  0.01\t1\t1\tS4\t3133372\t                            gi|226954536|gb|CY038791|Influenza A virus (A/California/UR07-0017/2008(H3N2)) segment 4, complete sequence\n",
      "  0.01\t1\t0\tS3\t383012\t                          Influenza A virus (A/New York/671/1995(H3N2))\n",
      "  0.01\t1\t1\tS4\t3116503\t                            gi|109675720|gb|CY011543|Influenza A virus (A/New York/671/1995(H3N2)) segment 1, complete sequence\n",
      "  0.01\t1\t0\tS3\t537947\t                          Influenza A virus (A/Siena/3/1995(H3N2))\n",
      "  0.01\t1\t1\tS4\t3133083\t                            gi|225907675|gb|CY038506|Influenza A virus (A/Siena/3/1995(H3N2)) segment 5, complete sequence\n",
      "  0.01\t1\t0\tS3\t1674973\t                          Influenza A virus (A/duck/Guangxi/057D6/2010(H3N2))\n",
      "  0.01\t1\t1\tS4\t3182237\t                            gi|851882221|gb|KT022254|Influenza A virus (A/duck/Guangxi/057D6/2010(H3N2)) segment 6 neuraminidase (NA) gene, complete cds\n",
      "  0.01\t1\t0\tS3\t1731298\t                          Influenza A virus (A/Iowa/34/2015(H3N2))\n",
      "  0.01\t1\t1\tS4\t3191986\t                            gi|937165489|gb|KT843593|Influenza A virus (A/Iowa/34/2015(H3N2)) segment 5 nucleocapsid protein (NP) gene, complete cds\n",
      "  0.01\t1\t0\tS3\t1737157\t                          Influenza A virus (A/Bangkok/FLU_PMKA1169/2011(H3N2))\n",
      "  0.01\t1\t1\tS4\t3197039\t                            gi|946524934|gb|KT889026|Influenza A virus (A/Bangkok/FLU_PMKA1169/2011(H3N2)) segment 1 polymerase PB2 (PB2) gene, complete cds\n",
      "  0.01\t1\t0\tS3\t1866057\t                          Influenza A virus (A/Pennsylvania/08/2016(H3N2))\n",
      "  0.01\t1\t1\tS4\t3207378\t                            gi|1039129116|gb|KX414054|Influenza A virus (A/Pennsylvania/08/2016(H3N2)) segment 1 polymerase PB2 (PB2) gene, complete cds\n",
      "  0.01\t1\t0\tS3\t1910177\t                          Influenza A virus (A/South Dakota/23/2016(H3N2))\n",
      "  0.01\t1\t1\tS4\t3225520\t                            gi|1073673437|gb|KX917514|Influenza A virus (A/South Dakota/23/2016(H3N2)) segment 2 polymerase PB1 (PB1) and PB1-F2 protein (PB1-F2) genes, complete cds\n",
      "  0.01\t1\t0\tS3\t1517258\t                          Influenza A virus (A/Singapore/C2009.934/2009(H3N2))\n",
      "  0.01\t1\t1\tS4\t3176040\t                            gi|666880796|gb|KM070398|Influenza A virus (A/Singapore/C2009.934/2009(H3N2)) segment 1 polymerase PB2 (PB2) gene, complete cds\n",
      "  0.01\t1\t0\tS3\t355472\t                          Influenza A virus (A/New York/501/1997(H3N2))\n",
      "  0.01\t1\t1\tS4\t3112135\t                            gi|82502250|gb|CY006449|Influenza A virus (A/New York/501/1997(H3N2)) segment 2, complete sequence\n",
      "  0.01\t1\t0\tS3\t353377\t                          Influenza A virus (A/Canterbury/304/2004(H3N2))\n",
      "  0.01\t1\t1\tS4\t3112806\t                            gi|83744995|gb|CY007559|Influenza A virus (A/Canterbury/304/2004(H3N2)) segment 8, complete sequence\n",
      "  0.01\t1\t0\tS3\t1871500\t                          Influenza A virus (A/swine/Iowa/A01776537/2016(H3N2))\n",
      "  0.01\t1\t1\tS4\t3234664\t                            gi|1132627937|gb|KY401869|Influenza A virus (A/swine/Iowa/A01776537/2016(H3N2)) segment 2 polymerase PB1 (PB1) and PB1-F2 protein (PB1-F2) genes, complete cds\n",
      "  0.01\t1\t0\tS3\t1737161\t                          Influenza A virus (A/Bangkok/FLU_PMKA1475/2011(H3N2))\n",
      "  0.01\t1\t1\tS4\t3196365\t                            gi|946523192|gb|KT888336|Influenza A virus (A/Bangkok/FLU_PMKA1475/2011(H3N2)) segment 5 nucleocapsid protein (NP) gene, complete cds\n",
      "  0.01\t1\t0\tS3\t411206\t                          Influenza A virus (A/Queensland/52/2005(H3N2))\n",
      "  0.01\t1\t1\tS4\t3121727\t                            gi|119365832|gb|CY017993|Influenza A virus (A/Queensland/52/2005(H3N2)) segment 8, complete sequence\n",
      "  0.01\t1\t0\tS3\t2015202\t                          Influenza A virus (A/swine/Minnesota/A02216466/2017(H3N2))\n",
      "  0.01\t1\t1\tS4\t3241206\t                            gi|1212090598|gb|MF375245|Influenza A virus (A/swine/Minnesota/A02216466/2017(H3N2)) segment 4 hemagglutinin (HA) gene, complete cds\n",
      "  0.01\t1\t0\tS3\t1731505\t                          Influenza A virus (A/Nevada/04/2015(H3N2))\n",
      "  0.01\t1\t1\tS4\t3190165\t                            gi|937158826|gb|KT841764|Influenza A virus (A/Nevada/04/2015(H3N2)) segment 3 polymerase PA (PA) and PA-X protein (PA-X) genes, complete cds\n",
      "  0.01\t1\t0\tS3\t1729407\t                          Influenza A virus (A/swine/Kentucky/14TOSU23948/2014(H3N2))\n",
      "  0.01\t1\t1\tS4\t3195805\t                            gi|939121888|gb|KT828002|Influenza A virus (A/swine/Kentucky/14TOSU23948/2014(H3N2)) segment 4 hemagglutinin (HA) gene, complete cds\n",
      "  0.01\t1\t0\tS3\t627375\t                          Influenza A virus (A/Taiwan/1452/2007(H3N2))\n",
      "  0.01\t1\t1\tS4\t3134523\t                            gi|237689009|gb|CY040135|Influenza A virus (A/Taiwan/1452/2007(H3N2)) segment 3, complete sequence\n",
      "  0.01\t1\t0\tS3\t1865983\t                          Influenza A virus (A/Nevada/01/2016(H3N2))\n",
      "  0.01\t1\t1\tS4\t3206226\t                            gi|1039125772|gb|KX412726|Influenza A virus (A/Nevada/01/2016(H3N2)) segment 4 hemagglutinin (HA) gene, complete cds\n",
      "  0.01\t1\t0\tS3\t319868\t                          Influenza A virus (A/New York/252/1999(H3N2))\n",
      "  0.01\t1\t1\tS4\t3110843\t                            gi|73761496|gb|CY002552|Influenza A virus (A/New York/252/1999(H3N2)) segment 4, complete sequence\n",
      "  0.01\t1\t0\tS3\t416752\t                          Influenza A virus (A/New York/923/2006(H3N2))\n",
      "  0.01\t1\t1\tS4\t3123274\t                            gi|125664040|gb|CY019830|Influenza A virus (A/New York/923/2006(H3N2)) segment 5, complete sequence\n",
      "  0.45\t63\t19\tS2\t114727\t                        H1N1 subtype\n",
      "  0.02\t3\t0\tS3\t342553\t                          Influenza A virus (A/New York/497/2003(H1N1))\n",
      "  0.02\t3\t3\tS4\t3112024\t                            gi|80974116|gb|CY006202|Influenza A virus (A/New York/497/2003(H1N1)) segment 1, complete sequence\n",
      "  0.01\t2\t0\tS3\t537923\t                          Influenza A virus (A/Siena/9/1989(H1N1))\n",
      "  0.01\t2\t2\tS4\t3132182\t                            gi|218877503|gb|CY036946|Influenza A virus (A/Siena/9/1989(H1N1)) segment 5, complete sequence\n",
      "  0.01\t2\t0\tS3\t1348894\t                          Influenza A virus (A/India/P132194/2013(H1N1))\n",
      "  0.01\t2\t2\tS4\t3167877\t                            gi|523793951|gb|KF280755|Influenza A virus (A/India/P132194/2013(H1N1)) segment 8 nuclear export protein (NEP) and nonstructural protein 1 (NS1) genes, complete cds\n",
      "  0.01\t2\t0\tS3\t627353\t                          Influenza A virus (A/Taiwan/52/2002(H1N1))\n",
      "  0.01\t2\t2\tS4\t3134538\t                            gi|237689044|gb|CY040150|Influenza A virus (A/Taiwan/52/2002(H1N1)) segment 8, complete sequence\n",
      "  0.01\t2\t0\tS3\t1305183\t                          Influenza A virus (A/Indiana/03/2010(H1N1))\n",
      "  0.01\t2\t2\tS4\t3165737\t                            gi|474457070|gb|KC780696|Influenza A virus (A/Indiana/03/2010(H1N1)) segment 1 polymerase PB2 (PB2) gene, complete cds\n",
      "  0.01\t1\t0\tS3\t1729399\t                          Influenza A virus (A/swine/Iowa/14TOSU10638/2014(H1N1))\n",
      "  0.01\t1\t1\tS4\t3195761\t                            gi|939121588|gb|KT827944|Influenza A virus (A/swine/Iowa/14TOSU10638/2014(H1N1)) segment 2 polymerase PB1 (PB1) gene, complete cds; and nonfunctional PB1-F2 protein (PB1-F2) pseudogene, complete sequence\n",
      "  0.01\t1\t0\tS3\t1050954\t                          Influenza A virus (A/Taiwan/67/2011(H1N1))\n",
      "  0.01\t1\t1\tS4\t3159062\t                            gi|339517017|gb|JN187175|Influenza A virus (A/Taiwan/67/2011(H1N1)) segment 1 polymerase PB2 (PB2) gene, complete cds\n",
      "  0.01\t1\t0\tS3\t1654287\t                          Influenza A virus (A/swine/Poland/16315/2011(H1N1))\n",
      "  0.01\t1\t1\tS4\t3181648\t                            gi|827498261|gb|KR700587|Influenza A virus (A/swine/Poland/16315/2011(H1N1)) segment 7 matrix protein 2 (M2) and matrix protein 1 (M1) genes, complete cds\n",
      "  0.01\t1\t0\tS3\t363149\t                          Influenza A virus (A/Canterbury/68/2001(H1N1))\n",
      "  0.01\t1\t1\tS4\t3115538\t                            gi|91119119|gb|CY010443|Influenza A virus (A/Canterbury/68/2001(H1N1)) segment 1, complete sequence\n",
      "  0.01\t1\t0\tS3\t363122\t                          Influenza A virus (A/Canterbury/22/2001(H1N1))\n",
      "  0.01\t1\t1\tS4\t3115875\t                            gi|94959568|gb|CY010779|Influenza A virus (A/Canterbury/22/2001(H1N1)) segment 1, complete sequence\n",
      "  0.01\t1\t0\tS3\t693580\t                          Influenza A virus (A/Tomsk/02/2009(H1N1))\n",
      "  0.01\t1\t1\tS4\t3142396\t                            gi|269122794|gb|GU211249|Influenza A virus (A/Tomsk/02/2009(H1N1)) segment 2 polymerase PB1 (PB1) gene, complete cds; and nonfunctional PB1-F2 protein (PB1-F2) gene, complete sequence\n",
      "  0.01\t1\t0\tS3\t2035365\t                          Influenza A virus (A/swine/Guangxi/BB2/2013(H1N1))\n",
      "  0.01\t1\t1\tS4\t3242723\t                            gi|1248279011|gb|MF927789|Influenza A virus (A/swine/Guangxi/BB2/2013(H1N1)) segment 1 polymerase PB2 (PB2) gene, complete cds\n",
      "  0.01\t1\t0\tS3\t1537646\t                          Influenza A virus (A/Helsinki/741M/2014(H1N1))\n",
      "  0.01\t1\t1\tS4\t3177109\t                            gi|686467223|gb|KM366692|Influenza A virus (A/Helsinki/741M/2014(H1N1)) segment 3 polymerase PA (PA) and PA-X protein (PA-X) genes, complete cds\n",
      "  0.01\t1\t0\tS3\t1396475\t                          Influenza A virus (A/Santa Cruz/995/2010(H1N1))\n",
      "  0.01\t1\t1\tS4\t3169418\t                            gi|546236516|gb|KF612060|Influenza A virus (A/Santa Cruz/995/2010(H1N1)) segment 2 polymerase PB1 (PB1) gene, complete cds; and nonfunctional PB1-F2 protein (PB1-F2) gene, complete sequence\n",
      "  0.01\t1\t0\tS3\t1096796\t                          Influenza A virus (A/swine/Mississippi/A01202059/2011(H1N1))\n",
      "  0.01\t1\t1\tS4\t3180832\t                            gi|807071111|gb|KR074289|Influenza A virus (A/swine/Mississippi/A01202059/2011(H1N1)) segment 2 polymerase PB1 (PB1) and PB1-F2 protein (PB1-F2) genes, complete cds\n",
      "  0.01\t1\t0\tS3\t1937357\t                          Influenza A virus (A/Linkou/0084/2016(H1N1))\n",
      "  0.01\t1\t1\tS4\t3235089\t                            gi|1145599940|gb|KY487285|Influenza A virus (A/Linkou/0084/2016(H1N1)) segment 1 polymerase PB2 (PB2) gene, complete cds\n",
      "  0.01\t1\t0\tS3\t723757\t                          Influenza A virus (A/Wisconsin/629-D00533/2009(H1N1))\n",
      "  0.01\t1\t1\tS4\t3147199\t                            gi|291361048|gb|CY057892|Influenza A virus (A/Wisconsin/629-D00533/2009(H1N1)) segment 2, complete sequence\n",
      "  0.01\t1\t0\tS3\t624787\t                          Influenza A virus (A/swine/England/WVL16/1998(H1N1))\n",
      "  0.01\t1\t1\tS4\t3132992\t                            gi|225733700|gb|CY037949|Influenza A virus (A/swine/England/WVL16/1998(H1N1)) segment 1 sequence\n",
      "  0.01\t1\t0\tS3\t191090\t                          Influenza A virus (A/Weiss/1943(H1N1))\n",
      "  0.01\t1\t1\tS4\t3114923\t                            gi|89903057|gb|CY009453|Influenza A virus (A/Weiss/43(H1N1)) segment 7, complete sequence\n",
      "  0.01\t1\t0\tS3\t1592744\t                          Influenza A virus (A/swine/Hunan/153/2013(H1N1))\n",
      "  0.01\t1\t1\tS4\t3179265\t                            gi|754294426|gb|KP404299|Influenza A virus (A/swine/Hunan/153/2013(H1N1)) segment 3 polymerase PA (PA) gene, complete cds\n",
      "  0.01\t1\t0\tS3\t1273143\t                          Influenza A virus (A/swine/France/18-120333/2012(H1N1))\n",
      "  0.01\t1\t1\tS4\t3165156\t                            gi|451329787|gb|KC477396|Influenza A virus (A/swine/France/18-120333/2012(H1N1)) segment 2 polymerase PB1 (PB1) gene, complete cds; and nonfunctional PB1-F2 protein (PB1-F2) gene, complete sequence\n",
      "  0.01\t1\t0\tS3\t1305034\t                          Influenza A virus (A/Alabama/01/2010(H1N1))\n",
      "  0.01\t1\t1\tS4\t3166117\t                            gi|474459889|gb|KC781897|Influenza A virus (A/Alabama/01/2010(H1N1)) segment 2 polymerase PB1 (PB1) gene, complete cds; and nonfunctional PB1-F2 protein (PB1-F2) gene, complete sequence\n",
      "  0.01\t1\t0\tS3\t889357\t                          Influenza A virus (A/Taiwan/11526/2008(H1N1))\n",
      "  0.01\t1\t1\tS4\t3156971\t                            gi|307751852|gb|HQ292008|Influenza A virus (A/Taiwan/11526/2008(H1N1)) segment 7 matrix protein 2 (M2) and matrix protein 1 (M1) genes, complete cds\n",
      "  0.01\t1\t0\tS3\t1774807\t                          Influenza A virus (A/swine/Italy/282866/2013(H1N1))\n",
      "  0.01\t1\t1\tS4\t3198341\t                            gi|973429241|gb|KU322686|Influenza A virus (A/swine/Italy/282866/2013(H1N1)) segment 3 polymerase PA (PA) and PA-X protein (PA-X) genes, complete cds\n",
      "  0.01\t1\t0\tS3\t2010841\t                          Influenza A virus (A/swine/Ohio/A02215367/2017(H1N1))\n",
      "  0.01\t1\t1\tS4\t3243274\t                            gi|1272608839|gb|MG193870|Influenza A virus (A/swine/Ohio/A02215367/2017(H1N1)) segment 2 polymerase PB1 (PB1) and putative PB1-F2 protein (PB1-F2) genes, complete cds\n",
      "  0.01\t1\t0\tS3\t1910090\t                          Influenza A virus (A/New York/73/2016(H1N1))\n",
      "  0.01\t1\t1\tS4\t3223816\t                            gi|1073666684|gb|KX915482|Influenza A virus (A/New York/73/2016(H1N1)) segment 2 polymerase PB1 (PB1) gene, complete cds; and PB1-F2 gene, complete sequence\n",
      "  0.01\t1\t0\tS3\t889371\t                          Influenza A virus (A/Taiwan/6723/2008(H1N1))\n",
      "  0.01\t1\t1\tS4\t3157006\t                            gi|307751934|gb|HQ292043|Influenza A virus (A/Taiwan/6723/2008(H1N1)) segment 3 polymerase PA (PA) gene, complete cds\n",
      "  0.01\t1\t0\tS3\t1774787\t                          Influenza A virus (A/swine/Italy/122595/2012(H1N1))\n",
      "  0.01\t1\t1\tS4\t3198284\t                            gi|973428906|gb|KU322552|Influenza A virus (A/swine/Italy/122595/2012(H1N1)) segment 8 nuclear export protein (NEP) and nonstructural protein 1 (NS1) genes, complete cds\n",
      "  0.01\t1\t0\tS3\t1605261\t                          Influenza A virus (A/Egypt/42/2014(H1N1))\n",
      "  0.01\t1\t1\tS4\t3180442\t                            gi|756762853|gb|KP702179|Influenza A virus (A/Egypt/42/2014(H1N1)) segment 2 polymerase PB1 (PB1) gene, complete cds; and nonfunctional PB1-F2 protein (PB1-F2) gene, complete sequence\n",
      "  0.01\t1\t0\tS3\t936095\t                          Influenza A virus (A/Netherlands/001H1/1954(H1N1))\n",
      "  0.01\t1\t1\tS4\t3157937\t                            gi|315076653|gb|CY077726|Influenza A virus (A/Netherlands/001H1/1954(H1N1)) segment 5 sequence\n",
      "  0.01\t1\t0\tS3\t934291\t                          Influenza A virus (A/swine/Jangsu/49/2010(H1N1))\n",
      "  0.01\t1\t1\tS4\t3157880\t                            gi|314913869|gb|HQ695958|Influenza A virus (A/swine/Jangsu/49/2010(H1N1)) segment 2 polymerase PB1 (PB1) gene, complete cds; and nonfunctional PB1-F2 protein (PB1-F2) gene, complete sequence\n",
      "  0.01\t1\t0\tS3\t1774765\t                          Influenza A virus (A/Milano/70/2011(H1N1))\n",
      "  0.01\t1\t1\tS4\t3197766\t                            gi|973427375|gb|KU321936|Influenza A virus (A/Milano/70/2011(H1N1)) segment 2 polymerase PB1 (PB1) gene, complete cds; and nonfunctional PB1-F2 protein (PB1-F2) gene, complete sequence\n",
      "  0.01\t1\t0\tS3\t934288\t                          Influenza A virus (A/swine/Jangsu/434/2010(H1N1))\n",
      "  0.01\t1\t1\tS4\t3157891\t                            gi|314913891|gb|HQ695982|Influenza A virus (A/swine/Jangsu/434/2010(H1N1)) segment 1 polymerase PB2 (PB2) gene, complete cds\n",
      "  0.01\t1\t0\tS3\t1602857\t                          Influenza A virus (A/Thailand/SS07035/2007(H1N1))\n",
      "  0.01\t1\t1\tS4\t3179878\t                            gi|755193092|gb|KP637759|Influenza A virus (A/Thailand/SS07035/2007(H1N1)) segment 5 nucleocapsid protein (NP) gene, complete cds\n",
      "  0.01\t1\t0\tS3\t664598\t                          Influenza A virus (A/Tottori/08T010/2008(H1N1))\n",
      "  0.01\t1\t1\tS4\t3144912\t                            gi|288541943|gb|CY043556|Influenza A virus (A/Tottori/08T010/2008(H1N1)) segment 7 sequence\n",
      "  0.01\t1\t0\tS3\t1865193\t                          Influenza A virus (A/Louisiana/05/2016(H1N1))\n",
      "  0.01\t1\t1\tS4\t3211838\t                            gi|1039141049|gb|KX407820|Influenza A virus (A/Louisiana/05/2016(H1N1)) segment 5 nucleocapsid protein (NP) gene, complete cds\n",
      "  0.01\t1\t0\tS3\t1892819\t                          Influenza A virus (A/swine/Iowa/A01778178/2016(H1N1))\n",
      "  0.01\t1\t1\tS4\t3235560\t                            gi|1145797611|gb|KY509960|Influenza A virus (A/swine/Iowa/A01778178/2016(H1N1)) segment 2 polymerase PB1 (PB1) and PB1-F2 protein (PB1-F2) genes, complete cds\n",
      "  0.01\t1\t0\tS3\t1521274\t                          Influenza A virus (A/swine/Indiana/13TOSU3988/2013(H1N1))\n",
      "  0.01\t1\t1\tS4\t3176509\t                            gi|670605603|gb|KM185826|Influenza A virus (A/swine/Indiana/13TOSU3988/2013(H1N1)) segment 2 polymerase PB1 (PB1) gene, complete cds; and nonfunctional PB1-F2 protein (PB1-F2) gene, complete sequence\n",
      "  0.36\t50\t6\tS2\t102796\t                        H9N2 subtype\n",
      "  0.20\t28\t28\tS3\t1073232\t                          Influenza A virus (A/chicken/Attock/NARC-14994/2009(H9N2))\n",
      "  0.01\t2\t2\tS3\t1521102\t                          Influenza A virus (A/chicken/Zhejiang/SC324/2013(H9N2))\n",
      "  0.01\t2\t2\tS3\t1347344\t                          Influenza A virus (A/chicken/Egypt/D7099/2013(H9N2))\n",
      "  0.01\t2\t2\tS3\t644036\t                          Influenza A virus (A/chicken/Israel/953/2007(H9N2))\n",
      "  0.01\t2\t2\tS3\t2042870\t                          Influenza A virus (A/quail/Bangladesh/29997/2016(H9N2))\n",
      "  0.01\t2\t2\tS3\t1028671\t                          Influenza A virus (A/Muscovy duck/Fujian/CL/1997(H9N2))\n",
      "  0.01\t1\t1\tS3\t2042869\t                          Influenza A virus (A/quail/Bangladesh/29564/2016(H9N2))\n",
      "  0.01\t1\t1\tS3\t1633731\t                          Influenza A virus (A/chicken/Shandong/196/2011(H9N2))\n",
      "  0.01\t1\t1\tS3\t578079\t                          Influenza A virus (A/ferret/Maryland/P10-UMD/2008(H9N2))\n",
      "  0.01\t1\t1\tS3\t1005646\t                          Influenza A virus (A/chicken/Shandong/H/2009(H9N2))\n",
      "  0.01\t1\t1\tS3\t1822309\t                          Influenza A virus (A/chicken/Egypt/Q10429E/2014(H9N2))\n",
      "  0.01\t1\t1\tS3\t1822328\t                          Influenza A virus (A/quail/Egypt/D10105/2014(H9N2))\n",
      "  0.18\t25\t6\tS2\t102793\t                        H5N1 subtype\n",
      "  0.03\t4\t0\tS3\t1602119\t                          Influenza A virus (A/Vietnam/UT36282/2010(H5N1))\n",
      "  0.03\t4\t4\tS4\t3180416\t                            gi|755221296|gb|KP638557|Influenza A virus (A/Vietnam/UT36282/2010(H5N1)) segment 2 polymerase PB1 (PB1) gene, complete cds\n",
      "  0.01\t2\t0\tS3\t710198\t                          Influenza A virus (A/great black-headed gull/Qinghai/8/2009(H5N1))\n",
      "  0.01\t2\t2\tS4\t3144703\t                            gi|285028315|gb|GU477538|Influenza A virus (A/great black-headed gull/Qinghai/8/2009(H5N1)) segment 7 matrix protein 2 (M2) and matrix protein 1 (M1) genes, complete cds\n",
      "  0.01\t2\t0\tS3\t762395\t                          Influenza A virus (A/chicken/Shandong/A-5/2006(H5N1))\n",
      "  0.01\t2\t2\tS4\t3150518\t                            gi|295916272|gb|HM172382|Influenza A virus (A/chicken/Shandong/A-5/2006(H5N1)) segment 2 polymerase PB1 (PB1) gene, complete cds\n",
      "  0.01\t2\t0\tS3\t861388\t                          Influenza A virus (A/openbill stork/Thailand/VSMU-4-NSN/2004(H5N1))\n",
      "  0.01\t2\t2\tS4\t3152738\t                            gi|300490429|gb|HM627911|Influenza A virus (A/openbill stork/Thailand/VSMU-4-NSN/2004(H5N1)) segment 2 polymerase PB1 (PB1) and PB1-F2 protein (PB1-F2) genes, complete cds\n",
      "  0.01\t2\t0\tS3\t762379\t                          Influenza A virus (A/bar-headed goose/Tibet/8/2006(H5N1))\n",
      "  0.01\t2\t2\tS4\t3150508\t                            gi|295916252|gb|HM172372|Influenza A virus (A/bar-headed goose/Tibet/8/2006(H5N1)) segment 2 polymerase PB1 (PB1) gene, complete cds\n",
      "  0.01\t1\t0\tS3\t710196\t                          Influenza A virus (A/brown-headed gull/Qinghai/19/2009(H5N1))\n",
      "  0.01\t1\t1\tS4\t3144693\t                            gi|285028295|gb|GU477552|Influenza A virus (A/brown-headed gull/Qinghai/19/2009(H5N1)) segment 3 polymerase PA (PA) gene, complete cds\n",
      "  0.01\t1\t0\tS3\t1214630\t                          Influenza A virus (A/duck/Cao Bang/43/2007(H5N1))\n",
      "  0.01\t1\t1\tS4\t3163214\t                            gi|402695091|gb|JX420202|Influenza A virus (A/duck/Cao Bang/43/2007(H5N1)) segment 8 nuclear export protein (NEP) and nonstructural protein 1 (NS1) genes, complete cds\n",
      "  0.01\t1\t0\tS3\t880934\t                          Influenza A virus (A/duck/Cambodia/D14AL/2006(H5N1))\n",
      "  0.01\t1\t1\tS4\t3155759\t                            gi|306493779|gb|HQ200456|Influenza A virus (A/duck/Cambodia/D14AL/2006(H5N1)) segment 2 polymerase PB1 (PB1) gene, complete cds\n",
      "  0.01\t1\t0\tS3\t762418\t                          Influenza A virus (A/goose/Guangdong/72/2004(H5N1))\n",
      "  0.01\t1\t1\tS4\t3150563\t                            gi|295916366|gb|HM172429|Influenza A virus (A/goose/Guangdong/72/2004(H5N1)) segment 1 polymerase PB2 (PB2) gene, complete cds\n",
      "  0.01\t1\t0\tS3\t404151\t                          Influenza A virus (A/chicken/Hubei/wl/1997(H5N1))\n",
      "  0.01\t1\t1\tS4\t3120184\t                            gi|115382827|gb|DQ997131|Influenza A virus (A/chicken/Hubei/wl/1997(H5N1)) segment 2, complete sequence\n",
      "  0.01\t1\t0\tS3\t402527\t                          Influenza A virus (A/chicken/Scotland/1959(H5N1))\n",
      "  0.01\t1\t1\tS4\t3119447\t                            gi|115279327|gb|CY015087|Influenza A virus (A/chicken/Scotland/1959(H5N1)) segment 2, complete sequence\n",
      "  0.01\t1\t0\tS3\t1639824\t                          Influenza A virus (A/chicken/Egypt/A10351A/2014(H5N1))\n",
      "  0.01\t1\t1\tS4\t3180795\t                            gi|807070253|gb|KR063681|Influenza A virus (A/chicken/Egypt/A10351A/2014(H5N1)) segment 7 matrix protein 2 (M2) and matrix protein 1 (M1) genes, complete cds\n",
      "  0.17\t24\t5\tS2\t114728\t                        H1N2 subtype\n",
      "  0.03\t4\t4\tS3\t319909\t                          Influenza A virus (A/New York/294/2003(H1N2))\n",
      "  0.01\t2\t2\tS3\t1082417\t                          Influenza A virus (A/swine/Indiana/A01049794/2011(H1N2))\n",
      "  0.01\t2\t2\tS3\t1130823\t                          Influenza A virus (A/Eastern India/N-1289/2009(H1N2))\n",
      "  0.01\t1\t1\tS3\t1852524\t                          Influenza A virus (A/swine/Guangdong/1/2012(H1N2))\n",
      "  0.01\t1\t1\tS3\t1981810\t                          Influenza A virus (A/duck/Zhejiang/D1/2013(H1N2))\n",
      "  0.01\t1\t1\tS3\t1774922\t                          Influenza A virus (A/swine/Italy/60011-3/2014(H1N2))\n",
      "  0.01\t1\t1\tS3\t670116\t                          Influenza A virus (A/swine/Oklahoma/032726/2008(H1N2))\n",
      "  0.01\t1\t1\tS3\t568225\t                          Influenza A virus (A/swine/Shanghai/1/2007(H1N2))\n",
      "  0.01\t1\t1\tS3\t1774899\t                          Influenza A virus (A/swine/Italy/203964/2015(H1N2))\n",
      "  0.01\t1\t1\tS3\t1274616\t                          Influenza A virus (A/swine/Minnesota/A01279807/2012(H1N2))\n",
      "  0.01\t1\t1\tS3\t1512232\t                          Influenza A virus (A/swine/Hong Kong/4125/2011(H1N2))\n",
      "  0.01\t1\t1\tS3\t1654233\t                          Influenza A virus (A/swine/Italy/275736/2010(H1N2))\n",
      "  0.01\t1\t1\tS3\t1268059\t                          Influenza A virus (A/swine/France/56-120177/2012(H1N2))\n",
      "  0.01\t1\t1\tS3\t756986\t                          Influenza A virus (A/swine/Hong Kong/1435/2009(H1N2))\n",
      "  0.09\t13\t13\tS2\t3319780\t                        gi|1680942716|gb|MN055398|Influenza A virus (A/Chile/JM-SO359/1996(H3N2)) segment 3 polymerase PA (PA) and PA-X protein (PA-X) genes, complete cds\n",
      "  0.08\t11\t11\tS2\t3319995\t                        gi|1682000128|gb|MN061224|Influenza A virus (A/Yaroslavl/82/2019(H3N2)) segment 1 polymerase PB2 (PB2) gene, complete cds\n",
      "  0.06\t8\t2\tS2\t119220\t                        H5N2 subtype\n",
      "  0.01\t2\t2\tS3\t1647594\t                          Influenza A virus (A/duck/Japan/11UO0008/2011(H5N2))\n",
      "  0.01\t1\t1\tS3\t680622\t                          Influenza A virus (A/yellow-headed Amazon/California/500658/2007(H5N2))\n",
      "  0.01\t1\t1\tS3\t1914350\t                          Influenza A virus (A/chicken/Zhejiang/232/2016(H5N2))\n",
      "  0.01\t1\t1\tS3\t675050\t                          Influenza A virus (A/waterfowl/Colorado/476466-2/2007(H5N2))\n",
      "  0.01\t1\t1\tS3\t1608670\t                          Influenza A virus (A/duck/Eastern China/L0321/2010(H5N2))\n",
      "  0.04\t5\t5\tS2\t3269484\t                        gi|1421679562|gb|MH601945|Influenza A virus (A/Pennsylvania/67/2018(H3N2)) segment 5 nucleocapsid protein (NP) gene, complete cds\n",
      "  0.04\t5\t5\tS2\t3342033\t                        gi|1779812769|gb|MN754956|Influenza A virus (A/Maryland/32/2019(H3N2)) segment 8 nuclear export protein (NEP) and nonstructural protein 1 (NS1) genes, complete cds\n",
      "  0.04\t5\t1\tS2\t215855\t                        H3N6 subtype\n",
      "  0.02\t3\t3\tS3\t1840225\t                          Influenza A virus (A/duck/Hunan/146/2014(H3N6))\n",
      "  0.01\t1\t1\tS3\t795350\t                          Influenza A virus (A/mallard/Oregon/44221-105/2006(H3N6))\n",
      "  0.04\t5\t5\tS2\t3257756\t                        gi|1381321835|gb|MH246315|Influenza A virus (A/Delaware/16/2018(H3N2)) segment 8 nuclear export protein (NEP) and nonstructural protein 1 (NS1) genes, complete cds\n",
      "  0.04\t5\t0\tS2\t119215\t                        H7N3 subtype\n",
      "  0.01\t2\t2\tS3\t947939\t                          Influenza A virus (A/aquatic bird/Korea/w44/2005(H7N3))\n",
      "  0.01\t2\t2\tS3\t691464\t                          Influenza A virus (A/chicken/Canada/314514-1/2005(H7N3))\n",
      "  0.01\t1\t1\tS3\t1769680\t                          Influenza A virus (A/mallard/Oklahoma/A00744383/2009(H7N3))\n",
      "  0.02\t3\t3\tS2\t3244691\t                        gi|1334081860|gb|MG830928|Influenza A virus (A/Colorado/18/2017(H3N2)) segment 1 polymerase PB2 (PB2) gene, complete cds\n",
      "  0.02\t3\t3\tS2\t3274992\t                        gi|1464620929|gb|MH798153|Influenza A virus (A/New York/PV01296/2018(H3N2)) segment 5 nucleocapsid protein (NP) gene, complete cds\n",
      "  0.02\t3\t0\tS2\t157802\t                        H3N1 subtype\n",
      "  0.02\t3\t3\tS3\t1931255\t                          Influenza A virus (A/swine/Iowa/A01668922/2016(H3N1))\n",
      "  0.02\t3\t3\tS2\t3356773\t                        gi|1824631690|gb|MT245743|Influenza A virus (A/Maryland/50/2019(H3N2)) segment 1 polymerase PB2 (PB2) gene, complete cds\n",
      "  0.02\t3\t3\tS2\t3333853\t                        gi|1765906569|gb|MN568956|Influenza A virus (A/Brisbane/8/2018(H3N2)) segment 3 polymerase PA (PA) and PA-X protein (PA-X) genes, complete cds\n",
      "  0.02\t3\t1\tS2\t114729\t                        H2N2 subtype\n",
      "  0.01\t2\t2\tS3\t223935\t                          Influenza A virus (A/Okuda/1957(H2N2))\n",
      "  0.02\t3\t3\tS2\t3342511\t                        gi|1781416840|gb|MN795219|Influenza A virus (A/swine/Minnesota/A02245178/2019(H1N1)) segment 2 polymerase PB1 (PB1) and PB1-F2 protein (PB1-F2) genes, complete cds\n",
      "  0.02\t3\t3\tS2\t3274537\t                        gi|1464291638|gb|MH792452|Influenza A virus (A/Massachusetts/19/2018(H3N2)) segment 5 nucleocapsid protein (NP) gene, complete cds\n",
      "  0.02\t3\t3\tS2\t3250658\t                        gi|1365487219|gb|MH083015|Influenza A virus (A/Virginia/01/2018(H3N2)) segment 6 neuraminidase (NA) gene, complete cds\n",
      "  0.02\t3\t3\tS2\t3337753\t                        gi|1765916337|gb|MN572864|Influenza A virus (A/Tasmania/43/2017(H3N2)) segment 7 matrix protein 2 (M2) and matrix protein 1 (M1) genes, complete cds\n",
      "  0.02\t3\t0\tS2\t304360\t                        H16N3 subtype\n",
      "  0.02\t3\t3\tS3\t2004152\t                          Influenza A virus (A/black-headed gull/Netherlands/28/2011(H16N3))\n",
      "  0.02\t3\t3\tS2\t3362851\t                        gi|1841704439|gb|MT467031|Influenza A virus (A/Hawaii/20/2020(H3N2)) segment 8 nuclear export protein (NEP) and nonstructural protein 1 (NS1) genes, complete cds\n",
      "  0.02\t3\t3\tS2\t3250542\t                        gi|1365486889|gb|MH082899|Influenza A virus (A/Tennessee/67/2017(H3N2)) segment 5 nucleocapsid protein (NP) gene, complete cds\n",
      "  0.02\t3\t3\tS2\t3343346\t                        gi|1783423170|gb|MN819991|Influenza A virus (A/Connecticut/36/2019(H3N2)) segment 8 nuclear export protein (NEP) and nonstructural protein 1 (NS1) genes, complete cds\n",
      "  0.01\t2\t2\tS2\t3334400\t                        gi|1765907936|gb|MN569503|Influenza A virus (A/Newcastle/163/2017(H3N2)) segment 4 hemagglutinin (HA) gene, complete cds\n",
      "  0.01\t2\t2\tS2\t3337991\t                        gi|1765916933|gb|MN573102|Influenza A virus (A/Victoria/2002/2017(H3N2)) segment 1 polymerase PB2 (PB2) gene, complete cds\n",
      "  0.01\t2\t1\tS2\t329376\t                        H5N6 subtype\n",
      "  0.01\t1\t1\tS3\t1809222\t                          Influenza A virus (A/environment/Guangdong/GZ670/2015(H5N6))\n",
      "  0.01\t2\t0\tS2\t333278\t                        H7N9 subtype\n",
      "  0.01\t1\t1\tS3\t2006126\t                          Influenza A virus (A/chicken/Guangdong/30/2017(H7N9))\n",
      "  0.01\t1\t1\tS3\t1597920\t                          Influenza A virus (A/goose/Jiangsu/1027/2013(H7N9))\n",
      "  0.01\t2\t2\tS2\t3330856\t                        gi|1730280400|gb|MN372913|Influenza A virus (A/Minnesota/41/2019(H3N2)) segment 6 neuraminidase (NA) gene, complete cds\n",
      "  0.01\t2\t0\tS2\t352774\t                        H13N9 subtype\n",
      "  0.01\t2\t2\tS3\t1414729\t                          Influenza A virus (A/seagull/Chile/5775/2009(H13N9))\n",
      "  0.01\t2\t2\tS2\t3356509\t                        gi|1824630670|gb|MT245335|Influenza A virus (A/California/14/2020(H3N2)) segment 2 polymerase PB1 (PB1) and PB1-F2 protein (PB1-F2) genes, complete cds\n",
      "  0.01\t2\t2\tS2\t3269498\t                        gi|1421679597|gb|MH601959|Influenza A virus (A/Pennsylvania/69/2018(H3N2)) segment 1 polymerase PB2 (PB2) gene, complete cds\n",
      "  0.01\t2\t2\tS2\t3278399\t                        gi|1514715986|gb|MK168479|Influenza A virus (A/USA/SC6153/2018(H3N2)) segment 2 polymerase PB1 (PB1) and PB1-F2 protein (PB1-F2) genes, complete cds\n",
      "  0.01\t2\t0\tS2\t370290\t                        H2N6 subtype\n",
      "  0.01\t2\t2\tS3\t2048198\t                          Influenza A virus (A/wild bird/Fujian/24/2017(H2N6))\n",
      "  0.01\t2\t2\tS2\t3310111\t                        gi|1626609527|gb|MK857675|Influenza A virus (A/West Virginia/15/2019(H3N2)) segment 6 neuraminidase (NA) gene, complete cds\n",
      "  0.01\t2\t2\tS2\t3297243\t                        gi|1591438051|gb|MK630768|Influenza A virus (A/Alabama/03/2019(H1N1)) segment 2 polymerase PB1 (PB1) gene, complete cds; and nonfunctional PB1-F2 protein (PB1-F2) gene, complete sequence\n",
      "  0.01\t2\t2\tS2\t3338535\t                        gi|1765918294|gb|MN573646|Influenza A virus (A/Victoria/622/2017(H3N2)) segment 1 polymerase PB2 (PB2) gene, complete cds\n",
      "  0.01\t2\t2\tS2\t3299851\t                        gi|1593340662|gb|MK641214|Influenza A virus (A/China/61520/2014(H3N2)) segment 8 nuclear export protein (NEP) and nonstructural protein 1 (NS1) genes, complete cds\n",
      "  0.01\t2\t2\tS2\t3268304\t                        gi|1421643637|gb|MH600735|Influenza A virus (A/Idaho/17/2018(H3N2)) segment 2 polymerase PB1 (PB1) and PB1-F2 protein (PB1-F2) genes, complete cds\n",
      "  0.01\t2\t2\tS2\t3277124\t                        gi|1493602588|gb|MK071190|Influenza A virus (A/New York City/PV00906/2018(H3N2)) segment 5 nucleocapsid protein (NP) gene, complete cds\n",
      "  0.01\t2\t2\tS2\t3300001\t                        gi|1593493795|gb|MK641783|Influenza A virus (A/China/63513/2015(H3N2)) segment 4 hemagglutinin (HA) gene, complete cds\n",
      "  0.01\t2\t2\tS2\t3306422\t                        gi|1609539833|gb|MK772979|Influenza A virus (A/California/47/2019(H1N1)) segment 2 polymerase PB1 (PB1) gene, complete cds; and nonfunctional PB1-F2 protein (PB1-F2) gene, complete sequence\n",
      "  0.01\t2\t2\tS2\t3357932\t                        gi|1829058745|gb|MT306548|Influenza A virus (A/New York/21/2020(H3N2)) segment 3 polymerase PA (PA) and PA-X protein (PA-X) genes, complete cds\n",
      "  0.01\t2\t2\tS2\t3357941\t                        gi|1829058828|gb|MT306581|Influenza A virus (A/Pennsylvania/09/2020(H3N2)) segment 4 hemagglutinin (HA) gene, complete cds\n",
      "  0.01\t2\t2\tS2\t3291420\t                        gi|1568906202|gb|MK495337|Influenza A virus (A/Tomsk/243/2018(H3N2)) segment 8 nuclear export protein (NEP) and nonstructural protein 1 (NS1) genes, complete cds\n",
      "  0.01\t2\t2\tS2\t3343436\t                        gi|1783423395|gb|MN820081|Influenza A virus (A/Illinois/31/2019(H3N2)) segment 2 polymerase PB1 (PB1) and PB1-F2 protein (PB1-F2) genes, complete cds\n",
      "  0.01\t2\t2\tS2\t3329081\t                        gi|1714235877|gb|MN245900|Influenza A virus (A/Arizona/9815/2019(H3N2)) segment 3 polymerase PA (PA) and PA-X protein (PA-X) genes, complete cds\n",
      "  0.01\t2\t2\tS2\t3280884\t                        gi|1547148658|gb|MK361625|Influenza A virus (A/swine/Appel/3339/2004(H3N2)) segment 3 polymerase PA (PA) and PA-X protein (PA-X) genes, complete cds\n",
      "  0.01\t2\t2\tS2\t3246953\t                        gi|1349312444|gb|MG984300|Influenza A virus (A/Shanghai/3/2016(H3N2)) segment 7 matrix protein 2 (M2) and matrix protein 1 (M1) genes, complete cds\n",
      "  0.01\t2\t2\tS2\t3285541\t                        gi|1547184707|gb|MK367174|Influenza A virus (A/swine/Feldbach/20834/2014(H1N1)) segment 3 polymerase PA (PA) and PA-X protein (PA-X) genes, complete cds\n",
      "  0.01\t2\t2\tS2\t3274810\t                        gi|1464620479|gb|MH797971|Influenza A virus (A/New York/PV00528/2018(H3N2)) segment 3 polymerase PA (PA) and PA-X protein (PA-X) genes, complete cds\n",
      "  0.01\t2\t2\tS2\t3305124\t                        gi|1607175501|gb|MK745967|Influenza A virus (A/Wisconsin/06/2019(H3N2)) segment 3 polymerase PA (PA) and PA-X protein (PA-X) genes, complete cds\n",
      "  0.01\t2\t0\tS2\t119212\t                        H6N1 subtype\n",
      "  0.01\t1\t1\tS3\t383320\t                          Influenza A virus (A/snow goose/Maryland/364/2005(H6N1))\n",
      "  0.01\t1\t1\tS3\t1451085\t                          Influenza A virus (A/chicken/Taiwan/2084/2012(H6N1))\n",
      "  0.01\t2\t0\tS2\t119218\t                        H7N7 subtype\n",
      "  0.01\t2\t2\tS3\t2023318\t                          Influenza A virus (A/mallard duck/Netherlands/3/2009(H7N7))\n",
      "  0.01\t2\t2\tS2\t3341119\t                        gi|1772364267|gb|MN638515|Influenza A virus (A/Florida/94/2019(H3N2)) segment 4 hemagglutinin (HA) gene, complete cds\n",
      "  0.01\t2\t2\tS2\t3319127\t                        gi|1680940797|gb|MN054216|Influenza A virus (A/Chile/JM-R7051/2004(H3N2)) segment 4 hemagglutinin (HA) gene, complete cds\n",
      "  0.01\t2\t2\tS2\t3319138\t                        gi|1680940825|gb|MN054235|Influenza A virus (A/San Pablo/PUC-MVL_COL127/2018(H3N2)) segment 8 nuclear export protein (NEP) and nonstructural protein 1 (NS1) genes, complete cds\n",
      "  0.01\t2\t2\tS2\t3317632\t                        gi|1675300226|gb|MN002289|Influenza A virus (A/Oregon/12/2019(H3N2)) segment 8 nuclear export protein (NEP) and nonstructural protein 1 (NS1) genes, complete cds\n",
      "  0.01\t2\t0\tS2\t119221\t                        H5N3 subtype\n",
      "  0.01\t1\t1\tS3\t1954159\t                          Influenza A virus (A/northern shoveler/Mexico-Sonora/797/2008(H5N3))\n",
      "  0.01\t1\t1\tS3\t678622\t                          Influenza A virus (A/breeder duck/France/090045b/2009(H5N3))\n",
      "  0.01\t2\t2\tS2\t3298576\t                        gi|1591468378|gb|MK633383|Influenza A virus (A/California/NHRC-OID_FDX100236/2019(H1N1)) segment 2 polymerase PB1 (PB1) gene, complete cds; and nonfunctional PB1-F2 protein (PB1-F2) gene, complete sequence\n",
      "  0.01\t2\t2\tS2\t3337290\t                        gi|1765915179|gb|MN572401|Influenza A virus (A/Sydney/544/2017(H3N2)) segment 6 neuraminidase (NA) gene, complete cds\n",
      "  0.01\t2\t2\tS2\t3257751\t                        gi|1381321823|gb|MH246310|Influenza A virus (A/Delaware/16/2018(H3N2)) segment 3 polymerase PA (PA) and PA-X protein (PA-X) genes, complete cds\n",
      "  0.01\t2\t2\tS2\t3267181\t                        gi|1418622573|gb|MH586039|Influenza A virus (A/Louisiana/04/2018(H3N2)) segment 7 matrix protein 2 (M2) and matrix protein 1 (M1) genes, complete cds\n",
      "  0.01\t1\t1\tS2\t3300194\t                        gi|1597105615|gb|MK676180|Influenza A virus (A/Pennsylvania/04/2017(H3N2)) segment 3 polymerase PA (PA) and PA-X protein (PA-X) genes, complete cds\n",
      "  0.01\t1\t1\tS2\t3311671\t                        gi|1628765166|gb|MK869492|Influenza A virus (A/South Carolina/8656/2019(H3N2)) segment 7 matrix protein 2 (M2) and matrix protein 1 (M1) genes, complete cds\n",
      "  0.01\t1\t1\tS2\t3352889\t                        gi|1820141141|gb|MT167367|Influenza A virus (A/California/09/2020(H1N1)) segment 2 polymerase PB1 (PB1) gene, complete cds; and nonfunctional PB1-F2 protein (PB1-F2) gene, complete sequence\n",
      "  0.01\t1\t1\tS2\t3259968\t                        gi|1390030776|gb|MH358909|Influenza A virus (A/Washington/74/2018(H3N2)) segment 3 polymerase PA (PA) and PA-X protein (PA-X) genes, complete cds\n",
      "  0.01\t1\t1\tS2\t3291040\t                        gi|1565832306|gb|MK475308|Influenza A virus (A/Colorado/34/2018(H1N1)) segment 2 polymerase PB1 (PB1) gene, complete cds; and nonfunctional PB1-F2 protein (PB1-F2) gene, complete sequence\n",
      "  0.01\t1\t1\tS2\t3331258\t                        gi|1732448710|gb|MN394451|Influenza A virus (A/Singapore/SGH-A/2012(H3N2)) segment 4 hemagglutinin (HA) gene, complete cds\n",
      "  0.01\t1\t1\tS2\t3245935\t                        gi|1346796154|gb|MG974446|Influenza A virus (A/Iowa/44/2017(H3N2)) segment 5 nucleocapsid protein (NP) gene, complete cds\n",
      "  0.01\t1\t1\tS2\t3319596\t                        gi|1680942125|gb|MN055182|Influenza A virus (A/Santiago/PUC-MVL_130-2018/2018(H3N2)) segment 3 polymerase PA (PA) and PA-X protein (PA-X) genes, complete cds\n",
      "  0.01\t1\t1\tS2\t3321598\t                        gi|1687208911|gb|MN081333|Influenza A virus (A/Missouri/9693/2019(H3N2)) segment 5 nucleocapsid protein (NP) gene, complete cds\n",
      "  0.01\t1\t1\tS2\t3332564\t                        gi|1750468199|gb|MN507367|Influenza A virus (A/North Dakota/27/2019(H3N2)) segment 8 nuclear export protein (NEP) and nonstructural protein 1 (NS1) genes, complete cds\n",
      "  0.01\t1\t1\tS2\t3336286\t                        gi|1765912669|gb|MN571397|Influenza A virus (A/Sydney/14/2017(H3N2)) segment 2 polymerase PB1 (PB1) and PB1-F2 protein (PB1-F2) genes, complete cds\n",
      "  0.01\t1\t1\tS2\t3284955\t                        gi|1547183248|gb|MK366588|Influenza A virus (A/swine/Pfeffenhausen/14351/2011(H1N1)) segment 1 polymerase PB2 (PB2) gene, complete cds\n",
      "  0.01\t1\t1\tS2\t3246877\t                        gi|1349312255|gb|MG984224|Influenza A virus (A/Shanghai/15/2017(H3N2)) segment 3 polymerase PA (PA) and PA-X protein (PA-X) genes, complete cds\n",
      "  0.01\t1\t1\tS2\t3272156\t                        gi|1436241475|gb|MH701285|Influenza A virus (A/California/FDX22064/2018(H3N2)) segment 7 matrix protein 2 (M2) and matrix protein 1 (M1) genes, complete cds\n",
      "  0.01\t1\t1\tS2\t3302280\t                        gi|1605168533|gb|MK730151|Influenza A virus (A/New York/WC-LVD-12-014/2012(H3N2)) segment 3 polymerase PA (PA) and PA-X protein (PA-X) genes, complete cds\n",
      "  0.01\t1\t1\tS2\t3299113\t                        gi|1591626171|gb|MK636002|Influenza A virus (A/Florida/7695/2018(H3N2)) segment 1 polymerase PB2 (PB2) gene, complete cds\n",
      "  0.01\t1\t1\tS2\t3256333\t                        gi|1379068264|gb|MH233452|Influenza A virus (A/New Jersey/12/2018(H3N2)) segment 1 polymerase PB2 (PB2) gene, complete cds\n",
      "  0.01\t1\t1\tS2\t3356933\t                        gi|1824632288|gb|MT245982|Influenza A virus (A/Oregon/02/2020(H3N2)) segment 6 neuraminidase (NA) gene, complete cds\n",
      "  0.01\t1\t1\tS2\t3342495\t                        gi|1780845788|gb|MN787822|Influenza A virus (A/Pernambuco/9511/2018(H3N2)) segment 6 neuraminidase (NA) gene, complete cds\n",
      "  0.01\t1\t1\tS2\t3335267\t                        gi|1765910122|gb|MN570378|Influenza A virus (A/South Australia/11/2018(H3N2)) segment 5 nucleocapsid protein (NP) gene, complete cds\n",
      "  0.01\t1\t1\tS2\t3303521\t                        gi|1606881972|gb|MK743496|Influenza A virus (A/Nebraska/8010/2019(H3N2)) segment 2 polymerase PB1 (PB1) and PB1-F2 protein (PB1-F2) genes, complete cds\n",
      "  0.01\t1\t1\tS2\t3362471\t                        gi|1837252417|gb|MT422945|Influenza A virus (A/Texas/42/2020(H3N2)) segment 4 hemagglutinin (HA) gene, complete cds\n",
      "  0.01\t1\t1\tS2\t3302329\t                        gi|1605168656|gb|MK730200|Influenza A virus (A/New York/WC-LVD-12-020/2012(H3N2)) segment 2 polymerase PB1 (PB1) and PB1-F2 protein (PB1-F2) genes, complete cds\n",
      "  0.01\t1\t1\tS2\t3362475\t                        gi|1837252426|gb|MT422949|Influenza A virus (A/Texas/42/2020(H3N2)) segment 8 nuclear export protein (NEP) and nonstructural protein 1 (NS1) genes, complete cds\n",
      "  0.01\t1\t1\tS2\t3317579\t                        gi|1675299675|gb|MN002069|Influenza A virus (A/New Mexico/20/2019(H3N2)) segment 4 hemagglutinin (HA) gene, complete cds\n",
      "  0.01\t1\t1\tS2\t3324130\t                        gi|1690482971|gb|MN085161|Influenza A virus (A/Tennessee/64/2019(H3N2)) segment 5 nucleocapsid protein (NP) gene, complete cds\n",
      "  0.01\t1\t1\tS2\t3246993\t                        gi|1349312544|gb|MG984340|Influenza A virus (A/Shanghai/34/2017(H3N2)) segment 7 matrix protein 2 (M2) and matrix protein 1 (M1) genes, complete cds\n",
      "  0.01\t1\t1\tS2\t3338084\t                        gi|1765917164|gb|MN573195|Influenza A virus (A/Victoria/2038/2018(H3N2)) segment 8 nuclear export protein (NEP) and nonstructural protein 1 (NS1) genes, complete cds\n",
      "  0.01\t1\t1\tS2\t3302670\t                        gi|1605169508|gb|MK730541|Influenza A virus (A/New York/WC-LVD-13-033/2013(H3N2)) segment 5 nucleocapsid protein (NP) gene, complete cds\n",
      "  0.01\t1\t1\tS2\t3304552\t                        gi|1607173042|gb|MK744983|Influenza A virus (A/Florida/127/2018(H3N2)) segment 3 polymerase PA (PA) and PA-X protein (PA-X) genes, complete cds\n",
      "  0.01\t1\t1\tS2\t3280508\t                        gi|1540595728|gb|MK328634|Influenza A virus (A/swine/Quebec/DM_01/2016(H1N1)) segment 2 polymerase PB1 (PB1) and PB1-F2 protein (PB1-F2) genes, complete cds\n",
      "  0.01\t1\t1\tS2\t3318989\t                        gi|1680940418|gb|MN054074|Influenza A virus (A/Santiago/p047-2018/2018(H3N2)) segment 2 polymerase PB1 (PB1) and PB1-F2 protein (PB1-F2) genes, complete cds\n",
      "  0.01\t1\t1\tS2\t3329464\t                        gi|1714241165|gb|MN247913|Influenza A virus (A/Pennsylvania/817/2019(H3N2)) segment 5 nucleocapsid protein (NP) gene, complete cds\n",
      "  0.01\t1\t1\tS2\t3299879\t                        gi|1593345301|gb|MK641243|Influenza A virus (A/China/38887/2012(H3N2)) segment 3 polymerase PA (PA) and PA-X protein (PA-X) genes, complete cds\n",
      "  0.01\t1\t1\tS2\t3299884\t                        gi|1593345316|gb|MK641248|Influenza A virus (A/China/41678/2013(H3N2)) segment 3 polymerase PA (PA) and PA-X protein (PA-X) genes, complete cds\n",
      "  0.01\t1\t1\tS2\t3280532\t                        gi|1540595886|gb|MK328699|Influenza A virus (A/swine/Manitoba/DM_18/2017(H3N2)) segment 2 polymerase PB1 (PB1) gene, complete cds; and nonfunctional PB1-F2 protein (PB1-F2) gene, complete sequence\n",
      "  0.01\t1\t1\tS2\t3313569\t                        gi|1647228634|gb|MK927655|Influenza A virus (A/Arizona/8871/2019(H3N2)) segment 3 polymerase PA (PA) and PA-X protein (PA-X) genes, complete cds\n",
      "  0.01\t1\t1\tS2\t3345402\t                        gi|1798035532|gb|MN948579|Influenza A virus (A/Florida/116/2019(H3N2)) segment 6 neuraminidase (NA) gene, complete cds\n",
      "  0.01\t1\t1\tS2\t3353616\t                        gi|1820145503|gb|MT168807|Influenza A virus (A/Delaware/59/2019(H3N2)) segment 6 neuraminidase (NA) gene, complete cds\n",
      "  0.01\t1\t1\tS2\t3309217\t                        gi|1626606473|gb|MK856451|Influenza A virus (A/Maine/08/2019(H3N2)) segment 1 polymerase PB2 (PB2) gene, complete cds\n",
      "  0.01\t1\t1\tS2\t3302715\t                        gi|1605169621|gb|MK730586|Influenza A virus (A/New York/WC-LVD-13-039/2013(H3N2)) segment 4 hemagglutinin (HA) gene, complete cds\n",
      "  0.01\t1\t1\tS2\t3268343\t                        gi|1421643754|gb|MH600774|Influenza A virus (A/Iowa/54/2018(H3N2)) segment 1 polymerase PB2 (PB2) gene, complete cds\n",
      "  0.01\t1\t1\tS2\t3299937\t                        gi|1593345475|gb|MK641301|Influenza A virus (A/China/70219/2015(H3N2)) segment 3 polymerase PA (PA) and PA-X protein (PA-X) genes, complete cds\n",
      "  0.01\t1\t1\tS2\t3314737\t                        gi|1659076230|gb|MK960937|Influenza A virus (A/South Carolina/9420/2019(H1N1)) segment 3 polymerase PA (PA) and PA-X protein (PA-X) genes, complete cds\n",
      "  0.01\t1\t1\tS2\t3280608\t                        gi|1547044742|gb|MK358906|Influenza A virus (A/swine/Indiana/A02270141/2018(H3N2)) segment 4 hemagglutinin (HA) gene, complete cds\n",
      "  0.01\t1\t1\tS2\t3345368\t                        gi|1798035348|gb|MN948505|Influenza A virus (A/Colorado/41/2019(H3N2)) segment 4 hemagglutinin (HA) gene, complete cds\n",
      "  0.01\t1\t1\tS2\t3333256\t                        gi|1765905058|gb|MN568351|Influenza A virus (A/Brisbane/138/2017(H3N2)) segment 4 hemagglutinin (HA) gene, complete cds\n",
      "  0.01\t1\t1\tS2\t3333260\t                        gi|1765905067|gb|MN568355|Influenza A virus (A/Brisbane/138/2017(H3N2)) segment 8 nuclear export protein (NEP) and nonstructural protein 1 (NS1) genes, complete cds\n",
      "  0.01\t1\t1\tS2\t3313666\t                        gi|1647228979|gb|MK927752|Influenza A virus (A/Georgia/8900/2019(H1N1)) segment 2 polymerase PB1 (PB1) gene, complete cds; and nonfunctional PB1-F2 protein (PB1-F2) gene, complete sequence\n",
      "  0.01\t1\t1\tS2\t3314836\t                        gi|1659076476|gb|MK961036|Influenza A virus (A/Utah/9439/2019(H3N2)) segment 4 hemagglutinin (HA) gene, complete cds\n",
      "  0.01\t1\t1\tS2\t3325804\t                        gi|1700996498|gb|MN169597|Influenza A virus (A/Italy/9062/2019(H3N2)) segment 3 polymerase PA (PA) and PA-X protein (PA-X) genes, complete cds\n",
      "  0.01\t1\t1\tS2\t3348493\t                        gi|1806614438|gb|MT031672|Influenza A virus (A/Utah/58/2019(H3N2)) segment 5 nucleocapsid protein (NP) gene, complete cds\n",
      "  0.01\t1\t1\tS2\t3263431\t                        gi|1408065180|gb|MH346866|Influenza A virus (A/Santiago/p033d0/2017(H3N2)) segment 2 polymerase PB1 (PB1) and PB1-F2 protein (PB1-F2) genes, complete cds\n",
      "  0.01\t1\t1\tS2\t3326444\t                        gi|1704724116|gb|MN179396|Influenza A virus (A/swine/California/T1800664/2018(H1N1)) segment 3 polymerase PA (PA) and PA-X protein (PA-X) genes, complete cds\n",
      "  0.01\t1\t1\tS2\t3351917\t                        gi|1808806293|gb|MT058149|Influenza A virus (A/Delaware/56/2019(H1N1)) segment 2 polymerase PB1 (PB1) gene, complete cds; and nonfunctional PB1-F2 protein (PB1-F2) gene, complete sequence\n",
      "  0.01\t1\t1\tS2\t3357141\t                        gi|1827287708|gb|MT269488|Influenza A virus (A/swine/California/A01104141/2020(H3N2)) segment 4 hemagglutinin (HA) gene, complete cds\n",
      "  0.01\t1\t1\tS2\t3327658\t                        gi|1708602531|gb|MN222654|Influenza A virus (A/Montana/35/2019(H3N2)) segment 8 nuclear export protein (NEP) and nonstructural protein 1 (NS1) genes, complete cds\n",
      "  0.01\t1\t1\tS2\t3261240\t                        gi|1394615811|gb|MH425079|Influenza A virus (A/swine/Minnesota/A02139250/2017(H3N2)) segment 2 polymerase PB1 (PB1) and PB1-F2 protein (PB1-F2) genes, complete cds\n",
      "  0.01\t1\t1\tS2\t3309923\t                        gi|1626608857|gb|MK857407|Influenza A virus (A/Oregon/10/2019(H3N2)) segment 2 polymerase PB1 (PB1) and PB1-F2 protein (PB1-F2) genes, complete cds\n",
      "  0.01\t1\t1\tS2\t3313405\t                        gi|1644657590|gb|MK913197|Influenza A virus (A/Spain/8833/2019(H1N1)) segment 1 polymerase PB2 (PB2) gene, complete cds\n",
      "  0.01\t1\t1\tS2\t3288367\t                        gi|1558735255|gb|MK401176|Influenza A virus (A/Massachusetts/7165/2018(H3N2)) segment 3 polymerase PA (PA) and PA-X protein (PA-X) genes, complete cds\n",
      "  0.01\t1\t1\tS2\t3253873\t                        gi|1371571782|gb|MH131353|Influenza A virus (A/Illinois/62/2017(H3N2)) segment 3 polymerase PA (PA) and PA-X protein (PA-X) genes, complete cds\n",
      "  0.01\t1\t1\tS2\t3249649\t                        gi|1365484285|gb|MH081998|Influenza A virus (A/California/06/2018(H3N2)) segment 7 matrix protein 2 (M2) and matrix protein 1 (M1) genes, complete cds\n",
      "  0.01\t1\t1\tS2\t3327247\t                        gi|1708601147|gb|MN222101|Influenza A virus (A/Florida/59/2019(H3N2)) segment 7 matrix protein 2 (M2) and matrix protein 1 (M1) genes, complete cds\n",
      "  0.01\t1\t1\tS2\t3356617\t                        gi|1824631060|gb|MT245491|Influenza A virus (A/Hawaii/01/2020(H3N2)) segment 5 nucleocapsid protein (NP) gene, complete cds\n",
      "  0.01\t1\t1\tS2\t3264035\t                        gi|1409673961|gb|MH540855|Influenza A virus (A/Maine/30/2018(H3N2)) segment 6 neuraminidase (NA) gene, complete cds\n",
      "  0.01\t1\t1\tS2\t3324567\t                        gi|1700021309|gb|MN154270|Influenza A virus (A/New York/9745/2019(H3N2)) segment 3 polymerase PA (PA) and PA-X protein (PA-X) genes, complete cds\n",
      "  0.01\t1\t1\tS2\t3330886\t                        gi|1730280817|gb|MN373079|Influenza A virus (A/Rhode Island/26/2019(H3N2)) segment 4 hemagglutinin (HA) gene, complete cds\n",
      "  0.01\t1\t1\tS2\t3278284\t                        gi|1511948101|gb|MK159859|Influenza A virus (A/Santiago/PUC-MVL_025/2018(H3N2)) segment 4 hemagglutinin (HA) gene, complete cds\n",
      "  0.01\t1\t1\tS2\t3307804\t                        gi|1619771510|gb|MK799869|Influenza A virus (A/swine/Iowa/A02431454/2019(H3N2)) segment 4 hemagglutinin (HA) gene, complete cds\n",
      "  0.01\t1\t1\tS2\t3279129\t                        gi|1524738139|gb|MK240860|Influenza A virus (A/District Of Columbia/01/2018(H3N2)) segment 8 nuclear export protein (NEP) and nonstructural protein 1 (NS1) genes, complete cds\n",
      "  0.01\t1\t1\tS2\t3317239\t                        gi|1675296728|gb|MN000893|Influenza A virus (A/California/87/2019(H3N2)) segment 4 hemagglutinin (HA) gene, complete cds\n",
      "  0.01\t1\t1\tS2\t3323983\t                        gi|1690482583|gb|MN085006|Influenza A virus (A/Ohio/16/2019(H3N2)) segment 2 polymerase PB1 (PB1) and PB1-F2 protein (PB1-F2) genes, complete cds\n",
      "  0.01\t1\t1\tS2\t3336763\t                        gi|1765913861|gb|MN571874|Influenza A virus (A/Sydney/27/2017(H3N2)) segment 5 nucleocapsid protein (NP) gene, complete cds\n",
      "  0.01\t1\t1\tS2\t3313213\t                        gi|1644657113|gb|MK913005|Influenza A virus (A/Ohio/8804/2019(H3N2)) segment 1 polymerase PB2 (PB2) gene, complete cds\n",
      "  0.01\t1\t1\tS2\t3331820\t                        gi|1735289756|gb|MN418843|Influenza A virus (A/swine/Henan/SN10/2018(H1N1)) segment 7 matrix protein 2 (M2) and matrix protein 1 (M1) genes, complete cds\n",
      "  0.01\t1\t1\tS2\t3313225\t                        gi|1644657142|gb|MK913017|Influenza A virus (A/Ohio/8808/2019(H3N2)) segment 5 nucleocapsid protein (NP) gene, complete cds\n",
      "  0.01\t1\t1\tS2\t3304813\t                        gi|1607174290|gb|MK745483|Influenza A virus (A/New Hampshire/01/2019(H3N2)) segment 7 matrix protein 2 (M2) and matrix protein 1 (M1) genes, complete cds\n",
      "  0.01\t1\t1\tS2\t3300879\t                        gi|1597275431|gb|MK676938|Influenza A virus (A/Florida/14/2019(H3N2)) segment 3 polymerase PA (PA) and PA-X protein (PA-X) genes, complete cds\n",
      "  0.01\t1\t1\tS2\t3336989\t                        gi|1765914426|gb|MN572100|Influenza A virus (A/Sydney/503/2018(H3N2)) segment 3 polymerase PA (PA) and PA-X protein (PA-X) genes, complete cds\n",
      "  0.01\t1\t1\tS2\t3320974\t                        gi|1685839309|gb|MN075053|Influenza A virus (A/Washington/9596/2019(H3N2)) segment 5 nucleocapsid protein (NP) gene, complete cds\n",
      "  0.01\t1\t1\tS2\t3304832\t                        gi|1607174364|gb|MK745512|Influenza A virus (A/New Jersey/48/2018(H3N2)) segment 2 polymerase PB1 (PB1) and PB1-F2 protein (PB1-F2) genes, complete cds\n",
      "  0.01\t1\t1\tS2\t3252766\t                        gi|1371434662|gb|MH126611|Influenza A virus (A/Delaware/03/2018(H3N2)) segment 2 polymerase PB1 (PB1) and PB1-F2 protein (PB1-F2) genes, complete cds\n",
      "  0.01\t1\t1\tS2\t3275219\t                        gi|1464621486|gb|MH798380|Influenza A virus (A/New York/PV101/2017(H3N2)) segment 2 polymerase PB1 (PB1) and PB1-F2 protein (PB1-F2) genes, complete cds\n",
      "  0.01\t1\t1\tS2\t3323912\t                        gi|1690482386|gb|MN084927|Influenza A virus (A/New Mexico/31/2019(H3N2)) segment 3 polymerase PA (PA) and PA-X protein (PA-X) genes, complete cds\n",
      "  0.01\t1\t1\tS2\t3249803\t                        gi|1365484732|gb|MH082152|Influenza A virus (A/Florida/02/2018(H3N2)) segment 8 nuclear export protein (NEP) and nonstructural protein 1 (NS1) genes, complete cds\n",
      "  0.01\t1\t1\tS2\t3337655\t                        gi|1765916093|gb|MN572766|Influenza A virus (A/Sydney/76/2017(H3N2)) segment 1 polymerase PB2 (PB2) gene, complete cds\n",
      "  0.01\t1\t1\tS2\t3323932\t                        gi|1690482437|gb|MN084947|Influenza A virus (A/New York/24/2019(H3N2)) segment 4 hemagglutinin (HA) gene, complete cds\n",
      "  0.01\t1\t1\tS2\t3279583\t                        gi|1524840114|gb|MK244870|Influenza A virus (A/Wisconsin/493/2018(H3N2)) segment 7 matrix protein 2 (M2) and matrix protein 1 (M1) genes, complete cds\n",
      "  0.01\t1\t1\tS2\t3309670\t                        gi|1626608066|gb|MK857090|Influenza A virus (A/Massachusetts/10/2019(H3N2)) segment 5 nucleocapsid protein (NP) gene, complete cds\n",
      "  0.01\t1\t1\tS2\t3334037\t                        gi|1765907028|gb|MN569140|Influenza A virus (A/Canberra/4/2017(H3N2)) segment 3 polymerase PA (PA) and PA-X protein (PA-X) genes, complete cds\n",
      "  0.01\t1\t1\tS2\t3324449\t                        gi|1694420253|gb|MN104471|Influenza A virus (A/swine/Texas/A01785906/2019(H1N1)) segment 2 polymerase PB1 (PB1) and PB1-F2 protein (PB1-F2) genes, complete cds\n",
      "  0.01\t1\t1\tS2\t3248205\t                        gi|1365422602|gb|MH080144|Influenza A virus (A/North Dakota/05/2018(H3N2)) segment 7 matrix protein 2 (M2) and matrix protein 1 (M1) genes, complete cds\n",
      "  0.01\t1\t1\tS2\t3272122\t                        gi|1436241392|gb|MH701251|Influenza A virus (A/California/BRD80830N/2017(H3N2)) segment 1 polymerase PB2 (PB2) gene, complete cds\n",
      "  0.01\t1\t1\tS2\t3292007\t                        gi|1569141692|gb|MK502889|Influenza A virus (A/Oklahoma/7385/2018(H3N2)) segment 7 matrix protein 2 (M2) and matrix protein 1 (M1) genes, complete cds\n",
      "  0.01\t1\t1\tS2\t3338052\t                        gi|1765917084|gb|MN573163|Influenza A virus (A/Victoria/2023/2017(H3N2)) segment 8 nuclear export protein (NEP) and nonstructural protein 1 (NS1) genes, complete cds\n",
      "  0.01\t1\t1\tS2\t3327510\t                        gi|1708602082|gb|MN222475|Influenza A virus (A/Massachusetts/28/2019(H3N2)) segment 5 nucleocapsid protein (NP) gene, complete cds\n",
      "  0.01\t1\t1\tS2\t3246852\t                        gi|1349312192|gb|MG984199|Influenza A virus (A/Shanghai/12/2017(H3N2)) segment 2 polymerase PB1 (PB1) and PB1-F2 protein (PB1-F2) genes, complete cds\n",
      "  0.01\t1\t1\tS2\t3282508\t                        gi|1547155492|gb|MK363438|Influenza A virus (A/California/71/2018(H3N2)) segment 7 matrix protein 2 (M2) and matrix protein 1 (M1) genes, complete cds\n",
      "  0.01\t1\t1\tS2\t3274857\t                        gi|1464620595|gb|MH798018|Influenza A virus (A/New York/PV00657/2018(H3N2)) segment 8 nuclear export protein (NEP) and nonstructural protein 1 (NS1) genes, complete cds\n",
      "  0.01\t1\t1\tS2\t3335118\t                        gi|1765909750|gb|MN570229|Influenza A virus (A/Perth/4/2018(H3N2)) segment 2 polymerase PB1 (PB1) and PB1-F2 protein (PB1-F2) genes, complete cds\n",
      "  0.01\t1\t1\tS2\t3276408\t                        gi|1476003678|gb|MH898341|Influenza A virus (A/New Jersey/38/2018(H3N2)) segment 4 hemagglutinin (HA) gene, complete cds\n",
      "  0.01\t1\t1\tS2\t3312940\t                        gi|1644656444|gb|MK912732|Influenza A virus (A/Italy/8764/2019(H1N1)) segment 2 polymerase PB1 (PB1) gene, complete cds; and nonfunctional PB1-F2 protein (PB1-F2) gene, complete sequence\n",
      "  0.01\t1\t1\tS2\t3332097\t                        gi|1735640367|gb|MN424066|Influenza A virus (A/Michigan/390/2019(H3N2)) segment 3 polymerase PA (PA) and PA-X protein (PA-X) genes, complete cds\n",
      "  0.01\t1\t1\tS2\t3285549\t                        gi|1547184727|gb|MK367182|Influenza A virus (A/swine/Ruethen/20843/2014(H1N1)) segment 3 polymerase PA (PA) and PA-X protein (PA-X) genes, complete cds\n",
      "  0.01\t1\t1\tS2\t3333724\t                        gi|1765906246|gb|MN568827|Influenza A virus (A/Brisbane/43/2018(H3N2)) segment 8 nuclear export protein (NEP) and nonstructural protein 1 (NS1) genes, complete cds\n",
      "  0.01\t1\t1\tS2\t3319868\t                        gi|1681999819|gb|MN061097|Influenza A virus (A/Birobidzhan/97/2019(H1N1)) segment 2 polymerase PB1 (PB1) gene, complete cds; and nonfunctional PB1-F2 protein (PB1-F2) gene, complete sequence\n",
      "  0.01\t1\t1\tS2\t3324093\t                        gi|1690482878|gb|MN085124|Influenza A virus (A/Rhode Island/24/2019(H3N2)) segment 8 nuclear export protein (NEP) and nonstructural protein 1 (NS1) genes, complete cds\n",
      "  0.01\t1\t1\tS2\t3356755\t                        gi|1824631624|gb|MT245717|Influenza A virus (A/Maine/06/2020(H3N2)) segment 7 matrix protein 2 (M2) and matrix protein 1 (M1) genes, complete cds\n",
      "  0.01\t1\t1\tS2\t3330730\t                        gi|1730279665|gb|MN372619|Influenza A virus (A/District Of Columbia/31/2019(H3N2)) segment 8 nuclear export protein (NEP) and nonstructural protein 1 (NS1) genes, complete cds\n",
      "  0.01\t1\t1\tS2\t3252911\t                        gi|1371435045|gb|MH126764|Influenza A virus (A/Illinois/09/2018(H3N2)) segment 1 polymerase PB2 (PB2) gene, complete cds\n",
      "  0.01\t1\t1\tS2\t3288776\t                        gi|1558751287|gb|MK401623|Influenza A virus (A/South Carolina/7254/2018(H3N2)) segment 5 nucleocapsid protein (NP) gene, complete cds\n",
      "  0.01\t1\t1\tS2\t3281139\t                        gi|1547149431|gb|MK361936|Influenza A virus (A/swine/Asendorf/4966/2006(H3N2)) segment 2 polymerase PB1 (PB1) and PB1-F2 protein (PB1-F2) genes, complete cds\n",
      "  0.01\t1\t1\tS2\t3258149\t                        gi|1381323098|gb|MH246820|Influenza A virus (A/Texas/86/2018(H3N2)) segment 1 polymerase PB2 (PB2) gene, complete cds\n",
      "  0.01\t1\t1\tS2\t3352388\t                        gi|1812011600|gb|MT105417|Influenza A virus (A/District Of Columbia/54/2019(H3N2)) segment 3 polymerase PA (PA) and PA-X protein (PA-X) genes, complete cds\n",
      "  0.01\t1\t1\tS2\t3323720\t                        gi|1690481746|gb|MN084671|Influenza A virus (A/Maryland/21/2019(H3N2)) segment 3 polymerase PA (PA) and PA-X protein (PA-X) genes, complete cds\n",
      "  0.01\t1\t1\tS2\t3256433\t                        gi|1379068514|gb|MH233552|Influenza A virus (A/Vermont/08/2018(H3N2)) segment 5 nucleocapsid protein (NP) gene, complete cds\n",
      "  0.01\t1\t1\tS2\t3252908\t                        gi|1371435037|gb|MH126761|Influenza A virus (A/Illinois/09/2018(H3N2)) segment 4 hemagglutinin (HA) gene, complete cds\n",
      "  0.01\t1\t1\tS2\t3320363\t                        gi|1685837801|gb|MN074442|Influenza A virus (A/New Jersey/9509/2019(H3N2)) segment 4 hemagglutinin (HA) gene, complete cds\n",
      "  0.01\t1\t1\tS2\t3247483\t                        gi|1360457530|gb|MH061605|Influenza A virus (A/swine/Mexico/8630459/2011(H3N2)) segment 2 polymerase PB1 (PB1) and PB1-F2 protein (PB1-F2) genes, complete cds\n",
      "  0.01\t1\t0\tS2\t142951\t                        H12N5 subtype\n",
      "  0.01\t1\t1\tS3\t908273\t                          Influenza A virus (A/duck/Vietnam/G18/2009(H12N5))\n",
      "  0.01\t1\t0\tS2\t286294\t                        H11N2 subtype\n",
      "  0.01\t1\t1\tS3\t645966\t                          Influenza A virus (A/spotbill duck/Xuyi/6/2005(H11N2))\n",
      "  0.01\t1\t0\tS2\t232441\t                        H5N8 subtype\n",
      "  0.01\t1\t1\tS3\t1470249\t                          Influenza A virus (A/tundra swan/Korea/H411/2014(H5N8))\n",
      "  0.01\t1\t1\tS2\t3268512\t                        gi|1421644216|gb|MH600959|Influenza A virus (A/Rhode Island/13/2018(H3N2)) segment 1 polymerase PB2 (PB2) gene, complete cds\n",
      "  0.01\t1\t1\tS2\t3286768\t                        gi|1551880622|gb|MK381944|Influenza A virus (A/Japan/6955/2018(H1N1)) segment 1 polymerase PB2 (PB2) gene, complete cds\n",
      "  0.01\t1\t1\tS2\t3259307\t                        gi|1387698475|gb|MH307103|Influenza A virus (A/Montana/17/2018(H3N2)) segment 3 polymerase PA (PA) and PA-X protein (PA-X) genes, complete cds\n",
      "  0.01\t1\t1\tS2\t3280460\t                        gi|1540595593|gb|MK328578|Influenza A virus (A/swine/Quebec/DM_06/2016(H3N2)) segment 2 polymerase PB1 (PB1) and PB1-F2 protein (PB1-F2) genes, complete cds\n",
      "  0.01\t1\t0\tS2\t114732\t                        H2N8 subtype\n",
      "  0.01\t1\t1\tS3\t351037\t                          Influenza A virus (A/herring gull/DE/703/1988(H2N8))\n",
      "  0.01\t1\t1\tS2\t3268617\t                        gi|1421644479|gb|MH601064|Influenza A virus (A/Virginia/51/2018(H3N2)) segment 3 polymerase PA (PA) and PA-X protein (PA-X) genes, complete cds\n",
      "  0.01\t1\t0\tS2\t119216\t                        H7N1 subtype\n",
      "  0.01\t1\t1\tS3\t582869\t                          Influenza A virus (A/duck/Mongolia/867/2002(H7N1))\n",
      "  0.01\t1\t1\tS2\t3247687\t                        gi|1360458098|gb|MH061841|Influenza A virus (A/swine/Mexico/9890611/2013(H3N2)) segment 6 neuraminidase (NA) gene, complete cds\n",
      "  0.01\t1\t1\tS2\t3299649\t                        gi|1593328145|gb|MK640983|Influenza A virus (A/China/62889/2015(H3N2)) segment 2 polymerase PB1 (PB1) and PB1-F2 protein (PB1-F2) genes, complete cds\n",
      "  0.01\t1\t0\tS2\t476651\t                        H7N6 subtype\n",
      "  0.01\t1\t1\tS3\t1587805\t                          Influenza A virus (A/duck/Jiangxi/32213/2013(H7N6))\n",
      "  0.01\t1\t1\tS2\t3319279\t                        gi|1680941171|gb|MN054375|Influenza A virus (A/Osorno/PUC-MVL_COL009/2018(H3N2)) segment 1 polymerase PB2 (PB2) gene, complete cds\n",
      "  0.01\t1\t0\tS2\t215851\t                        H3N3 subtype\n",
      "  0.01\t1\t1\tS3\t352673\t                          Influenza A virus (A/mallard duck/ALB/712/1978(H3N3))\n",
      "  0.01\t1\t1\tS2\t3299645\t                        gi|1593328133|gb|MK640979|Influenza A virus (A/China/61452/2014(H3N2)) segment 2 polymerase PB1 (PB1) and PB1-F2 protein (PB1-F2) genes, complete cds\n",
      "  0.01\t1\t1\tS2\t3251782\t                        gi|1368178475|gb|MH094744|Influenza A virus (A/swine/Minnesota/A01785306/2017(H1N1)) segment 5 nucleocapsid protein (NP) gene, complete cds\n",
      "  0.01\t1\t1\tS2\t3343526\t                        gi|1783423621|gb|MN820171|Influenza A virus (A/Massachusetts/39/2019(H3N2)) segment 4 hemagglutinin (HA) gene, complete cds\n",
      "  0.01\t1\t1\tS2\t3319002\t                        gi|1680940452|gb|MN054117|Influenza A virus (A/Chile/JM-SO389/1996(H3N2)) segment 1 polymerase PB2 (PB2) gene, complete cds\n",
      "  0.01\t1\t1\tS2\t119211\t                        H3N8 subtype\n",
      "  0.01\t1\t1\tS2\t3286785\t                        gi|1551880660|gb|MK381963|Influenza A virus (A/Texas/6975/2018(H3N2)) segment 1 polymerase PB2 (PB2) gene, complete cds\n",
      "  0.01\t1\t0\tS2\t402585\t                        H10N2 subtype\n",
      "  0.01\t1\t1\tS3\t1566021\t                          Influenza A virus (A/duck/Zhejiang/6D20/2013(H10N2))\n",
      "  0.01\t1\t1\tS2\t3329625\t                        gi|1714608686|gb|MN250877|Influenza A virus (A/MUWRP-Uganda/579/2016(H3N2)) segment 5 nucleocapsid protein (NP) gene, complete cds\n"
     ]
    }
   ],
   "source": [
    "cat ${TEST_BASE_DIR_final_48106_2_10}/report.txt"
   ]
  },
  {
   "cell_type": "markdown",
   "id": "84b2598a-a532-4c7d-a06c-41f992113f45",
   "metadata": {},
   "source": [
    "### Conclusion\n",
    "There is a problem with the kraken2 DB, exemplified by these rows from the report:\n",
    "```\n",
    "100.00\t13862\t9017\tS1\t11320\t                      Influenza A virus\n",
    " 31.47\t4363\t2229\tS2\t119210\t                        H3N2 subtype\n",
    " 10.34\t1433\t1433\tS3\t335341\t                          Influenza A virus (A/New York/392/2004(H3N2))\n",
    "  0.79\t110\t0\tS3\t1910719\t                          Influenza A virus (A/Rhode Island/29/2016(H3N2))\n",
    "  0.79\t110\t110\tS4\t3230699\t                            gi|1095416191|gb|KY003383|Influenza A virus (A/Rhode Island/29/2016(H3N2)) segment 7 matrix protein 2 (M2) and matrix protein 1 (M1) genes, complete cds\n",
    "```\n",
    "A large number of the H3N2 hits have been assigned to A/New York/392/2004(H3N2) (row 3) but there is no read assigned to any segment. This shouid not be possible because all sequences should now be assigned at segment level and thus any hit to a higher-order taxon should have hits to a segment unless all hits assigned to the higher-order taxon are equally matching all 8 segments which seems unlikely (they would all have to be from the panhandles).\n",
    "Further check of the kraken2-inspect file also reveals that the assignment of new taxa to segments from the RefSeq dataset has not worked.  \n",
    "As it has been show above that the kraken-flu tool works as intended on a RefSeq dataset alone, the most likely explanation is that the error was introduced by combinbing the datasets.\n",
    "\n",
    "A new approach will be taken whereby NCBI RefSeq data will be obtained as raw FASTA and combined with the \"all influenza\" data before running kraken-flu"
   ]
  },
  {
   "cell_type": "markdown",
   "id": "4b4f1358-3ae3-47b6-bdc1-c6fd157e9dc4",
   "metadata": {},
   "source": [
    "## Build final DB without using kraken2 pre-built datasets\n",
    "As discussed above, combingin the RefSeq and the FTP \"all influenza\" dataset appears to be causing problems still. It is not clear why this is happening because the files created during the process appear to be correct but the act of combining the data is still somehow causing RefSeq and \"all influenza\" data to be treateed differently, resulting in loss of segmented taxa for RefSeq only.\n",
    "\n",
    "As an alternative approach, RefSeq will be downloaded directly from NCBI FTP site https://ftp.ncbi.nlm.nih.gov/refseq/release/viral/  \n",
    "___NOTE___ There is also https://ftp.ncbi.nlm.nih.gov/genomes/refseq/ but this has one folder per genome and cannot be used without a manifest that downloads one genome at a time. Even trying to open the directory in a browser fails, presumably because there are too many folders to display. Similarly, using this resource via FTP on the command line would onyl really make sense once a path to a specific genome is known.\n",
    "\n",
    "The assumption is that the summary file we are downloading here, is the concatenated FASTA file of all genomes that are available in the refseg genomes release. There is some explanation of the files here but it is not entirely clear:  \n",
    "https://www.ncbi.nlm.nih.gov/books/NBK50679/#RefSeqFAQ.what_data_are_available_for_ft  \n",
    "\n",
    "\n"
   ]
  },
  {
   "cell_type": "code",
   "execution_count": 45,
   "id": "b34978ba-3562-487f-81fa-d92b0ffe866e",
   "metadata": {},
   "outputs": [],
   "source": [
    "# these were previously exported, just here for convenience\n",
    "export BASE_DIR=/lustre/scratch126/gsu/team112/personal/fs5/rvi_dev/krakenDBs/kraken_flu/\n",
    "export ALL_INF_LIB=${BASE_DIR}/library_download_all_influenza_ncbi\n",
    "export TAX_PATH=${BASE_DIR}/taxonomy_download/\n",
    "export LIB_PATH_VIR=${BASE_DIR}/library_download_viral/"
   ]
  },
  {
   "cell_type": "raw",
   "id": "bc2169b5-c75e-4898-b93f-31374a75e056",
   "metadata": {},
   "source": [
    "# path to the new DB\n",
    "export ALL_VIRAL_DB_2=${BASE_DIR}/all_viral_db_2"
   ]
  },
  {
   "cell_type": "code",
   "execution_count": 47,
   "id": "310934e3-8981-42e5-adc4-ff41076b7f4e",
   "metadata": {},
   "outputs": [],
   "source": [
    "mkdir -p ${ALL_VIRAL_DB_2}"
   ]
  },
  {
   "cell_type": "markdown",
   "id": "21ca5726-d59b-4d77-b5be-24a9bd9c2328",
   "metadata": {},
   "source": [
    "### Download NCBI viral RefSeq without kraken2-build\n",
    "The above databases used a viral RefSeq dataset that was obtained and pre-processed by the kraken2 build tool.  \n",
    "To avoid having to process this separately from the \"all influenza dataset\", here we are downloading the raw FASTA file for viral RefSeq from\n",
    "\n",
    "https://ftp.ncbi.nlm.nih.gov/refseq/release/viral/\n"
   ]
  },
  {
   "cell_type": "code",
   "execution_count": 53,
   "id": "4168e628-7808-4323-8acd-7339dee347e8",
   "metadata": {},
   "outputs": [
    {
     "name": "stdout",
     "output_type": "stream",
     "text": [
      "--2024-01-17 18:08:24--  https://ftp.ncbi.nlm.nih.gov/refseq/release/viral/viral.1.1.genomic.fna.gz\n",
      "Resolving wwwcache.sanger.ac.uk (wwwcache.sanger.ac.uk)... 172.30.152.200\n",
      "Connecting to wwwcache.sanger.ac.uk (wwwcache.sanger.ac.uk)|172.30.152.200|:3128... connected.\n",
      "Proxy request sent, awaiting response... 200 OK\n",
      "Length: 168645964 (161M) [application/x-gzip]\n",
      "Saving to: ‘viral.1.1.genomic.fna.gz.2’\n",
      "\n",
      "viral.1.1.genomic.f 100%[===================>] 160.83M  6.73MB/s    in 25s     \n",
      "\n",
      "2024-01-17 18:08:49 (6.37 MB/s) - ‘viral.1.1.genomic.fna.gz.2’ saved [168645964/168645964]\n",
      "\n",
      "gzip: viral.1.1.genomic.fna already exists; do you wish to overwrite (y or n)? \n"
     ]
    }
   ],
   "source": [
    "cd /lustre/scratch126/gsu/team112/personal/fs5/rvi_dev/krakenDBs/kraken_flu/library_download_viral_refseq_ftp\n",
    "wget https://ftp.ncbi.nlm.nih.gov/refseq/release/viral/viral.1.1.genomic.fna.gz\n",
    "gunzip viral.1.1.genomic.fna.gz\n"
   ]
  },
  {
   "cell_type": "markdown",
   "id": "a830d49c-59e3-479b-a462-02eca0c330b2",
   "metadata": {},
   "source": [
    "### Filter NCBI all infleunza FASTA file\n",
    "Apply the kraken-flu filter command to the NCBI FTP download of \"all influenza\" sequences to obtain a final set of complete genomes only."
   ]
  },
  {
   "cell_type": "code",
   "execution_count": 55,
   "id": "5af263cd-c46b-47a4-a849-3e0d99d3744a",
   "metadata": {},
   "outputs": [
    {
     "name": "stdout",
     "output_type": "stream",
     "text": [
      "2024-01-17 18:16:25,162 scanning file /lustre/scratch126/gsu/team112/personal/fs5/rvi_dev/krakenDBs/kraken_flu//library_download_all_influenza_ncbi/influenza.fna for FASTA headers with accepted pattern\n",
      "2024-01-17 18:16:39,703 found 106374 genomes (unique names) before filtering\n",
      "2024-01-17 18:16:40,003 341264 FASTA records pass the filters and will be written to output file\n",
      "2024-01-17 18:16:40,081 starting to write filtered genomes to /lustre/scratch126/gsu/team112/personal/fs5/rvi_dev/krakenDBs/kraken_flu//library_download_all_influenza_ncbi/whole_genome_influenza.fna\n",
      "2024-01-17 18:16:51,735 finished writing filtered genomes to /lustre/scratch126/gsu/team112/personal/fs5/rvi_dev/krakenDBs/kraken_flu//library_download_all_influenza_ncbi/whole_genome_influenza.fna\n"
     ]
    }
   ],
   "source": [
    "~/kraken_flu/bin/kraken_flu filter \\\n",
    "    --in_fasta ${ALL_INF_LIB}/influenza.fna \\\n",
    "    --out_fasta ${ALL_INF_LIB}/whole_genome_influenza.fna \\\n",
    "    --discard_duplicates"
   ]
  },
  {
   "cell_type": "markdown",
   "id": "664f4d59-6510-4a91-80b3-b46aa37cb2b6",
   "metadata": {},
   "source": [
    "### Combine FASTA files\n",
    "Create a combined resource by concatenating the FASTA files for viral RefSeq and the \"all influenza\" FTP download into a new file"
   ]
  },
  {
   "cell_type": "code",
   "execution_count": 57,
   "id": "8b0efcc0-363a-43b4-96e1-b7870cef7257",
   "metadata": {},
   "outputs": [],
   "source": [
    "cat /lustre/scratch126/gsu/team112/personal/fs5/rvi_dev/krakenDBs/kraken_flu/library_download_viral_refseq_ftp/viral.1.1.genomic.fna \\\n",
    "${ALL_INF_LIB}/whole_genome_influenza.fna > \\\n",
    "${BASE_DIR}/tmp/combined_refseq_all_influenza.fna"
   ]
  },
  {
   "cell_type": "markdown",
   "id": "f3b79881-527b-40cc-ad46-e82c3feb062f",
   "metadata": {},
   "source": [
    "check numbers"
   ]
  },
  {
   "cell_type": "code",
   "execution_count": 58,
   "id": "0f91fa4d-42dc-4d01-a79d-030a951feb8a",
   "metadata": {},
   "outputs": [
    {
     "name": "stdout",
     "output_type": "stream",
     "text": [
      "/lustre/scratch126/gsu/team112/personal/fs5/rvi_dev/krakenDBs/kraken_flu/library_download_viral_refseq_ftp/viral.1.1.genomic.fna:18719\n",
      "/lustre/scratch126/gsu/team112/personal/fs5/rvi_dev/krakenDBs/kraken_flu//library_download_all_influenza_ncbi/whole_genome_influenza.fna:341264\n",
      "/lustre/scratch126/gsu/team112/personal/fs5/rvi_dev/krakenDBs/kraken_flu//tmp/combined_refseq_all_influenza.fna:359983\n"
     ]
    }
   ],
   "source": [
    "grep -c \"^>\" /lustre/scratch126/gsu/team112/personal/fs5/rvi_dev/krakenDBs/kraken_flu/library_download_viral_refseq_ftp/viral.1.1.genomic.fna \\\n",
    "${ALL_INF_LIB}/whole_genome_influenza.fna \\\n",
    "${BASE_DIR}/tmp/combined_refseq_all_influenza.fna"
   ]
  },
  {
   "cell_type": "markdown",
   "id": "017dd468-6be8-46bd-ac35-26f7465450c0",
   "metadata": {},
   "source": [
    "The kraken-flu tool currently expects the FASTA file to be called 'library.fna' as per kraken2 convention.   \n",
    "Provide a symlink under this name"
   ]
  },
  {
   "cell_type": "code",
   "execution_count": 59,
   "id": "d4c8308e-81ca-4979-a5e3-020510e737c1",
   "metadata": {},
   "outputs": [],
   "source": [
    "ln -s ${BASE_DIR}/tmp/combined_refseq_all_influenza.fna ${BASE_DIR}/tmp/library.fna"
   ]
  },
  {
   "cell_type": "markdown",
   "id": "f1a985a0-98cf-4785-9af2-76e4c4eaf4ba",
   "metadata": {},
   "source": [
    "### Create the segmented genome files\n",
    "Use the build function of kraken_flu to create the segment genome file.  \n",
    "The ```library_path``` is the tmp path used above to create the concatenated FASTA file. The kraken-flu tool expects the file to be called 'library.fna' hence the symlink.  \n",
    "\n",
    "The --acc2taxid parameter is needed in this case because the sequences from both resources do not have kraken2 taxids in the header yet.\n",
    "\n",
    "Path ``--taxonomy_path``` points to the NCBI download of the taxonomy files that was created earlier.\n"
   ]
  },
  {
   "cell_type": "code",
   "execution_count": 60,
   "id": "0b5286c3-87e4-437c-84b7-709155078aab",
   "metadata": {},
   "outputs": [
    {
     "name": "stdout",
     "output_type": "stream",
     "text": [
      "2024-01-17 18:33:00,317 writing modified FASTA file to /lustre/scratch126/gsu/team112/personal/fs5/rvi_dev/krakenDBs/kraken_flu//all_viral_db_2/library/library.fna\n",
      "2024-01-17 18:33:00,332 scanning file /lustre/scratch126/gsu/team112/personal/fs5/rvi_dev/krakenDBs/kraken_flu//tmp/library.fna for influenza viruses\n",
      "2024-01-17 18:33:08,283 done - found 254816 segment sequences in FASTA file\n",
      "2024-01-17 18:33:08,283 reading NCBI acc2taxid file to assign taxon IDs to NCBI IDs\n",
      "2024-01-17 18:38:44,576 done reading NCBI acc2taxid file\n",
      "2024-01-17 18:38:56,645 finished writing modified FASTA file\n",
      "2024-01-17 18:38:56,645 no prelim_map.txt file provided in inputs - nothing to do\n",
      "2024-01-17 18:38:57,207 writing modified names file to /lustre/scratch126/gsu/team112/personal/fs5/rvi_dev/krakenDBs/kraken_flu//all_viral_db_2/taxonomy/names.dmp\n",
      "2024-01-17 18:38:57,544 finished writing modified names file\n",
      "2024-01-17 18:38:57,996 writing modified nodes file to /lustre/scratch126/gsu/team112/personal/fs5/rvi_dev/krakenDBs/kraken_flu//all_viral_db_2/taxonomy/nodes.dmp\n",
      "2024-01-17 18:38:58,297 finished writing modified nodes file\n"
     ]
    }
   ],
   "source": [
    "~/kraken_flu/bin/kraken_flu build \\\n",
    "    --library_path ${BASE_DIR}/tmp/ \\\n",
    "    --taxonomy_path ${TAX_PATH}/taxonomy \\\n",
    "    --acc2tax_path ${TAX_PATH}/taxonomy/nucl_gb.accession2taxid \\\n",
    "    --out_dir ${ALL_VIRAL_DB_2}"
   ]
  },
  {
   "cell_type": "markdown",
   "id": "cabe98a1-c101-4ee0-b7ce-c09ffb7d3956",
   "metadata": {},
   "source": [
    "### add seqid2taxid file\n",
    "Provide as a symlink. Not clear why it is needed. All sequences in this file have a taxid already in the FASTA header but kraken2 insists to have this file"
   ]
  },
  {
   "cell_type": "code",
   "execution_count": 62,
   "id": "6cb38b40-8baa-4535-9c59-2226b21472ad",
   "metadata": {},
   "outputs": [],
   "source": [
    "ln -s ${TAX_PATH}/taxonomy/nucl_gb.accession2taxid ${ALL_VIRAL_DB_2}/taxonomy/nucl_gb.accession2taxid"
   ]
  },
  {
   "cell_type": "code",
   "execution_count": 63,
   "id": "e850d392-1c9c-45c7-a776-bd85044d5d98",
   "metadata": {},
   "outputs": [
    {
     "name": "stdout",
     "output_type": "stream",
     "text": [
      "/lustre/scratch126/gsu/team112/personal/fs5/rvi_dev/krakenDBs/kraken_flu//all_viral_db_2\n",
      "├── library\n",
      "│   └── library.fna\n",
      "└── taxonomy\n",
      "    ├── names.dmp\n",
      "    ├── nodes.dmp\n",
      "    └── nucl_gb.accession2taxid -> /lustre/scratch126/gsu/team112/personal/fs5/rvi_dev/krakenDBs/kraken_flu//taxonomy_download//taxonomy/nucl_gb.accession2taxid\n",
      "\n",
      "2 directories, 4 files\n"
     ]
    }
   ],
   "source": [
    "tree ${ALL_VIRAL_DB_2}"
   ]
  },
  {
   "cell_type": "markdown",
   "id": "78987128-b828-4002-b8c2-e904b6b6138c",
   "metadata": {},
   "source": [
    "### use kraken2-build to add the FASTA file to the library"
   ]
  },
  {
   "cell_type": "code",
   "execution_count": 64,
   "id": "3530841f-8451-443e-af24-f0bda9e8b866",
   "metadata": {},
   "outputs": [
    {
     "name": "stdout",
     "output_type": "stream",
     "text": [
      "Masking low-complexity regions of new file... done.\n",
      "Added \"/lustre/scratch126/gsu/team112/personal/fs5/rvi_dev/krakenDBs/kraken_flu//all_viral_db_2/library/library.fna\" to library (/lustre/scratch126/gsu/team112/personal/fs5/rvi_dev/krakenDBs/kraken_flu//all_viral_db_2)\n"
     ]
    }
   ],
   "source": [
    "kraken2-build \\\n",
    "    --add-to-library ${ALL_VIRAL_DB_2}/library/library.fna \\\n",
    "    --db ${ALL_VIRAL_DB_2}"
   ]
  },
  {
   "cell_type": "code",
   "execution_count": 65,
   "id": "6391daa0-0d26-4c91-87b5-df84f5707ad1",
   "metadata": {},
   "outputs": [
    {
     "name": "stdout",
     "output_type": "stream",
     "text": [
      "/lustre/scratch126/gsu/team112/personal/fs5/rvi_dev/krakenDBs/kraken_flu//all_viral_db_2\n",
      "├── library\n",
      "│   ├── added\n",
      "│   │   ├── 6a3Yssvbdw.fna\n",
      "│   │   ├── 6a3Yssvbdw.fna.masked\n",
      "│   │   └── prelim_map_smR_sIcs0L.txt\n",
      "│   └── library.fna\n",
      "└── taxonomy\n",
      "    ├── names.dmp\n",
      "    ├── nodes.dmp\n",
      "    └── nucl_gb.accession2taxid -> /lustre/scratch126/gsu/team112/personal/fs5/rvi_dev/krakenDBs/kraken_flu//taxonomy_download//taxonomy/nucl_gb.accession2taxid\n",
      "\n",
      "3 directories, 7 files\n"
     ]
    }
   ],
   "source": [
    "tree ${ALL_VIRAL_DB_2}"
   ]
  },
  {
   "cell_type": "markdown",
   "id": "b0f764d5-1816-4006-83a3-c1fc660d3cf7",
   "metadata": {},
   "source": [
    "remove the raw library.fna file to be on the safe side. Might not cause a problem but not sure. Move to ~/tmp for now"
   ]
  },
  {
   "cell_type": "code",
   "execution_count": 66,
   "id": "5159da26-f33c-49e6-a4f3-708b9b3dff97",
   "metadata": {},
   "outputs": [],
   "source": [
    "mv ${ALL_VIRAL_DB_2}/library/library.fna ~/tmp"
   ]
  },
  {
   "cell_type": "markdown",
   "id": "e773bfb7-0f05-43d1-bbbd-10b41d053120",
   "metadata": {},
   "source": [
    "### Build the final database"
   ]
  },
  {
   "cell_type": "code",
   "execution_count": 67,
   "id": "5ae0c2ba-020a-4012-bc5d-2d8357fa8ed6",
   "metadata": {},
   "outputs": [
    {
     "name": "stdout",
     "output_type": "stream",
     "text": [
      "Creating sequence ID to taxonomy ID map (step 1)...\n",
      "Found 6810/105167 targets, searched through 51312603 accession IDs...\r"
     ]
    },
    {
     "name": "stderr",
     "output_type": "stream",
     "text": [
      "IOPub message rate exceeded.\n",
      "The Jupyter server will temporarily stop sending output\n",
      "to the client in order to avoid crashing it.\n",
      "To change this limit, set the config variable\n",
      "`--ServerApp.iopub_msg_rate_limit`.\n",
      "\n",
      "Current values:\n",
      "ServerApp.iopub_msg_rate_limit=1000.0 (msgs/sec)\n",
      "ServerApp.rate_limit_window=3.0 (secs)\n",
      "\n"
     ]
    },
    {
     "name": "stdout",
     "output_type": "stream",
     "text": [
      "Found 10940/105167 targets, searched through 51352072 accession IDs...\r"
     ]
    },
    {
     "name": "stderr",
     "output_type": "stream",
     "text": [
      "IOPub message rate exceeded.\n",
      "The Jupyter server will temporarily stop sending output\n",
      "to the client in order to avoid crashing it.\n",
      "To change this limit, set the config variable\n",
      "`--ServerApp.iopub_msg_rate_limit`.\n",
      "\n",
      "Current values:\n",
      "ServerApp.iopub_msg_rate_limit=1000.0 (msgs/sec)\n",
      "ServerApp.rate_limit_window=3.0 (secs)\n",
      "\n"
     ]
    },
    {
     "name": "stdout",
     "output_type": "stream",
     "text": [
      "Found 40913/105167 targets, searched through 193246097 accession IDs...\r"
     ]
    },
    {
     "name": "stderr",
     "output_type": "stream",
     "text": [
      "IOPub message rate exceeded.\n",
      "The Jupyter server will temporarily stop sending output\n",
      "to the client in order to avoid crashing it.\n",
      "To change this limit, set the config variable\n",
      "`--ServerApp.iopub_msg_rate_limit`.\n",
      "\n",
      "Current values:\n",
      "ServerApp.iopub_msg_rate_limit=1000.0 (msgs/sec)\n",
      "ServerApp.rate_limit_window=3.0 (secs)\n",
      "\n"
     ]
    },
    {
     "name": "stdout",
     "output_type": "stream",
     "text": [
      "Found 64916/105167 targets, searched through 218429907 accession IDs...\r"
     ]
    },
    {
     "name": "stderr",
     "output_type": "stream",
     "text": [
      "IOPub message rate exceeded.\n",
      "The Jupyter server will temporarily stop sending output\n",
      "to the client in order to avoid crashing it.\n",
      "To change this limit, set the config variable\n",
      "`--ServerApp.iopub_msg_rate_limit`.\n",
      "\n",
      "Current values:\n",
      "ServerApp.iopub_msg_rate_limit=1000.0 (msgs/sec)\n",
      "ServerApp.rate_limit_window=3.0 (secs)\n",
      "\n"
     ]
    },
    {
     "name": "stdout",
     "output_type": "stream",
     "text": [
      "Found 96679/105167 targets, searched through 231143575 accession IDs...\r"
     ]
    },
    {
     "name": "stderr",
     "output_type": "stream",
     "text": [
      "IOPub message rate exceeded.\n",
      "The Jupyter server will temporarily stop sending output\n",
      "to the client in order to avoid crashing it.\n",
      "To change this limit, set the config variable\n",
      "`--ServerApp.iopub_msg_rate_limit`.\n",
      "\n",
      "Current values:\n",
      "ServerApp.iopub_msg_rate_limit=1000.0 (msgs/sec)\n",
      "ServerApp.rate_limit_window=3.0 (secs)\n",
      "\n"
     ]
    },
    {
     "name": "stdout",
     "output_type": "stream",
     "text": [
      "Found 105167/105167 targets, searched through 231179846 accession IDs, search complete.\n",
      "Sequence ID to taxonomy ID map complete. [2m8.721s]\n",
      "Estimating required capacity (step 2)...\n",
      "Estimated hash table requirement: 667696272 bytes\n",
      "Capacity estimation complete. [46.646s]\n",
      "Building database files (step 3)...\n",
      "Taxonomy parsed and converted.\n",
      "CHT created with 19 bits reserved for taxid.\n",
      "Completed processing of 359982 sequences, 1126088992 bp\n",
      "Writing data to disk...  complete.\n",
      "Database files completed. [4m19.520s]\n",
      "Database construction complete. [Total: 7m15.024s]\n"
     ]
    }
   ],
   "source": [
    "kraken2-build \\\n",
    "    --build \\\n",
    "    --db ${ALL_VIRAL_DB_2}"
   ]
  },
  {
   "cell_type": "markdown",
   "id": "72eea48a-312e-4a25-8e08-fd1f845365cc",
   "metadata": {},
   "source": [
    "### Test with simulated data"
   ]
  },
  {
   "cell_type": "code",
   "execution_count": 68,
   "id": "5f49be42-ee69-4cbc-b71f-6189a63a67c9",
   "metadata": {},
   "outputs": [],
   "source": [
    "export TEST_BASE_DIR_final_2=/lustre/scratch126/gsu/team112/personal/fs5/rvi_dev/krakenDBs/kraken_flu_test_final_2/"
   ]
  },
  {
   "cell_type": "code",
   "execution_count": 69,
   "id": "efe23840-4a0f-4233-b3ad-56e2e8e83fa3",
   "metadata": {},
   "outputs": [],
   "source": [
    "mkdir -p ${TEST_BASE_DIR_final_2}"
   ]
  },
  {
   "cell_type": "code",
   "execution_count": 70,
   "id": "d54fbd4f-eda5-45ec-af9a-abce24c0c494",
   "metadata": {},
   "outputs": [
    {
     "name": "stdout",
     "output_type": "stream",
     "text": [
      "Loading database information... done.\n",
      "6620 sequences (1.99 Mbp) processed in 0.266s (1492.9 Kseq/m, 447.86 Mbp/m).\n",
      "  6618 sequences classified (99.97%)\n",
      "  2 sequences unclassified (0.03%)\n"
     ]
    }
   ],
   "source": [
    "kraken2 \\\n",
    "    --db ${ALL_VIRAL_DB_2} \\\n",
    "    --output ${TEST_BASE_DIR_final_2}/output.kraken \\\n",
    "    --paired \\\n",
    "    --classified-out ${TEST_BASE_DIR_final_2}/class_seqs#.fq \\\n",
    "    --unclassified-out ${TEST_BASE_DIR_final_2}/unclass_seqs#.fq \\\n",
    "    --report ${TEST_BASE_DIR_final_2}/report.txt \\\n",
    "/lustre/scratch126/gsu/team112/personal/fs5/rvi_dev/sim_reads/art/mix/mix_of_all_01-1.fq \\\n",
    "/lustre/scratch126/gsu/team112/personal/fs5/rvi_dev/sim_reads/art/mix/mix_of_all_01-2.fq"
   ]
  },
  {
   "cell_type": "code",
   "execution_count": 71,
   "id": "ae4c40c9-acf4-473f-86b1-9983a38ae1fc",
   "metadata": {},
   "outputs": [
    {
     "name": "stdout",
     "output_type": "stream",
     "text": [
      "  0.03\t2\t2\tU\t0\tunclassified\n",
      " 99.97\t6618\t0\tR\t1\troot\n",
      " 99.97\t6618\t0\tD\t10239\t  Viruses\n",
      " 99.97\t6618\t0\tD1\t2559587\t    Riboviria\n",
      " 99.97\t6618\t0\tK\t2732396\t      Orthornavirae\n",
      " 69.91\t4628\t0\tP\t2497569\t        Negarnaviricota\n",
      " 39.43\t2610\t0\tP1\t2497571\t          Polyploviricotina\n",
      " 39.43\t2610\t0\tC\t2497577\t            Insthoviricetes\n",
      " 39.43\t2610\t0\tO\t2499411\t              Articulavirales\n",
      " 39.43\t2610\t0\tF\t11308\t                Orthomyxoviridae\n",
      " 25.53\t1690\t0\tG\t197911\t                  Alphainfluenzavirus\n",
      " 25.53\t1690\t0\tS\t2955291\t                    Alphainfluenzavirus influenzae\n",
      " 25.53\t1690\t1285\tS1\t11320\t                      Influenza A virus\n",
      "  4.27\t283\t137\tS2\t119210\t                        H3N2 subtype\n",
      "  1.59\t105\t105\tS3\t335341\t                          Influenza A virus (A/New York/392/2004(H3N2))\n",
      "  0.14\t9\t0\tS3\t1910719\t                          Influenza A virus (A/Rhode Island/29/2016(H3N2))\n",
      "  0.14\t9\t9\tS4\t3230699\t                            gi|1095416191|gb|KY003383|Influenza A virus (A/Rhode Island/29/2016(H3N2)) segment 7 matrix protein 2 (M2) and matrix protein 1 (M1) genes, complete cds\n",
      "  0.03\t2\t0\tS3\t1978707\t                          Influenza A virus (A/Santa Cruz do Sul/LACENRS-913/2011(H3N2))\n",
      "  0.03\t2\t2\tS4\t3237719\t                            gi|1181555991|gb|KY925025|Influenza A virus (A/Santa Cruz do Sul/LACENRS-913/2011(H3N2)) segment 1 polymerase PB2 (PB2) gene, complete cds\n",
      "  0.02\t1\t0\tS3\t1639304\t                          Influenza A virus (A/California/17/2014(H3N2))\n",
      "  0.02\t1\t1\tS4\t3180760\t                            gi|807068976|gb|KR057683|Influenza A virus (A/California/17/2014(H3N2)) segment 1 polymerase PB2 (PB2) gene, complete cds\n",
      "  0.02\t1\t0\tS3\t355486\t                          Influenza A virus (A/New York/518/1998(H3N2))\n",
      "  0.02\t1\t1\tS4\t3112152\t                            gi|82502355|gb|CY006482|Influenza A virus (A/New York/518/1998(H3N2)) segment 1, complete sequence\n",
      "  0.02\t1\t0\tS3\t383220\t                          Influenza A virus (A/Waikato/139/2003(H3N2))\n",
      "  0.02\t1\t1\tS4\t3117354\t                            gi|110333361|gb|CY012408|Influenza A virus (A/Waikato/139/2003(H3N2)) segment 4, complete sequence\n",
      "  0.02\t1\t0\tS3\t502055\t                          Influenza A virus (A/swine/Iowa/H02AS8/2002(H3N2))\n",
      "  0.02\t1\t1\tS4\t3140728\t                            gi|262475039|gb|GU135897|Influenza A virus (A/swine/Iowa/H02AS8/2002(H3N2)) segment 2 polymerase PB1 (PB1) gene, complete cds\n",
      "  0.02\t1\t0\tS3\t1731070\t                          Influenza A virus (A/Delaware/09/2015(H3N2))\n",
      "  0.02\t1\t1\tS4\t3184743\t                            gi|937142507|gb|KT835909|Influenza A virus (A/Delaware/09/2015(H3N2)) segment 2 polymerase PB1 (PB1) and PB1-F2 protein (PB1-F2) genes, complete cds\n",
      "  0.02\t1\t0\tS3\t353484\t                          Influenza A virus (A/Canterbury/270/2005(H3N2))\n",
      "  0.02\t1\t1\tS4\t3114296\t                            gi|87043110|gb|CY008658|Influenza A virus (A/Canterbury/270/2005(H3N2)) segment 2, complete sequence\n",
      "  0.02\t1\t0\tS3\t1517285\t                          Influenza A virus (A/Singapore/C2012.197/2012(H3N2))\n",
      "  0.02\t1\t1\tS4\t3175768\t                            gi|666879923|gb|KM070101|Influenza A virus (A/Singapore/C2012.197/2012(H3N2)) segment 8 nuclear export protein (NEP) and nonstructural protein 1 (NS1) genes, complete cds\n",
      "  0.02\t1\t0\tS3\t940821\t                          Influenza A virus (A/swine/QC/1840-2/2009(H3N2))\n",
      "  0.02\t1\t1\tS4\t3158364\t                            gi|319657006|gb|HQ825235|Influenza A virus (A/swine/QC/1840-2/2009(H3N2)) segment 4 hemagglutinin (HA) gene, complete cds\n",
      "  0.02\t1\t0\tS3\t1820539\t                          Influenza A virus (A/swine/Mexico/AVX13/2012(H3N2))\n",
      "  0.02\t1\t1\tS4\t3202664\t                            gi|1017035090|gb|KU976524|Influenza A virus (A/swine/Mexico/AVX13/2012(H3N2)) segment 4 hemagglutinin (HA) gene, complete cds\n",
      "  0.02\t1\t0\tS3\t311757\t                          Influenza A virus (A/New York/184/1999(H3N2))\n",
      "  0.02\t1\t1\tS4\t3109811\t                            gi|66473502|gb|CY001459|Influenza A virus (A/New York/184/1999(H3N2)) segment 2, complete sequence\n",
      "  0.02\t1\t0\tS3\t383055\t                          Influenza A virus (A/New York/714/1994(H3N2))\n",
      "  0.02\t1\t1\tS4\t3117537\t                            gi|110629278|gb|CY012560|Influenza A virus (A/New York/714/1994(H3N2)) segment 4, complete sequence\n",
      "  0.02\t1\t0\tS3\t2036952\t                          Influenza A virus (A/swine/North Carolina/A02219753/2017(H3N2))\n",
      "  0.02\t1\t1\tS4\t3244041\t                            gi|1327828375|gb|MG784624|Influenza A virus (A/swine/North Carolina/A02219753/2017(H3N2)) segment 3 polymerase PA (PA) and PA-X protein (PA-X) genes, complete cds\n",
      "  0.02\t1\t0\tS3\t1731897\t                          Influenza A virus (A/Virginia/37/2014(H3N2))\n",
      "  0.02\t1\t1\tS4\t3188702\t                            gi|937154001|gb|KT840285|Influenza A virus (A/Virginia/37/2014(H3N2)) segment 1 polymerase PB2 (PB2) gene, complete cds\n",
      "  0.02\t1\t0\tS3\t353348\t                          Influenza A virus (A/Canterbury/16/2004(H3N2))\n",
      "  0.02\t1\t1\tS4\t3113039\t                            gi|83752273|gb|CY007361|Influenza A virus (A/Canterbury/16/2004(H3N2)) segment 2, complete sequence\n",
      "  0.02\t1\t0\tS3\t1909953\t                          Influenza A virus (A/Hawaii/61/2016(H3N2))\n",
      "  0.02\t1\t1\tS4\t3225089\t                            gi|1073671226|gb|KX916859|Influenza A virus (A/Hawaii/61/2016(H3N2)) segment 3 polymerase PA (PA) and PA-X protein (PA-X) genes, complete cds\n",
      "  0.02\t1\t0\tS3\t586160\t                          Influenza A virus (A/Hong Kong/HKU22/2004(H3N2))\n",
      "  0.02\t1\t1\tS4\t3133201\t                            gi|225907955|gb|CY038624|Influenza A virus (A/Hong Kong/HKU22/2004(H3N2)) segment 7, complete sequence\n",
      "  0.02\t1\t0\tS3\t1515684\t                          Influenza A virus (A/swine/Guangxi/JGB4/2013(H3N2))\n",
      "  0.02\t1\t1\tS4\t3175230\t                            gi|664806187|gb|KM061019|Influenza A virus (A/swine/Guangxi/JGB4/2013(H3N2)) segment 6 neuraminidase (NA) gene, complete cds\n",
      "  0.02\t1\t0\tS3\t364138\t                          Influenza A virus (A/New York/540/1998(H3N2))\n",
      "  0.02\t1\t1\tS4\t3114004\t                            gi|86816427|gb|CY008966|Influenza A virus (A/New York/540/1998(H3N2)) segment 6, complete sequence\n",
      "  0.02\t1\t0\tS3\t1541155\t                          Influenza A virus (A/Quebec/26-281106/2006(H3N2))\n",
      "  0.02\t1\t1\tS4\t3177491\t                            gi|695308098|gb|KM438105|Influenza A virus (A/Quebec/26-281106/2006(H3N2)) segment 7 matrix protein 2 (M2) and matrix protein 1 (M1) genes, complete cds\n",
      "  0.02\t1\t0\tS3\t586210\t                          Influenza A virus (A/Hong Kong/HKU72/2005(H3N2))\n",
      "  0.02\t1\t1\tS4\t3137147\t                            gi|255529075|gb|CY043762|Influenza A virus (A/Hong Kong/HKU72/2005(H3N2)) segment 6, complete sequence\n",
      "  0.02\t1\t0\tS3\t383588\t                          Influenza A virus (A/Memphis/8/1988(H3N2))\n",
      "  0.02\t1\t1\tS4\t3115857\t                            gi|94959525|gb|CY010761|Influenza A virus (A/Memphis/8/1988(H3N2)) segment 3, complete sequence\n",
      "  0.02\t1\t0\tS3\t1517335\t                          Influenza A virus (A/Singapore/H2013.384/2013(H3N2))\n",
      "  0.02\t1\t1\tS4\t3175897\t                            gi|666880352|gb|KM070244|Influenza A virus (A/Singapore/H2013.384/2013(H3N2)) segment 3 polymerase PA (PA) and PA-X protein (PA-X) genes, complete cds\n",
      "  0.02\t1\t0\tS3\t1905820\t                          Influenza A virus (A/swine/Minnesota/A01781222/2016(H3N2))\n",
      "  0.02\t1\t1\tS4\t3238784\t                            gi|1196819315|gb|MF045192|Influenza A virus (A/swine/Minnesota/A01781222/2016(H3N2)) segment 5 nucleocapsid protein (NP) gene, complete cds\n",
      "  0.02\t1\t0\tS3\t353365\t                          Influenza A virus (A/Canterbury/109/2004(H3N2))\n",
      "  0.02\t1\t1\tS4\t3113384\t                            gi|84873106|gb|CY008002|Influenza A virus (A/Canterbury/109/2004(H3N2)) segment 1, complete sequence\n",
      "  0.02\t1\t0\tS3\t2015202\t                          Influenza A virus (A/swine/Minnesota/A02216466/2017(H3N2))\n",
      "  0.02\t1\t1\tS4\t3241207\t                            gi|1212090600|gb|MF375246|Influenza A virus (A/swine/Minnesota/A02216466/2017(H3N2)) segment 6 neuraminidase (NA) gene, complete cds\n",
      "  0.02\t1\t0\tS3\t1731642\t                          Influenza A virus (A/North Carolina/29/2015(H3N2))\n",
      "  0.02\t1\t1\tS4\t3192315\t                            gi|937166621|gb|KT843922|Influenza A virus (A/North Carolina/29/2015(H3N2)) segment 3 polymerase PA (PA) and PA-X protein (PA-X) genes, complete cds\n",
      "  0.02\t1\t0\tS3\t1348507\t                          Influenza A virus (A/swine/Henan/1/2010(H3N2))\n",
      "  0.02\t1\t1\tS4\t3168434\t                            gi|543869147|gb|KF550964|Influenza A virus (A/swine/Henan/1/2010(H3N2)) segment 2 polymerase PB1 (PB1) gene, complete cds\n",
      "  0.02\t1\t0\tS3\t1469644\t                          Influenza A virus (A/swine/Tochigi/14/2013(H3N2))\n",
      "  0.02\t1\t1\tS4\t3178615\t                            gi|745992817|gb|AB914508|Influenza A virus (A/swine/Tochigi/14/2013(H3N2)) viral cRNA, segment 4, complete sequence\n",
      "  0.02\t1\t0\tS3\t1788650\t                          Influenza A virus (A/Florida/81/2015(H3N2))\n",
      "  0.02\t1\t1\tS4\t3200483\t                            gi|984692141|gb|KU591090|Influenza A virus (A/Florida/81/2015(H3N2)) segment 7 matrix protein 2 (M2) and matrix protein 1 (M1) genes, complete cds\n",
      "  0.02\t1\t0\tS3\t1731044\t                          Influenza A virus (A/California/82/2015(H3N2))\n",
      "  0.02\t1\t1\tS4\t3191779\t                            gi|937164678|gb|KT843386|Influenza A virus (A/California/82/2015(H3N2)) segment 8 nuclear export protein (NEP) and nonstructural protein 1 (NS1) genes, complete cds\n",
      "  1.21\t80\t25\tS2\t114727\t                        H1N1 subtype\n",
      "  0.20\t13\t13\tS3\t641809\t                          Influenza A virus (A/California/07/2009(H1N1))\n",
      "  0.03\t2\t0\tS3\t978110\t                          Influenza A virus (A/India/GWL_DSC/2010(H1N1))\n",
      "  0.02\t1\t1\tS4\t3158492\t                            gi|323135528|gb|JF265678|Influenza A virus (A/India/GWL_DSC/2010(H1N1)) segment 1 polymerase PB2 (PB2) gene, complete cds\n",
      "  0.02\t1\t1\tS4\t3158736\t                            gi|328942923|gb|JF764085|Influenza A virus (A/India/GWL_DSC/2010(H1N1)) segment 2 polymerase PB1 (PB1) gene, complete cds; and nonfunctional PB1-F2 protein (PB1-F2) gene, complete sequence\n",
      "  0.03\t2\t0\tS3\t930810\t                          Influenza A virus (A/Jiangsu/S62/2009(H1N1))\n",
      "  0.02\t1\t1\tS4\t3157795\t                            gi|313105451|gb|HQ652619|Influenza A virus (A/Jiangsu/S62/2009(H1N1)) segment 3 polymerase PA (PA) gene, complete cds\n",
      "  0.02\t1\t1\tS4\t3157797\t                            gi|313105455|gb|HQ652621|Influenza A virus (A/Jiangsu/S62/2009(H1N1)) segment 2 polymerase PB1 (PB1) gene, complete cds; and nonfunctional PB1-F2 protein (PB1-F2) gene, complete sequence\n",
      "  0.02\t1\t0\tS3\t1501719\t                          Influenza A virus (A/Sri Lanka/11/2012(H1N1))\n",
      "  0.02\t1\t1\tS4\t3172284\t                            gi|649789473|gb|KJ856022|Influenza A virus (A/Sri Lanka/11/2012(H1N1)) segment 5 nucleocapsid protein (NP) gene, complete cds\n",
      "  0.02\t1\t0\tS3\t1672412\t                          Influenza A virus (A/Singapore/DMS1154/2010(H1N1))\n",
      "  0.02\t1\t1\tS4\t3183853\t                            gi|880803253|gb|KT181428|Influenza A virus (A/Singapore/DMS1154/2010(H1N1)) segment 6 neuraminidase (NA) gene, complete cds\n",
      "  0.02\t1\t0\tS3\t1348883\t                          Influenza A virus (A/India/Nag132467/2013(H1N1))\n",
      "  0.02\t1\t1\tS4\t3167887\t                            gi|523793975|gb|KF280733|Influenza A virus (A/India/Nag132467/2013(H1N1)) segment 2 polymerase PB1 (PB1) gene, complete cds; and nonfunctional PB1-F2 protein (PB1-F2) gene, complete sequence\n",
      "  0.02\t1\t0\tS3\t1305570\t                          Influenza A virus (A/Wisconsin/53/2009(H1N1))\n",
      "  0.02\t1\t1\tS4\t3166228\t                            gi|474460855|gb|KC782307|Influenza A virus (A/Wisconsin/53/2009(H1N1)) segment 3 polymerase PA (PA) and PA-X protein (PA-X) genes, complete cds\n",
      "  0.02\t1\t0\tS3\t1929430\t                          Influenza A virus (A/swine/France/35-160126/2016(H1N1))\n",
      "  0.02\t1\t1\tS4\t3234577\t                            gi|1127931437|gb|KY364138|Influenza A virus (A/swine/France/35-160126/2016(H1N1)) segment 6 neuraminidase (NA) gene, complete cds\n",
      "  0.02\t1\t0\tS3\t1820568\t                          Influenza A virus (A/swine/Mexico/AVX42/2012(H1N1))\n",
      "  0.02\t1\t1\tS4\t3202472\t                            gi|1017034519|gb|KU976599|Influenza A virus (A/swine/Mexico/AVX42/2012(H1N1)) segment 7 matrix protein 2 (M2) and matrix protein 1 (M1) genes, complete cds\n",
      "  0.02\t1\t0\tS3\t416705\t                          Influenza A virus (A/Memphis/38/1983(H1N1))\n",
      "  0.02\t1\t1\tS4\t3122662\t                            gi|120433992|gb|CY019041|Influenza A virus (A/Memphis/38/1983(H1N1)) segment 8, complete sequence\n",
      "  0.02\t1\t0\tS3\t1672522\t                          Influenza A virus (A/Singapore/DMS35/2009(H1N1))\n",
      "  0.02\t1\t1\tS4\t3182995\t                            gi|880801159|gb|KT181110|Influenza A virus (A/Singapore/DMS35/2009(H1N1)) segment 4 hemagglutinin (HA) gene, complete cds\n",
      "  0.02\t1\t0\tS3\t752156\t                          Influenza A virus (A/Wisconsin/629-D02442/2009(H1N1))\n",
      "  0.02\t1\t1\tS4\t3150115\t                            gi|295843642|gb|CY063242|Influenza A virus (A/Wisconsin/629-D02442/2009(H1N1)) segment 1, complete sequence\n",
      "  0.02\t1\t0\tS3\t1910095\t                          Influenza A virus (A/New York/79/2016(H1N1))\n",
      "  0.02\t1\t1\tS4\t3224136\t                            gi|1073667698|gb|KX915802|Influenza A virus (A/New York/79/2016(H1N1)) segment 2 polymerase PB1 (PB1) gene, complete cds; and PB1-F2 gene, complete sequence\n",
      "  0.02\t1\t0\tS3\t1050899\t                          Influenza A virus (A/Tula/CRIE-SIA/2011(H1N1))\n",
      "  0.02\t1\t1\tS4\t3159244\t                            gi|339518832|gb|JN185095|Influenza A virus (A/Tula/CRIE-SIA/2011(H1N1)) segment 6 neuraminidase (NA) gene, complete cds\n",
      "  0.02\t1\t0\tS3\t1501722\t                          Influenza A virus (A/Sri Lanka/19/2012(H1N1))\n",
      "  0.02\t1\t1\tS4\t3172270\t                            gi|649789352|gb|KJ856047|Influenza A virus (A/Sri Lanka/19/2012(H1N1)) segment 7 matrix protein 2 (M2) and matrix protein 1 (M1) genes, complete cds\n",
      "  0.02\t1\t0\tS3\t1501724\t                          Influenza A virus (A/Sri Lanka/19838/2010(H1N1))\n",
      "  0.02\t1\t1\tS4\t3172260\t                            gi|649789257|gb|KJ856060|Influenza A virus (A/Sri Lanka/19838/2010(H1N1)) segment 5 nucleocapsid protein (NP) gene, complete cds\n",
      "  0.02\t1\t0\tS3\t710662\t                          Influenza A virus (A/Kurgan/01/2009(H1N1))\n",
      "  0.02\t1\t1\tS4\t3144207\t                            gi|284222777|gb|GU480947|Influenza A virus (A/Kurgan/01/2009(H1N1)) segment 8 nuclear export protein (NEP) and nonstructural protein 1 (NS1) genes, complete cds\n",
      "  0.02\t1\t0\tS3\t1396475\t                          Influenza A virus (A/Santa Cruz/995/2010(H1N1))\n",
      "  0.02\t1\t1\tS4\t3169418\t                            gi|546236516|gb|KF612060|Influenza A virus (A/Santa Cruz/995/2010(H1N1)) segment 2 polymerase PB1 (PB1) gene, complete cds; and nonfunctional PB1-F2 protein (PB1-F2) gene, complete sequence\n",
      "  0.02\t1\t0\tS3\t1638892\t                          Influenza A virus (A/India/Pun151245/2015(H1N1))\n",
      "  0.02\t1\t1\tS4\t3181004\t                            gi|814945442|gb|KR052648|Influenza A virus (A/India/Pun151245/2015(H1N1)) segment 7 matrix protein 2 (M2) and matrix protein 1 (M1) genes, complete cds\n",
      "  0.02\t1\t0\tS3\t1305094\t                          Influenza A virus (A/Colorado/02/2010(H1N1))\n",
      "  0.02\t1\t1\tS4\t3165519\t                            gi|474455961|gb|KC780224|Influenza A virus (A/Colorado/02/2010(H1N1)) segment 4 hemagglutinin (HA) gene, complete cds\n",
      "  0.02\t1\t0\tS3\t1210217\t                          Influenza A virus (A/Singapore/GP413/2010(H1N1))\n",
      "  0.02\t1\t1\tS4\t3162622\t                            gi|399224256|gb|JX309035|Influenza A virus (A/Singapore/GP413/2010(H1N1)) segment 6 neuraminidase (NA) gene, complete cds\n",
      "  0.02\t1\t0\tS3\t679870\t                          Influenza A virus (A/Wisconsin/629-S0220/2009(H1N1))\n",
      "  0.02\t1\t1\tS4\t3141781\t                            gi|268634935|gb|CY051342|Influenza A virus (A/Wisconsin/629-S0220/2009(H1N1)) segment 1, complete sequence\n",
      "  0.02\t1\t0\tS3\t723731\t                          Influenza A virus (A/Wisconsin/629-D00938/2009(H1N1))\n",
      "  0.02\t1\t1\tS4\t3147954\t                            gi|292495798|gb|CY058682|Influenza A virus (A/Wisconsin/629-D00938/2009(H1N1)) segment 2, complete sequence\n",
      "  0.02\t1\t0\tS3\t1654287\t                          Influenza A virus (A/swine/Poland/16315/2011(H1N1))\n",
      "  0.02\t1\t1\tS4\t3181648\t                            gi|827498261|gb|KR700587|Influenza A virus (A/swine/Poland/16315/2011(H1N1)) segment 7 matrix protein 2 (M2) and matrix protein 1 (M1) genes, complete cds\n",
      "  0.02\t1\t0\tS3\t723783\t                          Influenza A virus (A/Wisconsin/629-D00459/2009(H1N1))\n",
      "  0.02\t1\t1\tS4\t3147715\t                            gi|291621109|gb|CY058412|Influenza A virus (A/Wisconsin/629-D00459/2009(H1N1)) segment 4, complete sequence\n",
      "  0.02\t1\t0\tS3\t1086543\t                          Influenza A virus (A/swine/Holguin/121/2010(H1N1))\n",
      "  0.02\t1\t1\tS4\t3159807\t                            gi|347298871|gb|HE584745|Influenza A virus (A/swine/Holguin/121/2010(H1N1)) segment 1, complete genome\n",
      "  0.02\t1\t0\tS3\t1490473\t                          Influenza A virus (A/swine/Guangxi/1/2013(H1N1))\n",
      "  0.02\t1\t1\tS4\t3171733\t                            gi|635231419|gb|KJ725061|Influenza A virus (A/swine/Guangxi/1/2013(H1N1)) segment 3 polymerase PA (PA) gene, complete cds\n",
      "  0.02\t1\t0\tS3\t761202\t                          Influenza A virus (A/Blagovechensk/01/2009(H1N1))\n",
      "  0.02\t1\t1\tS4\t3149498\t                            gi|295687151|gb|HM173605|Influenza A virus (A/Blagovechensk/01/2009(H1N1)) segment 2 polymerase PB1 (PB1) gene, complete cds; and nonfunctional PB1-F2 protein (PB1-F2) gene, complete sequence\n",
      "  0.02\t1\t0\tS3\t1193849\t                          Influenza A virus (A/swine/Illinois/A01202615/2011(H1N1))\n",
      "  0.02\t1\t1\tS4\t3165167\t                            gi|451330111|gb|KC508545|Influenza A virus (A/swine/Illinois/A01202615/2011(H1N1)) segment 1 polymerase PB2 (PB2) gene, complete cds\n",
      "  0.02\t1\t0\tS3\t1511957\t                          Influenza A virus (A/swine/Guangdong/NS2801/2010(H1N1))\n",
      "  0.02\t1\t1\tS4\t3172679\t                            gi|662489692|gb|KM027509|Influenza A virus (A/swine/Guangdong/NS2801/2010(H1N1)) segment 2 polymerase PB1 (PB1) gene, complete cds; and nonfunctional PB1-F2 protein (PB1-F2) gene, complete sequence\n",
      "  0.02\t1\t0\tS3\t2024566\t                          Influenza A virus (A/Mexico/4431/2016(H1N1))\n",
      "  0.02\t1\t1\tS4\t3241387\t                            gi|1234112124|gb|MF593493|Influenza A virus (A/Mexico/4431/2016(H1N1)) segment 4 hemagglutinin (HA) gene, complete cds\n",
      "  0.02\t1\t0\tS3\t856442\t                          Influenza A virus (A/Odense/INS307/2009(H1N1))\n",
      "  0.02\t1\t1\tS4\t3154676\t                            gi|304419532|gb|CY072246|Influenza A virus (A/Odense/INS307/2009(H1N1)) segment 4, complete sequence\n",
      "  0.02\t1\t0\tS3\t1654120\t                          Influenza A virus (A/swine/England/041313/2013(H1N1))\n",
      "  0.02\t1\t1\tS4\t3181607\t                            gi|827497880|gb|KR700431|Influenza A virus (A/swine/England/041313/2013(H1N1)) segment 6 neuraminidase (NA) gene, complete cds\n",
      "  0.02\t1\t0\tS3\t1262170\t                          Influenza A virus (A/swine/Minnesota/A01279213/2012(H1N1))\n",
      "  0.02\t1\t1\tS4\t3167570\t                            gi|510791244|gb|KF026663|Influenza A virus (A/swine/Minnesota/A01279213/2012(H1N1)) segment 3 polymerase PA (PA) and PA-X protein (PA-X) genes, complete cds\n",
      "  0.02\t1\t0\tS3\t934287\t                          Influenza A virus (A/swine/Jangsu/38/2010(H1N1))\n",
      "  0.02\t1\t1\tS4\t3157845\t                            gi|314913791|gb|HQ695938|Influenza A virus (A/swine/Jangsu/38/2010(H1N1)) segment 4 hemagglutinin (HA) gene, complete cds\n",
      "  0.02\t1\t0\tS3\t934288\t                          Influenza A virus (A/swine/Jangsu/434/2010(H1N1))\n",
      "  0.02\t1\t1\tS4\t3157851\t                            gi|314913803|gb|HQ695986|Influenza A virus (A/swine/Jangsu/434/2010(H1N1)) segment 4 hemagglutinin (HA) gene, complete cds\n",
      "  0.02\t1\t0\tS3\t1151789\t                          Influenza A virus (A/swine/Shandong/327/2010(H1N1))\n",
      "  0.02\t1\t1\tS4\t3161722\t                            gi|380719787|gb|JQ695871|Influenza A virus (A/swine/Shandong/327/2010(H1N1)) segment 4 hemagglutinin (HA) gene, complete cds\n",
      "  0.02\t1\t0\tS3\t1841092\t                          Influenza A virus (A/California/04-224-MA/2009(H1N1))\n",
      "  0.02\t1\t1\tS4\t3204056\t                            gi|1027920937|gb|KX136298|Influenza A virus (A/California/04-224-MA/2009(H1N1)) segment 6 neuraminidase (NA) gene, complete cds\n",
      "  0.02\t1\t0\tS3\t679811\t                          Influenza A virus (A/Wisconsin/629-D01903/2009(H1N1))\n",
      "  0.02\t1\t1\tS4\t3141437\t                            gi|268634108|gb|CY050998|Influenza A virus (A/Wisconsin/629-D01903/2009(H1N1)) segment 1, complete sequence\n",
      "  0.02\t1\t0\tS3\t1501739\t                          Influenza A virus (A/Sri Lanka/22700/2010(H1N1))\n",
      "  0.02\t1\t1\tS4\t3172133\t                            gi|649788526|gb|KJ856192|Influenza A virus (A/Sri Lanka/22700/2010(H1N1)) segment 4 hemagglutinin (HA) gene, complete cds\n",
      "  0.02\t1\t0\tS3\t1987466\t                          Influenza A virus (A/swine/Rancagua/VN1401-1459/2015(H1N1))\n",
      "  0.02\t1\t1\tS4\t3239091\t                            gi|1200764710|gb|MF099403|Influenza A virus (A/swine/Rancagua/VN1401-1459/2015(H1N1)) segment 2 polymerase PB1 (PB1) gene, complete cds; and nonfunctional PB1-F2 protein (PB1-F2) gene, complete sequence\n",
      "  0.14\t9\t2\tS2\t114728\t                        H1N2 subtype\n",
      "  0.06\t4\t4\tS3\t1512191\t                          Influenza A virus (A/swine/Guangxi/2920/2011(H1N2))\n",
      "  0.02\t1\t1\tS3\t1380263\t                          Influenza A virus (A/swine/Missouri/A01432837/2013(H1N2))\n",
      "  0.02\t1\t1\tS3\t1755985\t                          Influenza A virus (A/swine/North Carolina/A01945748/2015(H1N2))\n",
      "  0.02\t1\t1\tS3\t1654149\t                          Influenza A virus (A/swine/England/61470/2013(H1N2))\n",
      "  0.05\t3\t1\tS2\t102793\t                        H5N1 subtype\n",
      "  0.02\t1\t0\tS3\t496757\t                          Influenza A virus (A/duck/Hunan/1386/2003(H5N1))\n",
      "  0.02\t1\t1\tS4\t3129058\t                            gi|169124899|gb|CY029309|Influenza A virus (A/duck/Hunan/1386/2003(H5N1)) segment 6 sequence\n",
      "  0.02\t1\t0\tS3\t762385\t                          Influenza A virus (A/chicken/Henan/A-7/2006(H5N1))\n",
      "  0.02\t1\t1\tS4\t3150433\t                            gi|295916072|gb|HM172291|Influenza A virus (A/chicken/Henan/A-7/2006(H5N1)) segment 8 nuclear export protein (NEP) and nonstructural protein 1 (NS1) genes, complete cds\n",
      "  0.03\t2\t1\tS2\t102796\t                        H9N2 subtype\n",
      "  0.02\t1\t1\tS3\t1870773\t                          Influenza A virus (A/turkey/Poland/14/2013(H9N2))\n",
      "  0.02\t1\t1\tS2\t3264035\t                        gi|1409673961|gb|MH540855|Influenza A virus (A/Maine/30/2018(H3N2)) segment 6 neuraminidase (NA) gene, complete cds\n",
      "  0.02\t1\t0\tS2\t142951\t                        H12N5 subtype\n",
      "  0.02\t1\t1\tS3\t908644\t                          Influenza A virus (A/mallard/Washington/44338-195/2007(H12N5))\n",
      "  0.02\t1\t1\tS2\t3262017\t                        gi|1395955133|gb|MH446964|Influenza A virus (A/Wisconsin/87/2018(H1N1)) segment 4 hemagglutinin (HA) gene, complete cds\n",
      "  0.02\t1\t1\tS2\t3317949\t                        gi|1675503025|gb|MN003682|Influenza A virus (A/Delaware/23/2019(H1N1)) segment 3 polymerase PA (PA) and PA-X protein (PA-X) genes, complete cds\n",
      "  0.02\t1\t1\tS2\t3317929\t                        gi|1675502977|gb|MN003662|Influenza A virus (A/Connecticut/24/2019(H1N1)) segment 3 polymerase PA (PA) and PA-X protein (PA-X) genes, complete cds\n",
      "  0.02\t1\t1\tS2\t3307318\t                        gi|1613884441|gb|MK786141|Influenza A virus (A/Ohio/8316/2019(H3N2)) segment 2 polymerase PB1 (PB1) and PB1-F2 protein (PB1-F2) genes, complete cds\n",
      "  0.02\t1\t1\tS2\t3334788\t                        gi|1765908924|gb|MN569899|Influenza A virus (A/Newcastle/610/2017(H3N2)) segment 8 nuclear export protein (NEP) and nonstructural protein 1 (NS1) genes, complete cds\n",
      "  0.02\t1\t1\tS2\t3335085\t                        gi|1765909667|gb|MN570196|Influenza A virus (A/Perth/341/2017(H3N2)) segment 3 polymerase PA (PA) and PA-X protein (PA-X) genes, complete cds\n",
      "  0.02\t1\t1\tS2\t3314352\t                        gi|1659075273|gb|MK960552|Influenza A virus (A/Illinois/9361/2019(H3N2)) segment 8 nuclear export protein (NEP) and nonstructural protein 1 (NS1) genes, complete cds\n",
      "  0.02\t1\t1\tS2\t3330638\t                        gi|1730278870|gb|MN372392|Influenza A virus (A/Singapore/G2-26.1/2014(H3N2)) segment 6 neuraminidase (NA) gene, complete cds\n",
      "  0.02\t1\t0\tS2\t299327\t                        H4N2 subtype\n",
      "  0.02\t1\t1\tS3\t370169\t                          Influenza A virus (A/mallard/Ohio/97/1989(H4N2))\n",
      "  0.02\t1\t0\tS2\t222769\t                        H6N6 subtype\n",
      "  0.02\t1\t1\tS3\t1454277\t                          Influenza A virus (A/chicken/Guangxi/S4029/2010(H6N6))\n",
      "  0.02\t1\t1\tS2\t3338733\t                        gi|1765918788|gb|MN573844|Influenza A virus (A/Victoria/688/2017(H3N2)) segment 3 polymerase PA (PA) and PA-X protein (PA-X) genes, complete cds\n",
      "  0.02\t1\t1\tS2\t3263936\t                        gi|1409673602|gb|MH540654|Influenza A virus (A/New York/35/2018(H1N1)) segment 3 polymerase PA (PA) and PA-X protein (PA-X) genes, complete cds\n",
      "  0.02\t1\t1\tS2\t3319979\t                        gi|1682000089|gb|MN061208|Influenza A virus (A/Vladimir/87/2019(H3N2)) segment 1 polymerase PB2 (PB2) gene, complete cds\n",
      "  0.02\t1\t1\tS2\t3285304\t                        gi|1547184119|gb|MK366937|Influenza A virus (A/swine/Klein Wanzleben/17303/2013(H1N1)) segment 6 neuraminidase (NA) gene, complete cds\n",
      "  0.02\t1\t1\tS2\t3359723\t                        gi|1830626346|gb|MT331013|Influenza A virus (A/Louisiana/12/2020(H1N1)) segment 1 polymerase PB2 (PB2) gene, complete cds\n",
      "  0.02\t1\t1\tS2\t3300558\t                        gi|1597257908|gb|MK676558|Influenza A virus (A/Maine/06/2019(H1N1)) segment 4 hemagglutinin (HA) gene, complete cds\n",
      "  0.02\t1\t1\tS2\t3300443\t                        gi|1597256991|gb|MK676443|Influenza A virus (A/Florida/07/2019(H1N1)) segment 3 polymerase PA (PA) and PA-X protein (PA-X) genes, complete cds\n",
      "  0.02\t1\t1\tS2\t3262483\t                        gi|1408058524|gb|MH328407|Influenza A virus (A/Taiwan/00582/2011(H1N1)) segment 2 polymerase PB1 (PB1) gene, complete cds; and nonfunctional PB1-F2 protein (PB1-F2) gene, complete sequence\n",
      "  0.02\t1\t1\tS2\t3359376\t                        gi|1830625464|gb|MT330642|Influenza A virus (A/Arkansas/14/2020(H1N1)) segment 6 neuraminidase (NA) gene, complete cds\n",
      "  0.02\t1\t1\tS2\t3300181\t                        gi|1594664955|gb|MK651489|Influenza A virus (A/swine/Iowa/A02256794/2018(H1N1)) segment 3 polymerase PA (PA) and PA-X protein (PA-X) genes, complete cds\n",
      "  0.02\t1\t1\tS2\t3247826\t                        gi|1365409833|gb|MH079657|Influenza A virus (A/Colorado/06/2018(H1N1)) segment 2 polymerase PB1 (PB1) gene, complete cds; and nonfunctional PB1-F2 protein (PB1-F2) gene, complete sequence\n",
      "  0.02\t1\t1\tS2\t3280531\t                        gi|1540595883|gb|MK328698|Influenza A virus (A/swine/Manitoba/DM_18/2017(H3N2)) segment 3 polymerase PA (PA) and PA-X protein (PA-X) genes, complete cds\n",
      "  0.02\t1\t1\tS2\t3299459\t                        gi|1593225676|gb|MK640714|Influenza A virus (A/China/38887/2012(H3N2)) segment 6 neuraminidase (NA) gene, complete cds\n",
      "  0.02\t1\t1\tS2\t3338759\t                        gi|1765918854|gb|MN573870|Influenza A virus (A/Victoria/691/2017(H3N2)) segment 1 polymerase PB2 (PB2) gene, complete cds\n",
      "  0.02\t1\t0\tS2\t119221\t                        H5N3 subtype\n",
      "  0.02\t1\t1\tS3\t670756\t                          Influenza A virus (A/duck/France/06436/2006(H5N3))\n",
      "  0.02\t1\t1\tS2\t102800\t                        H4N6 subtype\n",
      " 13.90\t920\t0\tG\t197912\t                  Betainfluenzavirus\n",
      " 13.90\t920\t0\tS\t2955465\t                    Betainfluenzavirus influenzae\n",
      " 13.90\t920\t304\tS1\t11520\t                      Influenza B virus\n",
      "  9.18\t608\t0\tS2\t518987\t                        Influenza B virus (B/Lee/1940)\n",
      "  1.81\t120\t120\tS3\t3108281\t                          NC_002207.1 Influenza B virus (B/Lee/1940) segment 4, complete sequence\n",
      "  1.66\t110\t110\tS3\t3108309\t                          NC_002205.1 Influenza B virus (B/Lee/1940) segment 2, complete sequence\n",
      "  1.51\t100\t100\tS3\t3108278\t                          NC_002209.1 Influenza B virus (B/Lee/1940) segment 6, complete sequence\n",
      "  1.42\t94\t94\tS3\t3108279\t                          NC_002204.1 Influenza B virus RNA 1, complete sequence\n",
      "  0.95\t63\t63\tS3\t3108294\t                          NC_002206.1 Influenza B virus (B/Lee/1940) segment 3, complete sequence\n",
      "  0.73\t48\t48\tS3\t3108277\t                          NC_002208.1 Influenza B virus (B/Lee/1940) segment 5, complete sequence\n",
      "  0.73\t48\t48\tS3\t3108308\t                          NC_002211.1 Influenza B virus (B/Lee/1940) segment 8, complete sequence\n",
      "  0.38\t25\t25\tS3\t3108280\t                          NC_002210.1 Influenza B virus (B/Lee/1940) segment 7, complete sequence\n",
      "  0.02\t1\t1\tS2\t3266584\t                        gi|1418610428|gb|MH584597|Influenza B virus (B/Michigan/30/2018) segment 8 nuclear export protein (NEP) and nonstructural protein 1 (NS1) genes, complete cds\n",
      "  0.02\t1\t0\tS2\t444325\t                        Influenza B virus (B/Russia/69)\n",
      "  0.02\t1\t1\tS3\t3124521\t                          gi|148509315|gb|EF626643|Influenza B virus (B/Russia/69) segment 2 polymerase PB2 (PB2) gene, complete cds\n",
      "  0.02\t1\t0\tS2\t408921\t                        Influenza B virus (B/Houston/B850/2005)\n",
      "  0.02\t1\t1\tS3\t3122058\t                          gi|119515728|gb|CY018348|Influenza B virus (B/Houston/B850/2005) segment 2, complete sequence\n",
      "  0.02\t1\t1\tS2\t3346237\t                        gi|1798038239|gb|MN949665|Influenza B virus (B/Louisiana/40/2019) segment 5 nucleoprotein (NP) gene, complete cds\n",
      "  0.02\t1\t1\tS2\t3340039\t                        gi|1767654533|gb|MN589196|Influenza B virus (B/Singapore/DMS2160/2012) segment 1 polymerase PB1 (PB1) gene, complete cds\n",
      "  0.02\t1\t0\tS2\t416662\t                        Influenza B virus (B/Hong Kong/167/2002)\n",
      "  0.02\t1\t1\tS3\t3122368\t                          gi|119516484|gb|CY018674|Influenza B virus (B/Hong Kong/167/2002) segment 3, complete sequence\n",
      "  0.02\t1\t0\tS2\t1884006\t                        Influenza B virus (B/Texas/25/2016)\n",
      "  0.02\t1\t1\tS3\t3221639\t                          gi|1048090358|gb|KX611895|Influenza B virus (B/Texas/25/2016) segment 7 matrix protein 1 (M1) and BM2 protein (BM2) genes, complete cds\n",
      "  0.02\t1\t0\tS2\t416664\t                        Influenza B virus (B/Chile/3162/2002)\n",
      "  0.02\t1\t1\tS3\t3123063\t                          gi|125663222|gb|CY019582|Influenza B virus (B/Chile/3162/2002) segment 5, complete sequence\n",
      " 30.48\t2018\t0\tP1\t2497570\t          Haploviricotina\n",
      " 30.48\t2018\t0\tC\t2497574\t            Monjiviricetes\n",
      " 30.48\t2018\t0\tO\t11157\t              Mononegavirales\n",
      " 30.48\t2018\t0\tF\t11244\t                Pneumoviridae\n",
      " 30.48\t2018\t2\tG\t1868215\t                  Orthopneumovirus\n",
      " 15.24\t1009\t0\tS\t3049954\t                    Orthopneumovirus hominis\n",
      " 15.24\t1009\t1009\tS1\t11250\t                      Human orthopneumovirus\n",
      " 15.21\t1007\t0\tS\t3050248\t                    Orthopneumovirus bovis\n",
      " 15.21\t1007\t0\tS1\t11246\t                      Bovine orthopneumovirus\n",
      " 15.21\t1007\t1007\tS2\t12814\t                        Respiratory syncytial virus\n",
      " 30.06\t1990\t0\tP\t2732408\t        Pisuviricota\n",
      " 30.06\t1990\t0\tC\t2732506\t          Pisoniviricetes\n",
      " 30.06\t1990\t0\tO\t76804\t            Nidovirales\n",
      " 30.06\t1990\t0\tO1\t2499399\t              Cornidovirineae\n",
      " 30.06\t1990\t0\tF\t11118\t                Coronaviridae\n",
      " 30.06\t1990\t0\tF1\t2501931\t                  Orthocoronavirinae\n",
      " 30.06\t1990\t0\tG\t694002\t                    Betacoronavirus\n",
      " 30.06\t1990\t0\tG1\t2509511\t                      Sarbecovirus\n",
      " 30.06\t1990\t0\tS\t694009\t                        Severe acute respiratory syndrome-related coronavirus\n",
      " 30.06\t1990\t1990\tS1\t2697049\t                          Severe acute respiratory syndrome coronavirus 2\n"
     ]
    }
   ],
   "source": [
    "cat ${TEST_BASE_DIR_final_2}/report.txt "
   ]
  },
  {
   "cell_type": "raw",
   "id": "c53ae7ae-f5c8-4607-9794-24ee2528fe41",
   "metadata": {},
   "source": [
    "# Notes on NCBI Virus resource\n",
    "The FTP site used here (https://ftp.ncbi.nih.gov/genomes/INFLUENZA/) has not been updated since Oct 2020.  \n",
    "NCBI has a new virus site here: https://www.ncbi.nlm.nih.gov/labs/virus/vssi/#/\n",
    "But his is a web tool to query and download data, which is not ideal for our purposes.\n",
    "\n",
    "I have sent an email to the NCBI helpdesk for clarification on what we should be using.\n",
    "\n",
    "Here is a post showing how to programmatically interact with the new NCBI Virus site to obtain sequences:  \n",
    "https://www.biostars.org/p/9562294/   \n",
    "We could use a hybrid approach where the bulk of the sequence data is from the old FTP site and we use the new site to obtain regular updates.\n"
   ]
  }
 ],
 "metadata": {
  "kernelspec": {
   "display_name": "Bash",
   "language": "bash",
   "name": "bash"
  },
  "language_info": {
   "codemirror_mode": "shell",
   "file_extension": ".sh",
   "mimetype": "text/x-sh",
   "name": "bash"
  }
 },
 "nbformat": 4,
 "nbformat_minor": 5
}
