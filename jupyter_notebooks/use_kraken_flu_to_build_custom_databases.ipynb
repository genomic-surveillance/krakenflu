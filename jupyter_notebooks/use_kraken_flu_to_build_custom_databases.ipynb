{
 "cells": [
  {
   "cell_type": "markdown",
   "id": "449d2875-90d1-4be3-b171-504793393b8e",
   "metadata": {},
   "source": [
    "# Build custom databases with segmented flu genomes using kraken_flu utility\n",
    "A new utilty [kraken_flu](https://gitlab.internal.sanger.ac.uk/malariagen1/misc_utils/kraken_flu) was created to generate Kraken2 databases with segmented flu genomes from any set of input files (either from kraken2 or directly from NCBI).\n",
    "\n",
    "The tool identifies influenza A H1N1, A H3N2 and B in the genome fasta file and creates new artificial taxa in the taxonomy files of the database build. Each segment of any of the viruses of interest is assign the original whole genome as the parent and will be listed as a new taxon in the Kraken2 output files."
   ]
  },
  {
   "cell_type": "markdown",
   "id": "8b3809bc-5157-4cf4-9bdf-d69662081a87",
   "metadata": {},
   "source": [
    "# install the kraken_flu tool\n",
    "The tool can be installed from local gitlab. Creating a venv for it."
   ]
  },
  {
   "cell_type": "code",
   "execution_count": 27,
   "id": "cfed0e0a-8a1c-45e2-9eac-d9b206f74337",
   "metadata": {
    "collapsed": true,
    "jupyter": {
     "outputs_hidden": true
    }
   },
   "outputs": [
    {
     "name": "stdout",
     "output_type": "stream",
     "text": [
      "Collecting kraken_flu@ git+ssh://****@gitlab.internal.sanger.ac.uk/malariagen1/misc_utils/kraken_flu.git\n",
      "  Cloning ssh://****@gitlab.internal.sanger.ac.uk/malariagen1/misc_utils/kraken_flu.git to /tmp/pip-install-1czikc84/kraken-flu_e04ea4d0e306496fadd281fe42d9687d\n",
      "  Running command git clone --filter=blob:none --quiet 'ssh://****@gitlab.internal.sanger.ac.uk/malariagen1/misc_utils/kraken_flu.git' /tmp/pip-install-1czikc84/kraken-flu_e04ea4d0e306496fadd281fe42d9687d\n",
      "  Resolved ssh://****@gitlab.internal.sanger.ac.uk/malariagen1/misc_utils/kraken_flu.git to commit 277e12048c3b39c50d23bcc55f7573051872efc3\n",
      "  Installing build dependencies ... \u001b[?25ldone\n",
      "\u001b[?25h  Getting requirements to build wheel ... \u001b[?25ldone\n",
      "\u001b[?25h  Preparing metadata (pyproject.toml) ... \u001b[?25ldone\n",
      "\u001b[?25hRequirement already satisfied: pytest>=6.2.2 in /nfs/users/nfs_f/fs5/kraken_flu/lib/python3.11/site-packages (from kraken_flu@ git+ssh://git@gitlab.internal.sanger.ac.uk/malariagen1/misc_utils/kraken_flu.git) (7.4.3)\n",
      "Requirement already satisfied: importlib-resources>=5.1.0 in /nfs/users/nfs_f/fs5/kraken_flu/lib/python3.11/site-packages (from kraken_flu@ git+ssh://git@gitlab.internal.sanger.ac.uk/malariagen1/misc_utils/kraken_flu.git) (6.1.1)\n",
      "Requirement already satisfied: cached-property>=1.5.2 in /nfs/users/nfs_f/fs5/kraken_flu/lib/python3.11/site-packages (from kraken_flu@ git+ssh://git@gitlab.internal.sanger.ac.uk/malariagen1/misc_utils/kraken_flu.git) (1.5.2)\n",
      "Requirement already satisfied: biopython>=1.80 in /nfs/users/nfs_f/fs5/kraken_flu/lib/python3.11/site-packages (from kraken_flu@ git+ssh://git@gitlab.internal.sanger.ac.uk/malariagen1/misc_utils/kraken_flu.git) (1.81)\n",
      "Requirement already satisfied: numpy in /nfs/users/nfs_f/fs5/kraken_flu/lib/python3.11/site-packages (from biopython>=1.80->kraken_flu@ git+ssh://git@gitlab.internal.sanger.ac.uk/malariagen1/misc_utils/kraken_flu.git) (1.26.2)\n",
      "Requirement already satisfied: iniconfig in /nfs/users/nfs_f/fs5/kraken_flu/lib/python3.11/site-packages (from pytest>=6.2.2->kraken_flu@ git+ssh://git@gitlab.internal.sanger.ac.uk/malariagen1/misc_utils/kraken_flu.git) (2.0.0)\n",
      "Requirement already satisfied: packaging in /nfs/users/nfs_f/fs5/kraken_flu/lib/python3.11/site-packages (from pytest>=6.2.2->kraken_flu@ git+ssh://git@gitlab.internal.sanger.ac.uk/malariagen1/misc_utils/kraken_flu.git) (23.2)\n",
      "Requirement already satisfied: pluggy<2.0,>=0.12 in /nfs/users/nfs_f/fs5/kraken_flu/lib/python3.11/site-packages (from pytest>=6.2.2->kraken_flu@ git+ssh://git@gitlab.internal.sanger.ac.uk/malariagen1/misc_utils/kraken_flu.git) (1.3.0)\n"
     ]
    }
   ],
   "source": [
    "python3 -m venv ~/kraken_flu"
   ]
  },
  {
   "cell_type": "code",
   "execution_count": 1,
   "id": "fdbaf34c-ff05-4da7-b065-c4ff502af6a7",
   "metadata": {},
   "outputs": [
    {
     "name": "stdout",
     "output_type": "stream",
     "text": [
      "Collecting kraken_flu@ git+ssh://****@gitlab.internal.sanger.ac.uk/malariagen1/misc_utils/kraken_flu.git\n",
      "  Cloning ssh://****@gitlab.internal.sanger.ac.uk/malariagen1/misc_utils/kraken_flu.git to /tmp/pip-install-kq0vv75v/kraken-flu_b460602e5d5b43698d54c603f3f7e0bf\n",
      "  Running command git clone --filter=blob:none --quiet 'ssh://****@gitlab.internal.sanger.ac.uk/malariagen1/misc_utils/kraken_flu.git' /tmp/pip-install-kq0vv75v/kraken-flu_b460602e5d5b43698d54c603f3f7e0bf\n",
      "  Resolved ssh://****@gitlab.internal.sanger.ac.uk/malariagen1/misc_utils/kraken_flu.git to commit 6995f865433d45b51aa5978dec0671ddb2b2b0d6\n",
      "  Installing build dependencies ... \u001b[?25ldone\n",
      "\u001b[?25h  Getting requirements to build wheel ... \u001b[?25ldone\n",
      "\u001b[?25h  Preparing metadata (pyproject.toml) ... \u001b[?25ldone\n",
      "\u001b[?25hRequirement already satisfied: pytest>=6.2.2 in /nfs/users/nfs_f/fs5/kraken_flu/lib/python3.11/site-packages (from kraken_flu@ git+ssh://git@gitlab.internal.sanger.ac.uk/malariagen1/misc_utils/kraken_flu.git) (7.4.3)\n",
      "Requirement already satisfied: importlib-resources>=5.1.0 in /nfs/users/nfs_f/fs5/kraken_flu/lib/python3.11/site-packages (from kraken_flu@ git+ssh://git@gitlab.internal.sanger.ac.uk/malariagen1/misc_utils/kraken_flu.git) (6.1.1)\n",
      "Requirement already satisfied: cached-property>=1.5.2 in /nfs/users/nfs_f/fs5/kraken_flu/lib/python3.11/site-packages (from kraken_flu@ git+ssh://git@gitlab.internal.sanger.ac.uk/malariagen1/misc_utils/kraken_flu.git) (1.5.2)\n",
      "Requirement already satisfied: biopython>=1.80 in /nfs/users/nfs_f/fs5/kraken_flu/lib/python3.11/site-packages (from kraken_flu@ git+ssh://git@gitlab.internal.sanger.ac.uk/malariagen1/misc_utils/kraken_flu.git) (1.81)\n",
      "Requirement already satisfied: numpy in /nfs/users/nfs_f/fs5/kraken_flu/lib/python3.11/site-packages (from biopython>=1.80->kraken_flu@ git+ssh://git@gitlab.internal.sanger.ac.uk/malariagen1/misc_utils/kraken_flu.git) (1.26.2)\n",
      "Requirement already satisfied: iniconfig in /nfs/users/nfs_f/fs5/kraken_flu/lib/python3.11/site-packages (from pytest>=6.2.2->kraken_flu@ git+ssh://git@gitlab.internal.sanger.ac.uk/malariagen1/misc_utils/kraken_flu.git) (2.0.0)\n",
      "Requirement already satisfied: packaging in /nfs/users/nfs_f/fs5/kraken_flu/lib/python3.11/site-packages (from pytest>=6.2.2->kraken_flu@ git+ssh://git@gitlab.internal.sanger.ac.uk/malariagen1/misc_utils/kraken_flu.git) (23.2)\n",
      "Requirement already satisfied: pluggy<2.0,>=0.12 in /nfs/users/nfs_f/fs5/kraken_flu/lib/python3.11/site-packages (from pytest>=6.2.2->kraken_flu@ git+ssh://git@gitlab.internal.sanger.ac.uk/malariagen1/misc_utils/kraken_flu.git) (1.3.0)\n",
      "Building wheels for collected packages: kraken_flu\n",
      "  Building wheel for kraken_flu (pyproject.toml) ... \u001b[?25ldone\n",
      "\u001b[?25h  Created wheel for kraken_flu: filename=kraken_flu-1.1.1.dev1+g6995f86-py2.py3-none-any.whl size=17847 sha256=766287122377d3be0e94005ea0b223e1f9d91ab947a642e1a0288600c722c8b5\n",
      "  Stored in directory: /tmp/pip-ephem-wheel-cache-mw1t3aqk/wheels/36/3d/a4/e69d3d0a667ae4fbdd235a419321c7e4986b2c2df02ecdb5de\n",
      "Successfully built kraken_flu\n",
      "Installing collected packages: kraken_flu\n",
      "  Attempting uninstall: kraken_flu\n",
      "    Found existing installation: kraken_flu 1.0.4.dev13+gf5c02d1\n",
      "    Uninstalling kraken_flu-1.0.4.dev13+gf5c02d1:\n",
      "      Successfully uninstalled kraken_flu-1.0.4.dev13+gf5c02d1\n",
      "Successfully installed kraken_flu-1.1.1.dev1+g6995f86\n",
      "\n",
      "\u001b[1m[\u001b[0m\u001b[34;49mnotice\u001b[0m\u001b[1;39;49m]\u001b[0m\u001b[39;49m A new release of pip is available: \u001b[0m\u001b[31;49m23.3.1\u001b[0m\u001b[39;49m -> \u001b[0m\u001b[32;49m23.3.2\u001b[0m\n",
      "\u001b[1m[\u001b[0m\u001b[34;49mnotice\u001b[0m\u001b[1;39;49m]\u001b[0m\u001b[39;49m To update, run: \u001b[0m\u001b[32;49mpython3 -m pip install --upgrade pip\u001b[0m\n"
     ]
    }
   ],
   "source": [
    "~/kraken_flu/bin/pip install kraken_flu@git+ssh://git@gitlab.internal.sanger.ac.uk/malariagen1/misc_utils/kraken_flu.git"
   ]
  },
  {
   "cell_type": "code",
   "execution_count": 2,
   "id": "366170ea-898f-40f3-a7f6-5f538bf89edd",
   "metadata": {},
   "outputs": [
    {
     "name": "stdout",
     "output_type": "stream",
     "text": [
      "kraken_flu 1.1.1.dev1+g6995f86\n"
     ]
    }
   ],
   "source": [
    "~/kraken_flu/bin/kraken_flu -v"
   ]
  },
  {
   "cell_type": "markdown",
   "id": "4fb60a1f-ea06-4f7a-9e7e-adf8681e0ba5",
   "metadata": {},
   "source": [
    "## Download common data\n",
    "The following data will be used by several subsequent database builds. The individual databases will be using copies of the relevant files in these download direcotries so we do not have to keep re-downloading the large files involved."
   ]
  },
  {
   "cell_type": "markdown",
   "id": "abd0269f-b5be-4932-9a52-fe17a446b832",
   "metadata": {},
   "source": [
    "### Download NCBI taxonomy data\n",
    "Use the kraken2 build tool to download taxonomy files from [NCBI](https://ftp.ncbi.nlm.nih.gov/pub/taxonomy/). These files will be needed for all database builds."
   ]
  },
  {
   "cell_type": "code",
   "execution_count": 2,
   "id": "bf32061c-f847-44e2-80b6-64dbbf26aec4",
   "metadata": {},
   "outputs": [
    {
     "name": "stdout",
     "output_type": "stream",
     "text": [
      "        Module loaded. For more information run 'module help kraken2/2.1.2'.\u001b[m\n",
      "        - By default, kraken2 will search for named databases in /data/pam/softw\u001b[mare/kraken2 and the current working directory. The full path to\u001b[m\n",
      "        any database can also be used.\u001b[m\n",
      "        - `kraken2-build` commands will sometimes experience an error suggesting\u001b[m that it is not possible to download a library using rsync. While the option --u\u001b[mse-ftp\u001b[m\n",
      "        may fix this, rsync tends to be faster and more reliable. Try re-running\u001b[m the `kraken2-build` command until the download is successful. Note that `kraken\u001b[m2-build`\u001b[m\n",
      "        will produce checkpoints during the installation process and will restar\u001b[mt at the last successful step.\u001b[m\n",
      "        - If `kraken2-build build` freezes or hangs indefinitely, using the `--f\u001b[mast-build` option may help. An earlier version of the software (if available) ma\u001b[my also\u001b[m\n",
      "        allow the build step to proceed successfully.\u001b[m\n",
      "\u001b[K\u001b[?1l\u001b>\n"
     ]
    }
   ],
   "source": [
    "module load kraken2/2.1.2"
   ]
  },
  {
   "cell_type": "code",
   "execution_count": 3,
   "id": "01cf368e-add0-403c-a1ce-264293cbba88",
   "metadata": {},
   "outputs": [],
   "source": [
    "export BASE_DIR=/lustre/scratch126/gsu/team112/personal/fs5/rvi_dev/krakenDBs/kraken_flu/"
   ]
  },
  {
   "cell_type": "code",
   "execution_count": 7,
   "id": "e49725ab-4663-4556-90bd-d80678e3ee45",
   "metadata": {},
   "outputs": [],
   "source": [
    "mkdir -p ${BASE_DIR}"
   ]
  },
  {
   "cell_type": "code",
   "execution_count": 4,
   "id": "1337982b-77ba-4e91-91e0-b64d7b68cd85",
   "metadata": {},
   "outputs": [],
   "source": [
    "export TAX_PATH=${BASE_DIR}/taxonomy_download/"
   ]
  },
  {
   "cell_type": "code",
   "execution_count": 5,
   "id": "6cd524c1-6c73-4a08-b547-d91fb225f965",
   "metadata": {},
   "outputs": [],
   "source": [
    "export LIB_PATH_VIR=${BASE_DIR}/library_download_viral/"
   ]
  },
  {
   "cell_type": "code",
   "execution_count": 10,
   "id": "ebd270f8-9a36-41fb-8712-658b5eb8575c",
   "metadata": {},
   "outputs": [],
   "source": [
    "mkdir -p {$TAX_PATH}\n",
    "mkdir -p ${LIB_PATH_VIR}"
   ]
  },
  {
   "cell_type": "code",
   "execution_count": 11,
   "id": "f52c018e-8d25-4c1f-9088-4cce14e3c5f6",
   "metadata": {},
   "outputs": [
    {
     "name": "stdout",
     "output_type": "stream",
     "text": [
      "Downloading nucleotide gb accession to taxon map... done.\n",
      "Downloading nucleotide wgs accession to taxon map... done.\n",
      "Downloaded accession to taxon map(s)\n",
      "Downloading taxonomy tree data... done.\n",
      "Uncompressing taxonomy data... done.\n",
      "Untarring taxonomy tree data... done.\n"
     ]
    }
   ],
   "source": [
    "kraken2-build --download-taxonomy --db ${TAX_PATH}"
   ]
  },
  {
   "cell_type": "markdown",
   "id": "02313edb-de5c-416c-8e9c-17b7aeea8c18",
   "metadata": {},
   "source": [
    "<a id=\"downloadrefseq\"></a>\n",
    "### Download viral RefSeq\n",
    "This kraken2 build command downloads RefSeq and assigns taxonomy to the sequences to create a ready dataset for DB creation.\n",
    "\n",
    "___NOTE___: for some reason, the rsync command often fails and it is very slow (seems to download sequences one by one?), so it makes sense to keep this directory as a resource for further databases. RefSeq is not updated very often so it should not be a problem with being up to date"
   ]
  },
  {
   "cell_type": "code",
   "execution_count": 12,
   "id": "f98fbb1c-bbb4-4a87-bd54-eb8de4fda887",
   "metadata": {},
   "outputs": [
    {
     "name": "stdout",
     "output_type": "stream",
     "text": [
      "Step 1/2: Performing rsync file transfer of requested files\n",
      "Rsync file transfer complete.\n",
      "Step 2/2: Assigning taxonomic IDs to sequences\n",
      "Processed 14972 projects (18639 sequences, 549.88 Mbp)... done.\n",
      "All files processed, cleaning up extra sequence files... done, library complete.\n",
      "Masking low-complexity regions of downloaded library... done.\n"
     ]
    }
   ],
   "source": [
    "kraken2-build \\\n",
    "    --download-library viral \\\n",
    "    --db ${LIB_PATH_VIR}"
   ]
  },
  {
   "cell_type": "markdown",
   "id": "26eaff8a-edf9-4f1d-9536-862e87b48405",
   "metadata": {},
   "source": [
    "___Resulting files:___\n",
    "These are the files created by the downloads. The file library.fna is the genome sequence file. As this was downloaded from a kraken2 pre-built repository of refseq, the FASTA headers already contain taxonomy IDs, which will be modified by the kranek_flu tool.\n"
   ]
  },
  {
   "cell_type": "code",
   "execution_count": 7,
   "id": "542950ea-ad8a-4c80-aa17-e40e9fb2b638",
   "metadata": {},
   "outputs": [
    {
     "name": "stdout",
     "output_type": "stream",
     "text": [
      "/lustre/scratch126/gsu/team112/personal/fs5/rvi_dev/krakenDBs/kraken_flu/\n",
      "├── db1-allrefseq_wo_human\n",
      "│   ├── library\n",
      "│   │   └── library.fna\n",
      "│   └── taxonomy\n",
      "│       ├── modes.dmp\n",
      "│       └── names.dmp\n",
      "├── library_download_viral\n",
      "│   └── library\n",
      "│       └── viral\n",
      "│           ├── assembly_summary.txt\n",
      "│           ├── library.fna\n",
      "│           ├── library.fna.masked\n",
      "│           ├── manifest.txt\n",
      "│           └── prelim_map.txt\n",
      "└── taxonomy_download\n",
      "    └── taxonomy\n",
      "        ├── accmap.dlflag\n",
      "        ├── citations.dmp\n",
      "        ├── delnodes.dmp\n",
      "        ├── division.dmp\n",
      "        ├── gc.prt\n",
      "        ├── gencode.dmp\n",
      "        ├── images.dmp\n",
      "        ├── merged.dmp\n",
      "        ├── names.dmp\n",
      "        ├── nodes.dmp\n",
      "        ├── nucl_gb.accession2taxid\n",
      "        ├── nucl_wgs.accession2taxid\n",
      "        ├── readme.txt\n",
      "        ├── taxdump.dlflag\n",
      "        ├── taxdump.tar.gz\n",
      "        └── taxdump.untarflag\n",
      "\n",
      "8 directories, 24 files\n"
     ]
    }
   ],
   "source": [
    "tree ${BASE_DIR}"
   ]
  },
  {
   "cell_type": "markdown",
   "id": "57c75003-6207-411b-a647-0265ba8625b2",
   "metadata": {},
   "source": [
    "# Use kraken_flu to create a database with all of viral refseq\n",
    "The tool will convert the taxonomy and library files and write the modified copies to a new directory. The modified files will have new taxon IDs in the FASTA header for all flu A H1N1, A H3N2 and B viral genome sequences. The pattern is currently hardcoded into the tool but can be easily extended to cover other viruses."
   ]
  },
  {
   "cell_type": "code",
   "execution_count": 60,
   "id": "af3aed3a-37bd-4918-8571-c3a652efc439",
   "metadata": {},
   "outputs": [
    {
     "name": "stdout",
     "output_type": "stream",
     "text": [
      "2023-12-18 16:52:53,797 writing modified FASTA file to /lustre/scratch126/gsu/team112/personal/fs5/rvi_dev/krakenDBs/kraken_flu//db1-allrefseq_wo_human/library/library.fna\n",
      "2023-12-18 16:52:53,812 scanning file /lustre/scratch126/gsu/team112/personal/fs5/rvi_dev/krakenDBs/kraken_flu//library_download_viral//library/viral/library.fna for influenza viruses\n",
      "2023-12-18 16:52:57,121 done - found 32 segment sequences in FASTA file\n",
      "2023-12-18 16:53:03,534 finished writing modified FASTA file\n",
      "2023-12-18 16:53:03,537 writing modified prelim_map.txt file to /lustre/scratch126/gsu/team112/personal/fs5/rvi_dev/krakenDBs/kraken_flu//db1-allrefseq_wo_human/library/prelim_map.txt\n",
      "2023-12-18 16:53:03,594 finished writing modified prelim_map.txt file\n",
      "2023-12-18 16:53:04,298 writing modified names file to /lustre/scratch126/gsu/team112/personal/fs5/rvi_dev/krakenDBs/kraken_flu//db1-allrefseq_wo_human/taxonomy/names.dmp\n",
      "2023-12-18 16:53:04,495 finished writing modified names file\n",
      "2023-12-18 16:53:05,086 writing modified nodes file to /lustre/scratch126/gsu/team112/personal/fs5/rvi_dev/krakenDBs/kraken_flu//db1-allrefseq_wo_human/taxonomy/nodes.dmp\n",
      "2023-12-18 16:53:05,200 finished writing modified nodes file\n"
     ]
    }
   ],
   "source": [
    "# FORCE DELETE any existing direcotry\n",
    "rm -rf ${BASE_DIR}/db1-allrefseq_wo_human\n",
    "\n",
    "# run the utility\n",
    "~/kraken_flu/bin/kraken_flu build \\\n",
    "    --library_path ${LIB_PATH_VIR}/library/viral/ \\\n",
    "    --taxonomy_path ${TAX_PATH}/taxonomy \\\n",
    "    --out_dir ${BASE_DIR}/db1-allrefseq_wo_human"
   ]
  },
  {
   "cell_type": "code",
   "execution_count": 61,
   "id": "3af748aa-9318-4a53-b969-3ccdd1fec8e2",
   "metadata": {},
   "outputs": [
    {
     "name": "stdout",
     "output_type": "stream",
     "text": [
      "/lustre/scratch126/gsu/team112/personal/fs5/rvi_dev/krakenDBs/kraken_flu//db1-allrefseq_wo_human\n",
      "├── library\n",
      "│   ├── library.fna\n",
      "│   └── prelim_map.txt\n",
      "└── taxonomy\n",
      "    ├── names.dmp\n",
      "    └── nodes.dmp\n",
      "\n",
      "2 directories, 4 files\n"
     ]
    }
   ],
   "source": [
    "tree ${BASE_DIR}/db1-allrefseq_wo_human"
   ]
  },
  {
   "cell_type": "markdown",
   "id": "da6737ed-3a94-45ac-a180-683a8f68787f",
   "metadata": {},
   "source": [
    "show the tail of the new names file which now contains segments as new names"
   ]
  },
  {
   "cell_type": "code",
   "execution_count": 49,
   "id": "06db0eb0-06d5-4c93-9934-e9d5e41469de",
   "metadata": {},
   "outputs": [
    {
     "name": "stdout",
     "output_type": "stream",
     "text": [
      "3108293\t|\tNC_002016.1 Influenza A virus (A/Puerto Rico/8/1934(H1N1)) segment 7, complete sequence\t|\t\t|\tscientific name\t|\n",
      "3108294\t|\tNC_002020.1 Influenza A virus (A/Puerto Rico/8/1934(H1N1)) segment 8, complete sequence\t|\t\t|\tscientific name\t|\n",
      "3108295\t|\tNC_026438.1 Influenza A virus (A/California/07/2009(H1N1)) segment 1 polymerase PB2 (PB2) gene, complete cds\t|\t\t|\tscientific name\t|\n",
      "3108296\t|\tNC_026435.1 Influenza A virus (A/California/07/2009(H1N1)) segment 2 polymerase PB1 (PB1) gene, complete cds; and nonfunctional PB1-F2 protein (PB1-F2) gene, complete sequence\t|\t\t|\tscientific name\t|\n",
      "3108297\t|\tNC_026437.1 Influenza A virus (A/California/07/2009(H1N1)) segment 3 polymerase PA (PA) gene, complete cds\t|\t\t|\tscientific name\t|\n",
      "3108298\t|\tNC_026433.1 Influenza A virus (A/California/07/2009(H1N1)) segment 4 hemagglutinin (HA) gene, complete cds\t|\t\t|\tscientific name\t|\n",
      "3108299\t|\tNC_026436.1 Influenza A virus (A/California/07/2009(H1N1)) segment 5 nucleocapsid protein (NP) gene, complete cds\t|\t\t|\tscientific name\t|\n",
      "3108300\t|\tNC_026434.1 Influenza A virus (A/California/07/2009(H1N1)) segment 6 neuraminidase (NA) gene, complete cds\t|\t\t|\tscientific name\t|\n",
      "3108301\t|\tNC_026431.1 Influenza A virus (A/California/07/2009(H1N1)) segment 7 matrix protein 2 (M2) and matrix protein 1 (M1) genes, complete cds\t|\t\t|\tscientific name\t|\n",
      "3108302\t|\tNC_026432.1 Influenza A virus (A/California/07/2009(H1N1)) segment 8 nuclear export protein (NEP) and nonstructural protein 1 (NS1) genes, complete cds\t|\t\t|\tscientific name\t|\n"
     ]
    }
   ],
   "source": [
    "tail ${BASE_DIR}/db1-allrefseq_wo_human/taxonomy/names.dmp"
   ]
  },
  {
   "cell_type": "markdown",
   "id": "9107cace-8bdb-4e30-b9fa-eb58cb333318",
   "metadata": {},
   "source": [
    "tail of the nodes file shows the new nodes having been added"
   ]
  },
  {
   "cell_type": "code",
   "execution_count": 50,
   "id": "1417ff40-6921-45da-9ae8-1fc5e5816289",
   "metadata": {},
   "outputs": [
    {
     "name": "stdout",
     "output_type": "stream",
     "text": [
      "3108293\t|\t211044\t|\tno rank\t|\t\t|\t9\t|\t1\t|\t1\t|\t1\t|\t0\t|\t1\t|\t1\t|\t\t|\t\t|\n",
      "3108294\t|\t211044\t|\tno rank\t|\t\t|\t9\t|\t1\t|\t1\t|\t1\t|\t0\t|\t1\t|\t1\t|\t\t|\t\t|\n",
      "3108295\t|\t641809\t|\tno rank\t|\t\t|\t9\t|\t1\t|\t1\t|\t1\t|\t0\t|\t1\t|\t1\t|\t\t|\t\t|\n",
      "3108296\t|\t641809\t|\tno rank\t|\t\t|\t9\t|\t1\t|\t1\t|\t1\t|\t0\t|\t1\t|\t1\t|\t\t|\t\t|\n",
      "3108297\t|\t641809\t|\tno rank\t|\t\t|\t9\t|\t1\t|\t1\t|\t1\t|\t0\t|\t1\t|\t1\t|\t\t|\t\t|\n",
      "3108298\t|\t641809\t|\tno rank\t|\t\t|\t9\t|\t1\t|\t1\t|\t1\t|\t0\t|\t1\t|\t1\t|\t\t|\t\t|\n",
      "3108299\t|\t641809\t|\tno rank\t|\t\t|\t9\t|\t1\t|\t1\t|\t1\t|\t0\t|\t1\t|\t1\t|\t\t|\t\t|\n",
      "3108300\t|\t641809\t|\tno rank\t|\t\t|\t9\t|\t1\t|\t1\t|\t1\t|\t0\t|\t1\t|\t1\t|\t\t|\t\t|\n",
      "3108301\t|\t641809\t|\tno rank\t|\t\t|\t9\t|\t1\t|\t1\t|\t1\t|\t0\t|\t1\t|\t1\t|\t\t|\t\t|\n",
      "3108302\t|\t641809\t|\tno rank\t|\t\t|\t9\t|\t1\t|\t1\t|\t1\t|\t0\t|\t1\t|\t1\t|\t\t|\t\t|\n"
     ]
    }
   ],
   "source": [
    "tail ${BASE_DIR}/db1-allrefseq_wo_human/taxonomy/nodes.dmp"
   ]
  },
  {
   "cell_type": "markdown",
   "id": "141b4642-858e-4898-848a-71dfe23505b1",
   "metadata": {},
   "source": [
    "show the modified FASTA headers for the H1N1 sequences"
   ]
  },
  {
   "cell_type": "code",
   "execution_count": 63,
   "id": "90e3e0e5-6434-4dce-bd0b-07cf0ad3d462",
   "metadata": {},
   "outputs": [
    {
     "name": "stdout",
     "output_type": "stream",
     "text": [
      ">kraken:taxid|3108287|NC_002023.1 Influenza A virus (A/Puerto Rico/8/1934(H1N1)) segment 1, complete sequence\n",
      ">kraken:taxid|3108288|NC_002021.1 Influenza A virus (A/Puerto Rico/8/1934(H1N1)) segment 2, complete sequence\n",
      ">kraken:taxid|3108289|NC_002022.1 Influenza A virus (A/Puerto Rico/8/1934(H1N1)) segment 3, complete sequence\n",
      ">kraken:taxid|3108290|NC_002017.1 Influenza A virus (A/Puerto Rico/8/1934(H1N1)) segment 4, complete sequence\n",
      ">kraken:taxid|3108291|NC_002019.1 Influenza A virus (A/Puerto Rico/8/1934(H1N1)) segment 5, complete sequence\n",
      ">kraken:taxid|3108292|NC_002018.1 Influenza A virus (A/Puerto Rico/8/1934(H1N1)) segment 6, complete sequence\n",
      ">kraken:taxid|3108293|NC_002016.1 Influenza A virus (A/Puerto Rico/8/1934(H1N1)) segment 7, complete sequence\n",
      ">kraken:taxid|3108294|NC_002020.1 Influenza A virus (A/Puerto Rico/8/1934(H1N1)) segment 8, complete sequence\n",
      ">kraken:taxid|3108295|NC_026438.1 Influenza A virus (A/California/07/2009(H1N1)) segment 1 polymerase PB2 (PB2) gene, complete cds\n",
      ">kraken:taxid|3108296|NC_026435.1 Influenza A virus (A/California/07/2009(H1N1)) segment 2 polymerase PB1 (PB1) gene, complete cds; and nonfunctional PB1-F2 protein (PB1-F2) gene, complete sequence\n",
      ">kraken:taxid|3108297|NC_026437.1 Influenza A virus (A/California/07/2009(H1N1)) segment 3 polymerase PA (PA) gene, complete cds\n",
      ">kraken:taxid|3108298|NC_026433.1 Influenza A virus (A/California/07/2009(H1N1)) segment 4 hemagglutinin (HA) gene, complete cds\n",
      ">kraken:taxid|3108299|NC_026436.1 Influenza A virus (A/California/07/2009(H1N1)) segment 5 nucleocapsid protein (NP) gene, complete cds\n",
      ">kraken:taxid|3108300|NC_026434.1 Influenza A virus (A/California/07/2009(H1N1)) segment 6 neuraminidase (NA) gene, complete cds\n",
      ">kraken:taxid|3108301|NC_026431.1 Influenza A virus (A/California/07/2009(H1N1)) segment 7 matrix protein 2 (M2) and matrix protein 1 (M1) genes, complete cds\n",
      ">kraken:taxid|3108302|NC_026432.1 Influenza A virus (A/California/07/2009(H1N1)) segment 8 nuclear export protein (NEP) and nonstructural protein 1 (NS1) genes, complete cds\n"
     ]
    }
   ],
   "source": [
    "grep H1N1 ${BASE_DIR}/db1-allrefseq_wo_human/library/library.fna"
   ]
  },
  {
   "cell_type": "markdown",
   "id": "afebf2aa-c1e0-484d-b355-44075433e62f",
   "metadata": {},
   "source": [
    "## Build the new database\n",
    "Use kraken2 build tool to build the final new database from the modified genome and taxonomy files\n"
   ]
  },
  {
   "cell_type": "code",
   "execution_count": 64,
   "id": "62566e18-d928-4683-9661-2c34f0ff935c",
   "metadata": {},
   "outputs": [
    {
     "name": "stdout",
     "output_type": "stream",
     "text": [
      "Creating sequence ID to taxonomy ID map (step 1)...\n",
      "Sequence ID to taxonomy ID map complete. [0.059s]\n",
      "Estimating required capacity (step 2)...\n",
      "Estimated hash table requirement: 648810788 bytes\n",
      "Capacity estimation complete. [20.288s]\n",
      "Building database files (step 3)...\n",
      "Taxonomy parsed and converted.\n",
      "CHT created with 15 bits reserved for taxid.\n",
      "Completed processing of 18639 sequences, 549880780 bp\n",
      "Writing data to disk...  complete.\n",
      "Database files completed. [2m31.032s]\n",
      "Database construction complete. [Total: 2m51.403s]\n"
     ]
    }
   ],
   "source": [
    "kraken2-build \\\n",
    "    --build \\\n",
    "    --db ${BASE_DIR}/db1-allrefseq_wo_human"
   ]
  },
  {
   "cell_type": "markdown",
   "id": "4da8b4ad-acef-4d13-9d33-9bed948176cb",
   "metadata": {},
   "source": [
    "## Test the database\n",
    "Using existing simulated reads data to test the new database"
   ]
  },
  {
   "cell_type": "code",
   "execution_count": 6,
   "id": "fdc0956e-255b-4480-9038-faab9b37ba68",
   "metadata": {},
   "outputs": [],
   "source": [
    "export TEST_BASE_DIR=/lustre/scratch126/gsu/team112/personal/fs5/rvi_dev/krakenDBs/kraken_flu_tests/"
   ]
  },
  {
   "cell_type": "code",
   "execution_count": 65,
   "id": "56a718b2-3500-480b-ab01-6e550b5a22d4",
   "metadata": {},
   "outputs": [],
   "source": [
    "rm -rf ${TEST_BASE_DIR}\n",
    "mkdir -p ${TEST_BASE_DIR}"
   ]
  },
  {
   "cell_type": "code",
   "execution_count": 66,
   "id": "b4003ac1-f09b-49aa-84d8-ff5bc59ca7fc",
   "metadata": {},
   "outputs": [
    {
     "name": "stdout",
     "output_type": "stream",
     "text": [
      "Loading database information... done.\n",
      "6620 sequences (1.99 Mbp) processed in 0.366s (1085.5 Kseq/m, 325.65 Mbp/m).\n",
      "  6618 sequences classified (99.97%)\n",
      "  2 sequences unclassified (0.03%)\n"
     ]
    }
   ],
   "source": [
    "kraken2 \\\n",
    "    --db ${BASE_DIR}/db1-allrefseq_wo_human \\\n",
    "    --output ${TEST_BASE_DIR}/output.kraken \\\n",
    "    --paired \\\n",
    "    --classified-out ${TEST_BASE_DIR}/class_seqs#.fq \\\n",
    "    --unclassified-out ${TEST_BASE_DIR}/unclass_seqs#.fq \\\n",
    "    --report ${TEST_BASE_DIR}/report.txt \\\n",
    "/lustre/scratch126/gsu/team112/personal/fs5/rvi_dev/sim_reads/art/mix/mix_of_all_01-1.fq \\\n",
    "/lustre/scratch126/gsu/team112/personal/fs5/rvi_dev/sim_reads/art/mix/mix_of_all_01-2.fq\n"
   ]
  },
  {
   "cell_type": "code",
   "execution_count": 67,
   "id": "3b5b5925-6f5c-4bb3-a7a7-6332507ee011",
   "metadata": {},
   "outputs": [
    {
     "name": "stdout",
     "output_type": "stream",
     "text": [
      "  0.03\t2\t2\tU\t0\tunclassified\n",
      " 99.97\t6618\t0\tR\t1\troot\n",
      " 99.97\t6618\t0\tD\t10239\t  Viruses\n",
      " 99.97\t6618\t0\tD1\t2559587\t    Riboviria\n",
      " 99.97\t6618\t0\tK\t2732396\t      Orthornavirae\n",
      " 69.91\t4628\t0\tP\t2497569\t        Negarnaviricota\n",
      " 39.43\t2610\t0\tP1\t2497571\t          Polyploviricotina\n",
      " 39.43\t2610\t0\tC\t2497577\t            Insthoviricetes\n",
      " 39.43\t2610\t0\tO\t2499411\t              Articulavirales\n",
      " 39.43\t2610\t0\tF\t11308\t                Orthomyxoviridae\n",
      " 25.53\t1690\t0\tG\t197911\t                  Alphainfluenzavirus\n",
      " 25.53\t1690\t0\tS\t2955291\t                    Alphainfluenzavirus influenzae\n",
      " 25.53\t1690\t0\tS1\t11320\t                      Influenza A virus\n",
      " 12.84\t850\t0\tS2\t119210\t                        H3N2 subtype\n",
      " 12.84\t850\t0\tS3\t335341\t                          Influenza A virus (A/New York/392/2004(H3N2))\n",
      "  2.27\t150\t150\tS4\t3108271\t                            NC_007373.1 Influenza A virus (A/New York/392/2004(H3N2)) segment 1, complete sequence\n",
      "  2.27\t150\t150\tS4\t3108272\t                            NC_007372.1 Influenza A virus (A/New York/392/2004(H3N2)) segment 2, complete sequence\n",
      "  2.11\t140\t140\tS4\t3108273\t                            NC_007371.1 Influenza A virus (A/New York/392/2004(H3N2)) segment 3, complete sequence\n",
      "  1.66\t110\t110\tS4\t3108274\t                            NC_007366.1 Influenza A virus (A/New York/392/2004(H3N2)) segment 4, complete sequence\n",
      "  1.51\t100\t100\tS4\t3108275\t                            NC_007369.1 Influenza A virus (A/New York/392/2004(H3N2)) segment 5, complete sequence\n",
      "  1.36\t90\t90\tS4\t3108276\t                            NC_007368.1 Influenza A virus (A/New York/392/2004(H3N2)) segment 6, complete sequence\n",
      "  0.91\t60\t60\tS4\t3108277\t                            NC_007367.1 Influenza A virus (A/New York/392/2004(H3N2)) segment 7, complete sequence\n",
      "  0.76\t50\t50\tS4\t3108278\t                            NC_007370.1 Influenza A virus (A/New York/392/2004(H3N2)) segment 8, complete sequence\n",
      " 12.69\t840\t0\tS2\t114727\t                        H1N1 subtype\n",
      " 12.69\t840\t0\tS3\t641809\t                          Influenza A virus (A/California/07/2009(H1N1))\n",
      "  2.27\t150\t150\tS4\t3108295\t                            NC_026438.1 Influenza A virus (A/California/07/2009(H1N1)) segment 1 polymerase PB2 (PB2) gene, complete cds\n",
      "  2.27\t150\t150\tS4\t3108296\t                            NC_026435.1 Influenza A virus (A/California/07/2009(H1N1)) segment 2 polymerase PB1 (PB1) gene, complete cds; and nonfunctional PB1-F2 protein (PB1-F2) gene, complete sequence\n",
      "  2.11\t140\t140\tS4\t3108297\t                            NC_026437.1 Influenza A virus (A/California/07/2009(H1N1)) segment 3 polymerase PA (PA) gene, complete cds\n",
      "  1.66\t110\t110\tS4\t3108298\t                            NC_026433.1 Influenza A virus (A/California/07/2009(H1N1)) segment 4 hemagglutinin (HA) gene, complete cds\n",
      "  1.36\t90\t90\tS4\t3108299\t                            NC_026436.1 Influenza A virus (A/California/07/2009(H1N1)) segment 5 nucleocapsid protein (NP) gene, complete cds\n",
      "  1.36\t90\t90\tS4\t3108300\t                            NC_026434.1 Influenza A virus (A/California/07/2009(H1N1)) segment 6 neuraminidase (NA) gene, complete cds\n",
      "  0.91\t60\t60\tS4\t3108301\t                            NC_026431.1 Influenza A virus (A/California/07/2009(H1N1)) segment 7 matrix protein 2 (M2) and matrix protein 1 (M1) genes, complete cds\n",
      "  0.76\t50\t50\tS4\t3108302\t                            NC_026432.1 Influenza A virus (A/California/07/2009(H1N1)) segment 8 nuclear export protein (NEP) and nonstructural protein 1 (NS1) genes, complete cds\n",
      " 13.90\t920\t0\tG\t197912\t                  Betainfluenzavirus\n",
      " 13.90\t920\t0\tS\t2955465\t                    Betainfluenzavirus influenzae\n",
      " 13.90\t920\t0\tS1\t11520\t                      Influenza B virus\n",
      " 13.90\t920\t0\tS2\t518987\t                        Influenza B virus (B/Lee/1940)\n",
      "  2.27\t150\t150\tS3\t3108279\t                          NC_002205.1 Influenza B virus (B/Lee/1940) segment 2, complete sequence\n",
      "  2.27\t150\t150\tS3\t3108286\t                          NC_002204.1 Influenza B virus RNA 1, complete sequence\n",
      "  2.11\t140\t140\tS3\t3108280\t                          NC_002206.1 Influenza B virus (B/Lee/1940) segment 3, complete sequence\n",
      "  1.81\t120\t120\tS3\t3108281\t                          NC_002207.1 Influenza B virus (B/Lee/1940) segment 4, complete sequence\n",
      "  1.81\t120\t120\tS3\t3108282\t                          NC_002208.1 Influenza B virus (B/Lee/1940) segment 5, complete sequence\n",
      "  1.51\t100\t100\tS3\t3108283\t                          NC_002209.1 Influenza B virus (B/Lee/1940) segment 6, complete sequence\n",
      "  1.06\t70\t70\tS3\t3108284\t                          NC_002210.1 Influenza B virus (B/Lee/1940) segment 7, complete sequence\n",
      "  1.06\t70\t70\tS3\t3108285\t                          NC_002211.1 Influenza B virus (B/Lee/1940) segment 8, complete sequence\n",
      " 30.48\t2018\t0\tP1\t2497570\t          Haploviricotina\n",
      " 30.48\t2018\t0\tC\t2497574\t            Monjiviricetes\n",
      " 30.48\t2018\t0\tO\t11157\t              Mononegavirales\n",
      " 30.48\t2018\t0\tF\t11244\t                Pneumoviridae\n",
      " 30.48\t2018\t2\tG\t1868215\t                  Orthopneumovirus\n",
      " 15.24\t1009\t0\tS\t3049954\t                    Orthopneumovirus hominis\n",
      " 15.24\t1009\t1009\tS1\t11250\t                      Human orthopneumovirus\n",
      " 15.21\t1007\t0\tS\t3050248\t                    Orthopneumovirus bovis\n",
      " 15.21\t1007\t0\tS1\t11246\t                      Bovine orthopneumovirus\n",
      " 15.21\t1007\t1007\tS2\t12814\t                        Respiratory syncytial virus\n",
      " 30.06\t1990\t0\tP\t2732408\t        Pisuviricota\n",
      " 30.06\t1990\t0\tC\t2732506\t          Pisoniviricetes\n",
      " 30.06\t1990\t0\tO\t76804\t            Nidovirales\n",
      " 30.06\t1990\t0\tO1\t2499399\t              Cornidovirineae\n",
      " 30.06\t1990\t0\tF\t11118\t                Coronaviridae\n",
      " 30.06\t1990\t0\tF1\t2501931\t                  Orthocoronavirinae\n",
      " 30.06\t1990\t0\tG\t694002\t                    Betacoronavirus\n",
      " 30.06\t1990\t0\tG1\t2509511\t                      Sarbecovirus\n",
      " 30.06\t1990\t0\tS\t694009\t                        Severe acute respiratory syndrome-related coronavirus\n",
      " 30.06\t1990\t1990\tS1\t2697049\t                          Severe acute respiratory syndrome coronavirus 2\n"
     ]
    }
   ],
   "source": [
    "cat ${TEST_BASE_DIR}/report.txt"
   ]
  },
  {
   "cell_type": "markdown",
   "id": "7cb192cb-d174-4d0a-8afb-d493887c2bcd",
   "metadata": {},
   "source": [
    "## Conclusion\n",
    "The kraken-flu tool is working as intended and the output shows the expected assignement of reads at segment level.  \n",
    "In this database, two references are used for H1N1 and H3N2, respectively. The outcome still assigns the reads to the correct reference from which the simulated reads were made."
   ]
  },
  {
   "cell_type": "markdown",
   "id": "781b0b73-ede7-4060-b087-33836a2307b8",
   "metadata": {},
   "source": [
    "# Build database with all influenza sequences from NCBI\n",
    "In addition to the NCBI RefSeq sequences, this version of the database will contain all influenza genomes from NCBI.  \n",
    "\n"
   ]
  },
  {
   "cell_type": "markdown",
   "id": "22c4717c-c728-4681-abe3-bbfe9f07d87c",
   "metadata": {},
   "source": [
    "## Download data from Influenza Virus Resource (NCBI)\n",
    "Tried using the query tool of the [Influenza Virus Resoiurce](https://www.ncbi.nlm.nih.gov/genomes/FLU/Database/nph-select.cgi?go=database) with the following settings:\n",
    "\n",
    "\n",
    "    - Sequence Type: Nucleotide\n",
    "    - Type: any\n",
    "    - Host: Human\n",
    "    - Country: any\n",
    "    - Subtype: any\n",
    "    - Full length only: yes\n",
    "    - Full length plus: no\n",
    "    - Date: any\n",
    "\n",
    "    - Advanced filter:\n",
    "        - include pandemic (H1N1) viruses ([details](https://www.ncbi.nlm.nih.gov/genome/viruses/variation/help/flu-help-center/how-to-use/#pandemic-viruses))\n",
    "        - include the FLU project\n",
    "        - exclude lab strains\n",
    "        - include vaccine strains\n",
    "        - include lineage defining strains\n",
    "include mixed subtype\n",
    "\n",
    "But download keeps failing via the website (times out). This even happens when reducing to just H1N1 suybtype\n",
    "\n",
    "***\n",
    "\n",
    "This does not seem to be useable\n"
   ]
  },
  {
   "cell_type": "markdown",
   "id": "8e951bed-a0fb-4386-bc2d-2d7e68bcd328",
   "metadata": {},
   "source": [
    "## Download all influenza from NCBI FTP\n",
    "Download the full Influenza file from [NCBI FTP site](https://ftp.ncbi.nih.gov/genomes/INFLUENZA/)"
   ]
  },
  {
   "cell_type": "code",
   "execution_count": 8,
   "id": "781e5511-721b-4bd6-bbe6-b66b00fcea3f",
   "metadata": {},
   "outputs": [],
   "source": [
    "export BASE_DIR=/lustre/scratch126/gsu/team112/personal/fs5/rvi_dev/krakenDBs/kraken_flu/\n",
    "export ALL_INF_LIB=${BASE_DIR}/library_download_all_influenza_ncbi\n",
    "export TAX_PATH=${BASE_DIR}/taxonomy_download/"
   ]
  },
  {
   "cell_type": "code",
   "execution_count": 24,
   "id": "7e83581d-aa5b-4da1-81d6-3d7d307ec1f8",
   "metadata": {},
   "outputs": [],
   "source": [
    "mkdir -p ${ALL_INF_LIB}"
   ]
  },
  {
   "cell_type": "code",
   "execution_count": 21,
   "id": "7aba72cd-de94-4826-9294-a5d7754d9969",
   "metadata": {},
   "outputs": [
    {
     "name": "stdout",
     "output_type": "stream",
     "text": [
      "--2023-12-19 14:54:00--  https://ftp.ncbi.nih.gov/genomes/INFLUENZA/influenza.fna\n",
      "Resolving wwwcache.sanger.ac.uk (wwwcache.sanger.ac.uk)... 172.30.152.200\n",
      "Connecting to wwwcache.sanger.ac.uk (wwwcache.sanger.ac.uk)|172.30.152.200|:3128... connected.\n",
      "Proxy request sent, awaiting response... 200 OK\n",
      "Length: 1429095618 (1.3G)\n",
      "Saving to: ‘influenza.fna’\n",
      "\n",
      "influenza.fna       100%[===================>]   1.33G  39.1MB/s    in 47s     \n",
      "\n",
      "2023-12-19 14:54:47 (29.2 MB/s) - ‘influenza.fna’ saved [1429095618/1429095618]\n",
      "\n"
     ]
    }
   ],
   "source": [
    "cd ${ALL_INF_LIB}\n",
    "wget https://ftp.ncbi.nih.gov/genomes/INFLUENZA/influenza.fna"
   ]
  },
  {
   "cell_type": "markdown",
   "id": "552f734e-37b7-4686-99e9-14499bc29974",
   "metadata": {},
   "source": [
    "## Test: build a database from the NCBI influenza dowbnload\n",
    "This is to make sure that kraken2 can build a database using the donwloaded NCBI influenza FASTA file and the taxonomy data that was previously downloaded. This version of the DB will not have segments as taxa."
   ]
  },
  {
   "cell_type": "markdown",
   "id": "d6f2c8ea-8bd4-4a8a-b1fa-dc9129fd7603",
   "metadata": {},
   "source": [
    "create a direcotry for the DB"
   ]
  },
  {
   "cell_type": "code",
   "execution_count": 12,
   "id": "c42a8896-874b-4b80-8258-43f820ed7616",
   "metadata": {},
   "outputs": [],
   "source": [
    "export ALL_NCBI_TEST_DB=${BASE_DIR}/testdb-allflu-noseg"
   ]
  },
  {
   "cell_type": "code",
   "execution_count": 12,
   "id": "f1c62f50-d9fe-4977-88ce-bd0f311dd1a2",
   "metadata": {},
   "outputs": [],
   "source": [
    "mkdir -p ${ALL_NCBI_TEST_DB}"
   ]
  },
  {
   "cell_type": "markdown",
   "id": "953f43ce-ce1c-42d8-8737-fd619b2405ee",
   "metadata": {},
   "source": [
    "### prime the new DB with viral RefSeq"
   ]
  },
  {
   "cell_type": "code",
   "execution_count": 13,
   "id": "7c3e99d2-846f-44bf-91bb-af5172aa54b7",
   "metadata": {},
   "outputs": [
    {
     "name": "stdout",
     "output_type": "stream",
     "text": [
      "Step 1/2: Performing rsync file transfer of requested files\n",
      "Rsync file transfer complete.\n",
      "Step 2/2: Assigning taxonomic IDs to sequences\n",
      "Processed 14972 projects (18639 sequences, 549.88 Mbp)... done.\n",
      "All files processed, cleaning up extra sequence files... done, library complete.\n",
      "Masking low-complexity regions of downloaded library... done.\n"
     ]
    }
   ],
   "source": [
    "kraken2-build \\\n",
    "    --download-library viral \\\n",
    "    --db ${ALL_NCBI_TEST_DB}"
   ]
  },
  {
   "cell_type": "markdown",
   "id": "c8b8c9b7-6805-43ea-b25b-cdd23278cad4",
   "metadata": {},
   "source": [
    "### add the all-infleunza FASTA file"
   ]
  },
  {
   "cell_type": "code",
   "execution_count": 14,
   "id": "141dd5a0-7b9b-4f96-8cd7-8e2c2a17f50f",
   "metadata": {},
   "outputs": [
    {
     "name": "stdout",
     "output_type": "stream",
     "text": [
      "Masking low-complexity regions of new file... done.\n",
      "Added \"/lustre/scratch126/gsu/team112/personal/fs5/rvi_dev/krakenDBs/kraken_flu//library_download_all_influenza_ncbi/influenza.fna\" to library (/lustre/scratch126/gsu/team112/personal/fs5/rvi_dev/krakenDBs/kraken_flu//testdb-allflu-noseg)\n"
     ]
    }
   ],
   "source": [
    "kraken2-build \\\n",
    "    --add-to-library ${ALL_INF_LIB}/influenza.fna \\\n",
    "    --db ${ALL_NCBI_TEST_DB}"
   ]
  },
  {
   "cell_type": "markdown",
   "id": "a149c8f6-88f6-4aa6-bae9-1d054beead0b",
   "metadata": {},
   "source": [
    "### Copy taxonomy download\n",
    "This was downloaded earlier with krakentools build command, so now we can just copy to the new DB"
   ]
  },
  {
   "cell_type": "code",
   "execution_count": 18,
   "id": "b33a1961-098e-4430-b4e7-0e0bf07c83f2",
   "metadata": {},
   "outputs": [],
   "source": [
    "cp -r ${TAX_PATH}/taxonomy ${ALL_NCBI_TEST_DB}"
   ]
  },
  {
   "cell_type": "code",
   "execution_count": 19,
   "id": "d48e5ac7-570b-4ef9-a4e9-3173a2220523",
   "metadata": {},
   "outputs": [
    {
     "name": "stdout",
     "output_type": "stream",
     "text": [
      "/lustre/scratch126/gsu/team112/personal/fs5/rvi_dev/krakenDBs/kraken_flu//testdb-allflu-noseg\n",
      "├── library\n",
      "│   ├── added\n",
      "│   │   ├── 0WCBagKwHO.fna\n",
      "│   │   ├── 0WCBagKwHO.fna.masked\n",
      "│   │   └── prelim_map_V4K5Ij90bv.txt\n",
      "│   └── viral\n",
      "│       ├── assembly_summary.txt\n",
      "│       ├── library.fna\n",
      "│       ├── library.fna.masked\n",
      "│       ├── manifest.txt\n",
      "│       └── prelim_map.txt\n",
      "└── taxonomy\n",
      "    ├── accmap.dlflag\n",
      "    ├── citations.dmp\n",
      "    ├── delnodes.dmp\n",
      "    ├── division.dmp\n",
      "    ├── gc.prt\n",
      "    ├── gencode.dmp\n",
      "    ├── images.dmp\n",
      "    ├── merged.dmp\n",
      "    ├── names.dmp\n",
      "    ├── nodes.dmp\n",
      "    ├── nucl_gb.accession2taxid\n",
      "    ├── nucl_wgs.accession2taxid\n",
      "    ├── readme.txt\n",
      "    ├── taxdump.dlflag\n",
      "    ├── taxdump.tar.gz\n",
      "    └── taxdump.untarflag\n",
      "\n",
      "4 directories, 24 files\n"
     ]
    }
   ],
   "source": [
    "tree ${ALL_NCBI_TEST_DB}"
   ]
  },
  {
   "cell_type": "markdown",
   "id": "9cf3d231-fd91-4f1e-bbc6-1c3758a1739f",
   "metadata": {},
   "source": [
    "### build the database"
   ]
  },
  {
   "cell_type": "code",
   "execution_count": 20,
   "id": "5ca4eb30-24cb-4bc4-a8e2-96b2ddacb93f",
   "metadata": {},
   "outputs": [
    {
     "name": "stdout",
     "output_type": "stream",
     "text": [
      "Creating sequence ID to taxonomy ID map (step 1)...\n",
      "Found 368575/817587 targets, searched through 177276499 accession IDs...\r"
     ]
    },
    {
     "name": "stderr",
     "output_type": "stream",
     "text": [
      "IOPub message rate exceeded.\n",
      "The Jupyter server will temporarily stop sending output\n",
      "to the client in order to avoid crashing it.\n",
      "To change this limit, set the config variable\n",
      "`--ServerApp.iopub_msg_rate_limit`.\n",
      "\n",
      "Current values:\n",
      "ServerApp.iopub_msg_rate_limit=1000.0 (msgs/sec)\n",
      "ServerApp.rate_limit_window=3.0 (secs)\n",
      "\n"
     ]
    },
    {
     "name": "stdout",
     "output_type": "stream",
     "text": [
      "Found 386193/817587 targets, searched through 181413964 accession IDs...\r"
     ]
    },
    {
     "name": "stderr",
     "output_type": "stream",
     "text": [
      "IOPub message rate exceeded.\n",
      "The Jupyter server will temporarily stop sending output\n",
      "to the client in order to avoid crashing it.\n",
      "To change this limit, set the config variable\n",
      "`--ServerApp.iopub_msg_rate_limit`.\n",
      "\n",
      "Current values:\n",
      "ServerApp.iopub_msg_rate_limit=1000.0 (msgs/sec)\n",
      "ServerApp.rate_limit_window=3.0 (secs)\n",
      "\n"
     ]
    },
    {
     "name": "stdout",
     "output_type": "stream",
     "text": [
      "Completed processing of 836203 sequences, 1850603812 bp accession IDs...\n",
      "Writing data to disk...  complete.\n",
      "Database files completed. [6m54.801s]\n",
      "Database construction complete. [Total: 17m14.131s]\n"
     ]
    }
   ],
   "source": [
    "kraken2-build \\\n",
    "    --build \\\n",
    "    --db ${ALL_NCBI_TEST_DB}"
   ]
  },
  {
   "cell_type": "markdown",
   "id": "2683853d-916f-40bb-873e-25191dd49b68",
   "metadata": {},
   "source": [
    "### Test with simulated data\n",
    "Make sure this database works. As before, use the simulated reads from COVID, RSV and influenza viurses to generate a kraken report.  \n",
    "NOTE: this DB is not to be used in production because it contains incomplete flu genomes which are also not split into segments. "
   ]
  },
  {
   "cell_type": "code",
   "execution_count": 21,
   "id": "af4625e1-694f-4299-8d64-841087b20673",
   "metadata": {},
   "outputs": [],
   "source": [
    "export TEST_BASE_DIR_2=/lustre/scratch126/gsu/team112/personal/fs5/rvi_dev/krakenDBs/kraken_flu_test_allncbi_noseg/"
   ]
  },
  {
   "cell_type": "code",
   "execution_count": 22,
   "id": "7d43f987-2466-4ead-9a62-31f9a3c5e3be",
   "metadata": {},
   "outputs": [],
   "source": [
    "mkdir -p ${TEST_BASE_DIR_2}"
   ]
  },
  {
   "cell_type": "code",
   "execution_count": 23,
   "id": "7eb047a7-bf5a-419b-89f8-7732f14a29fb",
   "metadata": {},
   "outputs": [
    {
     "name": "stdout",
     "output_type": "stream",
     "text": [
      "Loading database information... done.\n",
      "6620 sequences (1.99 Mbp) processed in 0.186s (2135.0 Kseq/m, 640.50 Mbp/m).\n",
      "  6618 sequences classified (99.97%)\n",
      "  2 sequences unclassified (0.03%)\n"
     ]
    }
   ],
   "source": [
    "kraken2 \\\n",
    "    --db ${ALL_NCBI_TEST_DB} \\\n",
    "    --output ${TEST_BASE_DIR_2}/output.kraken \\\n",
    "    --paired \\\n",
    "    --classified-out ${TEST_BASE_DIR_2}/class_seqs#.fq \\\n",
    "    --unclassified-out ${TEST_BASE_DIR_2}/unclass_seqs#.fq \\\n",
    "    --report ${TEST_BASE_DIR_2}/report.txt \\\n",
    "/lustre/scratch126/gsu/team112/personal/fs5/rvi_dev/sim_reads/art/mix/mix_of_all_01-1.fq \\\n",
    "/lustre/scratch126/gsu/team112/personal/fs5/rvi_dev/sim_reads/art/mix/mix_of_all_01-2.fq"
   ]
  },
  {
   "cell_type": "code",
   "execution_count": 25,
   "id": "f141c528-245c-4348-bf56-9f2816d6bb88",
   "metadata": {},
   "outputs": [
    {
     "name": "stdout",
     "output_type": "stream",
     "text": [
      "  0.03\t2\t2\tU\t0\tunclassified\n",
      " 99.97\t6618\t0\tR\t1\troot\n",
      " 99.97\t6618\t0\tD\t10239\t  Viruses\n",
      " 99.97\t6618\t0\tD1\t2559587\t    Riboviria\n",
      " 99.97\t6618\t0\tK\t2732396\t      Orthornavirae\n",
      " 69.91\t4628\t0\tP\t2497569\t        Negarnaviricota\n",
      " 39.43\t2610\t0\tP1\t2497571\t          Polyploviricotina\n",
      " 39.43\t2610\t0\tC\t2497577\t            Insthoviricetes\n",
      " 39.43\t2610\t0\tO\t2499411\t              Articulavirales\n",
      " 39.43\t2610\t0\tF\t11308\t                Orthomyxoviridae\n",
      " 25.53\t1690\t0\tG\t197911\t                  Alphainfluenzavirus\n",
      " 25.53\t1690\t0\tS\t2955291\t                    Alphainfluenzavirus influenzae\n",
      " 25.53\t1690\t1273\tS1\t11320\t                      Influenza A virus\n",
      "  3.96\t262\t118\tS2\t119210\t                        H3N2 subtype\n",
      "  1.37\t91\t91\tS3\t335341\t                          Influenza A virus (A/New York/392/2004(H3N2))\n",
      "  0.03\t2\t2\tS3\t1978707\t                          Influenza A virus (A/Santa Cruz do Sul/LACENRS-913/2011(H3N2))\n",
      "  0.02\t1\t1\tS3\t1517335\t                          Influenza A virus (A/Singapore/H2013.384/2013(H3N2))\n",
      "  0.02\t1\t1\tS3\t327309\t                          Influenza A virus (A/Kinmen/639/04(H3N2))\n",
      "  0.02\t1\t1\tS3\t1909953\t                          Influenza A virus (A/Hawaii/61/2016(H3N2))\n",
      "  0.02\t1\t1\tS3\t2025006\t                          Influenza A virus (A/Kenya/009/2017(H3N2))\n",
      "  0.02\t1\t1\tS3\t1515684\t                          Influenza A virus (A/swine/Guangxi/JGB4/2013(H3N2))\n",
      "  0.02\t1\t1\tS3\t1000838\t                          Influenza A virus (A/Uganda/MUWRP-070/2009(H3N2))\n",
      "  0.02\t1\t1\tS3\t1731044\t                          Influenza A virus (A/California/82/2015(H3N2))\n",
      "  0.02\t1\t1\tS3\t2018281\t                          Influenza A virus (A/Korea/KUMC-GR202/2011(H3N2))\n",
      "  0.02\t1\t1\tS3\t765580\t                          Influenza A virus (A/California/VRDL188/2009(H3N2))\n",
      "  0.02\t1\t1\tS3\t351280\t                          Influenza A virus (A/Memphis/1/1968(H3N2))\n",
      "  0.02\t1\t1\tS3\t1032119\t                          Influenza A virus (A/India/C058671/2005(H3N2))\n",
      "  0.02\t1\t1\tS3\t870460\t                          Influenza A virus (A/swine/Nagano/2000(H3N2))\n",
      "  0.02\t1\t1\tS3\t2015202\t                          Influenza A virus (A/swine/Minnesota/A02216466/2017(H3N2))\n",
      "  0.02\t1\t1\tS3\t2030835\t                          Influenza A virus (A/swine/Alberta/SD0181/2016(H3N2))\n",
      "  0.02\t1\t1\tS3\t383055\t                          Influenza A virus (A/New York/714/1994(H3N2))\n",
      "  0.02\t1\t1\tS3\t438221\t                          Influenza A virus (A/Newcastle/1/2004(H3N2))\n",
      "  0.02\t1\t1\tS3\t353348\t                          Influenza A virus (A/Canterbury/16/2004(H3N2))\n",
      "  0.02\t1\t1\tS3\t661543\t                          Influenza A virus (A/Taiwan/F197/2009(H3N2))\n",
      "  0.02\t1\t1\tS3\t355486\t                          Influenza A virus (A/New York/518/1998(H3N2))\n",
      "  0.02\t1\t1\tS3\t253678\t                          Influenza A virus (A/swine/Hong Kong/1311/01(H3N2))\n",
      "  0.02\t1\t1\tS3\t1032134\t                          Influenza A virus (A/India/C087864/2008(H3N2))\n",
      "  0.02\t1\t1\tS3\t1212700\t                          Influenza A virus (A/swine/Missouri/A01241619/2012(H3N2))\n",
      "  0.02\t1\t1\tS3\t1517285\t                          Influenza A virus (A/Singapore/C2012.197/2012(H3N2))\n",
      "  0.02\t1\t1\tS3\t1004616\t                          Influenza A virus (A/Texas/NHRC0002/2005(H3N2))\n",
      "  0.02\t1\t1\tS3\t1503104\t                          Influenza A virus (A/swine/Italy/282811/2013(H3N2))\n",
      "  0.02\t1\t1\tS3\t1214139\t                          Influenza A virus (A/swine/Guangdong/L5/2010(H3N2))\n",
      "  0.02\t1\t1\tS3\t1261885\t                          Influenza A virus (A/swine/Nebraska/00386/2004(H3N2))\n",
      "  0.02\t1\t1\tS3\t1348507\t                          Influenza A virus (A/swine/Henan/1/2010(H3N2))\n",
      "  0.02\t1\t1\tS3\t1108824\t                          Influenza A virus (A/Mexico/InDRE2118/2005(H3N2))\n",
      "  0.02\t1\t1\tS3\t2032953\t                          Influenza A virus (A/swine/Saskatchewan/SD0118/2015(H3N2))\n",
      "  0.02\t1\t1\tS3\t1788650\t                          Influenza A virus (A/Florida/81/2015(H3N2))\n",
      "  0.02\t1\t1\tS3\t1317939\t                          Influenza A virus (A/Alaska/13/2011(H3N2))\n",
      "  0.02\t1\t1\tS3\t1426058\t                          Influenza A virus (A/swine/South Dakota/SG1453/2003(H3N2))\n",
      "  0.02\t1\t1\tS3\t586210\t                          Influenza A virus (A/Hong Kong/HKU72/2005(H3N2))\n",
      "  0.02\t1\t1\tS3\t1468704\t                          Influenza A virus (A/New York/1022/2006(H3N2))\n",
      "  0.02\t1\t1\tS3\t353365\t                          Influenza A virus (A/Canterbury/109/2004(H3N2))\n",
      "  0.02\t1\t1\tS3\t353484\t                          Influenza A virus (A/Canterbury/270/2005(H3N2))\n",
      "  0.02\t1\t1\tS3\t401396\t                          Influenza A virus (A/Niigata/F183/2006(H3N2))\n",
      "  0.02\t1\t1\tS3\t679739\t                          Influenza A virus (A/New York/3932/2009(H3N2))\n",
      "  0.02\t1\t1\tS3\t1194147\t                          Influenza A virus (A/swine/Guangdong/L21/2011(H3N2))\n",
      "  0.02\t1\t1\tS3\t383220\t                          Influenza A virus (A/Waikato/139/2003(H3N2))\n",
      "  0.02\t1\t1\tS3\t594673\t                          Influenza A virus (A/swine/Thailand/S1/2005(H3N2))\n",
      "  0.02\t1\t1\tS3\t311757\t                          Influenza A virus (A/New York/184/1999(H3N2))\n",
      "  0.02\t1\t1\tS3\t383569\t                          Influenza A virus (A/Shanghai/31/1980(H3N2))\n",
      "  0.02\t1\t1\tS3\t1454183\t                          Influenza A virus (A/Asturias/1324407/2013(H3N2))\n",
      "  0.02\t1\t1\tS3\t1043109\t                          Influenza A virus (A/Taiwan/393/2004(H3N2))\n",
      "  0.02\t1\t1\tS3\t2036952\t                          Influenza A virus (A/swine/North Carolina/A02219753/2017(H3N2))\n",
      "  0.02\t1\t1\tS3\t443875\t                          Influenza A virus (A/swine/Guangdong/SGD6(H3N2))\n",
      "  0.02\t1\t1\tS3\t486628\t                          Influenza A virus (A/swine/Guangdong/165/06(H3N2))\n",
      "  0.02\t1\t1\tS3\t1462143\t                          Influenza A virus (A/Boston/YGA_01214/2013(H3N2))\n",
      "  0.02\t1\t1\tS3\t1041906\t                          Influenza A virus (A/duck/Korea/U14-2/2007(H3N2))\n",
      "  1.75\t116\t44\tS2\t114727\t                        H1N1 subtype\n",
      "  0.20\t13\t13\tS3\t641809\t                          Influenza A virus (A/California/07/2009(H1N1))\n",
      "  0.03\t2\t2\tS3\t860534\t                          Influenza A virus (A/Thailand/CU-MV28/2010(H1N1))\n",
      "  0.03\t2\t2\tS3\t930810\t                          Influenza A virus (A/Jiangsu/S62/2009(H1N1))\n",
      "  0.02\t1\t1\tS3\t714246\t                          Influenza A virus (A/District of Columbia/INS23/2009(H1N1))\n",
      "  0.02\t1\t1\tS3\t988486\t                          Influenza A virus (A/India/NIV30179/2010(H1N1))\n",
      "  0.02\t1\t1\tS3\t1071323\t                          Influenza A virus (A/Zhejiang/3/2009(H1N1))\n",
      "  0.02\t1\t1\tS3\t1820568\t                          Influenza A virus (A/swine/Mexico/AVX42/2012(H1N1))\n",
      "  0.02\t1\t1\tS3\t1305570\t                          Influenza A virus (A/Wisconsin/53/2009(H1N1))\n",
      "  0.02\t1\t1\tS3\t1086543\t                          Influenza A virus (A/swine/Holguin/121/2010(H1N1))\n",
      "  0.02\t1\t1\tS3\t1262170\t                          Influenza A virus (A/swine/Minnesota/A01279213/2012(H1N1))\n",
      "  0.02\t1\t1\tS3\t416705\t                          Influenza A virus (A/Memphis/38/1983(H1N1))\n",
      "  0.02\t1\t1\tS3\t1073457\t                          Influenza A virus (A/swine/Illinois/SG1141/2003(H1N1))\n",
      "  0.02\t1\t1\tS3\t1396475\t                          Influenza A virus (A/Santa Cruz/995/2010(H1N1))\n",
      "  0.02\t1\t1\tS3\t1193849\t                          Influenza A virus (A/swine/Illinois/A01202615/2011(H1N1))\n",
      "  0.02\t1\t1\tS3\t1823892\t                          Influenza A virus (A/Idaho/42/2015(H1N1))\n",
      "  0.02\t1\t1\tS3\t1071485\t                          Influenza A virus (A/Zhejiang/X1/2009(H1N1))\n",
      "  0.02\t1\t1\tS3\t1406989\t                          Influenza A virus (A/swine/Illinois/A01290499/2013(H1N1))\n",
      "  0.02\t1\t1\tS3\t2060339\t                          Influenza A virus (A/California/07-00013/2009(H1N1))\n",
      "  0.02\t1\t1\tS3\t1648080\t                          Influenza A virus (A/Mexico/200130/2014(H1N1))\n",
      "  0.02\t1\t1\tS3\t1638892\t                          Influenza A virus (A/India/Pun151245/2015(H1N1))\n",
      "  0.02\t1\t1\tS3\t1910095\t                          Influenza A virus (A/New York/79/2016(H1N1))\n",
      "  0.02\t1\t1\tS3\t1501722\t                          Influenza A virus (A/Sri Lanka/19/2012(H1N1))\n",
      "  0.02\t1\t1\tS3\t723783\t                          Influenza A virus (A/Wisconsin/629-D00459/2009(H1N1))\n",
      "  0.02\t1\t1\tS3\t1501719\t                          Influenza A virus (A/Sri Lanka/11/2012(H1N1))\n",
      "  0.02\t1\t1\tS3\t1081398\t                          Influenza A virus (A/swine/North Carolina/18161/2002(H1N1))\n",
      "  0.02\t1\t1\tS3\t1421628\t                          Influenza A virus (A/Thailand/SirirajICRC_NMA_9/2011(H1N1))\n",
      "  0.02\t1\t1\tS3\t1184697\t                          Influenza A virus (A/Mexico/UASLP-023/2009(H1N1))\n",
      "  0.02\t1\t1\tS3\t1432601\t                          Influenza A virus (A/swine/Minnesota/SG1235/2005(H1N1))\n",
      "  0.02\t1\t1\tS3\t232234\t                          Influenza A virus (A/Fiji/15899/83(H1N1))\n",
      "  0.02\t1\t1\tS3\t1654287\t                          Influenza A virus (A/swine/Poland/16315/2011(H1N1))\n",
      "  0.02\t1\t1\tS3\t1873091\t                          Influenza A virus (A/California/NHRC_FDX11908/2016(H1N1))\n",
      "  0.02\t1\t1\tS3\t857483\t                          Influenza A virus (A/Iran/1519/2009(H1N1))\n",
      "  0.02\t1\t1\tS3\t1540726\t                          Influenza A virus (A/swine/North Carolina/A01476202/2014(H1N1))\n",
      "  0.02\t1\t1\tS3\t1511957\t                          Influenza A virus (A/swine/Guangdong/NS2801/2010(H1N1))\n",
      "  0.02\t1\t1\tS3\t1108820\t                          Influenza A virus (A/Mexico City/INER16/2009(H1N1))\n",
      "  0.02\t1\t1\tS3\t752156\t                          Influenza A virus (A/Wisconsin/629-D02442/2009(H1N1))\n",
      "  0.02\t1\t1\tS3\t653947\t                          Influenza A virus (A/Castro/JXP/2009(H1N1))\n",
      "  0.02\t1\t1\tS3\t1364900\t                          Influenza A virus (A/Qingdao/F404/2011(H1N1))\n",
      "  0.02\t1\t1\tS3\t1487156\t                          Influenza A virus (A/Uganda/MUWRP-069/2009(H1N1))\n",
      "  0.02\t1\t1\tS3\t1929430\t                          Influenza A virus (A/swine/France/35-160126/2016(H1N1))\n",
      "  0.02\t1\t1\tS3\t679811\t                          Influenza A virus (A/Wisconsin/629-D01903/2009(H1N1))\n",
      "  0.02\t1\t1\tS3\t1140177\t                          Influenza A virus (A/Scotland/EastKilbride_420703/2009(H1N1))\n",
      "  0.02\t1\t1\tS3\t1510478\t                          Influenza A virus (A/Bangkok/SIMI503/2010(H1N1))\n",
      "  0.02\t1\t1\tS3\t761202\t                          Influenza A virus (A/Blagovechensk/01/2009(H1N1))\n",
      "  0.02\t1\t1\tS3\t652936\t                          Influenza A virus (A/Sakai/2/2009(H1N1))\n",
      "  0.02\t1\t1\tS3\t991149\t                          Influenza A virus (A/swine/Minnesota/226128/2010(H1N1))\n",
      "  0.02\t1\t1\tS3\t1305391\t                          Influenza A virus (A/North Dakota/15/2009(H1N1))\n",
      "  0.02\t1\t1\tS3\t1501763\t                          Influenza A virus (A/swine/Sri Lanka/62/2011(H1N1))\n",
      "  0.02\t1\t1\tS3\t1315809\t                          Influenza A virus (A/swine/Thailand/CB228/2010(H1N1))\n",
      "  0.02\t1\t1\tS3\t978110\t                          Influenza A virus (A/India/GWL_DSC/2010(H1N1))\n",
      "  0.02\t1\t1\tS3\t1348883\t                          Influenza A virus (A/India/Nag132467/2013(H1N1))\n",
      "  0.02\t1\t1\tS3\t985928\t                          Influenza A virus (A/South Carolina/WRAIR1645P/2009(H1N1))\n",
      "  0.02\t1\t1\tS3\t710662\t                          Influenza A virus (A/Kurgan/01/2009(H1N1))\n",
      "  0.02\t1\t1\tS3\t723731\t                          Influenza A virus (A/Wisconsin/629-D00938/2009(H1N1))\n",
      "  0.02\t1\t1\tS3\t608585\t                          Influenza A virus (A/swine/Taichung/E3/1992(H1N1))\n",
      "  0.02\t1\t1\tS3\t885193\t                          Influenza A virus (A/Canada-NFL/RV2509/2009(H1N1))\n",
      "  0.02\t1\t1\tS3\t608582\t                          Influenza A virus (A/swine/Pingtung/64-26/2007(H1N1))\n",
      "  0.02\t1\t1\tS3\t1490473\t                          Influenza A virus (A/swine/Guangxi/1/2013(H1N1))\n",
      "  0.18\t12\t10\tS2\t102797\t                        Influenza A virus with incomplete names\n",
      "  0.02\t1\t1\tS3\t727907\t                          Influenza A virus (A/Eurasian wigeon/Shanghai/47F/2008)\n",
      "  0.02\t1\t1\tS3\t1246652\t                          Influenza A virus (A/Aarhus/INS611/2011)\n",
      "  0.12\t8\t1\tS2\t114728\t                        H1N2 subtype\n",
      "  0.02\t1\t1\tS3\t1755985\t                          Influenza A virus (A/swine/North Carolina/A01945748/2015(H1N2))\n",
      "  0.02\t1\t1\tS3\t1470860\t                          Influenza A virus (A/swine/Kansas/12-117893/2012(H1N2))\n",
      "  0.02\t1\t1\tS3\t1654149\t                          Influenza A virus (A/swine/England/61470/2013(H1N2))\n",
      "  0.02\t1\t1\tS3\t1512238\t                          Influenza A virus (A/swine/Hong Kong/NS26/2012(H1N2))\n",
      "  0.02\t1\t1\tS3\t649633\t                          Influenza A virus (A/swine/Hong Kong/78/2003(H1N2))\n",
      "  0.02\t1\t1\tS3\t1261826\t                          Influenza A virus (A/swine/Minnesota/SG1395/2011(H1N2))\n",
      "  0.02\t1\t1\tS3\t1114925\t                          Influenza A virus (A/swine/Minnesota/0745/2010(H1N2))\n",
      "  0.08\t5\t1\tS2\t102793\t                        H5N1 subtype\n",
      "  0.02\t1\t1\tS3\t690998\t                          Influenza A virus (A/chicken/Jakarta/DKI-Nurs/2007(H5N1))\n",
      "  0.02\t1\t1\tS3\t196425\t                          Influenza A virus (A/Chicken/Hong Kong/FY77/01 (H5N1))\n",
      "  0.02\t1\t1\tS3\t762385\t                          Influenza A virus (A/chicken/Henan/A-7/2006(H5N1))\n",
      "  0.02\t1\t1\tS3\t496757\t                          Influenza A virus (A/duck/Hunan/1386/2003(H5N1))\n",
      "  0.03\t2\t1\tS2\t102796\t                        H9N2 subtype\n",
      "  0.02\t1\t1\tS3\t1870773\t                          Influenza A virus (A/turkey/Poland/14/2013(H9N2))\n",
      "  0.03\t2\t1\tS2\t102800\t                        H4N6 subtype\n",
      "  0.02\t1\t1\tS3\t1202640\t                          Influenza A virus (A/American black duck/New Brunswick/03554/2009(H4N6))\n",
      "  0.02\t1\t0\tS2\t119212\t                        H6N1 subtype\n",
      "  0.02\t1\t1\tS3\t1038310\t                          Influenza A virus (A/mallard/California/6744/2009(H6N1))\n",
      "  0.02\t1\t0\tS2\t222769\t                        H6N6 subtype\n",
      "  0.02\t1\t1\tS3\t1454277\t                          Influenza A virus (A/chicken/Guangxi/S4029/2010(H6N6))\n",
      "  0.02\t1\t0\tS2\t140020\t                        H5N9 subtype\n",
      "  0.02\t1\t1\tS3\t1267699\t                          Influenza A virus (A/mallard/Missouri/10MO084/2010(H5N9))\n",
      "  0.02\t1\t0\tS2\t119218\t                        H7N7 subtype\n",
      "  0.02\t1\t1\tS3\t382785\t                          Influenza A virus (A/fowl/Dobson(H7N7))\n",
      "  0.02\t1\t1\tS2\t142951\t                        H12N5 subtype\n",
      "  0.02\t1\t0\tS2\t384619\t                        mixed subtypes\n",
      "  0.02\t1\t1\tS3\t1174538\t                          Influenza A virus (A/Malaysia/23721/2002(mixed))\n",
      "  0.02\t1\t1\tS2\t119214\t                        H7N2 subtype\n",
      "  0.02\t1\t0\tS2\t119211\t                        H3N8 subtype\n",
      "  0.02\t1\t1\tS3\t1322665\t                          Influenza A virus (A/northern pintail/Interior Alaska/9BM11789R0/2009(H3N8))\n",
      "  0.02\t1\t0\tS2\t184006\t                        H6N5 subtype\n",
      "  0.02\t1\t1\tS3\t1935477\t                          Influenza A virus (A/blue winged teal/Missouri/14OS1960/2013(H6N5))\n",
      "  0.02\t1\t0\tS2\t437442\t                        H11N7 subtype\n",
      "  0.02\t1\t1\tS3\t1698340\t                          Influenza A virus (A/duck/Vietnam/HU1-151/2014(H11N7))\n",
      " 13.90\t920\t0\tG\t197912\t                  Betainfluenzavirus\n",
      " 13.90\t920\t0\tS\t2955465\t                    Betainfluenzavirus influenzae\n",
      " 13.90\t920\t797\tS1\t11520\t                      Influenza B virus\n",
      "  1.50\t99\t99\tS2\t518987\t                        Influenza B virus (B/Lee/1940)\n",
      "  0.02\t1\t1\tS2\t416662\t                        Influenza B virus (B/Hong Kong/167/2002)\n",
      "  0.02\t1\t1\tS2\t1468795\t                        Influenza B virus (B/New York/1005/1995)\n",
      "  0.02\t1\t1\tS2\t1774466\t                        Influenza B virus (B/Philippines/17/2013)\n",
      "  0.02\t1\t1\tS2\t1621975\t                        Influenza B virus (B/Alberta/07/2014)\n",
      "  0.02\t1\t1\tS2\t1733723\t                        Influenza B virus (B/Montana/03/2014)\n",
      "  0.02\t1\t1\tS2\t107410\t                        Influenza B virus (B/Henan/22/97)\n",
      "  0.02\t1\t1\tS2\t1462188\t                        Influenza B virus (B/Boston/YGB_01058/2013)\n",
      "  0.02\t1\t1\tS2\t1001799\t                        Influenza B virus (B/Yokohama/12/2005)\n",
      "  0.02\t1\t1\tS2\t1321231\t                        Influenza B virus (B/Wisconsin/04/2012)\n",
      "  0.02\t1\t1\tS2\t385996\t                        Influenza B virus (B/Taiwan/N798/05)\n",
      "  0.02\t1\t1\tS2\t1468829\t                        Influenza B virus (B/New York/1039/2001)\n",
      "  0.02\t1\t1\tS2\t1757490\t                        Influenza B virus (B/Darwin/31/2013)\n",
      "  0.02\t1\t1\tS2\t1468832\t                        Influenza B virus (B/New York/1042/2001)\n",
      "  0.02\t1\t1\tS2\t1296967\t                        Influenza B virus (B/Wellington/02/2004)\n",
      "  0.02\t1\t1\tS2\t1321196\t                        Influenza B virus (B/South Carolina/03/2012)\n",
      "  0.02\t1\t1\tS2\t1275507\t                        Influenza B virus (B/Townsville/11/2002)\n",
      "  0.02\t1\t1\tS2\t1468838\t                        Influenza B virus (B/New York/1048/2002)\n",
      "  0.02\t1\t1\tS2\t164554\t                        Influenza B virus (B/Beijing/43/75)\n",
      "  0.02\t1\t1\tS2\t2051237\t                        Influenza B virus (B/Arizona/64/2017)\n",
      "  0.02\t1\t1\tS2\t1757505\t                        Influenza B virus (B/Hawkes Bay/6/2013)\n",
      "  0.02\t1\t1\tS2\t416664\t                        Influenza B virus (B/Chile/3162/2002)\n",
      "  0.02\t1\t1\tS2\t1640840\t                        Influenza B virus (B/Malaysia/U3901/2014)\n",
      "  0.02\t1\t1\tS2\t444325\t                        Influenza B virus (B/Russia/69)\n",
      "  0.02\t1\t1\tS2\t230285\t                        Influenza B virus (B/Bonn/43)\n",
      " 30.48\t2018\t0\tP1\t2497570\t          Haploviricotina\n",
      " 30.48\t2018\t0\tC\t2497574\t            Monjiviricetes\n",
      " 30.48\t2018\t0\tO\t11157\t              Mononegavirales\n",
      " 30.48\t2018\t0\tF\t11244\t                Pneumoviridae\n",
      " 30.48\t2018\t2\tG\t1868215\t                  Orthopneumovirus\n",
      " 15.24\t1009\t0\tS\t3049954\t                    Orthopneumovirus hominis\n",
      " 15.24\t1009\t1009\tS1\t11250\t                      Human orthopneumovirus\n",
      " 15.21\t1007\t0\tS\t3050248\t                    Orthopneumovirus bovis\n",
      " 15.21\t1007\t0\tS1\t11246\t                      Bovine orthopneumovirus\n",
      " 15.21\t1007\t1007\tS2\t12814\t                        Respiratory syncytial virus\n",
      " 30.06\t1990\t0\tP\t2732408\t        Pisuviricota\n",
      " 30.06\t1990\t0\tC\t2732506\t          Pisoniviricetes\n",
      " 30.06\t1990\t0\tO\t76804\t            Nidovirales\n",
      " 30.06\t1990\t0\tO1\t2499399\t              Cornidovirineae\n",
      " 30.06\t1990\t0\tF\t11118\t                Coronaviridae\n",
      " 30.06\t1990\t0\tF1\t2501931\t                  Orthocoronavirinae\n",
      " 30.06\t1990\t0\tG\t694002\t                    Betacoronavirus\n",
      " 30.06\t1990\t0\tG1\t2509511\t                      Sarbecovirus\n",
      " 30.06\t1990\t0\tS\t694009\t                        Severe acute respiratory syndrome-related coronavirus\n",
      " 30.06\t1990\t1990\tS1\t2697049\t                          Severe acute respiratory syndrome coronavirus 2\n"
     ]
    }
   ],
   "source": [
    "cat ${TEST_BASE_DIR_2}/report.txt "
   ]
  },
  {
   "cell_type": "markdown",
   "id": "230a1e22-8493-4e6b-8eee-9f50ff53f08c",
   "metadata": {},
   "source": [
    "### Conclusions\n",
    "Combining the kraken2 pre-bult NCBI viral RefSeq data with the complete NCBI influenza genome file in one database has been successful.\n",
    "\n",
    "The fact that some genomes are present in both, the RefSeq set and the complete influenza genomes, has not caused any issues for kraken2. It seems that such suplication is dealt with at the database building step.\n",
    "\n",
    "This test shows that the large NCBI influenza genomes file can be used successfully to build a kraken2 database, including the lookup of the taxonomy data, and that it can be combined with the RefSeq data. \n",
    "\n",
    "In the next step, we need to apply the kraken_flu tool to the NCBI influenza data and the RefSeq data to split influenza genomes into segments"
   ]
  },
  {
   "cell_type": "markdown",
   "id": "50da0bea-5d0b-48ff-a0ac-c40b917930e4",
   "metadata": {},
   "source": [
    "## Build DB with only NCBI all influenza dataset but split into segments\n",
    "This is a further test to confirm that a segmented \"all influenza\" dataset will work. This DB does not yet contain vire RefSeq. In contrast to the above version, this DB has the influenza genomes split into segments.\n",
    "\n",
    "Name of the database: testdb-allncbiflu-norefseq\n"
   ]
  },
  {
   "cell_type": "code",
   "execution_count": 5,
   "id": "29c784d4-57db-45f9-aaa8-897a5ef27d5d",
   "metadata": {},
   "outputs": [
    {
     "name": "stdout",
     "output_type": "stream",
     "text": [
      "/lustre/scratch126/gsu/team112/personal/fs5/rvi_dev/krakenDBs/kraken_flu//testdb-allncbiflu-norefseq\n"
     ]
    }
   ],
   "source": [
    "# path to the new DB\n",
    "echo ${BASE_DIR}/testdb-allncbiflu-norefseq"
   ]
  },
  {
   "cell_type": "code",
   "execution_count": 13,
   "id": "95fe225c-050b-4932-aac2-a9191fef4b63",
   "metadata": {},
   "outputs": [],
   "source": [
    "mkdir -p ${BASE_DIR}/testdb-allncbiflu-norefseq"
   ]
  },
  {
   "cell_type": "markdown",
   "id": "dafe7ea9-61dc-4440-8b06-fba8510ef1df",
   "metadata": {},
   "source": [
    "### Filter the NCBI infuenza genomes\n",
    "Use the filter function to discard all non-complete gnomes from the NCBI file. Using the ```--discard_duplicates``` option to ignore (and discard) records where the virus name and segment number is not unique. Such cases are (usually) partial sequences of the different genes on the same segment and we are not interested in such partial segments in any case.   \n",
    "\n",
    "The output file has to be named 'library.fna' as this file is expected by the 2nd step."
   ]
  },
  {
   "cell_type": "code",
   "execution_count": 9,
   "id": "4868bcda-1548-45f5-9fc2-e59a5576f531",
   "metadata": {},
   "outputs": [
    {
     "name": "stdout",
     "output_type": "stream",
     "text": [
      "2024-01-15 19:23:56,397 scanning file /lustre/scratch126/gsu/team112/personal/fs5/rvi_dev/krakenDBs/kraken_flu//library_download_all_influenza_ncbi/influenza.fna for FASTA headers with accepted pattern\n",
      "2024-01-15 19:24:06,528 found 106374 genomes (unique names) before filtering\n",
      "2024-01-15 19:24:06,713 341264 FASTA records pass the filters and will be written to output file\n",
      "2024-01-15 19:24:06,795 starting to write filtered genomes to /lustre/scratch126/gsu/team112/personal/fs5/rvi_dev/krakenDBs/kraken_flu//library_download_all_influenza_ncbi/library.fna\n",
      "2024-01-15 19:24:14,823 finished writing filtered genomes to /lustre/scratch126/gsu/team112/personal/fs5/rvi_dev/krakenDBs/kraken_flu//library_download_all_influenza_ncbi/library.fna\n"
     ]
    }
   ],
   "source": [
    "~/kraken_flu/bin/kraken_flu filter \\\n",
    "    --in_fasta ${ALL_INF_LIB}/influenza.fna \\\n",
    "    --out_fasta ${ALL_INF_LIB}/library.fna \\\n",
    "    --discard_duplicates"
   ]
  },
  {
   "cell_type": "markdown",
   "id": "6a0b483e-62e0-4907-a06c-b74b0bc56cc2",
   "metadata": {},
   "source": [
    "### Create the segmented genome files\n",
    "Use the build function of kraken_flu to create the segment genome file.  \n",
    "The ```library_path``` is the one used above to create the filtere all-NCBI influenza genomes file. The build tool expects a file ```library.fna``` in this folder, which is how the file was named in the above filter command.  \n",
    "\n",
    "The --acc2taxid parameter is needed in this case because the sequences from the Influenza resource do not have a taxid in the FASTA header and need their taxid looked up in this foile from NCBI."
   ]
  },
  {
   "cell_type": "code",
   "execution_count": 18,
   "id": "11656da6-7ccc-4d56-a76a-4e56e014337f",
   "metadata": {},
   "outputs": [
    {
     "name": "stdout",
     "output_type": "stream",
     "text": [
      "2024-01-15 19:37:34,358 writing modified FASTA file to /lustre/scratch126/gsu/team112/personal/fs5/rvi_dev/krakenDBs/kraken_flu//testdb-allncbiflu-norefseq/library/library.fna\n",
      "2024-01-15 19:37:34,368 scanning file /lustre/scratch126/gsu/team112/personal/fs5/rvi_dev/krakenDBs/kraken_flu//library_download_all_influenza_ncbi/library.fna for influenza viruses\n",
      "2024-01-15 19:37:37,618 done - found 243752 segment sequences in FASTA file\n",
      "2024-01-15 19:37:37,618 reading NCBI acc2taxid file to assign taxon IDs to NCBI IDs\n",
      "2024-01-15 19:42:51,637 done reading NCBI acc2taxid file\n",
      "2024-01-15 19:42:59,186 finished writing modified FASTA file\n",
      "2024-01-15 19:42:59,186 no prelim_map.txt file provided in inputs - nothing to do\n",
      "2024-01-15 19:42:59,604 writing modified names file to /lustre/scratch126/gsu/team112/personal/fs5/rvi_dev/krakenDBs/kraken_flu//testdb-allncbiflu-norefseq/taxonomy/names.dmp\n",
      "2024-01-15 19:42:59,906 finished writing modified names file\n",
      "2024-01-15 19:43:00,290 writing modified nodes file to /lustre/scratch126/gsu/team112/personal/fs5/rvi_dev/krakenDBs/kraken_flu//testdb-allncbiflu-norefseq/taxonomy/nodes.dmp\n",
      "2024-01-15 19:43:00,752 finished writing modified nodes file\n"
     ]
    }
   ],
   "source": [
    "~/kraken_flu/bin/kraken_flu build \\\n",
    "    --library_path ${ALL_INF_LIB} \\\n",
    "    --taxonomy_path ${TAX_PATH}/taxonomy \\\n",
    "    --acc2tax_path ${TAX_PATH}/taxonomy/nucl_gb.accession2taxid \\\n",
    "    --out_dir ${BASE_DIR}/testdb-allncbiflu-norefseq"
   ]
  },
  {
   "cell_type": "markdown",
   "id": "7670912b-c4ea-40a9-bd93-febd8d2bf748",
   "metadata": {},
   "source": [
    "### Add the segmented influenza genome file to DB\n",
    "Add the modified NCBI influenza FASTA file to the DB (creates some required files)"
   ]
  },
  {
   "cell_type": "code",
   "execution_count": 20,
   "id": "a82c6219-7edd-4dd8-ab8a-bc54d2464c89",
   "metadata": {},
   "outputs": [
    {
     "name": "stdout",
     "output_type": "stream",
     "text": [
      "Masking low-complexity regions of new file... done.\n",
      "Added \"/lustre/scratch126/gsu/team112/personal/fs5/rvi_dev/krakenDBs/kraken_flu//testdb-allncbiflu-norefseq/library/library.fna\" to library (/lustre/scratch126/gsu/team112/personal/fs5/rvi_dev/krakenDBs/kraken_flu//testdb-allncbiflu-norefseq)\n"
     ]
    }
   ],
   "source": [
    "kraken2-build \\\n",
    "    --add-to-library ${BASE_DIR}/testdb-allncbiflu-norefseq/library/library.fna \\\n",
    "    --db ${BASE_DIR}/testdb-allncbiflu-norefseq"
   ]
  },
  {
   "cell_type": "markdown",
   "id": "611e8dbd-6bbc-44de-aebb-6a1f9ce4b695",
   "metadata": {},
   "source": [
    "### add seqid2taxid file\n",
    "Provide as a symlink. Not clear why it is needed. All sequences in this file have a taxid already in the FASTA header but kraken2 insists to have this file"
   ]
  },
  {
   "cell_type": "code",
   "execution_count": 23,
   "id": "854ce572-6c0c-42ac-aa21-d2098c562c25",
   "metadata": {},
   "outputs": [],
   "source": [
    "ln -s ${TAX_PATH}/taxonomy/nucl_gb.accession2taxid ${BASE_DIR}/testdb-allncbiflu-norefseq/taxonomy/nucl_gb.accession2taxid"
   ]
  },
  {
   "cell_type": "code",
   "execution_count": 24,
   "id": "9b410db6-b35d-435c-944b-46699d2ea5c3",
   "metadata": {},
   "outputs": [
    {
     "name": "stdout",
     "output_type": "stream",
     "text": [
      "/lustre/scratch126/gsu/team112/personal/fs5/rvi_dev/krakenDBs/kraken_flu//testdb-allncbiflu-norefseq\n",
      "├── accmap_file.tmp\n",
      "├── library\n",
      "│   ├── added\n",
      "│   │   ├── prelim_map.txt\n",
      "│   │   ├── prelim_map_UAuqUhkrKx.txt\n",
      "│   │   ├── _u5SU89tL6.fna\n",
      "│   │   └── _u5SU89tL6.fna.masked\n",
      "│   └── library.fna\n",
      "├── seqid2taxid.map.tmp\n",
      "└── taxonomy\n",
      "    ├── names.dmp\n",
      "    ├── nodes.dmp\n",
      "    ├── nucl_gb.accession2taxid -> /lustre/scratch126/gsu/team112/personal/fs5/rvi_dev/krakenDBs/kraken_flu//taxonomy_download//taxonomy/nucl_gb.accession2taxid\n",
      "    └── prelim_map.txt\n",
      "\n",
      "3 directories, 11 files\n"
     ]
    }
   ],
   "source": [
    "tree ${BASE_DIR}/testdb-allncbiflu-norefseq"
   ]
  },
  {
   "cell_type": "markdown",
   "id": "26fb191d-16d4-46f1-a576-431a387a28ed",
   "metadata": {},
   "source": [
    "### build the database"
   ]
  },
  {
   "cell_type": "code",
   "execution_count": 25,
   "id": "4b6dd378-b245-442d-94e0-3093382712b9",
   "metadata": {},
   "outputs": [
    {
     "name": "stdout",
     "output_type": "stream",
     "text": [
      "Creating sequence ID to taxonomy ID map (step 1)...\n",
      "Found 3651/97512 targets, searched through 51292657 accession IDs...\r"
     ]
    },
    {
     "name": "stderr",
     "output_type": "stream",
     "text": [
      "IOPub message rate exceeded.\n",
      "The Jupyter server will temporarily stop sending output\n",
      "to the client in order to avoid crashing it.\n",
      "To change this limit, set the config variable\n",
      "`--ServerApp.iopub_msg_rate_limit`.\n",
      "\n",
      "Current values:\n",
      "ServerApp.iopub_msg_rate_limit=1000.0 (msgs/sec)\n",
      "ServerApp.rate_limit_window=3.0 (secs)\n",
      "\n"
     ]
    },
    {
     "name": "stdout",
     "output_type": "stream",
     "text": [
      "Found 7494/97512 targets, searched through 51305306 accession IDs...\r"
     ]
    },
    {
     "name": "stderr",
     "output_type": "stream",
     "text": [
      "IOPub message rate exceeded.\n",
      "The Jupyter server will temporarily stop sending output\n",
      "to the client in order to avoid crashing it.\n",
      "To change this limit, set the config variable\n",
      "`--ServerApp.iopub_msg_rate_limit`.\n",
      "\n",
      "Current values:\n",
      "ServerApp.iopub_msg_rate_limit=1000.0 (msgs/sec)\n",
      "ServerApp.rate_limit_window=3.0 (secs)\n",
      "\n"
     ]
    },
    {
     "name": "stdout",
     "output_type": "stream",
     "text": [
      "Found 12169/97512 targets, searched through 51348529 accession IDs...\r"
     ]
    },
    {
     "name": "stderr",
     "output_type": "stream",
     "text": [
      "IOPub message rate exceeded.\n",
      "The Jupyter server will temporarily stop sending output\n",
      "to the client in order to avoid crashing it.\n",
      "To change this limit, set the config variable\n",
      "`--ServerApp.iopub_msg_rate_limit`.\n",
      "\n",
      "Current values:\n",
      "ServerApp.iopub_msg_rate_limit=1000.0 (msgs/sec)\n",
      "ServerApp.rate_limit_window=3.0 (secs)\n",
      "\n"
     ]
    },
    {
     "name": "stdout",
     "output_type": "stream",
     "text": [
      "Found 25134/97512 targets, searched through 181859179 accession IDs...\r"
     ]
    },
    {
     "name": "stderr",
     "output_type": "stream",
     "text": [
      "IOPub message rate exceeded.\n",
      "The Jupyter server will temporarily stop sending output\n",
      "to the client in order to avoid crashing it.\n",
      "To change this limit, set the config variable\n",
      "`--ServerApp.iopub_msg_rate_limit`.\n",
      "\n",
      "Current values:\n",
      "ServerApp.iopub_msg_rate_limit=1000.0 (msgs/sec)\n",
      "ServerApp.rate_limit_window=3.0 (secs)\n",
      "\n"
     ]
    },
    {
     "name": "stdout",
     "output_type": "stream",
     "text": [
      "Found 28932/97512 targets, searched through 185313262 accession IDs...\r"
     ]
    },
    {
     "name": "stderr",
     "output_type": "stream",
     "text": [
      "IOPub message rate exceeded.\n",
      "The Jupyter server will temporarily stop sending output\n",
      "to the client in order to avoid crashing it.\n",
      "To change this limit, set the config variable\n",
      "`--ServerApp.iopub_msg_rate_limit`.\n",
      "\n",
      "Current values:\n",
      "ServerApp.iopub_msg_rate_limit=1000.0 (msgs/sec)\n",
      "ServerApp.rate_limit_window=3.0 (secs)\n",
      "\n"
     ]
    },
    {
     "name": "stdout",
     "output_type": "stream",
     "text": [
      "Found 35628/97512 targets, searched through 187994905 accession IDs...\r"
     ]
    },
    {
     "name": "stderr",
     "output_type": "stream",
     "text": [
      "IOPub message rate exceeded.\n",
      "The Jupyter server will temporarily stop sending output\n",
      "to the client in order to avoid crashing it.\n",
      "To change this limit, set the config variable\n",
      "`--ServerApp.iopub_msg_rate_limit`.\n",
      "\n",
      "Current values:\n",
      "ServerApp.iopub_msg_rate_limit=1000.0 (msgs/sec)\n",
      "ServerApp.rate_limit_window=3.0 (secs)\n",
      "\n"
     ]
    },
    {
     "name": "stdout",
     "output_type": "stream",
     "text": [
      "Found 39349/97512 targets, searched through 189309324 accession IDs...\r"
     ]
    },
    {
     "name": "stderr",
     "output_type": "stream",
     "text": [
      "IOPub message rate exceeded.\n",
      "The Jupyter server will temporarily stop sending output\n",
      "to the client in order to avoid crashing it.\n",
      "To change this limit, set the config variable\n",
      "`--ServerApp.iopub_msg_rate_limit`.\n",
      "\n",
      "Current values:\n",
      "ServerApp.iopub_msg_rate_limit=1000.0 (msgs/sec)\n",
      "ServerApp.rate_limit_window=3.0 (secs)\n",
      "\n"
     ]
    },
    {
     "name": "stdout",
     "output_type": "stream",
     "text": [
      "Found 43508/97512 targets, searched through 191731845 accession IDs...\r"
     ]
    },
    {
     "name": "stderr",
     "output_type": "stream",
     "text": [
      "IOPub message rate exceeded.\n",
      "The Jupyter server will temporarily stop sending output\n",
      "to the client in order to avoid crashing it.\n",
      "To change this limit, set the config variable\n",
      "`--ServerApp.iopub_msg_rate_limit`.\n",
      "\n",
      "Current values:\n",
      "ServerApp.iopub_msg_rate_limit=1000.0 (msgs/sec)\n",
      "ServerApp.rate_limit_window=3.0 (secs)\n",
      "\n"
     ]
    },
    {
     "name": "stdout",
     "output_type": "stream",
     "text": [
      "Found 62812/97512 targets, searched through 216230884 accession IDs...\r"
     ]
    },
    {
     "name": "stderr",
     "output_type": "stream",
     "text": [
      "IOPub message rate exceeded.\n",
      "The Jupyter server will temporarily stop sending output\n",
      "to the client in order to avoid crashing it.\n",
      "To change this limit, set the config variable\n",
      "`--ServerApp.iopub_msg_rate_limit`.\n",
      "\n",
      "Current values:\n",
      "ServerApp.iopub_msg_rate_limit=1000.0 (msgs/sec)\n",
      "ServerApp.rate_limit_window=3.0 (secs)\n",
      "\n"
     ]
    },
    {
     "name": "stdout",
     "output_type": "stream",
     "text": [
      "Found 66629/97512 targets, searched through 216690727 accession IDs...\r"
     ]
    },
    {
     "name": "stderr",
     "output_type": "stream",
     "text": [
      "IOPub message rate exceeded.\n",
      "The Jupyter server will temporarily stop sending output\n",
      "to the client in order to avoid crashing it.\n",
      "To change this limit, set the config variable\n",
      "`--ServerApp.iopub_msg_rate_limit`.\n",
      "\n",
      "Current values:\n",
      "ServerApp.iopub_msg_rate_limit=1000.0 (msgs/sec)\n",
      "ServerApp.rate_limit_window=3.0 (secs)\n",
      "\n"
     ]
    },
    {
     "name": "stdout",
     "output_type": "stream",
     "text": [
      "Found 68705/97512 targets, searched through 217156650 accession IDs...\r"
     ]
    },
    {
     "name": "stderr",
     "output_type": "stream",
     "text": [
      "IOPub message rate exceeded.\n",
      "The Jupyter server will temporarily stop sending output\n",
      "to the client in order to avoid crashing it.\n",
      "To change this limit, set the config variable\n",
      "`--ServerApp.iopub_msg_rate_limit`.\n",
      "\n",
      "Current values:\n",
      "ServerApp.iopub_msg_rate_limit=1000.0 (msgs/sec)\n",
      "ServerApp.rate_limit_window=3.0 (secs)\n",
      "\n"
     ]
    },
    {
     "name": "stdout",
     "output_type": "stream",
     "text": [
      "Found 71530/97512 targets, searched through 218051716 accession IDs...\r"
     ]
    },
    {
     "name": "stderr",
     "output_type": "stream",
     "text": [
      "IOPub message rate exceeded.\n",
      "The Jupyter server will temporarily stop sending output\n",
      "to the client in order to avoid crashing it.\n",
      "To change this limit, set the config variable\n",
      "`--ServerApp.iopub_msg_rate_limit`.\n",
      "\n",
      "Current values:\n",
      "ServerApp.iopub_msg_rate_limit=1000.0 (msgs/sec)\n",
      "ServerApp.rate_limit_window=3.0 (secs)\n",
      "\n"
     ]
    },
    {
     "name": "stdout",
     "output_type": "stream",
     "text": [
      "Found 79384/97512 targets, searched through 218659869 accession IDs...\r"
     ]
    },
    {
     "name": "stderr",
     "output_type": "stream",
     "text": [
      "IOPub message rate exceeded.\n",
      "The Jupyter server will temporarily stop sending output\n",
      "to the client in order to avoid crashing it.\n",
      "To change this limit, set the config variable\n",
      "`--ServerApp.iopub_msg_rate_limit`.\n",
      "\n",
      "Current values:\n",
      "ServerApp.iopub_msg_rate_limit=1000.0 (msgs/sec)\n",
      "ServerApp.rate_limit_window=3.0 (secs)\n",
      "\n"
     ]
    },
    {
     "name": "stdout",
     "output_type": "stream",
     "text": [
      "Found 86468/97512 targets, searched through 220843280 accession IDs...\r"
     ]
    },
    {
     "name": "stderr",
     "output_type": "stream",
     "text": [
      "IOPub message rate exceeded.\n",
      "The Jupyter server will temporarily stop sending output\n",
      "to the client in order to avoid crashing it.\n",
      "To change this limit, set the config variable\n",
      "`--ServerApp.iopub_msg_rate_limit`.\n",
      "\n",
      "Current values:\n",
      "ServerApp.iopub_msg_rate_limit=1000.0 (msgs/sec)\n",
      "ServerApp.rate_limit_window=3.0 (secs)\n",
      "\n"
     ]
    },
    {
     "name": "stdout",
     "output_type": "stream",
     "text": [
      "Found 92394/97512 targets, searched through 222696994 accession IDs...\r"
     ]
    },
    {
     "name": "stderr",
     "output_type": "stream",
     "text": [
      "IOPub message rate exceeded.\n",
      "The Jupyter server will temporarily stop sending output\n",
      "to the client in order to avoid crashing it.\n",
      "To change this limit, set the config variable\n",
      "`--ServerApp.iopub_msg_rate_limit`.\n",
      "\n",
      "Current values:\n",
      "ServerApp.iopub_msg_rate_limit=1000.0 (msgs/sec)\n",
      "ServerApp.rate_limit_window=3.0 (secs)\n",
      "\n"
     ]
    },
    {
     "name": "stdout",
     "output_type": "stream",
     "text": [
      "Found 97512/97512 targets, searched through 225690352 accession IDs, search complete.\n",
      "Sequence ID to taxonomy ID map complete. [1m27.411s]\n",
      "Estimating required capacity (step 2)...\n",
      "Estimated hash table requirement: 16550764 bytes\n",
      "Capacity estimation complete. [33.433s]\n",
      "Building database files (step 3)...\n",
      "Taxonomy parsed and converted.\n",
      "CHT created with 19 bits reserved for taxid.\n",
      "Completed processing of 682528 sequences, 1146918922 bp\n",
      "Writing data to disk...  complete.\n",
      "Database files completed. [2m26.228s]\n",
      "Database construction complete. [Total: 4m27.165s]\n"
     ]
    }
   ],
   "source": [
    "kraken2-build \\\n",
    "    --build \\\n",
    "    --db ${BASE_DIR}/testdb-allncbiflu-norefseq"
   ]
  },
  {
   "cell_type": "markdown",
   "id": "508713cf-998d-459d-9a6f-90575a41643c",
   "metadata": {},
   "source": [
    "### Test with simulated data"
   ]
  },
  {
   "cell_type": "code",
   "execution_count": 27,
   "id": "1b6638da-52af-4a36-a602-63f5f9280798",
   "metadata": {},
   "outputs": [],
   "source": [
    "export TEST_BASE_DIR_ncbinoref=/lustre/scratch126/gsu/team112/personal/fs5/rvi_dev/krakenDBs/kraken_flu_test_testdb-allncbiflu-norefseq/"
   ]
  },
  {
   "cell_type": "code",
   "execution_count": 28,
   "id": "48607cc5-d8eb-48ed-a4aa-d66cea78aaf9",
   "metadata": {},
   "outputs": [],
   "source": [
    "mkdir -p ${TEST_BASE_DIR_ncbinoref}"
   ]
  },
  {
   "cell_type": "code",
   "execution_count": 29,
   "id": "ffdec0b0-c6e1-4590-82b4-4053eb6d8c38",
   "metadata": {},
   "outputs": [
    {
     "name": "stdout",
     "output_type": "stream",
     "text": [
      "Loading database information... done.\n",
      "6620 sequences (1.99 Mbp) processed in 0.149s (2665.8 Kseq/m, 799.73 Mbp/m).\n",
      "  2662 sequences classified (40.21%)\n",
      "  3958 sequences unclassified (59.79%)\n"
     ]
    }
   ],
   "source": [
    "kraken2 \\\n",
    "    --db ${BASE_DIR}/testdb-allncbiflu-norefseq \\\n",
    "    --output ${TEST_BASE_DIR_ncbinoref}/output.kraken \\\n",
    "    --paired \\\n",
    "    --classified-out ${TEST_BASE_DIR_ncbinoref}/class_seqs#.fq \\\n",
    "    --unclassified-out ${TEST_BASE_DIR_ncbinoref}/unclass_seqs#.fq \\\n",
    "    --report ${TEST_BASE_DIR_ncbinoref}/report.txt \\\n",
    "/lustre/scratch126/gsu/team112/personal/fs5/rvi_dev/sim_reads/art/mix/mix_of_all_01-1.fq \\\n",
    "/lustre/scratch126/gsu/team112/personal/fs5/rvi_dev/sim_reads/art/mix/mix_of_all_01-2.fq"
   ]
  },
  {
   "cell_type": "code",
   "execution_count": 30,
   "id": "96d22b77-4c09-477e-bec3-d2a61bc643e3",
   "metadata": {},
   "outputs": [
    {
     "name": "stdout",
     "output_type": "stream",
     "text": [
      " 59.79\t3958\t3958\tU\t0\tunclassified\n",
      " 40.21\t2662\t0\tR\t1\troot\n",
      " 40.21\t2662\t0\tD\t10239\t  Viruses\n",
      " 40.21\t2662\t0\tD1\t2559587\t    Riboviria\n",
      " 40.21\t2662\t0\tK\t2732396\t      Orthornavirae\n",
      " 40.21\t2662\t0\tP\t2497569\t        Negarnaviricota\n",
      " 40.21\t2662\t0\tP1\t2497571\t          Polyploviricotina\n",
      " 40.21\t2662\t0\tC\t2497577\t            Insthoviricetes\n",
      " 40.21\t2662\t0\tO\t2499411\t              Articulavirales\n",
      " 40.21\t2662\t0\tF\t11308\t                Orthomyxoviridae\n",
      " 26.31\t1742\t0\tG\t197911\t                  Alphainfluenzavirus\n",
      " 26.31\t1742\t0\tS\t2955291\t                    Alphainfluenzavirus influenzae\n",
      " 26.31\t1742\t1345\tS1\t11320\t                      Influenza A virus\n",
      "  3.99\t264\t126\tS2\t119210\t                        H3N2 subtype\n",
      "  1.59\t105\t0\tS3\t335341\t                          Influenza A virus (A/New York/392/2004(H3N2))\n",
      "  0.42\t28\t28\tS4\t3110328\t                            gi|71564872|gb|CY002069|Influenza A virus (A/New York/392/2004(H3N2)) segment 3, complete sequence\n",
      "  0.39\t26\t26\tS4\t3110323\t                            gi|71564860|gb|CY002064|Influenza A virus (A/New York/392/2004(H3N2)) segment 4, complete sequence\n",
      "  0.33\t22\t22\tS4\t3110329\t                            gi|71564874|gb|CY002070|Influenza A virus (A/New York/392/2004(H3N2)) segment 2, complete sequence\n",
      "  0.23\t15\t15\tS4\t3110330\t                            gi|71564877|gb|CY002071|Influenza A virus (A/New York/392/2004(H3N2)) segment 1, complete sequence\n",
      "  0.21\t14\t14\tS4\t3110325\t                            gi|71564865|gb|CY002066|Influenza A virus (A/New York/392/2004(H3N2)) segment 6, complete sequence\n",
      "  0.03\t2\t0\tS3\t1978707\t                          Influenza A virus (A/Santa Cruz do Sul/LACENRS-913/2011(H3N2))\n",
      "  0.03\t2\t2\tS4\t3228721\t                            gi|1181555991|gb|KY925025|Influenza A virus (A/Santa Cruz do Sul/LACENRS-913/2011(H3N2)) segment 1 polymerase PB2 (PB2) gene, complete cds\n",
      "  0.02\t1\t0\tS3\t383055\t                          Influenza A virus (A/New York/714/1994(H3N2))\n",
      "  0.02\t1\t1\tS4\t3117401\t                            gi|110629278|gb|CY012560|Influenza A virus (A/New York/714/1994(H3N2)) segment 4, complete sequence\n",
      "  0.02\t1\t0\tS3\t1731642\t                          Influenza A virus (A/North Carolina/29/2015(H3N2))\n",
      "  0.02\t1\t1\tS4\t3185503\t                            gi|937166621|gb|KT843922|Influenza A virus (A/North Carolina/29/2015(H3N2)) segment 3 polymerase PA (PA) and PA-X protein (PA-X) genes, complete cds\n",
      "  0.02\t1\t0\tS3\t502055\t                          Influenza A virus (A/swine/Iowa/H02AS8/2002(H3N2))\n",
      "  0.02\t1\t1\tS4\t3137211\t                            gi|262475039|gb|GU135897|Influenza A virus (A/swine/Iowa/H02AS8/2002(H3N2)) segment 2 polymerase PB1 (PB1) gene, complete cds\n",
      "  0.02\t1\t0\tS3\t1731070\t                          Influenza A virus (A/Delaware/09/2015(H3N2))\n",
      "  0.02\t1\t1\tS4\t3177931\t                            gi|937142507|gb|KT835909|Influenza A virus (A/Delaware/09/2015(H3N2)) segment 2 polymerase PB1 (PB1) and PB1-F2 protein (PB1-F2) genes, complete cds\n",
      "  0.02\t1\t0\tS3\t353484\t                          Influenza A virus (A/Canterbury/270/2005(H3N2))\n",
      "  0.02\t1\t1\tS4\t3114168\t                            gi|87043110|gb|CY008658|Influenza A virus (A/Canterbury/270/2005(H3N2)) segment 2, complete sequence\n",
      "  0.02\t1\t0\tS3\t1517285\t                          Influenza A virus (A/Singapore/C2012.197/2012(H3N2))\n",
      "  0.02\t1\t1\tS4\t3169585\t                            gi|666879923|gb|KM070101|Influenza A virus (A/Singapore/C2012.197/2012(H3N2)) segment 8 nuclear export protein (NEP) and nonstructural protein 1 (NS1) genes, complete cds\n",
      "  0.02\t1\t0\tS3\t1639304\t                          Influenza A virus (A/California/17/2014(H3N2))\n",
      "  0.02\t1\t1\tS4\t3174213\t                            gi|807068976|gb|KR057683|Influenza A virus (A/California/17/2014(H3N2)) segment 1 polymerase PB2 (PB2) gene, complete cds\n",
      "  0.02\t1\t0\tS3\t1820539\t                          Influenza A virus (A/swine/Mexico/AVX13/2012(H3N2))\n",
      "  0.02\t1\t1\tS4\t3195375\t                            gi|1017035090|gb|KU976524|Influenza A virus (A/swine/Mexico/AVX13/2012(H3N2)) segment 4 hemagglutinin (HA) gene, complete cds\n",
      "  0.02\t1\t0\tS3\t940821\t                          Influenza A virus (A/swine/QC/1840-2/2009(H3N2))\n",
      "  0.02\t1\t1\tS4\t3153707\t                            gi|319657006|gb|HQ825235|Influenza A virus (A/swine/QC/1840-2/2009(H3N2)) segment 4 hemagglutinin (HA) gene, complete cds\n",
      "  0.02\t1\t0\tS3\t383220\t                          Influenza A virus (A/Waikato/139/2003(H3N2))\n",
      "  0.02\t1\t1\tS4\t3117218\t                            gi|110333361|gb|CY012408|Influenza A virus (A/Waikato/139/2003(H3N2)) segment 4, complete sequence\n",
      "  0.02\t1\t0\tS3\t1731897\t                          Influenza A virus (A/Virginia/37/2014(H3N2))\n",
      "  0.02\t1\t1\tS4\t3181890\t                            gi|937154001|gb|KT840285|Influenza A virus (A/Virginia/37/2014(H3N2)) segment 1 polymerase PB2 (PB2) gene, complete cds\n",
      "  0.02\t1\t0\tS3\t353348\t                          Influenza A virus (A/Canterbury/16/2004(H3N2))\n",
      "  0.02\t1\t1\tS4\t3112911\t                            gi|83752273|gb|CY007361|Influenza A virus (A/Canterbury/16/2004(H3N2)) segment 2, complete sequence\n",
      "  0.02\t1\t0\tS3\t2036952\t                          Influenza A virus (A/swine/North Carolina/A02219753/2017(H3N2))\n",
      "  0.02\t1\t1\tS4\t3234037\t                            gi|1327828375|gb|MG784624|Influenza A virus (A/swine/North Carolina/A02219753/2017(H3N2)) segment 3 polymerase PA (PA) and PA-X protein (PA-X) genes, complete cds\n",
      "  0.02\t1\t0\tS3\t586160\t                          Influenza A virus (A/Hong Kong/HKU22/2004(H3N2))\n",
      "  0.02\t1\t1\tS4\t3130100\t                            gi|225907955|gb|CY038624|Influenza A virus (A/Hong Kong/HKU22/2004(H3N2)) segment 7, complete sequence\n",
      "  0.02\t1\t0\tS3\t1909953\t                          Influenza A virus (A/Hawaii/61/2016(H3N2))\n",
      "  0.02\t1\t1\tS4\t3216855\t                            gi|1073671226|gb|KX916859|Influenza A virus (A/Hawaii/61/2016(H3N2)) segment 3 polymerase PA (PA) and PA-X protein (PA-X) genes, complete cds\n",
      "  0.02\t1\t0\tS3\t355486\t                          Influenza A virus (A/New York/518/1998(H3N2))\n",
      "  0.02\t1\t1\tS4\t3112024\t                            gi|82502355|gb|CY006482|Influenza A virus (A/New York/518/1998(H3N2)) segment 1, complete sequence\n",
      "  0.02\t1\t0\tS3\t311757\t                          Influenza A virus (A/New York/184/1999(H3N2))\n",
      "  0.02\t1\t1\tS4\t3109683\t                            gi|66473502|gb|CY001459|Influenza A virus (A/New York/184/1999(H3N2)) segment 2, complete sequence\n",
      "  0.02\t1\t0\tS3\t1515684\t                          Influenza A virus (A/swine/Guangxi/JGB4/2013(H3N2))\n",
      "  0.02\t1\t1\tS4\t3169047\t                            gi|664806187|gb|KM061019|Influenza A virus (A/swine/Guangxi/JGB4/2013(H3N2)) segment 6 neuraminidase (NA) gene, complete cds\n",
      "  0.02\t1\t0\tS3\t364138\t                          Influenza A virus (A/New York/540/1998(H3N2))\n",
      "  0.02\t1\t1\tS4\t3113876\t                            gi|86816427|gb|CY008966|Influenza A virus (A/New York/540/1998(H3N2)) segment 6, complete sequence\n",
      "  0.02\t1\t0\tS3\t1541155\t                          Influenza A virus (A/Quebec/26-281106/2006(H3N2))\n",
      "  0.02\t1\t1\tS4\t3171243\t                            gi|695308098|gb|KM438105|Influenza A virus (A/Quebec/26-281106/2006(H3N2)) segment 7 matrix protein 2 (M2) and matrix protein 1 (M1) genes, complete cds\n",
      "  0.02\t1\t0\tS3\t586210\t                          Influenza A virus (A/Hong Kong/HKU72/2005(H3N2))\n",
      "  0.02\t1\t1\tS4\t3133708\t                            gi|255529075|gb|CY043762|Influenza A virus (A/Hong Kong/HKU72/2005(H3N2)) segment 6, complete sequence\n",
      "  0.02\t1\t0\tS3\t383588\t                          Influenza A virus (A/Memphis/8/1988(H3N2))\n",
      "  0.02\t1\t1\tS4\t3115729\t                            gi|94959525|gb|CY010761|Influenza A virus (A/Memphis/8/1988(H3N2)) segment 3, complete sequence\n",
      "  0.02\t1\t0\tS3\t1731044\t                          Influenza A virus (A/California/82/2015(H3N2))\n",
      "  0.02\t1\t1\tS4\t3184967\t                            gi|937164678|gb|KT843386|Influenza A virus (A/California/82/2015(H3N2)) segment 8 nuclear export protein (NEP) and nonstructural protein 1 (NS1) genes, complete cds\n",
      "  0.02\t1\t0\tS3\t1517335\t                          Influenza A virus (A/Singapore/H2013.384/2013(H3N2))\n",
      "  0.02\t1\t1\tS4\t3169714\t                            gi|666880352|gb|KM070244|Influenza A virus (A/Singapore/H2013.384/2013(H3N2)) segment 3 polymerase PA (PA) and PA-X protein (PA-X) genes, complete cds\n",
      "  0.02\t1\t0\tS3\t353365\t                          Influenza A virus (A/Canterbury/109/2004(H3N2))\n",
      "  0.02\t1\t1\tS4\t3113256\t                            gi|84873106|gb|CY008002|Influenza A virus (A/Canterbury/109/2004(H3N2)) segment 1, complete sequence\n",
      "  0.02\t1\t0\tS3\t2015202\t                          Influenza A virus (A/swine/Minnesota/A02216466/2017(H3N2))\n",
      "  0.02\t1\t1\tS4\t3231441\t                            gi|1212090600|gb|MF375246|Influenza A virus (A/swine/Minnesota/A02216466/2017(H3N2)) segment 6 neuraminidase (NA) gene, complete cds\n",
      "  0.02\t1\t0\tS3\t1905820\t                          Influenza A virus (A/swine/Minnesota/A01781222/2016(H3N2))\n",
      "  0.02\t1\t1\tS4\t3229786\t                            gi|1196819315|gb|MF045192|Influenza A virus (A/swine/Minnesota/A01781222/2016(H3N2)) segment 5 nucleocapsid protein (NP) gene, complete cds\n",
      "  0.02\t1\t0\tS3\t1469644\t                          Influenza A virus (A/swine/Tochigi/14/2013(H3N2))\n",
      "  0.02\t1\t1\tS4\t3172231\t                            gi|745992817|gb|AB914508|Influenza A virus (A/swine/Tochigi/14/2013(H3N2)) viral cRNA, segment 4, complete sequence\n",
      "  0.02\t1\t0\tS3\t1348507\t                          Influenza A virus (A/swine/Henan/1/2010(H3N2))\n",
      "  0.02\t1\t1\tS4\t3162744\t                            gi|543869147|gb|KF550964|Influenza A virus (A/swine/Henan/1/2010(H3N2)) segment 2 polymerase PB1 (PB1) gene, complete cds\n",
      "  0.02\t1\t0\tS3\t1788650\t                          Influenza A virus (A/Florida/81/2015(H3N2))\n",
      "  0.02\t1\t1\tS4\t3193426\t                            gi|984692141|gb|KU591090|Influenza A virus (A/Florida/81/2015(H3N2)) segment 7 matrix protein 2 (M2) and matrix protein 1 (M1) genes, complete cds\n",
      "  0.02\t1\t0\tS3\t1731793\t                          Influenza A virus (A/Texas/19/2015(H3N2))\n",
      "  0.02\t1\t1\tS4\t3184691\t                            gi|937163619|gb|KT843102|Influenza A virus (A/Texas/19/2015(H3N2)) segment 2 polymerase PB1 (PB1) and PB1-F2 protein (PB1-F2) genes, complete cds\n",
      "  1.33\t88\t32\tS2\t114727\t                        H1N1 subtype\n",
      "  0.20\t13\t0\tS3\t641809\t                          Influenza A virus (A/California/07/2009(H1N1))\n",
      "  0.20\t13\t13\tS4\t3130759\t                            gi|227977161|gb|FJ969536|Influenza A virus (A/California/07/2009(H1N1)) segment 5 nucleocapsid protein (NP) gene, complete cds\n",
      "  0.03\t2\t0\tS3\t930810\t                          Influenza A virus (A/Jiangsu/S62/2009(H1N1))\n",
      "  0.02\t1\t1\tS4\t3153147\t                            gi|313105451|gb|HQ652619|Influenza A virus (A/Jiangsu/S62/2009(H1N1)) segment 3 polymerase PA (PA) gene, complete cds\n",
      "  0.02\t1\t1\tS4\t3153149\t                            gi|313105455|gb|HQ652621|Influenza A virus (A/Jiangsu/S62/2009(H1N1)) segment 2 polymerase PB1 (PB1) gene, complete cds; and nonfunctional PB1-F2 protein (PB1-F2) gene, complete sequence\n",
      "  0.03\t2\t0\tS3\t978110\t                          Influenza A virus (A/India/GWL_DSC/2010(H1N1))\n",
      "  0.02\t1\t1\tS4\t3153828\t                            gi|323135528|gb|JF265678|Influenza A virus (A/India/GWL_DSC/2010(H1N1)) segment 1 polymerase PB2 (PB2) gene, complete cds\n",
      "  0.02\t1\t1\tS4\t3154014\t                            gi|328942923|gb|JF764085|Influenza A virus (A/India/GWL_DSC/2010(H1N1)) segment 2 polymerase PB1 (PB1) gene, complete cds; and nonfunctional PB1-F2 protein (PB1-F2) gene, complete sequence\n",
      "  0.02\t1\t0\tS3\t1305094\t                          Influenza A virus (A/Colorado/02/2010(H1N1))\n",
      "  0.02\t1\t1\tS4\t3160017\t                            gi|474455961|gb|KC780224|Influenza A virus (A/Colorado/02/2010(H1N1)) segment 4 hemagglutinin (HA) gene, complete cds\n",
      "  0.02\t1\t0\tS3\t1501719\t                          Influenza A virus (A/Sri Lanka/11/2012(H1N1))\n",
      "  0.02\t1\t1\tS4\t3166241\t                            gi|649789473|gb|KJ856022|Influenza A virus (A/Sri Lanka/11/2012(H1N1)) segment 5 nucleocapsid protein (NP) gene, complete cds\n",
      "  0.02\t1\t0\tS3\t1501722\t                          Influenza A virus (A/Sri Lanka/19/2012(H1N1))\n",
      "  0.02\t1\t1\tS4\t3166227\t                            gi|649789352|gb|KJ856047|Influenza A virus (A/Sri Lanka/19/2012(H1N1)) segment 7 matrix protein 2 (M2) and matrix protein 1 (M1) genes, complete cds\n",
      "  0.02\t1\t0\tS3\t1501724\t                          Influenza A virus (A/Sri Lanka/19838/2010(H1N1))\n",
      "  0.02\t1\t1\tS4\t3166217\t                            gi|649789257|gb|KJ856060|Influenza A virus (A/Sri Lanka/19838/2010(H1N1)) segment 5 nucleocapsid protein (NP) gene, complete cds\n",
      "  0.02\t1\t0\tS3\t1638892\t                          Influenza A virus (A/India/Pun151245/2015(H1N1))\n",
      "  0.02\t1\t1\tS4\t3174416\t                            gi|814945442|gb|KR052648|Influenza A virus (A/India/Pun151245/2015(H1N1)) segment 7 matrix protein 2 (M2) and matrix protein 1 (M1) genes, complete cds\n",
      "  0.02\t1\t0\tS3\t1210217\t                          Influenza A virus (A/Singapore/GP413/2010(H1N1))\n",
      "  0.02\t1\t1\tS4\t3157465\t                            gi|399224256|gb|JX309035|Influenza A virus (A/Singapore/GP413/2010(H1N1)) segment 6 neuraminidase (NA) gene, complete cds\n",
      "  0.02\t1\t0\tS3\t1910095\t                          Influenza A virus (A/New York/79/2016(H1N1))\n",
      "  0.02\t1\t1\tS4\t3215902\t                            gi|1073667698|gb|KX915802|Influenza A virus (A/New York/79/2016(H1N1)) segment 2 polymerase PB1 (PB1) gene, complete cds; and PB1-F2 gene, complete sequence\n",
      "  0.02\t1\t0\tS3\t1305570\t                          Influenza A virus (A/Wisconsin/53/2009(H1N1))\n",
      "  0.02\t1\t1\tS4\t3160726\t                            gi|474460855|gb|KC782307|Influenza A virus (A/Wisconsin/53/2009(H1N1)) segment 3 polymerase PA (PA) and PA-X protein (PA-X) genes, complete cds\n",
      "  0.02\t1\t0\tS3\t416705\t                          Influenza A virus (A/Memphis/38/1983(H1N1))\n",
      "  0.02\t1\t1\tS4\t3121690\t                            gi|120433992|gb|CY019041|Influenza A virus (A/Memphis/38/1983(H1N1)) segment 8, complete sequence\n",
      "  0.02\t1\t0\tS3\t1501739\t                          Influenza A virus (A/Sri Lanka/22700/2010(H1N1))\n",
      "  0.02\t1\t1\tS4\t3166090\t                            gi|649788526|gb|KJ856192|Influenza A virus (A/Sri Lanka/22700/2010(H1N1)) segment 4 hemagglutinin (HA) gene, complete cds\n",
      "  0.02\t1\t0\tS3\t679811\t                          Influenza A virus (A/Wisconsin/629-D01903/2009(H1N1))\n",
      "  0.02\t1\t1\tS4\t3137754\t                            gi|268634108|gb|CY050998|Influenza A virus (A/Wisconsin/629-D01903/2009(H1N1)) segment 1, complete sequence\n",
      "  0.02\t1\t0\tS3\t723731\t                          Influenza A virus (A/Wisconsin/629-D00938/2009(H1N1))\n",
      "  0.02\t1\t1\tS4\t3143952\t                            gi|292495798|gb|CY058682|Influenza A virus (A/Wisconsin/629-D00938/2009(H1N1)) segment 2, complete sequence\n",
      "  0.02\t1\t0\tS3\t1050899\t                          Influenza A virus (A/Tula/CRIE-SIA/2011(H1N1))\n",
      "  0.02\t1\t1\tS4\t3154481\t                            gi|339518832|gb|JN185095|Influenza A virus (A/Tula/CRIE-SIA/2011(H1N1)) segment 6 neuraminidase (NA) gene, complete cds\n",
      "  0.02\t1\t0\tS3\t679870\t                          Influenza A virus (A/Wisconsin/629-S0220/2009(H1N1))\n",
      "  0.02\t1\t1\tS4\t3138098\t                            gi|268634935|gb|CY051342|Influenza A virus (A/Wisconsin/629-S0220/2009(H1N1)) segment 1, complete sequence\n",
      "  0.02\t1\t0\tS3\t1396475\t                          Influenza A virus (A/Santa Cruz/995/2010(H1N1))\n",
      "  0.02\t1\t1\tS4\t3163728\t                            gi|546236516|gb|KF612060|Influenza A virus (A/Santa Cruz/995/2010(H1N1)) segment 2 polymerase PB1 (PB1) gene, complete cds; and nonfunctional PB1-F2 protein (PB1-F2) gene, complete sequence\n",
      "  0.02\t1\t0\tS3\t710662\t                          Influenza A virus (A/Kurgan/01/2009(H1N1))\n",
      "  0.02\t1\t1\tS4\t3140286\t                            gi|284222777|gb|GU480947|Influenza A virus (A/Kurgan/01/2009(H1N1)) segment 8 nuclear export protein (NEP) and nonstructural protein 1 (NS1) genes, complete cds\n",
      "  0.02\t1\t1\tS3\t1366254\t                          Influenza A virus (A/pintail/Alberta/210/2002(H1N1))\n",
      "  0.02\t1\t0\tS3\t752156\t                          Influenza A virus (A/Wisconsin/629-D02442/2009(H1N1))\n",
      "  0.02\t1\t1\tS4\t3146041\t                            gi|295843642|gb|CY063242|Influenza A virus (A/Wisconsin/629-D02442/2009(H1N1)) segment 1, complete sequence\n",
      "  0.02\t1\t0\tS3\t1820568\t                          Influenza A virus (A/swine/Mexico/AVX42/2012(H1N1))\n",
      "  0.02\t1\t1\tS4\t3195183\t                            gi|1017034519|gb|KU976599|Influenza A virus (A/swine/Mexico/AVX42/2012(H1N1)) segment 7 matrix protein 2 (M2) and matrix protein 1 (M1) genes, complete cds\n",
      "  0.02\t1\t0\tS3\t1929430\t                          Influenza A virus (A/swine/France/35-160126/2016(H1N1))\n",
      "  0.02\t1\t1\tS4\t3225823\t                            gi|1127931437|gb|KY364138|Influenza A virus (A/swine/France/35-160126/2016(H1N1)) segment 6 neuraminidase (NA) gene, complete cds\n",
      "  0.02\t1\t0\tS3\t1672412\t                          Influenza A virus (A/Singapore/DMS1154/2010(H1N1))\n",
      "  0.02\t1\t1\tS4\t3177113\t                            gi|880803253|gb|KT181428|Influenza A virus (A/Singapore/DMS1154/2010(H1N1)) segment 6 neuraminidase (NA) gene, complete cds\n",
      "  0.02\t1\t0\tS3\t1654120\t                          Influenza A virus (A/swine/England/041313/2013(H1N1))\n",
      "  0.02\t1\t1\tS4\t3174867\t                            gi|827497880|gb|KR700431|Influenza A virus (A/swine/England/041313/2013(H1N1)) segment 6 neuraminidase (NA) gene, complete cds\n",
      "  0.02\t1\t0\tS3\t652936\t                          Influenza A virus (A/Sakai/2/2009(H1N1))\n",
      "  0.02\t1\t1\tS4\t3132808\t                            gi|239949911|gb|GQ267850|Influenza A virus (A/Sakai/2/2009(H1N1)) segment 2 polymerase PB1 (PB1) gene, complete cds; and nonfunctional PB1-F2 protein (PB1-F2) gene, complete sequence\n",
      "  0.02\t1\t0\tS3\t2024566\t                          Influenza A virus (A/Mexico/4431/2016(H1N1))\n",
      "  0.02\t1\t1\tS4\t3231605\t                            gi|1234112124|gb|MF593493|Influenza A virus (A/Mexico/4431/2016(H1N1)) segment 4 hemagglutinin (HA) gene, complete cds\n",
      "  0.02\t1\t0\tS3\t1841092\t                          Influenza A virus (A/California/04-224-MA/2009(H1N1))\n",
      "  0.02\t1\t1\tS4\t3196767\t                            gi|1027920937|gb|KX136298|Influenza A virus (A/California/04-224-MA/2009(H1N1)) segment 6 neuraminidase (NA) gene, complete cds\n",
      "  0.02\t1\t0\tS3\t761202\t                          Influenza A virus (A/Blagovechensk/01/2009(H1N1))\n",
      "  0.02\t1\t1\tS4\t3145424\t                            gi|295687151|gb|HM173605|Influenza A virus (A/Blagovechensk/01/2009(H1N1)) segment 2 polymerase PB1 (PB1) gene, complete cds; and nonfunctional PB1-F2 protein (PB1-F2) gene, complete sequence\n",
      "  0.02\t1\t0\tS3\t1086543\t                          Influenza A virus (A/swine/Holguin/121/2010(H1N1))\n",
      "  0.02\t1\t1\tS4\t3154947\t                            gi|347298871|gb|HE584745|Influenza A virus (A/swine/Holguin/121/2010(H1N1)) segment 1, complete genome\n",
      "  0.02\t1\t0\tS3\t1151789\t                          Influenza A virus (A/swine/Shandong/327/2010(H1N1))\n",
      "  0.02\t1\t1\tS4\t3156652\t                            gi|380719787|gb|JQ695871|Influenza A virus (A/swine/Shandong/327/2010(H1N1)) segment 4 hemagglutinin (HA) gene, complete cds\n",
      "  0.02\t1\t0\tS3\t1348883\t                          Influenza A virus (A/India/Nag132467/2013(H1N1))\n",
      "  0.02\t1\t1\tS4\t3162225\t                            gi|523793975|gb|KF280733|Influenza A virus (A/India/Nag132467/2013(H1N1)) segment 2 polymerase PB1 (PB1) gene, complete cds; and nonfunctional PB1-F2 protein (PB1-F2) gene, complete sequence\n",
      "  0.02\t1\t0\tS3\t856442\t                          Influenza A virus (A/Odense/INS307/2009(H1N1))\n",
      "  0.02\t1\t1\tS4\t3150069\t                            gi|304419532|gb|CY072246|Influenza A virus (A/Odense/INS307/2009(H1N1)) segment 4, complete sequence\n",
      "  0.02\t1\t0\tS3\t934287\t                          Influenza A virus (A/swine/Jangsu/38/2010(H1N1))\n",
      "  0.02\t1\t1\tS4\t3153195\t                            gi|314913791|gb|HQ695938|Influenza A virus (A/swine/Jangsu/38/2010(H1N1)) segment 4 hemagglutinin (HA) gene, complete cds\n",
      "  0.02\t1\t0\tS3\t934288\t                          Influenza A virus (A/swine/Jangsu/434/2010(H1N1))\n",
      "  0.02\t1\t1\tS4\t3153201\t                            gi|314913803|gb|HQ695986|Influenza A virus (A/swine/Jangsu/434/2010(H1N1)) segment 4 hemagglutinin (HA) gene, complete cds\n",
      "  0.02\t1\t0\tS3\t1193849\t                          Influenza A virus (A/swine/Illinois/A01202615/2011(H1N1))\n",
      "  0.02\t1\t1\tS4\t3159713\t                            gi|451330111|gb|KC508545|Influenza A virus (A/swine/Illinois/A01202615/2011(H1N1)) segment 1 polymerase PB2 (PB2) gene, complete cds\n",
      "  0.02\t1\t0\tS3\t1262170\t                          Influenza A virus (A/swine/Minnesota/A01279213/2012(H1N1))\n",
      "  0.02\t1\t1\tS4\t3162016\t                            gi|510791244|gb|KF026663|Influenza A virus (A/swine/Minnesota/A01279213/2012(H1N1)) segment 3 polymerase PA (PA) and PA-X protein (PA-X) genes, complete cds\n",
      "  0.02\t1\t0\tS3\t1511957\t                          Influenza A virus (A/swine/Guangdong/NS2801/2010(H1N1))\n",
      "  0.02\t1\t1\tS4\t3166583\t                            gi|662489692|gb|KM027509|Influenza A virus (A/swine/Guangdong/NS2801/2010(H1N1)) segment 2 polymerase PB1 (PB1) gene, complete cds; and nonfunctional PB1-F2 protein (PB1-F2) gene, complete sequence\n",
      "  0.02\t1\t0\tS3\t1672522\t                          Influenza A virus (A/Singapore/DMS35/2009(H1N1))\n",
      "  0.02\t1\t1\tS4\t3176255\t                            gi|880801159|gb|KT181110|Influenza A virus (A/Singapore/DMS35/2009(H1N1)) segment 4 hemagglutinin (HA) gene, complete cds\n",
      "  0.02\t1\t0\tS3\t1654287\t                          Influenza A virus (A/swine/Poland/16315/2011(H1N1))\n",
      "  0.02\t1\t1\tS4\t3174908\t                            gi|827498261|gb|KR700587|Influenza A virus (A/swine/Poland/16315/2011(H1N1)) segment 7 matrix protein 2 (M2) and matrix protein 1 (M1) genes, complete cds\n",
      "  0.02\t1\t0\tS3\t723783\t                          Influenza A virus (A/Wisconsin/629-D00459/2009(H1N1))\n",
      "  0.02\t1\t1\tS4\t3143713\t                            gi|291621109|gb|CY058412|Influenza A virus (A/Wisconsin/629-D00459/2009(H1N1)) segment 4, complete sequence\n",
      "  0.02\t1\t0\tS3\t1490473\t                          Influenza A virus (A/swine/Guangxi/1/2013(H1N1))\n",
      "  0.02\t1\t1\tS4\t3165690\t                            gi|635231419|gb|KJ725061|Influenza A virus (A/swine/Guangxi/1/2013(H1N1)) segment 3 polymerase PA (PA) gene, complete cds\n",
      "  0.15\t10\t8\tS2\t102793\t                        H5N1 subtype\n",
      "  0.02\t1\t1\tS3\t496757\t                          Influenza A virus (A/duck/Hunan/1386/2003(H5N1))\n",
      "  0.02\t1\t1\tS3\t762385\t                          Influenza A virus (A/chicken/Henan/A-7/2006(H5N1))\n",
      "  0.08\t5\t2\tS2\t114728\t                        H1N2 subtype\n",
      "  0.02\t1\t1\tS3\t1380263\t                          Influenza A virus (A/swine/Missouri/A01432837/2013(H1N2))\n",
      "  0.02\t1\t1\tS3\t1654149\t                          Influenza A virus (A/swine/England/61470/2013(H1N2))\n",
      "  0.02\t1\t1\tS3\t1755985\t                          Influenza A virus (A/swine/North Carolina/A01945748/2015(H1N2))\n",
      "  0.03\t2\t1\tS2\t102796\t                        H9N2 subtype\n",
      "  0.02\t1\t1\tS3\t1870773\t                          Influenza A virus (A/turkey/Poland/14/2013(H9N2))\n",
      "  0.02\t1\t1\tS2\t3307386\t                        gi|1675502977|gb|MN003662|Influenza A virus (A/Connecticut/24/2019(H1N1)) segment 3 polymerase PA (PA) and PA-X protein (PA-X) genes, complete cds\n",
      "  0.02\t1\t0\tS2\t142951\t                        H12N5 subtype\n",
      "  0.02\t1\t1\tS3\t908644\t                          Influenza A virus (A/mallard/Washington/44338-195/2007(H12N5))\n",
      "  0.02\t1\t1\tS2\t3309411\t                        gi|1682000089|gb|MN061208|Influenza A virus (A/Vladimir/87/2019(H3N2)) segment 1 polymerase PB2 (PB2) gene, complete cds\n",
      "  0.02\t1\t1\tS2\t3251741\t                        gi|1395955133|gb|MH446964|Influenza A virus (A/Wisconsin/87/2018(H1N1)) segment 4 hemagglutinin (HA) gene, complete cds\n",
      "  0.02\t1\t1\tS2\t3237726\t                        gi|1365409833|gb|MH079657|Influenza A virus (A/Colorado/06/2018(H1N1)) segment 2 polymerase PB1 (PB1) gene, complete cds; and nonfunctional PB1-F2 protein (PB1-F2) gene, complete sequence\n",
      "  0.02\t1\t1\tS2\t3288993\t                        gi|1593225676|gb|MK640714|Influenza A virus (A/China/38887/2012(H3N2)) segment 6 neuraminidase (NA) gene, complete cds\n",
      "  0.02\t1\t1\tS2\t3270105\t                        gi|1540595883|gb|MK328698|Influenza A virus (A/swine/Manitoba/DM_18/2017(H3N2)) segment 3 polymerase PA (PA) and PA-X protein (PA-X) genes, complete cds\n",
      "  0.02\t1\t1\tS2\t3327983\t                        gi|1765918854|gb|MN573870|Influenza A virus (A/Victoria/691/2017(H3N2)) segment 1 polymerase PB2 (PB2) gene, complete cds\n",
      "  0.02\t1\t1\tS2\t3327957\t                        gi|1765918788|gb|MN573844|Influenza A virus (A/Victoria/688/2017(H3N2)) segment 3 polymerase PA (PA) and PA-X protein (PA-X) genes, complete cds\n",
      "  0.02\t1\t1\tS2\t3296799\t                        gi|1613884441|gb|MK786141|Influenza A virus (A/Ohio/8316/2019(H3N2)) segment 2 polymerase PB1 (PB1) and PB1-F2 protein (PB1-F2) genes, complete cds\n",
      "  0.02\t1\t0\tS2\t299327\t                        H4N2 subtype\n",
      "  0.02\t1\t1\tS3\t370169\t                          Influenza A virus (A/mallard/Ohio/97/1989(H4N2))\n",
      "  0.02\t1\t0\tS2\t222769\t                        H6N6 subtype\n",
      "  0.02\t1\t1\tS3\t1454277\t                          Influenza A virus (A/chicken/Guangxi/S4029/2010(H6N6))\n",
      "  0.02\t1\t1\tS2\t3290092\t                        gi|1597257908|gb|MK676558|Influenza A virus (A/Maine/06/2019(H1N1)) segment 4 hemagglutinin (HA) gene, complete cds\n",
      "  0.02\t1\t1\tS2\t3307406\t                        gi|1675503025|gb|MN003682|Influenza A virus (A/Delaware/23/2019(H1N1)) segment 3 polymerase PA (PA) and PA-X protein (PA-X) genes, complete cds\n",
      "  0.02\t1\t1\tS2\t3348320\t                        gi|1830625464|gb|MT330642|Influenza A virus (A/Arkansas/14/2020(H1N1)) segment 6 neuraminidase (NA) gene, complete cds\n",
      "  0.02\t1\t1\tS2\t3324012\t                        gi|1765908924|gb|MN569899|Influenza A virus (A/Newcastle/610/2017(H3N2)) segment 8 nuclear export protein (NEP) and nonstructural protein 1 (NS1) genes, complete cds\n",
      "  0.02\t1\t1\tS2\t3289715\t                        gi|1594664955|gb|MK651489|Influenza A virus (A/swine/Iowa/A02256794/2018(H1N1)) segment 3 polymerase PA (PA) and PA-X protein (PA-X) genes, complete cds\n",
      "  0.02\t1\t1\tS2\t3274878\t                        gi|1547184119|gb|MK366937|Influenza A virus (A/swine/Klein Wanzleben/17303/2013(H1N1)) segment 6 neuraminidase (NA) gene, complete cds\n",
      "  0.02\t1\t1\tS2\t3253759\t                        gi|1409673961|gb|MH540855|Influenza A virus (A/Maine/30/2018(H3N2)) segment 6 neuraminidase (NA) gene, complete cds\n",
      "  0.02\t1\t1\tS2\t3319950\t                        gi|1730278870|gb|MN372392|Influenza A virus (A/Singapore/G2-26.1/2014(H3N2)) segment 6 neuraminidase (NA) gene, complete cds\n",
      "  0.02\t1\t1\tS2\t3289977\t                        gi|1597256991|gb|MK676443|Influenza A virus (A/Florida/07/2019(H1N1)) segment 3 polymerase PA (PA) and PA-X protein (PA-X) genes, complete cds\n",
      "  0.02\t1\t1\tS2\t3303825\t                        gi|1659075273|gb|MK960552|Influenza A virus (A/Illinois/9361/2019(H3N2)) segment 8 nuclear export protein (NEP) and nonstructural protein 1 (NS1) genes, complete cds\n",
      "  0.02\t1\t1\tS2\t3252207\t                        gi|1408058524|gb|MH328407|Influenza A virus (A/Taiwan/00582/2011(H1N1)) segment 2 polymerase PB1 (PB1) gene, complete cds; and nonfunctional PB1-F2 protein (PB1-F2) gene, complete sequence\n",
      "  0.02\t1\t1\tS2\t3253660\t                        gi|1409673602|gb|MH540654|Influenza A virus (A/New York/35/2018(H1N1)) segment 3 polymerase PA (PA) and PA-X protein (PA-X) genes, complete cds\n",
      "  0.02\t1\t1\tS2\t3348667\t                        gi|1830626346|gb|MT331013|Influenza A virus (A/Louisiana/12/2020(H1N1)) segment 1 polymerase PB2 (PB2) gene, complete cds\n",
      "  0.02\t1\t1\tS2\t3324309\t                        gi|1765909667|gb|MN570196|Influenza A virus (A/Perth/341/2017(H3N2)) segment 3 polymerase PA (PA) and PA-X protein (PA-X) genes, complete cds\n",
      "  0.02\t1\t1\tS2\t102800\t                        H4N6 subtype\n",
      "  0.02\t1\t0\tS2\t119221\t                        H5N3 subtype\n",
      "  0.02\t1\t1\tS3\t670756\t                          Influenza A virus (A/duck/France/06436/2006(H5N3))\n",
      " 13.90\t920\t0\tG\t197912\t                  Betainfluenzavirus\n",
      " 13.90\t920\t0\tS\t2955465\t                    Betainfluenzavirus influenzae\n",
      " 13.90\t920\t496\tS1\t11520\t                      Influenza B virus\n",
      "  2.57\t170\t0\tS2\t444325\t                        Influenza B virus (B/Russia/69)\n",
      "  0.97\t64\t64\tS3\t3123246\t                          gi|148509298|gb|EF626636|Influenza B virus (B/Russia/69) segment 4 hemagglutinin (HA) gene, complete cds\n",
      "  0.76\t50\t50\tS3\t3123248\t                          gi|148509303|gb|EF626638|Influenza B virus (B/Russia/69) segment 6 NB protein (NB) and neuraminidase (NA) genes, complete cds\n",
      "  0.65\t43\t43\tS3\t3123251\t                          gi|148509311|gb|EF626641|Influenza B virus (B/Russia/69) segment 3 polymerase PA (PA) gene, complete cds\n",
      "  0.11\t7\t7\tS3\t3123253\t                          gi|148509315|gb|EF626643|Influenza B virus (B/Russia/69) segment 2 polymerase PB2 (PB2) gene, complete cds\n",
      "  0.09\t6\t6\tS3\t3123249\t                          gi|148509306|gb|EF626639|Influenza B virus (B/Russia/69) segment 5 nucleoprotein (NP) gene, complete cds\n",
      "  1.12\t74\t74\tS2\t3340027\t                        gi|1808735534|gb|MT056028|Influenza B virus (B/Massachusetts/2/2012 BX-51C) segment 5 nucleoprotein (NP) gene, complete cds\n",
      "  1.04\t69\t0\tS2\t518989\t                        Influenza B virus (B/NYMC BX-15(Lee/1940-Hawaii/33/2004))\n",
      "  1.04\t69\t69\tS3\t3129807\t                          gi|225676807|gb|CY038283|Influenza B virus (B/NYMC BX-15(Lee/1940-Hawaii/33/2004)) segment 8, complete sequence\n",
      "  0.18\t12\t0\tS2\t408951\t                        Influenza B virus (B/Texas/06/2000)\n",
      "  0.18\t12\t12\tS3\t3121205\t                          gi|119516030|gb|CY018483|Influenza B virus (B/Texas/06/2000) segment 1, complete sequence\n",
      "  0.18\t12\t0\tS2\t416679\t                        Influenza B virus (B/Cordoba/2979/1991)\n",
      "  0.18\t12\t12\tS3\t3122066\t                          gi|125663333|gb|CY019637|Influenza B virus (B/Cordoba/2979/1991) segment 6, complete sequence\n",
      "  0.17\t11\t0\tS2\t416673\t                        Influenza B virus (B/Texas/37/1988)\n",
      "  0.17\t11\t11\tS3\t3122045\t                          gi|125663284|gb|CY019608|Influenza B virus (B/Texas/37/1988) segment 3, complete sequence\n",
      "  0.15\t10\t10\tS2\t3346996\t                        gi|1829059785|gb|MT306775|Influenza B virus (B/California/21/2020) segment 6 NB protein (NB) and neuraminidase (NA) genes, complete cds\n",
      "  0.15\t10\t0\tS2\t416686\t                        Influenza B virus (B/Connecticut/07/1993)\n",
      "  0.15\t10\t10\tS3\t3121511\t                          gi|119516796|gb|CY018806|Influenza B virus (B/Connecticut/07/1993) segment 7, complete sequence\n",
      "  0.14\t9\t0\tS2\t1883635\t                        Influenza B virus (B/Idaho/04/2016)\n",
      "  0.14\t9\t9\tS3\t3212424\t                          gi|1048087762|gb|KX613790|Influenza B virus (B/Idaho/04/2016) segment 3 polymerase PA (PA) gene, complete cds\n",
      "  0.12\t8\t8\tS2\t3275482\t                        gi|1551802158|gb|MK380226|Influenza B virus (B/Hawaii/7061/2018) segment 4 hemagglutinin (HA) gene, complete cds\n",
      "  0.11\t7\t0\tS2\t416652\t                        Influenza B virus (B/Argentina/3640/1999)\n",
      "  0.11\t7\t7\tS3\t3121327\t                          gi|119516319|gb|CY018605|Influenza B virus (B/Argentina/3640/1999) segment 4, complete sequence\n",
      "  0.09\t6\t6\tS2\t3279987\t                        gi|1565830616|gb|MK474513|Influenza B virus (B/Washington/276/2018) segment 6 NB protein (NB) and neuraminidase (NA) genes, complete cds\n",
      "  0.09\t6\t0\tS2\t1884185\t                        Influenza B virus (B/Wyoming/11/2016)\n",
      "  0.09\t6\t6\tS3\t3209546\t                          gi|1048080573|gb|KX616336|Influenza B virus (B/Wyoming/11/2016) segment 6 NB protein (NB) and neuraminidase (NA) genes, complete cds\n",
      "  0.06\t4\t0\tS2\t209844\t                        Influenza B virus (B/Taiwan/1484/2001)\n",
      "  0.06\t4\t4\tS3\t3122010\t                          gi|125663200|gb|CY019573|Influenza B virus (B/Taiwan/1484/2001) segment 6, complete sequence\n",
      "  0.05\t3\t0\tS2\t416678\t                        Influenza B virus (B/Czechoslovakia/69/1990)\n",
      "  0.05\t3\t3\tS3\t3122337\t                          gi|125889202|gb|CY019629|Influenza B virus (B/Czechoslovakia/69/1990) segment 6, complete sequence\n",
      "  0.05\t3\t0\tS2\t408884\t                        Influenza B virus (B/Brazil/975/2000)\n",
      "  0.05\t3\t3\tS3\t3121574\t                          gi|119575048|gb|CY018437|Influenza B virus (B/Brazil/975/2000) segment 4, complete sequence\n",
      "  0.03\t2\t2\tS2\t3244016\t                        gi|1371572618|gb|MH130702|Influenza B virus (B/Alaska/22/2017) segment 4 hemagglutinin (HA) gene, complete cds\n",
      "  0.03\t2\t2\tS2\t3255864\t                        gi|1418609411|gb|MH584169|Influenza B virus (B/Connecticut/25/2018) segment 1 polymerase PB1 (PB1) gene, complete cds\n",
      "  0.02\t1\t1\tS2\t3237210\t                        gi|1354038624|gb|MG869086|Influenza B virus (B/Bethesda/NIH001/2007) segment 6 NB protein (NB) and neuraminidase (NA) genes, complete cds\n",
      "  0.02\t1\t0\tS2\t1884006\t                        Influenza B virus (B/Texas/25/2016)\n",
      "  0.02\t1\t1\tS3\t3213460\t                          gi|1048090358|gb|KX611895|Influenza B virus (B/Texas/25/2016) segment 7 matrix protein 1 (M1) and BM2 protein (BM2) genes, complete cds\n",
      "  0.02\t1\t1\tS2\t3329263\t                        gi|1767654533|gb|MN589196|Influenza B virus (B/Singapore/DMS2160/2012) segment 1 polymerase PB1 (PB1) gene, complete cds\n",
      "  0.02\t1\t0\tS2\t408890\t                        Influenza B virus (B/Georgia/02/1998)\n",
      "  0.02\t1\t1\tS3\t3121145\t                          gi|119515868|gb|CY018407|Influenza B virus (B/Georgia/02/1998) segment 6, complete sequence\n",
      "  0.02\t1\t0\tS2\t408921\t                        Influenza B virus (B/Houston/B850/2005)\n",
      "  0.02\t1\t1\tS3\t3121086\t                          gi|119515728|gb|CY018348|Influenza B virus (B/Houston/B850/2005) segment 2, complete sequence\n",
      "  0.02\t1\t0\tS2\t1640840\t                        Influenza B virus (B/Malaysia/U3901/2014)\n",
      "  0.02\t1\t1\tS3\t3197900\t                          gi|1036637244|gb|KX269985|Influenza B virus (B/Malaysia/U3901/2014) segment 2 polymerase PB2 (PB2) gene, complete cds\n"
     ]
    }
   ],
   "source": [
    "cat ${TEST_BASE_DIR_ncbinoref}/report.txt"
   ]
  },
  {
   "cell_type": "markdown",
   "id": "1dcaa41a-4f52-4a02-adab-08d43784c13e",
   "metadata": {},
   "source": [
    "## Build final DB with RefSeq (segmented) plus all NCBI influenza (segmented)\n",
    "This version of the DB will contain viral RefSeq, processed by the kraken-flu tool to segment the flu genomes and the \"all influenza\" dataset from the [NCBI FTP site](https://ftp.ncbi.nih.gov/genomes/INFLUENZA/), also processed by the kraken-flu tool into segmented genomes.\n",
    "\n",
    "The DB name will be \"all_viral_db1\""
   ]
  },
  {
   "cell_type": "code",
   "execution_count": 5,
   "id": "eb8c2d2c-3a2b-4b23-9ced-626bab9c2443",
   "metadata": {},
   "outputs": [],
   "source": [
    "# these were previously exported, just here for convenience\n",
    "export BASE_DIR=/lustre/scratch126/gsu/team112/personal/fs5/rvi_dev/krakenDBs/kraken_flu/\n",
    "export ALL_INF_LIB=${BASE_DIR}/library_download_all_influenza_ncbi\n",
    "export TAX_PATH=${BASE_DIR}/taxonomy_download/\n",
    "export LIB_PATH_VIR=${BASE_DIR}/library_download_viral/"
   ]
  },
  {
   "cell_type": "code",
   "execution_count": 6,
   "id": "5a48d769-d216-444a-8ab2-d71118068d5d",
   "metadata": {},
   "outputs": [],
   "source": [
    "# path to the new DB\n",
    "export ALL_VIRAL_DB1=${BASE_DIR}/all_viral_db1"
   ]
  },
  {
   "cell_type": "code",
   "execution_count": 13,
   "id": "b4fa5791-0551-48be-a5c1-2fce7c784018",
   "metadata": {},
   "outputs": [],
   "source": [
    "mkdir -p ${ALL_VIRAL_DB1}"
   ]
  },
  {
   "cell_type": "markdown",
   "id": "ad1e88b7-1f5b-4b79-89cb-cf056ddd07bd",
   "metadata": {},
   "source": [
    "### Use kraken-flu at v1.2.0\n",
    "Git install with version number 1.2.0"
   ]
  },
  {
   "cell_type": "code",
   "execution_count": 16,
   "id": "5b000835-04ed-4ece-9c58-83b77a7e2754",
   "metadata": {},
   "outputs": [
    {
     "name": "stdout",
     "output_type": "stream",
     "text": [
      "Collecting kraken_flu@ git+ssh://****@gitlab.internal.sanger.ac.uk/malariagen1/misc_utils/kraken_flu.git@v1.2.0\n",
      "  Cloning ssh://****@gitlab.internal.sanger.ac.uk/malariagen1/misc_utils/kraken_flu.git (to revision v1.2.0) to /tmp/pip-install-g9uffkxe/kraken-flu_5cc50da630dd49c8a133a774b60bc7df\n",
      "  Running command git clone --filter=blob:none --quiet 'ssh://****@gitlab.internal.sanger.ac.uk/malariagen1/misc_utils/kraken_flu.git' /tmp/pip-install-g9uffkxe/kraken-flu_5cc50da630dd49c8a133a774b60bc7df\n",
      "  Running command git checkout -q 6f8bc70b146d074c5c43a2d2a09db65fd4d2fcc0\n",
      "  Resolved ssh://****@gitlab.internal.sanger.ac.uk/malariagen1/misc_utils/kraken_flu.git to commit 6f8bc70b146d074c5c43a2d2a09db65fd4d2fcc0\n",
      "  Installing build dependencies ... \u001b[?25ldone\n",
      "\u001b[?25h  Getting requirements to build wheel ... \u001b[?25ldone\n",
      "\u001b[?25h  Preparing metadata (pyproject.toml) ... \u001b[?25ldone\n",
      "\u001b[?25hRequirement already satisfied: pytest>=6.2.2 in /nfs/users/nfs_f/fs5/kraken_flu/lib/python3.11/site-packages (from kraken_flu@ git+ssh://git@gitlab.internal.sanger.ac.uk/malariagen1/misc_utils/kraken_flu.git@v1.2.0) (7.4.3)\n",
      "Requirement already satisfied: importlib-resources>=5.1.0 in /nfs/users/nfs_f/fs5/kraken_flu/lib/python3.11/site-packages (from kraken_flu@ git+ssh://git@gitlab.internal.sanger.ac.uk/malariagen1/misc_utils/kraken_flu.git@v1.2.0) (6.1.1)\n",
      "Requirement already satisfied: cached-property>=1.5.2 in /nfs/users/nfs_f/fs5/kraken_flu/lib/python3.11/site-packages (from kraken_flu@ git+ssh://git@gitlab.internal.sanger.ac.uk/malariagen1/misc_utils/kraken_flu.git@v1.2.0) (1.5.2)\n",
      "Requirement already satisfied: biopython>=1.80 in /nfs/users/nfs_f/fs5/kraken_flu/lib/python3.11/site-packages (from kraken_flu@ git+ssh://git@gitlab.internal.sanger.ac.uk/malariagen1/misc_utils/kraken_flu.git@v1.2.0) (1.81)\n",
      "Requirement already satisfied: numpy in /nfs/users/nfs_f/fs5/kraken_flu/lib/python3.11/site-packages (from biopython>=1.80->kraken_flu@ git+ssh://git@gitlab.internal.sanger.ac.uk/malariagen1/misc_utils/kraken_flu.git@v1.2.0) (1.26.2)\n",
      "Requirement already satisfied: iniconfig in /nfs/users/nfs_f/fs5/kraken_flu/lib/python3.11/site-packages (from pytest>=6.2.2->kraken_flu@ git+ssh://git@gitlab.internal.sanger.ac.uk/malariagen1/misc_utils/kraken_flu.git@v1.2.0) (2.0.0)\n",
      "Requirement already satisfied: packaging in /nfs/users/nfs_f/fs5/kraken_flu/lib/python3.11/site-packages (from pytest>=6.2.2->kraken_flu@ git+ssh://git@gitlab.internal.sanger.ac.uk/malariagen1/misc_utils/kraken_flu.git@v1.2.0) (23.2)\n",
      "Requirement already satisfied: pluggy<2.0,>=0.12 in /nfs/users/nfs_f/fs5/kraken_flu/lib/python3.11/site-packages (from pytest>=6.2.2->kraken_flu@ git+ssh://git@gitlab.internal.sanger.ac.uk/malariagen1/misc_utils/kraken_flu.git@v1.2.0) (1.3.0)\n",
      "Building wheels for collected packages: kraken_flu\n",
      "  Building wheel for kraken_flu (pyproject.toml) ... \u001b[?25ldone\n",
      "\u001b[?25h  Created wheel for kraken_flu: filename=kraken_flu-1.2.0-py2.py3-none-any.whl size=17672 sha256=397685368fd331ed8c58cc7d9f2e5a3c3a89b19413f407f9270dd62059eb0e77\n",
      "  Stored in directory: /tmp/pip-ephem-wheel-cache-knnv7g1v/wheels/8f/69/99/c3e67cec731769c91202d07057363f5d16bafb6417ea64de05\n",
      "Successfully built kraken_flu\n",
      "Installing collected packages: kraken_flu\n",
      "  Attempting uninstall: kraken_flu\n",
      "    Found existing installation: kraken_flu 1.1.1.dev1+g6995f86\n",
      "    Uninstalling kraken_flu-1.1.1.dev1+g6995f86:\n",
      "      Successfully uninstalled kraken_flu-1.1.1.dev1+g6995f86\n",
      "Successfully installed kraken_flu-1.2.0\n",
      "\n",
      "\u001b[1m[\u001b[0m\u001b[34;49mnotice\u001b[0m\u001b[1;39;49m]\u001b[0m\u001b[39;49m A new release of pip is available: \u001b[0m\u001b[31;49m23.3.1\u001b[0m\u001b[39;49m -> \u001b[0m\u001b[32;49m23.3.2\u001b[0m\n",
      "\u001b[1m[\u001b[0m\u001b[34;49mnotice\u001b[0m\u001b[1;39;49m]\u001b[0m\u001b[39;49m To update, run: \u001b[0m\u001b[32;49mpython3 -m pip install --upgrade pip\u001b[0m\n"
     ]
    }
   ],
   "source": [
    "~/kraken_flu/bin/pip install kraken_flu@git+ssh://git@gitlab.internal.sanger.ac.uk/malariagen1/misc_utils/kraken_flu.git@v1.2.0"
   ]
  },
  {
   "cell_type": "code",
   "execution_count": 17,
   "id": "11694e8d-961d-4dbb-848f-d56cf1a2315f",
   "metadata": {},
   "outputs": [
    {
     "name": "stdout",
     "output_type": "stream",
     "text": [
      "kraken_flu 1.2.0\n"
     ]
    }
   ],
   "source": [
    "~/kraken_flu/bin/kraken_flu -v"
   ]
  },
  {
   "cell_type": "markdown",
   "id": "670ceffe-8042-42a8-b921-b91456f343db",
   "metadata": {},
   "source": [
    "make sure kraken2 is loaded"
   ]
  },
  {
   "cell_type": "code",
   "execution_count": 19,
   "id": "4fa09de9-8963-48c5-99fe-4cafc09d92ce",
   "metadata": {},
   "outputs": [
    {
     "name": "stdout",
     "output_type": "stream",
     "text": [
      "        Module loaded. For more information run 'module help kraken2/2.1.2'.\u001b[m\n",
      "        - By default, kraken2 will search for named databases in /data/pam/softw\u001b[mare/kraken2 and the current working directory. The full path to\u001b[m\n",
      "        any database can also be used.\u001b[m\n",
      "        - `kraken2-build` commands will sometimes experience an error suggesting\u001b[m that it is not possible to download a library using rsync. While the option --u\u001b[mse-ftp\u001b[m\n",
      "        may fix this, rsync tends to be faster and more reliable. Try re-running\u001b[m the `kraken2-build` command until the download is successful. Note that `kraken\u001b[m2-build`\u001b[m\n",
      "        will produce checkpoints during the installation process and will restar\u001b[mt at the last successful step.\u001b[m\n",
      "        - If `kraken2-build build` freezes or hangs indefinitely, using the `--f\u001b[mast-build` option may help. An earlier version of the software (if available) ma\u001b[my also\u001b[m\n",
      "        allow the build step to proceed successfully.\u001b[m\n",
      "\u001b[K\u001b[?1l\u001b>\n"
     ]
    }
   ],
   "source": [
    "module load kraken2/2.1.2"
   ]
  },
  {
   "cell_type": "markdown",
   "id": "343b6230-4b3d-47b0-9945-33286d45bc70",
   "metadata": {},
   "source": [
    "### Prime the DB with viral RefSeq\n",
    "The kraken2-build rsync download is unreliable and sometimes does not work at all (not sure why). It was done already [here](#downloadrefseq), so here we can just reuse the previsouly downloaded and processed files.\n",
    "\n",
    "Create the segmented version of the flu genomes from the downloaded viral RefSeq"
   ]
  },
  {
   "cell_type": "code",
   "execution_count": 17,
   "id": "4bf27a2d-bb26-449c-bf56-5a299fe7c81c",
   "metadata": {},
   "outputs": [
    {
     "name": "stdout",
     "output_type": "stream",
     "text": [
      "2024-01-16 15:44:53,721 writing modified FASTA file to /lustre/scratch126/gsu/team112/personal/fs5/rvi_dev/krakenDBs/kraken_flu//all_viral_db1/library/library.fna\n",
      "2024-01-16 15:44:53,731 scanning file /lustre/scratch126/gsu/team112/personal/fs5/rvi_dev/krakenDBs/kraken_flu//library_download_viral//library/viral/library.fna for influenza viruses\n",
      "2024-01-16 15:44:55,615 done - found 40 segment sequences in FASTA file\n",
      "2024-01-16 15:45:01,052 finished writing modified FASTA file\n",
      "2024-01-16 15:45:01,061 writing modified prelim_map.txt file to /lustre/scratch126/gsu/team112/personal/fs5/rvi_dev/krakenDBs/kraken_flu//all_viral_db1/library/prelim_map.txt\n",
      "2024-01-16 15:45:01,129 finished writing modified prelim_map.txt file\n",
      "2024-01-16 15:45:01,704 writing modified names file to /lustre/scratch126/gsu/team112/personal/fs5/rvi_dev/krakenDBs/kraken_flu//all_viral_db1/taxonomy/names.dmp\n",
      "2024-01-16 15:45:01,771 finished writing modified names file\n",
      "2024-01-16 15:45:02,287 writing modified nodes file to /lustre/scratch126/gsu/team112/personal/fs5/rvi_dev/krakenDBs/kraken_flu//all_viral_db1/taxonomy/nodes.dmp\n",
      "2024-01-16 15:45:02,341 finished writing modified nodes file\n"
     ]
    }
   ],
   "source": [
    "~/kraken_flu/bin/kraken_flu build \\\n",
    "    --library_path ${LIB_PATH_VIR}/library/viral/ \\\n",
    "    --taxonomy_path ${TAX_PATH}/taxonomy \\\n",
    "    --out_dir ${ALL_VIRAL_DB1}"
   ]
  },
  {
   "cell_type": "code",
   "execution_count": 18,
   "id": "74a4cdc2-6edd-4fae-9be0-d53c4c09b880",
   "metadata": {},
   "outputs": [
    {
     "name": "stdout",
     "output_type": "stream",
     "text": [
      "/lustre/scratch126/gsu/team112/personal/fs5/rvi_dev/krakenDBs/kraken_flu//all_viral_db1\n",
      "├── library\n",
      "│   ├── library.fna\n",
      "│   └── prelim_map.txt\n",
      "└── taxonomy\n",
      "    ├── names.dmp\n",
      "    └── nodes.dmp\n",
      "\n",
      "2 directories, 4 files\n"
     ]
    }
   ],
   "source": [
    "# snapshot of the DB folder after this step\n",
    "tree ${ALL_VIRAL_DB1}"
   ]
  },
  {
   "cell_type": "markdown",
   "id": "e0e72d3b-79bd-4497-b0a3-3e3fc6065d74",
   "metadata": {},
   "source": [
    "### add seqid2taxid file\n",
    "Provide as a symlink. Not clear why it is needed. All sequences in this file have a taxid already in the FASTA header but kraken2 insists to have this file"
   ]
  },
  {
   "cell_type": "code",
   "execution_count": 20,
   "id": "a56d7e57-4140-4dc8-929f-3a5d792c2b2c",
   "metadata": {},
   "outputs": [],
   "source": [
    "ln -s ${TAX_PATH}/taxonomy/nucl_gb.accession2taxid ${ALL_VIRAL_DB1}/taxonomy/nucl_gb.accession2taxid"
   ]
  },
  {
   "cell_type": "code",
   "execution_count": 21,
   "id": "53cc7fb5-1194-4510-9f6f-b835fea67139",
   "metadata": {},
   "outputs": [
    {
     "name": "stdout",
     "output_type": "stream",
     "text": [
      "/lustre/scratch126/gsu/team112/personal/fs5/rvi_dev/krakenDBs/kraken_flu//all_viral_db1\n",
      "├── library\n",
      "│   ├── library.fna\n",
      "│   └── prelim_map.txt\n",
      "└── taxonomy\n",
      "    ├── names.dmp\n",
      "    ├── nodes.dmp\n",
      "    └── nucl_gb.accession2taxid -> /lustre/scratch126/gsu/team112/personal/fs5/rvi_dev/krakenDBs/kraken_flu//taxonomy_download//taxonomy/nucl_gb.accession2taxid\n",
      "\n",
      "2 directories, 5 files\n"
     ]
    }
   ],
   "source": [
    "# snapshot of the DB folder after this step\n",
    "tree ${ALL_VIRAL_DB1}"
   ]
  },
  {
   "cell_type": "markdown",
   "id": "760f781d-8539-44b7-9948-0478104e045a",
   "metadata": {},
   "source": [
    "### Filter the NCBI infuenza genomes\n",
    "Use the filter function to discard all non-complete gnomes from the NCBI file. Using the ```--discard_duplicates``` option to ignore (and discard) records where the virus name and segment number is not unique. Such cases are (usually) partial sequences of the different genes on the same segment and we are not interested in such partial segments in any case.   \n",
    "\n",
    "The output file has to be named 'library.fna' as this file is expected by the 2nd step.\n",
    "\n",
    "The output file does NOT need to be in the new DB folder. It is just an intermediate step. Creating it in the download folder so it can be re-used.\n",
    "\n",
    "Note: this was run previously on the same file and could have just re-used that output. Just re-running here to have a complete list of commands to build the final DB."
   ]
  },
  {
   "cell_type": "code",
   "execution_count": 9,
   "id": "2b589b5a-5882-44d5-8ad4-2e8b5618f88f",
   "metadata": {},
   "outputs": [
    {
     "name": "stdout",
     "output_type": "stream",
     "text": [
      "2024-01-16 15:07:35,040 scanning file /lustre/scratch126/gsu/team112/personal/fs5/rvi_dev/krakenDBs/kraken_flu//library_download_all_influenza_ncbi/influenza.fna for FASTA headers with accepted pattern\n",
      "2024-01-16 15:07:44,091 found 106374 genomes (unique names) before filtering\n",
      "2024-01-16 15:07:44,294 341264 FASTA records pass the filters and will be written to output file\n",
      "2024-01-16 15:07:44,342 starting to write filtered genomes to /lustre/scratch126/gsu/team112/personal/fs5/rvi_dev/krakenDBs/kraken_flu//library_download_all_influenza_ncbi/library.fna\n",
      "2024-01-16 15:07:52,051 finished writing filtered genomes to /lustre/scratch126/gsu/team112/personal/fs5/rvi_dev/krakenDBs/kraken_flu//library_download_all_influenza_ncbi/library.fna\n"
     ]
    }
   ],
   "source": [
    "~/kraken_flu/bin/kraken_flu filter \\\n",
    "    --in_fasta ${ALL_INF_LIB}/influenza.fna \\\n",
    "    --out_fasta ${ALL_INF_LIB}/library.fna \\\n",
    "    --discard_duplicates"
   ]
  },
  {
   "cell_type": "markdown",
   "id": "2f1e389b-c935-443e-9804-914e8ddaef6f",
   "metadata": {},
   "source": [
    "### Create the segmented genome files\n",
    "Use the build function of kraken_flu to create the segment genome file.  \n",
    "The ```library_path``` is the one used above to create the filtere all-NCBI influenza genomes file. The build tool expects a file ```library.fna``` in this folder, which is how the file was named in the above filter command.  \n",
    "\n",
    "The --acc2taxid parameter is needed in this case because the sequences from the Influenza resource do not have a taxid in the FASTA header and need their taxid looked up in this foile from NCBI.\n",
    "\n",
    "Path ``--taxonomy_path``` points to symlink created above.\n",
    "\n",
    "Output to a temporary directory. The kraken2-build tool needs to be run on these files, so they will not be added to the final DB directly. In addition, the current behaviour of the kraken_flu tool would overwrite the library.fna FASTA file from the above viral RefSeq import. This will be changed in a future version"
   ]
  },
  {
   "cell_type": "code",
   "execution_count": 19,
   "id": "34961fcc-dd8d-4d1f-87be-7643bacfe569",
   "metadata": {},
   "outputs": [],
   "source": [
    "mkdir -p ${BASE_DIR}/tmp/all_viral_tmp/"
   ]
  },
  {
   "cell_type": "code",
   "execution_count": 22,
   "id": "921cf4a8-c371-429b-a9c3-9b8b624eeafe",
   "metadata": {},
   "outputs": [
    {
     "name": "stdout",
     "output_type": "stream",
     "text": [
      "2024-01-16 15:56:16,910 writing modified FASTA file to /lustre/scratch126/gsu/team112/personal/fs5/rvi_dev/krakenDBs/kraken_flu//tmp/all_viral_tmp/library/library.fna\n",
      "2024-01-16 15:56:16,920 scanning file /lustre/scratch126/gsu/team112/personal/fs5/rvi_dev/krakenDBs/kraken_flu//library_download_all_influenza_ncbi/library.fna for influenza viruses\n",
      "2024-01-16 15:56:20,484 done - found 254776 segment sequences in FASTA file\n",
      "2024-01-16 15:56:20,485 reading NCBI acc2taxid file to assign taxon IDs to NCBI IDs\n",
      "2024-01-16 16:00:18,176 done reading NCBI acc2taxid file\n",
      "2024-01-16 16:00:25,680 finished writing modified FASTA file\n",
      "2024-01-16 16:00:25,681 no prelim_map.txt file provided in inputs - nothing to do\n",
      "2024-01-16 16:00:26,160 writing modified names file to /lustre/scratch126/gsu/team112/personal/fs5/rvi_dev/krakenDBs/kraken_flu//tmp/all_viral_tmp/taxonomy/names.dmp\n",
      "2024-01-16 16:00:26,382 finished writing modified names file\n",
      "2024-01-16 16:00:26,838 writing modified nodes file to /lustre/scratch126/gsu/team112/personal/fs5/rvi_dev/krakenDBs/kraken_flu//tmp/all_viral_tmp/taxonomy/nodes.dmp\n",
      "2024-01-16 16:00:27,072 finished writing modified nodes file\n"
     ]
    }
   ],
   "source": [
    "~/kraken_flu/bin/kraken_flu build \\\n",
    "    --library_path ${ALL_INF_LIB} \\\n",
    "    --taxonomy_path ${ALL_VIRAL_DB1}/taxonomy \\\n",
    "    --acc2tax_path ${ALL_VIRAL_DB1}/taxonomy/nucl_gb.accession2taxid \\\n",
    "    --out_dir ${BASE_DIR}/tmp/all_viral_tmp/"
   ]
  },
  {
   "cell_type": "code",
   "execution_count": 23,
   "id": "e17f7d27-2c54-4edf-828e-4e6408f5708b",
   "metadata": {},
   "outputs": [
    {
     "name": "stdout",
     "output_type": "stream",
     "text": [
      "/lustre/scratch126/gsu/team112/personal/fs5/rvi_dev/krakenDBs/kraken_flu//tmp/all_viral_tmp/\n",
      "├── library\n",
      "│   └── library.fna\n",
      "└── taxonomy\n",
      "    ├── names.dmp\n",
      "    └── nodes.dmp\n",
      "\n",
      "2 directories, 3 files\n"
     ]
    }
   ],
   "source": [
    "# snapshot of the temp directory that was created in the above command\n",
    "tree ${BASE_DIR}/tmp/all_viral_tmp/"
   ]
  },
  {
   "cell_type": "markdown",
   "id": "0b0d998b-382c-443f-8d87-eaa35976623f",
   "metadata": {},
   "source": [
    "demonstrate that the taxonomy files in this temp dir contain the viral RefSeq as well as the additional \"all influenza\" segment data. Looked up the last entry in the viral RefSeq modified names.dmp file and search for it in the tmp dir, adding the next 10 lines after that. It shows that both the RefSeq and the new \"all influenza\" added names are present"
   ]
  },
  {
   "cell_type": "code",
   "execution_count": 24,
   "id": "b47e85c8-07fb-4193-a64f-59d979cbe60d",
   "metadata": {},
   "outputs": [
    {
     "name": "stdout",
     "output_type": "stream",
     "text": [
      "3108310\t|\tNC_026432.1 Influenza A virus (A/California/07/2009(H1N1)) segment 8 nuclear export protein (NEP) and nonstructural protein 1 (NS1) genes, complete cds\t|\t\t|\tscientific name\t|\n",
      "3108311\t|\tgi|290747|gb|L07370|Influenza A virus (A/Memphis/8/1988(H3N2)) segment 5 nucleoprotein (NP) gene, complete cds\t|\t\t|\tscientific name\t|\n",
      "3108312\t|\tgi|324507|gb|J02146|Influenza A virus (A/Puerto Rico/8/1934(H1N1)) segment 6, complete sequence\t|\t\t|\tscientific name\t|\n",
      "3108313\t|\tgi|324709|gb|J02147|Influenza A virus (A/Puerto Rico/8/1934(H1N1)) segment 5, complete sequence\t|\t\t|\tscientific name\t|\n",
      "3108314\t|\tgi|324833|gb|J02150|Influenza A virus (A/Puerto Rico/8/34(H1N1)) segment 8, complete sequence\t|\t\t|\tscientific name\t|\n",
      "3108315\t|\tgi|325056|gb|M22579|Influenza A virus (A/swine/Germany/2/1981(H1N1)) segment 5 nucleoprotein gene, complete cds\t|\t\t|\tscientific name\t|\n",
      "3108316\t|\tgi|21693162|gb|AF389115|Influenza A virus (A/Puerto Rico/8/34/Mount Sinai(H1N1)) segment 1, complete sequence\t|\t\t|\tscientific name\t|\n",
      "3108317\t|\tgi|21693164|gb|AF389116|Influenza A virus (A/Puerto Rico/8/34/Mount Sinai(H1N1)) segment 2, complete sequence\t|\t\t|\tscientific name\t|\n",
      "3108318\t|\tgi|21693166|gb|AF389117|Influenza A virus (A/Puerto Rico/8/34/Mount Sinai(H1N1)) segment 3, complete sequence\t|\t\t|\tscientific name\t|\n",
      "3108319\t|\tgi|21693168|gb|AF389118|Influenza A virus (A/Puerto Rico/8/34/Mount Sinai(H1N1)) segment 4, complete sequence\t|\t\t|\tscientific name\t|\n",
      "3108320\t|\tgi|21693170|gb|AF389119|Influenza A virus (A/Puerto Rico/8/34/Mount Sinai(H1N1)) segment 5, complete sequence\t|\t\t|\tscientific name\t|\n"
     ]
    }
   ],
   "source": [
    "grep -A 10 NC_026432.1 ${BASE_DIR}/tmp/all_viral_tmp/taxonomy/names.dmp"
   ]
  },
  {
   "cell_type": "markdown",
   "id": "6f973958-374b-4aef-b8c0-9825b91c3ad3",
   "metadata": {},
   "source": [
    "### Combine files\n",
    "___NOTE___: This needs to become a step that is handled by the kraken_flu tool\n",
    "\n",
    "For now, manually add the \"all influenza\" data to the DB directory.  "
   ]
  },
  {
   "cell_type": "markdown",
   "id": "f532a423-e397-47a9-b790-84760d26c903",
   "metadata": {},
   "source": [
    "Taxonomy files (names and nodes): overwrite the existing files with the files from the tmp dir. As demonstrated above, the tmp dir files are a combination of the viral RefSeq and the \"all influenza\" dataset."
   ]
  },
  {
   "cell_type": "code",
   "execution_count": 26,
   "id": "b879f541-9eec-4155-a01a-39ceeecdf10a",
   "metadata": {},
   "outputs": [],
   "source": [
    "cp  ${BASE_DIR}/tmp/all_viral_tmp/taxonomy/n*.dmp ${ALL_VIRAL_DB1}/taxonomy/"
   ]
  },
  {
   "cell_type": "markdown",
   "id": "c8bcde88-1183-4225-ab22-8200e6f9295c",
   "metadata": {},
   "source": [
    "append the tmp dir (all influenza) FASTA file to the existing viral RefSeq FASTA"
   ]
  },
  {
   "cell_type": "code",
   "execution_count": 28,
   "id": "a9d47530-eb25-4926-8077-bb0a082d0c8f",
   "metadata": {},
   "outputs": [],
   "source": [
    "cat ${BASE_DIR}/tmp/all_viral_tmp/library/library.fna >> ${ALL_VIRAL_DB1}/library/library.fna"
   ]
  },
  {
   "cell_type": "markdown",
   "id": "36eccb51-2395-485d-b12e-d17ec3df76a4",
   "metadata": {},
   "source": [
    "### build the final database\n"
   ]
  },
  {
   "cell_type": "code",
   "execution_count": 30,
   "id": "54f53f0c-114e-4f61-b620-d5dd8717dfe2",
   "metadata": {},
   "outputs": [
    {
     "name": "stdout",
     "output_type": "stream",
     "text": [
      "Creating sequence ID to taxonomy ID map (step 1)...\n",
      "Sequence ID to taxonomy ID map complete. [0.079s]\n",
      "Estimating required capacity (step 2)...\n",
      "Estimated hash table requirement: 665109940 bytes\n",
      "Capacity estimation complete. [24.417s]\n",
      "Building database files (step 3)...\n",
      "Taxonomy parsed and converted.\n",
      "CHT created with 15 bits reserved for taxid.\n",
      "Completed processing of 18639 sequences, 549880780 bp\n",
      "Writing data to disk...  complete.\n",
      "Database files completed. [1m43.458s]\n",
      "Database construction complete. [Total: 2m7.969s]\n"
     ]
    }
   ],
   "source": [
    "kraken2-build \\\n",
    "    --build \\\n",
    "    --db ${ALL_VIRAL_DB1}"
   ]
  },
  {
   "cell_type": "code",
   "execution_count": 34,
   "id": "07c21576-718d-49e7-ab6e-4ea7520cabda",
   "metadata": {},
   "outputs": [
    {
     "name": "stdout",
     "output_type": "stream",
     "text": [
      "/lustre/scratch126/gsu/team112/personal/fs5/rvi_dev/krakenDBs/kraken_flu//all_viral_db1\n",
      "├── hash.k2d\n",
      "├── library\n",
      "│   ├── library.fna\n",
      "│   └── prelim_map.txt\n",
      "├── opts.k2d\n",
      "├── seqid2taxid.map\n",
      "├── taxo.k2d\n",
      "└── taxonomy\n",
      "    ├── names.dmp\n",
      "    ├── nodes.dmp\n",
      "    ├── nucl_gb.accession2taxid -> /lustre/scratch126/gsu/team112/personal/fs5/rvi_dev/krakenDBs/kraken_flu//taxonomy_download//taxonomy/nucl_gb.accession2taxid\n",
      "    └── prelim_map.txt\n",
      "\n",
      "2 directories, 10 files\n"
     ]
    }
   ],
   "source": [
    "# snapshot of DB dir\n",
    "tree ${ALL_VIRAL_DB1}"
   ]
  },
  {
   "cell_type": "markdown",
   "id": "f633ae67-c072-49fa-a910-943347c969a7",
   "metadata": {},
   "source": [
    "### Test with simulated data"
   ]
  },
  {
   "cell_type": "code",
   "execution_count": 35,
   "id": "36876e2a-ee9d-42ed-89c3-5103d8f042f1",
   "metadata": {},
   "outputs": [],
   "source": [
    "export TEST_BASE_DIR_final=/lustre/scratch126/gsu/team112/personal/fs5/rvi_dev/krakenDBs/kraken_flu_test_final/"
   ]
  },
  {
   "cell_type": "code",
   "execution_count": 36,
   "id": "79fb5439-c854-4d4d-bc6a-a61e2182e025",
   "metadata": {},
   "outputs": [],
   "source": [
    "mkdir -p ${TEST_BASE_DIR_final}"
   ]
  },
  {
   "cell_type": "code",
   "execution_count": 37,
   "id": "263ae268-47e9-48dc-8da8-2bd62866625c",
   "metadata": {},
   "outputs": [
    {
     "name": "stdout",
     "output_type": "stream",
     "text": [
      "Loading database information... done.\n",
      "6620 sequences (1.99 Mbp) processed in 0.173s (2290.8 Kseq/m, 687.24 Mbp/m).\n",
      "  6618 sequences classified (99.97%)\n",
      "  2 sequences unclassified (0.03%)\n"
     ]
    }
   ],
   "source": [
    "kraken2 \\\n",
    "    --db ${ALL_VIRAL_DB1} \\\n",
    "    --output ${TEST_BASE_DIR_final}/output.kraken \\\n",
    "    --paired \\\n",
    "    --classified-out ${TEST_BASE_DIR_final}/class_seqs#.fq \\\n",
    "    --unclassified-out ${TEST_BASE_DIR_final}/unclass_seqs#.fq \\\n",
    "    --report ${TEST_BASE_DIR_final}/report.txt \\\n",
    "/lustre/scratch126/gsu/team112/personal/fs5/rvi_dev/sim_reads/art/mix/mix_of_all_01-1.fq \\\n",
    "/lustre/scratch126/gsu/team112/personal/fs5/rvi_dev/sim_reads/art/mix/mix_of_all_01-2.fq"
   ]
  },
  {
   "cell_type": "code",
   "execution_count": 38,
   "id": "6f7e352d-dd4d-4585-a688-a9590d6b69ad",
   "metadata": {},
   "outputs": [
    {
     "name": "stdout",
     "output_type": "stream",
     "text": [
      "  0.03\t2\t2\tU\t0\tunclassified\n",
      " 99.97\t6618\t0\tR\t1\troot\n",
      " 99.97\t6618\t0\tD\t10239\t  Viruses\n",
      " 99.97\t6618\t0\tD1\t2559587\t    Riboviria\n",
      " 99.97\t6618\t0\tK\t2732396\t      Orthornavirae\n",
      " 69.91\t4628\t0\tP\t2497569\t        Negarnaviricota\n",
      " 39.43\t2610\t0\tP1\t2497571\t          Polyploviricotina\n",
      " 39.43\t2610\t0\tC\t2497577\t            Insthoviricetes\n",
      " 39.43\t2610\t0\tO\t2499411\t              Articulavirales\n",
      " 39.43\t2610\t0\tF\t11308\t                Orthomyxoviridae\n",
      " 25.53\t1690\t0\tG\t197911\t                  Alphainfluenzavirus\n",
      " 25.53\t1690\t0\tS\t2955291\t                    Alphainfluenzavirus influenzae\n",
      " 25.53\t1690\t0\tS1\t11320\t                      Influenza A virus\n",
      " 12.84\t850\t0\tS2\t119210\t                        H3N2 subtype\n",
      " 12.84\t850\t0\tS3\t335341\t                          Influenza A virus (A/New York/392/2004(H3N2))\n",
      "  2.27\t150\t150\tS4\t3108271\t                            NC_007373.1 Influenza A virus (A/New York/392/2004(H3N2)) segment 1, complete sequence\n",
      "  2.27\t150\t150\tS4\t3108272\t                            NC_007372.1 Influenza A virus (A/New York/392/2004(H3N2)) segment 2, complete sequence\n",
      "  2.11\t140\t140\tS4\t3108273\t                            NC_007371.1 Influenza A virus (A/New York/392/2004(H3N2)) segment 3, complete sequence\n",
      "  1.66\t110\t110\tS4\t3108274\t                            NC_007366.1 Influenza A virus (A/New York/392/2004(H3N2)) segment 4, complete sequence\n",
      "  1.51\t100\t100\tS4\t3108275\t                            NC_007369.1 Influenza A virus (A/New York/392/2004(H3N2)) segment 5, complete sequence\n",
      "  1.36\t90\t90\tS4\t3108276\t                            NC_007368.1 Influenza A virus (A/New York/392/2004(H3N2)) segment 6, complete sequence\n",
      "  0.91\t60\t60\tS4\t3108277\t                            NC_007367.1 Influenza A virus (A/New York/392/2004(H3N2)) segment 7, complete sequence\n",
      "  0.76\t50\t50\tS4\t3108278\t                            NC_007370.1 Influenza A virus (A/New York/392/2004(H3N2)) segment 8, complete sequence\n",
      " 12.69\t840\t0\tS2\t114727\t                        H1N1 subtype\n",
      " 12.69\t840\t0\tS3\t641809\t                          Influenza A virus (A/California/07/2009(H1N1))\n",
      "  2.27\t150\t150\tS4\t3108303\t                            NC_026438.1 Influenza A virus (A/California/07/2009(H1N1)) segment 1 polymerase PB2 (PB2) gene, complete cds\n",
      "  2.27\t150\t150\tS4\t3108304\t                            NC_026435.1 Influenza A virus (A/California/07/2009(H1N1)) segment 2 polymerase PB1 (PB1) gene, complete cds; and nonfunctional PB1-F2 protein (PB1-F2) gene, complete sequence\n",
      "  2.11\t140\t140\tS4\t3108305\t                            NC_026437.1 Influenza A virus (A/California/07/2009(H1N1)) segment 3 polymerase PA (PA) gene, complete cds\n",
      "  1.66\t110\t110\tS4\t3108306\t                            NC_026433.1 Influenza A virus (A/California/07/2009(H1N1)) segment 4 hemagglutinin (HA) gene, complete cds\n",
      "  1.36\t90\t90\tS4\t3108307\t                            NC_026436.1 Influenza A virus (A/California/07/2009(H1N1)) segment 5 nucleocapsid protein (NP) gene, complete cds\n",
      "  1.36\t90\t90\tS4\t3108308\t                            NC_026434.1 Influenza A virus (A/California/07/2009(H1N1)) segment 6 neuraminidase (NA) gene, complete cds\n",
      "  0.91\t60\t60\tS4\t3108309\t                            NC_026431.1 Influenza A virus (A/California/07/2009(H1N1)) segment 7 matrix protein 2 (M2) and matrix protein 1 (M1) genes, complete cds\n",
      "  0.76\t50\t50\tS4\t3108310\t                            NC_026432.1 Influenza A virus (A/California/07/2009(H1N1)) segment 8 nuclear export protein (NEP) and nonstructural protein 1 (NS1) genes, complete cds\n",
      " 13.90\t920\t0\tG\t197912\t                  Betainfluenzavirus\n",
      " 13.90\t920\t0\tS\t2955465\t                    Betainfluenzavirus influenzae\n",
      " 13.90\t920\t0\tS1\t11520\t                      Influenza B virus\n",
      " 13.90\t920\t0\tS2\t518987\t                        Influenza B virus (B/Lee/1940)\n",
      "  2.27\t150\t150\tS3\t3108287\t                          NC_002205.1 Influenza B virus (B/Lee/1940) segment 2, complete sequence\n",
      "  2.27\t150\t150\tS3\t3108294\t                          NC_002204.1 Influenza B virus RNA 1, complete sequence\n",
      "  2.11\t140\t140\tS3\t3108288\t                          NC_002206.1 Influenza B virus (B/Lee/1940) segment 3, complete sequence\n",
      "  1.81\t120\t120\tS3\t3108289\t                          NC_002207.1 Influenza B virus (B/Lee/1940) segment 4, complete sequence\n",
      "  1.81\t120\t120\tS3\t3108290\t                          NC_002208.1 Influenza B virus (B/Lee/1940) segment 5, complete sequence\n",
      "  1.51\t100\t100\tS3\t3108291\t                          NC_002209.1 Influenza B virus (B/Lee/1940) segment 6, complete sequence\n",
      "  1.06\t70\t70\tS3\t3108292\t                          NC_002210.1 Influenza B virus (B/Lee/1940) segment 7, complete sequence\n",
      "  1.06\t70\t70\tS3\t3108293\t                          NC_002211.1 Influenza B virus (B/Lee/1940) segment 8, complete sequence\n",
      " 30.48\t2018\t0\tP1\t2497570\t          Haploviricotina\n",
      " 30.48\t2018\t0\tC\t2497574\t            Monjiviricetes\n",
      " 30.48\t2018\t0\tO\t11157\t              Mononegavirales\n",
      " 30.48\t2018\t0\tF\t11244\t                Pneumoviridae\n",
      " 30.48\t2018\t2\tG\t1868215\t                  Orthopneumovirus\n",
      " 15.24\t1009\t0\tS\t3049954\t                    Orthopneumovirus hominis\n",
      " 15.24\t1009\t1009\tS1\t11250\t                      Human orthopneumovirus\n",
      " 15.21\t1007\t0\tS\t3050248\t                    Orthopneumovirus bovis\n",
      " 15.21\t1007\t0\tS1\t11246\t                      Bovine orthopneumovirus\n",
      " 15.21\t1007\t1007\tS2\t12814\t                        Respiratory syncytial virus\n",
      " 30.06\t1990\t0\tP\t2732408\t        Pisuviricota\n",
      " 30.06\t1990\t0\tC\t2732506\t          Pisoniviricetes\n",
      " 30.06\t1990\t0\tO\t76804\t            Nidovirales\n",
      " 30.06\t1990\t0\tO1\t2499399\t              Cornidovirineae\n",
      " 30.06\t1990\t0\tF\t11118\t                Coronaviridae\n",
      " 30.06\t1990\t0\tF1\t2501931\t                  Orthocoronavirinae\n",
      " 30.06\t1990\t0\tG\t694002\t                    Betacoronavirus\n",
      " 30.06\t1990\t0\tG1\t2509511\t                      Sarbecovirus\n",
      " 30.06\t1990\t0\tS\t694009\t                        Severe acute respiratory syndrome-related coronavirus\n",
      " 30.06\t1990\t1990\tS1\t2697049\t                          Severe acute respiratory syndrome coronavirus 2\n"
     ]
    }
   ],
   "source": [
    "cat ${TEST_BASE_DIR_final}/report.txt "
   ]
  },
  {
   "cell_type": "raw",
   "id": "c53ae7ae-f5c8-4607-9794-24ee2528fe41",
   "metadata": {},
   "source": [
    "# Notes on NCBI Virus resource\n",
    "The FTP site used here (https://ftp.ncbi.nih.gov/genomes/INFLUENZA/) has not been updated since Oct 2020.  \n",
    "NCBI has a new virus site here: https://www.ncbi.nlm.nih.gov/labs/virus/vssi/#/\n",
    "But his is a web tool to query and download data, which is not ideal for our purposes.\n",
    "\n",
    "I have sent an email to the NCBI helpdesk for clarification on what we should be using.\n",
    "\n",
    "Here is a post showing how to programmatically interact with the new NCBI Virus site to obtain sequences:  \n",
    "https://www.biostars.org/p/9562294/   \n",
    "We could use a hybrid approach where the bulk of the sequence data is from the old FTP site and we use the new site to obtain regular updates.\n"
   ]
  }
 ],
 "metadata": {
  "kernelspec": {
   "display_name": "Bash",
   "language": "bash",
   "name": "bash"
  },
  "language_info": {
   "codemirror_mode": "shell",
   "file_extension": ".sh",
   "mimetype": "text/x-sh",
   "name": "bash"
  }
 },
 "nbformat": 4,
 "nbformat_minor": 5
}
