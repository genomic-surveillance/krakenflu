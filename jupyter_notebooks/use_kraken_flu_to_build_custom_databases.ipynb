{
 "cells": [
  {
   "cell_type": "markdown",
   "id": "449d2875-90d1-4be3-b171-504793393b8e",
   "metadata": {},
   "source": [
    "# Build custom databases with segmented flu genomes using kraken_flu utility\n",
    "A new utilty [kraken_flu](https://gitlab.internal.sanger.ac.uk/malariagen1/misc_utils/kraken_flu) was created to generate Kraken2 databases with segmented flu genomes from any set of input files (either from kraken2 or directly from NCBI).\n",
    "\n",
    "The tool identifies influenza A H1N1, A H3N2 and B in the genome fasta file and creates new artificial taxa in the taxonomy files of the database build. Each segment of any of the viruses of interest is assign the original whole genome as the parent and will be listed as a new taxon in the Kraken2 output files."
   ]
  },
  {
   "cell_type": "markdown",
   "id": "8b3809bc-5157-4cf4-9bdf-d69662081a87",
   "metadata": {},
   "source": [
    "# install the kraken_flu tool\n",
    "The tool can be installed from local gitlab. Creating a venv for it."
   ]
  },
  {
   "cell_type": "code",
   "execution_count": 27,
   "id": "cfed0e0a-8a1c-45e2-9eac-d9b206f74337",
   "metadata": {
    "collapsed": true,
    "jupyter": {
     "outputs_hidden": true
    }
   },
   "outputs": [
    {
     "name": "stdout",
     "output_type": "stream",
     "text": [
      "Collecting kraken_flu@ git+ssh://****@gitlab.internal.sanger.ac.uk/malariagen1/misc_utils/kraken_flu.git\n",
      "  Cloning ssh://****@gitlab.internal.sanger.ac.uk/malariagen1/misc_utils/kraken_flu.git to /tmp/pip-install-1czikc84/kraken-flu_e04ea4d0e306496fadd281fe42d9687d\n",
      "  Running command git clone --filter=blob:none --quiet 'ssh://****@gitlab.internal.sanger.ac.uk/malariagen1/misc_utils/kraken_flu.git' /tmp/pip-install-1czikc84/kraken-flu_e04ea4d0e306496fadd281fe42d9687d\n",
      "  Resolved ssh://****@gitlab.internal.sanger.ac.uk/malariagen1/misc_utils/kraken_flu.git to commit 277e12048c3b39c50d23bcc55f7573051872efc3\n",
      "  Installing build dependencies ... \u001b[?25ldone\n",
      "\u001b[?25h  Getting requirements to build wheel ... \u001b[?25ldone\n",
      "\u001b[?25h  Preparing metadata (pyproject.toml) ... \u001b[?25ldone\n",
      "\u001b[?25hRequirement already satisfied: pytest>=6.2.2 in /nfs/users/nfs_f/fs5/kraken_flu/lib/python3.11/site-packages (from kraken_flu@ git+ssh://git@gitlab.internal.sanger.ac.uk/malariagen1/misc_utils/kraken_flu.git) (7.4.3)\n",
      "Requirement already satisfied: importlib-resources>=5.1.0 in /nfs/users/nfs_f/fs5/kraken_flu/lib/python3.11/site-packages (from kraken_flu@ git+ssh://git@gitlab.internal.sanger.ac.uk/malariagen1/misc_utils/kraken_flu.git) (6.1.1)\n",
      "Requirement already satisfied: cached-property>=1.5.2 in /nfs/users/nfs_f/fs5/kraken_flu/lib/python3.11/site-packages (from kraken_flu@ git+ssh://git@gitlab.internal.sanger.ac.uk/malariagen1/misc_utils/kraken_flu.git) (1.5.2)\n",
      "Requirement already satisfied: biopython>=1.80 in /nfs/users/nfs_f/fs5/kraken_flu/lib/python3.11/site-packages (from kraken_flu@ git+ssh://git@gitlab.internal.sanger.ac.uk/malariagen1/misc_utils/kraken_flu.git) (1.81)\n",
      "Requirement already satisfied: numpy in /nfs/users/nfs_f/fs5/kraken_flu/lib/python3.11/site-packages (from biopython>=1.80->kraken_flu@ git+ssh://git@gitlab.internal.sanger.ac.uk/malariagen1/misc_utils/kraken_flu.git) (1.26.2)\n",
      "Requirement already satisfied: iniconfig in /nfs/users/nfs_f/fs5/kraken_flu/lib/python3.11/site-packages (from pytest>=6.2.2->kraken_flu@ git+ssh://git@gitlab.internal.sanger.ac.uk/malariagen1/misc_utils/kraken_flu.git) (2.0.0)\n",
      "Requirement already satisfied: packaging in /nfs/users/nfs_f/fs5/kraken_flu/lib/python3.11/site-packages (from pytest>=6.2.2->kraken_flu@ git+ssh://git@gitlab.internal.sanger.ac.uk/malariagen1/misc_utils/kraken_flu.git) (23.2)\n",
      "Requirement already satisfied: pluggy<2.0,>=0.12 in /nfs/users/nfs_f/fs5/kraken_flu/lib/python3.11/site-packages (from pytest>=6.2.2->kraken_flu@ git+ssh://git@gitlab.internal.sanger.ac.uk/malariagen1/misc_utils/kraken_flu.git) (1.3.0)\n"
     ]
    }
   ],
   "source": [
    "python3 -m venv ~/kraken_flu"
   ]
  },
  {
   "cell_type": "code",
   "execution_count": 58,
   "id": "fdbaf34c-ff05-4da7-b065-c4ff502af6a7",
   "metadata": {},
   "outputs": [
    {
     "name": "stdout",
     "output_type": "stream",
     "text": [
      "Collecting kraken_flu@ git+ssh://****@gitlab.internal.sanger.ac.uk/malariagen1/misc_utils/kraken_flu.git\n",
      "  Cloning ssh://****@gitlab.internal.sanger.ac.uk/malariagen1/misc_utils/kraken_flu.git to /tmp/pip-install-0v5bblyy/kraken-flu_715417f5e65b493b9e990ac9afcfe9ca\n",
      "  Running command git clone --filter=blob:none --quiet 'ssh://****@gitlab.internal.sanger.ac.uk/malariagen1/misc_utils/kraken_flu.git' /tmp/pip-install-0v5bblyy/kraken-flu_715417f5e65b493b9e990ac9afcfe9ca\n",
      "  Resolved ssh://****@gitlab.internal.sanger.ac.uk/malariagen1/misc_utils/kraken_flu.git to commit dd586116acc4a5c991beee57f9111e83a77c7936\n",
      "  Installing build dependencies ... \u001b[?25ldone\n",
      "\u001b[?25h  Getting requirements to build wheel ... \u001b[?25ldone\n",
      "\u001b[?25h  Preparing metadata (pyproject.toml) ... \u001b[?25ldone\n",
      "\u001b[?25hRequirement already satisfied: pytest>=6.2.2 in /nfs/users/nfs_f/fs5/kraken_flu/lib/python3.11/site-packages (from kraken_flu@ git+ssh://git@gitlab.internal.sanger.ac.uk/malariagen1/misc_utils/kraken_flu.git) (7.4.3)\n",
      "Requirement already satisfied: importlib-resources>=5.1.0 in /nfs/users/nfs_f/fs5/kraken_flu/lib/python3.11/site-packages (from kraken_flu@ git+ssh://git@gitlab.internal.sanger.ac.uk/malariagen1/misc_utils/kraken_flu.git) (6.1.1)\n",
      "Requirement already satisfied: cached-property>=1.5.2 in /nfs/users/nfs_f/fs5/kraken_flu/lib/python3.11/site-packages (from kraken_flu@ git+ssh://git@gitlab.internal.sanger.ac.uk/malariagen1/misc_utils/kraken_flu.git) (1.5.2)\n",
      "Requirement already satisfied: biopython>=1.80 in /nfs/users/nfs_f/fs5/kraken_flu/lib/python3.11/site-packages (from kraken_flu@ git+ssh://git@gitlab.internal.sanger.ac.uk/malariagen1/misc_utils/kraken_flu.git) (1.81)\n",
      "Requirement already satisfied: numpy in /nfs/users/nfs_f/fs5/kraken_flu/lib/python3.11/site-packages (from biopython>=1.80->kraken_flu@ git+ssh://git@gitlab.internal.sanger.ac.uk/malariagen1/misc_utils/kraken_flu.git) (1.26.2)\n",
      "Requirement already satisfied: iniconfig in /nfs/users/nfs_f/fs5/kraken_flu/lib/python3.11/site-packages (from pytest>=6.2.2->kraken_flu@ git+ssh://git@gitlab.internal.sanger.ac.uk/malariagen1/misc_utils/kraken_flu.git) (2.0.0)\n",
      "Requirement already satisfied: packaging in /nfs/users/nfs_f/fs5/kraken_flu/lib/python3.11/site-packages (from pytest>=6.2.2->kraken_flu@ git+ssh://git@gitlab.internal.sanger.ac.uk/malariagen1/misc_utils/kraken_flu.git) (23.2)\n",
      "Requirement already satisfied: pluggy<2.0,>=0.12 in /nfs/users/nfs_f/fs5/kraken_flu/lib/python3.11/site-packages (from pytest>=6.2.2->kraken_flu@ git+ssh://git@gitlab.internal.sanger.ac.uk/malariagen1/misc_utils/kraken_flu.git) (1.3.0)\n",
      "Building wheels for collected packages: kraken_flu\n",
      "  Building wheel for kraken_flu (pyproject.toml) ... \u001b[?25ldone\n",
      "\u001b[?25h  Created wheel for kraken_flu: filename=kraken_flu-0.1.dev20+gdd58611-py2.py3-none-any.whl size=12411 sha256=b26af3a9cd85b78a512c1604167927eea9ce865a447a61aba93b0e8377fc28eb\n",
      "  Stored in directory: /tmp/pip-ephem-wheel-cache-rsgber8r/wheels/36/3d/a4/e69d3d0a667ae4fbdd235a419321c7e4986b2c2df02ecdb5de\n",
      "Successfully built kraken_flu\n",
      "Installing collected packages: kraken_flu\n",
      "  Attempting uninstall: kraken_flu\n",
      "    Found existing installation: kraken-flu 0.1.dev18+gda7d892\n",
      "    Uninstalling kraken-flu-0.1.dev18+gda7d892:\n",
      "      Successfully uninstalled kraken-flu-0.1.dev18+gda7d892\n",
      "Successfully installed kraken_flu-0.1.dev20+gdd58611\n"
     ]
    }
   ],
   "source": [
    "~/kraken_flu/bin/pip install kraken_flu@git+ssh://git@gitlab.internal.sanger.ac.uk/malariagen1/misc_utils/kraken_flu.git"
   ]
  },
  {
   "cell_type": "code",
   "execution_count": 59,
   "id": "366170ea-898f-40f3-a7f6-5f538bf89edd",
   "metadata": {},
   "outputs": [
    {
     "name": "stdout",
     "output_type": "stream",
     "text": [
      "kraken_flu 0.1.dev20+gdd58611\n"
     ]
    }
   ],
   "source": [
    "~/kraken_flu/bin/kraken_flu -v"
   ]
  },
  {
   "cell_type": "markdown",
   "id": "4fb60a1f-ea06-4f7a-9e7e-adf8681e0ba5",
   "metadata": {},
   "source": [
    "## Download common data\n",
    "The following data will be used by several subsequent database builds. The individual databases will be using copies of the relevant files in these download direcotries so we do not have to keep re-downloading the large files involved."
   ]
  },
  {
   "cell_type": "markdown",
   "id": "abd0269f-b5be-4932-9a52-fe17a446b832",
   "metadata": {},
   "source": [
    "### Download NCBI taxonomy data\n",
    "Use the kraken2 build tool to download taxonomy files from [NCBI](https://ftp.ncbi.nlm.nih.gov/pub/taxonomy/). These files will be needed for all database builds."
   ]
  },
  {
   "cell_type": "code",
   "execution_count": 14,
   "id": "bf32061c-f847-44e2-80b6-64dbbf26aec4",
   "metadata": {},
   "outputs": [
    {
     "name": "stdout",
     "output_type": "stream",
     "text": [
      "        Module loaded. For more information run 'module help kraken2/2.1.2'.\u001b[m\n",
      "        - By default, kraken2 will search for named databases in /data/pam/softw\u001b[mare/kraken2 and the current working directory. The full path to\u001b[m\n",
      "        any database can also be used.\u001b[m\n",
      "        - `kraken2-build` commands will sometimes experience an error suggesting\u001b[m that it is not possible to download a library using rsync. While the option --u\u001b[mse-ftp\u001b[m\n",
      "        may fix this, rsync tends to be faster and more reliable. Try re-running\u001b[m the `kraken2-build` command until the download is successful. Note that `kraken\u001b[m2-build`\u001b[m\n",
      "        will produce checkpoints during the installation process and will restar\u001b[mt at the last successful step.\u001b[m\n",
      "        - If `kraken2-build build` freezes or hangs indefinitely, using the `--f\u001b[mast-build` option may help. An earlier version of the software (if available) ma\u001b[my also\u001b[m\n",
      "        allow the build step to proceed successfully.\u001b[m\n",
      "\u001b[K\u001b[?1l\u001b>\n"
     ]
    }
   ],
   "source": [
    "module load kraken2/2.1.2"
   ]
  },
  {
   "cell_type": "code",
   "execution_count": 4,
   "id": "01cf368e-add0-403c-a1ce-264293cbba88",
   "metadata": {},
   "outputs": [],
   "source": [
    "export BASE_DIR=/lustre/scratch126/gsu/team112/personal/fs5/rvi_dev/krakenDBs/kraken_flu/"
   ]
  },
  {
   "cell_type": "code",
   "execution_count": 7,
   "id": "e49725ab-4663-4556-90bd-d80678e3ee45",
   "metadata": {},
   "outputs": [],
   "source": [
    "mkdir -p ${BASE_DIR}"
   ]
  },
  {
   "cell_type": "code",
   "execution_count": 5,
   "id": "1337982b-77ba-4e91-91e0-b64d7b68cd85",
   "metadata": {},
   "outputs": [],
   "source": [
    "export TAX_PATH=${BASE_DIR}/taxonomy_download/"
   ]
  },
  {
   "cell_type": "code",
   "execution_count": 6,
   "id": "6cd524c1-6c73-4a08-b547-d91fb225f965",
   "metadata": {},
   "outputs": [],
   "source": [
    "export LIB_PATH_VIR=${BASE_DIR}/library_download_viral/"
   ]
  },
  {
   "cell_type": "code",
   "execution_count": 10,
   "id": "ebd270f8-9a36-41fb-8712-658b5eb8575c",
   "metadata": {},
   "outputs": [],
   "source": [
    "mkdir -p {$TAX_PATH}\n",
    "mkdir -p ${LIB_PATH_VIR}"
   ]
  },
  {
   "cell_type": "code",
   "execution_count": 11,
   "id": "f52c018e-8d25-4c1f-9088-4cce14e3c5f6",
   "metadata": {},
   "outputs": [
    {
     "name": "stdout",
     "output_type": "stream",
     "text": [
      "Downloading nucleotide gb accession to taxon map... done.\n",
      "Downloading nucleotide wgs accession to taxon map... done.\n",
      "Downloaded accession to taxon map(s)\n",
      "Downloading taxonomy tree data... done.\n",
      "Uncompressing taxonomy data... done.\n",
      "Untarring taxonomy tree data... done.\n"
     ]
    }
   ],
   "source": [
    "kraken2-build --download-taxonomy --db ${TAX_PATH}"
   ]
  },
  {
   "cell_type": "code",
   "execution_count": 12,
   "id": "f98fbb1c-bbb4-4a87-bd54-eb8de4fda887",
   "metadata": {},
   "outputs": [
    {
     "name": "stdout",
     "output_type": "stream",
     "text": [
      "Step 1/2: Performing rsync file transfer of requested files\n",
      "Rsync file transfer complete.\n",
      "Step 2/2: Assigning taxonomic IDs to sequences\n",
      "Processed 14972 projects (18639 sequences, 549.88 Mbp)... done.\n",
      "All files processed, cleaning up extra sequence files... done, library complete.\n",
      "Masking low-complexity regions of downloaded library... done.\n"
     ]
    }
   ],
   "source": [
    "kraken2-build \\\n",
    "    --download-library viral \\\n",
    "    --db ${LIB_PATH_VIR}"
   ]
  },
  {
   "cell_type": "markdown",
   "id": "26eaff8a-edf9-4f1d-9536-862e87b48405",
   "metadata": {},
   "source": [
    "___Resulting files:___\n",
    "These are the files created by the downloads. The file library.fna is the genome sequence file. As this was downloaded from a kraken2 pre-built repository of refseq, the FASTA headers already contain taxonomy IDs, which will be modified by the kranek_flu tool.\n"
   ]
  },
  {
   "cell_type": "code",
   "execution_count": 7,
   "id": "542950ea-ad8a-4c80-aa17-e40e9fb2b638",
   "metadata": {},
   "outputs": [
    {
     "name": "stdout",
     "output_type": "stream",
     "text": [
      "/lustre/scratch126/gsu/team112/personal/fs5/rvi_dev/krakenDBs/kraken_flu/\n",
      "├── db1-allrefseq_wo_human\n",
      "│   ├── library\n",
      "│   │   └── library.fna\n",
      "│   └── taxonomy\n",
      "│       ├── modes.dmp\n",
      "│       └── names.dmp\n",
      "├── library_download_viral\n",
      "│   └── library\n",
      "│       └── viral\n",
      "│           ├── assembly_summary.txt\n",
      "│           ├── library.fna\n",
      "│           ├── library.fna.masked\n",
      "│           ├── manifest.txt\n",
      "│           └── prelim_map.txt\n",
      "└── taxonomy_download\n",
      "    └── taxonomy\n",
      "        ├── accmap.dlflag\n",
      "        ├── citations.dmp\n",
      "        ├── delnodes.dmp\n",
      "        ├── division.dmp\n",
      "        ├── gc.prt\n",
      "        ├── gencode.dmp\n",
      "        ├── images.dmp\n",
      "        ├── merged.dmp\n",
      "        ├── names.dmp\n",
      "        ├── nodes.dmp\n",
      "        ├── nucl_gb.accession2taxid\n",
      "        ├── nucl_wgs.accession2taxid\n",
      "        ├── readme.txt\n",
      "        ├── taxdump.dlflag\n",
      "        ├── taxdump.tar.gz\n",
      "        └── taxdump.untarflag\n",
      "\n",
      "8 directories, 24 files\n"
     ]
    }
   ],
   "source": [
    "tree ${BASE_DIR}"
   ]
  },
  {
   "cell_type": "markdown",
   "id": "57c75003-6207-411b-a647-0265ba8625b2",
   "metadata": {},
   "source": [
    "# Use kraken_flu to create a database with all of viral refseq\n",
    "The tool will convert the taxonomy and library files and write the modified copies to a new directory. The modified files will have new taxon IDs in the FASTA header for all flu A H1N1, A H3N2 and B viral genome sequences. The pattern is currently hardcoded into the tool but can be easily extended to cover other viruses."
   ]
  },
  {
   "cell_type": "code",
   "execution_count": 60,
   "id": "af3aed3a-37bd-4918-8571-c3a652efc439",
   "metadata": {},
   "outputs": [
    {
     "name": "stdout",
     "output_type": "stream",
     "text": [
      "2023-12-18 16:52:53,797 writing modified FASTA file to /lustre/scratch126/gsu/team112/personal/fs5/rvi_dev/krakenDBs/kraken_flu//db1-allrefseq_wo_human/library/library.fna\n",
      "2023-12-18 16:52:53,812 scanning file /lustre/scratch126/gsu/team112/personal/fs5/rvi_dev/krakenDBs/kraken_flu//library_download_viral//library/viral/library.fna for influenza viruses\n",
      "2023-12-18 16:52:57,121 done - found 32 segment sequences in FASTA file\n",
      "2023-12-18 16:53:03,534 finished writing modified FASTA file\n",
      "2023-12-18 16:53:03,537 writing modified prelim_map.txt file to /lustre/scratch126/gsu/team112/personal/fs5/rvi_dev/krakenDBs/kraken_flu//db1-allrefseq_wo_human/library/prelim_map.txt\n",
      "2023-12-18 16:53:03,594 finished writing modified prelim_map.txt file\n",
      "2023-12-18 16:53:04,298 writing modified names file to /lustre/scratch126/gsu/team112/personal/fs5/rvi_dev/krakenDBs/kraken_flu//db1-allrefseq_wo_human/taxonomy/names.dmp\n",
      "2023-12-18 16:53:04,495 finished writing modified names file\n",
      "2023-12-18 16:53:05,086 writing modified nodes file to /lustre/scratch126/gsu/team112/personal/fs5/rvi_dev/krakenDBs/kraken_flu//db1-allrefseq_wo_human/taxonomy/nodes.dmp\n",
      "2023-12-18 16:53:05,200 finished writing modified nodes file\n"
     ]
    }
   ],
   "source": [
    "# FORCE DELETE any existing direcotry\n",
    "rm -rf ${BASE_DIR}/db1-allrefseq_wo_human\n",
    "\n",
    "# run the utility\n",
    "~/kraken_flu/bin/kraken_flu \\\n",
    "    --library_path ${LIB_PATH_VIR}/library/viral/ \\\n",
    "    --taxonomy_path ${TAX_PATH}/taxonomy \\\n",
    "    --out_dir ${BASE_DIR}/db1-allrefseq_wo_human"
   ]
  },
  {
   "cell_type": "code",
   "execution_count": 61,
   "id": "3af748aa-9318-4a53-b969-3ccdd1fec8e2",
   "metadata": {},
   "outputs": [
    {
     "name": "stdout",
     "output_type": "stream",
     "text": [
      "/lustre/scratch126/gsu/team112/personal/fs5/rvi_dev/krakenDBs/kraken_flu//db1-allrefseq_wo_human\n",
      "├── library\n",
      "│   ├── library.fna\n",
      "│   └── prelim_map.txt\n",
      "└── taxonomy\n",
      "    ├── names.dmp\n",
      "    └── nodes.dmp\n",
      "\n",
      "2 directories, 4 files\n"
     ]
    }
   ],
   "source": [
    "tree ${BASE_DIR}/db1-allrefseq_wo_human"
   ]
  },
  {
   "cell_type": "markdown",
   "id": "da6737ed-3a94-45ac-a180-683a8f68787f",
   "metadata": {},
   "source": [
    "show the tail of the new names file which now contains segments as new names"
   ]
  },
  {
   "cell_type": "code",
   "execution_count": 49,
   "id": "06db0eb0-06d5-4c93-9934-e9d5e41469de",
   "metadata": {},
   "outputs": [
    {
     "name": "stdout",
     "output_type": "stream",
     "text": [
      "3108293\t|\tNC_002016.1 Influenza A virus (A/Puerto Rico/8/1934(H1N1)) segment 7, complete sequence\t|\t\t|\tscientific name\t|\n",
      "3108294\t|\tNC_002020.1 Influenza A virus (A/Puerto Rico/8/1934(H1N1)) segment 8, complete sequence\t|\t\t|\tscientific name\t|\n",
      "3108295\t|\tNC_026438.1 Influenza A virus (A/California/07/2009(H1N1)) segment 1 polymerase PB2 (PB2) gene, complete cds\t|\t\t|\tscientific name\t|\n",
      "3108296\t|\tNC_026435.1 Influenza A virus (A/California/07/2009(H1N1)) segment 2 polymerase PB1 (PB1) gene, complete cds; and nonfunctional PB1-F2 protein (PB1-F2) gene, complete sequence\t|\t\t|\tscientific name\t|\n",
      "3108297\t|\tNC_026437.1 Influenza A virus (A/California/07/2009(H1N1)) segment 3 polymerase PA (PA) gene, complete cds\t|\t\t|\tscientific name\t|\n",
      "3108298\t|\tNC_026433.1 Influenza A virus (A/California/07/2009(H1N1)) segment 4 hemagglutinin (HA) gene, complete cds\t|\t\t|\tscientific name\t|\n",
      "3108299\t|\tNC_026436.1 Influenza A virus (A/California/07/2009(H1N1)) segment 5 nucleocapsid protein (NP) gene, complete cds\t|\t\t|\tscientific name\t|\n",
      "3108300\t|\tNC_026434.1 Influenza A virus (A/California/07/2009(H1N1)) segment 6 neuraminidase (NA) gene, complete cds\t|\t\t|\tscientific name\t|\n",
      "3108301\t|\tNC_026431.1 Influenza A virus (A/California/07/2009(H1N1)) segment 7 matrix protein 2 (M2) and matrix protein 1 (M1) genes, complete cds\t|\t\t|\tscientific name\t|\n",
      "3108302\t|\tNC_026432.1 Influenza A virus (A/California/07/2009(H1N1)) segment 8 nuclear export protein (NEP) and nonstructural protein 1 (NS1) genes, complete cds\t|\t\t|\tscientific name\t|\n"
     ]
    }
   ],
   "source": [
    "tail ${BASE_DIR}/db1-allrefseq_wo_human/taxonomy/names.dmp"
   ]
  },
  {
   "cell_type": "markdown",
   "id": "9107cace-8bdb-4e30-b9fa-eb58cb333318",
   "metadata": {},
   "source": [
    "tail of the nodes file shows the new nodes having been added"
   ]
  },
  {
   "cell_type": "code",
   "execution_count": 50,
   "id": "1417ff40-6921-45da-9ae8-1fc5e5816289",
   "metadata": {},
   "outputs": [
    {
     "name": "stdout",
     "output_type": "stream",
     "text": [
      "3108293\t|\t211044\t|\tno rank\t|\t\t|\t9\t|\t1\t|\t1\t|\t1\t|\t0\t|\t1\t|\t1\t|\t\t|\t\t|\n",
      "3108294\t|\t211044\t|\tno rank\t|\t\t|\t9\t|\t1\t|\t1\t|\t1\t|\t0\t|\t1\t|\t1\t|\t\t|\t\t|\n",
      "3108295\t|\t641809\t|\tno rank\t|\t\t|\t9\t|\t1\t|\t1\t|\t1\t|\t0\t|\t1\t|\t1\t|\t\t|\t\t|\n",
      "3108296\t|\t641809\t|\tno rank\t|\t\t|\t9\t|\t1\t|\t1\t|\t1\t|\t0\t|\t1\t|\t1\t|\t\t|\t\t|\n",
      "3108297\t|\t641809\t|\tno rank\t|\t\t|\t9\t|\t1\t|\t1\t|\t1\t|\t0\t|\t1\t|\t1\t|\t\t|\t\t|\n",
      "3108298\t|\t641809\t|\tno rank\t|\t\t|\t9\t|\t1\t|\t1\t|\t1\t|\t0\t|\t1\t|\t1\t|\t\t|\t\t|\n",
      "3108299\t|\t641809\t|\tno rank\t|\t\t|\t9\t|\t1\t|\t1\t|\t1\t|\t0\t|\t1\t|\t1\t|\t\t|\t\t|\n",
      "3108300\t|\t641809\t|\tno rank\t|\t\t|\t9\t|\t1\t|\t1\t|\t1\t|\t0\t|\t1\t|\t1\t|\t\t|\t\t|\n",
      "3108301\t|\t641809\t|\tno rank\t|\t\t|\t9\t|\t1\t|\t1\t|\t1\t|\t0\t|\t1\t|\t1\t|\t\t|\t\t|\n",
      "3108302\t|\t641809\t|\tno rank\t|\t\t|\t9\t|\t1\t|\t1\t|\t1\t|\t0\t|\t1\t|\t1\t|\t\t|\t\t|\n"
     ]
    }
   ],
   "source": [
    "tail ${BASE_DIR}/db1-allrefseq_wo_human/taxonomy/nodes.dmp"
   ]
  },
  {
   "cell_type": "markdown",
   "id": "141b4642-858e-4898-848a-71dfe23505b1",
   "metadata": {},
   "source": [
    "show the modified FASTA headers for the H1N1 sequences"
   ]
  },
  {
   "cell_type": "code",
   "execution_count": 63,
   "id": "90e3e0e5-6434-4dce-bd0b-07cf0ad3d462",
   "metadata": {},
   "outputs": [
    {
     "name": "stdout",
     "output_type": "stream",
     "text": [
      ">kraken:taxid|3108287|NC_002023.1 Influenza A virus (A/Puerto Rico/8/1934(H1N1)) segment 1, complete sequence\n",
      ">kraken:taxid|3108288|NC_002021.1 Influenza A virus (A/Puerto Rico/8/1934(H1N1)) segment 2, complete sequence\n",
      ">kraken:taxid|3108289|NC_002022.1 Influenza A virus (A/Puerto Rico/8/1934(H1N1)) segment 3, complete sequence\n",
      ">kraken:taxid|3108290|NC_002017.1 Influenza A virus (A/Puerto Rico/8/1934(H1N1)) segment 4, complete sequence\n",
      ">kraken:taxid|3108291|NC_002019.1 Influenza A virus (A/Puerto Rico/8/1934(H1N1)) segment 5, complete sequence\n",
      ">kraken:taxid|3108292|NC_002018.1 Influenza A virus (A/Puerto Rico/8/1934(H1N1)) segment 6, complete sequence\n",
      ">kraken:taxid|3108293|NC_002016.1 Influenza A virus (A/Puerto Rico/8/1934(H1N1)) segment 7, complete sequence\n",
      ">kraken:taxid|3108294|NC_002020.1 Influenza A virus (A/Puerto Rico/8/1934(H1N1)) segment 8, complete sequence\n",
      ">kraken:taxid|3108295|NC_026438.1 Influenza A virus (A/California/07/2009(H1N1)) segment 1 polymerase PB2 (PB2) gene, complete cds\n",
      ">kraken:taxid|3108296|NC_026435.1 Influenza A virus (A/California/07/2009(H1N1)) segment 2 polymerase PB1 (PB1) gene, complete cds; and nonfunctional PB1-F2 protein (PB1-F2) gene, complete sequence\n",
      ">kraken:taxid|3108297|NC_026437.1 Influenza A virus (A/California/07/2009(H1N1)) segment 3 polymerase PA (PA) gene, complete cds\n",
      ">kraken:taxid|3108298|NC_026433.1 Influenza A virus (A/California/07/2009(H1N1)) segment 4 hemagglutinin (HA) gene, complete cds\n",
      ">kraken:taxid|3108299|NC_026436.1 Influenza A virus (A/California/07/2009(H1N1)) segment 5 nucleocapsid protein (NP) gene, complete cds\n",
      ">kraken:taxid|3108300|NC_026434.1 Influenza A virus (A/California/07/2009(H1N1)) segment 6 neuraminidase (NA) gene, complete cds\n",
      ">kraken:taxid|3108301|NC_026431.1 Influenza A virus (A/California/07/2009(H1N1)) segment 7 matrix protein 2 (M2) and matrix protein 1 (M1) genes, complete cds\n",
      ">kraken:taxid|3108302|NC_026432.1 Influenza A virus (A/California/07/2009(H1N1)) segment 8 nuclear export protein (NEP) and nonstructural protein 1 (NS1) genes, complete cds\n"
     ]
    }
   ],
   "source": [
    "grep H1N1 ${BASE_DIR}/db1-allrefseq_wo_human/library/library.fna"
   ]
  },
  {
   "cell_type": "markdown",
   "id": "afebf2aa-c1e0-484d-b355-44075433e62f",
   "metadata": {},
   "source": [
    "# Build the new database\n",
    "Use kraken2 build tool to build the final new database from the modified genome and taxonomy files\n"
   ]
  },
  {
   "cell_type": "code",
   "execution_count": 64,
   "id": "62566e18-d928-4683-9661-2c34f0ff935c",
   "metadata": {},
   "outputs": [
    {
     "name": "stdout",
     "output_type": "stream",
     "text": [
      "Creating sequence ID to taxonomy ID map (step 1)...\n",
      "Sequence ID to taxonomy ID map complete. [0.059s]\n",
      "Estimating required capacity (step 2)...\n",
      "Estimated hash table requirement: 648810788 bytes\n",
      "Capacity estimation complete. [20.288s]\n",
      "Building database files (step 3)...\n",
      "Taxonomy parsed and converted.\n",
      "CHT created with 15 bits reserved for taxid.\n",
      "Completed processing of 18639 sequences, 549880780 bp\n",
      "Writing data to disk...  complete.\n",
      "Database files completed. [2m31.032s]\n",
      "Database construction complete. [Total: 2m51.403s]\n"
     ]
    }
   ],
   "source": [
    "kraken2-build \\\n",
    "    --build \\\n",
    "    --db ${BASE_DIR}/db1-allrefseq_wo_human"
   ]
  },
  {
   "cell_type": "markdown",
   "id": "4da8b4ad-acef-4d13-9d33-9bed948176cb",
   "metadata": {},
   "source": [
    "# Test the database\n",
    "Using existing simulated reads data to test the new database"
   ]
  },
  {
   "cell_type": "code",
   "execution_count": 29,
   "id": "fdc0956e-255b-4480-9038-faab9b37ba68",
   "metadata": {},
   "outputs": [],
   "source": [
    "export TEST_BASE_DIR=/lustre/scratch126/gsu/team112/personal/fs5/rvi_dev/krakenDBs/kraken_flu_tests/"
   ]
  },
  {
   "cell_type": "code",
   "execution_count": 65,
   "id": "56a718b2-3500-480b-ab01-6e550b5a22d4",
   "metadata": {},
   "outputs": [],
   "source": [
    "rm -rf ${TEST_BASE_DIR}\n",
    "mkdir -p ${TEST_BASE_DIR}"
   ]
  },
  {
   "cell_type": "code",
   "execution_count": 66,
   "id": "b4003ac1-f09b-49aa-84d8-ff5bc59ca7fc",
   "metadata": {},
   "outputs": [
    {
     "name": "stdout",
     "output_type": "stream",
     "text": [
      "Loading database information... done.\n",
      "6620 sequences (1.99 Mbp) processed in 0.366s (1085.5 Kseq/m, 325.65 Mbp/m).\n",
      "  6618 sequences classified (99.97%)\n",
      "  2 sequences unclassified (0.03%)\n"
     ]
    }
   ],
   "source": [
    "kraken2 \\\n",
    "    --db ${BASE_DIR}/db1-allrefseq_wo_human \\\n",
    "    --output ${TEST_BASE_DIR}/output.kraken \\\n",
    "    --paired \\\n",
    "    --classified-out ${TEST_BASE_DIR}/class_seqs#.fq \\\n",
    "    --unclassified-out ${TEST_BASE_DIR}/unclass_seqs#.fq \\\n",
    "    --report ${TEST_BASE_DIR}/report.txt \\\n",
    "/lustre/scratch126/gsu/team112/personal/fs5/rvi_dev/sim_reads/art/mix/mix_of_all_01-1.fq \\\n",
    "/lustre/scratch126/gsu/team112/personal/fs5/rvi_dev/sim_reads/art/mix/mix_of_all_01-2.fq\n"
   ]
  },
  {
   "cell_type": "code",
   "execution_count": 67,
   "id": "3b5b5925-6f5c-4bb3-a7a7-6332507ee011",
   "metadata": {},
   "outputs": [
    {
     "name": "stdout",
     "output_type": "stream",
     "text": [
      "  0.03\t2\t2\tU\t0\tunclassified\n",
      " 99.97\t6618\t0\tR\t1\troot\n",
      " 99.97\t6618\t0\tD\t10239\t  Viruses\n",
      " 99.97\t6618\t0\tD1\t2559587\t    Riboviria\n",
      " 99.97\t6618\t0\tK\t2732396\t      Orthornavirae\n",
      " 69.91\t4628\t0\tP\t2497569\t        Negarnaviricota\n",
      " 39.43\t2610\t0\tP1\t2497571\t          Polyploviricotina\n",
      " 39.43\t2610\t0\tC\t2497577\t            Insthoviricetes\n",
      " 39.43\t2610\t0\tO\t2499411\t              Articulavirales\n",
      " 39.43\t2610\t0\tF\t11308\t                Orthomyxoviridae\n",
      " 25.53\t1690\t0\tG\t197911\t                  Alphainfluenzavirus\n",
      " 25.53\t1690\t0\tS\t2955291\t                    Alphainfluenzavirus influenzae\n",
      " 25.53\t1690\t0\tS1\t11320\t                      Influenza A virus\n",
      " 12.84\t850\t0\tS2\t119210\t                        H3N2 subtype\n",
      " 12.84\t850\t0\tS3\t335341\t                          Influenza A virus (A/New York/392/2004(H3N2))\n",
      "  2.27\t150\t150\tS4\t3108271\t                            NC_007373.1 Influenza A virus (A/New York/392/2004(H3N2)) segment 1, complete sequence\n",
      "  2.27\t150\t150\tS4\t3108272\t                            NC_007372.1 Influenza A virus (A/New York/392/2004(H3N2)) segment 2, complete sequence\n",
      "  2.11\t140\t140\tS4\t3108273\t                            NC_007371.1 Influenza A virus (A/New York/392/2004(H3N2)) segment 3, complete sequence\n",
      "  1.66\t110\t110\tS4\t3108274\t                            NC_007366.1 Influenza A virus (A/New York/392/2004(H3N2)) segment 4, complete sequence\n",
      "  1.51\t100\t100\tS4\t3108275\t                            NC_007369.1 Influenza A virus (A/New York/392/2004(H3N2)) segment 5, complete sequence\n",
      "  1.36\t90\t90\tS4\t3108276\t                            NC_007368.1 Influenza A virus (A/New York/392/2004(H3N2)) segment 6, complete sequence\n",
      "  0.91\t60\t60\tS4\t3108277\t                            NC_007367.1 Influenza A virus (A/New York/392/2004(H3N2)) segment 7, complete sequence\n",
      "  0.76\t50\t50\tS4\t3108278\t                            NC_007370.1 Influenza A virus (A/New York/392/2004(H3N2)) segment 8, complete sequence\n",
      " 12.69\t840\t0\tS2\t114727\t                        H1N1 subtype\n",
      " 12.69\t840\t0\tS3\t641809\t                          Influenza A virus (A/California/07/2009(H1N1))\n",
      "  2.27\t150\t150\tS4\t3108295\t                            NC_026438.1 Influenza A virus (A/California/07/2009(H1N1)) segment 1 polymerase PB2 (PB2) gene, complete cds\n",
      "  2.27\t150\t150\tS4\t3108296\t                            NC_026435.1 Influenza A virus (A/California/07/2009(H1N1)) segment 2 polymerase PB1 (PB1) gene, complete cds; and nonfunctional PB1-F2 protein (PB1-F2) gene, complete sequence\n",
      "  2.11\t140\t140\tS4\t3108297\t                            NC_026437.1 Influenza A virus (A/California/07/2009(H1N1)) segment 3 polymerase PA (PA) gene, complete cds\n",
      "  1.66\t110\t110\tS4\t3108298\t                            NC_026433.1 Influenza A virus (A/California/07/2009(H1N1)) segment 4 hemagglutinin (HA) gene, complete cds\n",
      "  1.36\t90\t90\tS4\t3108299\t                            NC_026436.1 Influenza A virus (A/California/07/2009(H1N1)) segment 5 nucleocapsid protein (NP) gene, complete cds\n",
      "  1.36\t90\t90\tS4\t3108300\t                            NC_026434.1 Influenza A virus (A/California/07/2009(H1N1)) segment 6 neuraminidase (NA) gene, complete cds\n",
      "  0.91\t60\t60\tS4\t3108301\t                            NC_026431.1 Influenza A virus (A/California/07/2009(H1N1)) segment 7 matrix protein 2 (M2) and matrix protein 1 (M1) genes, complete cds\n",
      "  0.76\t50\t50\tS4\t3108302\t                            NC_026432.1 Influenza A virus (A/California/07/2009(H1N1)) segment 8 nuclear export protein (NEP) and nonstructural protein 1 (NS1) genes, complete cds\n",
      " 13.90\t920\t0\tG\t197912\t                  Betainfluenzavirus\n",
      " 13.90\t920\t0\tS\t2955465\t                    Betainfluenzavirus influenzae\n",
      " 13.90\t920\t0\tS1\t11520\t                      Influenza B virus\n",
      " 13.90\t920\t0\tS2\t518987\t                        Influenza B virus (B/Lee/1940)\n",
      "  2.27\t150\t150\tS3\t3108279\t                          NC_002205.1 Influenza B virus (B/Lee/1940) segment 2, complete sequence\n",
      "  2.27\t150\t150\tS3\t3108286\t                          NC_002204.1 Influenza B virus RNA 1, complete sequence\n",
      "  2.11\t140\t140\tS3\t3108280\t                          NC_002206.1 Influenza B virus (B/Lee/1940) segment 3, complete sequence\n",
      "  1.81\t120\t120\tS3\t3108281\t                          NC_002207.1 Influenza B virus (B/Lee/1940) segment 4, complete sequence\n",
      "  1.81\t120\t120\tS3\t3108282\t                          NC_002208.1 Influenza B virus (B/Lee/1940) segment 5, complete sequence\n",
      "  1.51\t100\t100\tS3\t3108283\t                          NC_002209.1 Influenza B virus (B/Lee/1940) segment 6, complete sequence\n",
      "  1.06\t70\t70\tS3\t3108284\t                          NC_002210.1 Influenza B virus (B/Lee/1940) segment 7, complete sequence\n",
      "  1.06\t70\t70\tS3\t3108285\t                          NC_002211.1 Influenza B virus (B/Lee/1940) segment 8, complete sequence\n",
      " 30.48\t2018\t0\tP1\t2497570\t          Haploviricotina\n",
      " 30.48\t2018\t0\tC\t2497574\t            Monjiviricetes\n",
      " 30.48\t2018\t0\tO\t11157\t              Mononegavirales\n",
      " 30.48\t2018\t0\tF\t11244\t                Pneumoviridae\n",
      " 30.48\t2018\t2\tG\t1868215\t                  Orthopneumovirus\n",
      " 15.24\t1009\t0\tS\t3049954\t                    Orthopneumovirus hominis\n",
      " 15.24\t1009\t1009\tS1\t11250\t                      Human orthopneumovirus\n",
      " 15.21\t1007\t0\tS\t3050248\t                    Orthopneumovirus bovis\n",
      " 15.21\t1007\t0\tS1\t11246\t                      Bovine orthopneumovirus\n",
      " 15.21\t1007\t1007\tS2\t12814\t                        Respiratory syncytial virus\n",
      " 30.06\t1990\t0\tP\t2732408\t        Pisuviricota\n",
      " 30.06\t1990\t0\tC\t2732506\t          Pisoniviricetes\n",
      " 30.06\t1990\t0\tO\t76804\t            Nidovirales\n",
      " 30.06\t1990\t0\tO1\t2499399\t              Cornidovirineae\n",
      " 30.06\t1990\t0\tF\t11118\t                Coronaviridae\n",
      " 30.06\t1990\t0\tF1\t2501931\t                  Orthocoronavirinae\n",
      " 30.06\t1990\t0\tG\t694002\t                    Betacoronavirus\n",
      " 30.06\t1990\t0\tG1\t2509511\t                      Sarbecovirus\n",
      " 30.06\t1990\t0\tS\t694009\t                        Severe acute respiratory syndrome-related coronavirus\n",
      " 30.06\t1990\t1990\tS1\t2697049\t                          Severe acute respiratory syndrome coronavirus 2\n"
     ]
    }
   ],
   "source": [
    "cat ${TEST_BASE_DIR}/report.txt"
   ]
  }
 ],
 "metadata": {
  "kernelspec": {
   "display_name": "Bash",
   "language": "bash",
   "name": "bash"
  },
  "language_info": {
   "codemirror_mode": "shell",
   "file_extension": ".sh",
   "mimetype": "text/x-sh",
   "name": "bash"
  }
 },
 "nbformat": 4,
 "nbformat_minor": 5
}
